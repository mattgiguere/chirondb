{
 "metadata": {
  "name": "",
  "signature": "sha256:76d8019f2b4799b33710cf62963c8d41f796322a29d1f0bc0ab99dd8bca9b9a3"
 },
 "nbformat": 3,
 "nbformat_minor": 0,
 "worksheets": [
  {
   "cells": [
    {
     "cell_type": "heading",
     "level": 1,
     "metadata": {},
     "source": [
      "chirondb"
     ]
    },
    {
     "cell_type": "heading",
     "level": 3,
     "metadata": {},
     "source": [
      "A guide to working with the CHIRON MySQL database from within Python"
     ]
    },
    {
     "cell_type": "raw",
     "metadata": {},
     "source": [
      "This document goes over how to create the chiron MySQL databases from within Python."
     ]
    },
    {
     "cell_type": "code",
     "collapsed": false,
     "input": [
      "%pylab inline"
     ],
     "language": "python",
     "metadata": {},
     "outputs": [
      {
       "output_type": "stream",
       "stream": "stdout",
       "text": [
        "Populating the interactive namespace from numpy and matplotlib\n"
       ]
      }
     ],
     "prompt_number": 21
    },
    {
     "cell_type": "code",
     "collapsed": false,
     "input": [
      "import pymysql\n",
      "from __future__ import print_function\n",
      "import subprocess\n",
      "from collections import OrderedDict"
     ],
     "language": "python",
     "metadata": {},
     "outputs": [],
     "prompt_number": 81
    },
    {
     "cell_type": "code",
     "collapsed": false,
     "input": [
      "#retrieve credentials:\n",
      "cmd = 'echo $AeroFSdir'\n",
      "#read in the AeroFSdir string and \n",
      "#chop off the newline character at the end\n",
      "cdir = subprocess.check_output(cmd, shell=True)\n",
      "cdir = cdir[0:len(cdir)-1]\n",
      "print(cdir)"
     ],
     "language": "python",
     "metadata": {},
     "outputs": [
      {
       "output_type": "stream",
       "stream": "stdout",
       "text": [
        "/Users/matt/AeroFS/\n"
       ]
      }
     ],
     "prompt_number": 82
    },
    {
     "cell_type": "code",
     "collapsed": false,
     "input": [
      "credsf = open(cdir+'.credentials/SQL/csaye', 'r')\n",
      "creds = credsf.read().split('\\n')"
     ],
     "language": "python",
     "metadata": {},
     "outputs": [],
     "prompt_number": 83
    },
    {
     "cell_type": "code",
     "collapsed": false,
     "input": [
      "conn = pymysql.connect(host=creds[0], port=int(creds[1]), user=creds[2], passwd=creds[3], db=creds[4])\n",
      "cur = conn.cursor()"
     ],
     "language": "python",
     "metadata": {},
     "outputs": [],
     "prompt_number": 84
    },
    {
     "cell_type": "code",
     "collapsed": false,
     "input": [
      "cur.execute(\"SHOW TABLES\")\n",
      "print(cur.description)"
     ],
     "language": "python",
     "metadata": {},
     "outputs": [
      {
       "output_type": "stream",
       "stream": "stdout",
       "text": [
        "((u'Tables_in_chirondb', 253, None, 64, 64, 0, 0),)\n"
       ]
      }
     ],
     "prompt_number": 85
    },
    {
     "cell_type": "code",
     "collapsed": false,
     "input": [
      "for row in cur.fetchall():\n",
      "    print(row[0])"
     ],
     "language": "python",
     "metadata": {},
     "outputs": [
      {
       "output_type": "stream",
       "stream": "stdout",
       "text": [
        "access\n",
        "alloc_users\n",
        "allocs\n",
        "cycles\n",
        "deckers\n",
        "nos\n",
        "nos_objects\n",
        "nos_results\n",
        "object_notes\n",
        "object_tarfiles\n",
        "object_times\n",
        "objects\n",
        "observations\n",
        "plans\n",
        "proposals\n",
        "registers\n",
        "script_notes\n",
        "script_objs\n",
        "scripts\n",
        "section_functions\n",
        "sections\n",
        "semesters\n",
        "users\n"
       ]
      }
     ],
     "prompt_number": 86
    },
    {
     "cell_type": "markdown",
     "metadata": {},
     "source": [
      "The `get_tables` routine creates variables housing all the table names and the fields that go in each table. The fields are identical to the FITS header keywords with only a few exceptions.\n",
      "\n",
      "* **date_obs**: I had to change this field to `date-obs`. This was because MySQL cannot have a dash ('-') in field names.\n",
      "* **dec**: `DEC` is the MySQL keyword for a decimal, and hence cannot be used for a field name. This was changed to `obs_dec`.\n",
      "* **ra**: For consistency with the dec, I changed the `ra` to `obs_ra`."
     ]
    },
    {
     "cell_type": "code",
     "collapsed": false,
     "input": [
      "def getTables():\n",
      "    \"\"\"PURPOSE: To create the CHIRON MySQL database.\"\"\"\n",
      "\n",
      "    #The new tables in the database:\n",
      "    table_names = ['observations',\n",
      "                   'ccdsections',\n",
      "                   'environment',\n",
      "                   'weather',\n",
      "                   'seeing',\n",
      "                   'exposuremeter',\n",
      "                   'reduction']\n",
      "\n",
      "    table_dict = {}\n",
      "\n",
      "    #observations table:\n",
      "    observationsTable = OrderedDict()\n",
      "    observationsTable['observation_id'] = 'INT AUTO_INCREMENT PRIMARY KEY'\n",
      "    observationsTable['object_id'] = 'INT'\n",
      "    observationsTable['simple'] = 'char(1)'\n",
      "    observationsTable['bitpix'] = 'FLOAT'\n",
      "    observationsTable['naxis'] = 'INT'\n",
      "    observationsTable['naxis1'] = 'INT'\n",
      "    observationsTable['naxis2'] = 'INT'\n",
      "    observationsTable['extend'] = 'char(1)'\n",
      "    observationsTable['bzero'] = 'INT'\n",
      "    observationsTable['bscale'] = 'INT'\n",
      "    observationsTable['object'] = 'varchar(60)'\n",
      "    observationsTable['observer'] = 'varchar(60)'\n",
      "    observationsTable['propid'] = 'INT'\n",
      "    observationsTable['obsid'] = 'varchar(60)'\n",
      "    observationsTable['imagetyp'] = 'varchar(60)'\n",
      "    observationsTable['ccdsum'] = 'varchar(60)'\n",
      "    observationsTable['roireq'] = 'varchar(60)'\n",
      "    observationsTable['utshut'] = 'varchar(60)'\n",
      "    observationsTable['date'] = 'varchar(60)'\n",
      "    observationsTable['nampsyx'] = 'varchar(60)'\n",
      "    observationsTable['amplist'] = 'varchar(60)'\n",
      "    observationsTable['detector'] = 'varchar(60)'\n",
      "    observationsTable['fpa'] = 'varchar(60)'\n",
      "    observationsTable['rexptime'] = 'FLOAT'\n",
      "    observationsTable['exptime'] = 'FLOAT'\n",
      "    observationsTable['texptime'] = 'FLOAT'\n",
      "    observationsTable['darktime'] = 'FLOAT'\n",
      "    observationsTable['nimages'] = 'INT'\n",
      "    observationsTable['dheinf'] = 'varchar(60)'\n",
      "    observationsTable['dhefirm'] = 'varchar(60)'\n",
      "    observationsTable['speedmod'] = 'varchar(60)'\n",
      "    observationsTable['geommod'] = 'varchar(60)'\n",
      "    observationsTable['pixtime'] = 'FLOAT'\n",
      "    observationsTable['powstat'] = 'FLOAT'\n",
      "    observationsTable['fpgafirm'] = 'FLOAT'\n",
      "    observationsTable['slot00'] = 'varchar(60)'\n",
      "    observationsTable['slot01'] = 'varchar(60)'\n",
      "    observationsTable['slot02'] = 'varchar(60)'\n",
      "    observationsTable['slot03'] = 'varchar(60)'\n",
      "    observationsTable['slot04'] = 'varchar(60)'\n",
      "    observationsTable['slot07'] = 'varchar(60)'\n",
      "    observationsTable['slot02'] = 'varchar(60)'\n",
      "    observationsTable['panid'] = 'varchar(60)'\n",
      "    observationsTable['comment'] = 'varchar(60)'\n",
      "    observationsTable['dhsid'] = 'varchar(60)'\n",
      "    observationsTable['deckpos'] = 'FLOAT'\n",
      "    observationsTable['decker'] = 'varchar(60)'\n",
      "    observationsTable['focus'] = 'FLOAT'\n",
      "    observationsTable['maxexp'] = 'INT'\n",
      "    observationsTable['pmhv'] = 'varchar(60)'\n",
      "    observationsTable['complamp'] = 'varchar(60)'\n",
      "    observationsTable['iodcell'] = 'varchar(60)'\n",
      "    observationsTable['observat'] = 'varchar(60)'\n",
      "    observationsTable['telescop'] = 'varchar(60)'\n",
      "    observationsTable['date_obs'] = 'varchar(60)'\n",
      "    observationsTable['ut'] = 'varchar(60)'\n",
      "    observationsTable['obs_ra'] = 'varchar(60)'\n",
      "    observationsTable['obs_dec'] = 'varchar(60)'\n",
      "    observationsTable['epoch'] = 'FLOAT'\n",
      "    observationsTable['alt'] = 'FLOAT'\n",
      "    observationsTable['ha'] = 'FLOAT'\n",
      "    observationsTable['st'] = 'varchar(60)'\n",
      "    observationsTable['zd'] = 'FLOAT'\n",
      "    observationsTable['airmass'] = 'FLOAT'\n",
      "    table_dict[table_names[0]] = observationsTable\n",
      "\n",
      "    #CCD Sections Table\n",
      "    ccdSectionsTable = OrderedDict()\n",
      "    ccdSectionsTable['observation_id'] = 'INT'\n",
      "    ccdSectionsTable['tsec22'] = 'varchar(60)'\n",
      "    ccdSectionsTable['asec22'] = 'varchar(60)'\n",
      "    ccdSectionsTable['csec22'] = 'varchar(60)'\n",
      "    ccdSectionsTable['bsec22'] = 'varchar(60)'\n",
      "    ccdSectionsTable['dsec22'] = 'varchar(60)'\n",
      "    ccdSectionsTable['scsec22'] = 'varchar(60)'\n",
      "    ccdSectionsTable['tsec12'] = 'varchar(60)'\n",
      "    ccdSectionsTable['asec12'] = 'varchar(60)'\n",
      "    ccdSectionsTable['csec12'] = 'varchar(60)'\n",
      "    ccdSectionsTable['bsec12'] = 'varchar(60)'\n",
      "    ccdSectionsTable['dsec12'] = 'varchar(60)'\n",
      "    ccdSectionsTable['scsec12'] = 'varchar(60)'\n",
      "    ccdSectionsTable['tsec11'] = 'varchar(60)'\n",
      "    ccdSectionsTable['asec11'] = 'varchar(60)'\n",
      "    ccdSectionsTable['csec11'] = 'varchar(60)'\n",
      "    ccdSectionsTable['bsec11'] = 'varchar(60)'\n",
      "    ccdSectionsTable['dsec11'] = 'varchar(60)'\n",
      "    ccdSectionsTable['scsec11'] = 'varchar(60)'\n",
      "    ccdSectionsTable['tsec21'] = 'varchar(60)'\n",
      "    ccdSectionsTable['asec21'] = 'varchar(60)'\n",
      "    ccdSectionsTable['csec21'] = 'varchar(60)'\n",
      "    ccdSectionsTable['bsec21'] = 'varchar(60)'\n",
      "    ccdSectionsTable['dsec21'] = 'varchar(60)'\n",
      "    ccdSectionsTable['scsec21'] = 'varchar(60)'\n",
      "    ccdSectionsTable['gain11'] = 'FLOAT'\n",
      "    ccdSectionsTable['ron11'] = 'FLOAT'\n",
      "    ccdSectionsTable['gain12'] = 'FLOAT'\n",
      "    ccdSectionsTable['ron12'] = 'FLOAT'\n",
      "    ccdSectionsTable['gain21'] = 'FLOAT'\n",
      "    ccdSectionsTable['ron21'] = 'FLOAT'\n",
      "    ccdSectionsTable['gain22'] = 'FLOAT'\n",
      "    ccdSectionsTable['ron22'] = 'FLOAT'\n",
      "    table_dict[table_names[1]] = ccdSectionsTable\n",
      "\n",
      "    #Environment Table\n",
      "    environmentTable = OrderedDict()\n",
      "    environmentTable['observation_id'] = 'INT'\n",
      "    environmentTable['ccdtemp'] = 'FLOAT'\n",
      "    environmentTable['necktemp'] = 'FLOAT'\n",
      "    environmentTable['tempgrat'] = 'FLOAT'\n",
      "    environmentTable['temptlow'] = 'FLOAT'\n",
      "    environmentTable['temptcen'] = 'FLOAT'\n",
      "    environmentTable['tempstru'] = 'FLOAT'\n",
      "    environmentTable['tempencl'] = 'FLOAT'\n",
      "    environmentTable['tempcoud'] = 'FLOAT'\n",
      "    environmentTable['tempinst'] = 'FLOAT'\n",
      "    environmentTable['tempiodin'] = 'FLOAT'\n",
      "    environmentTable['dewpress'] = 'FLOAT'\n",
      "    environmentTable['echpress'] = 'FLOAT'\n",
      "    environmentTable['baromete'] = 'FLOAT'\n",
      "    table_dict[table_names[2]] = environmentTable\n",
      "\n",
      "    #Weather Table\n",
      "    weatherTable = OrderedDict()\n",
      "    weatherTable['observation_id'] = 'INT'\n",
      "    weatherTable['wthr_id'] = 'INT'\n",
      "    weatherTable['weatime'] = 'varchar(60)'\n",
      "    weatherTable['weatimejd'] = 'FLOAT'\n",
      "    weatherTable['outtemp'] = 'FLOAT'\n",
      "    weatherTable['outhum'] = 'FLOAT'\n",
      "    weatherTable['outpress'] = 'FLOAT'\n",
      "    weatherTable['wndspeed'] = 'FLOAT'\n",
      "    weatherTable['wnddir'] = 'FLOAT'\n",
      "    table_dict[table_names[3]] = weatherTable\n",
      "\n",
      "    #Seeing Table\n",
      "    seeingTable = OrderedDict()\n",
      "    seeingTable['observation_id'] = 'INT'\n",
      "    seeingTable['see_id'] = 'INT'\n",
      "    seeingTable['seetime'] = 'varchar(60)'\n",
      "    seeingTable['seetimejd'] = 'FLOAT'\n",
      "    seeingTable['seeing'] = 'FLOAT'\n",
      "    seeingTable['sairmass'] = 'FLOAT'\n",
      "    table_dict[table_names[4]] = seeingTable\n",
      "\n",
      "    #Exposure Meter Table\n",
      "    exposureMeterTable = OrderedDict()\n",
      "    exposureMeterTable['observation_id'] = 'INT'\n",
      "    exposureMeterTable['em_id'] = 'INT'\n",
      "    exposureMeterTable['emtimopn'] = 'varchar(60)'\n",
      "    exposureMeterTable['emtimcls'] = 'varchar(60)'\n",
      "    exposureMeterTable['emnumsmp'] = 'INT'\n",
      "    exposureMeterTable['emavg'] = 'FLOAT'\n",
      "    exposureMeterTable['amavgsq'] = 'FLOAT'\n",
      "    exposureMeterTable['emprdsum'] = 'FLOAT'\n",
      "    exposureMeterTable['emnetint'] = 'FLOAT'\n",
      "    exposureMeterTable['emmnwob'] = 'varchar(60)'\n",
      "    exposureMeterTable['emmnwb'] = 'varchar(60)'\n",
      "    exposureMeterTable['thres'] = 'FLOAT'\n",
      "    exposureMeterTable['emtimopnjd'] = 'FLOAT'\n",
      "    exposureMeterTable['emmnwobjd'] = 'FLOAT'\n",
      "    exposureMeterTable['emmnwbjd'] = 'FLOAT'\n",
      "    table_dict[table_names[5]] = exposureMeterTable\n",
      "\n",
      "    #Reduction Table\n",
      "    reductionTable = OrderedDict()\n",
      "    reductionTable['observation_id'] = 'INT'\n",
      "    reductionTable['red_id'] = 'INT'\n",
      "    reductionTable['resolutn'] = 'FLOAT'\n",
      "    reductionTable['thidnlin'] = 'INT'\n",
      "    reductionTable['tharfnam'] = 'varchar(60)'\n",
      "    reductionTable['snrbp5500'] = 'FLOAT'\n",
      "    table_dict[table_names[6]] = reductionTable\n",
      "\n",
      "    return table_names, table_dict\n"
     ],
     "language": "python",
     "metadata": {},
     "outputs": [],
     "prompt_number": 121
    },
    {
     "cell_type": "heading",
     "level": 3,
     "metadata": {},
     "source": [
      "Fetching All of the Preexisting Tables Within a Database"
     ]
    },
    {
     "cell_type": "markdown",
     "metadata": {},
     "source": [
      "This snippet of code shows how to fetch all of the preexisting tables within a database of interest. It also shows how to search within the returned tuple of tables for a table of interest, which will come in handy shortly.\n"
     ]
    },
    {
     "cell_type": "code",
     "collapsed": false,
     "input": [
      "###connect to the database###\n",
      "#retrieve credentials:\n",
      "cmd = 'echo $AeroFSdir'\n",
      "#read in the AeroFSdir string and\n",
      "#chop off the newline character at the end\n",
      "cdir = subprocess.check_output(cmd, shell=True)\n",
      "cdir = cdir[0:len(cdir)-1]\n",
      "credsf = open(cdir+'.credentials/SQL/csaye', 'r')\n",
      "creds = credsf.read().split('\\n')\n",
      "conn = pymysql.connect(host=creds[0],\n",
      "                       port=int(creds[1]),\n",
      "                       user=creds[2],\n",
      "                       passwd=creds[3],\n",
      "                       db=creds[4])\n",
      "cur = conn.cursor()\n",
      "cur.execute(\"SHOW TABLES\")\n",
      "preexistingTables = cur.fetchall()\n",
      "print(('observations',) in preexistingTables)\n",
      "print(not(('hoopla',) in preexistingTables))\n",
      "print(type(preexistingTables))    \n",
      "print(type(preexistingTables[0]))\n",
      "print(type(preexistingTables[0][0]))"
     ],
     "language": "python",
     "metadata": {},
     "outputs": [
      {
       "output_type": "stream",
       "stream": "stdout",
       "text": [
        "True\n",
        "True\n",
        "<type 'tuple'>\n",
        "<type 'tuple'>\n",
        "<type 'str'>\n"
       ]
      }
     ],
     "prompt_number": 122
    },
    {
     "cell_type": "heading",
     "level": 3,
     "metadata": {},
     "source": [
      "Fetching Preexisting Keys Within a Table"
     ]
    },
    {
     "cell_type": "markdown",
     "metadata": {},
     "source": [
      "The snippet of code below will now fetch all the keys (columns) within a table of interest. It will also search the output for the specified key of interest."
     ]
    },
    {
     "cell_type": "code",
     "collapsed": false,
     "input": [
      "table_names, table_dict = getTables()\n",
      "type(table_dict['observations']['airmass'])\n",
      "print(table_dict['observations']['airmass'])\n",
      "table_name = 'observations'\n",
      "currentTable = table_dict[table_name]\n",
      "currentKeys = currentTable.keys()\n",
      "for key in currentKeys:\n",
      "    print(currentTable[key])"
     ],
     "language": "python",
     "metadata": {},
     "outputs": [
      {
       "output_type": "stream",
       "stream": "stdout",
       "text": [
        "FLOAT\n",
        "INT AUTO_INCREMENT PRIMARY KEY\n",
        "INT\n",
        "char(1)\n",
        "FLOAT\n",
        "INT\n",
        "INT\n",
        "INT\n",
        "char(1)\n",
        "INT\n",
        "INT\n",
        "varchar(60)\n",
        "varchar(60)\n",
        "INT\n",
        "varchar(60)\n",
        "varchar(60)\n",
        "varchar(60)\n",
        "varchar(60)\n",
        "varchar(60)\n",
        "varchar(60)\n",
        "varchar(60)\n",
        "varchar(60)\n",
        "varchar(60)\n",
        "varchar(60)\n",
        "FLOAT\n",
        "FLOAT\n",
        "FLOAT\n",
        "FLOAT\n",
        "INT\n",
        "varchar(60)\n",
        "varchar(60)\n",
        "varchar(60)\n",
        "varchar(60)\n",
        "FLOAT\n",
        "FLOAT\n",
        "FLOAT\n",
        "varchar(60)\n",
        "varchar(60)\n",
        "varchar(60)\n",
        "varchar(60)\n",
        "varchar(60)\n",
        "varchar(60)\n",
        "varchar(60)\n",
        "varchar(60)\n",
        "varchar(60)\n",
        "FLOAT\n",
        "varchar(60)\n",
        "FLOAT\n",
        "INT\n",
        "varchar(60)\n",
        "varchar(60)\n",
        "varchar(60)\n",
        "varchar(60)\n",
        "varchar(60)\n",
        "varchar(60)\n",
        "varchar(60)\n",
        "varchar(60)\n",
        "varchar(60)\n",
        "FLOAT\n",
        "FLOAT\n",
        "FLOAT\n",
        "varchar(60)\n",
        "FLOAT\n",
        "FLOAT\n"
       ]
      }
     ],
     "prompt_number": 124
    },
    {
     "cell_type": "code",
     "collapsed": false,
     "input": [
      "table_names, table_dict = getTables()\n",
      "table_name = 'observations'\n",
      "currentTable = table_dict[table_name]\n",
      "currentKeys = currentTable.keys()\n",
      "#print(currentTable)\n",
      "#print(currentTable.keys())\n",
      "cur.execute(\"DESCRIBE \"+table_name)\n",
      "#now make a list of these keys:\n",
      "preexistingKeys = [x[0] for x in cur.fetchall()]\n",
      "print(preexistingKeys)\n",
      "\n",
      "for key in currentKeys:\n",
      "    print('***************************************')\n",
      "    print(key)\n",
      "    if key in preexistingKeys:\n",
      "        print('***WARNING! KEY ALREADY EXISTED!***')\n",
      "    else:\n",
      "        print('Now adding '+key+\" with command:\")\n",
      "        print(\"ALTER TABLE \" + table_name + \" ADD (\" +\n",
      "                        key + ' ' + currentTable[key]+')')\n",
      "            "
     ],
     "language": "python",
     "metadata": {},
     "outputs": [
      {
       "output_type": "stream",
       "stream": "stdout",
       "text": [
        "['observation_id', 'object_id', 'simple', 'bitpix', 'naxis', 'naxis1', 'naxis2', 'extend', 'bzero', 'bscale', 'object', 'observer', 'propid', 'obsid', 'imagetyp', 'ccdsum', 'roireq', 'utshut', 'date', 'nampsyx', 'amplist', 'detector', 'fpa', 'rexptime', 'exptime', 'texptime', 'darktime', 'nimages', 'dheinf', 'dhefirm', 'speedmod', 'geommod', 'pixtime', 'powstat', 'fpgafirm', 'slot00', 'slot01', 'slot02', 'slot03', 'slot04', 'slot07', 'panid', 'comment', 'dhsid', 'deckpos', 'decker', 'focus', 'maxexp', 'pmhv', 'complamp', 'iodcell', 'observat', 'telescop', 'date_obs', 'ut', 'obs_ra', 'obs_dec', 'epoch', 'alt', 'ha', 'st', 'zd']\n",
        "***************************************\n",
        "observation_id\n",
        "***WARNING! KEY ALREADY EXISTED!***\n",
        "***************************************\n",
        "object_id\n",
        "***WARNING! KEY ALREADY EXISTED!***\n",
        "***************************************\n",
        "simple\n",
        "***WARNING! KEY ALREADY EXISTED!***\n",
        "***************************************\n",
        "bitpix\n",
        "***WARNING! KEY ALREADY EXISTED!***\n",
        "***************************************\n",
        "naxis\n",
        "***WARNING! KEY ALREADY EXISTED!***\n",
        "***************************************\n",
        "naxis1\n",
        "***WARNING! KEY ALREADY EXISTED!***\n",
        "***************************************\n",
        "naxis2\n",
        "***WARNING! KEY ALREADY EXISTED!***\n",
        "***************************************\n",
        "extend\n",
        "***WARNING! KEY ALREADY EXISTED!***\n",
        "***************************************\n",
        "bzero\n",
        "***WARNING! KEY ALREADY EXISTED!***\n",
        "***************************************\n",
        "bscale\n",
        "***WARNING! KEY ALREADY EXISTED!***\n",
        "***************************************\n",
        "object\n",
        "***WARNING! KEY ALREADY EXISTED!***\n",
        "***************************************\n",
        "observer\n",
        "***WARNING! KEY ALREADY EXISTED!***\n",
        "***************************************\n",
        "propid\n",
        "***WARNING! KEY ALREADY EXISTED!***\n",
        "***************************************\n",
        "obsid\n",
        "***WARNING! KEY ALREADY EXISTED!***\n",
        "***************************************\n",
        "imagetyp\n",
        "***WARNING! KEY ALREADY EXISTED!***\n",
        "***************************************\n",
        "ccdsum\n",
        "***WARNING! KEY ALREADY EXISTED!***\n",
        "***************************************\n",
        "roireq\n",
        "***WARNING! KEY ALREADY EXISTED!***\n",
        "***************************************\n",
        "utshut\n",
        "***WARNING! KEY ALREADY EXISTED!***\n",
        "***************************************\n",
        "date\n",
        "***WARNING! KEY ALREADY EXISTED!***\n",
        "***************************************\n",
        "nampsyx\n",
        "***WARNING! KEY ALREADY EXISTED!***\n",
        "***************************************\n",
        "amplist\n",
        "***WARNING! KEY ALREADY EXISTED!***\n",
        "***************************************\n",
        "detector\n",
        "***WARNING! KEY ALREADY EXISTED!***\n",
        "***************************************\n",
        "fpa\n",
        "***WARNING! KEY ALREADY EXISTED!***\n",
        "***************************************\n",
        "rexptime\n",
        "***WARNING! KEY ALREADY EXISTED!***\n",
        "***************************************\n",
        "exptime\n",
        "***WARNING! KEY ALREADY EXISTED!***\n",
        "***************************************\n",
        "texptime\n",
        "***WARNING! KEY ALREADY EXISTED!***\n",
        "***************************************\n",
        "darktime\n",
        "***WARNING! KEY ALREADY EXISTED!***\n",
        "***************************************\n",
        "nimages\n",
        "***WARNING! KEY ALREADY EXISTED!***\n",
        "***************************************\n",
        "dheinf\n",
        "***WARNING! KEY ALREADY EXISTED!***\n",
        "***************************************\n",
        "dhefirm\n",
        "***WARNING! KEY ALREADY EXISTED!***\n",
        "***************************************\n",
        "speedmod\n",
        "***WARNING! KEY ALREADY EXISTED!***\n",
        "***************************************\n",
        "geommod\n",
        "***WARNING! KEY ALREADY EXISTED!***\n",
        "***************************************\n",
        "pixtime\n",
        "***WARNING! KEY ALREADY EXISTED!***\n",
        "***************************************\n",
        "powstat\n",
        "***WARNING! KEY ALREADY EXISTED!***\n",
        "***************************************\n",
        "fpgafirm\n",
        "***WARNING! KEY ALREADY EXISTED!***\n",
        "***************************************\n",
        "slot00\n",
        "***WARNING! KEY ALREADY EXISTED!***\n",
        "***************************************\n",
        "slot01\n",
        "***WARNING! KEY ALREADY EXISTED!***\n",
        "***************************************\n",
        "slot02\n",
        "***WARNING! KEY ALREADY EXISTED!***\n",
        "***************************************\n",
        "slot03\n",
        "***WARNING! KEY ALREADY EXISTED!***\n",
        "***************************************\n",
        "slot04\n",
        "***WARNING! KEY ALREADY EXISTED!***\n",
        "***************************************\n",
        "slot07\n",
        "***WARNING! KEY ALREADY EXISTED!***\n",
        "***************************************\n",
        "panid\n",
        "***WARNING! KEY ALREADY EXISTED!***\n",
        "***************************************\n",
        "comment\n",
        "***WARNING! KEY ALREADY EXISTED!***\n",
        "***************************************\n",
        "dhsid\n",
        "***WARNING! KEY ALREADY EXISTED!***\n",
        "***************************************\n",
        "deckpos\n",
        "***WARNING! KEY ALREADY EXISTED!***\n",
        "***************************************\n",
        "decker\n",
        "***WARNING! KEY ALREADY EXISTED!***\n",
        "***************************************\n",
        "focus\n",
        "***WARNING! KEY ALREADY EXISTED!***\n",
        "***************************************\n",
        "maxexp\n",
        "***WARNING! KEY ALREADY EXISTED!***\n",
        "***************************************\n",
        "pmhv\n",
        "***WARNING! KEY ALREADY EXISTED!***\n",
        "***************************************\n",
        "complamp\n",
        "***WARNING! KEY ALREADY EXISTED!***\n",
        "***************************************\n",
        "iodcell\n",
        "***WARNING! KEY ALREADY EXISTED!***\n",
        "***************************************\n",
        "observat\n",
        "***WARNING! KEY ALREADY EXISTED!***\n",
        "***************************************\n",
        "telescop\n",
        "***WARNING! KEY ALREADY EXISTED!***\n",
        "***************************************\n",
        "date_obs\n",
        "***WARNING! KEY ALREADY EXISTED!***\n",
        "***************************************\n",
        "ut\n",
        "***WARNING! KEY ALREADY EXISTED!***\n",
        "***************************************\n",
        "obs_ra\n",
        "***WARNING! KEY ALREADY EXISTED!***\n",
        "***************************************\n",
        "obs_dec\n",
        "***WARNING! KEY ALREADY EXISTED!***\n",
        "***************************************\n",
        "epoch\n",
        "***WARNING! KEY ALREADY EXISTED!***\n",
        "***************************************\n",
        "alt\n",
        "***WARNING! KEY ALREADY EXISTED!***\n",
        "***************************************\n",
        "ha\n",
        "***WARNING! KEY ALREADY EXISTED!***\n",
        "***************************************\n",
        "st\n",
        "***WARNING! KEY ALREADY EXISTED!***\n",
        "***************************************\n",
        "zd\n",
        "***WARNING! KEY ALREADY EXISTED!***\n",
        "***************************************\n",
        "airmass\n",
        "Now adding airmass with command:\n",
        "ALTER TABLE observations ADD (airmass FLOAT)\n"
       ]
      }
     ],
     "prompt_number": 126
    },
    {
     "cell_type": "markdown",
     "metadata": {},
     "source": [
      "Calling on this next function will create a table if it doesn't already exist. It first connects to the MySQL server, then executes the \"SHOW TABLES\" query. This returns a tuple of tuples (see above), hence the need to search within currentTables for a tuple instead of just the table name."
     ]
    },
    {
     "cell_type": "code",
     "collapsed": false,
     "input": [
      "def createTable(table_name, table_dict):\n",
      "    currentTable = table_dict[table_name]\n",
      "    currentKeys = currentTable.keys()\n",
      "\n",
      "    ###connect to the database###\n",
      "    #retrieve credentials:\n",
      "    cmd = 'echo $AeroFSdir'\n",
      "    #read in the AeroFSdir string and\n",
      "    #chop off the newline character at the end\n",
      "    cdir = subprocess.check_output(cmd, shell=True)\n",
      "    cdir = cdir[0:len(cdir)-1]\n",
      "    credsf = open(cdir+'.credentials/SQL/csaye', 'r')\n",
      "    creds = credsf.read().split('\\n')\n",
      "    conn = pymysql.connect(host=creds[0],\n",
      "                           port=int(creds[1]),\n",
      "                           user=creds[2],\n",
      "                           passwd=creds[3],\n",
      "                           db=creds[4])\n",
      "    cur = conn.cursor()\n",
      "    cur.execute(\"SHOW TABLES\")\n",
      "    preExistingTables = cur.fetchall()\n",
      "    if (not((table_name,) in preExistingTables)):\n",
      "       cur.execute(\"CREATE TABLE \" + table_name +\n",
      "                \" (\" + currentKeys[0] + \" \" +\n",
      "                currentTable[currentKeys[0]][0]+\")\")\n",
      "\n",
      "    cur.execute(\"DESCRIBE \"+table_name)\n",
      "    preexistingKeys = [x[0] for x in cur.fetchall()]\n",
      "    for key in currentKeys:\n",
      "        print('***************************************')\n",
      "        print(key)\n",
      "        if key in preexistingKeys:\n",
      "            print('***WARNING! KEY ALREADY EXISTED!***')\n",
      "        else:\n",
      "            print('Now adding '+key)\n",
      "            cur.execute(\"ALTER TABLE \" + table_name + \" ADD (\" +\n",
      "                        key + ' ' + currentTable[key]+')')"
     ],
     "language": "python",
     "metadata": {},
     "outputs": [],
     "prompt_number": 127
    },
    {
     "cell_type": "code",
     "collapsed": false,
     "input": [
      "def removeTableFields(table_name, table_dict):\n",
      "    currentTable = table_dict[table_name]\n",
      "    currentKeys = currentTable.keys()\n",
      "\n",
      "    ###connect to the database###\n",
      "    #retrieve credentials:\n",
      "    cmd = 'echo $AeroFSdir'\n",
      "    #read in the AeroFSdir string and\n",
      "    #chop off the newline character at the end\n",
      "    cdir = subprocess.check_output(cmd, shell=True)\n",
      "    cdir = cdir[0:len(cdir)-1]\n",
      "    credsf = open(cdir+'.credentials/SQL/csaye', 'r')\n",
      "    creds = credsf.read().split('\\n')\n",
      "    conn = pymysql.connect(host=creds[0],\n",
      "                           port=int(creds[1]),\n",
      "                           user=creds[2],\n",
      "                           passwd=creds[3],\n",
      "                           db=creds[4])\n",
      "    cur = conn.cursor()\n",
      "    cur.execute(\"SHOW TABLES\")\n",
      "    preExistingTables = cur.fetchall()\n",
      "    if (not((table_name,) in preExistingTables)):\n",
      "       cur.execute(\"CREATE TABLE \" + table_name +\n",
      "                \" (\" + currentKeys[0] + \" \" +\n",
      "                currentTable[currentKeys[0]]+\")\")\n",
      "\n",
      "    cur.execute(\"DESCRIBE \"+table_name)\n",
      "    preexistingKeys = [x[0] for x in cur.fetchall()]\n",
      "    for key in currentKeys:\n",
      "        print('***************************************')\n",
      "        print(key)\n",
      "        if key in preexistingKeys:\n",
      "            print('Now removing '+key)\n",
      "            cur.execute(\"ALTER TABLE \" + table_name + \" DROP \" + key)\n",
      "        else:\n",
      "            print('***WARNING! KEY DID NOT EXIST!***')"
     ],
     "language": "python",
     "metadata": {},
     "outputs": [],
     "prompt_number": 116
    },
    {
     "cell_type": "code",
     "collapsed": false,
     "input": [
      "def createdb(tablenum, arg2):\n",
      "    ntable = int(tablenum)\n",
      "    table_names, table_dict = getTables()\n",
      "    createTable(table_names[ntable], table_dict)"
     ],
     "language": "python",
     "metadata": {},
     "outputs": [],
     "prompt_number": 117
    },
    {
     "cell_type": "code",
     "collapsed": false,
     "input": [
      "table_names, table_dict = getTables()\n",
      "observations_table = table_dict[\"observations\"]\n",
      "type(observations_table)\n",
      "#observations_table.keys()"
     ],
     "language": "python",
     "metadata": {},
     "outputs": [
      {
       "metadata": {},
       "output_type": "pyout",
       "prompt_number": 118,
       "text": [
        "collections.OrderedDict"
       ]
      }
     ],
     "prompt_number": 118
    },
    {
     "cell_type": "code",
     "collapsed": false,
     "input": [
      "table_names"
     ],
     "language": "python",
     "metadata": {},
     "outputs": [
      {
       "metadata": {},
       "output_type": "pyout",
       "prompt_number": 119,
       "text": [
        "['observations',\n",
        " 'ccdsections',\n",
        " 'environment',\n",
        " 'weather',\n",
        " 'seeing',\n",
        " 'exposuremeter',\n",
        " 'reduction']"
       ]
      }
     ],
     "prompt_number": 119
    },
    {
     "cell_type": "code",
     "collapsed": false,
     "input": [
      "createTable(table_names[0], table_dict)"
     ],
     "language": "python",
     "metadata": {},
     "outputs": [
      {
       "output_type": "stream",
       "stream": "stdout",
       "text": [
        "***************************************\n",
        "observation_id\n",
        "***WARNING! KEY ALREADY EXISTED!***\n",
        "***************************************\n",
        "object_id\n",
        "***WARNING! KEY ALREADY EXISTED!***\n",
        "***************************************\n",
        "simple\n",
        "***WARNING! KEY ALREADY EXISTED!***\n",
        "***************************************\n",
        "bitpix\n",
        "***WARNING! KEY ALREADY EXISTED!***\n",
        "***************************************\n",
        "naxis\n",
        "***WARNING! KEY ALREADY EXISTED!***\n",
        "***************************************\n",
        "naxis1\n",
        "***WARNING! KEY ALREADY EXISTED!***\n",
        "***************************************\n",
        "naxis2\n",
        "***WARNING! KEY ALREADY EXISTED!***\n",
        "***************************************\n",
        "extend\n",
        "***WARNING! KEY ALREADY EXISTED!***\n",
        "***************************************\n",
        "bzero\n",
        "***WARNING! KEY ALREADY EXISTED!***\n",
        "***************************************\n",
        "bscale\n",
        "***WARNING! KEY ALREADY EXISTED!***\n",
        "***************************************\n",
        "object\n",
        "***WARNING! KEY ALREADY EXISTED!***\n",
        "***************************************\n",
        "observer\n",
        "***WARNING! KEY ALREADY EXISTED!***\n",
        "***************************************\n",
        "propid\n",
        "***WARNING! KEY ALREADY EXISTED!***\n",
        "***************************************\n",
        "obsid\n",
        "***WARNING! KEY ALREADY EXISTED!***\n",
        "***************************************\n",
        "imagetyp\n",
        "***WARNING! KEY ALREADY EXISTED!***\n",
        "***************************************\n",
        "ccdsum\n",
        "***WARNING! KEY ALREADY EXISTED!***\n",
        "***************************************\n",
        "roireq\n",
        "***WARNING! KEY ALREADY EXISTED!***\n",
        "***************************************\n",
        "utshut\n",
        "***WARNING! KEY ALREADY EXISTED!***\n",
        "***************************************\n",
        "date\n",
        "***WARNING! KEY ALREADY EXISTED!***\n",
        "***************************************\n",
        "nampsyx\n",
        "***WARNING! KEY ALREADY EXISTED!***\n",
        "***************************************\n",
        "amplist\n",
        "***WARNING! KEY ALREADY EXISTED!***\n",
        "***************************************\n",
        "detector\n",
        "***WARNING! KEY ALREADY EXISTED!***\n",
        "***************************************\n",
        "fpa\n",
        "***WARNING! KEY ALREADY EXISTED!***\n",
        "***************************************\n",
        "rexptime\n",
        "***WARNING! KEY ALREADY EXISTED!***\n",
        "***************************************\n",
        "exptime\n",
        "***WARNING! KEY ALREADY EXISTED!***\n",
        "***************************************\n",
        "texptime\n",
        "***WARNING! KEY ALREADY EXISTED!***\n",
        "***************************************\n",
        "darktime\n",
        "***WARNING! KEY ALREADY EXISTED!***\n",
        "***************************************\n",
        "nimages\n",
        "***WARNING! KEY ALREADY EXISTED!***\n",
        "***************************************\n",
        "dheinf\n",
        "***WARNING! KEY ALREADY EXISTED!***\n",
        "***************************************\n",
        "dhefirm\n",
        "***WARNING! KEY ALREADY EXISTED!***\n",
        "***************************************\n",
        "speedmod\n",
        "***WARNING! KEY ALREADY EXISTED!***\n",
        "***************************************\n",
        "geommod\n",
        "***WARNING! KEY ALREADY EXISTED!***\n",
        "***************************************\n",
        "pixtime\n",
        "***WARNING! KEY ALREADY EXISTED!***\n",
        "***************************************\n",
        "powstat\n",
        "***WARNING! KEY ALREADY EXISTED!***\n",
        "***************************************\n",
        "fpgafirm\n",
        "***WARNING! KEY ALREADY EXISTED!***\n",
        "***************************************\n",
        "slot00\n",
        "***WARNING! KEY ALREADY EXISTED!***\n",
        "***************************************\n",
        "slot01\n",
        "***WARNING! KEY ALREADY EXISTED!***\n",
        "***************************************\n",
        "slot02\n",
        "***WARNING! KEY ALREADY EXISTED!***\n",
        "***************************************\n",
        "slot03\n",
        "***WARNING! KEY ALREADY EXISTED!***\n",
        "***************************************\n",
        "slot04\n",
        "***WARNING! KEY ALREADY EXISTED!***\n",
        "***************************************\n",
        "slot07\n",
        "***WARNING! KEY ALREADY EXISTED!***\n",
        "***************************************\n",
        "panid\n",
        "***WARNING! KEY ALREADY EXISTED!***\n",
        "***************************************\n",
        "comment\n",
        "***WARNING! KEY ALREADY EXISTED!***\n",
        "***************************************\n",
        "dhsid\n",
        "***WARNING! KEY ALREADY EXISTED!***\n",
        "***************************************\n",
        "deckpos\n",
        "***WARNING! KEY ALREADY EXISTED!***\n",
        "***************************************\n",
        "decker\n",
        "***WARNING! KEY ALREADY EXISTED!***\n",
        "***************************************\n",
        "focus\n",
        "***WARNING! KEY ALREADY EXISTED!***\n",
        "***************************************\n",
        "maxexp\n",
        "***WARNING! KEY ALREADY EXISTED!***\n",
        "***************************************\n",
        "pmhv\n",
        "***WARNING! KEY ALREADY EXISTED!***\n",
        "***************************************\n",
        "complamp\n",
        "***WARNING! KEY ALREADY EXISTED!***\n",
        "***************************************\n",
        "iodcell\n",
        "***WARNING! KEY ALREADY EXISTED!***\n",
        "***************************************\n",
        "observat\n",
        "***WARNING! KEY ALREADY EXISTED!***\n",
        "***************************************\n",
        "telescop\n",
        "***WARNING! KEY ALREADY EXISTED!***\n",
        "***************************************\n",
        "date_obs\n",
        "***WARNING! KEY ALREADY EXISTED!***\n",
        "***************************************\n",
        "ut\n",
        "***WARNING! KEY ALREADY EXISTED!***\n",
        "***************************************\n",
        "obs_ra\n",
        "***WARNING! KEY ALREADY EXISTED!***\n",
        "***************************************\n",
        "obs_dec\n",
        "***WARNING! KEY ALREADY EXISTED!***\n",
        "***************************************\n",
        "epoch\n",
        "***WARNING! KEY ALREADY EXISTED!***\n",
        "***************************************\n",
        "alt\n",
        "***WARNING! KEY ALREADY EXISTED!***\n",
        "***************************************\n",
        "ha\n",
        "***WARNING! KEY ALREADY EXISTED!***\n",
        "***************************************\n",
        "st\n",
        "***WARNING! KEY ALREADY EXISTED!***\n",
        "***************************************\n",
        "zd\n",
        "***WARNING! KEY ALREADY EXISTED!***\n",
        "***************************************\n",
        "airmass\n",
        "Now adding airmass\n"
       ]
      }
     ],
     "prompt_number": 128
    },
    {
     "cell_type": "code",
     "collapsed": false,
     "input": [
      "removeTableFields(table_names[0], table_dict)"
     ],
     "language": "python",
     "metadata": {},
     "outputs": [
      {
       "output_type": "stream",
       "stream": "stdout",
       "text": [
        "***************************************\n",
        "observation_id\n",
        "Now removing observation_id\n",
        "***************************************"
       ]
      },
      {
       "output_type": "stream",
       "stream": "stdout",
       "text": [
        "\n",
        "object_id\n",
        "Now removing object_id\n",
        "***************************************"
       ]
      },
      {
       "output_type": "stream",
       "stream": "stdout",
       "text": [
        "\n",
        "simple\n",
        "Now removing simple\n",
        "***************************************"
       ]
      },
      {
       "output_type": "stream",
       "stream": "stdout",
       "text": [
        "\n",
        "bitpix\n",
        "Now removing bitpix\n",
        "***************************************"
       ]
      },
      {
       "output_type": "stream",
       "stream": "stdout",
       "text": [
        "\n",
        "naxis\n",
        "Now removing naxis\n",
        "***************************************"
       ]
      },
      {
       "output_type": "stream",
       "stream": "stdout",
       "text": [
        "\n",
        "naxis1\n",
        "Now removing naxis1\n",
        "***************************************\n",
        "naxis2\n",
        "Now removing naxis2\n",
        "***************************************"
       ]
      },
      {
       "output_type": "stream",
       "stream": "stdout",
       "text": [
        "\n",
        "extend\n",
        "Now removing extend\n",
        "***************************************"
       ]
      },
      {
       "output_type": "stream",
       "stream": "stdout",
       "text": [
        "\n",
        "bzero\n",
        "Now removing bzero\n",
        "***************************************"
       ]
      },
      {
       "output_type": "stream",
       "stream": "stdout",
       "text": [
        "\n",
        "bscale\n",
        "Now removing bscale\n",
        "***************************************"
       ]
      },
      {
       "output_type": "stream",
       "stream": "stdout",
       "text": [
        "\n",
        "object\n",
        "Now removing object\n",
        "***************************************\n",
        "observer\n",
        "Now removing observer\n",
        "***************************************"
       ]
      },
      {
       "output_type": "stream",
       "stream": "stdout",
       "text": [
        "\n",
        "propid\n",
        "Now removing propid\n",
        "***************************************"
       ]
      },
      {
       "output_type": "stream",
       "stream": "stdout",
       "text": [
        "\n",
        "obsid\n",
        "Now removing obsid\n",
        "***************************************"
       ]
      },
      {
       "output_type": "stream",
       "stream": "stdout",
       "text": [
        "\n",
        "imagetyp\n",
        "Now removing imagetyp\n",
        "***************************************"
       ]
      },
      {
       "output_type": "stream",
       "stream": "stdout",
       "text": [
        "\n",
        "ccdsum\n",
        "Now removing ccdsum\n",
        "***************************************\n",
        "roireq\n",
        "Now removing roireq\n",
        "***************************************"
       ]
      },
      {
       "output_type": "stream",
       "stream": "stdout",
       "text": [
        "\n",
        "utshut\n",
        "Now removing utshut\n",
        "***************************************\n",
        "date\n",
        "Now removing date\n",
        "***************************************"
       ]
      },
      {
       "output_type": "stream",
       "stream": "stdout",
       "text": [
        "\n",
        "nampsyx\n",
        "Now removing nampsyx\n",
        "***************************************"
       ]
      },
      {
       "output_type": "stream",
       "stream": "stdout",
       "text": [
        "\n",
        "amplist\n",
        "Now removing amplist\n",
        "***************************************"
       ]
      },
      {
       "output_type": "stream",
       "stream": "stdout",
       "text": [
        "\n",
        "detector\n",
        "Now removing detector\n",
        "***************************************"
       ]
      },
      {
       "output_type": "stream",
       "stream": "stdout",
       "text": [
        "\n",
        "fpa\n",
        "Now removing fpa\n",
        "***************************************"
       ]
      },
      {
       "output_type": "stream",
       "stream": "stdout",
       "text": [
        "\n",
        "rexptime\n",
        "Now removing rexptime\n",
        "***************************************\n",
        "exptime\n",
        "Now removing exptime\n",
        "***************************************"
       ]
      },
      {
       "output_type": "stream",
       "stream": "stdout",
       "text": [
        "\n",
        "texptime\n",
        "Now removing texptime\n",
        "***************************************\n",
        "darktime\n",
        "Now removing darktime\n",
        "***************************************"
       ]
      },
      {
       "output_type": "stream",
       "stream": "stdout",
       "text": [
        "\n",
        "nimages\n",
        "Now removing nimages\n",
        "***************************************"
       ]
      },
      {
       "output_type": "stream",
       "stream": "stdout",
       "text": [
        "\n",
        "dheinf\n",
        "Now removing dheinf\n",
        "***************************************\n",
        "dhefirm\n",
        "Now removing dhefirm\n",
        "***************************************"
       ]
      },
      {
       "output_type": "stream",
       "stream": "stdout",
       "text": [
        "\n",
        "speedmod\n",
        "Now removing speedmod\n",
        "***************************************"
       ]
      },
      {
       "output_type": "stream",
       "stream": "stdout",
       "text": [
        "\n",
        "geommod\n",
        "Now removing geommod\n",
        "***************************************\n",
        "pixtime\n",
        "Now removing pixtime\n",
        "***************************************"
       ]
      },
      {
       "output_type": "stream",
       "stream": "stdout",
       "text": [
        "\n",
        "powstat\n",
        "Now removing powstat\n",
        "***************************************"
       ]
      },
      {
       "output_type": "stream",
       "stream": "stdout",
       "text": [
        "\n",
        "fpgafirm\n",
        "Now removing fpgafirm\n",
        "***************************************\n",
        "slot00\n",
        "Now removing slot00\n",
        "***************************************"
       ]
      },
      {
       "output_type": "stream",
       "stream": "stdout",
       "text": [
        "\n",
        "slot01\n",
        "Now removing slot01\n",
        "***************************************\n",
        "slot02\n",
        "Now removing slot02\n",
        "***************************************"
       ]
      },
      {
       "output_type": "stream",
       "stream": "stdout",
       "text": [
        "\n",
        "slot03\n",
        "Now removing slot03\n",
        "***************************************"
       ]
      },
      {
       "output_type": "stream",
       "stream": "stdout",
       "text": [
        "\n",
        "slot04\n",
        "Now removing slot04\n",
        "***************************************"
       ]
      },
      {
       "output_type": "stream",
       "stream": "stdout",
       "text": [
        "\n",
        "slot07\n",
        "Now removing slot07\n",
        "***************************************\n",
        "panid\n",
        "Now removing panid\n",
        "***************************************"
       ]
      },
      {
       "output_type": "stream",
       "stream": "stdout",
       "text": [
        "\n",
        "comment\n",
        "Now removing comment\n",
        "***************************************"
       ]
      },
      {
       "output_type": "stream",
       "stream": "stdout",
       "text": [
        "\n",
        "dhsid\n",
        "Now removing dhsid\n",
        "***************************************\n",
        "deckpos\n",
        "Now removing deckpos\n",
        "***************************************"
       ]
      },
      {
       "output_type": "stream",
       "stream": "stdout",
       "text": [
        "\n",
        "decker\n",
        "Now removing decker\n",
        "***************************************\n",
        "focus\n",
        "Now removing focus\n",
        "***************************************"
       ]
      },
      {
       "output_type": "stream",
       "stream": "stdout",
       "text": [
        "\n",
        "maxexp\n",
        "Now removing maxexp\n",
        "***************************************"
       ]
      },
      {
       "output_type": "stream",
       "stream": "stdout",
       "text": [
        "\n",
        "pmhv\n",
        "Now removing pmhv\n",
        "***************************************"
       ]
      },
      {
       "output_type": "stream",
       "stream": "stdout",
       "text": [
        "\n",
        "complamp\n",
        "Now removing complamp\n",
        "***************************************"
       ]
      },
      {
       "output_type": "stream",
       "stream": "stdout",
       "text": [
        "\n",
        "iodcell\n",
        "Now removing iodcell\n",
        "***************************************\n",
        "observat\n",
        "Now removing observat\n",
        "***************************************"
       ]
      },
      {
       "output_type": "stream",
       "stream": "stdout",
       "text": [
        "\n",
        "telescop\n",
        "Now removing telescop\n",
        "***************************************"
       ]
      },
      {
       "output_type": "stream",
       "stream": "stdout",
       "text": [
        "\n",
        "date_obs\n",
        "Now removing date_obs\n",
        "***************************************"
       ]
      },
      {
       "output_type": "stream",
       "stream": "stdout",
       "text": [
        "\n",
        "ut\n",
        "Now removing ut\n",
        "***************************************"
       ]
      },
      {
       "output_type": "stream",
       "stream": "stdout",
       "text": [
        "\n",
        "obs_ra\n",
        "Now removing obs_ra\n",
        "***************************************"
       ]
      },
      {
       "output_type": "stream",
       "stream": "stdout",
       "text": [
        "\n",
        "obs_dec\n",
        "Now removing obs_dec\n",
        "***************************************"
       ]
      },
      {
       "output_type": "stream",
       "stream": "stdout",
       "text": [
        "\n",
        "epoch\n",
        "Now removing epoch\n",
        "***************************************"
       ]
      },
      {
       "output_type": "stream",
       "stream": "stdout",
       "text": [
        "\n",
        "alt\n",
        "Now removing alt\n",
        "***************************************"
       ]
      },
      {
       "output_type": "stream",
       "stream": "stdout",
       "text": [
        "\n",
        "ha\n",
        "Now removing ha\n",
        "***************************************"
       ]
      },
      {
       "output_type": "stream",
       "stream": "stdout",
       "text": [
        "\n",
        "st\n",
        "Now removing st\n",
        "***************************************"
       ]
      },
      {
       "output_type": "stream",
       "stream": "stdout",
       "text": [
        "\n",
        "zd\n",
        "Now removing zd\n",
        "***************************************"
       ]
      },
      {
       "output_type": "stream",
       "stream": "stdout",
       "text": [
        "\n",
        "airmass\n",
        "Now removing airmass\n"
       ]
      },
      {
       "ename": "InternalError",
       "evalue": "(1090, u\"You can't delete all columns with ALTER TABLE; use DROP TABLE instead\")",
       "output_type": "pyerr",
       "traceback": [
        "\u001b[0;31m---------------------------------------------------------------------------\u001b[0m\n\u001b[0;31mInternalError\u001b[0m                             Traceback (most recent call last)",
        "\u001b[0;32m<ipython-input-101-023756e2e9a8>\u001b[0m in \u001b[0;36m<module>\u001b[0;34m()\u001b[0m\n\u001b[0;32m----> 1\u001b[0;31m \u001b[0mremoveTableFields\u001b[0m\u001b[0;34m(\u001b[0m\u001b[0mtable_names\u001b[0m\u001b[0;34m[\u001b[0m\u001b[0;36m0\u001b[0m\u001b[0;34m]\u001b[0m\u001b[0;34m,\u001b[0m \u001b[0mtable_dict\u001b[0m\u001b[0;34m)\u001b[0m\u001b[0;34m\u001b[0m\u001b[0m\n\u001b[0m",
        "\u001b[0;32m<ipython-input-100-6a7633c3006c>\u001b[0m in \u001b[0;36mremoveTableFields\u001b[0;34m(table_name, table_dict)\u001b[0m\n\u001b[1;32m     32\u001b[0m         \u001b[0;32mif\u001b[0m \u001b[0mkey\u001b[0m \u001b[0;32min\u001b[0m \u001b[0mpreexistingKeys\u001b[0m\u001b[0;34m:\u001b[0m\u001b[0;34m\u001b[0m\u001b[0m\n\u001b[1;32m     33\u001b[0m             \u001b[0;32mprint\u001b[0m\u001b[0;34m(\u001b[0m\u001b[0;34m'Now removing '\u001b[0m\u001b[0;34m+\u001b[0m\u001b[0mkey\u001b[0m\u001b[0;34m)\u001b[0m\u001b[0;34m\u001b[0m\u001b[0m\n\u001b[0;32m---> 34\u001b[0;31m             \u001b[0mcur\u001b[0m\u001b[0;34m.\u001b[0m\u001b[0mexecute\u001b[0m\u001b[0;34m(\u001b[0m\u001b[0;34m\"ALTER TABLE \"\u001b[0m \u001b[0;34m+\u001b[0m \u001b[0mtable_name\u001b[0m \u001b[0;34m+\u001b[0m \u001b[0;34m\" DROP \"\u001b[0m \u001b[0;34m+\u001b[0m \u001b[0mkey\u001b[0m\u001b[0;34m)\u001b[0m\u001b[0;34m\u001b[0m\u001b[0m\n\u001b[0m\u001b[1;32m     35\u001b[0m         \u001b[0;32melse\u001b[0m\u001b[0;34m:\u001b[0m\u001b[0;34m\u001b[0m\u001b[0m\n\u001b[1;32m     36\u001b[0m             \u001b[0;32mprint\u001b[0m\u001b[0;34m(\u001b[0m\u001b[0;34m'***WARNING! KEY DID NOT EXIST!***'\u001b[0m\u001b[0;34m)\u001b[0m\u001b[0;34m\u001b[0m\u001b[0m\n",
        "\u001b[0;32m/Applications/anaconda/lib/python2.7/site-packages/pymysql/cursors.pyc\u001b[0m in \u001b[0;36mexecute\u001b[0;34m(self, query, args)\u001b[0m\n\u001b[1;32m    100\u001b[0m             \u001b[0mquery\u001b[0m \u001b[0;34m=\u001b[0m \u001b[0mquery\u001b[0m \u001b[0;34m%\u001b[0m \u001b[0mescaped_args\u001b[0m\u001b[0;34m\u001b[0m\u001b[0m\n\u001b[1;32m    101\u001b[0m \u001b[0;34m\u001b[0m\u001b[0m\n\u001b[0;32m--> 102\u001b[0;31m         \u001b[0mresult\u001b[0m \u001b[0;34m=\u001b[0m \u001b[0mself\u001b[0m\u001b[0;34m.\u001b[0m\u001b[0m_query\u001b[0m\u001b[0;34m(\u001b[0m\u001b[0mquery\u001b[0m\u001b[0;34m)\u001b[0m\u001b[0;34m\u001b[0m\u001b[0m\n\u001b[0m\u001b[1;32m    103\u001b[0m         \u001b[0mself\u001b[0m\u001b[0;34m.\u001b[0m\u001b[0m_executed\u001b[0m \u001b[0;34m=\u001b[0m \u001b[0mquery\u001b[0m\u001b[0;34m\u001b[0m\u001b[0m\n\u001b[1;32m    104\u001b[0m         \u001b[0;32mreturn\u001b[0m \u001b[0mresult\u001b[0m\u001b[0;34m\u001b[0m\u001b[0m\n",
        "\u001b[0;32m/Applications/anaconda/lib/python2.7/site-packages/pymysql/cursors.pyc\u001b[0m in \u001b[0;36m_query\u001b[0;34m(self, q)\u001b[0m\n\u001b[1;32m    200\u001b[0m         \u001b[0mconn\u001b[0m \u001b[0;34m=\u001b[0m \u001b[0mself\u001b[0m\u001b[0;34m.\u001b[0m\u001b[0m_get_db\u001b[0m\u001b[0;34m(\u001b[0m\u001b[0;34m)\u001b[0m\u001b[0;34m\u001b[0m\u001b[0m\n\u001b[1;32m    201\u001b[0m         \u001b[0mself\u001b[0m\u001b[0;34m.\u001b[0m\u001b[0m_last_executed\u001b[0m \u001b[0;34m=\u001b[0m \u001b[0mq\u001b[0m\u001b[0;34m\u001b[0m\u001b[0m\n\u001b[0;32m--> 202\u001b[0;31m         \u001b[0mconn\u001b[0m\u001b[0;34m.\u001b[0m\u001b[0mquery\u001b[0m\u001b[0;34m(\u001b[0m\u001b[0mq\u001b[0m\u001b[0;34m)\u001b[0m\u001b[0;34m\u001b[0m\u001b[0m\n\u001b[0m\u001b[1;32m    203\u001b[0m         \u001b[0mself\u001b[0m\u001b[0;34m.\u001b[0m\u001b[0m_do_get_result\u001b[0m\u001b[0;34m(\u001b[0m\u001b[0;34m)\u001b[0m\u001b[0;34m\u001b[0m\u001b[0m\n\u001b[1;32m    204\u001b[0m         \u001b[0;32mreturn\u001b[0m \u001b[0mself\u001b[0m\u001b[0;34m.\u001b[0m\u001b[0mrowcount\u001b[0m\u001b[0;34m\u001b[0m\u001b[0m\n",
        "\u001b[0;32m/Applications/anaconda/lib/python2.7/site-packages/pymysql/connections.pyc\u001b[0m in \u001b[0;36mquery\u001b[0;34m(self, sql, unbuffered)\u001b[0m\n\u001b[1;32m    732\u001b[0m             \u001b[0msql\u001b[0m \u001b[0;34m=\u001b[0m \u001b[0msql\u001b[0m\u001b[0;34m.\u001b[0m\u001b[0mencode\u001b[0m\u001b[0;34m(\u001b[0m\u001b[0mself\u001b[0m\u001b[0;34m.\u001b[0m\u001b[0mencoding\u001b[0m\u001b[0;34m)\u001b[0m\u001b[0;34m\u001b[0m\u001b[0m\n\u001b[1;32m    733\u001b[0m         \u001b[0mself\u001b[0m\u001b[0;34m.\u001b[0m\u001b[0m_execute_command\u001b[0m\u001b[0;34m(\u001b[0m\u001b[0mCOM_QUERY\u001b[0m\u001b[0;34m,\u001b[0m \u001b[0msql\u001b[0m\u001b[0;34m)\u001b[0m\u001b[0;34m\u001b[0m\u001b[0m\n\u001b[0;32m--> 734\u001b[0;31m         \u001b[0mself\u001b[0m\u001b[0;34m.\u001b[0m\u001b[0m_affected_rows\u001b[0m \u001b[0;34m=\u001b[0m \u001b[0mself\u001b[0m\u001b[0;34m.\u001b[0m\u001b[0m_read_query_result\u001b[0m\u001b[0;34m(\u001b[0m\u001b[0munbuffered\u001b[0m\u001b[0;34m=\u001b[0m\u001b[0munbuffered\u001b[0m\u001b[0;34m)\u001b[0m\u001b[0;34m\u001b[0m\u001b[0m\n\u001b[0m\u001b[1;32m    735\u001b[0m         \u001b[0;32mreturn\u001b[0m \u001b[0mself\u001b[0m\u001b[0;34m.\u001b[0m\u001b[0m_affected_rows\u001b[0m\u001b[0;34m\u001b[0m\u001b[0m\n\u001b[1;32m    736\u001b[0m \u001b[0;34m\u001b[0m\u001b[0m\n",
        "\u001b[0;32m/Applications/anaconda/lib/python2.7/site-packages/pymysql/connections.pyc\u001b[0m in \u001b[0;36m_read_query_result\u001b[0;34m(self, unbuffered)\u001b[0m\n\u001b[1;32m    843\u001b[0m         \u001b[0;32melse\u001b[0m\u001b[0;34m:\u001b[0m\u001b[0;34m\u001b[0m\u001b[0m\n\u001b[1;32m    844\u001b[0m             \u001b[0mresult\u001b[0m \u001b[0;34m=\u001b[0m \u001b[0mMySQLResult\u001b[0m\u001b[0;34m(\u001b[0m\u001b[0mself\u001b[0m\u001b[0;34m)\u001b[0m\u001b[0;34m\u001b[0m\u001b[0m\n\u001b[0;32m--> 845\u001b[0;31m             \u001b[0mresult\u001b[0m\u001b[0;34m.\u001b[0m\u001b[0mread\u001b[0m\u001b[0;34m(\u001b[0m\u001b[0;34m)\u001b[0m\u001b[0;34m\u001b[0m\u001b[0m\n\u001b[0m\u001b[1;32m    846\u001b[0m         \u001b[0mself\u001b[0m\u001b[0;34m.\u001b[0m\u001b[0m_result\u001b[0m \u001b[0;34m=\u001b[0m \u001b[0mresult\u001b[0m\u001b[0;34m\u001b[0m\u001b[0m\n\u001b[1;32m    847\u001b[0m         \u001b[0;32mif\u001b[0m \u001b[0mresult\u001b[0m\u001b[0;34m.\u001b[0m\u001b[0mserver_status\u001b[0m \u001b[0;32mis\u001b[0m \u001b[0;32mnot\u001b[0m \u001b[0mNone\u001b[0m\u001b[0;34m:\u001b[0m\u001b[0;34m\u001b[0m\u001b[0m\n",
        "\u001b[0;32m/Applications/anaconda/lib/python2.7/site-packages/pymysql/connections.pyc\u001b[0m in \u001b[0;36mread\u001b[0;34m(self)\u001b[0m\n\u001b[1;32m   1046\u001b[0m \u001b[0;34m\u001b[0m\u001b[0m\n\u001b[1;32m   1047\u001b[0m     \u001b[0;32mdef\u001b[0m \u001b[0mread\u001b[0m\u001b[0;34m(\u001b[0m\u001b[0mself\u001b[0m\u001b[0;34m)\u001b[0m\u001b[0;34m:\u001b[0m\u001b[0;34m\u001b[0m\u001b[0m\n\u001b[0;32m-> 1048\u001b[0;31m         \u001b[0mfirst_packet\u001b[0m \u001b[0;34m=\u001b[0m \u001b[0mself\u001b[0m\u001b[0;34m.\u001b[0m\u001b[0mconnection\u001b[0m\u001b[0;34m.\u001b[0m\u001b[0m_read_packet\u001b[0m\u001b[0;34m(\u001b[0m\u001b[0;34m)\u001b[0m\u001b[0;34m\u001b[0m\u001b[0m\n\u001b[0m\u001b[1;32m   1049\u001b[0m \u001b[0;34m\u001b[0m\u001b[0m\n\u001b[1;32m   1050\u001b[0m         \u001b[0;31m# TODO: use classes for different packet types?\u001b[0m\u001b[0;34m\u001b[0m\u001b[0;34m\u001b[0m\u001b[0m\n",
        "\u001b[0;32m/Applications/anaconda/lib/python2.7/site-packages/pymysql/connections.pyc\u001b[0m in \u001b[0;36m_read_packet\u001b[0;34m(self, packet_type)\u001b[0m\n\u001b[1;32m    824\u001b[0m \u001b[0;34m\u001b[0m\u001b[0m\n\u001b[1;32m    825\u001b[0m         \u001b[0mpacket\u001b[0m \u001b[0;34m=\u001b[0m \u001b[0mpacket_type\u001b[0m\u001b[0;34m(\u001b[0m\u001b[0mself\u001b[0m\u001b[0;34m)\u001b[0m\u001b[0;34m\u001b[0m\u001b[0m\n\u001b[0;32m--> 826\u001b[0;31m         \u001b[0mpacket\u001b[0m\u001b[0;34m.\u001b[0m\u001b[0mcheck_error\u001b[0m\u001b[0;34m(\u001b[0m\u001b[0;34m)\u001b[0m\u001b[0;34m\u001b[0m\u001b[0m\n\u001b[0m\u001b[1;32m    827\u001b[0m         \u001b[0;32mreturn\u001b[0m \u001b[0mpacket\u001b[0m\u001b[0;34m\u001b[0m\u001b[0m\n\u001b[1;32m    828\u001b[0m \u001b[0;34m\u001b[0m\u001b[0m\n",
        "\u001b[0;32m/Applications/anaconda/lib/python2.7/site-packages/pymysql/connections.pyc\u001b[0m in \u001b[0;36mcheck_error\u001b[0;34m(self)\u001b[0m\n\u001b[1;32m    371\u001b[0m             \u001b[0merrno\u001b[0m \u001b[0;34m=\u001b[0m \u001b[0munpack_uint16\u001b[0m\u001b[0;34m(\u001b[0m\u001b[0mself\u001b[0m\u001b[0;34m.\u001b[0m\u001b[0mread\u001b[0m\u001b[0;34m(\u001b[0m\u001b[0;36m2\u001b[0m\u001b[0;34m)\u001b[0m\u001b[0;34m)\u001b[0m\u001b[0;34m\u001b[0m\u001b[0m\n\u001b[1;32m    372\u001b[0m             \u001b[0;32mif\u001b[0m \u001b[0mDEBUG\u001b[0m\u001b[0;34m:\u001b[0m \u001b[0;32mprint\u001b[0m\u001b[0;34m(\u001b[0m\u001b[0;34m\"errno = {}\"\u001b[0m\u001b[0;34m.\u001b[0m\u001b[0mformat\u001b[0m\u001b[0;34m(\u001b[0m\u001b[0merrno\u001b[0m\u001b[0;34m)\u001b[0m\u001b[0;34m)\u001b[0m\u001b[0;34m\u001b[0m\u001b[0m\n\u001b[0;32m--> 373\u001b[0;31m             \u001b[0mraise_mysql_exception\u001b[0m\u001b[0;34m(\u001b[0m\u001b[0mself\u001b[0m\u001b[0;34m.\u001b[0m\u001b[0m__data\u001b[0m\u001b[0;34m)\u001b[0m\u001b[0;34m\u001b[0m\u001b[0m\n\u001b[0m\u001b[1;32m    374\u001b[0m \u001b[0;34m\u001b[0m\u001b[0m\n\u001b[1;32m    375\u001b[0m     \u001b[0;32mdef\u001b[0m \u001b[0mdump\u001b[0m\u001b[0;34m(\u001b[0m\u001b[0mself\u001b[0m\u001b[0;34m)\u001b[0m\u001b[0;34m:\u001b[0m\u001b[0;34m\u001b[0m\u001b[0m\n",
        "\u001b[0;32m/Applications/anaconda/lib/python2.7/site-packages/pymysql/err.pyc\u001b[0m in \u001b[0;36mraise_mysql_exception\u001b[0;34m(data)\u001b[0m\n\u001b[1;32m    115\u001b[0m \u001b[0;32mdef\u001b[0m \u001b[0mraise_mysql_exception\u001b[0m\u001b[0;34m(\u001b[0m\u001b[0mdata\u001b[0m\u001b[0;34m)\u001b[0m\u001b[0;34m:\u001b[0m\u001b[0;34m\u001b[0m\u001b[0m\n\u001b[1;32m    116\u001b[0m     \u001b[0merrinfo\u001b[0m \u001b[0;34m=\u001b[0m \u001b[0m_get_error_info\u001b[0m\u001b[0;34m(\u001b[0m\u001b[0mdata\u001b[0m\u001b[0;34m)\u001b[0m\u001b[0;34m\u001b[0m\u001b[0m\n\u001b[0;32m--> 117\u001b[0;31m     \u001b[0m_check_mysql_exception\u001b[0m\u001b[0;34m(\u001b[0m\u001b[0merrinfo\u001b[0m\u001b[0;34m)\u001b[0m\u001b[0;34m\u001b[0m\u001b[0m\n\u001b[0m",
        "\u001b[0;32m/Applications/anaconda/lib/python2.7/site-packages/pymysql/err.pyc\u001b[0m in \u001b[0;36m_check_mysql_exception\u001b[0;34m(errinfo)\u001b[0m\n\u001b[1;32m    111\u001b[0m \u001b[0;34m\u001b[0m\u001b[0m\n\u001b[1;32m    112\u001b[0m     \u001b[0;31m# couldn't find the right error number\u001b[0m\u001b[0;34m\u001b[0m\u001b[0;34m\u001b[0m\u001b[0m\n\u001b[0;32m--> 113\u001b[0;31m     \u001b[0;32mraise\u001b[0m \u001b[0mInternalError\u001b[0m\u001b[0;34m(\u001b[0m\u001b[0merrno\u001b[0m\u001b[0;34m,\u001b[0m \u001b[0merrorvalue\u001b[0m\u001b[0;34m)\u001b[0m\u001b[0;34m\u001b[0m\u001b[0m\n\u001b[0m\u001b[1;32m    114\u001b[0m \u001b[0;34m\u001b[0m\u001b[0m\n\u001b[1;32m    115\u001b[0m \u001b[0;32mdef\u001b[0m \u001b[0mraise_mysql_exception\u001b[0m\u001b[0;34m(\u001b[0m\u001b[0mdata\u001b[0m\u001b[0;34m)\u001b[0m\u001b[0;34m:\u001b[0m\u001b[0;34m\u001b[0m\u001b[0m\n",
        "\u001b[0;31mInternalError\u001b[0m: (1090, u\"You can't delete all columns with ALTER TABLE; use DROP TABLE instead\")"
       ]
      }
     ],
     "prompt_number": 101
    }
   ],
   "metadata": {}
  }
 ]
}