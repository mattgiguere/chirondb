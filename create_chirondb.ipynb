{
 "metadata": {
  "name": "",
  "signature": "sha256:93a9ae1552580d6ee76a84f4f6a0fa726e483b7840afa3d8272aac42415447b3"
 },
 "nbformat": 3,
 "nbformat_minor": 0,
 "worksheets": [
  {
   "cells": [
    {
     "cell_type": "heading",
     "level": 1,
     "metadata": {},
     "source": [
      "chirondb"
     ]
    },
    {
     "cell_type": "heading",
     "level": 3,
     "metadata": {},
     "source": [
      "A guide to working with the CHIRON MySQL database from within Python"
     ]
    },
    {
     "cell_type": "raw",
     "metadata": {},
     "source": [
      "This document goes over how to create the chiron MySQL databases from within Python."
     ]
    },
    {
     "cell_type": "code",
     "collapsed": false,
     "input": [
      "%pylab inline"
     ],
     "language": "python",
     "metadata": {},
     "outputs": [
      {
       "output_type": "stream",
       "stream": "stdout",
       "text": [
        "Populating the interactive namespace from numpy and matplotlib\n"
       ]
      }
     ],
     "prompt_number": 1
    },
    {
     "cell_type": "code",
     "collapsed": false,
     "input": [
      "import pymysql\n",
      "from __future__ import print_function\n",
      "import subprocess\n",
      "from collections import OrderedDict\n",
      "import pandas"
     ],
     "language": "python",
     "metadata": {},
     "outputs": [],
     "prompt_number": 14
    },
    {
     "cell_type": "code",
     "collapsed": false,
     "input": [
      "#retrieve credentials:\n",
      "cmd = 'echo $AeroFSdir'\n",
      "#read in the AeroFSdir string and \n",
      "#chop off the newline character at the end\n",
      "cdir = subprocess.check_output(cmd, shell=True)\n",
      "cdir = cdir[0:len(cdir)-1]\n",
      "print(cdir)"
     ],
     "language": "python",
     "metadata": {},
     "outputs": [
      {
       "output_type": "stream",
       "stream": "stdout",
       "text": [
        "/Users/matt/AeroFS/\n"
       ]
      }
     ],
     "prompt_number": 3
    },
    {
     "cell_type": "code",
     "collapsed": false,
     "input": [
      "credsf = open(cdir+'.credentials/SQL/csaye', 'r')\n",
      "creds = credsf.read().split('\\n')"
     ],
     "language": "python",
     "metadata": {},
     "outputs": [],
     "prompt_number": 4
    },
    {
     "cell_type": "code",
     "collapsed": false,
     "input": [
      "conn = pymysql.connect(host=creds[0], port=int(creds[1]), user=creds[2], passwd=creds[3], db=creds[4])\n",
      "cur = conn.cursor()"
     ],
     "language": "python",
     "metadata": {},
     "outputs": [],
     "prompt_number": 5
    },
    {
     "cell_type": "code",
     "collapsed": false,
     "input": [
      "cur.execute(\"SHOW TABLES\")\n",
      "print(cur.description)"
     ],
     "language": "python",
     "metadata": {},
     "outputs": [
      {
       "output_type": "stream",
       "stream": "stdout",
       "text": [
        "((u'Tables_in_chirondb', 253, None, 64, 64, 0, 0),)\n"
       ]
      }
     ],
     "prompt_number": 6
    },
    {
     "cell_type": "code",
     "collapsed": false,
     "input": [
      "for row in cur.fetchall():\n",
      "    print(row[0])"
     ],
     "language": "python",
     "metadata": {},
     "outputs": [
      {
       "output_type": "stream",
       "stream": "stdout",
       "text": [
        "access\n",
        "alloc_users\n",
        "allocs\n",
        "ccdsections\n",
        "cycles\n",
        "deckers\n",
        "environment\n",
        "exposuremeter\n",
        "nos\n",
        "nos_objects\n",
        "nos_results\n",
        "object_notes\n",
        "object_tarfiles\n",
        "object_times\n",
        "objects\n",
        "plans\n",
        "proposals\n",
        "reduction\n",
        "registers\n",
        "script_notes\n",
        "script_objs\n",
        "scripts\n",
        "section_functions\n",
        "sections\n",
        "seeing\n",
        "semesters\n",
        "users\n",
        "weather\n"
       ]
      }
     ],
     "prompt_number": 7
    },
    {
     "cell_type": "markdown",
     "metadata": {},
     "source": [
      "The `get_tables` routine creates variables housing all the table names and the fields that go in each table. The fields are identical to the FITS header keywords with only a few exceptions.\n",
      "\n",
      "* **date_obs**: I had to change this field to `date-obs`. This was because MySQL cannot have a dash ('-') in field names.\n",
      "* **dec**: `DEC` is the MySQL keyword for a decimal, and hence cannot be used for a field name. This was changed to `obs_dec`.\n",
      "* **ra**: For consistency with the dec, I changed the `ra` to `obs_ra`."
     ]
    },
    {
     "cell_type": "code",
     "collapsed": false,
     "input": [
      "def getTables():\n",
      "    \"\"\"PURPOSE: To create the CHIRON MySQL database.\"\"\"\n",
      "\n",
      "    #The new tables in the database:\n",
      "    table_names = ['observations',\n",
      "                   'ccdsections',\n",
      "                   'environment',\n",
      "                   'weather',\n",
      "                   'seeing',\n",
      "                   'exposuremeter',\n",
      "                   'reduction']\n",
      "\n",
      "    table_dict = {}\n",
      "\n",
      "    #observations table:\n",
      "    observationsTable = pandas.read_csv('tables/ObservationsTable.txt')\n",
      "    table_dict[table_names[0]] = observationsTable\n",
      "\n",
      "    #CCD Sections Table\n",
      "    ccdSectionsTable = pandas.read_csv('tables/CCDSectionsTable.txt')\n",
      "    table_dict[table_names[1]] = ccdSectionsTable\n",
      "\n",
      "    #Environment Table\n",
      "    environmentTable = pandas.read_csv('tables/EnvironmentTable.txt')\n",
      "    table_dict[table_names[2]] = environmentTable\n",
      "\n",
      "    #Weather Table\n",
      "    weatherTable = pandas.read_csv('tables/WeatherTable.txt')\n",
      "    table_dict[table_names[3]] = weatherTable\n",
      "\n",
      "    #Seeing Table\n",
      "    seeingTable = pandas.read_csv('tables/SeeingTable.txt')\n",
      "    table_dict[table_names[4]] = seeingTable\n",
      "\n",
      "    #Exposure Meter Table\n",
      "    exposureMeterTable = pandas.read_csv('tables/ExposureMeterTable.txt')\n",
      "    table_dict[table_names[5]] = exposureMeterTable\n",
      "\n",
      "    #Reduction Table\n",
      "    reductionTable = pandas.read_csv('tables/ReductionTable.txt')\n",
      "    table_dict[table_names[6]] = reductionTable\n",
      "\n",
      "    return table_names, table_dict\n"
     ],
     "language": "python",
     "metadata": {},
     "outputs": [],
     "prompt_number": 15
    },
    {
     "cell_type": "heading",
     "level": 3,
     "metadata": {},
     "source": [
      "Fetching All of the Preexisting Tables Within a Database"
     ]
    },
    {
     "cell_type": "markdown",
     "metadata": {},
     "source": [
      "This snippet of code shows how to fetch all of the preexisting tables within a database of interest. It also shows how to search within the returned tuple of tables for a table of interest, which will come in handy shortly.\n"
     ]
    },
    {
     "cell_type": "code",
     "collapsed": false,
     "input": [
      "###connect to the database###\n",
      "#retrieve credentials:\n",
      "cmd = 'echo $AeroFSdir'\n",
      "#read in the AeroFSdir string and\n",
      "#chop off the newline character at the end\n",
      "cdir = subprocess.check_output(cmd, shell=True)\n",
      "cdir = cdir[0:len(cdir)-1]\n",
      "credsf = open(cdir+'.credentials/SQL/csaye', 'r')\n",
      "creds = credsf.read().split('\\n')\n",
      "conn = pymysql.connect(host=creds[0],\n",
      "                       port=int(creds[1]),\n",
      "                       user=creds[2],\n",
      "                       passwd=creds[3],\n",
      "                       db=creds[4])\n",
      "cur = conn.cursor()\n",
      "cur.execute(\"SHOW TABLES\")\n",
      "preexistingTables = cur.fetchall()\n",
      "print(('observations',) in preexistingTables)\n",
      "print(not(('hoopla',) in preexistingTables))\n",
      "print(type(preexistingTables))    \n",
      "print(type(preexistingTables[0]))\n",
      "print(type(preexistingTables[0][0]))"
     ],
     "language": "python",
     "metadata": {},
     "outputs": [
      {
       "output_type": "stream",
       "stream": "stdout",
       "text": [
        "False\n",
        "True\n",
        "<type 'tuple'>\n",
        "<type 'tuple'>\n",
        "<type 'str'>\n"
       ]
      }
     ],
     "prompt_number": 16
    },
    {
     "cell_type": "heading",
     "level": 3,
     "metadata": {},
     "source": [
      "Fetching Preexisting Keys Within a Table"
     ]
    },
    {
     "cell_type": "markdown",
     "metadata": {},
     "source": [
      "The snippet of code below will now fetch all the keys (columns) within a table of interest. It will also search the output for the specified key of interest."
     ]
    },
    {
     "cell_type": "code",
     "collapsed": false,
     "input": [
      "table_names, table_dict = getTables()\n",
      "table_name = 'observations'\n",
      "currentTable = table_dict[table_name]\n",
      "currentKeys = currentTable['fieldName']\n",
      "variableTypes = currentTable['variableType']\n",
      "for key in currentKeys:\n",
      "    print(key)\n",
      "    \n",
      "print('--------------------------------------------')\n",
      "for varType in variableTypes:\n",
      "    print(varType)"
     ],
     "language": "python",
     "metadata": {},
     "outputs": [
      {
       "output_type": "stream",
       "stream": "stdout",
       "text": [
        "observation_id\n",
        "object_id\n",
        "simple\n",
        "bitpix\n",
        "naxis\n",
        "naxis1\n",
        "naxis2\n",
        "extend\n",
        "bzero\n",
        "bscale\n",
        "object\n",
        "observer\n",
        "propid\n",
        "obsid\n",
        "imagetyp\n",
        "ccdsum\n",
        "roireq\n",
        "utshut\n",
        "date\n",
        "nampsyx\n",
        "amplist\n",
        "detector\n",
        "fpa\n",
        "rexptime\n",
        "exptime\n",
        "texptime\n",
        "darktime\n",
        "nimages\n",
        "dheinf\n",
        "dhefirm\n",
        "speedmod\n",
        "geommod\n",
        "pixtime\n",
        "powstat\n",
        "fpgafirm\n",
        "slot00\n",
        "slot01\n",
        "slot02\n",
        "slot03\n",
        "slot04\n",
        "slot07\n",
        "panid\n",
        "comment\n",
        "dhsid\n",
        "deckpos\n",
        "decker\n",
        "focus\n",
        "maxexp\n",
        "pmhv\n",
        "complamp\n",
        "iodcell\n",
        "observat\n",
        "telescop\n",
        "date_obs\n",
        "ut\n",
        "obs_ra\n",
        "obs_dec\n",
        "epoch\n",
        "alt\n",
        "ha\n",
        "st\n",
        "zd\n",
        "airmass\n",
        "--------------------------------------------\n",
        " INT AUTO_INCREMENT PRIMARY KEY\n",
        " INT\n",
        " char(1)\n",
        " FLOAT\n",
        " INT\n",
        " INT\n",
        " INT\n",
        " char(1)\n",
        " INT\n",
        " INT\n",
        " varchar(60)\n",
        " varchar(60)\n",
        " INT\n",
        " varchar(60)\n",
        " varchar(60)\n",
        " varchar(60)\n",
        " varchar(60)\n",
        " varchar(60)\n",
        " varchar(60)\n",
        " varchar(60)\n",
        " varchar(60)\n",
        " varchar(60)\n",
        " varchar(60)\n",
        " FLOAT\n",
        " FLOAT\n",
        " FLOAT\n",
        " FLOAT\n",
        " INT\n",
        " varchar(60)\n",
        " varchar(60)\n",
        " varchar(60)\n",
        " varchar(60)\n",
        " FLOAT\n",
        " FLOAT\n",
        " FLOAT\n",
        " varchar(60)\n",
        " varchar(60)\n",
        " varchar(60)\n",
        " varchar(60)\n",
        " varchar(60)\n",
        " varchar(60)\n",
        " varchar(60)\n",
        " varchar(60)\n",
        " varchar(60)\n",
        " FLOAT\n",
        " varchar(60)\n",
        " FLOAT\n",
        " INT\n",
        " varchar(60)\n",
        " varchar(60)\n",
        " varchar(60)\n",
        " varchar(60)\n",
        " varchar(60)\n",
        " 'varchar(60)\n",
        " varchar(60)\n",
        " varchar(60)\n",
        " varchar(60)\n",
        " FLOAT\n",
        " FLOAT\n",
        " FLOAT\n",
        " varchar(60)\n",
        " FLOAT\n",
        " FLOAT\n"
       ]
      }
     ],
     "prompt_number": 25
    },
    {
     "cell_type": "code",
     "collapsed": false,
     "input": [
      "table_names, table_dict = getTables()\n",
      "table_name = 'observations'\n",
      "currentTable = table_dict[table_name]\n",
      "currentKeys = currentTable['fieldName']\n",
      "currentVarTypes = currentTable['variableType']\n",
      "print(currentKeys[0])\n",
      "print(currentVarTypes[0])"
     ],
     "language": "python",
     "metadata": {},
     "outputs": [
      {
       "output_type": "stream",
       "stream": "stdout",
       "text": [
        "observation_id\n",
        " INT AUTO_INCREMENT PRIMARY KEY\n"
       ]
      }
     ],
     "prompt_number": 29
    },
    {
     "cell_type": "code",
     "collapsed": false,
     "input": [
      "cur.execute(\"SHOW TABLES\")\n",
      "preExistingTables = cur.fetchall()\n",
      "if (not((table_name,) in preExistingTables)):\n",
      "    cur.execute(\"CREATE TABLE \" + table_name +\n",
      "                \" (\" + currentKeys[0] + \" \" +\n",
      "                currentTable[currentKeys[0]]+\")\")\n",
      "\n",
      "cur.execute(\"DESCRIBE \"+table_name)\n",
      "preexistingKeys = [x[0] for x in cur.fetchall()]\n",
      "for idx in range(len(currentKeys)):\n",
      "    key = currentKeys[idx].strip()\n",
      "    varType = currentVarTypes[idx].strip()\n",
      "    print('***************************************')\n",
      "    print(key)\n",
      "    if key in preexistingKeys:\n",
      "        print('***WARNING! KEY ALREADY EXISTED!***')\n",
      "    else:\n",
      "        print('Now adding '+key)\n",
      "        cur.execute(\"ALTER TABLE \" + table_name + \" ADD (\" +\n",
      "                    key + ' ' + varType + ')')"
     ],
     "language": "python",
     "metadata": {},
     "outputs": [
      {
       "ename": "ProgrammingError",
       "evalue": "(1146, u\"Table 'chirondb.observations' doesn't exist\")",
       "output_type": "pyerr",
       "traceback": [
        "\u001b[0;31m---------------------------------------------------------------------------\u001b[0m\n\u001b[0;31mProgrammingError\u001b[0m                          Traceback (most recent call last)",
        "\u001b[0;32m<ipython-input-11-32ccf053543e>\u001b[0m in \u001b[0;36m<module>\u001b[0;34m()\u001b[0m\n\u001b[1;32m      5\u001b[0m \u001b[0;31m#print(currentTable)\u001b[0m\u001b[0;34m\u001b[0m\u001b[0;34m\u001b[0m\u001b[0m\n\u001b[1;32m      6\u001b[0m \u001b[0;31m#print(currentTable.keys())\u001b[0m\u001b[0;34m\u001b[0m\u001b[0;34m\u001b[0m\u001b[0m\n\u001b[0;32m----> 7\u001b[0;31m \u001b[0mcur\u001b[0m\u001b[0;34m.\u001b[0m\u001b[0mexecute\u001b[0m\u001b[0;34m(\u001b[0m\u001b[0;34m\"DESCRIBE \"\u001b[0m\u001b[0;34m+\u001b[0m\u001b[0mtable_name\u001b[0m\u001b[0;34m)\u001b[0m\u001b[0;34m\u001b[0m\u001b[0m\n\u001b[0m\u001b[1;32m      8\u001b[0m \u001b[0;31m#now make a list of these keys:\u001b[0m\u001b[0;34m\u001b[0m\u001b[0;34m\u001b[0m\u001b[0m\n\u001b[1;32m      9\u001b[0m \u001b[0mpreexistingKeys\u001b[0m \u001b[0;34m=\u001b[0m \u001b[0;34m[\u001b[0m\u001b[0mx\u001b[0m\u001b[0;34m[\u001b[0m\u001b[0;36m0\u001b[0m\u001b[0;34m]\u001b[0m \u001b[0;32mfor\u001b[0m \u001b[0mx\u001b[0m \u001b[0;32min\u001b[0m \u001b[0mcur\u001b[0m\u001b[0;34m.\u001b[0m\u001b[0mfetchall\u001b[0m\u001b[0;34m(\u001b[0m\u001b[0;34m)\u001b[0m\u001b[0;34m]\u001b[0m\u001b[0;34m\u001b[0m\u001b[0m\n",
        "\u001b[0;32m/Applications/anaconda/lib/python2.7/site-packages/pymysql/cursors.pyc\u001b[0m in \u001b[0;36mexecute\u001b[0;34m(self, query, args)\u001b[0m\n\u001b[1;32m    100\u001b[0m             \u001b[0mquery\u001b[0m \u001b[0;34m=\u001b[0m \u001b[0mquery\u001b[0m \u001b[0;34m%\u001b[0m \u001b[0mescaped_args\u001b[0m\u001b[0;34m\u001b[0m\u001b[0m\n\u001b[1;32m    101\u001b[0m \u001b[0;34m\u001b[0m\u001b[0m\n\u001b[0;32m--> 102\u001b[0;31m         \u001b[0mresult\u001b[0m \u001b[0;34m=\u001b[0m \u001b[0mself\u001b[0m\u001b[0;34m.\u001b[0m\u001b[0m_query\u001b[0m\u001b[0;34m(\u001b[0m\u001b[0mquery\u001b[0m\u001b[0;34m)\u001b[0m\u001b[0;34m\u001b[0m\u001b[0m\n\u001b[0m\u001b[1;32m    103\u001b[0m         \u001b[0mself\u001b[0m\u001b[0;34m.\u001b[0m\u001b[0m_executed\u001b[0m \u001b[0;34m=\u001b[0m \u001b[0mquery\u001b[0m\u001b[0;34m\u001b[0m\u001b[0m\n\u001b[1;32m    104\u001b[0m         \u001b[0;32mreturn\u001b[0m \u001b[0mresult\u001b[0m\u001b[0;34m\u001b[0m\u001b[0m\n",
        "\u001b[0;32m/Applications/anaconda/lib/python2.7/site-packages/pymysql/cursors.pyc\u001b[0m in \u001b[0;36m_query\u001b[0;34m(self, q)\u001b[0m\n\u001b[1;32m    200\u001b[0m         \u001b[0mconn\u001b[0m \u001b[0;34m=\u001b[0m \u001b[0mself\u001b[0m\u001b[0;34m.\u001b[0m\u001b[0m_get_db\u001b[0m\u001b[0;34m(\u001b[0m\u001b[0;34m)\u001b[0m\u001b[0;34m\u001b[0m\u001b[0m\n\u001b[1;32m    201\u001b[0m         \u001b[0mself\u001b[0m\u001b[0;34m.\u001b[0m\u001b[0m_last_executed\u001b[0m \u001b[0;34m=\u001b[0m \u001b[0mq\u001b[0m\u001b[0;34m\u001b[0m\u001b[0m\n\u001b[0;32m--> 202\u001b[0;31m         \u001b[0mconn\u001b[0m\u001b[0;34m.\u001b[0m\u001b[0mquery\u001b[0m\u001b[0;34m(\u001b[0m\u001b[0mq\u001b[0m\u001b[0;34m)\u001b[0m\u001b[0;34m\u001b[0m\u001b[0m\n\u001b[0m\u001b[1;32m    203\u001b[0m         \u001b[0mself\u001b[0m\u001b[0;34m.\u001b[0m\u001b[0m_do_get_result\u001b[0m\u001b[0;34m(\u001b[0m\u001b[0;34m)\u001b[0m\u001b[0;34m\u001b[0m\u001b[0m\n\u001b[1;32m    204\u001b[0m         \u001b[0;32mreturn\u001b[0m \u001b[0mself\u001b[0m\u001b[0;34m.\u001b[0m\u001b[0mrowcount\u001b[0m\u001b[0;34m\u001b[0m\u001b[0m\n",
        "\u001b[0;32m/Applications/anaconda/lib/python2.7/site-packages/pymysql/connections.pyc\u001b[0m in \u001b[0;36mquery\u001b[0;34m(self, sql, unbuffered)\u001b[0m\n\u001b[1;32m    732\u001b[0m             \u001b[0msql\u001b[0m \u001b[0;34m=\u001b[0m \u001b[0msql\u001b[0m\u001b[0;34m.\u001b[0m\u001b[0mencode\u001b[0m\u001b[0;34m(\u001b[0m\u001b[0mself\u001b[0m\u001b[0;34m.\u001b[0m\u001b[0mencoding\u001b[0m\u001b[0;34m)\u001b[0m\u001b[0;34m\u001b[0m\u001b[0m\n\u001b[1;32m    733\u001b[0m         \u001b[0mself\u001b[0m\u001b[0;34m.\u001b[0m\u001b[0m_execute_command\u001b[0m\u001b[0;34m(\u001b[0m\u001b[0mCOM_QUERY\u001b[0m\u001b[0;34m,\u001b[0m \u001b[0msql\u001b[0m\u001b[0;34m)\u001b[0m\u001b[0;34m\u001b[0m\u001b[0m\n\u001b[0;32m--> 734\u001b[0;31m         \u001b[0mself\u001b[0m\u001b[0;34m.\u001b[0m\u001b[0m_affected_rows\u001b[0m \u001b[0;34m=\u001b[0m \u001b[0mself\u001b[0m\u001b[0;34m.\u001b[0m\u001b[0m_read_query_result\u001b[0m\u001b[0;34m(\u001b[0m\u001b[0munbuffered\u001b[0m\u001b[0;34m=\u001b[0m\u001b[0munbuffered\u001b[0m\u001b[0;34m)\u001b[0m\u001b[0;34m\u001b[0m\u001b[0m\n\u001b[0m\u001b[1;32m    735\u001b[0m         \u001b[0;32mreturn\u001b[0m \u001b[0mself\u001b[0m\u001b[0;34m.\u001b[0m\u001b[0m_affected_rows\u001b[0m\u001b[0;34m\u001b[0m\u001b[0m\n\u001b[1;32m    736\u001b[0m \u001b[0;34m\u001b[0m\u001b[0m\n",
        "\u001b[0;32m/Applications/anaconda/lib/python2.7/site-packages/pymysql/connections.pyc\u001b[0m in \u001b[0;36m_read_query_result\u001b[0;34m(self, unbuffered)\u001b[0m\n\u001b[1;32m    843\u001b[0m         \u001b[0;32melse\u001b[0m\u001b[0;34m:\u001b[0m\u001b[0;34m\u001b[0m\u001b[0m\n\u001b[1;32m    844\u001b[0m             \u001b[0mresult\u001b[0m \u001b[0;34m=\u001b[0m \u001b[0mMySQLResult\u001b[0m\u001b[0;34m(\u001b[0m\u001b[0mself\u001b[0m\u001b[0;34m)\u001b[0m\u001b[0;34m\u001b[0m\u001b[0m\n\u001b[0;32m--> 845\u001b[0;31m             \u001b[0mresult\u001b[0m\u001b[0;34m.\u001b[0m\u001b[0mread\u001b[0m\u001b[0;34m(\u001b[0m\u001b[0;34m)\u001b[0m\u001b[0;34m\u001b[0m\u001b[0m\n\u001b[0m\u001b[1;32m    846\u001b[0m         \u001b[0mself\u001b[0m\u001b[0;34m.\u001b[0m\u001b[0m_result\u001b[0m \u001b[0;34m=\u001b[0m \u001b[0mresult\u001b[0m\u001b[0;34m\u001b[0m\u001b[0m\n\u001b[1;32m    847\u001b[0m         \u001b[0;32mif\u001b[0m \u001b[0mresult\u001b[0m\u001b[0;34m.\u001b[0m\u001b[0mserver_status\u001b[0m \u001b[0;32mis\u001b[0m \u001b[0;32mnot\u001b[0m \u001b[0mNone\u001b[0m\u001b[0;34m:\u001b[0m\u001b[0;34m\u001b[0m\u001b[0m\n",
        "\u001b[0;32m/Applications/anaconda/lib/python2.7/site-packages/pymysql/connections.pyc\u001b[0m in \u001b[0;36mread\u001b[0;34m(self)\u001b[0m\n\u001b[1;32m   1046\u001b[0m \u001b[0;34m\u001b[0m\u001b[0m\n\u001b[1;32m   1047\u001b[0m     \u001b[0;32mdef\u001b[0m \u001b[0mread\u001b[0m\u001b[0;34m(\u001b[0m\u001b[0mself\u001b[0m\u001b[0;34m)\u001b[0m\u001b[0;34m:\u001b[0m\u001b[0;34m\u001b[0m\u001b[0m\n\u001b[0;32m-> 1048\u001b[0;31m         \u001b[0mfirst_packet\u001b[0m \u001b[0;34m=\u001b[0m \u001b[0mself\u001b[0m\u001b[0;34m.\u001b[0m\u001b[0mconnection\u001b[0m\u001b[0;34m.\u001b[0m\u001b[0m_read_packet\u001b[0m\u001b[0;34m(\u001b[0m\u001b[0;34m)\u001b[0m\u001b[0;34m\u001b[0m\u001b[0m\n\u001b[0m\u001b[1;32m   1049\u001b[0m \u001b[0;34m\u001b[0m\u001b[0m\n\u001b[1;32m   1050\u001b[0m         \u001b[0;31m# TODO: use classes for different packet types?\u001b[0m\u001b[0;34m\u001b[0m\u001b[0;34m\u001b[0m\u001b[0m\n",
        "\u001b[0;32m/Applications/anaconda/lib/python2.7/site-packages/pymysql/connections.pyc\u001b[0m in \u001b[0;36m_read_packet\u001b[0;34m(self, packet_type)\u001b[0m\n\u001b[1;32m    824\u001b[0m \u001b[0;34m\u001b[0m\u001b[0m\n\u001b[1;32m    825\u001b[0m         \u001b[0mpacket\u001b[0m \u001b[0;34m=\u001b[0m \u001b[0mpacket_type\u001b[0m\u001b[0;34m(\u001b[0m\u001b[0mself\u001b[0m\u001b[0;34m)\u001b[0m\u001b[0;34m\u001b[0m\u001b[0m\n\u001b[0;32m--> 826\u001b[0;31m         \u001b[0mpacket\u001b[0m\u001b[0;34m.\u001b[0m\u001b[0mcheck_error\u001b[0m\u001b[0;34m(\u001b[0m\u001b[0;34m)\u001b[0m\u001b[0;34m\u001b[0m\u001b[0m\n\u001b[0m\u001b[1;32m    827\u001b[0m         \u001b[0;32mreturn\u001b[0m \u001b[0mpacket\u001b[0m\u001b[0;34m\u001b[0m\u001b[0m\n\u001b[1;32m    828\u001b[0m \u001b[0;34m\u001b[0m\u001b[0m\n",
        "\u001b[0;32m/Applications/anaconda/lib/python2.7/site-packages/pymysql/connections.pyc\u001b[0m in \u001b[0;36mcheck_error\u001b[0;34m(self)\u001b[0m\n\u001b[1;32m    371\u001b[0m             \u001b[0merrno\u001b[0m \u001b[0;34m=\u001b[0m \u001b[0munpack_uint16\u001b[0m\u001b[0;34m(\u001b[0m\u001b[0mself\u001b[0m\u001b[0;34m.\u001b[0m\u001b[0mread\u001b[0m\u001b[0;34m(\u001b[0m\u001b[0;36m2\u001b[0m\u001b[0;34m)\u001b[0m\u001b[0;34m)\u001b[0m\u001b[0;34m\u001b[0m\u001b[0m\n\u001b[1;32m    372\u001b[0m             \u001b[0;32mif\u001b[0m \u001b[0mDEBUG\u001b[0m\u001b[0;34m:\u001b[0m \u001b[0;32mprint\u001b[0m\u001b[0;34m(\u001b[0m\u001b[0;34m\"errno = {}\"\u001b[0m\u001b[0;34m.\u001b[0m\u001b[0mformat\u001b[0m\u001b[0;34m(\u001b[0m\u001b[0merrno\u001b[0m\u001b[0;34m)\u001b[0m\u001b[0;34m)\u001b[0m\u001b[0;34m\u001b[0m\u001b[0m\n\u001b[0;32m--> 373\u001b[0;31m             \u001b[0mraise_mysql_exception\u001b[0m\u001b[0;34m(\u001b[0m\u001b[0mself\u001b[0m\u001b[0;34m.\u001b[0m\u001b[0m__data\u001b[0m\u001b[0;34m)\u001b[0m\u001b[0;34m\u001b[0m\u001b[0m\n\u001b[0m\u001b[1;32m    374\u001b[0m \u001b[0;34m\u001b[0m\u001b[0m\n\u001b[1;32m    375\u001b[0m     \u001b[0;32mdef\u001b[0m \u001b[0mdump\u001b[0m\u001b[0;34m(\u001b[0m\u001b[0mself\u001b[0m\u001b[0;34m)\u001b[0m\u001b[0;34m:\u001b[0m\u001b[0;34m\u001b[0m\u001b[0m\n",
        "\u001b[0;32m/Applications/anaconda/lib/python2.7/site-packages/pymysql/err.pyc\u001b[0m in \u001b[0;36mraise_mysql_exception\u001b[0;34m(data)\u001b[0m\n\u001b[1;32m    115\u001b[0m \u001b[0;32mdef\u001b[0m \u001b[0mraise_mysql_exception\u001b[0m\u001b[0;34m(\u001b[0m\u001b[0mdata\u001b[0m\u001b[0;34m)\u001b[0m\u001b[0;34m:\u001b[0m\u001b[0;34m\u001b[0m\u001b[0m\n\u001b[1;32m    116\u001b[0m     \u001b[0merrinfo\u001b[0m \u001b[0;34m=\u001b[0m \u001b[0m_get_error_info\u001b[0m\u001b[0;34m(\u001b[0m\u001b[0mdata\u001b[0m\u001b[0;34m)\u001b[0m\u001b[0;34m\u001b[0m\u001b[0m\n\u001b[0;32m--> 117\u001b[0;31m     \u001b[0m_check_mysql_exception\u001b[0m\u001b[0;34m(\u001b[0m\u001b[0merrinfo\u001b[0m\u001b[0;34m)\u001b[0m\u001b[0;34m\u001b[0m\u001b[0m\n\u001b[0m",
        "\u001b[0;32m/Applications/anaconda/lib/python2.7/site-packages/pymysql/err.pyc\u001b[0m in \u001b[0;36m_check_mysql_exception\u001b[0;34m(errinfo)\u001b[0m\n\u001b[1;32m    108\u001b[0m     \u001b[0merrorclass\u001b[0m \u001b[0;34m=\u001b[0m \u001b[0merror_map\u001b[0m\u001b[0;34m.\u001b[0m\u001b[0mget\u001b[0m\u001b[0;34m(\u001b[0m\u001b[0merrno\u001b[0m\u001b[0;34m,\u001b[0m \u001b[0mNone\u001b[0m\u001b[0;34m)\u001b[0m\u001b[0;34m\u001b[0m\u001b[0m\n\u001b[1;32m    109\u001b[0m     \u001b[0;32mif\u001b[0m \u001b[0merrorclass\u001b[0m\u001b[0;34m:\u001b[0m\u001b[0;34m\u001b[0m\u001b[0m\n\u001b[0;32m--> 110\u001b[0;31m         \u001b[0;32mraise\u001b[0m \u001b[0merrorclass\u001b[0m\u001b[0;34m(\u001b[0m\u001b[0merrno\u001b[0m\u001b[0;34m,\u001b[0m\u001b[0merrorvalue\u001b[0m\u001b[0;34m)\u001b[0m\u001b[0;34m\u001b[0m\u001b[0m\n\u001b[0m\u001b[1;32m    111\u001b[0m \u001b[0;34m\u001b[0m\u001b[0m\n\u001b[1;32m    112\u001b[0m     \u001b[0;31m# couldn't find the right error number\u001b[0m\u001b[0;34m\u001b[0m\u001b[0;34m\u001b[0m\u001b[0m\n",
        "\u001b[0;31mProgrammingError\u001b[0m: (1146, u\"Table 'chirondb.observations' doesn't exist\")"
       ]
      }
     ],
     "prompt_number": 11
    },
    {
     "cell_type": "markdown",
     "metadata": {},
     "source": [
      "Calling on this next function will create a table if it doesn't already exist. It first connects to the MySQL server, then executes the \"SHOW TABLES\" query. This returns a tuple of tuples (see above), hence the need to search within currentTables for a tuple instead of just the table name."
     ]
    },
    {
     "cell_type": "code",
     "collapsed": false,
     "input": [
      "def createTable(table_name, table_dict):\n",
      "    currentTable = table_dict[table_name]\n",
      "    currentKeys = currentTable.keys()\n",
      "\n",
      "    ###connect to the database###\n",
      "    #retrieve credentials:\n",
      "    cmd = 'echo $AeroFSdir'\n",
      "    #read in the AeroFSdir string and\n",
      "    #chop off the newline character at the end\n",
      "    cdir = subprocess.check_output(cmd, shell=True)\n",
      "    cdir = cdir[0:len(cdir)-1]\n",
      "    credsf = open(cdir+'.credentials/SQL/csaye', 'r')\n",
      "    creds = credsf.read().split('\\n')\n",
      "    conn = pymysql.connect(host=creds[0],\n",
      "                           port=int(creds[1]),\n",
      "                           user=creds[2],\n",
      "                           passwd=creds[3],\n",
      "                           db=creds[4])\n",
      "    cur = conn.cursor()\n",
      "    cur.execute(\"SHOW TABLES\")\n",
      "    preExistingTables = cur.fetchall()\n",
      "    if (not((table_name,) in preExistingTables)):\n",
      "       cur.execute(\"CREATE TABLE \" + table_name +\n",
      "                \" (\" + currentKeys[0] + \" \" +\n",
      "                currentTable[currentKeys[0]][0]+\")\")\n",
      "\n",
      "    cur.execute(\"DESCRIBE \"+table_name)\n",
      "    preexistingKeys = [x[0] for x in cur.fetchall()]\n",
      "    for key in currentKeys:\n",
      "        print('***************************************')\n",
      "        print(key)\n",
      "        if key in preexistingKeys:\n",
      "            print('***WARNING! KEY ALREADY EXISTED!***')\n",
      "        else:\n",
      "            print('Now adding '+key)\n",
      "            cur.execute(\"ALTER TABLE \" + table_name + \" ADD (\" +\n",
      "                        key + ' ' + currentTable[key]+')')"
     ],
     "language": "python",
     "metadata": {},
     "outputs": [],
     "prompt_number": 127
    },
    {
     "cell_type": "code",
     "collapsed": false,
     "input": [
      "def removeTableFields(table_name, table_dict):\n",
      "    currentTable = table_dict[table_name]\n",
      "    currentKeys = currentTable.keys()\n",
      "\n",
      "    ###connect to the database###\n",
      "    #retrieve credentials:\n",
      "    cmd = 'echo $AeroFSdir'\n",
      "    #read in the AeroFSdir string and\n",
      "    #chop off the newline character at the end\n",
      "    cdir = subprocess.check_output(cmd, shell=True)\n",
      "    cdir = cdir[0:len(cdir)-1]\n",
      "    credsf = open(cdir+'.credentials/SQL/csaye', 'r')\n",
      "    creds = credsf.read().split('\\n')\n",
      "    conn = pymysql.connect(host=creds[0],\n",
      "                           port=int(creds[1]),\n",
      "                           user=creds[2],\n",
      "                           passwd=creds[3],\n",
      "                           db=creds[4])\n",
      "    cur = conn.cursor()\n",
      "    cur.execute(\"SHOW TABLES\")\n",
      "    preExistingTables = cur.fetchall()\n",
      "    if (not((table_name,) in preExistingTables)):\n",
      "       cur.execute(\"CREATE TABLE \" + table_name +\n",
      "                \" (\" + currentKeys[0] + \" \" +\n",
      "                currentTable[currentKeys[0]]+\")\")\n",
      "\n",
      "    cur.execute(\"DESCRIBE \"+table_name)\n",
      "    preexistingKeys = [x[0] for x in cur.fetchall()]\n",
      "    for key in currentKeys:\n",
      "        print('***************************************')\n",
      "        print(key)\n",
      "        if key in preexistingKeys:\n",
      "            print('Now removing '+key)\n",
      "            cur.execute(\"ALTER TABLE \" + table_name + \" DROP \" + key)\n",
      "        else:\n",
      "            print('***WARNING! KEY DID NOT EXIST!***')"
     ],
     "language": "python",
     "metadata": {},
     "outputs": [],
     "prompt_number": 116
    },
    {
     "cell_type": "code",
     "collapsed": false,
     "input": [
      "def createdb(tablenum, arg2):\n",
      "    ntable = int(tablenum)\n",
      "    table_names, table_dict = getTables()\n",
      "    createTable(table_names[ntable], table_dict)"
     ],
     "language": "python",
     "metadata": {},
     "outputs": [],
     "prompt_number": 117
    },
    {
     "cell_type": "code",
     "collapsed": false,
     "input": [
      "table_names, table_dict = getTables()\n",
      "observations_table = table_dict[\"observations\"]\n",
      "type(observations_table)\n",
      "#observations_table.keys()"
     ],
     "language": "python",
     "metadata": {},
     "outputs": [
      {
       "metadata": {},
       "output_type": "pyout",
       "prompt_number": 118,
       "text": [
        "collections.OrderedDict"
       ]
      }
     ],
     "prompt_number": 118
    },
    {
     "cell_type": "code",
     "collapsed": false,
     "input": [
      "table_names"
     ],
     "language": "python",
     "metadata": {},
     "outputs": [
      {
       "metadata": {},
       "output_type": "pyout",
       "prompt_number": 119,
       "text": [
        "['observations',\n",
        " 'ccdsections',\n",
        " 'environment',\n",
        " 'weather',\n",
        " 'seeing',\n",
        " 'exposuremeter',\n",
        " 'reduction']"
       ]
      }
     ],
     "prompt_number": 119
    },
    {
     "cell_type": "code",
     "collapsed": false,
     "input": [
      "createTable(table_names[0], table_dict)"
     ],
     "language": "python",
     "metadata": {},
     "outputs": [
      {
       "output_type": "stream",
       "stream": "stdout",
       "text": [
        "***************************************\n",
        "observation_id\n",
        "***WARNING! KEY ALREADY EXISTED!***\n",
        "***************************************\n",
        "object_id\n",
        "***WARNING! KEY ALREADY EXISTED!***\n",
        "***************************************\n",
        "simple\n",
        "***WARNING! KEY ALREADY EXISTED!***\n",
        "***************************************\n",
        "bitpix\n",
        "***WARNING! KEY ALREADY EXISTED!***\n",
        "***************************************\n",
        "naxis\n",
        "***WARNING! KEY ALREADY EXISTED!***\n",
        "***************************************\n",
        "naxis1\n",
        "***WARNING! KEY ALREADY EXISTED!***\n",
        "***************************************\n",
        "naxis2\n",
        "***WARNING! KEY ALREADY EXISTED!***\n",
        "***************************************\n",
        "extend\n",
        "***WARNING! KEY ALREADY EXISTED!***\n",
        "***************************************\n",
        "bzero\n",
        "***WARNING! KEY ALREADY EXISTED!***\n",
        "***************************************\n",
        "bscale\n",
        "***WARNING! KEY ALREADY EXISTED!***\n",
        "***************************************\n",
        "object\n",
        "***WARNING! KEY ALREADY EXISTED!***\n",
        "***************************************\n",
        "observer\n",
        "***WARNING! KEY ALREADY EXISTED!***\n",
        "***************************************\n",
        "propid\n",
        "***WARNING! KEY ALREADY EXISTED!***\n",
        "***************************************\n",
        "obsid\n",
        "***WARNING! KEY ALREADY EXISTED!***\n",
        "***************************************\n",
        "imagetyp\n",
        "***WARNING! KEY ALREADY EXISTED!***\n",
        "***************************************\n",
        "ccdsum\n",
        "***WARNING! KEY ALREADY EXISTED!***\n",
        "***************************************\n",
        "roireq\n",
        "***WARNING! KEY ALREADY EXISTED!***\n",
        "***************************************\n",
        "utshut\n",
        "***WARNING! KEY ALREADY EXISTED!***\n",
        "***************************************\n",
        "date\n",
        "***WARNING! KEY ALREADY EXISTED!***\n",
        "***************************************\n",
        "nampsyx\n",
        "***WARNING! KEY ALREADY EXISTED!***\n",
        "***************************************\n",
        "amplist\n",
        "***WARNING! KEY ALREADY EXISTED!***\n",
        "***************************************\n",
        "detector\n",
        "***WARNING! KEY ALREADY EXISTED!***\n",
        "***************************************\n",
        "fpa\n",
        "***WARNING! KEY ALREADY EXISTED!***\n",
        "***************************************\n",
        "rexptime\n",
        "***WARNING! KEY ALREADY EXISTED!***\n",
        "***************************************\n",
        "exptime\n",
        "***WARNING! KEY ALREADY EXISTED!***\n",
        "***************************************\n",
        "texptime\n",
        "***WARNING! KEY ALREADY EXISTED!***\n",
        "***************************************\n",
        "darktime\n",
        "***WARNING! KEY ALREADY EXISTED!***\n",
        "***************************************\n",
        "nimages\n",
        "***WARNING! KEY ALREADY EXISTED!***\n",
        "***************************************\n",
        "dheinf\n",
        "***WARNING! KEY ALREADY EXISTED!***\n",
        "***************************************\n",
        "dhefirm\n",
        "***WARNING! KEY ALREADY EXISTED!***\n",
        "***************************************\n",
        "speedmod\n",
        "***WARNING! KEY ALREADY EXISTED!***\n",
        "***************************************\n",
        "geommod\n",
        "***WARNING! KEY ALREADY EXISTED!***\n",
        "***************************************\n",
        "pixtime\n",
        "***WARNING! KEY ALREADY EXISTED!***\n",
        "***************************************\n",
        "powstat\n",
        "***WARNING! KEY ALREADY EXISTED!***\n",
        "***************************************\n",
        "fpgafirm\n",
        "***WARNING! KEY ALREADY EXISTED!***\n",
        "***************************************\n",
        "slot00\n",
        "***WARNING! KEY ALREADY EXISTED!***\n",
        "***************************************\n",
        "slot01\n",
        "***WARNING! KEY ALREADY EXISTED!***\n",
        "***************************************\n",
        "slot02\n",
        "***WARNING! KEY ALREADY EXISTED!***\n",
        "***************************************\n",
        "slot03\n",
        "***WARNING! KEY ALREADY EXISTED!***\n",
        "***************************************\n",
        "slot04\n",
        "***WARNING! KEY ALREADY EXISTED!***\n",
        "***************************************\n",
        "slot07\n",
        "***WARNING! KEY ALREADY EXISTED!***\n",
        "***************************************\n",
        "panid\n",
        "***WARNING! KEY ALREADY EXISTED!***\n",
        "***************************************\n",
        "comment\n",
        "***WARNING! KEY ALREADY EXISTED!***\n",
        "***************************************\n",
        "dhsid\n",
        "***WARNING! KEY ALREADY EXISTED!***\n",
        "***************************************\n",
        "deckpos\n",
        "***WARNING! KEY ALREADY EXISTED!***\n",
        "***************************************\n",
        "decker\n",
        "***WARNING! KEY ALREADY EXISTED!***\n",
        "***************************************\n",
        "focus\n",
        "***WARNING! KEY ALREADY EXISTED!***\n",
        "***************************************\n",
        "maxexp\n",
        "***WARNING! KEY ALREADY EXISTED!***\n",
        "***************************************\n",
        "pmhv\n",
        "***WARNING! KEY ALREADY EXISTED!***\n",
        "***************************************\n",
        "complamp\n",
        "***WARNING! KEY ALREADY EXISTED!***\n",
        "***************************************\n",
        "iodcell\n",
        "***WARNING! KEY ALREADY EXISTED!***\n",
        "***************************************\n",
        "observat\n",
        "***WARNING! KEY ALREADY EXISTED!***\n",
        "***************************************\n",
        "telescop\n",
        "***WARNING! KEY ALREADY EXISTED!***\n",
        "***************************************\n",
        "date_obs\n",
        "***WARNING! KEY ALREADY EXISTED!***\n",
        "***************************************\n",
        "ut\n",
        "***WARNING! KEY ALREADY EXISTED!***\n",
        "***************************************\n",
        "obs_ra\n",
        "***WARNING! KEY ALREADY EXISTED!***\n",
        "***************************************\n",
        "obs_dec\n",
        "***WARNING! KEY ALREADY EXISTED!***\n",
        "***************************************\n",
        "epoch\n",
        "***WARNING! KEY ALREADY EXISTED!***\n",
        "***************************************\n",
        "alt\n",
        "***WARNING! KEY ALREADY EXISTED!***\n",
        "***************************************\n",
        "ha\n",
        "***WARNING! KEY ALREADY EXISTED!***\n",
        "***************************************\n",
        "st\n",
        "***WARNING! KEY ALREADY EXISTED!***\n",
        "***************************************\n",
        "zd\n",
        "***WARNING! KEY ALREADY EXISTED!***\n",
        "***************************************\n",
        "airmass\n",
        "Now adding airmass\n"
       ]
      }
     ],
     "prompt_number": 128
    },
    {
     "cell_type": "code",
     "collapsed": false,
     "input": [
      "removeTableFields(table_names[0], table_dict)"
     ],
     "language": "python",
     "metadata": {},
     "outputs": [
      {
       "output_type": "stream",
       "stream": "stdout",
       "text": [
        "***************************************\n",
        "observation_id\n",
        "Now removing observation_id\n",
        "***************************************"
       ]
      },
      {
       "output_type": "stream",
       "stream": "stdout",
       "text": [
        "\n",
        "object_id\n",
        "Now removing object_id\n",
        "***************************************"
       ]
      },
      {
       "output_type": "stream",
       "stream": "stdout",
       "text": [
        "\n",
        "simple\n",
        "Now removing simple\n",
        "***************************************"
       ]
      },
      {
       "output_type": "stream",
       "stream": "stdout",
       "text": [
        "\n",
        "bitpix\n",
        "Now removing bitpix\n",
        "***************************************"
       ]
      },
      {
       "output_type": "stream",
       "stream": "stdout",
       "text": [
        "\n",
        "naxis\n",
        "Now removing naxis\n",
        "***************************************"
       ]
      },
      {
       "output_type": "stream",
       "stream": "stdout",
       "text": [
        "\n",
        "naxis1\n",
        "Now removing naxis1\n",
        "***************************************\n",
        "naxis2\n",
        "Now removing naxis2\n",
        "***************************************"
       ]
      },
      {
       "output_type": "stream",
       "stream": "stdout",
       "text": [
        "\n",
        "extend\n",
        "Now removing extend\n",
        "***************************************"
       ]
      },
      {
       "output_type": "stream",
       "stream": "stdout",
       "text": [
        "\n",
        "bzero\n",
        "Now removing bzero\n",
        "***************************************"
       ]
      },
      {
       "output_type": "stream",
       "stream": "stdout",
       "text": [
        "\n",
        "bscale\n",
        "Now removing bscale\n",
        "***************************************"
       ]
      },
      {
       "output_type": "stream",
       "stream": "stdout",
       "text": [
        "\n",
        "object\n",
        "Now removing object\n",
        "***************************************\n",
        "observer\n",
        "Now removing observer\n",
        "***************************************"
       ]
      },
      {
       "output_type": "stream",
       "stream": "stdout",
       "text": [
        "\n",
        "propid\n",
        "Now removing propid\n",
        "***************************************"
       ]
      },
      {
       "output_type": "stream",
       "stream": "stdout",
       "text": [
        "\n",
        "obsid\n",
        "Now removing obsid\n",
        "***************************************"
       ]
      },
      {
       "output_type": "stream",
       "stream": "stdout",
       "text": [
        "\n",
        "imagetyp\n",
        "Now removing imagetyp\n",
        "***************************************"
       ]
      },
      {
       "output_type": "stream",
       "stream": "stdout",
       "text": [
        "\n",
        "ccdsum\n",
        "Now removing ccdsum\n",
        "***************************************\n",
        "roireq\n",
        "Now removing roireq\n",
        "***************************************"
       ]
      },
      {
       "output_type": "stream",
       "stream": "stdout",
       "text": [
        "\n",
        "utshut\n",
        "Now removing utshut\n",
        "***************************************\n",
        "date\n",
        "Now removing date\n",
        "***************************************"
       ]
      },
      {
       "output_type": "stream",
       "stream": "stdout",
       "text": [
        "\n",
        "nampsyx\n",
        "Now removing nampsyx\n",
        "***************************************"
       ]
      },
      {
       "output_type": "stream",
       "stream": "stdout",
       "text": [
        "\n",
        "amplist\n",
        "Now removing amplist\n",
        "***************************************"
       ]
      },
      {
       "output_type": "stream",
       "stream": "stdout",
       "text": [
        "\n",
        "detector\n",
        "Now removing detector\n",
        "***************************************"
       ]
      },
      {
       "output_type": "stream",
       "stream": "stdout",
       "text": [
        "\n",
        "fpa\n",
        "Now removing fpa\n",
        "***************************************"
       ]
      },
      {
       "output_type": "stream",
       "stream": "stdout",
       "text": [
        "\n",
        "rexptime\n",
        "Now removing rexptime\n",
        "***************************************\n",
        "exptime\n",
        "Now removing exptime\n",
        "***************************************"
       ]
      },
      {
       "output_type": "stream",
       "stream": "stdout",
       "text": [
        "\n",
        "texptime\n",
        "Now removing texptime\n",
        "***************************************\n",
        "darktime\n",
        "Now removing darktime\n",
        "***************************************"
       ]
      },
      {
       "output_type": "stream",
       "stream": "stdout",
       "text": [
        "\n",
        "nimages\n",
        "Now removing nimages\n",
        "***************************************"
       ]
      },
      {
       "output_type": "stream",
       "stream": "stdout",
       "text": [
        "\n",
        "dheinf\n",
        "Now removing dheinf\n",
        "***************************************\n",
        "dhefirm\n",
        "Now removing dhefirm\n",
        "***************************************"
       ]
      },
      {
       "output_type": "stream",
       "stream": "stdout",
       "text": [
        "\n",
        "speedmod\n",
        "Now removing speedmod\n",
        "***************************************"
       ]
      },
      {
       "output_type": "stream",
       "stream": "stdout",
       "text": [
        "\n",
        "geommod\n",
        "Now removing geommod\n",
        "***************************************\n",
        "pixtime\n",
        "Now removing pixtime\n",
        "***************************************"
       ]
      },
      {
       "output_type": "stream",
       "stream": "stdout",
       "text": [
        "\n",
        "powstat\n",
        "Now removing powstat\n",
        "***************************************"
       ]
      },
      {
       "output_type": "stream",
       "stream": "stdout",
       "text": [
        "\n",
        "fpgafirm\n",
        "Now removing fpgafirm\n",
        "***************************************\n",
        "slot00\n",
        "Now removing slot00\n",
        "***************************************"
       ]
      },
      {
       "output_type": "stream",
       "stream": "stdout",
       "text": [
        "\n",
        "slot01\n",
        "Now removing slot01\n",
        "***************************************\n",
        "slot02\n",
        "Now removing slot02\n",
        "***************************************"
       ]
      },
      {
       "output_type": "stream",
       "stream": "stdout",
       "text": [
        "\n",
        "slot03\n",
        "Now removing slot03\n",
        "***************************************"
       ]
      },
      {
       "output_type": "stream",
       "stream": "stdout",
       "text": [
        "\n",
        "slot04\n",
        "Now removing slot04\n",
        "***************************************"
       ]
      },
      {
       "output_type": "stream",
       "stream": "stdout",
       "text": [
        "\n",
        "slot07\n",
        "Now removing slot07\n",
        "***************************************\n",
        "panid\n",
        "Now removing panid\n",
        "***************************************"
       ]
      },
      {
       "output_type": "stream",
       "stream": "stdout",
       "text": [
        "\n",
        "comment\n",
        "Now removing comment\n",
        "***************************************"
       ]
      },
      {
       "output_type": "stream",
       "stream": "stdout",
       "text": [
        "\n",
        "dhsid\n",
        "Now removing dhsid\n",
        "***************************************\n",
        "deckpos\n",
        "Now removing deckpos\n",
        "***************************************"
       ]
      },
      {
       "output_type": "stream",
       "stream": "stdout",
       "text": [
        "\n",
        "decker\n",
        "Now removing decker\n",
        "***************************************\n",
        "focus\n",
        "Now removing focus\n",
        "***************************************"
       ]
      },
      {
       "output_type": "stream",
       "stream": "stdout",
       "text": [
        "\n",
        "maxexp\n",
        "Now removing maxexp\n",
        "***************************************"
       ]
      },
      {
       "output_type": "stream",
       "stream": "stdout",
       "text": [
        "\n",
        "pmhv\n",
        "Now removing pmhv\n",
        "***************************************"
       ]
      },
      {
       "output_type": "stream",
       "stream": "stdout",
       "text": [
        "\n",
        "complamp\n",
        "Now removing complamp\n",
        "***************************************"
       ]
      },
      {
       "output_type": "stream",
       "stream": "stdout",
       "text": [
        "\n",
        "iodcell\n",
        "Now removing iodcell\n",
        "***************************************\n",
        "observat\n",
        "Now removing observat\n",
        "***************************************"
       ]
      },
      {
       "output_type": "stream",
       "stream": "stdout",
       "text": [
        "\n",
        "telescop\n",
        "Now removing telescop\n",
        "***************************************"
       ]
      },
      {
       "output_type": "stream",
       "stream": "stdout",
       "text": [
        "\n",
        "date_obs\n",
        "Now removing date_obs\n",
        "***************************************"
       ]
      },
      {
       "output_type": "stream",
       "stream": "stdout",
       "text": [
        "\n",
        "ut\n",
        "Now removing ut\n",
        "***************************************"
       ]
      },
      {
       "output_type": "stream",
       "stream": "stdout",
       "text": [
        "\n",
        "obs_ra\n",
        "Now removing obs_ra\n",
        "***************************************"
       ]
      },
      {
       "output_type": "stream",
       "stream": "stdout",
       "text": [
        "\n",
        "obs_dec\n",
        "Now removing obs_dec\n",
        "***************************************"
       ]
      },
      {
       "output_type": "stream",
       "stream": "stdout",
       "text": [
        "\n",
        "epoch\n",
        "Now removing epoch\n",
        "***************************************"
       ]
      },
      {
       "output_type": "stream",
       "stream": "stdout",
       "text": [
        "\n",
        "alt\n",
        "Now removing alt\n",
        "***************************************"
       ]
      },
      {
       "output_type": "stream",
       "stream": "stdout",
       "text": [
        "\n",
        "ha\n",
        "Now removing ha\n",
        "***************************************"
       ]
      },
      {
       "output_type": "stream",
       "stream": "stdout",
       "text": [
        "\n",
        "st\n",
        "Now removing st\n",
        "***************************************"
       ]
      },
      {
       "output_type": "stream",
       "stream": "stdout",
       "text": [
        "\n",
        "zd\n",
        "Now removing zd\n",
        "***************************************"
       ]
      },
      {
       "output_type": "stream",
       "stream": "stdout",
       "text": [
        "\n",
        "airmass\n",
        "Now removing airmass\n"
       ]
      },
      {
       "ename": "InternalError",
       "evalue": "(1090, u\"You can't delete all columns with ALTER TABLE; use DROP TABLE instead\")",
       "output_type": "pyerr",
       "traceback": [
        "\u001b[0;31m---------------------------------------------------------------------------\u001b[0m\n\u001b[0;31mInternalError\u001b[0m                             Traceback (most recent call last)",
        "\u001b[0;32m<ipython-input-101-023756e2e9a8>\u001b[0m in \u001b[0;36m<module>\u001b[0;34m()\u001b[0m\n\u001b[0;32m----> 1\u001b[0;31m \u001b[0mremoveTableFields\u001b[0m\u001b[0;34m(\u001b[0m\u001b[0mtable_names\u001b[0m\u001b[0;34m[\u001b[0m\u001b[0;36m0\u001b[0m\u001b[0;34m]\u001b[0m\u001b[0;34m,\u001b[0m \u001b[0mtable_dict\u001b[0m\u001b[0;34m)\u001b[0m\u001b[0;34m\u001b[0m\u001b[0m\n\u001b[0m",
        "\u001b[0;32m<ipython-input-100-6a7633c3006c>\u001b[0m in \u001b[0;36mremoveTableFields\u001b[0;34m(table_name, table_dict)\u001b[0m\n\u001b[1;32m     32\u001b[0m         \u001b[0;32mif\u001b[0m \u001b[0mkey\u001b[0m \u001b[0;32min\u001b[0m \u001b[0mpreexistingKeys\u001b[0m\u001b[0;34m:\u001b[0m\u001b[0;34m\u001b[0m\u001b[0m\n\u001b[1;32m     33\u001b[0m             \u001b[0;32mprint\u001b[0m\u001b[0;34m(\u001b[0m\u001b[0;34m'Now removing '\u001b[0m\u001b[0;34m+\u001b[0m\u001b[0mkey\u001b[0m\u001b[0;34m)\u001b[0m\u001b[0;34m\u001b[0m\u001b[0m\n\u001b[0;32m---> 34\u001b[0;31m             \u001b[0mcur\u001b[0m\u001b[0;34m.\u001b[0m\u001b[0mexecute\u001b[0m\u001b[0;34m(\u001b[0m\u001b[0;34m\"ALTER TABLE \"\u001b[0m \u001b[0;34m+\u001b[0m \u001b[0mtable_name\u001b[0m \u001b[0;34m+\u001b[0m \u001b[0;34m\" DROP \"\u001b[0m \u001b[0;34m+\u001b[0m \u001b[0mkey\u001b[0m\u001b[0;34m)\u001b[0m\u001b[0;34m\u001b[0m\u001b[0m\n\u001b[0m\u001b[1;32m     35\u001b[0m         \u001b[0;32melse\u001b[0m\u001b[0;34m:\u001b[0m\u001b[0;34m\u001b[0m\u001b[0m\n\u001b[1;32m     36\u001b[0m             \u001b[0;32mprint\u001b[0m\u001b[0;34m(\u001b[0m\u001b[0;34m'***WARNING! KEY DID NOT EXIST!***'\u001b[0m\u001b[0;34m)\u001b[0m\u001b[0;34m\u001b[0m\u001b[0m\n",
        "\u001b[0;32m/Applications/anaconda/lib/python2.7/site-packages/pymysql/cursors.pyc\u001b[0m in \u001b[0;36mexecute\u001b[0;34m(self, query, args)\u001b[0m\n\u001b[1;32m    100\u001b[0m             \u001b[0mquery\u001b[0m \u001b[0;34m=\u001b[0m \u001b[0mquery\u001b[0m \u001b[0;34m%\u001b[0m \u001b[0mescaped_args\u001b[0m\u001b[0;34m\u001b[0m\u001b[0m\n\u001b[1;32m    101\u001b[0m \u001b[0;34m\u001b[0m\u001b[0m\n\u001b[0;32m--> 102\u001b[0;31m         \u001b[0mresult\u001b[0m \u001b[0;34m=\u001b[0m \u001b[0mself\u001b[0m\u001b[0;34m.\u001b[0m\u001b[0m_query\u001b[0m\u001b[0;34m(\u001b[0m\u001b[0mquery\u001b[0m\u001b[0;34m)\u001b[0m\u001b[0;34m\u001b[0m\u001b[0m\n\u001b[0m\u001b[1;32m    103\u001b[0m         \u001b[0mself\u001b[0m\u001b[0;34m.\u001b[0m\u001b[0m_executed\u001b[0m \u001b[0;34m=\u001b[0m \u001b[0mquery\u001b[0m\u001b[0;34m\u001b[0m\u001b[0m\n\u001b[1;32m    104\u001b[0m         \u001b[0;32mreturn\u001b[0m \u001b[0mresult\u001b[0m\u001b[0;34m\u001b[0m\u001b[0m\n",
        "\u001b[0;32m/Applications/anaconda/lib/python2.7/site-packages/pymysql/cursors.pyc\u001b[0m in \u001b[0;36m_query\u001b[0;34m(self, q)\u001b[0m\n\u001b[1;32m    200\u001b[0m         \u001b[0mconn\u001b[0m \u001b[0;34m=\u001b[0m \u001b[0mself\u001b[0m\u001b[0;34m.\u001b[0m\u001b[0m_get_db\u001b[0m\u001b[0;34m(\u001b[0m\u001b[0;34m)\u001b[0m\u001b[0;34m\u001b[0m\u001b[0m\n\u001b[1;32m    201\u001b[0m         \u001b[0mself\u001b[0m\u001b[0;34m.\u001b[0m\u001b[0m_last_executed\u001b[0m \u001b[0;34m=\u001b[0m \u001b[0mq\u001b[0m\u001b[0;34m\u001b[0m\u001b[0m\n\u001b[0;32m--> 202\u001b[0;31m         \u001b[0mconn\u001b[0m\u001b[0;34m.\u001b[0m\u001b[0mquery\u001b[0m\u001b[0;34m(\u001b[0m\u001b[0mq\u001b[0m\u001b[0;34m)\u001b[0m\u001b[0;34m\u001b[0m\u001b[0m\n\u001b[0m\u001b[1;32m    203\u001b[0m         \u001b[0mself\u001b[0m\u001b[0;34m.\u001b[0m\u001b[0m_do_get_result\u001b[0m\u001b[0;34m(\u001b[0m\u001b[0;34m)\u001b[0m\u001b[0;34m\u001b[0m\u001b[0m\n\u001b[1;32m    204\u001b[0m         \u001b[0;32mreturn\u001b[0m \u001b[0mself\u001b[0m\u001b[0;34m.\u001b[0m\u001b[0mrowcount\u001b[0m\u001b[0;34m\u001b[0m\u001b[0m\n",
        "\u001b[0;32m/Applications/anaconda/lib/python2.7/site-packages/pymysql/connections.pyc\u001b[0m in \u001b[0;36mquery\u001b[0;34m(self, sql, unbuffered)\u001b[0m\n\u001b[1;32m    732\u001b[0m             \u001b[0msql\u001b[0m \u001b[0;34m=\u001b[0m \u001b[0msql\u001b[0m\u001b[0;34m.\u001b[0m\u001b[0mencode\u001b[0m\u001b[0;34m(\u001b[0m\u001b[0mself\u001b[0m\u001b[0;34m.\u001b[0m\u001b[0mencoding\u001b[0m\u001b[0;34m)\u001b[0m\u001b[0;34m\u001b[0m\u001b[0m\n\u001b[1;32m    733\u001b[0m         \u001b[0mself\u001b[0m\u001b[0;34m.\u001b[0m\u001b[0m_execute_command\u001b[0m\u001b[0;34m(\u001b[0m\u001b[0mCOM_QUERY\u001b[0m\u001b[0;34m,\u001b[0m \u001b[0msql\u001b[0m\u001b[0;34m)\u001b[0m\u001b[0;34m\u001b[0m\u001b[0m\n\u001b[0;32m--> 734\u001b[0;31m         \u001b[0mself\u001b[0m\u001b[0;34m.\u001b[0m\u001b[0m_affected_rows\u001b[0m \u001b[0;34m=\u001b[0m \u001b[0mself\u001b[0m\u001b[0;34m.\u001b[0m\u001b[0m_read_query_result\u001b[0m\u001b[0;34m(\u001b[0m\u001b[0munbuffered\u001b[0m\u001b[0;34m=\u001b[0m\u001b[0munbuffered\u001b[0m\u001b[0;34m)\u001b[0m\u001b[0;34m\u001b[0m\u001b[0m\n\u001b[0m\u001b[1;32m    735\u001b[0m         \u001b[0;32mreturn\u001b[0m \u001b[0mself\u001b[0m\u001b[0;34m.\u001b[0m\u001b[0m_affected_rows\u001b[0m\u001b[0;34m\u001b[0m\u001b[0m\n\u001b[1;32m    736\u001b[0m \u001b[0;34m\u001b[0m\u001b[0m\n",
        "\u001b[0;32m/Applications/anaconda/lib/python2.7/site-packages/pymysql/connections.pyc\u001b[0m in \u001b[0;36m_read_query_result\u001b[0;34m(self, unbuffered)\u001b[0m\n\u001b[1;32m    843\u001b[0m         \u001b[0;32melse\u001b[0m\u001b[0;34m:\u001b[0m\u001b[0;34m\u001b[0m\u001b[0m\n\u001b[1;32m    844\u001b[0m             \u001b[0mresult\u001b[0m \u001b[0;34m=\u001b[0m \u001b[0mMySQLResult\u001b[0m\u001b[0;34m(\u001b[0m\u001b[0mself\u001b[0m\u001b[0;34m)\u001b[0m\u001b[0;34m\u001b[0m\u001b[0m\n\u001b[0;32m--> 845\u001b[0;31m             \u001b[0mresult\u001b[0m\u001b[0;34m.\u001b[0m\u001b[0mread\u001b[0m\u001b[0;34m(\u001b[0m\u001b[0;34m)\u001b[0m\u001b[0;34m\u001b[0m\u001b[0m\n\u001b[0m\u001b[1;32m    846\u001b[0m         \u001b[0mself\u001b[0m\u001b[0;34m.\u001b[0m\u001b[0m_result\u001b[0m \u001b[0;34m=\u001b[0m \u001b[0mresult\u001b[0m\u001b[0;34m\u001b[0m\u001b[0m\n\u001b[1;32m    847\u001b[0m         \u001b[0;32mif\u001b[0m \u001b[0mresult\u001b[0m\u001b[0;34m.\u001b[0m\u001b[0mserver_status\u001b[0m \u001b[0;32mis\u001b[0m \u001b[0;32mnot\u001b[0m \u001b[0mNone\u001b[0m\u001b[0;34m:\u001b[0m\u001b[0;34m\u001b[0m\u001b[0m\n",
        "\u001b[0;32m/Applications/anaconda/lib/python2.7/site-packages/pymysql/connections.pyc\u001b[0m in \u001b[0;36mread\u001b[0;34m(self)\u001b[0m\n\u001b[1;32m   1046\u001b[0m \u001b[0;34m\u001b[0m\u001b[0m\n\u001b[1;32m   1047\u001b[0m     \u001b[0;32mdef\u001b[0m \u001b[0mread\u001b[0m\u001b[0;34m(\u001b[0m\u001b[0mself\u001b[0m\u001b[0;34m)\u001b[0m\u001b[0;34m:\u001b[0m\u001b[0;34m\u001b[0m\u001b[0m\n\u001b[0;32m-> 1048\u001b[0;31m         \u001b[0mfirst_packet\u001b[0m \u001b[0;34m=\u001b[0m \u001b[0mself\u001b[0m\u001b[0;34m.\u001b[0m\u001b[0mconnection\u001b[0m\u001b[0;34m.\u001b[0m\u001b[0m_read_packet\u001b[0m\u001b[0;34m(\u001b[0m\u001b[0;34m)\u001b[0m\u001b[0;34m\u001b[0m\u001b[0m\n\u001b[0m\u001b[1;32m   1049\u001b[0m \u001b[0;34m\u001b[0m\u001b[0m\n\u001b[1;32m   1050\u001b[0m         \u001b[0;31m# TODO: use classes for different packet types?\u001b[0m\u001b[0;34m\u001b[0m\u001b[0;34m\u001b[0m\u001b[0m\n",
        "\u001b[0;32m/Applications/anaconda/lib/python2.7/site-packages/pymysql/connections.pyc\u001b[0m in \u001b[0;36m_read_packet\u001b[0;34m(self, packet_type)\u001b[0m\n\u001b[1;32m    824\u001b[0m \u001b[0;34m\u001b[0m\u001b[0m\n\u001b[1;32m    825\u001b[0m         \u001b[0mpacket\u001b[0m \u001b[0;34m=\u001b[0m \u001b[0mpacket_type\u001b[0m\u001b[0;34m(\u001b[0m\u001b[0mself\u001b[0m\u001b[0;34m)\u001b[0m\u001b[0;34m\u001b[0m\u001b[0m\n\u001b[0;32m--> 826\u001b[0;31m         \u001b[0mpacket\u001b[0m\u001b[0;34m.\u001b[0m\u001b[0mcheck_error\u001b[0m\u001b[0;34m(\u001b[0m\u001b[0;34m)\u001b[0m\u001b[0;34m\u001b[0m\u001b[0m\n\u001b[0m\u001b[1;32m    827\u001b[0m         \u001b[0;32mreturn\u001b[0m \u001b[0mpacket\u001b[0m\u001b[0;34m\u001b[0m\u001b[0m\n\u001b[1;32m    828\u001b[0m \u001b[0;34m\u001b[0m\u001b[0m\n",
        "\u001b[0;32m/Applications/anaconda/lib/python2.7/site-packages/pymysql/connections.pyc\u001b[0m in \u001b[0;36mcheck_error\u001b[0;34m(self)\u001b[0m\n\u001b[1;32m    371\u001b[0m             \u001b[0merrno\u001b[0m \u001b[0;34m=\u001b[0m \u001b[0munpack_uint16\u001b[0m\u001b[0;34m(\u001b[0m\u001b[0mself\u001b[0m\u001b[0;34m.\u001b[0m\u001b[0mread\u001b[0m\u001b[0;34m(\u001b[0m\u001b[0;36m2\u001b[0m\u001b[0;34m)\u001b[0m\u001b[0;34m)\u001b[0m\u001b[0;34m\u001b[0m\u001b[0m\n\u001b[1;32m    372\u001b[0m             \u001b[0;32mif\u001b[0m \u001b[0mDEBUG\u001b[0m\u001b[0;34m:\u001b[0m \u001b[0;32mprint\u001b[0m\u001b[0;34m(\u001b[0m\u001b[0;34m\"errno = {}\"\u001b[0m\u001b[0;34m.\u001b[0m\u001b[0mformat\u001b[0m\u001b[0;34m(\u001b[0m\u001b[0merrno\u001b[0m\u001b[0;34m)\u001b[0m\u001b[0;34m)\u001b[0m\u001b[0;34m\u001b[0m\u001b[0m\n\u001b[0;32m--> 373\u001b[0;31m             \u001b[0mraise_mysql_exception\u001b[0m\u001b[0;34m(\u001b[0m\u001b[0mself\u001b[0m\u001b[0;34m.\u001b[0m\u001b[0m__data\u001b[0m\u001b[0;34m)\u001b[0m\u001b[0;34m\u001b[0m\u001b[0m\n\u001b[0m\u001b[1;32m    374\u001b[0m \u001b[0;34m\u001b[0m\u001b[0m\n\u001b[1;32m    375\u001b[0m     \u001b[0;32mdef\u001b[0m \u001b[0mdump\u001b[0m\u001b[0;34m(\u001b[0m\u001b[0mself\u001b[0m\u001b[0;34m)\u001b[0m\u001b[0;34m:\u001b[0m\u001b[0;34m\u001b[0m\u001b[0m\n",
        "\u001b[0;32m/Applications/anaconda/lib/python2.7/site-packages/pymysql/err.pyc\u001b[0m in \u001b[0;36mraise_mysql_exception\u001b[0;34m(data)\u001b[0m\n\u001b[1;32m    115\u001b[0m \u001b[0;32mdef\u001b[0m \u001b[0mraise_mysql_exception\u001b[0m\u001b[0;34m(\u001b[0m\u001b[0mdata\u001b[0m\u001b[0;34m)\u001b[0m\u001b[0;34m:\u001b[0m\u001b[0;34m\u001b[0m\u001b[0m\n\u001b[1;32m    116\u001b[0m     \u001b[0merrinfo\u001b[0m \u001b[0;34m=\u001b[0m \u001b[0m_get_error_info\u001b[0m\u001b[0;34m(\u001b[0m\u001b[0mdata\u001b[0m\u001b[0;34m)\u001b[0m\u001b[0;34m\u001b[0m\u001b[0m\n\u001b[0;32m--> 117\u001b[0;31m     \u001b[0m_check_mysql_exception\u001b[0m\u001b[0;34m(\u001b[0m\u001b[0merrinfo\u001b[0m\u001b[0;34m)\u001b[0m\u001b[0;34m\u001b[0m\u001b[0m\n\u001b[0m",
        "\u001b[0;32m/Applications/anaconda/lib/python2.7/site-packages/pymysql/err.pyc\u001b[0m in \u001b[0;36m_check_mysql_exception\u001b[0;34m(errinfo)\u001b[0m\n\u001b[1;32m    111\u001b[0m \u001b[0;34m\u001b[0m\u001b[0m\n\u001b[1;32m    112\u001b[0m     \u001b[0;31m# couldn't find the right error number\u001b[0m\u001b[0;34m\u001b[0m\u001b[0;34m\u001b[0m\u001b[0m\n\u001b[0;32m--> 113\u001b[0;31m     \u001b[0;32mraise\u001b[0m \u001b[0mInternalError\u001b[0m\u001b[0;34m(\u001b[0m\u001b[0merrno\u001b[0m\u001b[0;34m,\u001b[0m \u001b[0merrorvalue\u001b[0m\u001b[0;34m)\u001b[0m\u001b[0;34m\u001b[0m\u001b[0m\n\u001b[0m\u001b[1;32m    114\u001b[0m \u001b[0;34m\u001b[0m\u001b[0m\n\u001b[1;32m    115\u001b[0m \u001b[0;32mdef\u001b[0m \u001b[0mraise_mysql_exception\u001b[0m\u001b[0;34m(\u001b[0m\u001b[0mdata\u001b[0m\u001b[0;34m)\u001b[0m\u001b[0;34m:\u001b[0m\u001b[0;34m\u001b[0m\u001b[0m\n",
        "\u001b[0;31mInternalError\u001b[0m: (1090, u\"You can't delete all columns with ALTER TABLE; use DROP TABLE instead\")"
       ]
      }
     ],
     "prompt_number": 101
    },
    {
     "cell_type": "code",
     "collapsed": false,
     "input": [
      "from collections import OrderedDict\n",
      "import pandas"
     ],
     "language": "python",
     "metadata": {},
     "outputs": [],
     "prompt_number": 21
    },
    {
     "cell_type": "code",
     "collapsed": false,
     "input": [
      "newTable = OrderedDict()\n",
      "tableContents = pandas.read_csv('tables/ObservationsTable.txt')\n",
      "tableContents"
     ],
     "language": "python",
     "metadata": {},
     "outputs": [
      {
       "html": [
        "<div style=\"max-height:1000px;max-width:1500px;overflow:auto;\">\n",
        "<table border=\"1\" class=\"dataframe\">\n",
        "  <thead>\n",
        "    <tr style=\"text-align: right;\">\n",
        "      <th></th>\n",
        "      <th>fieldName</th>\n",
        "      <th>variableType</th>\n",
        "    </tr>\n",
        "  </thead>\n",
        "  <tbody>\n",
        "    <tr>\n",
        "      <th>0 </th>\n",
        "      <td> observation_id</td>\n",
        "      <td>  INT AUTO_INCREMENT PRIMARY KEY</td>\n",
        "    </tr>\n",
        "    <tr>\n",
        "      <th>1 </th>\n",
        "      <td>      object_id</td>\n",
        "      <td>                             INT</td>\n",
        "    </tr>\n",
        "    <tr>\n",
        "      <th>2 </th>\n",
        "      <td>         simple</td>\n",
        "      <td>                         char(1)</td>\n",
        "    </tr>\n",
        "    <tr>\n",
        "      <th>3 </th>\n",
        "      <td>         bitpix</td>\n",
        "      <td>                           FLOAT</td>\n",
        "    </tr>\n",
        "    <tr>\n",
        "      <th>4 </th>\n",
        "      <td>          naxis</td>\n",
        "      <td>                             INT</td>\n",
        "    </tr>\n",
        "    <tr>\n",
        "      <th>5 </th>\n",
        "      <td>         naxis1</td>\n",
        "      <td>                             INT</td>\n",
        "    </tr>\n",
        "    <tr>\n",
        "      <th>6 </th>\n",
        "      <td>         naxis2</td>\n",
        "      <td>                             INT</td>\n",
        "    </tr>\n",
        "    <tr>\n",
        "      <th>7 </th>\n",
        "      <td>         extend</td>\n",
        "      <td>                         char(1)</td>\n",
        "    </tr>\n",
        "    <tr>\n",
        "      <th>8 </th>\n",
        "      <td>          bzero</td>\n",
        "      <td>                             INT</td>\n",
        "    </tr>\n",
        "    <tr>\n",
        "      <th>9 </th>\n",
        "      <td>         bscale</td>\n",
        "      <td>                             INT</td>\n",
        "    </tr>\n",
        "    <tr>\n",
        "      <th>10</th>\n",
        "      <td>         object</td>\n",
        "      <td>                     varchar(60)</td>\n",
        "    </tr>\n",
        "    <tr>\n",
        "      <th>11</th>\n",
        "      <td>       observer</td>\n",
        "      <td>                     varchar(60)</td>\n",
        "    </tr>\n",
        "    <tr>\n",
        "      <th>12</th>\n",
        "      <td>         propid</td>\n",
        "      <td>                             INT</td>\n",
        "    </tr>\n",
        "    <tr>\n",
        "      <th>13</th>\n",
        "      <td>          obsid</td>\n",
        "      <td>                     varchar(60)</td>\n",
        "    </tr>\n",
        "    <tr>\n",
        "      <th>14</th>\n",
        "      <td>       imagetyp</td>\n",
        "      <td>                     varchar(60)</td>\n",
        "    </tr>\n",
        "    <tr>\n",
        "      <th>15</th>\n",
        "      <td>         ccdsum</td>\n",
        "      <td>                     varchar(60)</td>\n",
        "    </tr>\n",
        "    <tr>\n",
        "      <th>16</th>\n",
        "      <td>         roireq</td>\n",
        "      <td>                     varchar(60)</td>\n",
        "    </tr>\n",
        "    <tr>\n",
        "      <th>17</th>\n",
        "      <td>         utshut</td>\n",
        "      <td>                     varchar(60)</td>\n",
        "    </tr>\n",
        "    <tr>\n",
        "      <th>18</th>\n",
        "      <td>           date</td>\n",
        "      <td>                     varchar(60)</td>\n",
        "    </tr>\n",
        "    <tr>\n",
        "      <th>19</th>\n",
        "      <td>        nampsyx</td>\n",
        "      <td>                     varchar(60)</td>\n",
        "    </tr>\n",
        "    <tr>\n",
        "      <th>20</th>\n",
        "      <td>        amplist</td>\n",
        "      <td>                     varchar(60)</td>\n",
        "    </tr>\n",
        "    <tr>\n",
        "      <th>21</th>\n",
        "      <td>       detector</td>\n",
        "      <td>                     varchar(60)</td>\n",
        "    </tr>\n",
        "    <tr>\n",
        "      <th>22</th>\n",
        "      <td>            fpa</td>\n",
        "      <td>                     varchar(60)</td>\n",
        "    </tr>\n",
        "    <tr>\n",
        "      <th>23</th>\n",
        "      <td>       rexptime</td>\n",
        "      <td>                           FLOAT</td>\n",
        "    </tr>\n",
        "    <tr>\n",
        "      <th>24</th>\n",
        "      <td>        exptime</td>\n",
        "      <td>                           FLOAT</td>\n",
        "    </tr>\n",
        "    <tr>\n",
        "      <th>25</th>\n",
        "      <td>       texptime</td>\n",
        "      <td>                           FLOAT</td>\n",
        "    </tr>\n",
        "    <tr>\n",
        "      <th>26</th>\n",
        "      <td>       darktime</td>\n",
        "      <td>                           FLOAT</td>\n",
        "    </tr>\n",
        "    <tr>\n",
        "      <th>27</th>\n",
        "      <td>        nimages</td>\n",
        "      <td>                             INT</td>\n",
        "    </tr>\n",
        "    <tr>\n",
        "      <th>28</th>\n",
        "      <td>         dheinf</td>\n",
        "      <td>                     varchar(60)</td>\n",
        "    </tr>\n",
        "    <tr>\n",
        "      <th>29</th>\n",
        "      <td>        dhefirm</td>\n",
        "      <td>                     varchar(60)</td>\n",
        "    </tr>\n",
        "    <tr>\n",
        "      <th>30</th>\n",
        "      <td>       speedmod</td>\n",
        "      <td>                     varchar(60)</td>\n",
        "    </tr>\n",
        "    <tr>\n",
        "      <th>31</th>\n",
        "      <td>        geommod</td>\n",
        "      <td>                     varchar(60)</td>\n",
        "    </tr>\n",
        "    <tr>\n",
        "      <th>32</th>\n",
        "      <td>        pixtime</td>\n",
        "      <td>                           FLOAT</td>\n",
        "    </tr>\n",
        "    <tr>\n",
        "      <th>33</th>\n",
        "      <td>        powstat</td>\n",
        "      <td>                           FLOAT</td>\n",
        "    </tr>\n",
        "    <tr>\n",
        "      <th>34</th>\n",
        "      <td>       fpgafirm</td>\n",
        "      <td>                           FLOAT</td>\n",
        "    </tr>\n",
        "    <tr>\n",
        "      <th>35</th>\n",
        "      <td>         slot00</td>\n",
        "      <td>                     varchar(60)</td>\n",
        "    </tr>\n",
        "    <tr>\n",
        "      <th>36</th>\n",
        "      <td>         slot01</td>\n",
        "      <td>                     varchar(60)</td>\n",
        "    </tr>\n",
        "    <tr>\n",
        "      <th>37</th>\n",
        "      <td>         slot02</td>\n",
        "      <td>                     varchar(60)</td>\n",
        "    </tr>\n",
        "    <tr>\n",
        "      <th>38</th>\n",
        "      <td>         slot03</td>\n",
        "      <td>                     varchar(60)</td>\n",
        "    </tr>\n",
        "    <tr>\n",
        "      <th>39</th>\n",
        "      <td>         slot04</td>\n",
        "      <td>                     varchar(60)</td>\n",
        "    </tr>\n",
        "    <tr>\n",
        "      <th>40</th>\n",
        "      <td>         slot07</td>\n",
        "      <td>                     varchar(60)</td>\n",
        "    </tr>\n",
        "    <tr>\n",
        "      <th>41</th>\n",
        "      <td>         slot02</td>\n",
        "      <td>                     varchar(60)</td>\n",
        "    </tr>\n",
        "    <tr>\n",
        "      <th>42</th>\n",
        "      <td>          panid</td>\n",
        "      <td>                     varchar(60)</td>\n",
        "    </tr>\n",
        "    <tr>\n",
        "      <th>43</th>\n",
        "      <td>        comment</td>\n",
        "      <td>                     varchar(60)</td>\n",
        "    </tr>\n",
        "    <tr>\n",
        "      <th>44</th>\n",
        "      <td>          dhsid</td>\n",
        "      <td>                     varchar(60)</td>\n",
        "    </tr>\n",
        "    <tr>\n",
        "      <th>45</th>\n",
        "      <td>        deckpos</td>\n",
        "      <td>                           FLOAT</td>\n",
        "    </tr>\n",
        "    <tr>\n",
        "      <th>46</th>\n",
        "      <td>         decker</td>\n",
        "      <td>                     varchar(60)</td>\n",
        "    </tr>\n",
        "    <tr>\n",
        "      <th>47</th>\n",
        "      <td>          focus</td>\n",
        "      <td>                           FLOAT</td>\n",
        "    </tr>\n",
        "    <tr>\n",
        "      <th>48</th>\n",
        "      <td>         maxexp</td>\n",
        "      <td>                             INT</td>\n",
        "    </tr>\n",
        "    <tr>\n",
        "      <th>49</th>\n",
        "      <td>           pmhv</td>\n",
        "      <td>                     varchar(60)</td>\n",
        "    </tr>\n",
        "    <tr>\n",
        "      <th>50</th>\n",
        "      <td>       complamp</td>\n",
        "      <td>                     varchar(60)</td>\n",
        "    </tr>\n",
        "    <tr>\n",
        "      <th>51</th>\n",
        "      <td>        iodcell</td>\n",
        "      <td>                     varchar(60)</td>\n",
        "    </tr>\n",
        "    <tr>\n",
        "      <th>52</th>\n",
        "      <td>       observat</td>\n",
        "      <td>                     varchar(60)</td>\n",
        "    </tr>\n",
        "    <tr>\n",
        "      <th>53</th>\n",
        "      <td>       telescop</td>\n",
        "      <td>                     varchar(60)</td>\n",
        "    </tr>\n",
        "    <tr>\n",
        "      <th>54</th>\n",
        "      <td>           date</td>\n",
        "      <td>                b': 'varchar(60)</td>\n",
        "    </tr>\n",
        "    <tr>\n",
        "      <th>55</th>\n",
        "      <td>             ut</td>\n",
        "      <td>                     varchar(60)</td>\n",
        "    </tr>\n",
        "    <tr>\n",
        "      <th>56</th>\n",
        "      <td>             ra</td>\n",
        "      <td>                     varchar(60)</td>\n",
        "    </tr>\n",
        "    <tr>\n",
        "      <th>57</th>\n",
        "      <td>            dec</td>\n",
        "      <td>                     varchar(60)</td>\n",
        "    </tr>\n",
        "    <tr>\n",
        "      <th>58</th>\n",
        "      <td>          epoch</td>\n",
        "      <td>                           FLOAT</td>\n",
        "    </tr>\n",
        "    <tr>\n",
        "      <th>59</th>\n",
        "      <td>            alt</td>\n",
        "      <td>                           FLOAT</td>\n",
        "    </tr>\n",
        "    <tr>\n",
        "      <th></th>\n",
        "      <td>...</td>\n",
        "      <td>...</td>\n",
        "    </tr>\n",
        "  </tbody>\n",
        "</table>\n",
        "<p>64 rows \u00d7 2 columns</p>\n",
        "</div>"
       ],
       "metadata": {},
       "output_type": "pyout",
       "prompt_number": 38,
       "text": [
        "         fieldName                     variableType\n",
        "0   observation_id   INT AUTO_INCREMENT PRIMARY KEY\n",
        "1        object_id                              INT\n",
        "2           simple                          char(1)\n",
        "3           bitpix                            FLOAT\n",
        "4            naxis                              INT\n",
        "5           naxis1                              INT\n",
        "6           naxis2                              INT\n",
        "7           extend                          char(1)\n",
        "8            bzero                              INT\n",
        "9           bscale                              INT\n",
        "10          object                      varchar(60)\n",
        "11        observer                      varchar(60)\n",
        "12          propid                              INT\n",
        "13           obsid                      varchar(60)\n",
        "14        imagetyp                      varchar(60)\n",
        "15          ccdsum                      varchar(60)\n",
        "16          roireq                      varchar(60)\n",
        "17          utshut                      varchar(60)\n",
        "18            date                      varchar(60)\n",
        "19         nampsyx                      varchar(60)\n",
        "20         amplist                      varchar(60)\n",
        "21        detector                      varchar(60)\n",
        "22             fpa                      varchar(60)\n",
        "23        rexptime                            FLOAT\n",
        "24         exptime                            FLOAT\n",
        "25        texptime                            FLOAT\n",
        "26        darktime                            FLOAT\n",
        "27         nimages                              INT\n",
        "28          dheinf                      varchar(60)\n",
        "29         dhefirm                      varchar(60)\n",
        "30        speedmod                      varchar(60)\n",
        "31         geommod                      varchar(60)\n",
        "32         pixtime                            FLOAT\n",
        "33         powstat                            FLOAT\n",
        "34        fpgafirm                            FLOAT\n",
        "35          slot00                      varchar(60)\n",
        "36          slot01                      varchar(60)\n",
        "37          slot02                      varchar(60)\n",
        "38          slot03                      varchar(60)\n",
        "39          slot04                      varchar(60)\n",
        "40          slot07                      varchar(60)\n",
        "41          slot02                      varchar(60)\n",
        "42           panid                      varchar(60)\n",
        "43         comment                      varchar(60)\n",
        "44           dhsid                      varchar(60)\n",
        "45         deckpos                            FLOAT\n",
        "46          decker                      varchar(60)\n",
        "47           focus                            FLOAT\n",
        "48          maxexp                              INT\n",
        "49            pmhv                      varchar(60)\n",
        "50        complamp                      varchar(60)\n",
        "51         iodcell                      varchar(60)\n",
        "52        observat                      varchar(60)\n",
        "53        telescop                      varchar(60)\n",
        "54            date                 b': 'varchar(60)\n",
        "55              ut                      varchar(60)\n",
        "56              ra                      varchar(60)\n",
        "57             dec                      varchar(60)\n",
        "58           epoch                            FLOAT\n",
        "59             alt                            FLOAT\n",
        "               ...                              ...\n",
        "\n",
        "[64 rows x 2 columns]"
       ]
      }
     ],
     "prompt_number": 38
    },
    {
     "cell_type": "code",
     "collapsed": false,
     "input": [
      "len(tableContents['fieldName'])"
     ],
     "language": "python",
     "metadata": {},
     "outputs": [
      {
       "metadata": {},
       "output_type": "pyout",
       "prompt_number": 39,
       "text": [
        "64"
       ]
      }
     ],
     "prompt_number": 39
    },
    {
     "cell_type": "code",
     "collapsed": false,
     "input": [
      "tableContents['fieldName'][0]\n"
     ],
     "language": "python",
     "metadata": {},
     "outputs": [
      {
       "metadata": {},
       "output_type": "pyout",
       "prompt_number": 40,
       "text": [
        "'observation_id'"
       ]
      }
     ],
     "prompt_number": 40
    },
    {
     "cell_type": "code",
     "collapsed": false,
     "input": [
      "currentKeys = tableContents['fieldName']"
     ],
     "language": "python",
     "metadata": {},
     "outputs": [],
     "prompt_number": 62
    },
    {
     "cell_type": "code",
     "collapsed": false,
     "input": [
      "table_dict = {}\n",
      "table_dict['observations'] = tableContents"
     ],
     "language": "python",
     "metadata": {},
     "outputs": [],
     "prompt_number": 48
    },
    {
     "cell_type": "code",
     "collapsed": false,
     "input": [
      "tableContents['variableType'][0].strip()"
     ],
     "language": "python",
     "metadata": {},
     "outputs": [
      {
       "metadata": {},
       "output_type": "pyout",
       "prompt_number": 50,
       "text": [
        "'INT AUTO_INCREMENT PRIMARY KEY'"
       ]
      }
     ],
     "prompt_number": 50
    },
    {
     "cell_type": "code",
     "collapsed": false,
     "input": [
      "for idx in range(len(currentKeys)): \n",
      "    key = currentKeys[idx].strip()\n",
      "    print('*'+key+'*')"
     ],
     "language": "python",
     "metadata": {},
     "outputs": [
      {
       "output_type": "stream",
       "stream": "stdout",
       "text": [
        "*observation_id*\n",
        "*object_id*\n",
        "*simple*\n",
        "*bitpix*\n",
        "*naxis*\n",
        "*naxis1*\n",
        "*naxis2*\n",
        "*extend*\n",
        "*bzero*\n",
        "*bscale*\n",
        "*object*\n",
        "*observer*\n",
        "*propid*\n",
        "*obsid*\n",
        "*imagetyp*\n",
        "*ccdsum*\n",
        "*roireq*\n",
        "*utshut*\n",
        "*date*\n",
        "*nampsyx*\n",
        "*amplist*\n",
        "*detector*\n",
        "*fpa*\n",
        "*rexptime*\n",
        "*exptime*\n",
        "*texptime*\n",
        "*darktime*\n",
        "*nimages*\n",
        "*dheinf*\n",
        "*dhefirm*\n",
        "*speedmod*\n",
        "*geommod*\n",
        "*pixtime*\n",
        "*powstat*\n",
        "*fpgafirm*\n",
        "*slot00*\n",
        "*slot01*\n",
        "*slot02*\n",
        "*slot03*\n",
        "*slot04*\n",
        "*slot07*\n",
        "*slot02*\n",
        "*panid*\n",
        "*comment*\n",
        "*dhsid*\n",
        "*deckpos*\n",
        "*decker*\n",
        "*focus*\n",
        "*maxexp*\n",
        "*pmhv*\n",
        "*complamp*\n",
        "*iodcell*\n",
        "*observat*\n",
        "*telescop*\n",
        "*date*\n",
        "*ut*\n",
        "*ra*\n",
        "*dec*\n",
        "*epoch*\n",
        "*alt*\n",
        "*ha*\n",
        "*st*\n",
        "*zd*\n",
        "*airmass*\n"
       ]
      }
     ],
     "prompt_number": 66
    },
    {
     "cell_type": "code",
     "collapsed": false,
     "input": [],
     "language": "python",
     "metadata": {},
     "outputs": []
    }
   ],
   "metadata": {}
  }
 ]
}