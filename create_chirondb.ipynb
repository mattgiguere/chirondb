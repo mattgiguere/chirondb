{
 "metadata": {
  "name": "",
  "signature": "sha256:bd4878d24a75854f5d880bb261fd1c137c75f67d551421ea7ad7f2f5c50d5234"
 },
 "nbformat": 3,
 "nbformat_minor": 0,
 "worksheets": [
  {
   "cells": [
    {
     "cell_type": "heading",
     "level": 1,
     "metadata": {},
     "source": [
      "chirondb"
     ]
    },
    {
     "cell_type": "heading",
     "level": 3,
     "metadata": {},
     "source": [
      "A guide to working with the CHIRON MySQL database from within Python"
     ]
    },
    {
     "cell_type": "raw",
     "metadata": {},
     "source": [
      "This document goes over how to create the chiron MySQL databases from within Python."
     ]
    },
    {
     "cell_type": "code",
     "collapsed": false,
     "input": [
      "%pylab inline"
     ],
     "language": "python",
     "metadata": {},
     "outputs": [
      {
       "output_type": "stream",
       "stream": "stdout",
       "text": [
        "Populating the interactive namespace from numpy and matplotlib\n"
       ]
      }
     ],
     "prompt_number": 1
    },
    {
     "cell_type": "code",
     "collapsed": false,
     "input": [
      "import pymysql\n",
      "from __future__ import print_function\n",
      "import subprocess"
     ],
     "language": "python",
     "metadata": {},
     "outputs": [],
     "prompt_number": 2
    },
    {
     "cell_type": "code",
     "collapsed": false,
     "input": [
      "#retrieve credentials:\n",
      "cmd = 'echo $AeroFSdir'\n",
      "#read in the AeroFSdir string and \n",
      "#chop off the newline character at the end\n",
      "cdir = subprocess.check_output(cmd, shell=True)\n",
      "cdir = cdir[0:len(cdir)-1]\n",
      "print(cdir)"
     ],
     "language": "python",
     "metadata": {},
     "outputs": [
      {
       "output_type": "stream",
       "stream": "stdout",
       "text": [
        "/mg2/AeroFS/\n"
       ]
      }
     ],
     "prompt_number": 3
    },
    {
     "cell_type": "code",
     "collapsed": false,
     "input": [
      "credsf = open(cdir+'.credentials/SQL/csaye', 'r')\n",
      "creds = credsf.read().split('\\n')"
     ],
     "language": "python",
     "metadata": {},
     "outputs": [],
     "prompt_number": 15
    },
    {
     "cell_type": "code",
     "collapsed": false,
     "input": [
      "conn = pymysql.connect(host=creds[0], port=int(creds[1]), user=creds[2], passwd=creds[3], db=creds[4])\n",
      "cur = conn.cursor()"
     ],
     "language": "python",
     "metadata": {},
     "outputs": [],
     "prompt_number": 16
    },
    {
     "cell_type": "code",
     "collapsed": false,
     "input": [
      "cur.execute(\"SHOW TABLES\")\n",
      "print(cur.description)"
     ],
     "language": "python",
     "metadata": {},
     "outputs": [
      {
       "output_type": "stream",
       "stream": "stdout",
       "text": [
        "((u'Tables_in_chirondb', 253, None, 64, 64, 0, 0),)\n"
       ]
      }
     ],
     "prompt_number": 17
    },
    {
     "cell_type": "code",
     "collapsed": false,
     "input": [
      "for row in cur.fetchall():\n",
      "    print(row[0])"
     ],
     "language": "python",
     "metadata": {},
     "outputs": [
      {
       "output_type": "stream",
       "stream": "stdout",
       "text": [
        "access\n",
        "alloc_users\n",
        "allocs\n",
        "cycles\n",
        "deckers\n",
        "nos\n",
        "nos_objects\n",
        "nos_results\n",
        "object_notes\n",
        "object_tarfiles\n",
        "object_times\n",
        "objects\n",
        "observations\n",
        "plans\n",
        "proposals\n",
        "registers\n",
        "script_notes\n",
        "script_objs\n",
        "scripts\n",
        "section_functions\n",
        "sections\n",
        "semesters\n",
        "users\n"
       ]
      }
     ],
     "prompt_number": 18
    },
    {
     "cell_type": "code",
     "collapsed": false,
     "input": [
      "new_tables = ['observations', 'ccdsections', 'environment', 'weather', 'seeing', 'exposuremeter', 'reduction']"
     ],
     "language": "python",
     "metadata": {},
     "outputs": [],
     "prompt_number": 25
    },
    {
     "cell_type": "code",
     "collapsed": false,
     "input": [
      "observations_table = {'observation_id': 'INT AUTO_INCREMENT PRIMARY KEY', \n",
      "\t\t\t\t\t\t'object_id': 'INT',\n",
      "\t\t\t\t\t\t'simple': 'char(1)',\n",
      "\t\t\t\t\t\t'bitpix': 'FLOAT',\n",
      "\t\t\t\t\t\t'naxis': 'INT',\n",
      "\t\t\t\t\t\t'naxis1': 'INT',\n",
      "\t\t\t\t\t\t'naxis2': 'INT',\n",
      "\t\t\t\t\t\t'extend': 'char(1)',\n",
      "\t\t\t\t\t\t'bzero': 'INT',\n",
      "\t\t\t\t\t\t'bscale': 'INT',\n",
      "\t\t\t\t\t\t'object': 'varchar(60)',\n",
      "\t\t\t\t\t\t'observer': 'varchar(60)',\n",
      "\t\t\t\t\t\t'propid': 'INT',\n",
      "\t\t\t\t\t\t'obsid': 'varchar(60)',\n",
      "\t\t\t\t\t\t'imagetyp': 'varchar(60)',\n",
      "\t\t\t\t\t\t'ccdsum': 'varchar(60)',\n",
      "\t\t\t\t\t\t'roireq': 'varchar(60)',\n",
      "\t\t\t\t\t\t'utshut': 'varchar(60)',\n",
      "\t\t\t\t\t\t'date': 'varchar(60)',\n",
      "\t\t\t\t\t\t'nampsyx': 'varchar(60)',\n",
      "\t\t\t\t\t\t'amplist': 'varchar(60)',\n",
      "\t\t\t\t\t\t'detector': 'varchar(60)',\n",
      "\t\t\t\t\t\t'fpa': 'varchar(60)',\n",
      "\t\t\t\t\t\t'rexptime': 'FLOAT',\n",
      "\t\t\t\t\t\t'exptime': 'FLOAT',\n",
      "\t\t\t\t\t\t'texptime': 'FLOAT',\n",
      "\t\t\t\t\t\t'darktime': 'FLOAT',\n",
      "\t\t\t\t\t\t'nimages': 'INT',\n",
      "\t\t\t\t\t\t'dheinf': 'varchar(60)',\n",
      "\t\t\t\t\t\t'dhefirm': 'varchar(60)',\n",
      "\t\t\t\t\t\t'speedmod': 'varchar(60)',\n",
      "\t\t\t\t\t\t'geommod': 'varchar(60)',\n",
      "\t\t\t\t\t\t'pixtime': 'FLOAT',\n",
      "\t\t\t\t\t\t'powstat': 'FLOAT',\n",
      "\t\t\t\t\t\t'fpgafirm': 'FLOAT',\n",
      "\t\t\t\t\t\t'slot00': 'varchar(60)',\n",
      "\t\t\t\t\t\t'slot01': 'varchar(60)',\n",
      "\t\t\t\t\t\t'slot02': 'varchar(60)',\n",
      "\t\t\t\t\t\t'slot03': 'varchar(60)',\n",
      "\t\t\t\t\t\t'slot04': 'varchar(60)',\n",
      "\t\t\t\t\t\t'slot07': 'varchar(60)',\n",
      "\t\t\t\t\t\t'slot02': 'varchar(60)',\n",
      "\t\t\t\t\t\t'panid': 'varchar(60)',\n",
      "\t\t\t\t\t\t'comment': 'varchar(60)',\n",
      "\t\t\t\t\t\t'dhsid': 'varchar(60)',\n",
      "\t\t\t\t\t\t'deckpos': 'FLOAT',\n",
      "\t\t\t\t\t\t'decker': 'varchar(60)',\n",
      "\t\t\t\t\t\t'focus': 'FLOAT',\n",
      "\t\t\t\t\t\t'maxexp': 'INT',\n",
      "\t\t\t\t\t\t'pmhv': 'varchar(60)',\n",
      "\t\t\t\t\t\t'complamp': 'varchar(60)',\n",
      "\t\t\t\t\t\t'iodcell': 'varchar(60)',\n",
      "\t\t\t\t\t\t'observat': 'varchar(60)',\n",
      "\t\t\t\t\t\t'telescop': 'varchar(60)',\n",
      "\t\t\t\t\t\t'date-obs': 'varchar(60)',\n",
      "\t\t\t\t\t\t'ut': 'varchar(60)',\n",
      "\t\t\t\t\t\t'ra': 'varchar(60)',\n",
      "\t\t\t\t\t\t'dec': 'varchar(60)',\n",
      "\t\t\t\t\t\t'epoch': 'FLOAT',\n",
      "\t\t\t\t\t\t'alt': 'FLOAT',\n",
      "\t\t\t\t\t\t'ha': 'FLOAT',\n",
      "\t\t\t\t\t\t'st': 'varchar(60)',\n",
      "\t\t\t\t\t\t'zd': 'FLOAT',\n",
      "\t\t\t\t\t\t'airmass': 'FLOAT'}"
     ],
     "language": "python",
     "metadata": {},
     "outputs": [],
     "prompt_number": 23
    },
    {
     "cell_type": "code",
     "collapsed": false,
     "input": [
      "type(observations_table)\n",
      "observations_table.keys()"
     ],
     "language": "python",
     "metadata": {},
     "outputs": [
      {
       "metadata": {},
       "output_type": "pyout",
       "prompt_number": 24,
       "text": [
        "['comment',\n",
        " 'iodcell',\n",
        " 'observer',\n",
        " 'simple',\n",
        " 'bzero',\n",
        " 'observat',\n",
        " 'focus',\n",
        " 'ut',\n",
        " 'imagetyp',\n",
        " 'darktime',\n",
        " 'obsid',\n",
        " 'propid',\n",
        " 'powstat',\n",
        " 'roireq',\n",
        " 'alt',\n",
        " 'slot02',\n",
        " 'slot03',\n",
        " 'slot00',\n",
        " 'texptime',\n",
        " 'fpa',\n",
        " 'slot07',\n",
        " 'slot04',\n",
        " 'observation_id',\n",
        " 'naxis2',\n",
        " 'telescop',\n",
        " 'maxexp',\n",
        " 'object_id',\n",
        " 'dhsid',\n",
        " 'date-obs',\n",
        " 'dhefirm',\n",
        " 'ra',\n",
        " 'bitpix',\n",
        " 'rexptime',\n",
        " 'detector',\n",
        " 'nimages',\n",
        " 'panid',\n",
        " 'complamp',\n",
        " 'decker',\n",
        " 'airmass',\n",
        " 'extend',\n",
        " 'object',\n",
        " 'ccdsum',\n",
        " 'epoch',\n",
        " 'speedmod',\n",
        " 'slot01',\n",
        " 'zd',\n",
        " 'st',\n",
        " 'date',\n",
        " 'ha',\n",
        " 'exptime',\n",
        " 'fpgafirm',\n",
        " 'utshut',\n",
        " 'nampsyx',\n",
        " 'dheinf',\n",
        " 'amplist',\n",
        " 'geommod',\n",
        " 'pmhv',\n",
        " 'naxis',\n",
        " 'naxis1',\n",
        " 'pixtime',\n",
        " 'deckpos',\n",
        " 'bscale',\n",
        " 'dec']"
       ]
      }
     ],
     "prompt_number": 24
    },
    {
     "cell_type": "code",
     "collapsed": false,
     "input": [
      "ccdsections_table = {\n",
      "'observation_id':'INT', \n",
      "'tsec22':'varchar(60)', \n",
      "'asec22':'varchar(60)', \n",
      "'csec22':'varchar(60)', \n",
      "'bsec22':'varchar(60)', \n",
      "'dsec22':'varchar(60)', \n",
      "'scsec22':'varchar(60)', \n",
      "'tsec12':'varchar(60)', \n",
      "'asec12':'varchar(60)', \n",
      "'csec12':'varchar(60)', \n",
      "'bsec12':'varchar(60)', \n",
      "'dsec12':'varchar(60)', \n",
      "'scsec12':'varchar(60)', \n",
      "'tsec11':'varchar(60)', \n",
      "'asec11':'varchar(60)', \n",
      "'csec11':'varchar(60)', \n",
      "'bsec11':'varchar(60)', \n",
      "'dsec11':'varchar(60)', \n",
      "'scsec11':'varchar(60)', \n",
      "'tsec21':'varchar(60)', \n",
      "'asec21':'varchar(60)', \n",
      "'csec21':'varchar(60)', \n",
      "'bsec21':'varchar(60)', \n",
      "'dsec21':'varchar(60)', \n",
      "'scsec21':'varchar(60)', \n",
      "'gain11':'FLOAT', \n",
      "'ron11':'FLOAT', \n",
      "'gain12':'FLOAT', \n",
      "'ron12':'FLOAT', \n",
      "'gain21':'FLOAT', \n",
      "'ron21':'FLOAT', \n",
      "'gain22':'FLOAT', \n",
      "'ron22':'FLOAT'\n",
      "}"
     ],
     "language": "python",
     "metadata": {},
     "outputs": []
    },
    {
     "cell_type": "code",
     "collapsed": false,
     "input": [
      "cur.execute(\"CREATE TABLE \")\n",
      "#print(cur.description)\n",
      "for row in cur.fetchall():\n",
      "    print(row)"
     ],
     "language": "python",
     "metadata": {},
     "outputs": [
      {
       "output_type": "stream",
       "stream": "stdout",
       "text": [
        "('observation_id', 'int(11)', 'NO', 'PRI', None, 'auto_increment')\n",
        "('object_id', 'int(11)', 'YES', '', None, '')\n"
       ]
      }
     ],
     "prompt_number": 19
    },
    {
     "cell_type": "code",
     "collapsed": false,
     "input": [],
     "language": "python",
     "metadata": {},
     "outputs": []
    }
   ],
   "metadata": {}
  }
 ]
}