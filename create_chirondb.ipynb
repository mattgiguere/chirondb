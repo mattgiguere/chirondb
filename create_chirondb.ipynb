{
 "metadata": {
  "name": "",
  "signature": "sha256:08c23ed4ba501f9d7d74bb5c3c9f87491c8888ac291472a712984b52a0e6fe54"
 },
 "nbformat": 3,
 "nbformat_minor": 0,
 "worksheets": [
  {
   "cells": [
    {
     "cell_type": "heading",
     "level": 1,
     "metadata": {},
     "source": [
      "chirondb"
     ]
    },
    {
     "cell_type": "heading",
     "level": 3,
     "metadata": {},
     "source": [
      "A guide to working with the CHIRON MySQL database from within Python"
     ]
    },
    {
     "cell_type": "raw",
     "metadata": {},
     "source": [
      "This document goes over how to create the chiron MySQL databases from within Python."
     ]
    },
    {
     "cell_type": "code",
     "collapsed": false,
     "input": [
      "%pylab inline"
     ],
     "language": "python",
     "metadata": {},
     "outputs": [
      {
       "output_type": "stream",
       "stream": "stdout",
       "text": [
        "Populating the interactive namespace from numpy and matplotlib\n"
       ]
      }
     ],
     "prompt_number": 1
    },
    {
     "cell_type": "code",
     "collapsed": false,
     "input": [
      "import pymysql\n",
      "from __future__ import print_function\n",
      "import subprocess"
     ],
     "language": "python",
     "metadata": {},
     "outputs": [],
     "prompt_number": 2
    },
    {
     "cell_type": "code",
     "collapsed": false,
     "input": [
      "#retrieve credentials:\n",
      "cmd = 'echo $AeroFSdir'\n",
      "#read in the AeroFSdir string and \n",
      "#chop off the newline character at the end\n",
      "cdir = subprocess.check_output(cmd, shell=True)\n",
      "cdir = cdir[0:len(cdir)-1]\n",
      "print(cdir)"
     ],
     "language": "python",
     "metadata": {},
     "outputs": [
      {
       "output_type": "stream",
       "stream": "stdout",
       "text": [
        "/mg2/AeroFS/\n"
       ]
      }
     ],
     "prompt_number": 3
    },
    {
     "cell_type": "code",
     "collapsed": false,
     "input": [
      "credsf = open(cdir+'.credentials/SQL/csaye', 'r')\n",
      "creds = credsf.read().split('\\n')"
     ],
     "language": "python",
     "metadata": {},
     "outputs": [],
     "prompt_number": 15
    },
    {
     "cell_type": "code",
     "collapsed": false,
     "input": [
      "conn = pymysql.connect(host=creds[0], port=int(creds[1]), user=creds[2], passwd=creds[3], db=creds[4])\n",
      "cur = conn.cursor()"
     ],
     "language": "python",
     "metadata": {},
     "outputs": [],
     "prompt_number": 16
    },
    {
     "cell_type": "code",
     "collapsed": false,
     "input": [
      "cur.execute(\"SHOW TABLES\")\n",
      "print(cur.description)"
     ],
     "language": "python",
     "metadata": {},
     "outputs": [
      {
       "output_type": "stream",
       "stream": "stdout",
       "text": [
        "((u'Tables_in_chirondb', 253, None, 64, 64, 0, 0),)\n"
       ]
      }
     ],
     "prompt_number": 17
    },
    {
     "cell_type": "code",
     "collapsed": false,
     "input": [
      "for row in cur.fetchall():\n",
      "    print(row[0])"
     ],
     "language": "python",
     "metadata": {},
     "outputs": [
      {
       "output_type": "stream",
       "stream": "stdout",
       "text": [
        "access\n",
        "alloc_users\n",
        "allocs\n",
        "cycles\n",
        "deckers\n",
        "nos\n",
        "nos_objects\n",
        "nos_results\n",
        "object_notes\n",
        "object_tarfiles\n",
        "object_times\n",
        "objects\n",
        "observations\n",
        "plans\n",
        "proposals\n",
        "registers\n",
        "script_notes\n",
        "script_objs\n",
        "scripts\n",
        "section_functions\n",
        "sections\n",
        "semesters\n",
        "users\n"
       ]
      }
     ],
     "prompt_number": 18
    },
    {
     "cell_type": "code",
     "collapsed": false,
     "input": [
      "cur.execute(\"DESCRIBE observations\")\n",
      "#print(cur.description)\n",
      "for row in cur.fetchall():\n",
      "    print(row)"
     ],
     "language": "python",
     "metadata": {},
     "outputs": [
      {
       "output_type": "stream",
       "stream": "stdout",
       "text": [
        "('observation_id', 'int(11)', 'NO', 'PRI', None, 'auto_increment')\n",
        "('object_id', 'int(11)', 'YES', '', None, '')\n"
       ]
      }
     ],
     "prompt_number": 19
    },
    {
     "cell_type": "code",
     "collapsed": false,
     "input": [],
     "language": "python",
     "metadata": {},
     "outputs": []
    }
   ],
   "metadata": {}
  }
 ]
}