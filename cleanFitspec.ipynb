{
 "metadata": {
  "name": "",
  "signature": "sha256:f5159d18351bb6f662ad8780c84ba3f900493179514040be90f66a7ec009d784"
 },
 "nbformat": 3,
 "nbformat_minor": 0,
 "worksheets": [
  {
   "cells": [
    {
     "cell_type": "heading",
     "level": 1,
     "metadata": {},
     "source": [
      "cleanFitspec"
     ]
    },
    {
     "cell_type": "markdown",
     "metadata": {},
     "source": [
      "A notebook for cleaning up the fitspec and fitspec backup directories"
     ]
    },
    {
     "cell_type": "code",
     "collapsed": false,
     "input": [],
     "language": "python",
     "metadata": {},
     "outputs": []
    }
   ],
   "metadata": {}
  }
 ]
}