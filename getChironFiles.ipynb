{
 "metadata": {
  "name": "",
  "signature": "sha256:fab925d3f8e89a48857ac5b66a4b2b21ccd99d293a5f13b320ea6645114556e2"
 },
 "nbformat": 3,
 "nbformat_minor": 0,
 "worksheets": [
  {
   "cells": [
    {
     "cell_type": "heading",
     "level": 2,
     "metadata": {},
     "source": [
      "getChironFiles"
     ]
    },
    {
     "cell_type": "markdown",
     "metadata": {},
     "source": [
      "A routine to cycle through all CHIRON data and add them to the database"
     ]
    },
    {
     "cell_type": "code",
     "collapsed": false,
     "input": [
      "import subprocess\n",
      "%pylab inline"
     ],
     "language": "python",
     "metadata": {},
     "outputs": [
      {
       "output_type": "stream",
       "stream": "stdout",
       "text": [
        "Populating the interactive namespace from numpy and matplotlib\n"
       ]
      }
     ],
     "prompt_number": 1
    },
    {
     "cell_type": "code",
     "collapsed": false,
     "input": [
      "cmd = \"ls -1d /raw/mir7/1[1-4]*\"\n",
      "dirs = subprocess.check_output(cmd, shell=True)\n",
      "print(dirs)\n",
      "dirs = dirs.split('\\n')\n",
      "print(len(dirs))"
     ],
     "language": "python",
     "metadata": {},
     "outputs": [
      {
       "output_type": "stream",
       "stream": "stdout",
       "text": [
        "/raw/mir7/121202\n",
        "/raw/mir7/121212\n",
        "/raw/mir7/121222\n",
        "/raw/mir7/121229\n",
        "/raw/mir7/121230\n",
        "/raw/mir7/130102\n",
        "/raw/mir7/130104\n",
        "/raw/mir7/130115\n",
        "/raw/mir7/130116\n",
        "/raw/mir7/130117\n",
        "/raw/mir7/130118\n",
        "/raw/mir7/130121\n",
        "/raw/mir7/130125\n",
        "/raw/mir7/130130\n",
        "/raw/mir7/130215\n",
        "/raw/mir7/130317\n",
        "/raw/mir7/130407\n",
        "/raw/mir7/130408\n",
        "/raw/mir7/130409\n",
        "/raw/mir7/130715\n",
        "/raw/mir7/130921\n",
        "\n",
        "22\n"
       ]
      }
     ],
     "prompt_number": 15
    },
    {
     "cell_type": "code",
     "collapsed": false,
     "input": [
      "minDate = 130105\n",
      "maxDate = 130409\n",
      "\n",
      "#now cycle through each directory listing the files:\n",
      "for cdir in dirs[:-1]:\n",
      "    print(int(cdir.split('/')[-1]))\n",
      "    if int(cdir.split('/')[-1]) >= minDate and int(cdir.split('/')[-1]) <= maxDate:\n",
      "        cmd = \"ls -1 \"+cdir+'/'\n",
      "        rawfiles = subprocess.check_output(cmd, shell=True)\n",
      "        rawfiles = rawfiles.split('\\n')[:-1]\n",
      "        print(rawfiles)\n",
      "        for rfile in rawfiles:\n",
      "            print(\"cdbo.kapowObservation(\"+rfile+\")\")\n",
      "        "
     ],
     "language": "python",
     "metadata": {},
     "outputs": [
      {
       "output_type": "stream",
       "stream": "stdout",
       "text": [
        "121202\n",
        "121212\n",
        "121222\n",
        "121229\n",
        "121230\n",
        "130102\n",
        "130104\n",
        "130115\n",
        "['chi130115.1000.fits', 'chi130115.1001.fits', 'chi130115.1002.fits', 'chi130115.1003.fits', 'chi130115.1004.fits']\n",
        "cdbo.kapowObservation(chi130115.1000.fits)\n",
        "cdbo.kapowObservation(chi130115.1001.fits)\n",
        "cdbo.kapowObservation(chi130115.1002.fits)\n",
        "cdbo.kapowObservation(chi130115.1003.fits)\n",
        "cdbo.kapowObservation(chi130115.1004.fits)\n",
        "130116\n",
        "['chi130116.1000.fits', 'chi130116.1001.fits', 'chi130116.1002.fits', 'chi130116.1003.fits', 'chi130116.1004.fits']\n",
        "cdbo.kapowObservation(chi130116.1000.fits)\n",
        "cdbo.kapowObservation(chi130116.1001.fits)\n",
        "cdbo.kapowObservation(chi130116.1002.fits)\n",
        "cdbo.kapowObservation(chi130116.1003.fits)\n",
        "cdbo.kapowObservation(chi130116.1004.fits)\n",
        "130117\n",
        "['chi130117.1000.fits', 'chi130117.1002.fits', 'chi130117.1003.fits', 'chi130117.1004.fits', 'chi130117.1021.fits']\n",
        "cdbo.kapowObservation(chi130117.1000.fits)\n",
        "cdbo.kapowObservation(chi130117.1002.fits)\n",
        "cdbo.kapowObservation(chi130117.1003.fits)\n",
        "cdbo.kapowObservation(chi130117.1004.fits)\n",
        "cdbo.kapowObservation(chi130117.1021.fits)\n",
        "130118\n",
        "['chi130118.1000.fits']\n",
        "cdbo.kapowObservation(chi130118.1000.fits)\n",
        "130121\n",
        "['chi130121.1000.fits']\n",
        "cdbo.kapowObservation(chi130121.1000.fits)\n",
        "130125\n",
        "['chi130125.1000.fits']"
       ]
      },
      {
       "output_type": "stream",
       "stream": "stdout",
       "text": [
        "\n",
        "cdbo.kapowObservation(chi130125.1000.fits)\n",
        "130130\n",
        "['chi130130.1000.fits']\n",
        "cdbo.kapowObservation(chi130130.1000.fits)\n",
        "130215\n",
        "['chi130215.1000.fits']\n",
        "cdbo.kapowObservation(chi130215.1000.fits)\n",
        "130317\n",
        "['chi130317.1000.fits']\n",
        "cdbo.kapowObservation(chi130317.1000.fits)\n",
        "130407\n",
        "['chi130407.1020.fits']\n",
        "cdbo.kapowObservation(chi130407.1020.fits)\n",
        "130408\n",
        "[]\n",
        "130409\n",
        "['chi130409.1000.fits', 'chi130409.1010.fits']"
       ]
      },
      {
       "output_type": "stream",
       "stream": "stdout",
       "text": [
        "\n",
        "cdbo.kapowObservation(chi130409.1000.fits)\n",
        "cdbo.kapowObservation(chi130409.1010.fits)\n",
        "130715\n",
        "130921\n"
       ]
      }
     ],
     "prompt_number": 35
    },
    {
     "cell_type": "code",
     "collapsed": false,
     "input": [],
     "language": "python",
     "metadata": {},
     "outputs": []
    }
   ],
   "metadata": {}
  }
 ]
}