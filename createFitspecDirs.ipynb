{
 "metadata": {
  "name": "",
  "signature": "sha256:224969efd51e50708abf370ee5eed181b2c4bff76458bbccfaf730370619ffd0"
 },
 "nbformat": 3,
 "nbformat_minor": 0,
 "worksheets": [
  {
   "cells": [
    {
     "cell_type": "heading",
     "level": 1,
     "metadata": {},
     "source": [
      "createFitspecDirs"
     ]
    },
    {
     "cell_type": "markdown",
     "metadata": {},
     "source": [
      "Creates the directories for each date observations were taken in 2011."
     ]
    },
    {
     "cell_type": "raw",
     "metadata": {},
     "source": []
    }
   ],
   "metadata": {}
  }
 ]
}