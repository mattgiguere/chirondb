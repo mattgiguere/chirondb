{
 "metadata": {
  "name": "",
  "signature": "sha256:15d4ff72465f88832583982a03a6e0cd6e22c3fc685b121dfb3b5acf0f93a30e"
 },
 "nbformat": 3,
 "nbformat_minor": 0,
 "worksheets": [
  {
   "cells": [
    {
     "cell_type": "heading",
     "level": 1,
     "metadata": {},
     "source": [
      "storeSpectrum"
     ]
    },
    {
     "cell_type": "markdown",
     "metadata": {},
     "source": [
      "A notebook that will be used to create code to read in a reduced CHIRON FITS image and add it to the DB. This will make exploratory data analysis from any machine possible without having to download all the data locally."
     ]
    },
    {
     "cell_type": "code",
     "collapsed": false,
     "input": [
      "%matplotlib inline\n",
      "%load_ext autoreload\n",
      "%autoreload 2\n",
      "myfigsize = (12.0, 8.0)\n",
      "myfontsize = 14.\n",
      "from matplotlib import pyplot as plt\n",
      "plt.rcParams['figure.figsize'] = myfigsize"
     ],
     "language": "python",
     "metadata": {},
     "outputs": [
      {
       "output_type": "stream",
       "stream": "stdout",
       "text": [
        "The autoreload extension is already loaded. To reload it, use:\n",
        "  %reload_ext autoreload\n"
       ]
      }
     ],
     "prompt_number": 2
    },
    {
     "cell_type": "code",
     "collapsed": false,
     "input": [
      "from astropy.io import fits\n",
      "from pyutil.blazeFit import blazeFit\n",
      "from scipy.optimize import curve_fit\n",
      "import subprocess\n",
      "import pymysql\n",
      "import pandas as pd\n",
      "from pyutil.blazeFit import blazeFit\n"
     ],
     "language": "python",
     "metadata": {},
     "outputs": [],
     "prompt_number": 19
    },
    {
     "cell_type": "heading",
     "level": 3,
     "metadata": {},
     "source": [
      "Useful Bits of Code"
     ]
    },
    {
     "cell_type": "markdown",
     "metadata": {},
     "source": [
      "First, read in all the raw directories:"
     ]
    },
    {
     "cell_type": "code",
     "collapsed": false,
     "input": [
      "cmd = \"ls -1d /raw/mir7/1[1-4]*\"\n",
      "dirs = subprocess.check_output(cmd, shell=True)\n",
      "print(dirs)\n",
      "dirs = dirs.split('\\n')\n",
      "print(len(dirs))"
     ],
     "language": "python",
     "metadata": {},
     "outputs": []
    },
    {
     "cell_type": "code",
     "collapsed": false,
     "input": [
      "minDate = 130105\n",
      "maxDate = 130409\n",
      "\n",
      "#now cycle through each directory listing the files:\n",
      "for cdir in dirs[:-1]:\n",
      "    print(cdir.split('/')[-1])\n",
      "    if len(cdir.split('/')[-1]) == 6:\n",
      "        if int(cdir.split('/')[-1]) >= minDate and int(cdir.split('/')[-1]) <= maxDate:\n",
      "            cmd = \"ls -1 \"+cdir+'/'\n",
      "            rawfiles = subprocess.check_output(cmd, shell=True)\n",
      "            rawfiles = rawfiles.split('\\n')[:-1]\n",
      "            print(rawfiles)\n",
      "            for rfile in rawfiles:\n",
      "                print(\"cdbo.kapowObservation(\"+rfile+\")\")\n"
     ],
     "language": "python",
     "metadata": {},
     "outputs": []
    },
    {
     "cell_type": "code",
     "collapsed": false,
     "input": [
      "hdulist = fits.open('/tous/mir7/fitspec/141106/achi141106.1131.fits')\n",
      "\n",
      "scidata = hdulist[0].data\n",
      "\n",
      "ord = 39\n",
      "wav = scidata[ord,:,0]\n",
      "spec = scidata[ord,:,1]\n",
      "plt.plot(wav, spec)"
     ],
     "language": "python",
     "metadata": {},
     "outputs": []
    },
    {
     "cell_type": "heading",
     "level": 3,
     "metadata": {},
     "source": [
      "Create the Object"
     ]
    },
    {
     "cell_type": "code",
     "collapsed": false,
     "input": [
      "class storeSpectra:\n",
      "    def __init__(self):\n",
      "        self.minDate = ''\n",
      "        self.maxDate = ''\n",
      "        self.reducedRoot = '/tous/mir7/fitspec/'\n",
      "        self.rawRoot = '/raw/mir7/'\n",
      "        #create an empty dataframe for the spectra:\n",
      "        self.specdf = pd.DataFrame()\n",
      "    \n",
      "    def getRedDirs(self):\n",
      "        \"\"\"PURPOSE: To get a list of all raw directories.\"\"\"\n",
      "        cmd = \"ls -1d \"+self.reducedRoot+\"1[1-4]*\"\n",
      "        dirs = subprocess.check_output(cmd, shell=True)\n",
      "        self.redDirs = dirs.split('\\n')\n",
      "    \n",
      "    def getRedFiles(self):\n",
      "        \"\"\"PURPOSE: Return all files within the input directory.\"\"\"\n",
      "        cmd = \"ls -1 \"+cdir+'/'\n",
      "        rawfiles = subprocess.check_output(cmd, shell=True)\n",
      "        rawfiles = rawfiles.split('\\n')[:-1]\n",
      "        return rawfiles\n",
      "    \n",
      "    def getRawFileName(self, redFileName):\n",
      "        \"\"\"PURPOSE: Calculate the rawfilename based\n",
      "        on the reduced filename.\n",
      "        redFileName: the input reduced filename.\"\"\"\n",
      "        #This happens to be the case for CHIRON:\n",
      "        date = redFileName[4:10]\n",
      "        return self.RawRoot+date+'/'+redFileName[1:]\n",
      "        \n",
      "    def readSpectrum(self, filename):\n",
      "        \"\"\"PURPOSE: To read in the spectrum.\"\"\"\n",
      "        hdulist = fits.open(filename)\n",
      "        scidata = hdulist[0].data\n",
      "        return scidata\n",
      "    def normSpectrum(self):\n",
      "        maxrms = 0.005\n",
      "        z = blazeFit(wav, spec, maxrms, numcalls=150)\n",
      "    \n",
      "    def connectChironDB(self):\n",
      "        \"\"\"connect to the database\"\"\"\n",
      "        #retrieve credentials:\n",
      "        cmd = 'echo $AeroFSdir'\n",
      "        #read in the AeroFSdir string and\n",
      "        #chop off the newline character at the end\n",
      "        cdir = subprocess.check_output(cmd, shell=True)\n",
      "        cdir = cdir[0:len(cdir)-1]\n",
      "        credsf = open(cdir+'.credentials/SQL/csaye', 'r')\n",
      "        creds = credsf.read().split('\\n')\n",
      "        conn = pymysql.connect(host=creds[0],\n",
      "                               port=int(creds[1]),\n",
      "                               user=creds[2],\n",
      "                               passwd=creds[3],\n",
      "                               db=creds[4])\n",
      "        #cur = conn.cursor()\n",
      "        return conn\n",
      "\n",
      "    def writeSpectrum(self, filename, chkExist=False):\n",
      "        \"\"\"PURPOSE: Writes a given file to the DB.\n",
      "        Set chkExist to True if you want to check\n",
      "        to make sure the file doesn't already exist\n",
      "        in the DB before writing.\"\"\"\n",
      "        scidata = self.readSpectrum(self, filename)\n",
      "        #Now cycle through the orders writing them to the DB\n",
      "        for i in range(scidata.shape[0]):\n",
      "            order = pd.DataFrame({'observation_id': NULL,\n",
      "                                  'rawFileName': self.getRawFileName(filename),\n",
      "                                  'order': i,\n",
      "                                  'wavelength': scidata[i,:, 0],\n",
      "                                  'spectrum': scidata[i, :, 1],\n",
      "                                  'normSpectrum':})\n",
      "            \n",
      "        \n"
     ],
     "language": "python",
     "metadata": {},
     "outputs": []
    },
    {
     "cell_type": "code",
     "collapsed": false,
     "input": [
      "hdulist = fits.open('/tous/mir7/fitspec/141106/achi141106.1131.fits')\n",
      "\n",
      "scidata = hdulist[0].data\n"
     ],
     "language": "python",
     "metadata": {},
     "outputs": [],
     "prompt_number": 6
    },
    {
     "cell_type": "code",
     "collapsed": false,
     "input": [
      "print(scidata.shape)\n",
      "print('The are {0} orders in the spectrum.'.format(scidata.shape[0]))"
     ],
     "language": "python",
     "metadata": {},
     "outputs": [
      {
       "output_type": "stream",
       "stream": "stdout",
       "text": [
        "(62, 3200, 2)\n",
        "The are 62 orders in the spectrum.\n"
       ]
      }
     ],
     "prompt_number": 14
    }
   ],
   "metadata": {}
  }
 ]
}