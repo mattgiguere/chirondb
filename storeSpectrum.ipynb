{
 "metadata": {
  "name": "",
  "signature": "sha256:3d8eba0d048be87e23524ac954f649552a5104701ad94a617e220c57dd0fad37"
 },
 "nbformat": 3,
 "nbformat_minor": 0,
 "worksheets": [
  {
   "cells": [
    {
     "cell_type": "heading",
     "level": 1,
     "metadata": {},
     "source": [
      "storeSpectrum"
     ]
    },
    {
     "cell_type": "markdown",
     "metadata": {},
     "source": [
      "A notebook that will be used to create code to read in a reduced CHIRON FITS image and add it to the DB. This will make exploratory data analysis from any machine possible without having to download all the data locally."
     ]
    },
    {
     "cell_type": "code",
     "collapsed": false,
     "input": [
      "%matplotlib inline\n",
      "%load_ext autoreload\n",
      "%autoreload 2\n",
      "myfigsize = (12.0, 8.0)\n",
      "myfontsize = 14.\n",
      "from matplotlib import pyplot as plt\n",
      "plt.rcParams['figure.figsize'] = myfigsize"
     ],
     "language": "python",
     "metadata": {},
     "outputs": [
      {
       "output_type": "stream",
       "stream": "stdout",
       "text": [
        "The autoreload extension is already loaded. To reload it, use:\n",
        "  %reload_ext autoreload\n"
       ]
      }
     ],
     "prompt_number": 2
    },
    {
     "cell_type": "code",
     "collapsed": false,
     "input": [
      "from astropy.io import fits\n",
      "from pyutil.blazeFit import blazeFit\n",
      "from scipy.optimize import curve_fit"
     ],
     "language": "python",
     "metadata": {},
     "outputs": [],
     "prompt_number": 3
    },
    {
     "cell_type": "heading",
     "level": 3,
     "metadata": {},
     "source": [
      "Useful Bits of Code"
     ]
    },
    {
     "cell_type": "markdown",
     "metadata": {},
     "source": [
      "First, read in all the raw directories:"
     ]
    },
    {
     "cell_type": "code",
     "collapsed": false,
     "input": [
      "cmd = \"ls -1d /raw/mir7/1[1-4]*\"\n",
      "dirs = subprocess.check_output(cmd, shell=True)\n",
      "print(dirs)\n",
      "dirs = dirs.split('\\n')\n",
      "print(len(dirs))"
     ],
     "language": "python",
     "metadata": {},
     "outputs": []
    },
    {
     "cell_type": "code",
     "collapsed": false,
     "input": [
      "minDate = 130105\n",
      "maxDate = 130409\n",
      "\n",
      "#now cycle through each directory listing the files:\n",
      "for cdir in dirs[:-1]:\n",
      "    print(cdir.split('/')[-1])\n",
      "    if len(cdir.split('/')[-1]) == 6:\n",
      "        if int(cdir.split('/')[-1]) >= minDate and int(cdir.split('/')[-1]) <= maxDate:\n",
      "            cmd = \"ls -1 \"+cdir+'/'\n",
      "            rawfiles = subprocess.check_output(cmd, shell=True)\n",
      "            rawfiles = rawfiles.split('\\n')[:-1]\n",
      "            print(rawfiles)\n",
      "            for rfile in rawfiles:\n",
      "                print(\"cdbo.kapowObservation(\"+rfile+\")\")\n"
     ],
     "language": "python",
     "metadata": {},
     "outputs": []
    },
    {
     "cell_type": "code",
     "collapsed": false,
     "input": [
      "hdulist = fits.open('/tous/mir7/fitspec/141106/achi141106.1131.fits')\n",
      "\n",
      "scidata = hdulist[0].data\n",
      "\n",
      "ord = 39\n",
      "wav = scidata[ord,:,0]\n",
      "spec = scidata[ord,:,1]\n",
      "plt.plot(wav, spec)"
     ],
     "language": "python",
     "metadata": {},
     "outputs": []
    },
    {
     "cell_type": "heading",
     "level": 3,
     "metadata": {},
     "source": [
      "Create the Object"
     ]
    },
    {
     "cell_type": "code",
     "collapsed": false,
     "input": [
      "class storeSpectra:\n",
      "    def __init__(self):\n",
      "        self.minDate = ''\n",
      "        self.maxDate = ''\n",
      "        "
     ],
     "language": "python",
     "metadata": {},
     "outputs": []
    },
    {
     "cell_type": "code",
     "collapsed": false,
     "input": [],
     "language": "python",
     "metadata": {},
     "outputs": []
    }
   ],
   "metadata": {}
  }
 ]
}