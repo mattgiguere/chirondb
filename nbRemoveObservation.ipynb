{
 "metadata": {
  "name": "",
  "signature": "sha256:472b030c3d1eb444bba9c1374460cc7d025682cbf2a91c38237aeb2eda530603"
 },
 "nbformat": 3,
 "nbformat_minor": 0,
 "worksheets": [
  {
   "cells": [
    {
     "cell_type": "heading",
     "level": 1,
     "metadata": {},
     "source": [
      "Remove Observation Notebook"
     ]
    },
    {
     "cell_type": "markdown",
     "metadata": {},
     "source": [
      "This notebook tests the code for `remoteObservation.py`, which removes all entries associated with an input obsid."
     ]
    },
    {
     "cell_type": "code",
     "collapsed": false,
     "input": [
      "from astropy.io.fits import getheader\n",
      "import pandas as pd\n",
      "import os, subprocess, pymysql\n",
      "import numpy as np"
     ],
     "language": "python",
     "metadata": {},
     "outputs": [],
     "prompt_number": 1
    },
    {
     "cell_type": "heading",
     "level": 4,
     "metadata": {},
     "source": [
      "Subroutines"
     ]
    },
    {
     "cell_type": "code",
     "collapsed": false,
     "input": [
      "def getAeroDir():\n",
      "    cmd = 'echo $AeroFSdir'\n",
      "    #read in the AeroFSdir string and\n",
      "    adir = subprocess.check_output(cmd, shell=True)\n",
      "    #chop off the newline character at the end\n",
      "    adir = adir[0:len(adir)-1]\n",
      "    return adir\n",
      "\n",
      "\n",
      "def connectChironDB():\n",
      "    \"\"\"connect to the database\"\"\"\n",
      "    #retrieve credentials:\n",
      "    adir = getAeroDir()\n",
      "    credsf = open(adir+'.credentials/SQL/csaye', 'r')\n",
      "    creds = credsf.read().split('\\n')\n",
      "    conn = pymysql.connect(host=creds[0],\n",
      "                           port=int(creds[1]),\n",
      "                           user=creds[2],\n",
      "                           passwd=creds[3],\n",
      "                           db=creds[4])\n",
      "    #cur = conn.cursor()\n",
      "    return conn\n",
      "\n"
     ],
     "language": "python",
     "metadata": {},
     "outputs": [],
     "prompt_number": 2
    },
    {
     "cell_type": "code",
     "collapsed": false,
     "input": [
      "#restore the list of table names from which\n",
      "#this observation_id will be removed\n",
      "tableFrame = pd.read_csv('tables/tableList.txt')\n",
      "tableNames = tableFrame.tableName.values"
     ],
     "language": "python",
     "metadata": {},
     "outputs": [],
     "prompt_number": 43
    },
    {
     "cell_type": "code",
     "collapsed": false,
     "input": [
      "tableNames"
     ],
     "language": "python",
     "metadata": {},
     "outputs": [
      {
       "metadata": {},
       "output_type": "pyout",
       "prompt_number": 44,
       "text": [
        "array(['observations', 'ccdsections', 'environment', 'weather', 'seeing',\n",
        "       'exposuremeter', 'reduction', 'velocities', 'psfs'], dtype=object)"
       ]
      }
     ],
     "prompt_number": 44
    },
    {
     "cell_type": "code",
     "collapsed": false,
     "input": [
      "obsid='ct15m.chiron.20141009.060624'"
     ],
     "language": "python",
     "metadata": {},
     "outputs": [],
     "prompt_number": 5
    },
    {
     "cell_type": "code",
     "collapsed": false,
     "input": [
      "#the MySQL command that will retrieve the observation_id\n",
      "#of the erroneous entry:\n",
      "cmd = \"SELECT observation_id FROM observations\"\n",
      "cmd += \" WHERE obsid = '\" + str(obsid) + \"'\""
     ],
     "language": "python",
     "metadata": {},
     "outputs": [],
     "prompt_number": 16
    },
    {
     "cell_type": "code",
     "collapsed": false,
     "input": [
      "#connect to the chiron database\n",
      "conn = connectChironDB()"
     ],
     "language": "python",
     "metadata": {},
     "outputs": [],
     "prompt_number": 12
    },
    {
     "cell_type": "code",
     "collapsed": false,
     "input": [
      "cur = conn.cursor()"
     ],
     "language": "python",
     "metadata": {},
     "outputs": [],
     "prompt_number": 13
    },
    {
     "cell_type": "code",
     "collapsed": false,
     "input": [
      "print(cmd)"
     ],
     "language": "python",
     "metadata": {},
     "outputs": [
      {
       "output_type": "stream",
       "stream": "stdout",
       "text": [
        "SELECT observation_id FROM observations WHERE obsid = 'ct15m.chiron.20141009.060624'\n"
       ]
      }
     ],
     "prompt_number": 17
    },
    {
     "cell_type": "code",
     "collapsed": false,
     "input": [
      "cur.execute(cmd)"
     ],
     "language": "python",
     "metadata": {},
     "outputs": [
      {
       "metadata": {},
       "output_type": "pyout",
       "prompt_number": 36,
       "text": [
        "1"
       ]
      }
     ],
     "prompt_number": 36
    },
    {
     "cell_type": "code",
     "collapsed": false,
     "input": [
      "((observation_id,),) = cur.fetchall()"
     ],
     "language": "python",
     "metadata": {},
     "outputs": [],
     "prompt_number": 37
    },
    {
     "cell_type": "code",
     "collapsed": false,
     "input": [
      "print(observation_id)"
     ],
     "language": "python",
     "metadata": {},
     "outputs": [
      {
       "output_type": "stream",
       "stream": "stdout",
       "text": [
        "267569\n"
       ]
      }
     ],
     "prompt_number": 38
    },
    {
     "cell_type": "code",
     "collapsed": false,
     "input": [
      "for i in tableNames:\n",
      "    print('DELETE FROM '+i+\" WHERE observation_id='\"+str(observation_id)+\"'\")\n",
      "    cmd = 'DELETE FROM '+i+\" WHERE observation_id='\"+str(observation_id)+\"'\"\n",
      "    cur.execute(cmd)\n",
      "    conn.commit()\n",
      "    "
     ],
     "language": "python",
     "metadata": {},
     "outputs": [
      {
       "output_type": "stream",
       "stream": "stdout",
       "text": [
        "DELETE FROM observations WHERE observation_id='267569'\n",
        "DELETE FROM ccdsections WHERE observation_id='267569'\n",
        "DELETE FROM environment WHERE observation_id='267569'"
       ]
      },
      {
       "output_type": "stream",
       "stream": "stdout",
       "text": [
        "\n",
        "DELETE FROM weather WHERE observation_id='267569'"
       ]
      },
      {
       "output_type": "stream",
       "stream": "stdout",
       "text": [
        "\n",
        "DELETE FROM seeing WHERE observation_id='267569'"
       ]
      },
      {
       "output_type": "stream",
       "stream": "stdout",
       "text": [
        "\n",
        "DELETE FROM exposuremeter WHERE observation_id='267569'"
       ]
      },
      {
       "output_type": "stream",
       "stream": "stdout",
       "text": [
        "\n",
        "DELETE FROM reduction WHERE observation_id='267569'"
       ]
      },
      {
       "output_type": "stream",
       "stream": "stdout",
       "text": [
        "\n",
        "DELETE FROM velocities WHERE observation_id='267569'"
       ]
      },
      {
       "output_type": "stream",
       "stream": "stdout",
       "text": [
        "\n",
        "DELETE FROM psfs WHERE observation_id='267569'"
       ]
      },
      {
       "output_type": "stream",
       "stream": "stdout",
       "text": [
        "\n"
       ]
      }
     ],
     "prompt_number": 49
    },
    {
     "cell_type": "code",
     "collapsed": false,
     "input": [],
     "language": "python",
     "metadata": {},
     "outputs": []
    }
   ],
   "metadata": {}
  }
 ]
}