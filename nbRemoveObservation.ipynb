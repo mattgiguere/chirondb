{
 "metadata": {
  "name": "",
  "signature": "sha256:756c7639dcf1f4927436caa55ff9ac3c62d74a275a4ffbb097d1a90189cdddd1"
 },
 "nbformat": 3,
 "nbformat_minor": 0,
 "worksheets": [
  {
   "cells": [
    {
     "cell_type": "heading",
     "level": 1,
     "metadata": {},
     "source": [
      "Remove Observation Notebook"
     ]
    },
    {
     "cell_type": "markdown",
     "metadata": {},
     "source": [
      "This notebook tests the code for `remoteObservation.py`, which removes all entries associated with an input obsid."
     ]
    },
    {
     "cell_type": "code",
     "collapsed": false,
     "input": [
      "from astropy.io.fits import getheader\n",
      "import pandas as pd\n",
      "import os, subprocess, pymysql\n",
      "import numpy as np"
     ],
     "language": "python",
     "metadata": {},
     "outputs": [],
     "prompt_number": 1
    },
    {
     "cell_type": "heading",
     "level": 4,
     "metadata": {},
     "source": [
      "Subroutines"
     ]
    },
    {
     "cell_type": "code",
     "collapsed": false,
     "input": [
      "def getAeroDir():\n",
      "    cmd = 'echo $AeroFSdir'\n",
      "    #read in the AeroFSdir string and\n",
      "    adir = subprocess.check_output(cmd, shell=True)\n",
      "    #chop off the newline character at the end\n",
      "    adir = adir[0:len(adir)-1]\n",
      "    return adir\n",
      "\n",
      "\n",
      "def connectChironDB():\n",
      "    \"\"\"connect to the database\"\"\"\n",
      "    #retrieve credentials:\n",
      "    adir = getAeroDir()\n",
      "    credsf = open(adir+'.credentials/SQL/csaye', 'r')\n",
      "    creds = credsf.read().split('\\n')\n",
      "    conn = pymysql.connect(host=creds[0],\n",
      "                           port=int(creds[1]),\n",
      "                           user=creds[2],\n",
      "                           passwd=creds[3],\n",
      "                           db=creds[4])\n",
      "    #cur = conn.cursor()\n",
      "    return conn\n",
      "\n"
     ],
     "language": "python",
     "metadata": {},
     "outputs": [],
     "prompt_number": 2
    },
    {
     "cell_type": "code",
     "collapsed": false,
     "input": [
      "#restore the list of table names from which\n",
      "#this observation_id will be removed\n",
      "tableFrame = pd.read_csv('tables/tableList.txt')\n",
      "tableNames = tableFrame.tableName"
     ],
     "language": "python",
     "metadata": {},
     "outputs": [],
     "prompt_number": 3
    },
    {
     "cell_type": "code",
     "collapsed": false,
     "input": [
      "tableNames"
     ],
     "language": "python",
     "metadata": {},
     "outputs": [
      {
       "metadata": {},
       "output_type": "pyout",
       "prompt_number": 4,
       "text": [
        "0     observations\n",
        "1      ccdsections\n",
        "2      environment\n",
        "3          weather\n",
        "4           seeing\n",
        "5    exposuremeter\n",
        "6        reduction\n",
        "7       velocities\n",
        "8             psfs\n",
        "Name: tableName, dtype: object"
       ]
      }
     ],
     "prompt_number": 4
    },
    {
     "cell_type": "code",
     "collapsed": false,
     "input": [],
     "language": "python",
     "metadata": {},
     "outputs": []
    }
   ],
   "metadata": {}
  }
 ]
}