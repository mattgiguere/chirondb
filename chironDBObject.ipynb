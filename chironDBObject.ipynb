{
 "metadata": {
  "name": "",
  "signature": "sha256:5947824e3c25ff78a103e087be7a677ee88bbccc6af9163b7c092b727052af76"
 },
 "nbformat": 3,
 "nbformat_minor": 0,
 "worksheets": [
  {
   "cells": [
    {
     "cell_type": "heading",
     "level": 1,
     "metadata": {},
     "source": [
      "CHIRON DB Object"
     ]
    },
    {
     "cell_type": "heading",
     "level": 3,
     "metadata": {},
     "source": [
      "A notebook describing the routine used for creating CHIRON DB Objects."
     ]
    },
    {
     "cell_type": "markdown",
     "metadata": {},
     "source": [
      "This will define the chironObject, which includes a built in method for adding it all the information to the CHIRON Database."
     ]
    },
    {
     "cell_type": "code",
     "collapsed": false,
     "input": [
      "from astropy.io import fits"
     ],
     "language": "python",
     "metadata": {},
     "outputs": [],
     "prompt_number": 1
    },
    {
     "cell_type": "code",
     "collapsed": false,
     "input": [
      "class chironObject:\n",
      "    \"\"\"This object contains methods to retrieve and store all information on a CHIRON observation.\"\"\"\n",
      "    def __init__(self):\n",
      "        self.rawFileName = ''\n",
      "        self.reducedFileName = ''\n",
      "    def getRawChironInformation():\n",
      "        \"\"\"This routine updates the object with all information from the raw FITS file.\"\"\"\n",
      "        \n",
      "        \n",
      "    "
     ],
     "language": "python",
     "metadata": {},
     "outputs": [],
     "prompt_number": 2
    },
    {
     "cell_type": "code",
     "collapsed": false,
     "input": [
      "myObs = chironObject()"
     ],
     "language": "python",
     "metadata": {},
     "outputs": [],
     "prompt_number": 3
    },
    {
     "cell_type": "code",
     "collapsed": false,
     "input": [
      "myObs.rawFileName = '/raw/mir7/121202/chi121202.1000.fits'"
     ],
     "language": "python",
     "metadata": {},
     "outputs": [],
     "prompt_number": 4
    },
    {
     "cell_type": "code",
     "collapsed": false,
     "input": [
      "hdulist = fits.open(myObs.rawFileName)"
     ],
     "language": "python",
     "metadata": {},
     "outputs": [],
     "prompt_number": 6
    },
    {
     "cell_type": "code",
     "collapsed": false,
     "input": [
      "hdulist.info()"
     ],
     "language": "python",
     "metadata": {},
     "outputs": [
      {
       "output_type": "stream",
       "stream": "stdout",
       "text": [
        "Filename: /raw/mir7/121202/chi121202.1000.fits\n",
        "No.    Name         Type      Cards   Dimensions   Format\n",
        "0    PRIMARY     PrimaryHDU     127   (1432, 4112)   int16   \n"
       ]
      }
     ],
     "prompt_number": 7
    }
   ],
   "metadata": {}
  }
 ]
}