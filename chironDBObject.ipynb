{
 "metadata": {
  "name": "",
  "signature": "sha256:3ec4c150999b8d29d7bb95724ed1161cb64d2aebea621f61204190231fb48bc3"
 },
 "nbformat": 3,
 "nbformat_minor": 0,
 "worksheets": [
  {
   "cells": [
    {
     "cell_type": "code",
     "collapsed": false,
     "input": [
      "def addRawChironInformation():\n",
      "    \"\"\"This routine updates the object with all information from the raw FITS file.\"\"\""
     ],
     "language": "python",
     "metadata": {},
     "outputs": []
    }
   ],
   "metadata": {}
  }
 ]
}