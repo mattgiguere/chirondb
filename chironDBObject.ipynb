{
 "metadata": {
  "name": "",
  "signature": "sha256:a7ec8f6c873f8024ee7e1ecb5f367de66a7be1d1c7dfde59279583231c589a81"
 },
 "nbformat": 3,
 "nbformat_minor": 0,
 "worksheets": [
  {
   "cells": [
    {
     "cell_type": "heading",
     "level": 1,
     "metadata": {},
     "source": [
      "CHIRON DB Object"
     ]
    },
    {
     "cell_type": "heading",
     "level": 3,
     "metadata": {},
     "source": [
      "A notebook describing the routine used for creating CHIRON DB Objects."
     ]
    },
    {
     "cell_type": "markdown",
     "metadata": {},
     "source": [
      "This will define the chironObject, which includes a built in method for adding it all the information to the CHIRON Database."
     ]
    },
    {
     "cell_type": "code",
     "collapsed": false,
     "input": [
      "from astropy.io import fits\n",
      "import pandas as pd"
     ],
     "language": "python",
     "metadata": {},
     "outputs": [],
     "prompt_number": 1
    },
    {
     "cell_type": "code",
     "collapsed": false,
     "input": [
      "mydf = pd.DataFrame()\n",
      "mydf['fieldName'] = ''\n",
      "mydf['variableType'] = ''\n",
      "mydf"
     ],
     "language": "python",
     "metadata": {},
     "outputs": [
      {
       "html": [
        "<div style=\"max-height:1000px;max-width:1500px;overflow:auto;\">\n",
        "<table border=\"1\" class=\"dataframe\">\n",
        "  <tbody>\n",
        "    <tr>\n",
        "      <td>Index([], dtype='object')</td>\n",
        "      <td>Empty DataFrame</td>\n",
        "    </tr>\n",
        "  </tbody>\n",
        "</table>\n",
        "<p>0 rows \u00d7 2 columns</p>\n",
        "</div>"
       ],
       "metadata": {},
       "output_type": "pyout",
       "prompt_number": 3,
       "text": [
        "Empty DataFrame\n",
        "Columns: [fieldName, variableType]\n",
        "Index: []\n",
        "\n",
        "[0 rows x 2 columns]"
       ]
      }
     ],
     "prompt_number": 3
    },
    {
     "cell_type": "code",
     "collapsed": false,
     "input": [
      "class chironObject:\n",
      "    \"\"\"This object contains methods to retrieve and store all information\n",
      "       on a CHIRON observation.\"\"\"\n",
      "    def __init__(self):\n",
      "        self.rawFileName = ''\n",
      "        self.reducedFileName = ''\n",
      "        tableFrame = pd.read_csv('tables/tableList.txt')\n",
      "        self.tableNames = tableFrame.tableName\n",
      "        self.tableFileNames = tableFrame.tableFileName\n",
      "    def getTables():\n",
      "        \"\"\"This method reads in all the tables and stores them as \n",
      "           pandas dataFrames within a python dictionary.\"\"\"\n",
      "        self.tableDict = {}\n",
      "        for idx in range(len(self.tableNames)):\n",
      "            self.tableDict[tableNames[idx]] = pd.read_csv(tableFileNames[idx])\n",
      "    \n",
      "    def getRawChironInformation():\n",
      "        \"\"\"This routine updates the object with all information \n",
      "           from the raw FITS file.\"\"\"\n",
      "        if self.rawFileName == '':\n",
      "            print(\"You must first enter the raw filename.\")\n",
      "            return\n",
      "        \n",
      "        \n",
      "        \n",
      "        \n",
      "        \n",
      "        \n",
      "        \n",
      "    "
     ],
     "language": "python",
     "metadata": {},
     "outputs": [],
     "prompt_number": 21
    },
    {
     "cell_type": "code",
     "collapsed": false,
     "input": [
      "myObs = chironObject()"
     ],
     "language": "python",
     "metadata": {},
     "outputs": [],
     "prompt_number": 3
    },
    {
     "cell_type": "code",
     "collapsed": false,
     "input": [
      "myObs.rawFileName = '/raw/mir7/121202/chi121202.1000.fits'"
     ],
     "language": "python",
     "metadata": {},
     "outputs": [],
     "prompt_number": 4
    },
    {
     "cell_type": "code",
     "collapsed": false,
     "input": [
      "hdulist = fits.open(myObs.rawFileName)"
     ],
     "language": "python",
     "metadata": {},
     "outputs": [],
     "prompt_number": 6
    },
    {
     "cell_type": "code",
     "collapsed": false,
     "input": [
      "hdulist.info()"
     ],
     "language": "python",
     "metadata": {},
     "outputs": [
      {
       "output_type": "stream",
       "stream": "stdout",
       "text": [
        "Filename: /raw/mir7/121202/chi121202.1000.fits\n",
        "No.    Name         Type      Cards   Dimensions   Format\n",
        "0    PRIMARY     PrimaryHDU     127   (1432, 4112)   int16   \n"
       ]
      }
     ],
     "prompt_number": 7
    },
    {
     "cell_type": "code",
     "collapsed": false,
     "input": [
      "tableFrame = pd.read_csv('tables/tableList.txt')\n",
      "tableFrame"
     ],
     "language": "python",
     "metadata": {},
     "outputs": [
      {
       "html": [
        "<div style=\"max-height:1000px;max-width:1500px;overflow:auto;\">\n",
        "<table border=\"1\" class=\"dataframe\">\n",
        "  <thead>\n",
        "    <tr style=\"text-align: right;\">\n",
        "      <th></th>\n",
        "      <th>tableName</th>\n",
        "      <th>tableFileName</th>\n",
        "    </tr>\n",
        "  </thead>\n",
        "  <tbody>\n",
        "    <tr>\n",
        "      <th>0</th>\n",
        "      <td>  observations</td>\n",
        "      <td>  tables/ObservationsTable.txt</td>\n",
        "    </tr>\n",
        "    <tr>\n",
        "      <th>1</th>\n",
        "      <td>   ccdsections</td>\n",
        "      <td>   tables/CCDSectionsTable.txt</td>\n",
        "    </tr>\n",
        "    <tr>\n",
        "      <th>2</th>\n",
        "      <td>   environment</td>\n",
        "      <td>   tables/EnvironmentTable.txt</td>\n",
        "    </tr>\n",
        "    <tr>\n",
        "      <th>3</th>\n",
        "      <td>       weather</td>\n",
        "      <td>       tables/WeatherTable.txt</td>\n",
        "    </tr>\n",
        "    <tr>\n",
        "      <th>4</th>\n",
        "      <td>        seeing</td>\n",
        "      <td>        tables/SeeingTable.txt</td>\n",
        "    </tr>\n",
        "    <tr>\n",
        "      <th>5</th>\n",
        "      <td> exposuremeter</td>\n",
        "      <td> tables/ExposureMeterTable.txt</td>\n",
        "    </tr>\n",
        "    <tr>\n",
        "      <th>6</th>\n",
        "      <td>     reduction</td>\n",
        "      <td>     tables/ReductionTable.txt</td>\n",
        "    </tr>\n",
        "  </tbody>\n",
        "</table>\n",
        "<p>7 rows \u00d7 2 columns</p>\n",
        "</div>"
       ],
       "metadata": {},
       "output_type": "pyout",
       "prompt_number": 17,
       "text": [
        "       tableName                  tableFileName\n",
        "0   observations   tables/ObservationsTable.txt\n",
        "1    ccdsections    tables/CCDSectionsTable.txt\n",
        "2    environment    tables/EnvironmentTable.txt\n",
        "3        weather        tables/WeatherTable.txt\n",
        "4         seeing         tables/SeeingTable.txt\n",
        "5  exposuremeter  tables/ExposureMeterTable.txt\n",
        "6      reduction      tables/ReductionTable.txt\n",
        "\n",
        "[7 rows x 2 columns]"
       ]
      }
     ],
     "prompt_number": 17
    },
    {
     "cell_type": "markdown",
     "metadata": {},
     "source": [
      "There are two ways of accessing data using pandas: you can use either dot notation or bracket notation. Make sure in your file you don't include any spaces after commas, otherwise you'll have to strip them off!"
     ]
    },
    {
     "cell_type": "code",
     "collapsed": false,
     "input": [
      "tableFrame['tableFileName']"
     ],
     "language": "python",
     "metadata": {},
     "outputs": [
      {
       "metadata": {},
       "output_type": "pyout",
       "prompt_number": 18,
       "text": [
        "0     tables/ObservationsTable.txt\n",
        "1      tables/CCDSectionsTable.txt\n",
        "2      tables/EnvironmentTable.txt\n",
        "3          tables/WeatherTable.txt\n",
        "4           tables/SeeingTable.txt\n",
        "5    tables/ExposureMeterTable.txt\n",
        "6        tables/ReductionTable.txt\n",
        "Name: tableFileName, dtype: object"
       ]
      }
     ],
     "prompt_number": 18
    },
    {
     "cell_type": "code",
     "collapsed": false,
     "input": [
      "tableFrame.tableFileName"
     ],
     "language": "python",
     "metadata": {},
     "outputs": [
      {
       "metadata": {},
       "output_type": "pyout",
       "prompt_number": 19,
       "text": [
        "0     tables/ObservationsTable.txt\n",
        "1      tables/CCDSectionsTable.txt\n",
        "2      tables/EnvironmentTable.txt\n",
        "3          tables/WeatherTable.txt\n",
        "4           tables/SeeingTable.txt\n",
        "5    tables/ExposureMeterTable.txt\n",
        "6        tables/ReductionTable.txt\n",
        "Name: tableFileName, dtype: object"
       ]
      }
     ],
     "prompt_number": 19
    },
    {
     "cell_type": "code",
     "collapsed": false,
     "input": [],
     "language": "python",
     "metadata": {},
     "outputs": []
    }
   ],
   "metadata": {}
  }
 ]
}