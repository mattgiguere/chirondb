{
 "metadata": {
  "name": "",
  "signature": "sha256:38537c4dad0fb1cda1c26ace38cccd6907652102d6bc51d65057a4bb9af407f9"
 },
 "nbformat": 3,
 "nbformat_minor": 0,
 "worksheets": [
  {
   "cells": [
    {
     "cell_type": "heading",
     "level": 1,
     "metadata": {},
     "source": [
      "parseTPs"
     ]
    },
    {
     "cell_type": "markdown",
     "metadata": {},
     "source": [
      "A notebook to parse the environment info from the daily logs and add that information to the DB."
     ]
    },
    {
     "cell_type": "code",
     "collapsed": false,
     "input": [
      "import pandas as pd\n",
      "import pyutil.connectChironDB as ccdb\n",
      "import numpy as np"
     ],
     "language": "python",
     "metadata": {},
     "outputs": [],
     "prompt_number": 101
    },
    {
     "cell_type": "code",
     "collapsed": false,
     "input": [
      "pd.__version__"
     ],
     "language": "python",
     "metadata": {},
     "outputs": [
      {
       "metadata": {},
       "output_type": "pyout",
       "prompt_number": 2,
       "text": [
        "'0.15.2'"
       ]
      }
     ],
     "prompt_number": 2
    },
    {
     "cell_type": "code",
     "collapsed": false,
     "input": [
      "%matplotlib inline\n",
      "%load_ext autoreload\n",
      "%autoreload 2"
     ],
     "language": "python",
     "metadata": {},
     "outputs": [
      {
       "output_type": "stream",
       "stream": "stdout",
       "text": [
        "The autoreload extension is already loaded. To reload it, use:\n",
        "  %reload_ext autoreload\n"
       ]
      }
     ],
     "prompt_number": 356
    },
    {
     "cell_type": "code",
     "collapsed": false,
     "input": [
      "date = '150127'\n",
      "instfn = '/tous/mir7/logs/temps/insttemp/insttemp'+date+'.log'\n",
      "htfn =  '/tous/mir7/logs/temps/heater/heater'+date+'.log'\n",
      "ctfn = '/tous/mir7/logs/temps/chitemp/chitemp'+date+'.log'\n",
      "dtfn = '/tous/mir7/logs/temps/dettemp/dettemp'+date+'.log'"
     ],
     "language": "python",
     "metadata": {},
     "outputs": [],
     "prompt_number": 235
    },
    {
     "cell_type": "heading",
     "level": 4,
     "metadata": {},
     "source": [
      "1. Restore the `insttemp` log into a DataFrame"
     ]
    },
    {
     "cell_type": "code",
     "collapsed": false,
     "input": [
      "df_in = pd.read_table(instfn, sep='\\s', engine='python', header=None)"
     ],
     "language": "python",
     "metadata": {},
     "outputs": [],
     "prompt_number": 236
    },
    {
     "cell_type": "code",
     "collapsed": false,
     "input": [
      "df_in.columns"
     ],
     "language": "python",
     "metadata": {},
     "outputs": [
      {
       "metadata": {},
       "output_type": "pyout",
       "prompt_number": 237,
       "text": [
        "Int64Index([0, 1, 2, 3, 4, 5, 6, 7, 8, 9, 10, 11, 12, 13, 14, 15, 16, 17, 18, 19, 20, 21, 22, 23, 24], dtype='int64')"
       ]
      }
     ],
     "prompt_number": 237
    },
    {
     "cell_type": "code",
     "collapsed": false,
     "input": [
      "df_in.columns = ['sampleTime', 'jnk1', 'gratingTemp', 'jnk2', 'tableCenterTemp', 'jnk3', 'enclosureTemp', 'jnk4',\n",
      "              'iodineCellTemp', 'jnk5', 'enclosureSetpoint', 'jnk6', 'iodineCellSetpoint', 'jnk7',\n",
      "              'enclosureTemp2', 'jnk8', 'tableTempLow', 'jnk9', 'structureTemp', 'jnk10', 'instrumentSetpoint',\n",
      "              'jnk11', 'instrumentTemp', 'jnk12', 'coudeTemp']"
     ],
     "language": "python",
     "metadata": {},
     "outputs": [],
     "prompt_number": 238
    },
    {
     "cell_type": "code",
     "collapsed": false,
     "input": [
      "df = df_in[['sampleTime', 'gratingTemp', 'tableCenterTemp', 'enclosureTemp',\n",
      "              'iodineCellTemp', 'enclosureSetpoint', 'iodineCellSetpoint',\n",
      "              'enclosureTemp2', 'tableTempLow', 'structureTemp', 'instrumentSetpoint',\n",
      "              'instrumentTemp', 'coudeTemp']]"
     ],
     "language": "python",
     "metadata": {},
     "outputs": [],
     "prompt_number": 239
    },
    {
     "cell_type": "heading",
     "level": 4,
     "metadata": {},
     "source": [
      "2. Restore the `heater` log into a DataFrame"
     ]
    },
    {
     "cell_type": "code",
     "collapsed": false,
     "input": [
      "ht_in = pd.read_table(htfn, sep='\\s', engine='python', header=None)"
     ],
     "language": "python",
     "metadata": {},
     "outputs": [],
     "prompt_number": 240
    },
    {
     "cell_type": "code",
     "collapsed": false,
     "input": [
      "ht_in.columns = ['sampleTime', 'jnk1', 'heaterSetpoint']"
     ],
     "language": "python",
     "metadata": {},
     "outputs": [],
     "prompt_number": 241
    },
    {
     "cell_type": "code",
     "collapsed": false,
     "input": [
      "ht = ht_in[['sampleTime', 'heaterSetpoint']]"
     ],
     "language": "python",
     "metadata": {},
     "outputs": [],
     "prompt_number": 242
    },
    {
     "cell_type": "heading",
     "level": 4,
     "metadata": {},
     "source": [
      "Now merge the `heater` and `instttemp` DataFrames"
     ]
    },
    {
     "cell_type": "code",
     "collapsed": false,
     "input": [
      "df = df.merge(ht, on='sampleTime', how='left')"
     ],
     "language": "python",
     "metadata": {},
     "outputs": [],
     "prompt_number": 243
    },
    {
     "cell_type": "heading",
     "level": 4,
     "metadata": {},
     "source": [
      "3. Restore the `chitemp` log into a DataFrame"
     ]
    },
    {
     "cell_type": "code",
     "collapsed": false,
     "input": [
      "ct_in = pd.read_table(ctfn, sep='\\s', engine='python', header=None)"
     ],
     "language": "python",
     "metadata": {},
     "outputs": [],
     "prompt_number": 244
    },
    {
     "cell_type": "code",
     "collapsed": false,
     "input": [
      "ct_in.columns = ['sampleTime', 'jnk', 'barometer', 'jnk', 'echellePressure']"
     ],
     "language": "python",
     "metadata": {},
     "outputs": [],
     "prompt_number": 245
    },
    {
     "cell_type": "code",
     "collapsed": false,
     "input": [
      "ct = ct_in[['sampleTime', 'barometer', 'echellePressure']]"
     ],
     "language": "python",
     "metadata": {},
     "outputs": [],
     "prompt_number": 246
    },
    {
     "cell_type": "code",
     "collapsed": false,
     "input": [
      "df = df.merge(ct, on='sampleTime')"
     ],
     "language": "python",
     "metadata": {},
     "outputs": [],
     "prompt_number": 247
    },
    {
     "cell_type": "heading",
     "level": 4,
     "metadata": {},
     "source": [
      "4. Restore `dettemp` into a DataFrame"
     ]
    },
    {
     "cell_type": "code",
     "collapsed": false,
     "input": [
      "dt_in = pd.read_table(dtfn, sep='\\s', engine='python', header=None)"
     ],
     "language": "python",
     "metadata": {},
     "outputs": [],
     "prompt_number": 248
    },
    {
     "cell_type": "code",
     "collapsed": false,
     "input": [
      "dt_in.columns = ['sampleTime', 'jnk1', 'ccdTemp', 'jnk2', 'neckTemp', 'jnk3', 'ccdSetpoint']"
     ],
     "language": "python",
     "metadata": {},
     "outputs": [],
     "prompt_number": 249
    },
    {
     "cell_type": "code",
     "collapsed": false,
     "input": [
      "dt = dt_in[['sampleTime', 'ccdTemp', 'neckTemp', 'ccdSetpoint']]"
     ],
     "language": "python",
     "metadata": {},
     "outputs": [],
     "prompt_number": 250
    },
    {
     "cell_type": "code",
     "collapsed": false,
     "input": [
      "df = df.merge(dt, on='sampleTime')"
     ],
     "language": "python",
     "metadata": {},
     "outputs": [],
     "prompt_number": 251
    },
    {
     "cell_type": "code",
     "collapsed": false,
     "input": [
      "df.columns"
     ],
     "language": "python",
     "metadata": {},
     "outputs": [
      {
       "metadata": {},
       "output_type": "pyout",
       "prompt_number": 252,
       "text": [
        "Index([u'sampleTime', u'gratingTemp', u'tableCenterTemp', u'enclosureTemp', u'iodineCellTemp', u'enclosureSetpoint', u'iodineCellSetpoint', u'enclosureTemp2', u'tableTempLow', u'structureTemp', u'instrumentSetpoint', u'instrumentTemp', u'coudeTemp', u'heaterSetpoint', u'barometer', u'echellePressure', u'ccdTemp', u'neckTemp', u'ccdSetpoint'], dtype='object')"
       ]
      }
     ],
     "prompt_number": 252
    },
    {
     "cell_type": "code",
     "collapsed": false,
     "input": [
      "df['dateAdded'] = None"
     ],
     "language": "python",
     "metadata": {},
     "outputs": [],
     "prompt_number": 253
    },
    {
     "cell_type": "code",
     "collapsed": false,
     "input": [
      "engine = ccdb.connectChironDB()"
     ],
     "language": "python",
     "metadata": {},
     "outputs": [],
     "prompt_number": 254
    },
    {
     "cell_type": "code",
     "collapsed": false,
     "input": [
      "#df.to_sql('environ', engine, if_exists='append', index=False)"
     ],
     "language": "python",
     "metadata": {},
     "outputs": [],
     "prompt_number": 23
    },
    {
     "cell_type": "code",
     "collapsed": false,
     "input": [
      "#help(df.to_sql)"
     ],
     "language": "python",
     "metadata": {},
     "outputs": [],
     "prompt_number": 80
    },
    {
     "cell_type": "heading",
     "level": 3,
     "metadata": {},
     "source": [
      "Query DB to check for duplicates"
     ]
    },
    {
     "cell_type": "markdown",
     "metadata": {},
     "source": [
      "We don't want duplicate entries in the DB, so we should query every time to make sure we're not adding redundant information. The `sampleTime` column is actually a `UNIQUE INDEX` anyways, meaning our code will crash if we try to add a duplicate."
     ]
    },
    {
     "cell_type": "code",
     "collapsed": false,
     "input": [
      "cmd = \"SELECT sampleTime, environ_id FROM environ WHERE sampleTime IN ('\"+\"','\".join(df.sampleTime.values)+\"');\""
     ],
     "language": "python",
     "metadata": {},
     "outputs": [],
     "prompt_number": 255
    },
    {
     "cell_type": "code",
     "collapsed": false,
     "input": [
      "df[(df['sampleTime'] > '2015-01-28T02:00:19') & (df['sampleTime'] < '2015-01-28T02:02:19')]"
     ],
     "language": "python",
     "metadata": {},
     "outputs": [
      {
       "html": [
        "<div style=\"max-height:1000px;max-width:1500px;overflow:auto;\">\n",
        "<table border=\"1\" class=\"dataframe\">\n",
        "  <thead>\n",
        "    <tr style=\"text-align: right;\">\n",
        "      <th></th>\n",
        "      <th>sampleTime</th>\n",
        "      <th>gratingTemp</th>\n",
        "      <th>tableCenterTemp</th>\n",
        "      <th>enclosureTemp</th>\n",
        "      <th>iodineCellTemp</th>\n",
        "      <th>enclosureSetpoint</th>\n",
        "      <th>iodineCellSetpoint</th>\n",
        "      <th>enclosureTemp2</th>\n",
        "      <th>tableTempLow</th>\n",
        "      <th>structureTemp</th>\n",
        "      <th>instrumentSetpoint</th>\n",
        "      <th>instrumentTemp</th>\n",
        "      <th>coudeTemp</th>\n",
        "      <th>heaterSetpoint</th>\n",
        "      <th>barometer</th>\n",
        "      <th>echellePressure</th>\n",
        "      <th>ccdTemp</th>\n",
        "      <th>neckTemp</th>\n",
        "      <th>ccdSetpoint</th>\n",
        "      <th>dateAdded</th>\n",
        "    </tr>\n",
        "  </thead>\n",
        "  <tbody>\n",
        "    <tr>\n",
        "      <th>4279</th>\n",
        "      <td> 2015-01-28T02:01:19</td>\n",
        "      <td> 23.372</td>\n",
        "      <td> 23.467</td>\n",
        "      <td> 22.7</td>\n",
        "      <td> 39.9</td>\n",
        "      <td> 22.5</td>\n",
        "      <td> 40</td>\n",
        "      <td> 23.199</td>\n",
        "      <td> 23.519</td>\n",
        "      <td> 23.213</td>\n",
        "      <td> 23</td>\n",
        "      <td> 22.999</td>\n",
        "      <td> 19.719</td>\n",
        "      <td> 49</td>\n",
        "      <td> 781.72</td>\n",
        "      <td> 12.6</td>\n",
        "      <td>-127.99</td>\n",
        "      <td>-152.67</td>\n",
        "      <td>-128</td>\n",
        "      <td> None</td>\n",
        "    </tr>\n",
        "  </tbody>\n",
        "</table>\n",
        "</div>"
       ],
       "metadata": {},
       "output_type": "pyout",
       "prompt_number": 256,
       "text": [
        "               sampleTime  gratingTemp  tableCenterTemp  enclosureTemp  \\\n",
        "4279  2015-01-28T02:01:19       23.372           23.467           22.7   \n",
        "\n",
        "      iodineCellTemp  enclosureSetpoint  iodineCellSetpoint  enclosureTemp2  \\\n",
        "4279            39.9               22.5                  40          23.199   \n",
        "\n",
        "      tableTempLow  structureTemp  instrumentSetpoint  instrumentTemp  \\\n",
        "4279        23.519         23.213                  23          22.999   \n",
        "\n",
        "      coudeTemp  heaterSetpoint  barometer  echellePressure  ccdTemp  \\\n",
        "4279     19.719              49     781.72             12.6  -127.99   \n",
        "\n",
        "      neckTemp  ccdSetpoint dateAdded  \n",
        "4279   -152.67         -128      None  "
       ]
      }
     ],
     "prompt_number": 256
    },
    {
     "cell_type": "code",
     "collapsed": false,
     "input": [
      "alreadyExists = pd.read_sql_query(cmd, engine)"
     ],
     "language": "python",
     "metadata": {},
     "outputs": [],
     "prompt_number": 257
    },
    {
     "cell_type": "code",
     "collapsed": false,
     "input": [
      "alreadyExists[(alreadyExists['sampleTime'] > '2015-01-28T02:00:19') & (alreadyExists['sampleTime'] < '2015-01-28T02:02:19')]"
     ],
     "language": "python",
     "metadata": {},
     "outputs": [
      {
       "html": [
        "<div style=\"max-height:1000px;max-width:1500px;overflow:auto;\">\n",
        "<table border=\"1\" class=\"dataframe\">\n",
        "  <thead>\n",
        "    <tr style=\"text-align: right;\">\n",
        "      <th></th>\n",
        "      <th>sampleTime</th>\n",
        "      <th>environ_id</th>\n",
        "    </tr>\n",
        "  </thead>\n",
        "  <tbody>\n",
        "    <tr>\n",
        "      <th>4279</th>\n",
        "      <td>2015-01-28 02:01:19</td>\n",
        "      <td> 5945</td>\n",
        "    </tr>\n",
        "  </tbody>\n",
        "</table>\n",
        "</div>"
       ],
       "metadata": {},
       "output_type": "pyout",
       "prompt_number": 258,
       "text": [
        "              sampleTime  environ_id\n",
        "4279 2015-01-28 02:01:19        5945"
       ]
      }
     ],
     "prompt_number": 258
    },
    {
     "cell_type": "code",
     "collapsed": false,
     "input": [
      "df['sampleTime'] = pd.to_datetime(df['sampleTime'])\n",
      "alreadyExists['sampleTime'] = pd.to_datetime(alreadyExists['sampleTime'])"
     ],
     "language": "python",
     "metadata": {},
     "outputs": [],
     "prompt_number": 259
    },
    {
     "cell_type": "code",
     "collapsed": false,
     "input": [
      "df[(df['sampleTime'] > '2015-01-28T02:00:19') & (df['sampleTime'] < '2015-01-28T02:03:19')]"
     ],
     "language": "python",
     "metadata": {},
     "outputs": [
      {
       "html": [
        "<div style=\"max-height:1000px;max-width:1500px;overflow:auto;\">\n",
        "<table border=\"1\" class=\"dataframe\">\n",
        "  <thead>\n",
        "    <tr style=\"text-align: right;\">\n",
        "      <th></th>\n",
        "      <th>sampleTime</th>\n",
        "      <th>gratingTemp</th>\n",
        "      <th>tableCenterTemp</th>\n",
        "      <th>enclosureTemp</th>\n",
        "      <th>iodineCellTemp</th>\n",
        "      <th>enclosureSetpoint</th>\n",
        "      <th>iodineCellSetpoint</th>\n",
        "      <th>enclosureTemp2</th>\n",
        "      <th>tableTempLow</th>\n",
        "      <th>structureTemp</th>\n",
        "      <th>instrumentSetpoint</th>\n",
        "      <th>instrumentTemp</th>\n",
        "      <th>coudeTemp</th>\n",
        "      <th>heaterSetpoint</th>\n",
        "      <th>barometer</th>\n",
        "      <th>echellePressure</th>\n",
        "      <th>ccdTemp</th>\n",
        "      <th>neckTemp</th>\n",
        "      <th>ccdSetpoint</th>\n",
        "      <th>dateAdded</th>\n",
        "    </tr>\n",
        "  </thead>\n",
        "  <tbody>\n",
        "    <tr>\n",
        "      <th>4279</th>\n",
        "      <td>2015-01-28 02:01:19</td>\n",
        "      <td> 23.372</td>\n",
        "      <td> 23.467</td>\n",
        "      <td> 22.7</td>\n",
        "      <td> 39.9</td>\n",
        "      <td> 22.5</td>\n",
        "      <td> 40</td>\n",
        "      <td> 23.199</td>\n",
        "      <td> 23.519</td>\n",
        "      <td> 23.213</td>\n",
        "      <td> 23</td>\n",
        "      <td> 22.999</td>\n",
        "      <td> 19.719</td>\n",
        "      <td> 49</td>\n",
        "      <td> 781.72</td>\n",
        "      <td> 12.6</td>\n",
        "      <td>-127.99</td>\n",
        "      <td>-152.67</td>\n",
        "      <td>-128</td>\n",
        "      <td> None</td>\n",
        "    </tr>\n",
        "  </tbody>\n",
        "</table>\n",
        "</div>"
       ],
       "metadata": {},
       "output_type": "pyout",
       "prompt_number": 260,
       "text": [
        "              sampleTime  gratingTemp  tableCenterTemp  enclosureTemp  \\\n",
        "4279 2015-01-28 02:01:19       23.372           23.467           22.7   \n",
        "\n",
        "      iodineCellTemp  enclosureSetpoint  iodineCellSetpoint  enclosureTemp2  \\\n",
        "4279            39.9               22.5                  40          23.199   \n",
        "\n",
        "      tableTempLow  structureTemp  instrumentSetpoint  instrumentTemp  \\\n",
        "4279        23.519         23.213                  23          22.999   \n",
        "\n",
        "      coudeTemp  heaterSetpoint  barometer  echellePressure  ccdTemp  \\\n",
        "4279     19.719              49     781.72             12.6  -127.99   \n",
        "\n",
        "      neckTemp  ccdSetpoint dateAdded  \n",
        "4279   -152.67         -128      None  "
       ]
      }
     ],
     "prompt_number": 260
    },
    {
     "cell_type": "code",
     "collapsed": false,
     "input": [
      "alreadyExists[(alreadyExists['sampleTime'] > '2015-01-28T02:00:19') & (alreadyExists['sampleTime'] < '2015-01-28T02:04:19')]"
     ],
     "language": "python",
     "metadata": {},
     "outputs": [
      {
       "html": [
        "<div style=\"max-height:1000px;max-width:1500px;overflow:auto;\">\n",
        "<table border=\"1\" class=\"dataframe\">\n",
        "  <thead>\n",
        "    <tr style=\"text-align: right;\">\n",
        "      <th></th>\n",
        "      <th>sampleTime</th>\n",
        "      <th>environ_id</th>\n",
        "    </tr>\n",
        "  </thead>\n",
        "  <tbody>\n",
        "    <tr>\n",
        "      <th>4279</th>\n",
        "      <td>2015-01-28 02:01:19</td>\n",
        "      <td> 5945</td>\n",
        "    </tr>\n",
        "  </tbody>\n",
        "</table>\n",
        "</div>"
       ],
       "metadata": {},
       "output_type": "pyout",
       "prompt_number": 262,
       "text": [
        "              sampleTime  environ_id\n",
        "4279 2015-01-28 02:01:19        5945"
       ]
      }
     ],
     "prompt_number": 262
    },
    {
     "cell_type": "code",
     "collapsed": false,
     "input": [
      "len(alreadyExists)"
     ],
     "language": "python",
     "metadata": {},
     "outputs": [
      {
       "metadata": {},
       "output_type": "pyout",
       "prompt_number": 263,
       "text": [
        "4379"
       ]
      }
     ],
     "prompt_number": 263
    },
    {
     "cell_type": "code",
     "collapsed": false,
     "input": [
      "print(len(df))\n",
      "print(len(df.merge(alreadyExists, how='outer', on='sampleTime')))\n",
      "df = df.merge(alreadyExists, how='outer', on='sampleTime')"
     ],
     "language": "python",
     "metadata": {},
     "outputs": [
      {
       "output_type": "stream",
       "stream": "stdout",
       "text": [
        "4479\n",
        "4479\n"
       ]
      }
     ],
     "prompt_number": 264
    },
    {
     "cell_type": "code",
     "collapsed": false,
     "input": [
      "df[(df['sampleTime'] > '2015-01-28T02:00:19') & (df['sampleTime'] < '2015-01-28T02:03:19')]"
     ],
     "language": "python",
     "metadata": {},
     "outputs": [
      {
       "html": [
        "<div style=\"max-height:1000px;max-width:1500px;overflow:auto;\">\n",
        "<table border=\"1\" class=\"dataframe\">\n",
        "  <thead>\n",
        "    <tr style=\"text-align: right;\">\n",
        "      <th></th>\n",
        "      <th>sampleTime</th>\n",
        "      <th>gratingTemp</th>\n",
        "      <th>tableCenterTemp</th>\n",
        "      <th>enclosureTemp</th>\n",
        "      <th>iodineCellTemp</th>\n",
        "      <th>enclosureSetpoint</th>\n",
        "      <th>iodineCellSetpoint</th>\n",
        "      <th>enclosureTemp2</th>\n",
        "      <th>tableTempLow</th>\n",
        "      <th>structureTemp</th>\n",
        "      <th>...</th>\n",
        "      <th>instrumentTemp</th>\n",
        "      <th>coudeTemp</th>\n",
        "      <th>heaterSetpoint</th>\n",
        "      <th>barometer</th>\n",
        "      <th>echellePressure</th>\n",
        "      <th>ccdTemp</th>\n",
        "      <th>neckTemp</th>\n",
        "      <th>ccdSetpoint</th>\n",
        "      <th>dateAdded</th>\n",
        "      <th>environ_id</th>\n",
        "    </tr>\n",
        "  </thead>\n",
        "  <tbody>\n",
        "    <tr>\n",
        "      <th>4279</th>\n",
        "      <td>2015-01-28 02:01:19</td>\n",
        "      <td> 23.372</td>\n",
        "      <td> 23.467</td>\n",
        "      <td> 22.7</td>\n",
        "      <td> 39.9</td>\n",
        "      <td> 22.5</td>\n",
        "      <td> 40</td>\n",
        "      <td> 23.199</td>\n",
        "      <td> 23.519</td>\n",
        "      <td> 23.213</td>\n",
        "      <td>...</td>\n",
        "      <td> 22.999</td>\n",
        "      <td> 19.719</td>\n",
        "      <td> 49</td>\n",
        "      <td> 781.72</td>\n",
        "      <td> 12.6</td>\n",
        "      <td>-127.99</td>\n",
        "      <td>-152.67</td>\n",
        "      <td>-128</td>\n",
        "      <td> NaN</td>\n",
        "      <td> 5945</td>\n",
        "    </tr>\n",
        "  </tbody>\n",
        "</table>\n",
        "<p>1 rows \u00d7 21 columns</p>\n",
        "</div>"
       ],
       "metadata": {},
       "output_type": "pyout",
       "prompt_number": 265,
       "text": [
        "              sampleTime  gratingTemp  tableCenterTemp  enclosureTemp  \\\n",
        "4279 2015-01-28 02:01:19       23.372           23.467           22.7   \n",
        "\n",
        "      iodineCellTemp  enclosureSetpoint  iodineCellSetpoint  enclosureTemp2  \\\n",
        "4279            39.9               22.5                  40          23.199   \n",
        "\n",
        "      tableTempLow  structureTemp    ...      instrumentTemp  coudeTemp  \\\n",
        "4279        23.519         23.213    ...              22.999     19.719   \n",
        "\n",
        "      heaterSetpoint  barometer  echellePressure  ccdTemp  neckTemp  \\\n",
        "4279              49     781.72             12.6  -127.99   -152.67   \n",
        "\n",
        "      ccdSetpoint  dateAdded environ_id  \n",
        "4279         -128        NaN       5945  \n",
        "\n",
        "[1 rows x 21 columns]"
       ]
      }
     ],
     "prompt_number": 265
    },
    {
     "cell_type": "code",
     "collapsed": false,
     "input": [
      "newSamps = df[pd.isnull(df['environ_id'])]"
     ],
     "language": "python",
     "metadata": {},
     "outputs": []
    },
    {
     "cell_type": "code",
     "collapsed": false,
     "input": [
      "newSamps.to_sql('environ', engine, if_exists='append', index=False)"
     ],
     "language": "python",
     "metadata": {},
     "outputs": [],
     "prompt_number": 280
    },
    {
     "cell_type": "heading",
     "level": 3,
     "metadata": {},
     "source": [
      "Wrapping it all together"
     ]
    },
    {
     "cell_type": "code",
     "collapsed": false,
     "input": [
      "import pandas as pd\n",
      "import pyutil.connectChironDB as ccdb\n",
      "\n",
      "def addEnviron(date):\n",
      "    \"\"\"PURPOSE:\n",
      "    To add environmental information to the CHIRON DB\n",
      "    \"\"\"\n",
      "    #filenames for the four environmental logs:\n",
      "    instfn = '/tous/mir7/logs/temps/insttemp/insttemp'+date+'.log'\n",
      "    htfn =  '/tous/mir7/logs/temps/heater/heater'+date+'.log'\n",
      "    ctfn = '/tous/mir7/logs/temps/chitemp/chitemp'+date+'.log'\n",
      "    dtfn = '/tous/mir7/logs/temps/dettemp/dettemp'+date+'.log'\n",
      "\n",
      "    #restore the insttemp log:\n",
      "    df_in = pd.read_table(instfn, sep='\\s', engine='python', header=None)\n",
      "    df_in.columns = ['sampleTime', 'jnk1', 'gratingTemp', 'jnk2', 'tableCenterTemp', 'jnk3', 'enclosureTemp', 'jnk4',\n",
      "                  'iodineCellTemp', 'jnk5', 'enclosureSetpoint', 'jnk6', 'iodineCellSetpoint', 'jnk7',\n",
      "                  'enclosureTemp2', 'jnk8', 'tableTempLow', 'jnk9', 'structureTemp', 'jnk10', 'instrumentSetpoint',\n",
      "                  'jnk11', 'instrumentTemp', 'jnk12', 'coudeTemp']\n",
      "    df = df_in[['sampleTime', 'gratingTemp', 'tableCenterTemp', 'enclosureTemp',\n",
      "                  'iodineCellTemp', 'enclosureSetpoint', 'iodineCellSetpoint',\n",
      "                  'enclosureTemp2', 'tableTempLow', 'structureTemp', 'instrumentSetpoint',\n",
      "                  'instrumentTemp', 'coudeTemp']]\n",
      "\n",
      "    #restore and merge the heater log:\n",
      "    ht_in = pd.read_table(htfn, sep='\\s', engine='python', header=None)\n",
      "    ht_in.columns = ['sampleTime', 'jnk1', 'heaterSetpoint']\n",
      "    ht = ht_in[['sampleTime', 'heaterSetpoint']]\n",
      "    df = df.merge(ht, on='sampleTime', how='left')\n",
      "\n",
      "    #restore and merge the chitemp log:\n",
      "    ct_in = pd.read_table(ctfn, sep='\\s', engine='python', header=None)\n",
      "    ct_in.columns = ['sampleTime', 'jnk', 'barometer', 'jnk', 'echellePressure']\n",
      "    ct = ct_in[['sampleTime', 'barometer', 'echellePressure']]\n",
      "    df = df.merge(ct, on='sampleTime')\n",
      "\n",
      "    #restore and merge the dettemp log:\n",
      "    dt_in = pd.read_table(dtfn, sep='\\s', engine='python', header=None)\n",
      "    dt_in.columns = ['sampleTime', 'jnk1', 'ccdTemp', 'jnk2', 'neckTemp', 'jnk3', 'ccdSetpoint']\n",
      "    dt = dt_in[['sampleTime', 'ccdTemp', 'neckTemp', 'ccdSetpoint']]\n",
      "    df = df.merge(dt, on='sampleTime')\n",
      "\n",
      "    #add an empty column for the timestamp of when the \n",
      "    #entry was added to the DB:\n",
      "    df['dateAdded'] = None\n",
      "    #connect to the CHIRON DB:\n",
      "    engine = ccdb.connectChironDB()\n",
      "    \n",
      "    #see if any entries already exist:\n",
      "    cmd = \"SELECT sampleTime, environ_id FROM environ WHERE sampleTime IN ('\"+\"','\".join(df.sampleTime.values)+\"');\"\n",
      "    alreadyExists = pd.read_sql_query(cmd, engine)\n",
      "    df['sampleTime'] = pd.to_datetime(df['sampleTime'])\n",
      "    alreadyExists['sampleTime'] = pd.to_datetime(alreadyExists['sampleTime'])\n",
      "    \n",
      "    #now merge to create environ_id column. rows with NaNs for \n",
      "    #their environ_id will be unique, and should be added to the DB:\n",
      "    df = df.merge(alreadyExists, how='outer', on='sampleTime')\n",
      "    \n",
      "    #keep only the new entries:\n",
      "    df = df[pd.isnull(df['environ_id'])]\n",
      "    \n",
      "    #now convert the sampleTimes back to strings\n",
      "    #to write the the DB:\n",
      "    df['environ_id'] = None\n",
      "    \n",
      "    #now make sure all nan values are turned into NaNs:\n",
      "    df[pd.isnull(df)] = np.nan    \n",
      "    \n",
      "    #now append the data to the environ table:\n",
      "    print('{0}: Added {1} rows to the DB.'.format(date, len(df)))\n",
      "    if len(df) > 0:\n",
      "        df.to_sql('environ', engine, if_exists='append', index=False)"
     ],
     "language": "python",
     "metadata": {},
     "outputs": [],
     "prompt_number": 294
    },
    {
     "cell_type": "heading",
     "level": 3,
     "metadata": {},
     "source": [
      "Driving the Addition of Data to the `environ` Table in `chirondb`"
     ]
    },
    {
     "cell_type": "markdown",
     "metadata": {},
     "source": [
      "Now that we have a functional routine for adding a given date, it's time to write a driver that will go through *all* dates that we have logs for."
     ]
    },
    {
     "cell_type": "code",
     "collapsed": false,
     "input": [
      "import datetime"
     ],
     "language": "python",
     "metadata": {},
     "outputs": [],
     "prompt_number": 281
    },
    {
     "cell_type": "code",
     "collapsed": false,
     "input": [
      "help(datetime.datetime.date)"
     ],
     "language": "python",
     "metadata": {},
     "outputs": [
      {
       "output_type": "stream",
       "stream": "stdout",
       "text": [
        "Help on method_descriptor:\n",
        "\n",
        "date(...)\n",
        "    Return date object with same year, month and day.\n",
        "\n"
       ]
      }
     ],
     "prompt_number": 282
    },
    {
     "cell_type": "code",
     "collapsed": false,
     "input": [
      "datetime.datetime.date(2014, 1, 1)"
     ],
     "language": "python",
     "metadata": {},
     "outputs": [
      {
       "ename": "TypeError",
       "evalue": "descriptor 'date' requires a 'datetime.datetime' object but received a 'int'",
       "output_type": "pyerr",
       "traceback": [
        "\u001b[0;31m---------------------------------------------------------------------------\u001b[0m\n\u001b[0;31mTypeError\u001b[0m                                 Traceback (most recent call last)",
        "\u001b[0;32m<ipython-input-283-03fd192f50fc>\u001b[0m in \u001b[0;36m<module>\u001b[0;34m()\u001b[0m\n\u001b[0;32m----> 1\u001b[0;31m \u001b[0mdatetime\u001b[0m\u001b[0;34m.\u001b[0m\u001b[0mdatetime\u001b[0m\u001b[0;34m.\u001b[0m\u001b[0mdate\u001b[0m\u001b[0;34m(\u001b[0m\u001b[0;36m2014\u001b[0m\u001b[0;34m,\u001b[0m \u001b[0;36m1\u001b[0m\u001b[0;34m,\u001b[0m \u001b[0;36m1\u001b[0m\u001b[0;34m)\u001b[0m\u001b[0;34m\u001b[0m\u001b[0m\n\u001b[0m",
        "\u001b[0;31mTypeError\u001b[0m: descriptor 'date' requires a 'datetime.datetime' object but received a 'int'"
       ]
      }
     ],
     "prompt_number": 283
    },
    {
     "cell_type": "code",
     "collapsed": false,
     "input": [
      "from datetime import date"
     ],
     "language": "python",
     "metadata": {},
     "outputs": [],
     "prompt_number": 284
    },
    {
     "cell_type": "code",
     "collapsed": false,
     "input": [
      "bdate = date(2014, 1, 1)"
     ],
     "language": "python",
     "metadata": {},
     "outputs": [],
     "prompt_number": 298
    },
    {
     "cell_type": "code",
     "collapsed": false,
     "input": [
      "bdate"
     ],
     "language": "python",
     "metadata": {},
     "outputs": [
      {
       "metadata": {},
       "output_type": "pyout",
       "prompt_number": 299,
       "text": [
        "datetime.date(2014, 1, 1)"
       ]
      }
     ],
     "prompt_number": 299
    },
    {
     "cell_type": "code",
     "collapsed": false,
     "input": [
      "edate = date(2015, 7, 15)"
     ],
     "language": "python",
     "metadata": {},
     "outputs": [],
     "prompt_number": 305
    },
    {
     "cell_type": "code",
     "collapsed": false,
     "input": [
      "edate"
     ],
     "language": "python",
     "metadata": {},
     "outputs": [
      {
       "metadata": {},
       "output_type": "pyout",
       "prompt_number": 306,
       "text": [
        "datetime.date(2015, 7, 15)"
       ]
      }
     ],
     "prompt_number": 306
    },
    {
     "cell_type": "code",
     "collapsed": false,
     "input": [
      "print edate < bdate"
     ],
     "language": "python",
     "metadata": {},
     "outputs": [
      {
       "output_type": "stream",
       "stream": "stdout",
       "text": [
        "False\n"
       ]
      }
     ],
     "prompt_number": 307
    },
    {
     "cell_type": "code",
     "collapsed": false,
     "input": [
      "t = edate.timetuple()"
     ],
     "language": "python",
     "metadata": {},
     "outputs": [],
     "prompt_number": 308
    },
    {
     "cell_type": "code",
     "collapsed": false,
     "input": [
      "for i in t:\n",
      "    print i"
     ],
     "language": "python",
     "metadata": {},
     "outputs": [
      {
       "output_type": "stream",
       "stream": "stdout",
       "text": [
        "2015\n",
        "7\n",
        "15\n",
        "0\n",
        "0\n",
        "0\n",
        "2\n",
        "196\n",
        "-1\n"
       ]
      }
     ],
     "prompt_number": 309
    },
    {
     "cell_type": "code",
     "collapsed": false,
     "input": [
      "edate.isoformat()"
     ],
     "language": "python",
     "metadata": {},
     "outputs": [
      {
       "metadata": {},
       "output_type": "pyout",
       "prompt_number": 310,
       "text": [
        "'2015-07-15'"
       ]
      }
     ],
     "prompt_number": 310
    },
    {
     "cell_type": "code",
     "collapsed": false,
     "input": [
      "print(edate + datetime.timedelta(days=31))"
     ],
     "language": "python",
     "metadata": {},
     "outputs": [
      {
       "output_type": "stream",
       "stream": "stdout",
       "text": [
        "2015-08-15\n"
       ]
      }
     ],
     "prompt_number": 313
    },
    {
     "cell_type": "code",
     "collapsed": false,
     "input": [
      "ndates = edate - bdate"
     ],
     "language": "python",
     "metadata": {},
     "outputs": [],
     "prompt_number": 314
    },
    {
     "cell_type": "code",
     "collapsed": false,
     "input": [
      "print ndates"
     ],
     "language": "python",
     "metadata": {},
     "outputs": [
      {
       "output_type": "stream",
       "stream": "stdout",
       "text": [
        "560 days, 0:00:00\n"
       ]
      }
     ],
     "prompt_number": 318
    },
    {
     "cell_type": "code",
     "collapsed": false,
     "input": [
      "def driveDates(date_beg, date_end, logtodb='environ'):\n",
      "    \n",
      "    if date_beg < 9e5:\n",
      "        date_beg += 2e6\n",
      "        date_begs = str(date_beg)\n",
      "        dtBeg = date(date_begs[0:4], date_begs[4:6], date_begs[6:8])\n",
      "    \n",
      "    if date_end < 9e5:\n",
      "        date_end += 2e6\n",
      "        date_ends = str(date_eng)\n",
      "        dtEnd = date(date_ends[0:4], date_ends[4:6], date_ends[6:8])\n",
      "    \n",
      "    ndates = dtEnd - dtBeg\n",
      "        \n",
      "    for i in range(ndates.days):\n",
      "        \n",
      "        #create a datetime object for the current iteration:\n",
      "        dtCur = dtBeg + datetime.timedelta(days=i)\n",
      "        print('Now on date: {}'.format(dtCur))\n",
      "        \n",
      "        if logtodb == 'environ':\n",
      "            #change the datetime object to a string in yymmdd format:\n",
      "            dtymd = str(dtCur).replace('-', '')[2::]\n",
      "            \n",
      "            #now do a quick file test to make sure a log exists\n",
      "            #before trying to add it to the DB:\n",
      "            logpath = '/tous/mir7/logs/temps/insttemp/'\n",
      "            filenm = 'insttemp'+dtymd+'.log'\n",
      "            if os.path.isfile(logpath+filenm):\n",
      "                addEnviron(dtymd)\n",
      "            \n",
      "            \n",
      "\n",
      "            \n",
      "            "
     ],
     "language": "python",
     "metadata": {},
     "outputs": []
    },
    {
     "cell_type": "code",
     "collapsed": false,
     "input": [
      "print str(edate).replace('-', '')[2::]"
     ],
     "language": "python",
     "metadata": {},
     "outputs": [
      {
       "output_type": "stream",
       "stream": "stdout",
       "text": [
        "150715\n"
       ]
      }
     ],
     "prompt_number": 341
    },
    {
     "cell_type": "code",
     "collapsed": false,
     "input": [
      "import os.path"
     ],
     "language": "python",
     "metadata": {},
     "outputs": [],
     "prompt_number": 342
    },
    {
     "cell_type": "code",
     "collapsed": false,
     "input": [
      "dtymd = '150110'\n",
      "logpath = '/tous/mir7/logs/temps/insttemp/'\n",
      "filenm = 'insttemp'+dtymd+'.log'\n",
      "print(logpath+filenm)\n",
      "os.path.isfile(logpath+filenm)\n"
     ],
     "language": "python",
     "metadata": {},
     "outputs": [
      {
       "output_type": "stream",
       "stream": "stdout",
       "text": [
        "/tous/mir7/logs/temps/insttemp/insttemp150110.log\n"
       ]
      },
      {
       "metadata": {},
       "output_type": "pyout",
       "prompt_number": 346,
       "text": [
        "True"
       ]
      }
     ],
     "prompt_number": 346
    },
    {
     "cell_type": "code",
     "collapsed": false,
     "input": [
      "from addEnviron import addEnviron"
     ],
     "language": "python",
     "metadata": {},
     "outputs": [],
     "prompt_number": 359
    },
    {
     "cell_type": "code",
     "collapsed": false,
     "input": [],
     "language": "python",
     "metadata": {},
     "outputs": []
    },
    {
     "cell_type": "code",
     "collapsed": false,
     "input": [
      "help(addEnviron)"
     ],
     "language": "python",
     "metadata": {},
     "outputs": [
      {
       "output_type": "stream",
       "stream": "stdout",
       "text": [
        "Help on function addEnviron in module addEnviron:\n",
        "\n",
        "addEnviron(date)\n",
        "    PURPOSE:\n",
        "    To add environmental information to the CHIRON DB\n",
        "\n"
       ]
      }
     ],
     "prompt_number": 360
    },
    {
     "cell_type": "code",
     "collapsed": false,
     "input": [
      "int('01')"
     ],
     "language": "python",
     "metadata": {},
     "outputs": [
      {
       "metadata": {},
       "output_type": "pyout",
       "prompt_number": 363,
       "text": [
        "1"
       ]
      }
     ],
     "prompt_number": 363
    },
    {
     "cell_type": "code",
     "collapsed": false,
     "input": [],
     "language": "python",
     "metadata": {},
     "outputs": []
    }
   ],
   "metadata": {}
  }
 ]
}