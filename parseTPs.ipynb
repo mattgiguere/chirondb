{
 "metadata": {
  "name": "",
  "signature": "sha256:16be5cf6a54204d74f51d426fbd627c961d241e951dafe38a64112fa4f944a3c"
 },
 "nbformat": 3,
 "nbformat_minor": 0,
 "worksheets": [
  {
   "cells": [
    {
     "cell_type": "heading",
     "level": 1,
     "metadata": {},
     "source": [
      "parseTPs"
     ]
    },
    {
     "cell_type": "markdown",
     "metadata": {},
     "source": [
      "A notebook to parse the environment info from the daily logs and add that information to the DB."
     ]
    },
    {
     "cell_type": "code",
     "collapsed": false,
     "input": [
      "import pandas as pd\n",
      "import pyutil.connectChironDB as ccdb\n",
      "import numpy as np"
     ],
     "language": "python",
     "metadata": {},
     "outputs": [],
     "prompt_number": 154
    },
    {
     "cell_type": "code",
     "collapsed": false,
     "input": [
      "date = '150110'\n",
      "instfn = '/tous/mir7/logs/temps/insttemp/insttemp'+date+'.log'\n",
      "htfn =  '/tous/mir7/logs/temps/heater/heater'+date+'.log'\n",
      "ctfn = '/tous/mir7/logs/temps/chitemp/chitemp'+date+'.log'\n",
      "dtfn = '/tous/mir7/logs/temps/dettemp/dettemp'+date+'.log'"
     ],
     "language": "python",
     "metadata": {},
     "outputs": [],
     "prompt_number": 158
    },
    {
     "cell_type": "heading",
     "level": 4,
     "metadata": {},
     "source": [
      "1. Restore the `insttemp` log into a DataFrame"
     ]
    },
    {
     "cell_type": "code",
     "collapsed": false,
     "input": [
      "df_in = pd.read_table(instfn, sep='\\s', engine='python', header=None)"
     ],
     "language": "python",
     "metadata": {},
     "outputs": [],
     "prompt_number": 159
    },
    {
     "cell_type": "code",
     "collapsed": false,
     "input": [
      "df_in.columns"
     ],
     "language": "python",
     "metadata": {},
     "outputs": [
      {
       "metadata": {},
       "output_type": "pyout",
       "prompt_number": 160,
       "text": [
        "Int64Index([0, 1, 2, 3, 4, 5, 6, 7, 8, 9, 10, 11, 12, 13, 14, 15, 16, 17, 18, 19, 20, 21, 22, 23, 24], dtype='int64')"
       ]
      }
     ],
     "prompt_number": 160
    },
    {
     "cell_type": "code",
     "collapsed": false,
     "input": [
      "df_in.columns = ['sampleTime', 'jnk1', 'gratingTemp', 'jnk2', 'tableCenterTemp', 'jnk3', 'enclosureTemp', 'jnk4',\n",
      "              'iodineCellTemp', 'jnk5', 'enclosureSetpoint', 'jnk6', 'iodineCellSetpoint', 'jnk7',\n",
      "              'enclosureTemp2', 'jnk8', 'tableTempLow', 'jnk9', 'structureTemp', 'jnk10', 'instrumentSetpoint',\n",
      "              'jnk11', 'instrumentTemp', 'jnk12', 'coudeTemp']"
     ],
     "language": "python",
     "metadata": {},
     "outputs": [],
     "prompt_number": 161
    },
    {
     "cell_type": "code",
     "collapsed": false,
     "input": [
      "df = df_in[['sampleTime', 'gratingTemp', 'tableCenterTemp', 'enclosureTemp',\n",
      "              'iodineCellTemp', 'enclosureSetpoint', 'iodineCellSetpoint',\n",
      "              'enclosureTemp2', 'tableTempLow', 'structureTemp', 'instrumentSetpoint',\n",
      "              'instrumentTemp', 'coudeTemp']]"
     ],
     "language": "python",
     "metadata": {},
     "outputs": [],
     "prompt_number": 162
    },
    {
     "cell_type": "heading",
     "level": 4,
     "metadata": {},
     "source": [
      "2. Restore the `heater` log into a DataFrame"
     ]
    },
    {
     "cell_type": "code",
     "collapsed": false,
     "input": [
      "ht_in = pd.read_table(htfn, sep='\\s', engine='python', header=None)"
     ],
     "language": "python",
     "metadata": {},
     "outputs": [],
     "prompt_number": 163
    },
    {
     "cell_type": "code",
     "collapsed": false,
     "input": [
      "ht_in.columns = ['sampleTime', 'jnk1', 'heaterSetpoint']"
     ],
     "language": "python",
     "metadata": {},
     "outputs": [],
     "prompt_number": 164
    },
    {
     "cell_type": "code",
     "collapsed": false,
     "input": [
      "ht = ht_in[['sampleTime', 'heaterSetpoint']]"
     ],
     "language": "python",
     "metadata": {},
     "outputs": [],
     "prompt_number": 165
    },
    {
     "cell_type": "heading",
     "level": 4,
     "metadata": {},
     "source": [
      "Now merge the `heater` and `instttemp` DataFrames"
     ]
    },
    {
     "cell_type": "code",
     "collapsed": false,
     "input": [
      "df = df.merge(ht, on='sampleTime', how='left')"
     ],
     "language": "python",
     "metadata": {},
     "outputs": [],
     "prompt_number": 166
    },
    {
     "cell_type": "heading",
     "level": 4,
     "metadata": {},
     "source": [
      "3. Restore the `chitemp` log into a DataFrame"
     ]
    },
    {
     "cell_type": "code",
     "collapsed": false,
     "input": [
      "ct_in = pd.read_table(ctfn, sep='\\s', engine='python', header=None)"
     ],
     "language": "python",
     "metadata": {},
     "outputs": [],
     "prompt_number": 167
    },
    {
     "cell_type": "code",
     "collapsed": false,
     "input": [
      "ct_in.columns = ['sampleTime', 'jnk', 'barometer', 'jnk', 'echellePressure']"
     ],
     "language": "python",
     "metadata": {},
     "outputs": [],
     "prompt_number": 168
    },
    {
     "cell_type": "code",
     "collapsed": false,
     "input": [
      "ct = ct_in[['sampleTime', 'barometer', 'echellePressure']]"
     ],
     "language": "python",
     "metadata": {},
     "outputs": [],
     "prompt_number": 169
    },
    {
     "cell_type": "code",
     "collapsed": false,
     "input": [
      "df = df.merge(ct, on='sampleTime')"
     ],
     "language": "python",
     "metadata": {},
     "outputs": [],
     "prompt_number": 170
    },
    {
     "cell_type": "heading",
     "level": 4,
     "metadata": {},
     "source": [
      "4. Restore `dettemp` into a DataFrame"
     ]
    },
    {
     "cell_type": "code",
     "collapsed": false,
     "input": [
      "dt_in = pd.read_table(dtfn, sep='\\s', engine='python', header=None)"
     ],
     "language": "python",
     "metadata": {},
     "outputs": [],
     "prompt_number": 171
    },
    {
     "cell_type": "code",
     "collapsed": false,
     "input": [
      "dt_in.columns = ['sampleTime', 'jnk1', 'ccdTemp', 'jnk2', 'neckTemp', 'jnk3', 'ccdSetpoint']"
     ],
     "language": "python",
     "metadata": {},
     "outputs": [],
     "prompt_number": 172
    },
    {
     "cell_type": "code",
     "collapsed": false,
     "input": [
      "dt = dt_in[['sampleTime', 'ccdTemp', 'neckTemp', 'ccdSetpoint']]"
     ],
     "language": "python",
     "metadata": {},
     "outputs": [],
     "prompt_number": 173
    },
    {
     "cell_type": "code",
     "collapsed": false,
     "input": [
      "df = df.merge(dt, on='sampleTime')"
     ],
     "language": "python",
     "metadata": {},
     "outputs": [],
     "prompt_number": 174
    },
    {
     "cell_type": "code",
     "collapsed": false,
     "input": [
      "df.columns"
     ],
     "language": "python",
     "metadata": {},
     "outputs": [
      {
       "metadata": {},
       "output_type": "pyout",
       "prompt_number": 175,
       "text": [
        "Index([u'sampleTime', u'gratingTemp', u'tableCenterTemp', u'enclosureTemp', u'iodineCellTemp', u'enclosureSetpoint', u'iodineCellSetpoint', u'enclosureTemp2', u'tableTempLow', u'structureTemp', u'instrumentSetpoint', u'instrumentTemp', u'coudeTemp', u'heaterSetpoint', u'barometer', u'echellePressure', u'ccdTemp', u'neckTemp', u'ccdSetpoint'], dtype='object')"
       ]
      }
     ],
     "prompt_number": 175
    },
    {
     "cell_type": "code",
     "collapsed": false,
     "input": [
      "df['dateAdded'] = None"
     ],
     "language": "python",
     "metadata": {},
     "outputs": [],
     "prompt_number": 176
    },
    {
     "cell_type": "code",
     "collapsed": false,
     "input": [
      "engine = ccdb.connectChironDB()"
     ],
     "language": "python",
     "metadata": {},
     "outputs": [],
     "prompt_number": 177
    },
    {
     "cell_type": "code",
     "collapsed": false,
     "input": [
      "df.to_sql('environ', engine, if_exists='append', index=False)"
     ],
     "language": "python",
     "metadata": {},
     "outputs": [],
     "prompt_number": 178
    },
    {
     "cell_type": "code",
     "collapsed": false,
     "input": [
      "#help(df.to_sql)"
     ],
     "language": "python",
     "metadata": {},
     "outputs": [],
     "prompt_number": 80
    },
    {
     "cell_type": "heading",
     "level": 3,
     "metadata": {},
     "source": [
      "Query DB to check for duplicates"
     ]
    },
    {
     "cell_type": "markdown",
     "metadata": {},
     "source": [
      "We don't want duplicate entries in the DB, so we should query every time to make sure we're not adding redundant information. The `sampleTime` column is actually a `UNIQUE INDEX` anyways, meaning our code will crash if we try to add a duplicate."
     ]
    },
    {
     "cell_type": "code",
     "collapsed": false,
     "input": [
      "cmd = \"SELECT sampleTime, environ_id FROM environ WHERE sampleTime IN ('\"+\"','\".join(df.sampleTime.values)+\"');\""
     ],
     "language": "python",
     "metadata": {},
     "outputs": [],
     "prompt_number": 179
    },
    {
     "cell_type": "code",
     "collapsed": false,
     "input": [
      "alreadyExists = pd.read_sql_query(cmd, engine)"
     ],
     "language": "python",
     "metadata": {},
     "outputs": [],
     "prompt_number": 180
    },
    {
     "cell_type": "code",
     "collapsed": false,
     "input": [
      "df['sampleTime'] = pd.to_datetime(df['sampleTime'])\n",
      "alreadyExists['sampleTime'] = pd.to_datetime(alreadyExists['sampleTime'])"
     ],
     "language": "python",
     "metadata": {},
     "outputs": [],
     "prompt_number": 181
    },
    {
     "cell_type": "code",
     "collapsed": false,
     "input": [
      "alreadyExists"
     ],
     "language": "python",
     "metadata": {},
     "outputs": [
      {
       "html": [
        "<div style=\"max-height:1000px;max-width:1500px;overflow:auto;\">\n",
        "<table border=\"1\" class=\"dataframe\">\n",
        "  <thead>\n",
        "    <tr style=\"text-align: right;\">\n",
        "      <th></th>\n",
        "      <th>sampleTime</th>\n",
        "      <th>environ_id</th>\n",
        "    </tr>\n",
        "  </thead>\n",
        "  <tbody>\n",
        "  </tbody>\n",
        "</table>\n",
        "</div>"
       ],
       "metadata": {},
       "output_type": "pyout",
       "prompt_number": 182,
       "text": [
        "Empty DataFrame\n",
        "Columns: [sampleTime, environ_id]\n",
        "Index: []"
       ]
      }
     ],
     "prompt_number": 182
    },
    {
     "cell_type": "code",
     "collapsed": false,
     "input": [
      "print(len(df))\n",
      "print(len(df.merge(alreadyExists, how='outer', on='sampleTime')))\n",
      "df = df.merge(alreadyExists, how='outer', on='sampleTime')"
     ],
     "language": "python",
     "metadata": {},
     "outputs": [
      {
       "output_type": "stream",
       "stream": "stdout",
       "text": [
        "937\n",
        "937\n"
       ]
      }
     ],
     "prompt_number": 183
    },
    {
     "cell_type": "code",
     "collapsed": false,
     "input": [
      "newSamps = df[pd.isnull(df['environ_id'])]"
     ],
     "language": "python",
     "metadata": {},
     "outputs": [],
     "prompt_number": 218
    },
    {
     "cell_type": "code",
     "collapsed": false,
     "input": [
      "len(newSamps)"
     ],
     "language": "python",
     "metadata": {},
     "outputs": [
      {
       "metadata": {},
       "output_type": "pyout",
       "prompt_number": 219,
       "text": [
        "937"
       ]
      }
     ],
     "prompt_number": 219
    },
    {
     "cell_type": "markdown",
     "metadata": {},
     "source": [
      "MySQL doesn't like the pandas datetime format, so we need to convert that column to strings:"
     ]
    },
    {
     "cell_type": "code",
     "collapsed": false,
     "input": [
      "newSamps['sampleTime'] = [str(i)[0:19] for i in newSamps['sampleTime'].values]"
     ],
     "language": "python",
     "metadata": {},
     "outputs": [],
     "prompt_number": 241
    },
    {
     "cell_type": "heading",
     "level": 3,
     "metadata": {},
     "source": [
      "Wrapping it all together"
     ]
    },
    {
     "cell_type": "code",
     "collapsed": false,
     "input": [
      "import pandas as pd\n",
      "import pyutil.connectChironDB as ccdb\n",
      "\n",
      "def addEnviron(date):\n",
      "    \"\"\"PURPOSE:\n",
      "    To add environmental information to the CHIRON DB\n",
      "    \"\"\"\n",
      "    #filenames for the four environmental logs:\n",
      "    instfn = '/tous/mir7/logs/temps/insttemp/insttemp'+date+'.log'\n",
      "    htfn =  '/tous/mir7/logs/temps/heater/heater'+date+'.log'\n",
      "    ctfn = '/tous/mir7/logs/temps/chitemp/chitemp'+date+'.log'\n",
      "    dtfn = '/tous/mir7/logs/temps/dettemp/dettemp'+date+'.log'\n",
      "\n",
      "    #restore the insttemp log:\n",
      "    df_in = pd.read_table(instfn, sep='\\s', engine='python', header=None)\n",
      "    df_in.columns = ['sampleTime', 'jnk1', 'gratingTemp', 'jnk2', 'tableCenterTemp', 'jnk3', 'enclosureTemp', 'jnk4',\n",
      "                  'iodineCellTemp', 'jnk5', 'enclosureSetpoint', 'jnk6', 'iodineCellSetpoint', 'jnk7',\n",
      "                  'enclosureTemp2', 'jnk8', 'tableTempLow', 'jnk9', 'structureTemp', 'jnk10', 'instrumentSetpoint',\n",
      "                  'jnk11', 'instrumentTemp', 'jnk12', 'coudeTemp']\n",
      "    df = df_in[['sampleTime', 'gratingTemp', 'tableCenterTemp', 'enclosureTemp',\n",
      "                  'iodineCellTemp', 'enclosureSetpoint', 'iodineCellSetpoint',\n",
      "                  'enclosureTemp2', 'tableTempLow', 'structureTemp', 'instrumentSetpoint',\n",
      "                  'instrumentTemp', 'coudeTemp']]\n",
      "\n",
      "    #restore and merge the heater log:\n",
      "    ht_in = pd.read_table(htfn, sep='\\s', engine='python', header=None)\n",
      "    ht_in.columns = ['sampleTime', 'jnk1', 'heaterSetpoint']\n",
      "    ht = ht_in[['sampleTime', 'heaterSetpoint']]\n",
      "    df = df.merge(ht, on='sampleTime', how='left')\n",
      "\n",
      "    #restore and merge the chitemp log:\n",
      "    ct_in = pd.read_table(ctfn, sep='\\s', engine='python', header=None)\n",
      "    ct_in.columns = ['sampleTime', 'jnk', 'barometer', 'jnk', 'echellePressure']\n",
      "    ct = ct_in[['sampleTime', 'barometer', 'echellePressure']]\n",
      "    df = df.merge(ct, on='sampleTime')\n",
      "\n",
      "    #restore and merge the dettemp log:\n",
      "    dt_in = pd.read_table(dtfn, sep='\\s', engine='python', header=None)\n",
      "    dt_in.columns = ['sampleTime', 'jnk1', 'ccdTemp', 'jnk2', 'neckTemp', 'jnk3', 'ccdSetpoint']\n",
      "    dt = dt_in[['sampleTime', 'ccdTemp', 'neckTemp', 'ccdSetpoint']]\n",
      "    df = df.merge(dt, on='sampleTime')\n",
      "\n",
      "    #add an empty column for the timestamp of when the \n",
      "    #entry was added to the DB:\n",
      "    df['dateAdded'] = None\n",
      "    #connect to the CHIRON DB:\n",
      "    engine = ccdb.connectChironDB()\n",
      "    \n",
      "    #see if any entries already exist:\n",
      "    cmd = \"SELECT sampleTime, environ_id FROM environ WHERE sampleTime IN ('\"+\"','\".join(df.sampleTime.values)+\"');\"\n",
      "    alreadyExists = pd.read_sql_query(cmd, engine)\n",
      "    df['sampleTime'] = pd.to_datetime(df['sampleTime'])\n",
      "    alreadyExists['sampleTime'] = pd.to_datetime(alreadyExists['sampleTime'])\n",
      "    \n",
      "    #now merge to create environ_id column. rows with NaNs for \n",
      "    #their environ_id will be unique, and should be added to the DB:\n",
      "    df = df.merge(alreadyExists, how='outer', on='sampleTime')\n",
      "    \n",
      "    #keep only the new entries:\n",
      "    df = df[pd.isnull(df['environ_id'])]\n",
      "    \n",
      "    #now convert the sampleTimes back to strings\n",
      "    #to write the the DB:\n",
      "    df['sampleTime'] = [str(i)[0:19] for i in df['sampleTime'].values]\n",
      "    \n",
      "    #now append the data to the environ table:\n",
      "    if len(df) > 0:\n",
      "        df.to_sql('environ', engine, if_exists='append', index=False)"
     ],
     "language": "python",
     "metadata": {},
     "outputs": [],
     "prompt_number": 220
    },
    {
     "cell_type": "heading",
     "level": 3,
     "metadata": {},
     "source": [
      "Driving the Addition of Data to the `environ` Table in `chirondb`"
     ]
    },
    {
     "cell_type": "markdown",
     "metadata": {},
     "source": [
      "Now that we have a functional "
     ]
    }
   ],
   "metadata": {}
  }
 ]
}