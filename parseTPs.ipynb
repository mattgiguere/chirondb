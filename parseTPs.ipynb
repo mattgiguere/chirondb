{
 "metadata": {
  "name": "",
  "signature": "sha256:30190f80bcfef913cb66b3e8df15d7e48e75665567834254ff49f7f42f34bbd4"
 },
 "nbformat": 3,
 "nbformat_minor": 0,
 "worksheets": [
  {
   "cells": [
    {
     "cell_type": "heading",
     "level": 1,
     "metadata": {},
     "source": [
      "parseTPs"
     ]
    },
    {
     "cell_type": "markdown",
     "metadata": {},
     "source": [
      "A notebook to parse the environment info from the daily logs and add that information to the DB."
     ]
    },
    {
     "cell_type": "code",
     "collapsed": false,
     "input": [
      "import pandas as pd\n",
      "import pyutil.connectChironDB as ccdb\n",
      "import numpy as np"
     ],
     "language": "python",
     "metadata": {},
     "outputs": [],
     "prompt_number": 101
    },
    {
     "cell_type": "code",
     "collapsed": false,
     "input": [
      "pd.__version__"
     ],
     "language": "python",
     "metadata": {},
     "outputs": [
      {
       "metadata": {},
       "output_type": "pyout",
       "prompt_number": 2,
       "text": [
        "'0.15.2'"
       ]
      }
     ],
     "prompt_number": 2
    },
    {
     "cell_type": "code",
     "collapsed": false,
     "input": [
      "%matplotlib inline\n",
      "%load_ext autoreload\n",
      "%autoreload 2"
     ],
     "language": "python",
     "metadata": {},
     "outputs": [
      {
       "output_type": "stream",
       "stream": "stdout",
       "text": [
        "The autoreload extension is already loaded. To reload it, use:\n",
        "  %reload_ext autoreload\n"
       ]
      }
     ],
     "prompt_number": 356
    },
    {
     "cell_type": "code",
     "collapsed": false,
     "input": [
      "date = '141210'\n",
      "instfn = '/tous/mir7/logs/temps/insttemp/insttemp'+date+'.log'\n",
      "htfn =  '/tous/mir7/logs/temps/heater/heater'+date+'.log'\n",
      "ctfn = '/tous/mir7/logs/temps/chitemp/chitemp'+date+'.log'\n",
      "dtfn = '/tous/mir7/logs/temps/dettemp/dettemp'+date+'.log'"
     ],
     "language": "python",
     "metadata": {},
     "outputs": [],
     "prompt_number": 364
    },
    {
     "cell_type": "heading",
     "level": 4,
     "metadata": {},
     "source": [
      "1. Restore the `insttemp` log into a DataFrame"
     ]
    },
    {
     "cell_type": "code",
     "collapsed": false,
     "input": [
      "df_in = pd.read_table(instfn, sep='\\s', engine='python', header=None)"
     ],
     "language": "python",
     "metadata": {},
     "outputs": [],
     "prompt_number": 365
    },
    {
     "cell_type": "code",
     "collapsed": false,
     "input": [
      "df_in.columns"
     ],
     "language": "python",
     "metadata": {},
     "outputs": [
      {
       "metadata": {},
       "output_type": "pyout",
       "prompt_number": 366,
       "text": [
        "Int64Index([0, 1, 2, 3, 4, 5, 6, 7, 8, 9, 10, 11, 12, 13, 14, 15, 16, 17, 18, 19, 20, 21, 22, 23, 24], dtype='int64')"
       ]
      }
     ],
     "prompt_number": 366
    },
    {
     "cell_type": "code",
     "collapsed": false,
     "input": [
      "df_in.columns = ['sampleTime', 'jnk1', 'gratingTemp', 'jnk2', 'tableCenterTemp', 'jnk3', 'enclosureTemp', 'jnk4',\n",
      "              'iodineCellTemp', 'jnk5', 'enclosureSetpoint', 'jnk6', 'iodineCellSetpoint', 'jnk7',\n",
      "              'enclosureTemp2', 'jnk8', 'tableTempLow', 'jnk9', 'structureTemp', 'jnk10', 'instrumentSetpoint',\n",
      "              'jnk11', 'instrumentTemp', 'jnk12', 'coudeTemp']"
     ],
     "language": "python",
     "metadata": {},
     "outputs": [],
     "prompt_number": 367
    },
    {
     "cell_type": "code",
     "collapsed": false,
     "input": [
      "df = df_in[['sampleTime', 'gratingTemp', 'tableCenterTemp', 'enclosureTemp',\n",
      "              'iodineCellTemp', 'enclosureSetpoint', 'iodineCellSetpoint',\n",
      "              'enclosureTemp2', 'tableTempLow', 'structureTemp', 'instrumentSetpoint',\n",
      "              'instrumentTemp', 'coudeTemp']]"
     ],
     "language": "python",
     "metadata": {},
     "outputs": [],
     "prompt_number": 368
    },
    {
     "cell_type": "heading",
     "level": 4,
     "metadata": {},
     "source": [
      "2. Restore the `heater` log into a DataFrame"
     ]
    },
    {
     "cell_type": "code",
     "collapsed": false,
     "input": [
      "ht_in = pd.read_table(htfn, sep='\\s', engine='python', header=None)"
     ],
     "language": "python",
     "metadata": {},
     "outputs": [],
     "prompt_number": 369
    },
    {
     "cell_type": "code",
     "collapsed": false,
     "input": [
      "ht_in.columns = ['sampleTime', 'jnk1', 'heaterSetpoint']"
     ],
     "language": "python",
     "metadata": {},
     "outputs": [],
     "prompt_number": 370
    },
    {
     "cell_type": "code",
     "collapsed": false,
     "input": [
      "ht = ht_in[['sampleTime', 'heaterSetpoint']]"
     ],
     "language": "python",
     "metadata": {},
     "outputs": [],
     "prompt_number": 371
    },
    {
     "cell_type": "heading",
     "level": 4,
     "metadata": {},
     "source": [
      "Now merge the `heater` and `instttemp` DataFrames"
     ]
    },
    {
     "cell_type": "code",
     "collapsed": false,
     "input": [
      "df = df.merge(ht, on='sampleTime', how='left')"
     ],
     "language": "python",
     "metadata": {},
     "outputs": [],
     "prompt_number": 372
    },
    {
     "cell_type": "heading",
     "level": 4,
     "metadata": {},
     "source": [
      "3. Restore the `chitemp` log into a DataFrame"
     ]
    },
    {
     "cell_type": "code",
     "collapsed": false,
     "input": [
      "ct_in = pd.read_table(ctfn, sep='\\s', engine='python', header=None)"
     ],
     "language": "python",
     "metadata": {},
     "outputs": [],
     "prompt_number": 373
    },
    {
     "cell_type": "code",
     "collapsed": false,
     "input": [
      "ct_in.columns = ['sampleTime', 'jnk', 'barometer', 'jnk', 'echellePressure']"
     ],
     "language": "python",
     "metadata": {},
     "outputs": [],
     "prompt_number": 374
    },
    {
     "cell_type": "code",
     "collapsed": false,
     "input": [
      "ct = ct_in[['sampleTime', 'barometer', 'echellePressure']]"
     ],
     "language": "python",
     "metadata": {},
     "outputs": [],
     "prompt_number": 375
    },
    {
     "cell_type": "code",
     "collapsed": false,
     "input": [
      "df = df.merge(ct, on='sampleTime')"
     ],
     "language": "python",
     "metadata": {},
     "outputs": [],
     "prompt_number": 376
    },
    {
     "cell_type": "heading",
     "level": 4,
     "metadata": {},
     "source": [
      "4. Restore `dettemp` into a DataFrame"
     ]
    },
    {
     "cell_type": "code",
     "collapsed": false,
     "input": [
      "dt_in = pd.read_table(dtfn, sep='\\s', engine='python', header=None)"
     ],
     "language": "python",
     "metadata": {},
     "outputs": [],
     "prompt_number": 377
    },
    {
     "cell_type": "code",
     "collapsed": false,
     "input": [
      "dt_in.columns = ['sampleTime', 'jnk1', 'ccdTemp', 'jnk2', 'neckTemp', 'jnk3', 'ccdSetpoint']"
     ],
     "language": "python",
     "metadata": {},
     "outputs": [],
     "prompt_number": 378
    },
    {
     "cell_type": "code",
     "collapsed": false,
     "input": [
      "dt = dt_in[['sampleTime', 'ccdTemp', 'neckTemp', 'ccdSetpoint']]"
     ],
     "language": "python",
     "metadata": {},
     "outputs": [],
     "prompt_number": 379
    },
    {
     "cell_type": "code",
     "collapsed": false,
     "input": [
      "df = df.merge(dt, on='sampleTime')"
     ],
     "language": "python",
     "metadata": {},
     "outputs": [],
     "prompt_number": 380
    },
    {
     "cell_type": "code",
     "collapsed": false,
     "input": [
      "df.columns"
     ],
     "language": "python",
     "metadata": {},
     "outputs": [
      {
       "metadata": {},
       "output_type": "pyout",
       "prompt_number": 381,
       "text": [
        "Index([u'sampleTime', u'gratingTemp', u'tableCenterTemp', u'enclosureTemp', u'iodineCellTemp', u'enclosureSetpoint', u'iodineCellSetpoint', u'enclosureTemp2', u'tableTempLow', u'structureTemp', u'instrumentSetpoint', u'instrumentTemp', u'coudeTemp', u'heaterSetpoint', u'barometer', u'echellePressure', u'ccdTemp', u'neckTemp', u'ccdSetpoint'], dtype='object')"
       ]
      }
     ],
     "prompt_number": 381
    },
    {
     "cell_type": "code",
     "collapsed": false,
     "input": [
      "df['dateAdded'] = None"
     ],
     "language": "python",
     "metadata": {},
     "outputs": [],
     "prompt_number": 382
    },
    {
     "cell_type": "code",
     "collapsed": false,
     "input": [
      "engine = ccdb.connectChironDB()"
     ],
     "language": "python",
     "metadata": {},
     "outputs": [],
     "prompt_number": 383
    },
    {
     "cell_type": "code",
     "collapsed": false,
     "input": [
      "#df.to_sql('environ', engine, if_exists='append', index=False)"
     ],
     "language": "python",
     "metadata": {},
     "outputs": [],
     "prompt_number": 23
    },
    {
     "cell_type": "code",
     "collapsed": false,
     "input": [
      "#help(df.to_sql)"
     ],
     "language": "python",
     "metadata": {},
     "outputs": [],
     "prompt_number": 80
    },
    {
     "cell_type": "heading",
     "level": 3,
     "metadata": {},
     "source": [
      "Query DB to check for duplicates"
     ]
    },
    {
     "cell_type": "markdown",
     "metadata": {},
     "source": [
      "We don't want duplicate entries in the DB, so we should query every time to make sure we're not adding redundant information. The `sampleTime` column is actually a `UNIQUE INDEX` anyways, meaning our code will crash if we try to add a duplicate."
     ]
    },
    {
     "cell_type": "code",
     "collapsed": false,
     "input": [
      "cmd = \"SELECT sampleTime, environ_id FROM environ WHERE sampleTime IN ('\"+\"','\".join(df.sampleTime.values)+\"');\""
     ],
     "language": "python",
     "metadata": {},
     "outputs": [],
     "prompt_number": 384
    },
    {
     "cell_type": "code",
     "collapsed": false,
     "input": [
      "alreadyExists = pd.read_sql_query(cmd, engine)"
     ],
     "language": "python",
     "metadata": {},
     "outputs": [],
     "prompt_number": 386
    },
    {
     "cell_type": "code",
     "collapsed": false,
     "input": [
      "#df[(df['sampleTime'] > '2015-01-28T02:00:19') & (df['sampleTime'] < '2015-01-28T02:02:19')]"
     ],
     "language": "python",
     "metadata": {},
     "outputs": [],
     "prompt_number": 394
    },
    {
     "cell_type": "code",
     "collapsed": false,
     "input": [
      "#alreadyExists[(alreadyExists['sampleTime'] > '2015-01-28T02:00:19') & (alreadyExists['sampleTime'] < '2015-01-28T02:02:19')]"
     ],
     "language": "python",
     "metadata": {},
     "outputs": [],
     "prompt_number": 393
    },
    {
     "cell_type": "code",
     "collapsed": false,
     "input": [
      "df['sampleTime'] = pd.to_datetime(df['sampleTime'])\n",
      "alreadyExists['sampleTime'] = pd.to_datetime(alreadyExists['sampleTime'])"
     ],
     "language": "python",
     "metadata": {},
     "outputs": [],
     "prompt_number": 388
    },
    {
     "cell_type": "code",
     "collapsed": false,
     "input": [
      "#df[(df['sampleTime'] > '2015-01-28T02:00:19') & (df['sampleTime'] < '2015-01-28T02:03:19')]"
     ],
     "language": "python",
     "metadata": {},
     "outputs": [],
     "prompt_number": 395
    },
    {
     "cell_type": "code",
     "collapsed": false,
     "input": [
      "#alreadyExists[(alreadyExists['sampleTime'] > '2015-01-28T02:00:19') & (alreadyExists['sampleTime'] < '2015-01-28T02:04:19')]"
     ],
     "language": "python",
     "metadata": {},
     "outputs": [],
     "prompt_number": 396
    },
    {
     "cell_type": "code",
     "collapsed": false,
     "input": [
      "len(alreadyExists)"
     ],
     "language": "python",
     "metadata": {},
     "outputs": [
      {
       "metadata": {},
       "output_type": "pyout",
       "prompt_number": 391,
       "text": [
        "4044"
       ]
      }
     ],
     "prompt_number": 391
    },
    {
     "cell_type": "code",
     "collapsed": false,
     "input": [
      "print(len(df))\n",
      "print(len(df.merge(alreadyExists, how='outer', on='sampleTime')))\n",
      "df = df.merge(alreadyExists, how='outer', on='sampleTime')"
     ],
     "language": "python",
     "metadata": {},
     "outputs": [
      {
       "output_type": "stream",
       "stream": "stdout",
       "text": [
        "4540\n",
        "4540\n"
       ]
      }
     ],
     "prompt_number": 392
    },
    {
     "cell_type": "code",
     "collapsed": false,
     "input": [
      "#df[(df['sampleTime'] > '2015-01-28T02:00:19') & (df['sampleTime'] < '2015-01-28T02:03:19')]"
     ],
     "language": "python",
     "metadata": {},
     "outputs": [],
     "prompt_number": 397
    },
    {
     "cell_type": "code",
     "collapsed": false,
     "input": [
      "newSamps = df[pd.isnull(df['environ_id'])]"
     ],
     "language": "python",
     "metadata": {},
     "outputs": [],
     "prompt_number": 398
    },
    {
     "cell_type": "code",
     "collapsed": false,
     "input": [
      "#should be len(df) - len(alreadyExists):\n",
      "len(newSamps)"
     ],
     "language": "python",
     "metadata": {},
     "outputs": [
      {
       "metadata": {},
       "output_type": "pyout",
       "prompt_number": 400,
       "text": [
        "496"
       ]
      }
     ],
     "prompt_number": 400
    },
    {
     "cell_type": "markdown",
     "metadata": {},
     "source": [
      "But are there duplicates?"
     ]
    },
    {
     "cell_type": "code",
     "collapsed": false,
     "input": [
      "newSamps[newSamps.duplicated()]"
     ],
     "language": "python",
     "metadata": {},
     "outputs": [
      {
       "html": [
        "<div style=\"max-height:1000px;max-width:1500px;overflow:auto;\">\n",
        "<table border=\"1\" class=\"dataframe\">\n",
        "  <thead>\n",
        "    <tr style=\"text-align: right;\">\n",
        "      <th></th>\n",
        "      <th>sampleTime</th>\n",
        "      <th>gratingTemp</th>\n",
        "      <th>tableCenterTemp</th>\n",
        "      <th>enclosureTemp</th>\n",
        "      <th>iodineCellTemp</th>\n",
        "      <th>enclosureSetpoint</th>\n",
        "      <th>iodineCellSetpoint</th>\n",
        "      <th>enclosureTemp2</th>\n",
        "      <th>tableTempLow</th>\n",
        "      <th>structureTemp</th>\n",
        "      <th>...</th>\n",
        "      <th>instrumentTemp</th>\n",
        "      <th>coudeTemp</th>\n",
        "      <th>heaterSetpoint</th>\n",
        "      <th>barometer</th>\n",
        "      <th>echellePressure</th>\n",
        "      <th>ccdTemp</th>\n",
        "      <th>neckTemp</th>\n",
        "      <th>ccdSetpoint</th>\n",
        "      <th>dateAdded</th>\n",
        "      <th>environ_id</th>\n",
        "    </tr>\n",
        "  </thead>\n",
        "  <tbody>\n",
        "    <tr>\n",
        "      <th>4330</th>\n",
        "      <td>2014-12-11 02:17:22</td>\n",
        "      <td> 23.409</td>\n",
        "      <td> 23.403</td>\n",
        "      <td> 22.6</td>\n",
        "      <td> 40</td>\n",
        "      <td> 22.5</td>\n",
        "      <td> 40</td>\n",
        "      <td> 23.17</td>\n",
        "      <td> 23.433</td>\n",
        "      <td> 23.163</td>\n",
        "      <td>...</td>\n",
        "      <td> 22.997</td>\n",
        "      <td> 18.772</td>\n",
        "      <td> 55</td>\n",
        "      <td> 783.02</td>\n",
        "      <td> 11.8</td>\n",
        "      <td>-127.99</td>\n",
        "      <td>-152.45</td>\n",
        "      <td>-128</td>\n",
        "      <td> NaN</td>\n",
        "      <td>NaN</td>\n",
        "    </tr>\n",
        "    <tr>\n",
        "      <th>4331</th>\n",
        "      <td>2014-12-11 02:17:22</td>\n",
        "      <td> 23.409</td>\n",
        "      <td> 23.403</td>\n",
        "      <td> 22.6</td>\n",
        "      <td> 40</td>\n",
        "      <td> 22.5</td>\n",
        "      <td> 40</td>\n",
        "      <td> 23.17</td>\n",
        "      <td> 23.433</td>\n",
        "      <td> 23.163</td>\n",
        "      <td>...</td>\n",
        "      <td> 22.997</td>\n",
        "      <td> 18.772</td>\n",
        "      <td> 55</td>\n",
        "      <td> 783.02</td>\n",
        "      <td> 11.8</td>\n",
        "      <td>-127.99</td>\n",
        "      <td>-152.45</td>\n",
        "      <td>-128</td>\n",
        "      <td> NaN</td>\n",
        "      <td>NaN</td>\n",
        "    </tr>\n",
        "    <tr>\n",
        "      <th>4332</th>\n",
        "      <td>2014-12-11 02:17:22</td>\n",
        "      <td> 23.409</td>\n",
        "      <td> 23.403</td>\n",
        "      <td> 22.6</td>\n",
        "      <td> 40</td>\n",
        "      <td> 22.5</td>\n",
        "      <td> 40</td>\n",
        "      <td> 23.17</td>\n",
        "      <td> 23.433</td>\n",
        "      <td> 23.163</td>\n",
        "      <td>...</td>\n",
        "      <td> 22.997</td>\n",
        "      <td> 18.772</td>\n",
        "      <td> 55</td>\n",
        "      <td> 783.02</td>\n",
        "      <td> 11.8</td>\n",
        "      <td>-127.99</td>\n",
        "      <td>-152.45</td>\n",
        "      <td>-128</td>\n",
        "      <td> NaN</td>\n",
        "      <td>NaN</td>\n",
        "    </tr>\n",
        "    <tr>\n",
        "      <th>4333</th>\n",
        "      <td>2014-12-11 02:17:22</td>\n",
        "      <td> 23.409</td>\n",
        "      <td> 23.403</td>\n",
        "      <td> 22.6</td>\n",
        "      <td> 40</td>\n",
        "      <td> 22.5</td>\n",
        "      <td> 40</td>\n",
        "      <td> 23.17</td>\n",
        "      <td> 23.433</td>\n",
        "      <td> 23.163</td>\n",
        "      <td>...</td>\n",
        "      <td> 22.997</td>\n",
        "      <td> 18.772</td>\n",
        "      <td> 55</td>\n",
        "      <td> 783.02</td>\n",
        "      <td> 11.8</td>\n",
        "      <td>-127.99</td>\n",
        "      <td>-152.45</td>\n",
        "      <td>-128</td>\n",
        "      <td> NaN</td>\n",
        "      <td>NaN</td>\n",
        "    </tr>\n",
        "    <tr>\n",
        "      <th>4334</th>\n",
        "      <td>2014-12-11 02:17:22</td>\n",
        "      <td> 23.409</td>\n",
        "      <td> 23.403</td>\n",
        "      <td> 22.6</td>\n",
        "      <td> 40</td>\n",
        "      <td> 22.5</td>\n",
        "      <td> 40</td>\n",
        "      <td> 23.17</td>\n",
        "      <td> 23.433</td>\n",
        "      <td> 23.163</td>\n",
        "      <td>...</td>\n",
        "      <td> 22.997</td>\n",
        "      <td> 18.772</td>\n",
        "      <td> 55</td>\n",
        "      <td> 783.02</td>\n",
        "      <td> 11.8</td>\n",
        "      <td>-127.99</td>\n",
        "      <td>-152.45</td>\n",
        "      <td>-128</td>\n",
        "      <td> NaN</td>\n",
        "      <td>NaN</td>\n",
        "    </tr>\n",
        "    <tr>\n",
        "      <th>4335</th>\n",
        "      <td>2014-12-11 02:17:22</td>\n",
        "      <td> 23.409</td>\n",
        "      <td> 23.403</td>\n",
        "      <td> 22.6</td>\n",
        "      <td> 40</td>\n",
        "      <td> 22.5</td>\n",
        "      <td> 40</td>\n",
        "      <td> 23.17</td>\n",
        "      <td> 23.433</td>\n",
        "      <td> 23.163</td>\n",
        "      <td>...</td>\n",
        "      <td> 22.997</td>\n",
        "      <td> 18.772</td>\n",
        "      <td> 55</td>\n",
        "      <td> 783.02</td>\n",
        "      <td> 11.8</td>\n",
        "      <td>-127.99</td>\n",
        "      <td>-152.45</td>\n",
        "      <td>-128</td>\n",
        "      <td> NaN</td>\n",
        "      <td>NaN</td>\n",
        "    </tr>\n",
        "    <tr>\n",
        "      <th>4336</th>\n",
        "      <td>2014-12-11 02:17:22</td>\n",
        "      <td> 23.409</td>\n",
        "      <td> 23.403</td>\n",
        "      <td> 22.6</td>\n",
        "      <td> 40</td>\n",
        "      <td> 22.5</td>\n",
        "      <td> 40</td>\n",
        "      <td> 23.17</td>\n",
        "      <td> 23.433</td>\n",
        "      <td> 23.163</td>\n",
        "      <td>...</td>\n",
        "      <td> 22.997</td>\n",
        "      <td> 18.772</td>\n",
        "      <td> 55</td>\n",
        "      <td> 783.02</td>\n",
        "      <td> 11.8</td>\n",
        "      <td>-127.99</td>\n",
        "      <td>-152.45</td>\n",
        "      <td>-128</td>\n",
        "      <td> NaN</td>\n",
        "      <td>NaN</td>\n",
        "    </tr>\n",
        "    <tr>\n",
        "      <th>4337</th>\n",
        "      <td>2014-12-11 02:17:22</td>\n",
        "      <td> 23.409</td>\n",
        "      <td> 23.403</td>\n",
        "      <td> 22.6</td>\n",
        "      <td> 40</td>\n",
        "      <td> 22.5</td>\n",
        "      <td> 40</td>\n",
        "      <td> 23.17</td>\n",
        "      <td> 23.433</td>\n",
        "      <td> 23.163</td>\n",
        "      <td>...</td>\n",
        "      <td> 22.997</td>\n",
        "      <td> 18.772</td>\n",
        "      <td> 55</td>\n",
        "      <td> 783.02</td>\n",
        "      <td> 11.8</td>\n",
        "      <td>-127.99</td>\n",
        "      <td>-152.45</td>\n",
        "      <td>-128</td>\n",
        "      <td> NaN</td>\n",
        "      <td>NaN</td>\n",
        "    </tr>\n",
        "    <tr>\n",
        "      <th>4338</th>\n",
        "      <td>2014-12-11 02:17:22</td>\n",
        "      <td> 23.409</td>\n",
        "      <td> 23.403</td>\n",
        "      <td> 22.6</td>\n",
        "      <td> 40</td>\n",
        "      <td> 22.5</td>\n",
        "      <td> 40</td>\n",
        "      <td> 23.17</td>\n",
        "      <td> 23.433</td>\n",
        "      <td> 23.163</td>\n",
        "      <td>...</td>\n",
        "      <td> 22.997</td>\n",
        "      <td> 18.772</td>\n",
        "      <td> 55</td>\n",
        "      <td> 783.02</td>\n",
        "      <td> 11.8</td>\n",
        "      <td>-127.99</td>\n",
        "      <td>-152.45</td>\n",
        "      <td>-128</td>\n",
        "      <td> NaN</td>\n",
        "      <td>NaN</td>\n",
        "    </tr>\n",
        "    <tr>\n",
        "      <th>4339</th>\n",
        "      <td>2014-12-11 02:17:22</td>\n",
        "      <td> 23.409</td>\n",
        "      <td> 23.403</td>\n",
        "      <td> 22.6</td>\n",
        "      <td> 40</td>\n",
        "      <td> 22.5</td>\n",
        "      <td> 40</td>\n",
        "      <td> 23.17</td>\n",
        "      <td> 23.433</td>\n",
        "      <td> 23.163</td>\n",
        "      <td>...</td>\n",
        "      <td> 22.997</td>\n",
        "      <td> 18.772</td>\n",
        "      <td> 55</td>\n",
        "      <td> 783.02</td>\n",
        "      <td> 11.8</td>\n",
        "      <td>-127.99</td>\n",
        "      <td>-152.45</td>\n",
        "      <td>-128</td>\n",
        "      <td> NaN</td>\n",
        "      <td>NaN</td>\n",
        "    </tr>\n",
        "    <tr>\n",
        "      <th>4340</th>\n",
        "      <td>2014-12-11 02:17:22</td>\n",
        "      <td> 23.409</td>\n",
        "      <td> 23.403</td>\n",
        "      <td> 22.6</td>\n",
        "      <td> 40</td>\n",
        "      <td> 22.5</td>\n",
        "      <td> 40</td>\n",
        "      <td> 23.17</td>\n",
        "      <td> 23.433</td>\n",
        "      <td> 23.163</td>\n",
        "      <td>...</td>\n",
        "      <td> 22.997</td>\n",
        "      <td> 18.772</td>\n",
        "      <td> 55</td>\n",
        "      <td> 783.02</td>\n",
        "      <td> 11.8</td>\n",
        "      <td>-127.99</td>\n",
        "      <td>-152.45</td>\n",
        "      <td>-128</td>\n",
        "      <td> NaN</td>\n",
        "      <td>NaN</td>\n",
        "    </tr>\n",
        "    <tr>\n",
        "      <th>4341</th>\n",
        "      <td>2014-12-11 02:17:22</td>\n",
        "      <td> 23.409</td>\n",
        "      <td> 23.403</td>\n",
        "      <td> 22.6</td>\n",
        "      <td> 40</td>\n",
        "      <td> 22.5</td>\n",
        "      <td> 40</td>\n",
        "      <td> 23.17</td>\n",
        "      <td> 23.433</td>\n",
        "      <td> 23.163</td>\n",
        "      <td>...</td>\n",
        "      <td> 22.997</td>\n",
        "      <td> 18.772</td>\n",
        "      <td> 55</td>\n",
        "      <td> 783.02</td>\n",
        "      <td> 11.8</td>\n",
        "      <td>-127.99</td>\n",
        "      <td>-152.45</td>\n",
        "      <td>-128</td>\n",
        "      <td> NaN</td>\n",
        "      <td>NaN</td>\n",
        "    </tr>\n",
        "    <tr>\n",
        "      <th>4342</th>\n",
        "      <td>2014-12-11 02:17:22</td>\n",
        "      <td> 23.409</td>\n",
        "      <td> 23.403</td>\n",
        "      <td> 22.6</td>\n",
        "      <td> 40</td>\n",
        "      <td> 22.5</td>\n",
        "      <td> 40</td>\n",
        "      <td> 23.17</td>\n",
        "      <td> 23.433</td>\n",
        "      <td> 23.163</td>\n",
        "      <td>...</td>\n",
        "      <td> 22.997</td>\n",
        "      <td> 18.772</td>\n",
        "      <td> 55</td>\n",
        "      <td> 783.02</td>\n",
        "      <td> 11.8</td>\n",
        "      <td>-127.99</td>\n",
        "      <td>-152.45</td>\n",
        "      <td>-128</td>\n",
        "      <td> NaN</td>\n",
        "      <td>NaN</td>\n",
        "    </tr>\n",
        "    <tr>\n",
        "      <th>4343</th>\n",
        "      <td>2014-12-11 02:17:22</td>\n",
        "      <td> 23.409</td>\n",
        "      <td> 23.403</td>\n",
        "      <td> 22.6</td>\n",
        "      <td> 40</td>\n",
        "      <td> 22.5</td>\n",
        "      <td> 40</td>\n",
        "      <td> 23.17</td>\n",
        "      <td> 23.433</td>\n",
        "      <td> 23.163</td>\n",
        "      <td>...</td>\n",
        "      <td> 22.997</td>\n",
        "      <td> 18.772</td>\n",
        "      <td> 55</td>\n",
        "      <td> 783.02</td>\n",
        "      <td> 11.8</td>\n",
        "      <td>-127.99</td>\n",
        "      <td>-152.45</td>\n",
        "      <td>-128</td>\n",
        "      <td> NaN</td>\n",
        "      <td>NaN</td>\n",
        "    </tr>\n",
        "    <tr>\n",
        "      <th>4344</th>\n",
        "      <td>2014-12-11 02:17:22</td>\n",
        "      <td> 23.409</td>\n",
        "      <td> 23.403</td>\n",
        "      <td> 22.6</td>\n",
        "      <td> 40</td>\n",
        "      <td> 22.5</td>\n",
        "      <td> 40</td>\n",
        "      <td> 23.17</td>\n",
        "      <td> 23.433</td>\n",
        "      <td> 23.163</td>\n",
        "      <td>...</td>\n",
        "      <td> 22.997</td>\n",
        "      <td> 18.772</td>\n",
        "      <td> 55</td>\n",
        "      <td> 783.02</td>\n",
        "      <td> 11.8</td>\n",
        "      <td>-127.99</td>\n",
        "      <td>-152.45</td>\n",
        "      <td>-128</td>\n",
        "      <td> NaN</td>\n",
        "      <td>NaN</td>\n",
        "    </tr>\n",
        "  </tbody>\n",
        "</table>\n",
        "<p>15 rows \u00d7 21 columns</p>\n",
        "</div>"
       ],
       "metadata": {},
       "output_type": "pyout",
       "prompt_number": 403,
       "text": [
        "              sampleTime  gratingTemp  tableCenterTemp  enclosureTemp  \\\n",
        "4330 2014-12-11 02:17:22       23.409           23.403           22.6   \n",
        "4331 2014-12-11 02:17:22       23.409           23.403           22.6   \n",
        "4332 2014-12-11 02:17:22       23.409           23.403           22.6   \n",
        "4333 2014-12-11 02:17:22       23.409           23.403           22.6   \n",
        "4334 2014-12-11 02:17:22       23.409           23.403           22.6   \n",
        "4335 2014-12-11 02:17:22       23.409           23.403           22.6   \n",
        "4336 2014-12-11 02:17:22       23.409           23.403           22.6   \n",
        "4337 2014-12-11 02:17:22       23.409           23.403           22.6   \n",
        "4338 2014-12-11 02:17:22       23.409           23.403           22.6   \n",
        "4339 2014-12-11 02:17:22       23.409           23.403           22.6   \n",
        "4340 2014-12-11 02:17:22       23.409           23.403           22.6   \n",
        "4341 2014-12-11 02:17:22       23.409           23.403           22.6   \n",
        "4342 2014-12-11 02:17:22       23.409           23.403           22.6   \n",
        "4343 2014-12-11 02:17:22       23.409           23.403           22.6   \n",
        "4344 2014-12-11 02:17:22       23.409           23.403           22.6   \n",
        "\n",
        "      iodineCellTemp  enclosureSetpoint  iodineCellSetpoint  enclosureTemp2  \\\n",
        "4330              40               22.5                  40           23.17   \n",
        "4331              40               22.5                  40           23.17   \n",
        "4332              40               22.5                  40           23.17   \n",
        "4333              40               22.5                  40           23.17   \n",
        "4334              40               22.5                  40           23.17   \n",
        "4335              40               22.5                  40           23.17   \n",
        "4336              40               22.5                  40           23.17   \n",
        "4337              40               22.5                  40           23.17   \n",
        "4338              40               22.5                  40           23.17   \n",
        "4339              40               22.5                  40           23.17   \n",
        "4340              40               22.5                  40           23.17   \n",
        "4341              40               22.5                  40           23.17   \n",
        "4342              40               22.5                  40           23.17   \n",
        "4343              40               22.5                  40           23.17   \n",
        "4344              40               22.5                  40           23.17   \n",
        "\n",
        "      tableTempLow  structureTemp    ...      instrumentTemp  coudeTemp  \\\n",
        "4330        23.433         23.163    ...              22.997     18.772   \n",
        "4331        23.433         23.163    ...              22.997     18.772   \n",
        "4332        23.433         23.163    ...              22.997     18.772   \n",
        "4333        23.433         23.163    ...              22.997     18.772   \n",
        "4334        23.433         23.163    ...              22.997     18.772   \n",
        "4335        23.433         23.163    ...              22.997     18.772   \n",
        "4336        23.433         23.163    ...              22.997     18.772   \n",
        "4337        23.433         23.163    ...              22.997     18.772   \n",
        "4338        23.433         23.163    ...              22.997     18.772   \n",
        "4339        23.433         23.163    ...              22.997     18.772   \n",
        "4340        23.433         23.163    ...              22.997     18.772   \n",
        "4341        23.433         23.163    ...              22.997     18.772   \n",
        "4342        23.433         23.163    ...              22.997     18.772   \n",
        "4343        23.433         23.163    ...              22.997     18.772   \n",
        "4344        23.433         23.163    ...              22.997     18.772   \n",
        "\n",
        "      heaterSetpoint  barometer  echellePressure  ccdTemp  neckTemp  \\\n",
        "4330              55     783.02             11.8  -127.99   -152.45   \n",
        "4331              55     783.02             11.8  -127.99   -152.45   \n",
        "4332              55     783.02             11.8  -127.99   -152.45   \n",
        "4333              55     783.02             11.8  -127.99   -152.45   \n",
        "4334              55     783.02             11.8  -127.99   -152.45   \n",
        "4335              55     783.02             11.8  -127.99   -152.45   \n",
        "4336              55     783.02             11.8  -127.99   -152.45   \n",
        "4337              55     783.02             11.8  -127.99   -152.45   \n",
        "4338              55     783.02             11.8  -127.99   -152.45   \n",
        "4339              55     783.02             11.8  -127.99   -152.45   \n",
        "4340              55     783.02             11.8  -127.99   -152.45   \n",
        "4341              55     783.02             11.8  -127.99   -152.45   \n",
        "4342              55     783.02             11.8  -127.99   -152.45   \n",
        "4343              55     783.02             11.8  -127.99   -152.45   \n",
        "4344              55     783.02             11.8  -127.99   -152.45   \n",
        "\n",
        "      ccdSetpoint  dateAdded environ_id  \n",
        "4330         -128        NaN        NaN  \n",
        "4331         -128        NaN        NaN  \n",
        "4332         -128        NaN        NaN  \n",
        "4333         -128        NaN        NaN  \n",
        "4334         -128        NaN        NaN  \n",
        "4335         -128        NaN        NaN  \n",
        "4336         -128        NaN        NaN  \n",
        "4337         -128        NaN        NaN  \n",
        "4338         -128        NaN        NaN  \n",
        "4339         -128        NaN        NaN  \n",
        "4340         -128        NaN        NaN  \n",
        "4341         -128        NaN        NaN  \n",
        "4342         -128        NaN        NaN  \n",
        "4343         -128        NaN        NaN  \n",
        "4344         -128        NaN        NaN  \n",
        "\n",
        "[15 rows x 21 columns]"
       ]
      }
     ],
     "prompt_number": 403
    },
    {
     "cell_type": "markdown",
     "metadata": {},
     "source": [
      "Now drop duplicates only if they have the same sampleTime. Do this inplace, meaning we don't have to create a copy of the DataFrame."
     ]
    },
    {
     "cell_type": "code",
     "collapsed": false,
     "input": [
      "newSamps.drop_duplicates(subset='sampleTime', inplace=True)"
     ],
     "language": "python",
     "metadata": {},
     "outputs": [],
     "prompt_number": 405
    },
    {
     "cell_type": "code",
     "collapsed": false,
     "input": [
      "newSamps.to_sql('environ', engine, if_exists='append', index=False)"
     ],
     "language": "python",
     "metadata": {},
     "outputs": [],
     "prompt_number": 406
    },
    {
     "cell_type": "heading",
     "level": 3,
     "metadata": {},
     "source": [
      "Wrapping it all together"
     ]
    },
    {
     "cell_type": "code",
     "collapsed": false,
     "input": [
      "import pandas as pd\n",
      "import pyutil.connectChironDB as ccdb\n",
      "\n",
      "def addEnviron(date):\n",
      "    \"\"\"PURPOSE:\n",
      "    To add environmental information to the CHIRON DB\n",
      "    \"\"\"\n",
      "    #filenames for the four environmental logs:\n",
      "    instfn = '/tous/mir7/logs/temps/insttemp/insttemp'+date+'.log'\n",
      "    htfn =  '/tous/mir7/logs/temps/heater/heater'+date+'.log'\n",
      "    ctfn = '/tous/mir7/logs/temps/chitemp/chitemp'+date+'.log'\n",
      "    dtfn = '/tous/mir7/logs/temps/dettemp/dettemp'+date+'.log'\n",
      "\n",
      "    #restore the insttemp log:\n",
      "    df_in = pd.read_table(instfn, sep='\\s', engine='python', header=None)\n",
      "    df_in.columns = ['sampleTime', 'jnk1', 'gratingTemp', 'jnk2', 'tableCenterTemp', 'jnk3', 'enclosureTemp', 'jnk4',\n",
      "                  'iodineCellTemp', 'jnk5', 'enclosureSetpoint', 'jnk6', 'iodineCellSetpoint', 'jnk7',\n",
      "                  'enclosureTemp2', 'jnk8', 'tableTempLow', 'jnk9', 'structureTemp', 'jnk10', 'instrumentSetpoint',\n",
      "                  'jnk11', 'instrumentTemp', 'jnk12', 'coudeTemp']\n",
      "    df = df_in[['sampleTime', 'gratingTemp', 'tableCenterTemp', 'enclosureTemp',\n",
      "                  'iodineCellTemp', 'enclosureSetpoint', 'iodineCellSetpoint',\n",
      "                  'enclosureTemp2', 'tableTempLow', 'structureTemp', 'instrumentSetpoint',\n",
      "                  'instrumentTemp', 'coudeTemp']]\n",
      "\n",
      "    #restore and merge the heater log:\n",
      "    ht_in = pd.read_table(htfn, sep='\\s', engine='python', header=None)\n",
      "    ht_in.columns = ['sampleTime', 'jnk1', 'heaterSetpoint']\n",
      "    ht = ht_in[['sampleTime', 'heaterSetpoint']]\n",
      "    df = df.merge(ht, on='sampleTime', how='left')\n",
      "\n",
      "    #restore and merge the chitemp log:\n",
      "    ct_in = pd.read_table(ctfn, sep='\\s', engine='python', header=None)\n",
      "    ct_in.columns = ['sampleTime', 'jnk', 'barometer', 'jnk', 'echellePressure']\n",
      "    ct = ct_in[['sampleTime', 'barometer', 'echellePressure']]\n",
      "    df = df.merge(ct, on='sampleTime')\n",
      "\n",
      "    #restore and merge the dettemp log:\n",
      "    dt_in = pd.read_table(dtfn, sep='\\s', engine='python', header=None)\n",
      "    dt_in.columns = ['sampleTime', 'jnk1', 'ccdTemp', 'jnk2', 'neckTemp', 'jnk3', 'ccdSetpoint']\n",
      "    dt = dt_in[['sampleTime', 'ccdTemp', 'neckTemp', 'ccdSetpoint']]\n",
      "    df = df.merge(dt, on='sampleTime')\n",
      "\n",
      "    #add an empty column for the timestamp of when the \n",
      "    #entry was added to the DB:\n",
      "    df['dateAdded'] = None\n",
      "    #connect to the CHIRON DB:\n",
      "    engine = ccdb.connectChironDB()\n",
      "    \n",
      "    #see if any entries already exist:\n",
      "    cmd = \"SELECT sampleTime, environ_id FROM environ WHERE sampleTime IN ('\"+\"','\".join(df.sampleTime.values)+\"');\"\n",
      "    alreadyExists = pd.read_sql_query(cmd, engine)\n",
      "    df['sampleTime'] = pd.to_datetime(df['sampleTime'])\n",
      "    alreadyExists['sampleTime'] = pd.to_datetime(alreadyExists['sampleTime'])\n",
      "    \n",
      "    #now merge to create environ_id column. rows with NaNs for \n",
      "    #their environ_id will be unique, and should be added to the DB:\n",
      "    df = df.merge(alreadyExists, how='outer', on='sampleTime')\n",
      "    \n",
      "    #keep only the new entries:\n",
      "    df = df[pd.isnull(df['environ_id'])]\n",
      "    \n",
      "    #now convert the sampleTimes back to strings\n",
      "    #to write the the DB:\n",
      "    df['environ_id'] = None\n",
      "    \n",
      "    #now make sure all nan values are turned into NaNs:\n",
      "    df[pd.isnull(df)] = np.nan    \n",
      "    \n",
      "    #now append the data to the environ table:\n",
      "    print('{0}: Added {1} rows to the DB.'.format(date, len(df)))\n",
      "    if len(df) > 0:\n",
      "        df.to_sql('environ', engine, if_exists='append', index=False)"
     ],
     "language": "python",
     "metadata": {},
     "outputs": [],
     "prompt_number": 294
    },
    {
     "cell_type": "heading",
     "level": 3,
     "metadata": {},
     "source": [
      "Driving the Addition of Data to the `environ` Table in `chirondb`"
     ]
    },
    {
     "cell_type": "markdown",
     "metadata": {},
     "source": [
      "Now that we have a functional routine for adding a given date, it's time to write a driver that will go through *all* dates that we have logs for."
     ]
    },
    {
     "cell_type": "code",
     "collapsed": false,
     "input": [
      "import datetime"
     ],
     "language": "python",
     "metadata": {},
     "outputs": [],
     "prompt_number": 281
    },
    {
     "cell_type": "code",
     "collapsed": false,
     "input": [
      "help(datetime.datetime.date)"
     ],
     "language": "python",
     "metadata": {},
     "outputs": [
      {
       "output_type": "stream",
       "stream": "stdout",
       "text": [
        "Help on method_descriptor:\n",
        "\n",
        "date(...)\n",
        "    Return date object with same year, month and day.\n",
        "\n"
       ]
      }
     ],
     "prompt_number": 282
    },
    {
     "cell_type": "code",
     "collapsed": false,
     "input": [
      "datetime.datetime.date(2014, 1, 1)"
     ],
     "language": "python",
     "metadata": {},
     "outputs": [
      {
       "ename": "TypeError",
       "evalue": "descriptor 'date' requires a 'datetime.datetime' object but received a 'int'",
       "output_type": "pyerr",
       "traceback": [
        "\u001b[0;31m---------------------------------------------------------------------------\u001b[0m\n\u001b[0;31mTypeError\u001b[0m                                 Traceback (most recent call last)",
        "\u001b[0;32m<ipython-input-283-03fd192f50fc>\u001b[0m in \u001b[0;36m<module>\u001b[0;34m()\u001b[0m\n\u001b[0;32m----> 1\u001b[0;31m \u001b[0mdatetime\u001b[0m\u001b[0;34m.\u001b[0m\u001b[0mdatetime\u001b[0m\u001b[0;34m.\u001b[0m\u001b[0mdate\u001b[0m\u001b[0;34m(\u001b[0m\u001b[0;36m2014\u001b[0m\u001b[0;34m,\u001b[0m \u001b[0;36m1\u001b[0m\u001b[0;34m,\u001b[0m \u001b[0;36m1\u001b[0m\u001b[0;34m)\u001b[0m\u001b[0;34m\u001b[0m\u001b[0m\n\u001b[0m",
        "\u001b[0;31mTypeError\u001b[0m: descriptor 'date' requires a 'datetime.datetime' object but received a 'int'"
       ]
      }
     ],
     "prompt_number": 283
    },
    {
     "cell_type": "code",
     "collapsed": false,
     "input": [
      "from datetime import date"
     ],
     "language": "python",
     "metadata": {},
     "outputs": [],
     "prompt_number": 284
    },
    {
     "cell_type": "code",
     "collapsed": false,
     "input": [
      "bdate = date(2014, 1, 1)"
     ],
     "language": "python",
     "metadata": {},
     "outputs": [],
     "prompt_number": 298
    },
    {
     "cell_type": "code",
     "collapsed": false,
     "input": [
      "bdate"
     ],
     "language": "python",
     "metadata": {},
     "outputs": [
      {
       "metadata": {},
       "output_type": "pyout",
       "prompt_number": 299,
       "text": [
        "datetime.date(2014, 1, 1)"
       ]
      }
     ],
     "prompt_number": 299
    },
    {
     "cell_type": "code",
     "collapsed": false,
     "input": [
      "edate = date(2015, 7, 15)"
     ],
     "language": "python",
     "metadata": {},
     "outputs": [],
     "prompt_number": 305
    },
    {
     "cell_type": "code",
     "collapsed": false,
     "input": [
      "edate"
     ],
     "language": "python",
     "metadata": {},
     "outputs": [
      {
       "metadata": {},
       "output_type": "pyout",
       "prompt_number": 306,
       "text": [
        "datetime.date(2015, 7, 15)"
       ]
      }
     ],
     "prompt_number": 306
    },
    {
     "cell_type": "code",
     "collapsed": false,
     "input": [
      "print edate < bdate"
     ],
     "language": "python",
     "metadata": {},
     "outputs": [
      {
       "output_type": "stream",
       "stream": "stdout",
       "text": [
        "False\n"
       ]
      }
     ],
     "prompt_number": 307
    },
    {
     "cell_type": "code",
     "collapsed": false,
     "input": [
      "t = edate.timetuple()"
     ],
     "language": "python",
     "metadata": {},
     "outputs": [],
     "prompt_number": 308
    },
    {
     "cell_type": "code",
     "collapsed": false,
     "input": [
      "for i in t:\n",
      "    print i"
     ],
     "language": "python",
     "metadata": {},
     "outputs": [
      {
       "output_type": "stream",
       "stream": "stdout",
       "text": [
        "2015\n",
        "7\n",
        "15\n",
        "0\n",
        "0\n",
        "0\n",
        "2\n",
        "196\n",
        "-1\n"
       ]
      }
     ],
     "prompt_number": 309
    },
    {
     "cell_type": "code",
     "collapsed": false,
     "input": [
      "edate.isoformat()"
     ],
     "language": "python",
     "metadata": {},
     "outputs": [
      {
       "metadata": {},
       "output_type": "pyout",
       "prompt_number": 310,
       "text": [
        "'2015-07-15'"
       ]
      }
     ],
     "prompt_number": 310
    },
    {
     "cell_type": "code",
     "collapsed": false,
     "input": [
      "print(edate + datetime.timedelta(days=31))"
     ],
     "language": "python",
     "metadata": {},
     "outputs": [
      {
       "output_type": "stream",
       "stream": "stdout",
       "text": [
        "2015-08-15\n"
       ]
      }
     ],
     "prompt_number": 313
    },
    {
     "cell_type": "code",
     "collapsed": false,
     "input": [
      "ndates = edate - bdate"
     ],
     "language": "python",
     "metadata": {},
     "outputs": [],
     "prompt_number": 314
    },
    {
     "cell_type": "code",
     "collapsed": false,
     "input": [
      "print ndates"
     ],
     "language": "python",
     "metadata": {},
     "outputs": [
      {
       "output_type": "stream",
       "stream": "stdout",
       "text": [
        "560 days, 0:00:00\n"
       ]
      }
     ],
     "prompt_number": 318
    },
    {
     "cell_type": "code",
     "collapsed": false,
     "input": [
      "def driveDates(date_beg, date_end, logtodb='environ'):\n",
      "    \n",
      "    if date_beg < 9e5:\n",
      "        date_beg += 20000000\n",
      "        date_begs = str(date_beg)\n",
      "        dtBeg = datetime.date(int(date_begs[0:4]), int(date_begs[4:6]), int(date_begs[6:8]))\n",
      "    \n",
      "    if date_end < 9e5:\n",
      "        date_end += 20000000\n",
      "        date_ends = str(date_end)\n",
      "        dtEnd = datetime.date(int(date_ends[0:4]), int(date_ends[4:6]), int(date_ends[6:8]))\n",
      "    \n",
      "    ndates = dtEnd - dtBeg\n",
      "        \n",
      "    for i in range(ndates.days+1):\n",
      "        \n",
      "        #create a datetime object for the current iteration:\n",
      "        dtCur = dtBeg + datetime.timedelta(days=i)\n",
      "        #print('Now on date: {}'.format(dtCur))\n",
      "        \n",
      "        if logtodb == 'environ':\n",
      "            try:\n",
      "                from addEnviron import addEnviron\n",
      "            except ImportError:\n",
      "                print('You need addEnviron installed')\n",
      "                print('https://github.com/mattgiguere/chirondb')\n",
      "                sys.exit(1)\n",
      "\n",
      "            #change the datetime object to a string in yymmdd format:\n",
      "            dtymd = str(dtCur).replace('-', '')[2::]\n",
      "            \n",
      "            #now do a quick file test to make sure a log exists\n",
      "            #before trying to add it to the DB:\n",
      "            logpath = '/tous/mir7/logs/temps/insttemp/'\n",
      "            filenm = 'insttemp'+dtymd+'.log'\n",
      "            if os.path.isfile(logpath+filenm):\n",
      "                addEnviron(dtymd)\n"
     ],
     "language": "python",
     "metadata": {},
     "outputs": []
    }
   ],
   "metadata": {}
  }
 ]
}