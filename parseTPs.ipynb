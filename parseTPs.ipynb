{
 "metadata": {
  "name": "",
  "signature": "sha256:fd390a690e580f935cc6ecf66c33aa904837234309a3a4ecd7be0d1754ea3ab0"
 },
 "nbformat": 3,
 "nbformat_minor": 0,
 "worksheets": [
  {
   "cells": [
    {
     "cell_type": "heading",
     "level": 1,
     "metadata": {},
     "source": [
      "parseTPs"
     ]
    },
    {
     "cell_type": "markdown",
     "metadata": {},
     "source": [
      "A notebook to parse the environment info from the daily logs and add that information to the DB."
     ]
    },
    {
     "cell_type": "code",
     "collapsed": false,
     "input": [
      "import pandas as pd\n",
      "import pyutil.connectChironDB as ccdb"
     ],
     "language": "python",
     "metadata": {},
     "outputs": [],
     "prompt_number": 74
    },
    {
     "cell_type": "code",
     "collapsed": false,
     "input": [
      "date = '150130'\n",
      "instfn = '/tous/mir7/logs/temps/insttemp/insttemp'+date+'.log'\n",
      "htfn =  '/tous/mir7/logs/temps/heater/heater'+date+'.log'\n",
      "ctfn = '/tous/mir7/logs/temps/chitemp/chitemp'+date+'.log'\n",
      "dtfn = '/tous/mir7/logs/temps/dettemp/dettemp'+date+'.log'"
     ],
     "language": "python",
     "metadata": {},
     "outputs": [],
     "prompt_number": 54
    },
    {
     "cell_type": "heading",
     "level": 4,
     "metadata": {},
     "source": [
      "1. Restore the `insttemp` log into a DataFrame"
     ]
    },
    {
     "cell_type": "code",
     "collapsed": false,
     "input": [
      "df_in = pd.read_table(instfn, sep='\\s', engine='python', header=None)"
     ],
     "language": "python",
     "metadata": {},
     "outputs": [],
     "prompt_number": 55
    },
    {
     "cell_type": "code",
     "collapsed": false,
     "input": [
      "df_in.columns"
     ],
     "language": "python",
     "metadata": {},
     "outputs": [
      {
       "metadata": {},
       "output_type": "pyout",
       "prompt_number": 56,
       "text": [
        "Int64Index([0, 1, 2, 3, 4, 5, 6, 7, 8, 9, 10, 11, 12, 13, 14, 15, 16, 17, 18, 19, 20, 21, 22, 23, 24], dtype='int64')"
       ]
      }
     ],
     "prompt_number": 56
    },
    {
     "cell_type": "code",
     "collapsed": false,
     "input": [
      "df_in.columns = ['sampleTime', 'jnk1', 'gratingTemp', 'jnk2', 'tableCenterTemp', 'jnk3', 'enclosureTemp', 'jnk4',\n",
      "              'iodineCellTemp', 'jnk5', 'enclosureSetpoint', 'jnk6', 'iodineCellSetpoint', 'jnk7',\n",
      "              'enclosureTemp2', 'jnk8', 'tableTempLow', 'jnk9', 'structureTemp', 'jnk10', 'instrumentSetpoint',\n",
      "              'jnk11', 'instrumentTemp', 'jnk12', 'coudeTemp']"
     ],
     "language": "python",
     "metadata": {},
     "outputs": [],
     "prompt_number": 57
    },
    {
     "cell_type": "code",
     "collapsed": false,
     "input": [
      "df = df_in[['sampleTime', 'gratingTemp', 'tableCenterTemp', 'enclosureTemp',\n",
      "              'iodineCellTemp', 'enclosureSetpoint', 'iodineCellSetpoint',\n",
      "              'enclosureTemp2', 'tableTempLow', 'structureTemp', 'instrumentSetpoint',\n",
      "              'instrumentTemp', 'coudeTemp']]"
     ],
     "language": "python",
     "metadata": {},
     "outputs": [],
     "prompt_number": 58
    },
    {
     "cell_type": "heading",
     "level": 4,
     "metadata": {},
     "source": [
      "2. Restore the `heater` log into a DataFrame"
     ]
    },
    {
     "cell_type": "code",
     "collapsed": false,
     "input": [
      "ht_in = pd.read_table(htfn, sep='\\s', engine='python', header=None)"
     ],
     "language": "python",
     "metadata": {},
     "outputs": [],
     "prompt_number": 59
    },
    {
     "cell_type": "code",
     "collapsed": false,
     "input": [
      "ht_in.columns = ['sampleTime', 'jnk1', 'heaterSetpoint']"
     ],
     "language": "python",
     "metadata": {},
     "outputs": [],
     "prompt_number": 60
    },
    {
     "cell_type": "code",
     "collapsed": false,
     "input": [
      "ht = ht_in[['sampleTime', 'heaterSetpoint']]"
     ],
     "language": "python",
     "metadata": {},
     "outputs": [],
     "prompt_number": 61
    },
    {
     "cell_type": "heading",
     "level": 4,
     "metadata": {},
     "source": [
      "Now merge the `heater` and `instttemp` DataFrames"
     ]
    },
    {
     "cell_type": "code",
     "collapsed": false,
     "input": [
      "df = df.merge(ht, on='sampleTime', how='left')"
     ],
     "language": "python",
     "metadata": {},
     "outputs": [],
     "prompt_number": 62
    },
    {
     "cell_type": "heading",
     "level": 4,
     "metadata": {},
     "source": [
      "3. Restore the `chitemp` log into a DataFrame"
     ]
    },
    {
     "cell_type": "code",
     "collapsed": false,
     "input": [
      "ct_in = pd.read_table(ctfn, sep='\\s', engine='python', header=None)"
     ],
     "language": "python",
     "metadata": {},
     "outputs": [],
     "prompt_number": 63
    },
    {
     "cell_type": "code",
     "collapsed": false,
     "input": [
      "ct_in.columns = ['sampleTime', 'jnk', 'barometer', 'jnk', 'echellePressure']"
     ],
     "language": "python",
     "metadata": {},
     "outputs": [],
     "prompt_number": 64
    },
    {
     "cell_type": "code",
     "collapsed": false,
     "input": [
      "ct = ct_in[['sampleTime', 'barometer', 'echellePressure']]"
     ],
     "language": "python",
     "metadata": {},
     "outputs": [],
     "prompt_number": 65
    },
    {
     "cell_type": "code",
     "collapsed": false,
     "input": [
      "df = df.merge(ct, on='sampleTime')"
     ],
     "language": "python",
     "metadata": {},
     "outputs": [],
     "prompt_number": 66
    },
    {
     "cell_type": "heading",
     "level": 4,
     "metadata": {},
     "source": [
      "4. Restore `dettemp` into a DataFrame"
     ]
    },
    {
     "cell_type": "code",
     "collapsed": false,
     "input": [
      "dt_in = pd.read_table(dtfn, sep='\\s', engine='python', header=None)"
     ],
     "language": "python",
     "metadata": {},
     "outputs": [],
     "prompt_number": 67
    },
    {
     "cell_type": "code",
     "collapsed": false,
     "input": [
      "dt_in.columns = ['sampleTime', 'jnk1', 'ccdTemp', 'jnk2', 'neckTemp', 'jnk3', 'ccdSetpoint']"
     ],
     "language": "python",
     "metadata": {},
     "outputs": [],
     "prompt_number": 68
    },
    {
     "cell_type": "code",
     "collapsed": false,
     "input": [
      "dt = dt_in[['sampleTime', 'ccdTemp', 'neckTemp', 'ccdSetpoint']]"
     ],
     "language": "python",
     "metadata": {},
     "outputs": [],
     "prompt_number": 69
    },
    {
     "cell_type": "code",
     "collapsed": false,
     "input": [
      "df = df.merge(dt, on='sampleTime')"
     ],
     "language": "python",
     "metadata": {},
     "outputs": [],
     "prompt_number": 70
    },
    {
     "cell_type": "code",
     "collapsed": false,
     "input": [
      "df.columns"
     ],
     "language": "python",
     "metadata": {},
     "outputs": [
      {
       "metadata": {},
       "output_type": "pyout",
       "prompt_number": 71,
       "text": [
        "Index([u'sampleTime', u'gratingTemp', u'tableCenterTemp', u'enclosureTemp', u'iodineCellTemp', u'enclosureSetpoint', u'iodineCellSetpoint', u'enclosureTemp2', u'tableTempLow', u'structureTemp', u'instrumentSetpoint', u'instrumentTemp', u'coudeTemp', u'heaterSetpoint', u'barometer', u'echellePressure', u'ccdTemp', u'neckTemp', u'ccdSetpoint'], dtype='object')"
       ]
      }
     ],
     "prompt_number": 71
    },
    {
     "cell_type": "code",
     "collapsed": false,
     "input": [
      "df['dateAdded'] = None"
     ],
     "language": "python",
     "metadata": {},
     "outputs": [],
     "prompt_number": 72
    },
    {
     "cell_type": "code",
     "collapsed": false,
     "input": [
      "engine = ccdb.connectChironDB()"
     ],
     "language": "python",
     "metadata": {},
     "outputs": [],
     "prompt_number": 75
    },
    {
     "cell_type": "code",
     "collapsed": false,
     "input": [
      "df.to_sql('environ', engine, if_exists='append', index=False)"
     ],
     "language": "python",
     "metadata": {},
     "outputs": [],
     "prompt_number": 79
    },
    {
     "cell_type": "code",
     "collapsed": false,
     "input": [
      "#help(df.to_sql)"
     ],
     "language": "python",
     "metadata": {},
     "outputs": [],
     "prompt_number": 80
    },
    {
     "cell_type": "heading",
     "level": 3,
     "metadata": {},
     "source": [
      "Wrapping it all together"
     ]
    },
    {
     "cell_type": "code",
     "collapsed": false,
     "input": [
      "import pandas as pd\n",
      "import pyutil.connectChironDB as ccdb\n",
      "\n",
      "def addEnviron(date):\n",
      "    \"\"\"PURPOSE:\n",
      "    To add environmental information to the CHIRON DB\n",
      "    \"\"\"\n",
      "    #filenames for the four environmental logs:\n",
      "    instfn = '/tous/mir7/logs/temps/insttemp/insttemp'+date+'.log'\n",
      "    htfn =  '/tous/mir7/logs/temps/heater/heater'+date+'.log'\n",
      "    ctfn = '/tous/mir7/logs/temps/chitemp/chitemp'+date+'.log'\n",
      "    dtfn = '/tous/mir7/logs/temps/dettemp/dettemp'+date+'.log'\n",
      "\n",
      "    #restore the insttemp log:\n",
      "    df_in = pd.read_table(instfn, sep='\\s', engine='python', header=None)\n",
      "    df_in.columns = ['sampleTime', 'jnk1', 'gratingTemp', 'jnk2', 'tableCenterTemp', 'jnk3', 'enclosureTemp', 'jnk4',\n",
      "                  'iodineCellTemp', 'jnk5', 'enclosureSetpoint', 'jnk6', 'iodineCellSetpoint', 'jnk7',\n",
      "                  'enclosureTemp2', 'jnk8', 'tableTempLow', 'jnk9', 'structureTemp', 'jnk10', 'instrumentSetpoint',\n",
      "                  'jnk11', 'instrumentTemp', 'jnk12', 'coudeTemp']\n",
      "    df = df_in[['sampleTime', 'gratingTemp', 'tableCenterTemp', 'enclosureTemp',\n",
      "                  'iodineCellTemp', 'enclosureSetpoint', 'iodineCellSetpoint',\n",
      "                  'enclosureTemp2', 'tableTempLow', 'structureTemp', 'instrumentSetpoint',\n",
      "                  'instrumentTemp', 'coudeTemp']]\n",
      "\n",
      "    #restore and merge the heater log:\n",
      "    ht_in = pd.read_table(htfn, sep='\\s', engine='python', header=None)\n",
      "    ht_in.columns = ['sampleTime', 'jnk1', 'heaterSetpoint']\n",
      "    ht = ht_in[['sampleTime', 'heaterSetpoint']]\n",
      "    df = df.merge(ht, on='sampleTime', how='left')\n",
      "\n",
      "    #restore and merge the chitemp log:\n",
      "    ct_in = pd.read_table(ctfn, sep='\\s', engine='python', header=None)\n",
      "    ct_in.columns = ['sampleTime', 'jnk', 'barometer', 'jnk', 'echellePressure']\n",
      "    ct = ct_in[['sampleTime', 'barometer', 'echellePressure']]\n",
      "    df = df.merge(ct, on='sampleTime')\n",
      "\n",
      "    #restore and merge the dettemp log:\n",
      "    dt_in = pd.read_table(dtfn, sep='\\s', engine='python', header=None)\n",
      "    dt_in.columns = ['sampleTime', 'jnk1', 'ccdTemp', 'jnk2', 'neckTemp', 'jnk3', 'ccdSetpoint']\n",
      "    dt = dt_in[['sampleTime', 'ccdTemp', 'neckTemp', 'ccdSetpoint']]\n",
      "    df = df.merge(dt, on='sampleTime')\n",
      "\n",
      "    #add an empty column for the timestamp of when the \n",
      "    #entry was added to the DB:\n",
      "    df['dateAdded'] = None\n",
      "    #connect to the CHIRON DB:\n",
      "    engine = ccdb.connectChironDB()\n",
      "    #now append the data to the environ table:\n",
      "    df.to_sql('environ', engine, if_exists='append', index=False)"
     ],
     "language": "python",
     "metadata": {},
     "outputs": []
    }
   ],
   "metadata": {}
  }
 ]
}