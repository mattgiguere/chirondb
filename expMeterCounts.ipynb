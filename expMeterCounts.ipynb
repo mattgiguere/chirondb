{
 "metadata": {
  "name": "",
  "signature": "sha256:5d3ade7bd0a5ed98095b294e3400c830a5c02abfb7b60a8c1072378480ca4d8b"
 },
 "nbformat": 3,
 "nbformat_minor": 0,
 "worksheets": [
  {
   "cells": [
    {
     "cell_type": "heading",
     "level": 1,
     "metadata": {},
     "source": [
      "ExpMeterCounts"
     ]
    },
    {
     "cell_type": "markdown",
     "metadata": {},
     "source": [
      "A table to describe the code to read in the exposure meter logs to the expmetercounts table."
     ]
    },
    {
     "cell_type": "code",
     "collapsed": false,
     "input": [
      "%matplotlib inline\n",
      "%load_ext autoreload\n",
      "%autoreload 2\n",
      "myfigsize = (12.0, 8.0)\n",
      "myfontsize = 14.\n",
      "from matplotlib import pyplot as plt\n",
      "plt.rcParams['figure.figsize'] = myfigsize"
     ],
     "language": "python",
     "metadata": {},
     "outputs": [],
     "prompt_number": 1
    },
    {
     "cell_type": "code",
     "collapsed": false,
     "input": [
      "from astropy.time import Time, TimeDelta\n",
      "from astropy.io import fits\n",
      "from scipy.optimize import curve_fit\n",
      "import subprocess\n",
      "import pymysql\n",
      "import pandas as pd\n",
      "from pyutil.blazeFit import blazeFit\n",
      "import datetime\n",
      "import numpy as np\n",
      "import os\n",
      "import warnings\n",
      "from numba import jit, void, int_, double, autojit\n",
      "import time\n",
      "import pyutil.connectChironDB as ccdb"
     ],
     "language": "python",
     "metadata": {},
     "outputs": [],
     "prompt_number": 51
    },
    {
     "cell_type": "markdown",
     "metadata": {},
     "source": [
      "To simply test out a file and see what its contents are:"
     ]
    },
    {
     "cell_type": "code",
     "collapsed": false,
     "input": [
      "filebase = '/tous/mir7/logs/expmeter/cnts/'\n",
      "fn = '20150108160010.cnts'\n",
      "filename = filebase+fn"
     ],
     "language": "python",
     "metadata": {},
     "outputs": [],
     "prompt_number": 32
    },
    {
     "cell_type": "code",
     "collapsed": false,
     "input": [
      "dt = np.dtype([('original_time', 'float64'), ('counts', 'float64')])\n",
      "expdf = pd.DataFrame(np.fromfile(filename, dt))"
     ],
     "language": "python",
     "metadata": {},
     "outputs": [],
     "prompt_number": 65
    },
    {
     "cell_type": "code",
     "collapsed": false,
     "input": [
      "expdf.counts.max()"
     ],
     "language": "python",
     "metadata": {},
     "outputs": [
      {
       "metadata": {},
       "output_type": "pyout",
       "prompt_number": 66,
       "text": [
        "102868.2"
       ]
      }
     ],
     "prompt_number": 66
    },
    {
     "cell_type": "code",
     "collapsed": false,
     "input": [
      "plt.plot(expdf['original_time'], expdf['counts'], 'o')\n",
      "plt.xlim([4.902e4, 4.905e4])\n"
     ],
     "language": "python",
     "metadata": {},
     "outputs": [
      {
       "metadata": {},
       "output_type": "pyout",
       "prompt_number": 81,
       "text": [
        "(49020.0, 49050.0)"
       ]
      },
      {
       "metadata": {},
       "output_type": "display_data",
       "png": "[encoded data removed]",
       "text": [
        "<matplotlib.figure.Figure at 0x11f8aca50>"
       ]
      }
     ],
     "prompt_number": 81
    },
    {
     "cell_type": "code",
     "collapsed": false,
     "input": [
      "isostarttime = fn[0:4]+'-'+fn[4:6]+'-'+fn[6:8]+'T'+fn[8:10]+':'+fn[10:12]+':'+fn[12:14]\n",
      "print(isostarttime)"
     ],
     "language": "python",
     "metadata": {},
     "outputs": [
      {
       "output_type": "stream",
       "stream": "stdout",
       "text": [
        "2015-01-08T16:00:10\n"
       ]
      }
     ],
     "prompt_number": 68
    },
    {
     "cell_type": "code",
     "collapsed": false,
     "input": [
      "starttime = Time(isostarttime, format='isot', scale='utc')\n",
      "print(starttime)"
     ],
     "language": "python",
     "metadata": {},
     "outputs": [
      {
       "output_type": "stream",
       "stream": "stdout",
       "text": [
        "2015-01-08T16:00:10.000\n"
       ]
      }
     ],
     "prompt_number": 69
    },
    {
     "cell_type": "markdown",
     "metadata": {},
     "source": [
      "Now create a TimeDelta object of 1 second to add seconds to `starttime`:"
     ]
    },
    {
     "cell_type": "code",
     "collapsed": false,
     "input": [
      "dt = TimeDelta(1, format='sec')"
     ],
     "language": "python",
     "metadata": {},
     "outputs": [],
     "prompt_number": 70
    },
    {
     "cell_type": "code",
     "collapsed": false,
     "input": [
      "#testing this out: should add ten minutes:\n",
      "#print(starttime)\n",
      "#print(starttime + dt*600)"
     ],
     "language": "python",
     "metadata": {},
     "outputs": [],
     "prompt_number": 64
    },
    {
     "cell_type": "code",
     "collapsed": false,
     "input": [
      "expdf['mjdtime'] = (starttime + dt*expdf['original_time']).mjd\n",
      "expdf['time'] = starttime + dt*expdf['original_time']"
     ],
     "language": "python",
     "metadata": {},
     "outputs": [],
     "prompt_number": 71
    },
    {
     "cell_type": "code",
     "collapsed": false,
     "input": [
      "expdf['filename'] = fn\n",
      "expdf['observation_id'] = None\n",
      "expdf['expdfcts_id'] = None\n",
      "expdf['dateAded'] = None"
     ],
     "language": "python",
     "metadata": {},
     "outputs": [],
     "prompt_number": 75
    },
    {
     "cell_type": "code",
     "collapsed": false,
     "input": [
      "expdf.loc[0:2]"
     ],
     "language": "python",
     "metadata": {},
     "outputs": [
      {
       "html": [
        "<div style=\"max-height:1000px;max-width:1500px;overflow:auto;\">\n",
        "<table border=\"1\" class=\"dataframe\">\n",
        "  <thead>\n",
        "    <tr style=\"text-align: right;\">\n",
        "      <th></th>\n",
        "      <th>original_time</th>\n",
        "      <th>counts</th>\n",
        "      <th>mjdtime</th>\n",
        "      <th>time</th>\n",
        "      <th>filename</th>\n",
        "      <th>observation_id</th>\n",
        "      <th>expdfcts_id</th>\n",
        "      <th>dateAded</th>\n",
        "    </tr>\n",
        "  </thead>\n",
        "  <tbody>\n",
        "    <tr>\n",
        "      <th>0</th>\n",
        "      <td> 39612.555978</td>\n",
        "      <td> 2.0</td>\n",
        "      <td> 57031.125261</td>\n",
        "      <td> 2015-01-09T03:00:22.556</td>\n",
        "      <td> 20150108160010.cnts</td>\n",
        "      <td> None</td>\n",
        "      <td> None</td>\n",
        "      <td> None</td>\n",
        "    </tr>\n",
        "    <tr>\n",
        "      <th>1</th>\n",
        "      <td> 39614.553772</td>\n",
        "      <td> 3.4</td>\n",
        "      <td> 57031.125284</td>\n",
        "      <td> 2015-01-09T03:00:24.554</td>\n",
        "      <td> 20150108160010.cnts</td>\n",
        "      <td> None</td>\n",
        "      <td> None</td>\n",
        "      <td> None</td>\n",
        "    </tr>\n",
        "    <tr>\n",
        "      <th>2</th>\n",
        "      <td> 39616.555973</td>\n",
        "      <td> 1.8</td>\n",
        "      <td> 57031.125307</td>\n",
        "      <td> 2015-01-09T03:00:26.556</td>\n",
        "      <td> 20150108160010.cnts</td>\n",
        "      <td> None</td>\n",
        "      <td> None</td>\n",
        "      <td> None</td>\n",
        "    </tr>\n",
        "  </tbody>\n",
        "</table>\n",
        "</div>"
       ],
       "metadata": {},
       "output_type": "pyout",
       "prompt_number": 79,
       "text": [
        "   original_time  counts       mjdtime                     time  \\\n",
        "0   39612.555978     2.0  57031.125261  2015-01-09T03:00:22.556   \n",
        "1   39614.553772     3.4  57031.125284  2015-01-09T03:00:24.554   \n",
        "2   39616.555973     1.8  57031.125307  2015-01-09T03:00:26.556   \n",
        "\n",
        "              filename observation_id expdfcts_id dateAded  \n",
        "0  20150108160010.cnts           None        None     None  \n",
        "1  20150108160010.cnts           None        None     None  \n",
        "2  20150108160010.cnts           None        None     None  "
       ]
      }
     ],
     "prompt_number": 79
    },
    {
     "cell_type": "code",
     "collapsed": false,
     "input": [
      "len(expdf)"
     ],
     "language": "python",
     "metadata": {},
     "outputs": [
      {
       "metadata": {},
       "output_type": "pyout",
       "prompt_number": 82,
       "text": [
        "44032"
       ]
      }
     ],
     "prompt_number": 82
    },
    {
     "cell_type": "code",
     "collapsed": false,
     "input": [
      "Putting this all t"
     ],
     "language": "python",
     "metadata": {},
     "outputs": []
    }
   ],
   "metadata": {}
  }
 ]
}