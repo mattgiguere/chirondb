{
 "metadata": {
  "name": "",
  "signature": "sha256:a2413aaf553ae4ff3c9c717cd553fad07f688c45c075193841bffe06795d86d6"
 },
 "nbformat": 3,
 "nbformat_minor": 0,
 "worksheets": [
  {
   "cells": [
    {
     "cell_type": "heading",
     "level": 1,
     "metadata": {},
     "source": [
      "ExpMeterCounts"
     ]
    },
    {
     "cell_type": "markdown",
     "metadata": {},
     "source": [
      "A table to describe the code to read in the exposure meter logs to the expmetercounts table."
     ]
    },
    {
     "cell_type": "code",
     "collapsed": false,
     "input": [
      "%matplotlib inline\n",
      "%load_ext autoreload\n",
      "%autoreload 2\n",
      "myfigsize = (12.0, 8.0)\n",
      "myfontsize = 14.\n",
      "from matplotlib import pyplot as plt\n",
      "plt.rcParams['figure.figsize'] = myfigsize"
     ],
     "language": "python",
     "metadata": {},
     "outputs": [],
     "prompt_number": 1
    },
    {
     "cell_type": "code",
     "collapsed": false,
     "input": [
      "from astropy.io import fits\n",
      "from pyutil.blazeFit import blazeFit\n",
      "from scipy.optimize import curve_fit\n",
      "import subprocess\n",
      "import pymysql\n",
      "import pandas as pd\n",
      "from pyutil.blazeFit import blazeFit\n",
      "import datetime\n",
      "import numpy as np\n",
      "import os\n",
      "import warnings\n",
      "from numba import jit, void, int_, double, autojit\n",
      "import time"
     ],
     "language": "python",
     "metadata": {},
     "outputs": []
    },
    {
     "cell_type": "code",
     "collapsed": false,
     "input": [],
     "language": "python",
     "metadata": {},
     "outputs": []
    }
   ],
   "metadata": {}
  }
 ]
}