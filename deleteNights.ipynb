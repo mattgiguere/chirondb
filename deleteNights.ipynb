{
 "metadata": {
  "name": "",
  "signature": "sha256:15b9c70523e3e21544ec8b2b2e2e7c5e239f52b50856221f5a7fa03e3c3a664e"
 },
 "nbformat": 3,
 "nbformat_minor": 0,
 "worksheets": [
  {
   "cells": [
    {
     "cell_type": "heading",
     "level": 1,
     "metadata": {},
     "source": [
      "deleteNights"
     ]
    },
    {
     "cell_type": "markdown",
     "metadata": {},
     "source": [
      "A notebook that deletes all entries from a given night."
     ]
    },
    {
     "cell_type": "code",
     "collapsed": false,
     "input": [],
     "language": "python",
     "metadata": {},
     "outputs": []
    }
   ],
   "metadata": {}
  }
 ]
}