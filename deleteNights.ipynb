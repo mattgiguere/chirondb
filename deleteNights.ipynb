{
 "metadata": {
  "name": "",
  "signature": "sha256:46769999452099333763f4638b5e65eccdda2d9d30835cc01944dd7a60dbc01a"
 },
 "nbformat": 3,
 "nbformat_minor": 0,
 "worksheets": [
  {
   "cells": [
    {
     "cell_type": "heading",
     "level": 1,
     "metadata": {},
     "source": [
      "deleteNights"
     ]
    },
    {
     "cell_type": "markdown",
     "metadata": {},
     "source": [
      "A notebook that deletes all entries from a given night."
     ]
    },
    {
     "cell_type": "code",
     "collapsed": false,
     "input": [
      "%matplotlib inline\n",
      "%load_ext autoreload\n",
      "%autoreload 2"
     ],
     "language": "python",
     "metadata": {},
     "outputs": [
      {
       "output_type": "stream",
       "stream": "stdout",
       "text": [
        "The autoreload extension is already loaded. To reload it, use:\n",
        "  %reload_ext autoreload\n"
       ]
      }
     ],
     "prompt_number": 5
    },
    {
     "cell_type": "code",
     "collapsed": false,
     "input": [
      "import pandas as pd\n",
      "import pyutil.connectChironDB as ccdb"
     ],
     "language": "python",
     "metadata": {},
     "outputs": [],
     "prompt_number": 6
    },
    {
     "cell_type": "code",
     "collapsed": false,
     "input": [
      "conn = ccdb.connectChironDB()"
     ],
     "language": "python",
     "metadata": {},
     "outputs": [],
     "prompt_number": 19
    },
    {
     "cell_type": "code",
     "collapsed": false,
     "input": [
      "tbls = pd.read_csv('tables/tableListFull.txt')"
     ],
     "language": "python",
     "metadata": {},
     "outputs": [],
     "prompt_number": 20
    },
    {
     "cell_type": "code",
     "collapsed": false,
     "input": [
      "tbls"
     ],
     "language": "python",
     "metadata": {},
     "outputs": [
      {
       "html": [
        "<div style=\"max-height:1000px;max-width:1500px;overflow:auto;\">\n",
        "<table border=\"1\" class=\"dataframe\">\n",
        "  <thead>\n",
        "    <tr style=\"text-align: right;\">\n",
        "      <th></th>\n",
        "      <th>tableName</th>\n",
        "      <th>tableFileName</th>\n",
        "    </tr>\n",
        "  </thead>\n",
        "  <tbody>\n",
        "    <tr>\n",
        "      <th>0 </th>\n",
        "      <td>   ccdsections</td>\n",
        "      <td>   tables/CCDSectionsTable.txt</td>\n",
        "    </tr>\n",
        "    <tr>\n",
        "      <th>1 </th>\n",
        "      <td>   environment</td>\n",
        "      <td>   tables/EnvironmentTable.txt</td>\n",
        "    </tr>\n",
        "    <tr>\n",
        "      <th>2 </th>\n",
        "      <td> exposuremeter</td>\n",
        "      <td> tables/ExposureMeterTable.txt</td>\n",
        "    </tr>\n",
        "    <tr>\n",
        "      <th>3 </th>\n",
        "      <td>        halpha</td>\n",
        "      <td>        tables/HalphaTable.txt</td>\n",
        "    </tr>\n",
        "    <tr>\n",
        "      <th>4 </th>\n",
        "      <td>  observations</td>\n",
        "      <td>  tables/ObservationsTable.txt</td>\n",
        "    </tr>\n",
        "    <tr>\n",
        "      <th>5 </th>\n",
        "      <td>          psfs</td>\n",
        "      <td>           tables/PsfTable.txt</td>\n",
        "    </tr>\n",
        "    <tr>\n",
        "      <th>6 </th>\n",
        "      <td>     reduction</td>\n",
        "      <td>     tables/ReductionTable.txt</td>\n",
        "    </tr>\n",
        "    <tr>\n",
        "      <th>7 </th>\n",
        "      <td>        seeing</td>\n",
        "      <td>        tables/SeeingTable.txt</td>\n",
        "    </tr>\n",
        "    <tr>\n",
        "      <th>8 </th>\n",
        "      <td>       spectra</td>\n",
        "      <td>       tables/SpectraTable.txt</td>\n",
        "    </tr>\n",
        "    <tr>\n",
        "      <th>9 </th>\n",
        "      <td>    velocities</td>\n",
        "      <td>      tables/VelocityTable.txt</td>\n",
        "    </tr>\n",
        "    <tr>\n",
        "      <th>10</th>\n",
        "      <td>       weather</td>\n",
        "      <td>       tables/WeatherTable.txt</td>\n",
        "    </tr>\n",
        "  </tbody>\n",
        "</table>\n",
        "</div>"
       ],
       "metadata": {},
       "output_type": "pyout",
       "prompt_number": 21,
       "text": [
        "        tableName                  tableFileName\n",
        "0     ccdsections    tables/CCDSectionsTable.txt\n",
        "1     environment    tables/EnvironmentTable.txt\n",
        "2   exposuremeter  tables/ExposureMeterTable.txt\n",
        "3          halpha         tables/HalphaTable.txt\n",
        "4    observations   tables/ObservationsTable.txt\n",
        "5            psfs            tables/PsfTable.txt\n",
        "6       reduction      tables/ReductionTable.txt\n",
        "7          seeing         tables/SeeingTable.txt\n",
        "8         spectra        tables/SpectraTable.txt\n",
        "9      velocities       tables/VelocityTable.txt\n",
        "10        weather        tables/WeatherTable.txt"
       ]
      }
     ],
     "prompt_number": 21
    },
    {
     "cell_type": "code",
     "collapsed": false,
     "input": [
      "date = 140725\n",
      "date = str(date)\n",
      "cur = conn.cursor()\n",
      "for i in range(len(tbls)):\n",
      "    iname = tbls.loc[i, 'tableName']\n",
      "    if iname != 'observations' and iname != 'spectra':\n",
      "        cmd = 'SELECT COUNT(*) FROM '+iname\n",
      "        cmd += ' WHERE observation_id in '\n",
      "        cmd += '(SELECT observation_id FROM observations '\n",
      "        cmd +=\"WHERE MID(rawfilename, 11, 6)='\"+date+\"');\"\n",
      "        print(cmd)\n",
      "        cur.execute(cmd)\n",
      "        counts = cur.fetchall()\n",
      "        print(counts)\n",
      "        \n",
      "        "
     ],
     "language": "python",
     "metadata": {},
     "outputs": [
      {
       "output_type": "stream",
       "stream": "stdout",
       "text": [
        "SELECT COUNT(*) FROM ccdsections WHERE observation_id in (SELECT observation_id FROM observations WHERE MID(rawfilename, 11, 6)='140725');\n",
        "((305,),)"
       ]
      },
      {
       "output_type": "stream",
       "stream": "stdout",
       "text": [
        "\n",
        "SELECT COUNT(*) FROM environment WHERE observation_id in (SELECT observation_id FROM observations WHERE MID(rawfilename, 11, 6)='140725');\n",
        "((305,),)"
       ]
      },
      {
       "output_type": "stream",
       "stream": "stdout",
       "text": [
        "\n",
        "SELECT COUNT(*) FROM exposuremeter WHERE observation_id in (SELECT observation_id FROM observations WHERE MID(rawfilename, 11, 6)='140725');\n",
        "((305,),)"
       ]
      },
      {
       "output_type": "stream",
       "stream": "stdout",
       "text": [
        "\n",
        "SELECT COUNT(*) FROM halpha WHERE observation_id in (SELECT observation_id FROM observations WHERE MID(rawfilename, 11, 6)='140725');\n",
        "((108,),)"
       ]
      },
      {
       "output_type": "stream",
       "stream": "stdout",
       "text": [
        "\n",
        "SELECT COUNT(*) FROM psfs WHERE observation_id in (SELECT observation_id FROM observations WHERE MID(rawfilename, 11, 6)='140725');\n",
        "((305,),)"
       ]
      },
      {
       "output_type": "stream",
       "stream": "stdout",
       "text": [
        "\n",
        "SELECT COUNT(*) FROM reduction WHERE observation_id in (SELECT observation_id FROM observations WHERE MID(rawfilename, 11, 6)='140725');\n",
        "((305,),)"
       ]
      },
      {
       "output_type": "stream",
       "stream": "stdout",
       "text": [
        "\n",
        "SELECT COUNT(*) FROM seeing WHERE observation_id in (SELECT observation_id FROM observations WHERE MID(rawfilename, 11, 6)='140725');\n",
        "((305,),)"
       ]
      },
      {
       "output_type": "stream",
       "stream": "stdout",
       "text": [
        "\n",
        "SELECT COUNT(*) FROM velocities WHERE observation_id in (SELECT observation_id FROM observations WHERE MID(rawfilename, 11, 6)='140725');\n",
        "((305,),)"
       ]
      },
      {
       "output_type": "stream",
       "stream": "stdout",
       "text": [
        "\n",
        "SELECT COUNT(*) FROM weather WHERE observation_id in (SELECT observation_id FROM observations WHERE MID(rawfilename, 11, 6)='140725');\n",
        "((305,),)"
       ]
      },
      {
       "output_type": "stream",
       "stream": "stdout",
       "text": [
        "\n"
       ]
      }
     ],
     "prompt_number": 23
    },
    {
     "cell_type": "markdown",
     "metadata": {},
     "source": [
      "Wonderful. Now to execute the `DELETE` statement for real. I'm not certain about using the `fetchall` in this case since there's nothing to return, but I'll try it anyways. If it returns an error, I'll try something different."
     ]
    },
    {
     "cell_type": "code",
     "collapsed": false,
     "input": [
      "date = 140725\n",
      "date = str(date)\n",
      "cur = conn.cursor()\n",
      "for i in range(len(tbls)):\n",
      "    iname = tbls.loc[i, 'tableName']\n",
      "    if iname != 'observations' and iname != 'spectra':\n",
      "        cmd = 'DELETE FROM '+iname\n",
      "        cmd += ' WHERE observation_id in '\n",
      "        cmd += '(SELECT observation_id FROM observations '\n",
      "        cmd +=\"WHERE MID(rawfilename, 11, 6)='\"+date+\"');\"\n",
      "        print(cmd)\n",
      "        cur.execute(cmd)\n",
      "        counts = cur.fetchall()\n",
      "        print(counts)\n",
      "        \n"
     ],
     "language": "python",
     "metadata": {},
     "outputs": [
      {
       "output_type": "stream",
       "stream": "stdout",
       "text": [
        "DELETE FROM ccdsections WHERE observation_id in (SELECT observation_id FROM observations WHERE MID(rawfilename, 11, 6)='140725');\n",
        "None"
       ]
      },
      {
       "output_type": "stream",
       "stream": "stdout",
       "text": [
        "\n",
        "DELETE FROM environment WHERE observation_id in (SELECT observation_id FROM observations WHERE MID(rawfilename, 11, 6)='140725');\n",
        "None"
       ]
      },
      {
       "output_type": "stream",
       "stream": "stdout",
       "text": [
        "\n",
        "DELETE FROM exposuremeter WHERE observation_id in (SELECT observation_id FROM observations WHERE MID(rawfilename, 11, 6)='140725');\n",
        "None"
       ]
      },
      {
       "output_type": "stream",
       "stream": "stdout",
       "text": [
        "\n",
        "DELETE FROM halpha WHERE observation_id in (SELECT observation_id FROM observations WHERE MID(rawfilename, 11, 6)='140725');\n",
        "None"
       ]
      },
      {
       "output_type": "stream",
       "stream": "stdout",
       "text": [
        "\n",
        "DELETE FROM psfs WHERE observation_id in (SELECT observation_id FROM observations WHERE MID(rawfilename, 11, 6)='140725');\n",
        "None"
       ]
      },
      {
       "output_type": "stream",
       "stream": "stdout",
       "text": [
        "\n",
        "DELETE FROM reduction WHERE observation_id in (SELECT observation_id FROM observations WHERE MID(rawfilename, 11, 6)='140725');\n",
        "None"
       ]
      },
      {
       "output_type": "stream",
       "stream": "stdout",
       "text": [
        "\n",
        "DELETE FROM seeing WHERE observation_id in (SELECT observation_id FROM observations WHERE MID(rawfilename, 11, 6)='140725');\n",
        "None"
       ]
      },
      {
       "output_type": "stream",
       "stream": "stdout",
       "text": [
        "\n",
        "DELETE FROM velocities WHERE observation_id in (SELECT observation_id FROM observations WHERE MID(rawfilename, 11, 6)='140725');\n",
        "None"
       ]
      },
      {
       "output_type": "stream",
       "stream": "stdout",
       "text": [
        "\n",
        "DELETE FROM weather WHERE observation_id in (SELECT observation_id FROM observations WHERE MID(rawfilename, 11, 6)='140725');\n",
        "None"
       ]
      },
      {
       "output_type": "stream",
       "stream": "stdout",
       "text": [
        "\n"
       ]
      }
     ],
     "prompt_number": 24
    },
    {
     "cell_type": "markdown",
     "metadata": {},
     "source": [
      "It returned 'None', which I imagine means it executed everything properly. To check, I can simply rerun the test code."
     ]
    },
    {
     "cell_type": "code",
     "collapsed": false,
     "input": [
      "date = 140725\n",
      "date = str(date)\n",
      "cur = conn.cursor()\n",
      "for i in range(len(tbls)):\n",
      "    iname = tbls.loc[i, 'tableName']\n",
      "    if iname != 'observations' and iname != 'spectra':\n",
      "        cmd = 'SELECT COUNT(*) FROM '+iname\n",
      "        cmd += ' WHERE observation_id in '\n",
      "        cmd += '(SELECT observation_id FROM observations '\n",
      "        cmd +=\"WHERE MID(rawfilename, 11, 6)='\"+date+\"');\"\n",
      "        print(cmd)\n",
      "        cur.execute(cmd)\n",
      "        counts = cur.fetchall()\n",
      "        print(counts)\n",
      "        \n",
      "        "
     ],
     "language": "python",
     "metadata": {},
     "outputs": [
      {
       "output_type": "stream",
       "stream": "stdout",
       "text": [
        "SELECT COUNT(*) FROM ccdsections WHERE observation_id in (SELECT observation_id FROM observations WHERE MID(rawfilename, 11, 6)='140725');\n",
        "((0,),)"
       ]
      },
      {
       "output_type": "stream",
       "stream": "stdout",
       "text": [
        "\n",
        "SELECT COUNT(*) FROM environment WHERE observation_id in (SELECT observation_id FROM observations WHERE MID(rawfilename, 11, 6)='140725');\n",
        "((0,),)"
       ]
      },
      {
       "output_type": "stream",
       "stream": "stdout",
       "text": [
        "\n",
        "SELECT COUNT(*) FROM exposuremeter WHERE observation_id in (SELECT observation_id FROM observations WHERE MID(rawfilename, 11, 6)='140725');\n",
        "((0,),)"
       ]
      },
      {
       "output_type": "stream",
       "stream": "stdout",
       "text": [
        "\n",
        "SELECT COUNT(*) FROM halpha WHERE observation_id in (SELECT observation_id FROM observations WHERE MID(rawfilename, 11, 6)='140725');\n",
        "((0,),)\n",
        "SELECT COUNT(*) FROM psfs WHERE observation_id in (SELECT observation_id FROM observations WHERE MID(rawfilename, 11, 6)='140725');\n",
        "((0,),)"
       ]
      },
      {
       "output_type": "stream",
       "stream": "stdout",
       "text": [
        "\n",
        "SELECT COUNT(*) FROM reduction WHERE observation_id in (SELECT observation_id FROM observations WHERE MID(rawfilename, 11, 6)='140725');\n",
        "((0,),)"
       ]
      },
      {
       "output_type": "stream",
       "stream": "stdout",
       "text": [
        "\n",
        "SELECT COUNT(*) FROM seeing WHERE observation_id in (SELECT observation_id FROM observations WHERE MID(rawfilename, 11, 6)='140725');\n",
        "((0,),)"
       ]
      },
      {
       "output_type": "stream",
       "stream": "stdout",
       "text": [
        "\n",
        "SELECT COUNT(*) FROM velocities WHERE observation_id in (SELECT observation_id FROM observations WHERE MID(rawfilename, 11, 6)='140725');\n",
        "((0,),)"
       ]
      },
      {
       "output_type": "stream",
       "stream": "stdout",
       "text": [
        "\n",
        "SELECT COUNT(*) FROM weather WHERE observation_id in (SELECT observation_id FROM observations WHERE MID(rawfilename, 11, 6)='140725');\n",
        "((0,),)"
       ]
      },
      {
       "output_type": "stream",
       "stream": "stdout",
       "text": [
        "\n"
       ]
      }
     ],
     "prompt_number": 25
    },
    {
     "cell_type": "markdown",
     "metadata": {},
     "source": [
      "Indeed, the test code returned all zeroes for the count of rows associated with observations from the night of 140725."
     ]
    },
    {
     "cell_type": "markdown",
     "metadata": {},
     "source": [
      "Now to package this up into something nice:"
     ]
    },
    {
     "cell_type": "code",
     "collapsed": false,
     "input": [
      "import pandas as pd\n",
      "import pyutil.connectChironDB as ccdb\n",
      "\n",
      "def deleteNights(night, test=True):\n",
      "    \"\"\"\n",
      "    PURPOSE: To delete all rows from all tables that contain \n",
      "    information from the night of interest.\n",
      "    \n",
      "    Input:\n",
      "    ------\n",
      "    night: The night of interest, in yymmdd form.\n",
      "    \n",
      "    Optional Input:\n",
      "    ---------------\n",
      "    test: If set as True, the code will execute a SELECT COUNT(*)\n",
      "    and print the number of rows in each table instead of \n",
      "    executing the DELETE statement. Set T\n",
      "    \n",
      "    \"\"\"\n",
      "\n",
      "    #read in the table names to delete all entries from:\n",
      "    tbls = pd.read_csv('tables/tableListFull.txt')\n",
      "\n",
      "    #make sure the date is a string:\n",
      "    night = str(night)\n",
      "    conn = ccdb.connectChironDB()\n",
      "    cur = conn.cursor()\n",
      "    for i in range(len(tbls)):\n",
      "        iname = tbls.loc[i, 'tableName']\n",
      "        if iname != 'observations' and iname != 'spectra':\n",
      "            if test is True:\n",
      "                cmd = 'SELECT COUNT(*) FROM '+iname\n",
      "                print('Table name is {0}'.format(iname))\n",
      "            else:\n",
      "                cmd = 'DELETE FROM '+iname\n",
      "            cmd += ' WHERE observation_id in '\n",
      "            cmd += '(SELECT observation_id FROM observations '\n",
      "            cmd +=\"WHERE MID(rawfilename, 11, 6)='\"+night+\"');\"\n",
      "            #print(cmd)\n",
      "            cur.execute(cmd)\n",
      "            counts = cur.fetchall()\n",
      "            print(counts)\n"
     ],
     "language": "python",
     "metadata": {},
     "outputs": [],
     "prompt_number": 27
    },
    {
     "cell_type": "code",
     "collapsed": false,
     "input": [
      "deleteNights(140726)"
     ],
     "language": "python",
     "metadata": {},
     "outputs": [
      {
       "output_type": "stream",
       "stream": "stdout",
       "text": [
        "Table name is ccdsections\n",
        "((259,),)"
       ]
      },
      {
       "output_type": "stream",
       "stream": "stdout",
       "text": [
        "\n",
        "Table name is environment\n",
        "((259,),)"
       ]
      },
      {
       "output_type": "stream",
       "stream": "stdout",
       "text": [
        "\n",
        "Table name is exposuremeter\n",
        "((259,),)"
       ]
      },
      {
       "output_type": "stream",
       "stream": "stdout",
       "text": [
        "\n",
        "Table name is halpha\n",
        "((0,),)"
       ]
      },
      {
       "output_type": "stream",
       "stream": "stdout",
       "text": [
        "\n",
        "Table name is psfs\n",
        "((259,),)"
       ]
      },
      {
       "output_type": "stream",
       "stream": "stdout",
       "text": [
        "\n",
        "Table name is reduction\n",
        "((259,),)"
       ]
      },
      {
       "output_type": "stream",
       "stream": "stdout",
       "text": [
        "\n",
        "Table name is seeing\n",
        "((259,),)"
       ]
      },
      {
       "output_type": "stream",
       "stream": "stdout",
       "text": [
        "\n",
        "Table name is velocities\n",
        "((259,),)"
       ]
      },
      {
       "output_type": "stream",
       "stream": "stdout",
       "text": [
        "\n",
        "Table name is weather\n",
        "((259,),)"
       ]
      },
      {
       "output_type": "stream",
       "stream": "stdout",
       "text": [
        "\n"
       ]
      }
     ],
     "prompt_number": 28
    },
    {
     "cell_type": "code",
     "collapsed": false,
     "input": [],
     "language": "python",
     "metadata": {},
     "outputs": []
    }
   ],
   "metadata": {}
  }
 ]
}