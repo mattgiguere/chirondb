{
 "metadata": {
  "name": "",
  "signature": "sha256:6fb38070bde382a7102e8812e7b6a8e47e8d53d257bba9568f969786c2f4bb1e"
 },
 "nbformat": 3,
 "nbformat_minor": 0,
 "worksheets": [
  {
   "cells": [
    {
     "cell_type": "heading",
     "level": 1,
     "metadata": {},
     "source": [
      "chirondb"
     ]
    },
    {
     "cell_type": "heading",
     "level": 3,
     "metadata": {},
     "source": [
      "A guide to working with the CHIRON MySQL database from within Python"
     ]
    },
    {
     "cell_type": "raw",
     "metadata": {},
     "source": [
      "This document goes over how to access the chiron MySQL databases from within Python."
     ]
    },
    {
     "cell_type": "code",
     "collapsed": false,
     "input": [
      "%pylab inline"
     ],
     "language": "python",
     "metadata": {},
     "outputs": [
      {
       "output_type": "stream",
       "stream": "stdout",
       "text": [
        "Populating the interactive namespace from numpy and matplotlib\n"
       ]
      }
     ],
     "prompt_number": 1
    },
    {
     "cell_type": "code",
     "collapsed": false,
     "input": [
      "import pymysql\n",
      "from __future__ import print_function\n",
      "import subprocess"
     ],
     "language": "python",
     "metadata": {},
     "outputs": [],
     "prompt_number": 2
    },
    {
     "cell_type": "code",
     "collapsed": false,
     "input": [
      "#retrieve credentials:\n",
      "cmd = 'echo $AeroFSdir'\n",
      "#read in the AeroFSdir string and \n",
      "#chop off the newline character at the end\n",
      "cdir = subprocess.check_output(cmd, shell=True)\n",
      "cdir = cdir[0:len(cdir)-1]\n",
      "print(cdir)"
     ],
     "language": "python",
     "metadata": {},
     "outputs": [
      {
       "output_type": "stream",
       "stream": "stdout",
       "text": [
        "/Users/matt/AeroFS/\n"
       ]
      }
     ],
     "prompt_number": 29
    },
    {
     "cell_type": "code",
     "collapsed": false,
     "input": [
      "credsf = open(cdir+'.credentials/SQL/ceaye', 'r')\n",
      "creds = credsf.read().split('\\n')"
     ],
     "language": "python",
     "metadata": {},
     "outputs": [],
     "prompt_number": 38
    },
    {
     "cell_type": "code",
     "collapsed": false,
     "input": [
      "conn = pymysql.connect(host=creds[0], port=int(creds[1]), user=creds[2], passwd=creds[3], db=creds[4])\n",
      "cur = conn.cursor()"
     ],
     "language": "python",
     "metadata": {},
     "outputs": [],
     "prompt_number": 39
    },
    {
     "cell_type": "code",
     "collapsed": false,
     "input": [
      "cur.execute(\"SHOW TABLES\")\n",
      "print(cur.description)"
     ],
     "language": "python",
     "metadata": {},
     "outputs": [
      {
       "output_type": "stream",
       "stream": "stdout",
       "text": [
        "((u'Tables_in_chiron', 253, None, 64, 64, 0, 0),)\n"
       ]
      }
     ],
     "prompt_number": 41
    },
    {
     "cell_type": "code",
     "collapsed": false,
     "input": [
      "for row in cur.fetchall():\n",
      "    print(row[0])"
     ],
     "language": "python",
     "metadata": {},
     "outputs": [
      {
       "output_type": "stream",
       "stream": "stdout",
       "text": [
        "access\n",
        "alloc_users\n",
        "allocs\n",
        "cycles\n",
        "deckers\n",
        "nos\n",
        "nos_objects\n",
        "nos_results\n",
        "object_notes\n",
        "object_tarfiles\n",
        "object_times\n",
        "objects\n",
        "plans\n",
        "proposals\n",
        "registers\n",
        "script_notes\n",
        "script_objs\n",
        "scripts\n",
        "section_functions\n",
        "sections\n",
        "semesters\n",
        "users\n"
       ]
      }
     ],
     "prompt_number": 42
    },
    {
     "cell_type": "code",
     "collapsed": false,
     "input": [
      "cur.execute(\"DESCRIBE objects\")\n",
      "print(cur.description)"
     ],
     "language": "python",
     "metadata": {},
     "outputs": [
      {
       "output_type": "stream",
       "stream": "stdout",
       "text": [
        "((u'Field', 253, None, 64, 64, 0, 0), (u'Type', 252, None, 196605, 196605, 0, 0), (u'Null', 253, None, 3, 3, 0, 0), (u'Key', 253, None, 3, 3, 0, 0), (u'Default', 252, None, 196605, 196605, 0, 1), (u'Extra', 253, None, 27, 27, 0, 0))\n"
       ]
      }
     ],
     "prompt_number": 43
    },
    {
     "cell_type": "code",
     "collapsed": false,
     "input": [],
     "language": "python",
     "metadata": {},
     "outputs": []
    }
   ],
   "metadata": {}
  }
 ]
}