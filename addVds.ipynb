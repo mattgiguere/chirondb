{
 "metadata": {
  "name": "",
  "signature": "sha256:dd309c9bbd37294560952d8e398d368b5ba7177be0f298e27a2d98a50684e2f9"
 },
 "nbformat": 3,
 "nbformat_minor": 0,
 "worksheets": [
  {
   "cells": [
    {
     "cell_type": "heading",
     "level": 1,
     "metadata": {},
     "source": [
      "addVds"
     ]
    },
    {
     "cell_type": "markdown",
     "metadata": {},
     "source": [
      "A notebook to devise the code to write the velocity data structures to the DB"
     ]
    },
    {
     "cell_type": "code",
     "collapsed": false,
     "input": [
      "from matplotlib import pyplot as plt\n",
      "import numpy as np\n",
      "import pandas as pd\n",
      "import idlToPandas.idlToPandas as itp\n",
      "from pyutil import connectChironDB as ccdb\n",
      "import subprocess\n",
      "import re"
     ],
     "language": "python",
     "metadata": {},
     "outputs": [],
     "prompt_number": 1
    },
    {
     "cell_type": "code",
     "collapsed": false,
     "input": [
      "%matplotlib inline\n",
      "%load_ext autoreload\n",
      "%autoreload 2"
     ],
     "language": "python",
     "metadata": {},
     "outputs": [],
     "prompt_number": 2
    },
    {
     "cell_type": "code",
     "collapsed": false,
     "input": [
      "star = '10700'\n",
      "tag = 'a'\n",
      "cmd = \"ls -1d /tous/mir7/vel/vd\"+star+\"/vd\"+tag+\"*\"\n",
      "filestring = subprocess.check_output(cmd, shell=True)\n",
      "#print(filestring)\n",
      "files = filestring.split('\\n')\n",
      "print(len(files))"
     ],
     "language": "python",
     "metadata": {},
     "outputs": [
      {
       "output_type": "stream",
       "stream": "stdout",
       "text": [
        "2405\n"
       ]
      }
     ],
     "prompt_number": 3
    },
    {
     "cell_type": "code",
     "collapsed": false,
     "input": [
      "print(files[0:2])"
     ],
     "language": "python",
     "metadata": {},
     "outputs": [
      {
       "output_type": "stream",
       "stream": "stdout",
       "text": [
        "['/tous/mir7/vel/vd10700/vda10700_achi120606.1193', '/tous/mir7/vel/vd10700/vda10700_achi120606.1194']\n"
       ]
      }
     ],
     "prompt_number": 49
    },
    {
     "cell_type": "code",
     "collapsed": false,
     "input": [
      "filename = files[0]\n",
      "vd = itp.idlToPandas(filename)"
     ],
     "language": "python",
     "metadata": {},
     "outputs": [],
     "prompt_number": 50
    },
    {
     "cell_type": "code",
     "collapsed": false,
     "input": [
      "#vd"
     ],
     "language": "python",
     "metadata": {},
     "outputs": [],
     "prompt_number": 45
    },
    {
     "cell_type": "code",
     "collapsed": false,
     "input": [
      "vd.dtypes"
     ],
     "language": "python",
     "metadata": {},
     "outputs": [
      {
       "metadata": {},
       "output_type": "pyout",
       "prompt_number": 51,
       "text": [
        "ORDT        int16\n",
        "ORDOB       int16\n",
        "PIXT        int16\n",
        "PIXOB       int16\n",
        "W0          int16\n",
        "WCOF       object\n",
        "ICOF       object\n",
        "SCOF       object\n",
        "CTS         int32\n",
        "SCAT      float32\n",
        "Z         float32\n",
        "ERRZ      float32\n",
        "FIT       float32\n",
        "IFIT      float32\n",
        "SFIT      float32\n",
        "NPIX        int16\n",
        "GPIX        int16\n",
        "VEL       float32\n",
        "IVEL      float32\n",
        "SVEL      float32\n",
        "WEIGHT    float32\n",
        "DEPTH     float32\n",
        "SP1       float32\n",
        "SP2       float32\n",
        "SPST       object\n",
        "IPARAM     object\n",
        "dtype: object"
       ]
      }
     ],
     "prompt_number": 51
    },
    {
     "cell_type": "code",
     "collapsed": false,
     "input": [
      "vd.loc[0:1]"
     ],
     "language": "python",
     "metadata": {},
     "outputs": [
      {
       "html": [
        "<div style=\"max-height:1000px;max-width:1500px;overflow:auto;\">\n",
        "<table border=\"1\" class=\"dataframe\">\n",
        "  <thead>\n",
        "    <tr style=\"text-align: right;\">\n",
        "      <th></th>\n",
        "      <th>ORDT</th>\n",
        "      <th>ORDOB</th>\n",
        "      <th>PIXT</th>\n",
        "      <th>PIXOB</th>\n",
        "      <th>W0</th>\n",
        "      <th>WCOF</th>\n",
        "      <th>ICOF</th>\n",
        "      <th>SCOF</th>\n",
        "      <th>CTS</th>\n",
        "      <th>SCAT</th>\n",
        "      <th>...</th>\n",
        "      <th>GPIX</th>\n",
        "      <th>VEL</th>\n",
        "      <th>IVEL</th>\n",
        "      <th>SVEL</th>\n",
        "      <th>WEIGHT</th>\n",
        "      <th>DEPTH</th>\n",
        "      <th>SP1</th>\n",
        "      <th>SP2</th>\n",
        "      <th>SPST</th>\n",
        "      <th>IPARAM</th>\n",
        "    </tr>\n",
        "  </thead>\n",
        "  <tbody>\n",
        "    <tr>\n",
        "      <th>0</th>\n",
        "      <td> 13</td>\n",
        "      <td> 13</td>\n",
        "      <td>  80</td>\n",
        "      <td>  83</td>\n",
        "      <td> 5030</td>\n",
        "      <td> [0.422996, 0.0188957, 0.0, 0.0]</td>\n",
        "      <td> [0.422283, 0.0189108, 0.0, 0.0]</td>\n",
        "      <td> [0.0, 0.0, 0.0, 0.0]</td>\n",
        "      <td> 4098</td>\n",
        "      <td> 0</td>\n",
        "      <td>...</td>\n",
        "      <td> 81</td>\n",
        "      <td> 27065.457031</td>\n",
        "      <td> 27037.763672</td>\n",
        "      <td> 0</td>\n",
        "      <td> 0.002055</td>\n",
        "      <td> 0</td>\n",
        "      <td> 0</td>\n",
        "      <td> 0</td>\n",
        "      <td> ?</td>\n",
        "      <td> [1.1, 0.015036, -0.0846864, 0.20032, -0.138004...</td>\n",
        "    </tr>\n",
        "    <tr>\n",
        "      <th>1</th>\n",
        "      <td> 13</td>\n",
        "      <td> 13</td>\n",
        "      <td> 160</td>\n",
        "      <td> 164</td>\n",
        "      <td> 5031</td>\n",
        "      <td> [0.952898, 0.0188639, 0.0, 0.0]</td>\n",
        "      <td> [0.952517, 0.0188638, 0.0, 0.0]</td>\n",
        "      <td> [0.0, 0.0, 0.0, 0.0]</td>\n",
        "      <td> 4771</td>\n",
        "      <td> 0</td>\n",
        "      <td>...</td>\n",
        "      <td> 79</td>\n",
        "      <td> 26749.187500</td>\n",
        "      <td> 26830.244141</td>\n",
        "      <td> 0</td>\n",
        "      <td> 0.000167</td>\n",
        "      <td> 0</td>\n",
        "      <td> 0</td>\n",
        "      <td> 0</td>\n",
        "      <td> ?</td>\n",
        "      <td> [1.1, -0.0224847, 0.0668148, -0.124048, 0.1328...</td>\n",
        "    </tr>\n",
        "  </tbody>\n",
        "</table>\n",
        "<p>2 rows \u00d7 26 columns</p>\n",
        "</div>"
       ],
       "metadata": {},
       "output_type": "pyout",
       "prompt_number": 52,
       "text": [
        "   ORDT  ORDOB  PIXT  PIXOB    W0                             WCOF  \\\n",
        "0    13     13    80     83  5030  [0.422996, 0.0188957, 0.0, 0.0]   \n",
        "1    13     13   160    164  5031  [0.952898, 0.0188639, 0.0, 0.0]   \n",
        "\n",
        "                              ICOF                  SCOF   CTS  SCAT  ...   \\\n",
        "0  [0.422283, 0.0189108, 0.0, 0.0]  [0.0, 0.0, 0.0, 0.0]  4098     0  ...    \n",
        "1  [0.952517, 0.0188638, 0.0, 0.0]  [0.0, 0.0, 0.0, 0.0]  4771     0  ...    \n",
        "\n",
        "   GPIX           VEL          IVEL  SVEL    WEIGHT  DEPTH  SP1  SP2  SPST  \\\n",
        "0    81  27065.457031  27037.763672     0  0.002055      0    0    0     ?   \n",
        "1    79  26749.187500  26830.244141     0  0.000167      0    0    0     ?   \n",
        "\n",
        "                                              IPARAM  \n",
        "0  [1.1, 0.015036, -0.0846864, 0.20032, -0.138004...  \n",
        "1  [1.1, -0.0224847, 0.0668148, -0.124048, 0.1328...  \n",
        "\n",
        "[2 rows x 26 columns]"
       ]
      }
     ],
     "prompt_number": 52
    },
    {
     "cell_type": "code",
     "collapsed": false,
     "input": [
      "vd['WCOF'].values[0:2]"
     ],
     "language": "python",
     "metadata": {},
     "outputs": [
      {
       "metadata": {},
       "output_type": "pyout",
       "prompt_number": 53,
       "text": [
        "array([ array([ 0.42299587,  0.0188957 ,  0.        ,  0.        ], dtype=float32),\n",
        "       array([ 0.95289826,  0.01886387,  0.        ,  0.        ], dtype=float32)], dtype=object)"
       ]
      }
     ],
     "prompt_number": 53
    },
    {
     "cell_type": "code",
     "collapsed": false,
     "input": [
      "vd['WCOF0'] = [x[0] for x in vd['WCOF'].values]\n",
      "vd['WCOF1'] = [x[1] for x in vd['WCOF'].values]\n",
      "vd['WCOF2'] = [x[2] for x in vd['WCOF'].values]\n",
      "vd['WCOF3'] = [x[3] for x in vd['WCOF'].values]"
     ],
     "language": "python",
     "metadata": {},
     "outputs": [],
     "prompt_number": 54
    },
    {
     "cell_type": "code",
     "collapsed": false,
     "input": [
      "vd = vd.drop('WCOF', 1)"
     ],
     "language": "python",
     "metadata": {},
     "outputs": [],
     "prompt_number": 55
    },
    {
     "cell_type": "code",
     "collapsed": false,
     "input": [
      "vd['ICOF0'] = [x[0] for x in vd['ICOF'].values]\n",
      "vd['ICOF1'] = [x[1] for x in vd['ICOF'].values]\n",
      "vd['ICOF2'] = [x[2] for x in vd['ICOF'].values]\n",
      "vd['ICOF3'] = [x[3] for x in vd['ICOF'].values]\n",
      "\n",
      "vd['SCOF0'] = [x[0] for x in vd['SCOF'].values]\n",
      "vd['SCOF1'] = [x[1] for x in vd['SCOF'].values]\n",
      "vd['SCOF2'] = [x[2] for x in vd['SCOF'].values]\n",
      "vd['SCOF3'] = [x[3] for x in vd['SCOF'].values]\n",
      "\n",
      "vd = vd.drop('ICOF', 1)\n",
      "vd = vd.drop('SCOF', 1)"
     ],
     "language": "python",
     "metadata": {},
     "outputs": [],
     "prompt_number": 56
    },
    {
     "cell_type": "code",
     "collapsed": false,
     "input": [
      "vd.loc[0]"
     ],
     "language": "python",
     "metadata": {},
     "outputs": [
      {
       "metadata": {},
       "output_type": "pyout",
       "prompt_number": 57,
       "text": [
        "ORDT                                                     13\n",
        "ORDOB                                                    13\n",
        "PIXT                                                     80\n",
        "PIXOB                                                    83\n",
        "W0                                                     5030\n",
        "CTS                                                    4098\n",
        "SCAT                                                      0\n",
        "Z                                              1.327704e-05\n",
        "ERRZ                                                      0\n",
        "FIT                                                1.065045\n",
        "IFIT                                              0.9980717\n",
        "SFIT                                                    100\n",
        "NPIX                                                     81\n",
        "GPIX                                                     81\n",
        "VEL                                                27065.46\n",
        "IVEL                                               27037.76\n",
        "SVEL                                                      0\n",
        "WEIGHT                                          0.002054846\n",
        "DEPTH                                                     0\n",
        "SP1                                                       0\n",
        "SP2                                                       0\n",
        "SPST                                                      ?\n",
        "IPARAM    [1.1, 0.015036, -0.0846864, 0.20032, -0.138004...\n",
        "WCOF0                                             0.4229959\n",
        "WCOF1                                             0.0188957\n",
        "WCOF2                                                     0\n",
        "WCOF3                                                     0\n",
        "ICOF0                                             0.4222825\n",
        "ICOF1                                            0.01891077\n",
        "ICOF2                                                     0\n",
        "ICOF3                                                     0\n",
        "SCOF0                                                     0\n",
        "SCOF1                                                     0\n",
        "SCOF2                                                     0\n",
        "SCOF3                                                     0\n",
        "Name: 0, dtype: object"
       ]
      }
     ],
     "prompt_number": 57
    },
    {
     "cell_type": "code",
     "collapsed": false,
     "input": [
      "vd['IPARAM00'] = [x[0] for x in vd['IPARAM'].values]\n",
      "vd['IPARAM01'] = [x[1] for x in vd['IPARAM'].values]\n",
      "vd['IPARAM02'] = [x[2] for x in vd['IPARAM'].values]\n",
      "vd['IPARAM03'] = [x[3] for x in vd['IPARAM'].values]\n",
      "vd['IPARAM04'] = [x[4] for x in vd['IPARAM'].values]\n",
      "vd['IPARAM05'] = [x[5] for x in vd['IPARAM'].values]\n",
      "vd['IPARAM06'] = [x[6] for x in vd['IPARAM'].values]\n",
      "vd['IPARAM07'] = [x[7] for x in vd['IPARAM'].values]\n",
      "vd['IPARAM08'] = [x[8] for x in vd['IPARAM'].values]\n",
      "vd['IPARAM09'] = [x[9] for x in vd['IPARAM'].values]\n",
      "vd['IPARAM10'] = [x[10] for x in vd['IPARAM'].values]\n",
      "vd['IPARAM11'] = [x[11] for x in vd['IPARAM'].values]\n",
      "vd['IPARAM12'] = [x[12] for x in vd['IPARAM'].values]\n",
      "vd['IPARAM13'] = [x[13] for x in vd['IPARAM'].values]\n",
      "vd['IPARAM14'] = [x[14] for x in vd['IPARAM'].values]\n",
      "vd['IPARAM15'] = [x[15] for x in vd['IPARAM'].values]\n",
      "vd['IPARAM16'] = [x[16] for x in vd['IPARAM'].values]\n",
      "vd['IPARAM17'] = [x[17] for x in vd['IPARAM'].values]\n",
      "vd['IPARAM18'] = [x[18] for x in vd['IPARAM'].values]\n",
      "vd['IPARAM19'] = [x[19] for x in vd['IPARAM'].values]\n",
      "#vd['IPARAM20'] = [x[20] for x in vd['IPARAM'].values]\n",
      "vd = vd.drop('IPARAM', 1)"
     ],
     "language": "python",
     "metadata": {},
     "outputs": [],
     "prompt_number": 58
    },
    {
     "cell_type": "code",
     "collapsed": false,
     "input": [
      "vd['vd_id'] = None\n",
      "vd['filename'] = filename"
     ],
     "language": "python",
     "metadata": {},
     "outputs": [],
     "prompt_number": 103
    },
    {
     "cell_type": "markdown",
     "metadata": {},
     "source": [
      "Now to get the observation_id. To do this, I'll use the regular expression python module to get the `obnm` from the filename, and then match the obnm in the observations table and extract the associated observation_id."
     ]
    },
    {
     "cell_type": "code",
     "collapsed": false,
     "input": [
      "filename"
     ],
     "language": "python",
     "metadata": {},
     "outputs": [
      {
       "metadata": {},
       "output_type": "pyout",
       "prompt_number": 85,
       "text": [
        "'/tous/mir7/vel/vd10700/vda10700_achi120606.1193'"
       ]
      }
     ],
     "prompt_number": 85
    },
    {
     "cell_type": "code",
     "collapsed": false,
     "input": [
      "obnm = re.search(r'achi[0-9]{6}.[0-9]{4}', filename).group(0)\n",
      "obnm"
     ],
     "language": "python",
     "metadata": {},
     "outputs": [
      {
       "metadata": {},
       "output_type": "pyout",
       "prompt_number": 94,
       "text": [
        "'achi120606.1193'"
       ]
      }
     ],
     "prompt_number": 94
    },
    {
     "cell_type": "code",
     "collapsed": false,
     "input": [
      "engine = ccdb.connectChironDB()"
     ],
     "language": "python",
     "metadata": {},
     "outputs": [],
     "prompt_number": 95
    },
    {
     "cell_type": "code",
     "collapsed": false,
     "input": [
      "cmd = \"SELECT observation_id FROM observations where obnm = '\"+obnm+\"';\""
     ],
     "language": "python",
     "metadata": {},
     "outputs": [],
     "prompt_number": 96
    },
    {
     "cell_type": "code",
     "collapsed": false,
     "input": [
      "obs_id = pd.read_sql_query(cmd, engine).values[0][0]\n",
      "print(obs_id)\n",
      "vd['observation_id'] = obs_id"
     ],
     "language": "python",
     "metadata": {},
     "outputs": [
      {
       "output_type": "stream",
       "stream": "stdout",
       "text": [
        "191350\n"
       ]
      }
     ],
     "prompt_number": 107
    },
    {
     "cell_type": "code",
     "collapsed": false,
     "input": [
      "vd.loc[0]"
     ],
     "language": "python",
     "metadata": {},
     "outputs": [
      {
       "metadata": {},
       "output_type": "pyout",
       "prompt_number": 108,
       "text": [
        "ORDT                                                           13\n",
        "ORDOB                                                          13\n",
        "PIXT                                                           80\n",
        "PIXOB                                                          83\n",
        "W0                                                           5030\n",
        "CTS                                                          4098\n",
        "SCAT                                                            0\n",
        "Z                                                    1.327704e-05\n",
        "ERRZ                                                            0\n",
        "FIT                                                      1.065045\n",
        "IFIT                                                    0.9980717\n",
        "SFIT                                                          100\n",
        "NPIX                                                           81\n",
        "GPIX                                                           81\n",
        "VEL                                                      27065.46\n",
        "IVEL                                                     27037.76\n",
        "SVEL                                                            0\n",
        "WEIGHT                                                0.002054846\n",
        "DEPTH                                                           0\n",
        "SP1                                                             0\n",
        "SP2                                                             0\n",
        "SPST                                                            ?\n",
        "WCOF0                                                   0.4229959\n",
        "WCOF1                                                   0.0188957\n",
        "WCOF2                                                           0\n",
        "WCOF3                                                           0\n",
        "ICOF0                                                   0.4222825\n",
        "ICOF1                                                  0.01891077\n",
        "ICOF2                                                           0\n",
        "ICOF3                                                           0\n",
        "SCOF0                                                           0\n",
        "SCOF1                                                           0\n",
        "SCOF2                                                           0\n",
        "SCOF3                                                           0\n",
        "IPARAM00                                                      1.1\n",
        "IPARAM01                                                 0.015036\n",
        "IPARAM02                                              -0.08468641\n",
        "IPARAM03                                                0.2003199\n",
        "IPARAM04                                               -0.1380045\n",
        "IPARAM05                                               -0.1684286\n",
        "IPARAM06                                              0.001944398\n",
        "IPARAM07                                               -0.2256618\n",
        "IPARAM08                                              -0.04733472\n",
        "IPARAM09                                               -0.1338105\n",
        "IPARAM10                                               -0.2679709\n",
        "IPARAM11                                                0.4222825\n",
        "IPARAM12                                             1.327704e-05\n",
        "IPARAM13                                               0.01891077\n",
        "IPARAM14                                                        0\n",
        "IPARAM15                                               0.02513623\n",
        "IPARAM16                                                0.1462249\n",
        "IPARAM17                                               -0.1395569\n",
        "IPARAM18                                               0.03396228\n",
        "IPARAM19                                                        0\n",
        "observation_id                                             191350\n",
        "vd_id                                                        None\n",
        "filename          /tous/mir7/vel/vd10700/vda10700_achi120606.1193\n",
        "Name: 0, Length: 57, dtype: object"
       ]
      }
     ],
     "prompt_number": 108
    },
    {
     "cell_type": "markdown",
     "metadata": {},
     "source": [
      "Now to wrap it all together."
     ]
    },
    {
     "cell_type": "code",
     "collapsed": false,
     "input": [
      "star = '10700'\n",
      "tag = 'a'"
     ],
     "language": "python",
     "metadata": {},
     "outputs": []
    },
    {
     "cell_type": "code",
     "collapsed": false,
     "input": [
      "def addVds(star, tag, startnum=0):\n",
      "    \"\"\"\n",
      "    PURPOSE: To add all the vd files for a given tag and star name to the DB.\n",
      "    \"\"\"\n",
      "\n",
      "    #list all files \n",
      "    cmd = \"ls -1d /tous/mir7/vel/vd\"+star+\"/vd\"+tag+\"*\"\n",
      "    filestring = subprocess.check_output(cmd, shell=True)\n",
      "    files = filestring.split('\\n')\n",
      "    files = files[startnum:-1]\n",
      "    \n",
      "    #loop through files, restoring each one and adding it\n",
      "    #to the database:\n",
      "    for idx, fname in enumerate(files):\n",
      "        print('{0} of {1}: {2}'.format(idx, len(files), fname))\n",
      "        #restore file and write it \n",
      "        #to a pandas dataFrame:\n",
      "        vd = itp.idlToPandas(fname)\n",
      "        \n",
      "        #now convert arrays within DF to separate\n",
      "        #columns to be written to the DB:\n",
      "        vd['WCOF0'] = [x[0] for x in vd['WCOF'].values]\n",
      "        vd['WCOF1'] = [x[1] for x in vd['WCOF'].values]\n",
      "        vd['WCOF2'] = [x[2] for x in vd['WCOF'].values]\n",
      "        vd['WCOF3'] = [x[3] for x in vd['WCOF'].values]\n",
      "\n",
      "        vd['ICOF0'] = [x[0] for x in vd['ICOF'].values]\n",
      "        vd['ICOF1'] = [x[1] for x in vd['ICOF'].values]\n",
      "        vd['ICOF2'] = [x[2] for x in vd['ICOF'].values]\n",
      "        vd['ICOF3'] = [x[3] for x in vd['ICOF'].values]\n",
      "\n",
      "        vd['SCOF0'] = [x[0] for x in vd['SCOF'].values]\n",
      "        vd['SCOF1'] = [x[1] for x in vd['SCOF'].values]\n",
      "        vd['SCOF2'] = [x[2] for x in vd['SCOF'].values]\n",
      "        vd['SCOF3'] = [x[3] for x in vd['SCOF'].values]\n",
      "\n",
      "        vd['IPARAM00'] = [x[0] for x in vd['IPARAM'].values]\n",
      "        vd['IPARAM01'] = [x[1] for x in vd['IPARAM'].values]\n",
      "        vd['IPARAM02'] = [x[2] for x in vd['IPARAM'].values]\n",
      "        vd['IPARAM03'] = [x[3] for x in vd['IPARAM'].values]\n",
      "        vd['IPARAM04'] = [x[4] for x in vd['IPARAM'].values]\n",
      "        vd['IPARAM05'] = [x[5] for x in vd['IPARAM'].values]\n",
      "        vd['IPARAM06'] = [x[6] for x in vd['IPARAM'].values]\n",
      "        vd['IPARAM07'] = [x[7] for x in vd['IPARAM'].values]\n",
      "        vd['IPARAM08'] = [x[8] for x in vd['IPARAM'].values]\n",
      "        vd['IPARAM09'] = [x[9] for x in vd['IPARAM'].values]\n",
      "        vd['IPARAM10'] = [x[10] for x in vd['IPARAM'].values]\n",
      "        vd['IPARAM11'] = [x[11] for x in vd['IPARAM'].values]\n",
      "        vd['IPARAM12'] = [x[12] for x in vd['IPARAM'].values]\n",
      "        vd['IPARAM13'] = [x[13] for x in vd['IPARAM'].values]\n",
      "        vd['IPARAM14'] = [x[14] for x in vd['IPARAM'].values]\n",
      "        vd['IPARAM15'] = [x[15] for x in vd['IPARAM'].values]\n",
      "        vd['IPARAM16'] = [x[16] for x in vd['IPARAM'].values]\n",
      "        vd['IPARAM17'] = [x[17] for x in vd['IPARAM'].values]\n",
      "        vd['IPARAM18'] = [x[18] for x in vd['IPARAM'].values]\n",
      "        vd['IPARAM19'] = [x[19] for x in vd['IPARAM'].values]\n",
      "\n",
      "        #delete array columns\n",
      "        vd = vd.drop('WCOF', 1)\n",
      "        vd = vd.drop('ICOF', 1)\n",
      "        vd = vd.drop('SCOF', 1)\n",
      "        vd = vd.drop('IPARAM', 1)\n",
      "\n",
      "        #create the vd_id. This will be auto-indexed if \n",
      "        #set to None\n",
      "        vd['vd_id'] = None\n",
      "        #create other columns\n",
      "        vd['filename'] = fname\n",
      "        vd['tag'] = tag\n",
      "\n",
      "        #extract the obnm from the filename (e.g. achi131009.2137)\n",
      "        #this will be used to get the observation_id from the \n",
      "        #observations table.\n",
      "        obnm = re.search(r'achi[0-9]{6}.[0-9]{4}', fname).group(0)\n",
      "\n",
      "        #now connect to the CHIRON MySQL DB, and get the observation_id\n",
      "        #associated with this observation.\n",
      "        engine = ccdb.connectChironDB()\n",
      "        cmd = \"SELECT observation_id FROM observations where obnm = '\"+obnm+\"';\"\n",
      "        observation_id = pd.read_sql_query(cmd, engine).values\n",
      "\n",
      "        if observation_id.size > 0:\n",
      "            vd['observation_id'] = observation_id[0][0]\n",
      "            #lastly, write the results to the DB:\n",
      "            vd.to_sql('vds', engine, if_exists='append', index=False)\n",
      "        else:\n",
      "            print('Observation {} is not in the DB.'.format(obnm))        \n"
     ],
     "language": "python",
     "metadata": {},
     "outputs": [],
     "prompt_number": 35
    },
    {
     "cell_type": "code",
     "collapsed": false,
     "input": [
      "addVds(star, tag)"
     ],
     "language": "python",
     "metadata": {},
     "outputs": [],
     "prompt_number": 120
    }
   ],
   "metadata": {}
  }
 ]
}