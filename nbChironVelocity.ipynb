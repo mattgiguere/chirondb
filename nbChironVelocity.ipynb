{
 "metadata": {
  "name": "",
  "signature": "sha256:462af97555ea22b8652381632486de497d7601293745b7ac84e89e6767104dc8"
 },
 "nbformat": 3,
 "nbformat_minor": 0,
 "worksheets": [
  {
   "cells": [
    {
     "cell_type": "heading",
     "level": 3,
     "metadata": {},
     "source": [
      "CHIRON Velocity Notebook"
     ]
    },
    {
     "cell_type": "markdown",
     "metadata": {},
     "source": [
      "This notebook debugs the code necessary to run the chironVelocity.py routine. chironVelocity.py reads in a vst, stores it as a pandas DataFrame, and the writes it to the chiron MySQL database."
     ]
    },
    {
     "cell_type": "code",
     "collapsed": false,
     "input": [
      "import sys\n",
      "import argparse\n",
      "import subprocess\n",
      "\n",
      "try:\n",
      "    from idlToPandas import *\n",
      "except:\n",
      "    print(\"You need to install idlToPandas\")\n",
      "    sys.exit(1)\n",
      "\n",
      "try:\n",
      "    import pymysql\n",
      "except:\n",
      "    print('You need pymysql installed')\n",
      "    sys.exit(1)\n",
      "\n",
      "try:\n",
      "    import pandas as pd\n",
      "except:\n",
      "    print('You need pandas installed')\n",
      "    sys.exit(1)\n",
      "\n"
     ],
     "language": "python",
     "metadata": {},
     "outputs": [],
     "prompt_number": 34
    },
    {
     "cell_type": "code",
     "collapsed": false,
     "input": [
      "def getTables(tableNames, tableFileNames):\n",
      "    \"\"\"This routine reads in the tables and stores them as\n",
      "       pandas dataFrames within a python dictionary.\"\"\"\n",
      "    tableDict = {}\n",
      "    for idx in range(len(tableNames)):\n",
      "        #print('Now adding table ' + self.tableNames[idx])\n",
      "        newTable = pd.read_csv(tableFileNames[idx])\n",
      "        #newTable.columns = ['fieldName', 'variableType', 'obsValue']\n",
      "        newTable['obsValue'] = 'NULL'\n",
      "        tableDict[tableNames[idx]] = newTable\n",
      "    return tableDict\n",
      "\n",
      "\n",
      "def getSqlTable(tableName):\n",
      "    \"\"\"This routine will retrieve the fields and \n",
      "    variable types of the table of interest.\"\"\"\n",
      "\n",
      "\n",
      "def getAeroDir():\n",
      "    cmd = 'echo $AeroFSdir'\n",
      "    #read in the AeroFSdir string and\n",
      "    adir = subprocess.check_output(cmd, shell=True)\n",
      "    #chop off the newline character at the end\n",
      "    adir = adir[0:len(adir)-1]\n",
      "    return adir\n",
      "\n",
      "\n",
      "def connectChironDB():\n",
      "    \"\"\"connect to the database\"\"\"\n",
      "    #retrieve credentials:\n",
      "    cmd = 'echo $AeroFSdir'\n",
      "    credsf = open(cdir+'.credentials/SQL/csaye', 'r')\n",
      "    creds = credsf.read().split('\\n')\n",
      "    conn = pymysql.connect(host=creds[0],\n",
      "                           port=int(creds[1]),\n",
      "                           user=creds[2],\n",
      "                           passwd=creds[3],\n",
      "                           db=creds[4])\n",
      "    #cur = conn.cursor()\n",
      "    return conn\n",
      "\n",
      "\n",
      "def createInsertCmd():\n",
      "    \"\"\"This routine will create the command needed to add\n",
      "    the velocity structure information to the database.\"\"\"\n",
      "    cmd = \"INSERT INTO \"+tidx+\" (\"\n",
      "    for nidx in range(len(self.tableDict[tidx]['obsValue'])):\n",
      "        colNames.append(self.tableDict[tidx].loc[nidx, 'fieldName'])\n",
      "        newObsVal = str(self.tableDict[tidx].loc[nidx, 'obsValue'])\n",
      "        #add quotes to strings, otherwise MySQL will reject it:\n",
      "        varType = self.tableDict[tidx].loc[nidx, 'variableType'].strip()[0:3]\n",
      "        if (varType == 'var'):\n",
      "            newObsVal = \"'\"+newObsVal+\"'\"\n",
      "        obsVals.append(newObsVal)\n",
      "\n",
      "    #now finish up the command to INSERT the observation:\n",
      "    cmd += \", \".join(colNames) + \") VALUES (\" + \", \".join(obsVals)+\")\"\n",
      "    print(cmd)\n",
      "    return cmd\n"
     ],
     "language": "python",
     "metadata": {},
     "outputs": [],
     "prompt_number": 35
    },
    {
     "cell_type": "code",
     "collapsed": false,
     "input": [
      "def chironVelocity(fileName, path=''):\n",
      "    \"\"\"PURPOSE: To restore a CHIRON velocity structure and add the\n",
      "                contents to the database\"\"\"\n",
      "\n",
      "    vstTableNames = ['velocities', 'psfs']\n",
      "    vstTableFileNames = ['tables/VelocityTable.txt', 'tables/PsfTable.txt']\n",
      "    tableDict = getTables(vstTableNames, vstTableFileNames)\n",
      "    pdf = idlToPandas(path+fileName)\n",
      "    for row in range(pdf.shape[0]):\n",
      "        rowobnm = pdf.OBNM[row]\n",
      "\n",
      "        #create the command that will retrieve the proper observation\n",
      "        #id for adding the observation to the velocity and psf tables\n",
      "        cmd = \"SELECT observation_id FROM observations WHERE obnm = '\" + str(rowobnm) + \"'\"\n",
      "        #now connect to the chiron database and get the observation id\n",
      "        conn = connectChironDB()\n",
      "        cur = conn.cursor()\n",
      "        cur.execute(cmd)\n",
      "        rowObsId = cur.fetchall()\n"
     ],
     "language": "python",
     "metadata": {},
     "outputs": [],
     "prompt_number": 36
    },
    {
     "cell_type": "code",
     "collapsed": false,
     "input": [
      "vstTableNames = ['velocities', 'psfs']\n",
      "vstTableFileNames = ['tables/VelocityTable.txt', 'tables/PsfTable.txt']\n",
      "tableDict = getTables(vstTableNames, vstTableFileNames)"
     ],
     "language": "python",
     "metadata": {},
     "outputs": [],
     "prompt_number": 37
    },
    {
     "cell_type": "code",
     "collapsed": false,
     "input": [
      "adir = getAeroDir()\n",
      "print(adir)\n",
      "path = adir+'data/CHIRPS/rvs/'\n",
      "fileName = 'vst10700.dat'\n",
      "#pdf = idlToPandas.idlToPandas(path+fileName)"
     ],
     "language": "python",
     "metadata": {},
     "outputs": [
      {
       "output_type": "stream",
       "stream": "stdout",
       "text": [
        "/Users/matt/AeroFS/\n"
       ]
      }
     ],
     "prompt_number": 40
    },
    {
     "cell_type": "code",
     "collapsed": false,
     "input": [
      "import idlToPandas"
     ],
     "language": "python",
     "metadata": {},
     "outputs": [],
     "prompt_number": 24
    },
    {
     "cell_type": "code",
     "collapsed": false,
     "input": [
      "pdf = idlToPandas(path+fileName)"
     ],
     "language": "python",
     "metadata": {},
     "outputs": [
      {
       "ename": "NameError",
       "evalue": "name 'path' is not defined",
       "output_type": "pyerr",
       "traceback": [
        "\u001b[0;31m---------------------------------------------------------------------------\u001b[0m\n\u001b[0;31mNameError\u001b[0m                                 Traceback (most recent call last)",
        "\u001b[0;32m<ipython-input-25-be550607b554>\u001b[0m in \u001b[0;36m<module>\u001b[0;34m()\u001b[0m\n\u001b[0;32m----> 1\u001b[0;31m \u001b[0mpdf\u001b[0m \u001b[0;34m=\u001b[0m \u001b[0midlToPandas\u001b[0m\u001b[0;34m(\u001b[0m\u001b[0mpath\u001b[0m\u001b[0;34m+\u001b[0m\u001b[0mfileName\u001b[0m\u001b[0;34m)\u001b[0m\u001b[0;34m\u001b[0m\u001b[0m\n\u001b[0m",
        "\u001b[0;31mNameError\u001b[0m: name 'path' is not defined"
       ]
      }
     ],
     "prompt_number": 25
    },
    {
     "cell_type": "code",
     "collapsed": false,
     "input": [],
     "language": "python",
     "metadata": {},
     "outputs": []
    }
   ],
   "metadata": {}
  }
 ]
}