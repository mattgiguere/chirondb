{
 "metadata": {
  "name": "",
  "signature": "sha256:f916f153149953e5b865fd447cd0ecd1a46444d6523935eee759c2563180e1c1"
 },
 "nbformat": 3,
 "nbformat_minor": 0,
 "worksheets": [
  {
   "cells": [
    {
     "cell_type": "heading",
     "level": 3,
     "metadata": {},
     "source": [
      "CHIRON Velocity Notebook"
     ]
    },
    {
     "cell_type": "markdown",
     "metadata": {},
     "source": [
      "This notebook debugs the code necessary to run the chironVelocity.py routine. chironVelocity.py reads in a vst, stores it as a pandas DataFrame, and the writes it to the chiron MySQL database."
     ]
    },
    {
     "cell_type": "code",
     "collapsed": false,
     "input": [
      "import sys\n",
      "import argparse\n",
      "import subprocess\n",
      "\n",
      "try:\n",
      "    from idlToPandas import *\n",
      "except:\n",
      "    print(\"You need to install idlToPandas\")\n",
      "    sys.exit(1)\n",
      "\n",
      "try:\n",
      "    import pymysql\n",
      "except:\n",
      "    print('You need pymysql installed')\n",
      "    sys.exit(1)\n",
      "\n",
      "try:\n",
      "    import pandas as pd\n",
      "except:\n",
      "    print('You need pandas installed')\n",
      "    sys.exit(1)\n",
      "\n",
      "try:\n",
      "    import numpy as np\n",
      "except:\n",
      "    print('You need numpy installed')\n",
      "    sys.exit(1)\n",
      "\n"
     ],
     "language": "python",
     "metadata": {},
     "outputs": [],
     "prompt_number": 1
    },
    {
     "cell_type": "code",
     "collapsed": false,
     "input": [
      "def sqlObsExists(obsid, tableName):\n",
      "    \"\"\"This routine will check to see if the observation already exists in\n",
      "    the SQL tables. This is necessary in order to determine if we should\n",
      "    UPDATE an existing line, or INSERT a new one.\"\"\"\n",
      "    cmd = \"SELECT * FROM \" + tableName\n",
      "    cmd += \" WHERE observation_id = \" + str(obsid)\n",
      "\n",
      "    #connect to the chiron database\n",
      "    conn = connectChironDB()\n",
      "    cur = conn.cursor()\n",
      "\n",
      "    cur.execute(cmd)\n",
      "    obnms = cur.fetchall()\n",
      "    return len(obnms) > 0\n",
      "\n",
      "\n",
      "def createInsertCmd(tableDict, tableName, update=False, obsid=-1):\n",
      "    \"\"\"This routine will create the command needed to INSERT or UPDATE\n",
      "    the velocities and psfs tables .\"\"\"\n",
      "    tblnm = tableName\n",
      "\n",
      "    if update is True:\n",
      "        print(\"This observation already existed in the DB. Now updating it!\")\n",
      "        if obsid < 0:\n",
      "            print(\"You need to enter the obsid.\")\n",
      "            return\n",
      "\n",
      "        cmd = \"UPDATE \" + tblnm + \" SET\"\n",
      "        for nidx in range(len(tableDict[tblnm]['obsValue'])):\n",
      "            colName = tableDict[tblnm].loc[nidx, 'fieldName']\n",
      "            newObsVal = str(tableDict[tblnm].loc[nidx, 'obsValue'])\n",
      "            #add quotes to strings, otherwise MySQL will reject it:\n",
      "            varType = tableDict[tblnm].loc[nidx, 'variableType'].strip()[0:3]\n",
      "            if (varType == 'var'):\n",
      "                newObsVal = \"'\"+newObsVal+\"'\"\n",
      "\n",
      "            if colName != 'velocity_id' and colName != 'psf_id':\n",
      "                cmd += \" \" + colName + \"=\" + newObsVal + \",\"\n",
      "\n",
      "        #remove the last comma and space:\n",
      "        cmd = cmd[:-1]\n",
      "\n",
      "        #now tack on the search criteria:\n",
      "        cmd += \" WHERE observation_id=\"+str(obsid)\n",
      "        print(cmd)\n",
      "\n",
      "    else:\n",
      "        colNames = []\n",
      "        obsVals = []\n",
      "        cmd = \"INSERT INTO \"+tblnm+\" (\"\n",
      "        for nidx in range(len(tableDict[tblnm]['obsValue'])):\n",
      "            colNames.append(tableDict[tblnm].loc[nidx, 'fieldName'])\n",
      "            newObsVal = str(tableDict[tblnm].loc[nidx, 'obsValue'])\n",
      "            #add quotes to strings, otherwise MySQL will reject it:\n",
      "            varType = tableDict[tblnm].loc[nidx, 'variableType'].strip()[0:3]\n",
      "            if (varType == 'var'):\n",
      "                newObsVal = \"'\"+newObsVal+\"'\"\n",
      "            obsVals.append(newObsVal)\n",
      "\n",
      "        #now finish up the command to INSERT the observation:\n",
      "        cmd += \", \".join(colNames) + \") VALUES (\" + \", \".join(obsVals)+\")\"\n",
      "\n",
      "    #print(cmd)\n",
      "    return cmd\n",
      "\n",
      "\n",
      "def getIdlToSqlMapping(mappingTableFileName):\n",
      "    \"\"\"This routine will retrieve the fields and\n",
      "    variable types of the table of interest.\"\"\"\n",
      "    mapping = pd.read_csv(mappingTableFileName)\n",
      "    return mapping\n",
      "\n",
      "\n",
      "def getTables(tableNames, tableFileNames):\n",
      "    \"\"\"This routine reads in the tables and stores them as\n",
      "       pandas dataFrames within a python dictionary.\"\"\"\n",
      "    tableDict = {}\n",
      "    for idx in range(len(tableNames)):\n",
      "        #print('Now adding table ' + self.tableNames[idx])\n",
      "        newTable = pd.read_csv(tableFileNames[idx])\n",
      "        #newTable.columns = ['fieldName', 'variableType', 'obsValue']\n",
      "        newTable['obsValue'] = 'NULL'\n",
      "        tableDict[tableNames[idx]] = newTable\n",
      "    return tableDict\n",
      "\n",
      "\n",
      "def getAeroDir():\n",
      "    cmd = 'echo $AeroFSdir'\n",
      "    #read in the AeroFSdir string and\n",
      "    adir = subprocess.check_output(cmd, shell=True)\n",
      "    #chop off the newline character at the end\n",
      "    adir = adir[0:len(adir)-1]\n",
      "    return adir\n",
      "\n",
      "\n",
      "def connectChironDB():\n",
      "    \"\"\"connect to the database\"\"\"\n",
      "    #retrieve credentials:\n",
      "    adir = getAeroDir()\n",
      "    credsf = open(adir+'.credentials/SQL/csaye', 'r')\n",
      "    creds = credsf.read().split('\\n')\n",
      "    conn = pymysql.connect(host=creds[0],\n",
      "                           port=int(creds[1]),\n",
      "                           user=creds[2],\n",
      "                           passwd=creds[3],\n",
      "                           db=creds[4])\n",
      "    #cur = conn.cursor()\n",
      "    return conn\n",
      "\n",
      "\n",
      "def getObservationIds(tableDict, pdf):\n",
      "    \"\"\"The purpose of this routine is to retrieve the observation_ids\n",
      "    from the database for all observations in the VST structures. It\n",
      "    will add the observation_ids as a new column in both the velocities\n",
      "    and psfs tables.\"\"\"\n",
      "\n",
      "    #connect to the chiron database\n",
      "    conn = connectChironDB()\n",
      "    cur = conn.cursor()\n",
      "\n",
      "    #now create a list of the OBNM names (e.g. 'achi140402.1234')\n",
      "    obnmlist = []\n",
      "    for row in range(pdf.shape[0]):\n",
      "        rowobnm = pdf.OBNM[row]\n",
      "        obnmlist.append(rowobnm)\n",
      "\n",
      "    print(\"pdf length: \"+str(len(pdf)))\n",
      "    print(\"obnm list length: \"+str(len(obnmlist)))\n",
      "    \n",
      "    #now join all the obnms together in one giant string\n",
      "    #for the WHERE query clause. Issuing one giant query\n",
      "    #instead of one for each observation reduces run time\n",
      "    #by as much as a factor of 10000:\n",
      "    obnmstring = \"' OR obnm = '\".join(obnmlist)\n",
      "\n",
      "    #create the command that will retrieve the proper observation\n",
      "    #ids for adding the observations to the velocity and psf tables\n",
      "    cmd = \"SELECT observation_id FROM observations WHERE obnm = '\"\n",
      "    cmd += str(obnmstring) + \"'\"\n",
      "\n",
      "    #execute the command and fetch the observation_ids:\n",
      "    cur.execute(cmd)\n",
      "    obsIds = cur.fetchall()\n",
      "    print(\"obsIds length: \"+str(len(obsIds)))\n",
      "    return obsIds\n"
     ],
     "language": "python",
     "metadata": {},
     "outputs": [],
     "prompt_number": 2
    },
    {
     "cell_type": "code",
     "collapsed": false,
     "input": [
      "def chironVelocity(fileName, path=''):\n",
      "    \"\"\"PURPOSE: To restore a CHIRON velocity structure and add the\n",
      "                contents to the database\"\"\"\n",
      "\n",
      "    vstTableNames = ['velocities', 'psfs']\n",
      "    vstTableFileNames = ['tables/VelocityTable.txt', 'tables/PsfTable.txt']\n",
      "    tableDict = getTables(vstTableNames, vstTableFileNames)\n",
      "    pdf = idlToPandas(path+fileName)\n",
      "    for row in range(pdf.shape[0]):\n",
      "        rowobnm = pdf.OBNM[row]\n",
      "\n",
      "        #create the command that will retrieve the proper observation\n",
      "        #id for adding the observation to the velocity and psf tables\n",
      "        cmd = \"SELECT observation_id FROM observations WHERE obnm = '\" + str(rowobnm) + \"'\"\n",
      "        #now connect to the chiron database and get the observation id\n",
      "        conn = connectChironDB()\n",
      "        cur = conn.cursor()\n",
      "        cur.execute(cmd)\n",
      "        rowObsId = cur.fetchall()\n"
     ],
     "language": "python",
     "metadata": {},
     "outputs": [],
     "prompt_number": 3
    },
    {
     "cell_type": "code",
     "collapsed": false,
     "input": [
      "vstTableNames = ['velocities', 'psfs']\n",
      "vstTableFileNames = ['tables/VelocityTable.txt', 'tables/PsfTable.txt']\n",
      "tableDict = getTables(vstTableNames, vstTableFileNames)"
     ],
     "language": "python",
     "metadata": {},
     "outputs": [],
     "prompt_number": 4
    },
    {
     "cell_type": "code",
     "collapsed": false,
     "input": [
      "adir = getAeroDir()\n",
      "path = adir+'data/CHIRPS/rvs/'\n",
      "fileName = 'vst22049.dat'\n",
      "#pdf = idlToPandas.idlToPandas(path+fileName)"
     ],
     "language": "python",
     "metadata": {},
     "outputs": [],
     "prompt_number": 5
    },
    {
     "cell_type": "code",
     "collapsed": false,
     "input": [
      "import idlToPandas"
     ],
     "language": "python",
     "metadata": {},
     "outputs": [],
     "prompt_number": 6
    },
    {
     "cell_type": "code",
     "collapsed": false,
     "input": [
      "pdf = idlToPandas.idlToPandas(path+fileName)"
     ],
     "language": "python",
     "metadata": {},
     "outputs": [],
     "prompt_number": 7
    },
    {
     "cell_type": "code",
     "collapsed": false,
     "input": [
      "pdf"
     ],
     "language": "python",
     "metadata": {},
     "outputs": [
      {
       "html": [
        "<div style=\"max-height:1000px;max-width:1500px;overflow:auto;\">\n",
        "<table border=\"1\" class=\"dataframe\">\n",
        "  <thead>\n",
        "    <tr style=\"text-align: right;\">\n",
        "      <th></th>\n",
        "      <th>OBNM</th>\n",
        "      <th>IODNM</th>\n",
        "      <th>BC</th>\n",
        "      <th>Z</th>\n",
        "      <th>JD</th>\n",
        "      <th>DEWAR</th>\n",
        "      <th>GAIN</th>\n",
        "      <th>CTS</th>\n",
        "      <th>MNVEL</th>\n",
        "      <th>MDVEL</th>\n",
        "      <th>MED_ALL</th>\n",
        "      <th>ERRVEL</th>\n",
        "      <th>MDCHI</th>\n",
        "      <th>NCHUNK</th>\n",
        "      <th>MDPAR</th>\n",
        "      <th>MNPAR</th>\n",
        "      <th>SP1</th>\n",
        "      <th>SP2</th>\n",
        "      <th>SPST</th>\n",
        "      <th>PHASE</th>\n",
        "      <th></th>\n",
        "    </tr>\n",
        "  </thead>\n",
        "  <tbody>\n",
        "    <tr>\n",
        "      <th>0 </th>\n",
        "      <td> achi120706.1147</td>\n",
        "      <td> ?</td>\n",
        "      <td> 22134.119141</td>\n",
        "      <td>-0.000066</td>\n",
        "      <td> 16115.918403</td>\n",
        "      <td> 50</td>\n",
        "      <td> 1.3</td>\n",
        "      <td>  9734</td>\n",
        "      <td>-25.180826</td>\n",
        "      <td>-23.375977</td>\n",
        "      <td> 2392.155762</td>\n",
        "      <td> 1.247489</td>\n",
        "      <td> 1.112528</td>\n",
        "      <td> 692</td>\n",
        "      <td> [0.0, 0.0, 0.0, 0.0, 0.0, 0.0, 0.0, 0.0, 0.0, ...</td>\n",
        "      <td> [0.0, 0.0, 0.0, 0.0, 0.0, 0.0, 0.0, 0.0, 0.0, ...</td>\n",
        "      <td> 0</td>\n",
        "      <td> 0</td>\n",
        "      <td> ?</td>\n",
        "      <td> 0</td>\n",
        "      <td>...</td>\n",
        "    </tr>\n",
        "    <tr>\n",
        "      <th>1 </th>\n",
        "      <td> achi120706.1148</td>\n",
        "      <td> ?</td>\n",
        "      <td> 22127.638672</td>\n",
        "      <td>-0.000066</td>\n",
        "      <td> 16115.922813</td>\n",
        "      <td> 50</td>\n",
        "      <td> 1.3</td>\n",
        "      <td> 12196</td>\n",
        "      <td>-25.635408</td>\n",
        "      <td>-22.795654</td>\n",
        "      <td> 2392.155762</td>\n",
        "      <td> 1.202716</td>\n",
        "      <td> 1.120136</td>\n",
        "      <td> 692</td>\n",
        "      <td> [0.0, 0.0, 0.0, 0.0, 0.0, 0.0, 0.0, 0.0, 0.0, ...</td>\n",
        "      <td> [0.0, 0.0, 0.0, 0.0, 0.0, 0.0, 0.0, 0.0, 0.0, ...</td>\n",
        "      <td> 0</td>\n",
        "      <td> 0</td>\n",
        "      <td> ?</td>\n",
        "      <td> 0</td>\n",
        "      <td>...</td>\n",
        "    </tr>\n",
        "    <tr>\n",
        "      <th>2 </th>\n",
        "      <td> achi120707.1178</td>\n",
        "      <td> ?</td>\n",
        "      <td> 22383.410156</td>\n",
        "      <td>-0.000067</td>\n",
        "      <td> 16116.904502</td>\n",
        "      <td> 50</td>\n",
        "      <td> 1.3</td>\n",
        "      <td>  9856</td>\n",
        "      <td>-29.379946</td>\n",
        "      <td>-27.379150</td>\n",
        "      <td> 2392.155762</td>\n",
        "      <td> 1.123506</td>\n",
        "      <td> 1.137078</td>\n",
        "      <td> 692</td>\n",
        "      <td> [0.0, 0.0, 0.0, 0.0, 0.0, 0.0, 0.0, 0.0, 0.0, ...</td>\n",
        "      <td> [0.0, 0.0, 0.0, 0.0, 0.0, 0.0, 0.0, 0.0, 0.0, ...</td>\n",
        "      <td> 0</td>\n",
        "      <td> 0</td>\n",
        "      <td> ?</td>\n",
        "      <td> 0</td>\n",
        "      <td>...</td>\n",
        "    </tr>\n",
        "    <tr>\n",
        "      <th>3 </th>\n",
        "      <td> achi120707.1179</td>\n",
        "      <td> ?</td>\n",
        "      <td> 22377.617188</td>\n",
        "      <td>-0.000067</td>\n",
        "      <td> 16116.908819</td>\n",
        "      <td> 50</td>\n",
        "      <td> 1.3</td>\n",
        "      <td> 10361</td>\n",
        "      <td>-24.511168</td>\n",
        "      <td>-24.113281</td>\n",
        "      <td> 2392.155762</td>\n",
        "      <td> 1.196066</td>\n",
        "      <td> 1.147485</td>\n",
        "      <td> 692</td>\n",
        "      <td> [0.0, 0.0, 0.0, 0.0, 0.0, 0.0, 0.0, 0.0, 0.0, ...</td>\n",
        "      <td> [0.0, 0.0, 0.0, 0.0, 0.0, 0.0, 0.0, 0.0, 0.0, ...</td>\n",
        "      <td> 0</td>\n",
        "      <td> 0</td>\n",
        "      <td> ?</td>\n",
        "      <td> 0</td>\n",
        "      <td>...</td>\n",
        "    </tr>\n",
        "    <tr>\n",
        "      <th>4 </th>\n",
        "      <td> achi120709.1188</td>\n",
        "      <td> ?</td>\n",
        "      <td> 22826.468750</td>\n",
        "      <td>-0.000068</td>\n",
        "      <td> 16118.904537</td>\n",
        "      <td> 50</td>\n",
        "      <td> 1.3</td>\n",
        "      <td> 14127</td>\n",
        "      <td> -6.685106</td>\n",
        "      <td> -4.916992</td>\n",
        "      <td> 2392.155762</td>\n",
        "      <td> 1.223933</td>\n",
        "      <td> 1.156717</td>\n",
        "      <td> 691</td>\n",
        "      <td> [0.0, 0.0, 0.0, 0.0, 0.0, 0.0, 0.0, 0.0, 0.0, ...</td>\n",
        "      <td> [0.0, 0.0, 0.0, 0.0, 0.0, 0.0, 0.0, 0.0, 0.0, ...</td>\n",
        "      <td> 0</td>\n",
        "      <td> 0</td>\n",
        "      <td> ?</td>\n",
        "      <td> 0</td>\n",
        "      <td>...</td>\n",
        "    </tr>\n",
        "    <tr>\n",
        "      <th>5 </th>\n",
        "      <td> achi120709.1189</td>\n",
        "      <td> ?</td>\n",
        "      <td> 22820.304688</td>\n",
        "      <td>-0.000068</td>\n",
        "      <td> 16118.908877</td>\n",
        "      <td> 50</td>\n",
        "      <td> 1.3</td>\n",
        "      <td> 14513</td>\n",
        "      <td> -9.139155</td>\n",
        "      <td> -8.238037</td>\n",
        "      <td> 2392.155762</td>\n",
        "      <td> 1.094492</td>\n",
        "      <td> 1.164041</td>\n",
        "      <td> 692</td>\n",
        "      <td> [0.0, 0.0, 0.0, 0.0, 0.0, 0.0, 0.0, 0.0, 0.0, ...</td>\n",
        "      <td> [0.0, 0.0, 0.0, 0.0, 0.0, 0.0, 0.0, 0.0, 0.0, ...</td>\n",
        "      <td> 0</td>\n",
        "      <td> 0</td>\n",
        "      <td> ?</td>\n",
        "      <td> 0</td>\n",
        "      <td>...</td>\n",
        "    </tr>\n",
        "    <tr>\n",
        "      <th>6 </th>\n",
        "      <td> achi120710.1158</td>\n",
        "      <td> ?</td>\n",
        "      <td> 22943.203125</td>\n",
        "      <td>-0.000069</td>\n",
        "      <td> 16119.959988</td>\n",
        "      <td> 50</td>\n",
        "      <td> 1.3</td>\n",
        "      <td> 15077</td>\n",
        "      <td> -6.589329</td>\n",
        "      <td> -6.014160</td>\n",
        "      <td> 2392.155762</td>\n",
        "      <td> 1.065146</td>\n",
        "      <td> 1.148929</td>\n",
        "      <td> 692</td>\n",
        "      <td> [0.0, 0.0, 0.0, 0.0, 0.0, 0.0, 0.0, 0.0, 0.0, ...</td>\n",
        "      <td> [0.0, 0.0, 0.0, 0.0, 0.0, 0.0, 0.0, 0.0, 0.0, ...</td>\n",
        "      <td> 0</td>\n",
        "      <td> 0</td>\n",
        "      <td> ?</td>\n",
        "      <td> 0</td>\n",
        "      <td>...</td>\n",
        "    </tr>\n",
        "    <tr>\n",
        "      <th>7 </th>\n",
        "      <td> achi120710.1159</td>\n",
        "      <td> ?</td>\n",
        "      <td> 22934.613281</td>\n",
        "      <td>-0.000069</td>\n",
        "      <td> 16119.964294</td>\n",
        "      <td> 50</td>\n",
        "      <td> 1.3</td>\n",
        "      <td> 15066</td>\n",
        "      <td> -7.603880</td>\n",
        "      <td> -2.713867</td>\n",
        "      <td> 2392.155762</td>\n",
        "      <td> 1.039255</td>\n",
        "      <td> 1.151758</td>\n",
        "      <td> 692</td>\n",
        "      <td> [0.0, 0.0, 0.0, 0.0, 0.0, 0.0, 0.0, 0.0, 0.0, ...</td>\n",
        "      <td> [0.0, 0.0, 0.0, 0.0, 0.0, 0.0, 0.0, 0.0, 0.0, ...</td>\n",
        "      <td> 0</td>\n",
        "      <td> 0</td>\n",
        "      <td> ?</td>\n",
        "      <td> 0</td>\n",
        "      <td>...</td>\n",
        "    </tr>\n",
        "    <tr>\n",
        "      <th>8 </th>\n",
        "      <td> achi120711.1164</td>\n",
        "      <td> ?</td>\n",
        "      <td> 23240.009766</td>\n",
        "      <td>-0.000070</td>\n",
        "      <td> 16120.907917</td>\n",
        "      <td> 50</td>\n",
        "      <td> 1.3</td>\n",
        "      <td>  7688</td>\n",
        "      <td> -2.126824</td>\n",
        "      <td> -2.455566</td>\n",
        "      <td> 2392.155762</td>\n",
        "      <td> 1.307299</td>\n",
        "      <td> 1.128319</td>\n",
        "      <td> 692</td>\n",
        "      <td> [0.0, 0.0, 0.0, 0.0, 0.0, 0.0, 0.0, 0.0, 0.0, ...</td>\n",
        "      <td> [0.0, 0.0, 0.0, 0.0, 0.0, 0.0, 0.0, 0.0, 0.0, ...</td>\n",
        "      <td> 0</td>\n",
        "      <td> 0</td>\n",
        "      <td> ?</td>\n",
        "      <td> 0</td>\n",
        "      <td>...</td>\n",
        "    </tr>\n",
        "    <tr>\n",
        "      <th>9 </th>\n",
        "      <td> achi120711.1165</td>\n",
        "      <td> ?</td>\n",
        "      <td> 23233.363281</td>\n",
        "      <td>-0.000070</td>\n",
        "      <td> 16120.912245</td>\n",
        "      <td> 50</td>\n",
        "      <td> 1.3</td>\n",
        "      <td>  7664</td>\n",
        "      <td> -3.968897</td>\n",
        "      <td> -2.306152</td>\n",
        "      <td> 2392.155762</td>\n",
        "      <td> 1.365925</td>\n",
        "      <td> 1.130087</td>\n",
        "      <td> 692</td>\n",
        "      <td> [0.0, 0.0, 0.0, 0.0, 0.0, 0.0, 0.0, 0.0, 0.0, ...</td>\n",
        "      <td> [0.0, 0.0, 0.0, 0.0, 0.0, 0.0, 0.0, 0.0, 0.0, ...</td>\n",
        "      <td> 0</td>\n",
        "      <td> 0</td>\n",
        "      <td> ?</td>\n",
        "      <td> 0</td>\n",
        "      <td>...</td>\n",
        "    </tr>\n",
        "    <tr>\n",
        "      <th>10</th>\n",
        "      <td> achi120712.1166</td>\n",
        "      <td> ?</td>\n",
        "      <td> 23424.615234</td>\n",
        "      <td>-0.000070</td>\n",
        "      <td> 16121.917292</td>\n",
        "      <td> 50</td>\n",
        "      <td> 1.3</td>\n",
        "      <td>  4614</td>\n",
        "      <td>  0.105727</td>\n",
        "      <td>  3.107910</td>\n",
        "      <td> 2392.155762</td>\n",
        "      <td> 1.527340</td>\n",
        "      <td> 1.140789</td>\n",
        "      <td> 692</td>\n",
        "      <td> [0.0, 0.0, 0.0, 0.0, 0.0, 0.0, 0.0, 0.0, 0.0, ...</td>\n",
        "      <td> [0.0, 0.0, 0.0, 0.0, 0.0, 0.0, 0.0, 0.0, 0.0, ...</td>\n",
        "      <td> 0</td>\n",
        "      <td> 0</td>\n",
        "      <td> ?</td>\n",
        "      <td> 0</td>\n",
        "      <td>...</td>\n",
        "    </tr>\n",
        "    <tr>\n",
        "      <th>11</th>\n",
        "      <td> achi120714.1170</td>\n",
        "      <td> ?</td>\n",
        "      <td> 23811.306641</td>\n",
        "      <td>-0.000071</td>\n",
        "      <td> 16123.912604</td>\n",
        "      <td> 50</td>\n",
        "      <td> 1.3</td>\n",
        "      <td>  9740</td>\n",
        "      <td>  6.122885</td>\n",
        "      <td>  9.859375</td>\n",
        "      <td> 2392.155762</td>\n",
        "      <td> 1.218543</td>\n",
        "      <td> 1.167439</td>\n",
        "      <td> 692</td>\n",
        "      <td> [0.0, 0.0, 0.0, 0.0, 0.0, 0.0, 0.0, 0.0, 0.0, ...</td>\n",
        "      <td> [0.0, 0.0, 0.0, 0.0, 0.0, 0.0, 0.0, 0.0, 0.0, ...</td>\n",
        "      <td> 0</td>\n",
        "      <td> 0</td>\n",
        "      <td> ?</td>\n",
        "      <td> 0</td>\n",
        "      <td>...</td>\n",
        "    </tr>\n",
        "    <tr>\n",
        "      <th>12</th>\n",
        "      <td> achi120714.1171</td>\n",
        "      <td> ?</td>\n",
        "      <td> 23803.929688</td>\n",
        "      <td>-0.000071</td>\n",
        "      <td> 16123.916956</td>\n",
        "      <td> 50</td>\n",
        "      <td> 1.3</td>\n",
        "      <td>  9866</td>\n",
        "      <td>  6.900227</td>\n",
        "      <td>  9.776123</td>\n",
        "      <td> 2392.155762</td>\n",
        "      <td> 1.299514</td>\n",
        "      <td> 1.184721</td>\n",
        "      <td> 692</td>\n",
        "      <td> [0.0, 0.0, 0.0, 0.0, 0.0, 0.0, 0.0, 0.0, 0.0, ...</td>\n",
        "      <td> [0.0, 0.0, 0.0, 0.0, 0.0, 0.0, 0.0, 0.0, 0.0, ...</td>\n",
        "      <td> 0</td>\n",
        "      <td> 0</td>\n",
        "      <td> ?</td>\n",
        "      <td> 0</td>\n",
        "      <td>...</td>\n",
        "    </tr>\n",
        "    <tr>\n",
        "      <th>13</th>\n",
        "      <td> achi120714.1172</td>\n",
        "      <td> ?</td>\n",
        "      <td> 23791.140625</td>\n",
        "      <td>-0.000071</td>\n",
        "      <td> 16123.924248</td>\n",
        "      <td> 50</td>\n",
        "      <td> 1.3</td>\n",
        "      <td>  9327</td>\n",
        "      <td>  9.618589</td>\n",
        "      <td> 11.677734</td>\n",
        "      <td> 2392.155762</td>\n",
        "      <td> 1.403847</td>\n",
        "      <td> 1.179808</td>\n",
        "      <td> 692</td>\n",
        "      <td> [0.0, 0.0, 0.0, 0.0, 0.0, 0.0, 0.0, 0.0, 0.0, ...</td>\n",
        "      <td> [0.0, 0.0, 0.0, 0.0, 0.0, 0.0, 0.0, 0.0, 0.0, ...</td>\n",
        "      <td> 0</td>\n",
        "      <td> 0</td>\n",
        "      <td> ?</td>\n",
        "      <td> 0</td>\n",
        "      <td>...</td>\n",
        "    </tr>\n",
        "    <tr>\n",
        "      <th>14</th>\n",
        "      <td> achi120714.1173</td>\n",
        "      <td> ?</td>\n",
        "      <td> 23783.154297</td>\n",
        "      <td>-0.000071</td>\n",
        "      <td> 16123.928657</td>\n",
        "      <td> 50</td>\n",
        "      <td> 1.3</td>\n",
        "      <td>  9115</td>\n",
        "      <td>  9.280445</td>\n",
        "      <td> 11.621338</td>\n",
        "      <td> 2392.155762</td>\n",
        "      <td> 1.422366</td>\n",
        "      <td> 1.187504</td>\n",
        "      <td> 692</td>\n",
        "      <td> [0.0, 0.0, 0.0, 0.0, 0.0, 0.0, 0.0, 0.0, 0.0, ...</td>\n",
        "      <td> [0.0, 0.0, 0.0, 0.0, 0.0, 0.0, 0.0, 0.0, 0.0, ...</td>\n",
        "      <td> 0</td>\n",
        "      <td> 0</td>\n",
        "      <td> ?</td>\n",
        "      <td> 0</td>\n",
        "      <td>...</td>\n",
        "    </tr>\n",
        "    <tr>\n",
        "      <th>15</th>\n",
        "      <td> achi120716.1176</td>\n",
        "      <td> ?</td>\n",
        "      <td> 24184.513672</td>\n",
        "      <td>-0.000073</td>\n",
        "      <td> 16125.899803</td>\n",
        "      <td> 50</td>\n",
        "      <td> 1.3</td>\n",
        "      <td> 11400</td>\n",
        "      <td>  0.844637</td>\n",
        "      <td>  4.992676</td>\n",
        "      <td> 2392.155762</td>\n",
        "      <td> 1.141196</td>\n",
        "      <td> 1.122010</td>\n",
        "      <td> 692</td>\n",
        "      <td> [0.0, 0.0, 0.0, 0.0, 0.0, 0.0, 0.0, 0.0, 0.0, ...</td>\n",
        "      <td> [0.0, 0.0, 0.0, 0.0, 0.0, 0.0, 0.0, 0.0, 0.0, ...</td>\n",
        "      <td> 0</td>\n",
        "      <td> 0</td>\n",
        "      <td> ?</td>\n",
        "      <td> 0</td>\n",
        "      <td>...</td>\n",
        "    </tr>\n",
        "    <tr>\n",
        "      <th>16</th>\n",
        "      <td> achi120716.1177</td>\n",
        "      <td> ?</td>\n",
        "      <td> 24177.246094</td>\n",
        "      <td>-0.000073</td>\n",
        "      <td> 16125.904259</td>\n",
        "      <td> 50</td>\n",
        "      <td> 1.3</td>\n",
        "      <td> 10632</td>\n",
        "      <td> -3.429864</td>\n",
        "      <td> -3.294189</td>\n",
        "      <td> 2392.155762</td>\n",
        "      <td> 1.161733</td>\n",
        "      <td> 1.118668</td>\n",
        "      <td> 692</td>\n",
        "      <td> [0.0, 0.0, 0.0, 0.0, 0.0, 0.0, 0.0, 0.0, 0.0, ...</td>\n",
        "      <td> [0.0, 0.0, 0.0, 0.0, 0.0, 0.0, 0.0, 0.0, 0.0, ...</td>\n",
        "      <td> 0</td>\n",
        "      <td> 0</td>\n",
        "      <td> ?</td>\n",
        "      <td> 0</td>\n",
        "      <td>...</td>\n",
        "    </tr>\n",
        "    <tr>\n",
        "      <th>17</th>\n",
        "      <td> achi120716.1178</td>\n",
        "      <td> ?</td>\n",
        "      <td> 24168.025391</td>\n",
        "      <td>-0.000073</td>\n",
        "      <td> 16125.909734</td>\n",
        "      <td> 50</td>\n",
        "      <td> 1.3</td>\n",
        "      <td> 10495</td>\n",
        "      <td> -3.998774</td>\n",
        "      <td> -1.958984</td>\n",
        "      <td> 2392.155762</td>\n",
        "      <td> 1.189063</td>\n",
        "      <td> 1.122320</td>\n",
        "      <td> 692</td>\n",
        "      <td> [0.0, 0.0, 0.0, 0.0, 0.0, 0.0, 0.0, 0.0, 0.0, ...</td>\n",
        "      <td> [0.0, 0.0, 0.0, 0.0, 0.0, 0.0, 0.0, 0.0, 0.0, ...</td>\n",
        "      <td> 0</td>\n",
        "      <td> 0</td>\n",
        "      <td> ?</td>\n",
        "      <td> 0</td>\n",
        "      <td>...</td>\n",
        "    </tr>\n",
        "    <tr>\n",
        "      <th>18</th>\n",
        "      <td> achi120716.1179</td>\n",
        "      <td> ?</td>\n",
        "      <td> 24160.515625</td>\n",
        "      <td>-0.000073</td>\n",
        "      <td> 16125.914062</td>\n",
        "      <td> 50</td>\n",
        "      <td> 1.3</td>\n",
        "      <td>  8084</td>\n",
        "      <td> -0.169361</td>\n",
        "      <td>  5.698486</td>\n",
        "      <td> 2392.155762</td>\n",
        "      <td> 1.421313</td>\n",
        "      <td> 1.118150</td>\n",
        "      <td> 692</td>\n",
        "      <td> [0.0, 0.0, 0.0, 0.0, 0.0, 0.0, 0.0, 0.0, 0.0, ...</td>\n",
        "      <td> [0.0, 0.0, 0.0, 0.0, 0.0, 0.0, 0.0, 0.0, 0.0, ...</td>\n",
        "      <td> 0</td>\n",
        "      <td> 0</td>\n",
        "      <td> ?</td>\n",
        "      <td> 0</td>\n",
        "      <td>...</td>\n",
        "    </tr>\n",
        "    <tr>\n",
        "      <th>19</th>\n",
        "      <td> achi120717.1163</td>\n",
        "      <td> ?</td>\n",
        "      <td> 24381.531250</td>\n",
        "      <td>-0.000073</td>\n",
        "      <td> 16126.879329</td>\n",
        "      <td> 50</td>\n",
        "      <td> 1.3</td>\n",
        "      <td>  8145</td>\n",
        "      <td>-12.922213</td>\n",
        "      <td> -9.334961</td>\n",
        "      <td> 2392.155762</td>\n",
        "      <td> 1.277353</td>\n",
        "      <td> 1.117568</td>\n",
        "      <td> 692</td>\n",
        "      <td> [0.0, 0.0, 0.0, 0.0, 0.0, 0.0, 0.0, 0.0, 0.0, ...</td>\n",
        "      <td> [0.0, 0.0, 0.0, 0.0, 0.0, 0.0, 0.0, 0.0, 0.0, ...</td>\n",
        "      <td> 0</td>\n",
        "      <td> 0</td>\n",
        "      <td> ?</td>\n",
        "      <td> 0</td>\n",
        "      <td>...</td>\n",
        "    </tr>\n",
        "    <tr>\n",
        "      <th>20</th>\n",
        "      <td> achi120717.1164</td>\n",
        "      <td> ?</td>\n",
        "      <td> 24375.195312</td>\n",
        "      <td>-0.000073</td>\n",
        "      <td> 16126.883750</td>\n",
        "      <td> 50</td>\n",
        "      <td> 1.3</td>\n",
        "      <td>  8279</td>\n",
        "      <td>-13.014706</td>\n",
        "      <td>-11.218994</td>\n",
        "      <td> 2392.155762</td>\n",
        "      <td> 1.277596</td>\n",
        "      <td> 1.125127</td>\n",
        "      <td> 692</td>\n",
        "      <td> [0.0, 0.0, 0.0, 0.0, 0.0, 0.0, 0.0, 0.0, 0.0, ...</td>\n",
        "      <td> [0.0, 0.0, 0.0, 0.0, 0.0, 0.0, 0.0, 0.0, 0.0, ...</td>\n",
        "      <td> 0</td>\n",
        "      <td> 0</td>\n",
        "      <td> ?</td>\n",
        "      <td> 0</td>\n",
        "      <td>...</td>\n",
        "    </tr>\n",
        "    <tr>\n",
        "      <th>21</th>\n",
        "      <td> achi120717.1165</td>\n",
        "      <td> ?</td>\n",
        "      <td> 24366.921875</td>\n",
        "      <td>-0.000073</td>\n",
        "      <td> 16126.889294</td>\n",
        "      <td> 50</td>\n",
        "      <td> 1.3</td>\n",
        "      <td>  8902</td>\n",
        "      <td> -9.951888</td>\n",
        "      <td> -6.429932</td>\n",
        "      <td> 2392.155762</td>\n",
        "      <td> 1.269262</td>\n",
        "      <td> 1.115394</td>\n",
        "      <td> 692</td>\n",
        "      <td> [0.0, 0.0, 0.0, 0.0, 0.0, 0.0, 0.0, 0.0, 0.0, ...</td>\n",
        "      <td> [0.0, 0.0, 0.0, 0.0, 0.0, 0.0, 0.0, 0.0, 0.0, ...</td>\n",
        "      <td> 0</td>\n",
        "      <td> 0</td>\n",
        "      <td> ?</td>\n",
        "      <td> 0</td>\n",
        "      <td>...</td>\n",
        "    </tr>\n",
        "    <tr>\n",
        "      <th>22</th>\n",
        "      <td> achi120717.1166</td>\n",
        "      <td> ?</td>\n",
        "      <td> 24360.083984</td>\n",
        "      <td>-0.000073</td>\n",
        "      <td> 16126.893704</td>\n",
        "      <td> 50</td>\n",
        "      <td> 1.3</td>\n",
        "      <td>  8502</td>\n",
        "      <td>-18.248947</td>\n",
        "      <td>-16.913574</td>\n",
        "      <td> 2392.155762</td>\n",
        "      <td> 1.337398</td>\n",
        "      <td> 1.120282</td>\n",
        "      <td> 692</td>\n",
        "      <td> [0.0, 0.0, 0.0, 0.0, 0.0, 0.0, 0.0, 0.0, 0.0, ...</td>\n",
        "      <td> [0.0, 0.0, 0.0, 0.0, 0.0, 0.0, 0.0, 0.0, 0.0, ...</td>\n",
        "      <td> 0</td>\n",
        "      <td> 0</td>\n",
        "      <td> ?</td>\n",
        "      <td> 0</td>\n",
        "      <td>...</td>\n",
        "    </tr>\n",
        "    <tr>\n",
        "      <th>23</th>\n",
        "      <td> achi120720.1185</td>\n",
        "      <td> ?</td>\n",
        "      <td> 24728.257812</td>\n",
        "      <td>-0.000075</td>\n",
        "      <td> 16129.938785</td>\n",
        "      <td> 51</td>\n",
        "      <td> 1.3</td>\n",
        "      <td>  6206</td>\n",
        "      <td>-11.427857</td>\n",
        "      <td> -7.646240</td>\n",
        "      <td> 2392.155762</td>\n",
        "      <td> 1.478972</td>\n",
        "      <td> 1.125061</td>\n",
        "      <td> 692</td>\n",
        "      <td> [0.0, 0.0, 0.0, 0.0, 0.0, 0.0, 0.0, 0.0, 0.0, ...</td>\n",
        "      <td> [0.0, 0.0, 0.0, 0.0, 0.0, 0.0, 0.0, 0.0, 0.0, ...</td>\n",
        "      <td> 0</td>\n",
        "      <td> 0</td>\n",
        "      <td> ?</td>\n",
        "      <td> 0</td>\n",
        "      <td>...</td>\n",
        "    </tr>\n",
        "    <tr>\n",
        "      <th>24</th>\n",
        "      <td> achi120720.1186</td>\n",
        "      <td> ?</td>\n",
        "      <td> 24719.798828</td>\n",
        "      <td>-0.000074</td>\n",
        "      <td> 16129.942801</td>\n",
        "      <td> 51</td>\n",
        "      <td> 1.3</td>\n",
        "      <td>  3589</td>\n",
        "      <td> -4.629717</td>\n",
        "      <td> -2.060059</td>\n",
        "      <td> 2392.155762</td>\n",
        "      <td> 2.031921</td>\n",
        "      <td> 1.156895</td>\n",
        "      <td> 692</td>\n",
        "      <td> [0.0, 0.0, 0.0, 0.0, 0.0, 0.0, 0.0, 0.0, 0.0, ...</td>\n",
        "      <td> [0.0, 0.0, 0.0, 0.0, 0.0, 0.0, 0.0, 0.0, 0.0, ...</td>\n",
        "      <td> 0</td>\n",
        "      <td> 0</td>\n",
        "      <td> ?</td>\n",
        "      <td> 0</td>\n",
        "      <td>...</td>\n",
        "    </tr>\n",
        "    <tr>\n",
        "      <th>25</th>\n",
        "      <td> achi120722.1156</td>\n",
        "      <td> ?</td>\n",
        "      <td> 25048.371094</td>\n",
        "      <td>-0.000076</td>\n",
        "      <td> 16131.910440</td>\n",
        "      <td> 51</td>\n",
        "      <td> 1.3</td>\n",
        "      <td>  6224</td>\n",
        "      <td> -5.148229</td>\n",
        "      <td> -5.031250</td>\n",
        "      <td> 2392.155762</td>\n",
        "      <td> 1.606675</td>\n",
        "      <td> 1.139068</td>\n",
        "      <td> 692</td>\n",
        "      <td> [0.0, 0.0, 0.0, 0.0, 0.0, 0.0, 0.0, 0.0, 0.0, ...</td>\n",
        "      <td> [0.0, 0.0, 0.0, 0.0, 0.0, 0.0, 0.0, 0.0, 0.0, ...</td>\n",
        "      <td> 0</td>\n",
        "      <td> 0</td>\n",
        "      <td> ?</td>\n",
        "      <td> 0</td>\n",
        "      <td>...</td>\n",
        "    </tr>\n",
        "    <tr>\n",
        "      <th>26</th>\n",
        "      <td> achi120722.1157</td>\n",
        "      <td> ?</td>\n",
        "      <td> 25039.351562</td>\n",
        "      <td>-0.000076</td>\n",
        "      <td> 16131.915081</td>\n",
        "      <td> 51</td>\n",
        "      <td> 1.3</td>\n",
        "      <td>  4897</td>\n",
        "      <td>-10.639183</td>\n",
        "      <td> -7.284424</td>\n",
        "      <td> 2392.155762</td>\n",
        "      <td> 1.785284</td>\n",
        "      <td> 1.150144</td>\n",
        "      <td> 692</td>\n",
        "      <td> [0.0, 0.0, 0.0, 0.0, 0.0, 0.0, 0.0, 0.0, 0.0, ...</td>\n",
        "      <td> [0.0, 0.0, 0.0, 0.0, 0.0, 0.0, 0.0, 0.0, 0.0, ...</td>\n",
        "      <td> 0</td>\n",
        "      <td> 0</td>\n",
        "      <td> ?</td>\n",
        "      <td> 0</td>\n",
        "      <td>...</td>\n",
        "    </tr>\n",
        "    <tr>\n",
        "      <th>27</th>\n",
        "      <td> achi120723.1166</td>\n",
        "      <td> ?</td>\n",
        "      <td> 25110.759766</td>\n",
        "      <td>-0.000076</td>\n",
        "      <td> 16132.938611</td>\n",
        "      <td> 51</td>\n",
        "      <td> 1.3</td>\n",
        "      <td> 32355</td>\n",
        "      <td> -8.624544</td>\n",
        "      <td> -5.245605</td>\n",
        "      <td> 2392.155762</td>\n",
        "      <td> 1.037236</td>\n",
        "      <td> 1.156018</td>\n",
        "      <td> 691</td>\n",
        "      <td> [0.0, 0.0, 0.0, 0.0, 0.0, 0.0, 0.0, 0.0, 0.0, ...</td>\n",
        "      <td> [0.0, 0.0, 0.0, 0.0, 0.0, 0.0, 0.0, 0.0, 0.0, ...</td>\n",
        "      <td> 0</td>\n",
        "      <td> 0</td>\n",
        "      <td> ?</td>\n",
        "      <td> 0</td>\n",
        "      <td>...</td>\n",
        "    </tr>\n",
        "    <tr>\n",
        "      <th>28</th>\n",
        "      <td> achi120723.1167</td>\n",
        "      <td> ?</td>\n",
        "      <td> 25101.339844</td>\n",
        "      <td>-0.000076</td>\n",
        "      <td> 16132.942928</td>\n",
        "      <td> 51</td>\n",
        "      <td> 1.3</td>\n",
        "      <td> 33061</td>\n",
        "      <td> -7.759070</td>\n",
        "      <td> -6.121338</td>\n",
        "      <td> 2392.155762</td>\n",
        "      <td> 1.007977</td>\n",
        "      <td> 1.161600</td>\n",
        "      <td> 692</td>\n",
        "      <td> [0.0, 0.0, 0.0, 0.0, 0.0, 0.0, 0.0, 0.0, 0.0, ...</td>\n",
        "      <td> [0.0, 0.0, 0.0, 0.0, 0.0, 0.0, 0.0, 0.0, 0.0, ...</td>\n",
        "      <td> 0</td>\n",
        "      <td> 0</td>\n",
        "      <td> ?</td>\n",
        "      <td> 0</td>\n",
        "      <td>...</td>\n",
        "    </tr>\n",
        "    <tr>\n",
        "      <th>29</th>\n",
        "      <td> achi120725.1163</td>\n",
        "      <td> ?</td>\n",
        "      <td> 25371.080078</td>\n",
        "      <td>-0.000077</td>\n",
        "      <td> 16134.918553</td>\n",
        "      <td> 51</td>\n",
        "      <td> 1.3</td>\n",
        "      <td> 23937</td>\n",
        "      <td>  2.118446</td>\n",
        "      <td>  4.489990</td>\n",
        "      <td> 2392.155762</td>\n",
        "      <td> 1.032867</td>\n",
        "      <td> 1.119912</td>\n",
        "      <td> 692</td>\n",
        "      <td> [0.0, 0.0, 0.0, 0.0, 0.0, 0.0, 0.0, 0.0, 0.0, ...</td>\n",
        "      <td> [0.0, 0.0, 0.0, 0.0, 0.0, 0.0, 0.0, 0.0, 0.0, ...</td>\n",
        "      <td> 0</td>\n",
        "      <td> 0</td>\n",
        "      <td> ?</td>\n",
        "      <td> 0</td>\n",
        "      <td>...</td>\n",
        "    </tr>\n",
        "    <tr>\n",
        "      <th>30</th>\n",
        "      <td> achi120725.1164</td>\n",
        "      <td> ?</td>\n",
        "      <td> 25361.832031</td>\n",
        "      <td>-0.000077</td>\n",
        "      <td> 16134.922963</td>\n",
        "      <td> 51</td>\n",
        "      <td> 1.3</td>\n",
        "      <td> 23766</td>\n",
        "      <td> -0.405797</td>\n",
        "      <td>  2.272949</td>\n",
        "      <td> 2392.155762</td>\n",
        "      <td> 0.974889</td>\n",
        "      <td> 1.125927</td>\n",
        "      <td> 692</td>\n",
        "      <td> [0.0, 0.0, 0.0, 0.0, 0.0, 0.0, 0.0, 0.0, 0.0, ...</td>\n",
        "      <td> [0.0, 0.0, 0.0, 0.0, 0.0, 0.0, 0.0, 0.0, 0.0, ...</td>\n",
        "      <td> 0</td>\n",
        "      <td> 0</td>\n",
        "      <td> ?</td>\n",
        "      <td> 0</td>\n",
        "      <td>...</td>\n",
        "    </tr>\n",
        "    <tr>\n",
        "      <th>31</th>\n",
        "      <td> achi120726.1148</td>\n",
        "      <td> ?</td>\n",
        "      <td> 25378.337891</td>\n",
        "      <td>-0.000077</td>\n",
        "      <td> 16135.959178</td>\n",
        "      <td> 51</td>\n",
        "      <td> 1.3</td>\n",
        "      <td> 18245</td>\n",
        "      <td>  1.489858</td>\n",
        "      <td>  5.292236</td>\n",
        "      <td> 2392.155762</td>\n",
        "      <td> 1.139664</td>\n",
        "      <td> 1.137949</td>\n",
        "      <td> 692</td>\n",
        "      <td> [0.0, 0.0, 0.0, 0.0, 0.0, 0.0, 0.0, 0.0, 0.0, ...</td>\n",
        "      <td> [0.0, 0.0, 0.0, 0.0, 0.0, 0.0, 0.0, 0.0, 0.0, ...</td>\n",
        "      <td> 0</td>\n",
        "      <td> 0</td>\n",
        "      <td> ?</td>\n",
        "      <td> 0</td>\n",
        "      <td>...</td>\n",
        "    </tr>\n",
        "    <tr>\n",
        "      <th>32</th>\n",
        "      <td> achi120726.1149</td>\n",
        "      <td> ?</td>\n",
        "      <td> 25368.035156</td>\n",
        "      <td>-0.000077</td>\n",
        "      <td> 16135.963576</td>\n",
        "      <td> 51</td>\n",
        "      <td> 1.3</td>\n",
        "      <td> 18949</td>\n",
        "      <td> -0.261888</td>\n",
        "      <td>  0.147217</td>\n",
        "      <td> 2392.155762</td>\n",
        "      <td> 1.130486</td>\n",
        "      <td> 1.130840</td>\n",
        "      <td> 692</td>\n",
        "      <td> [0.0, 0.0, 0.0, 0.0, 0.0, 0.0, 0.0, 0.0, 0.0, ...</td>\n",
        "      <td> [0.0, 0.0, 0.0, 0.0, 0.0, 0.0, 0.0, 0.0, 0.0, ...</td>\n",
        "      <td> 0</td>\n",
        "      <td> 0</td>\n",
        "      <td> ?</td>\n",
        "      <td> 0</td>\n",
        "      <td>...</td>\n",
        "    </tr>\n",
        "    <tr>\n",
        "      <th>33</th>\n",
        "      <td> achi120805.1169</td>\n",
        "      <td> ?</td>\n",
        "      <td> 26004.386719</td>\n",
        "      <td>-0.000079</td>\n",
        "      <td> 16145.945787</td>\n",
        "      <td> 51</td>\n",
        "      <td> 1.3</td>\n",
        "      <td> 16505</td>\n",
        "      <td> -5.500508</td>\n",
        "      <td>  0.369141</td>\n",
        "      <td> 2392.155762</td>\n",
        "      <td> 1.090740</td>\n",
        "      <td> 1.105421</td>\n",
        "      <td> 692</td>\n",
        "      <td> [0.0, 0.0, 0.0, 0.0, 0.0, 0.0, 0.0, 0.0, 0.0, ...</td>\n",
        "      <td> [0.0, 0.0, 0.0, 0.0, 0.0, 0.0, 0.0, 0.0, 0.0, ...</td>\n",
        "      <td> 0</td>\n",
        "      <td> 0</td>\n",
        "      <td> ?</td>\n",
        "      <td> 0</td>\n",
        "      <td>...</td>\n",
        "    </tr>\n",
        "    <tr>\n",
        "      <th>34</th>\n",
        "      <td> achi120805.1170</td>\n",
        "      <td> ?</td>\n",
        "      <td> 25993.332031</td>\n",
        "      <td>-0.000079</td>\n",
        "      <td> 16145.950301</td>\n",
        "      <td> 51</td>\n",
        "      <td> 1.3</td>\n",
        "      <td> 17890</td>\n",
        "      <td> -5.791388</td>\n",
        "      <td> -1.589355</td>\n",
        "      <td> 2392.155762</td>\n",
        "      <td> 1.091062</td>\n",
        "      <td> 1.112871</td>\n",
        "      <td> 692</td>\n",
        "      <td> [0.0, 0.0, 0.0, 0.0, 0.0, 0.0, 0.0, 0.0, 0.0, ...</td>\n",
        "      <td> [0.0, 0.0, 0.0, 0.0, 0.0, 0.0, 0.0, 0.0, 0.0, ...</td>\n",
        "      <td> 0</td>\n",
        "      <td> 0</td>\n",
        "      <td> ?</td>\n",
        "      <td> 0</td>\n",
        "      <td>...</td>\n",
        "    </tr>\n",
        "    <tr>\n",
        "      <th>35</th>\n",
        "      <td> achi120806.1136</td>\n",
        "      <td> ?</td>\n",
        "      <td> 26095.738281</td>\n",
        "      <td>-0.000079</td>\n",
        "      <td> 16146.917049</td>\n",
        "      <td> 51</td>\n",
        "      <td> 1.3</td>\n",
        "      <td> 20483</td>\n",
        "      <td> -3.137521</td>\n",
        "      <td> -3.259521</td>\n",
        "      <td> 2392.155762</td>\n",
        "      <td> 1.018455</td>\n",
        "      <td> 1.106944</td>\n",
        "      <td> 692</td>\n",
        "      <td> [0.0, 0.0, 0.0, 0.0, 0.0, 0.0, 0.0, 0.0, 0.0, ...</td>\n",
        "      <td> [0.0, 0.0, 0.0, 0.0, 0.0, 0.0, 0.0, 0.0, 0.0, ...</td>\n",
        "      <td> 0</td>\n",
        "      <td> 0</td>\n",
        "      <td> ?</td>\n",
        "      <td> 0</td>\n",
        "      <td>...</td>\n",
        "    </tr>\n",
        "    <tr>\n",
        "      <th>36</th>\n",
        "      <td> achi120806.1137</td>\n",
        "      <td> ?</td>\n",
        "      <td> 26084.853516</td>\n",
        "      <td>-0.000079</td>\n",
        "      <td> 16146.921644</td>\n",
        "      <td> 51</td>\n",
        "      <td> 1.3</td>\n",
        "      <td> 20674</td>\n",
        "      <td> -2.488732</td>\n",
        "      <td> -3.438721</td>\n",
        "      <td> 2392.155762</td>\n",
        "      <td> 1.136419</td>\n",
        "      <td> 1.113282</td>\n",
        "      <td> 692</td>\n",
        "      <td> [0.0, 0.0, 0.0, 0.0, 0.0, 0.0, 0.0, 0.0, 0.0, ...</td>\n",
        "      <td> [0.0, 0.0, 0.0, 0.0, 0.0, 0.0, 0.0, 0.0, 0.0, ...</td>\n",
        "      <td> 0</td>\n",
        "      <td> 0</td>\n",
        "      <td> ?</td>\n",
        "      <td> 0</td>\n",
        "      <td>...</td>\n",
        "    </tr>\n",
        "    <tr>\n",
        "      <th>37</th>\n",
        "      <td> achi120807.1174</td>\n",
        "      <td> ?</td>\n",
        "      <td> 26045.718750</td>\n",
        "      <td>-0.000079</td>\n",
        "      <td> 16147.943947</td>\n",
        "      <td> 51</td>\n",
        "      <td> 1.3</td>\n",
        "      <td> 14702</td>\n",
        "      <td> -8.400331</td>\n",
        "      <td> -8.267090</td>\n",
        "      <td> 2392.155762</td>\n",
        "      <td> 1.207131</td>\n",
        "      <td> 1.105795</td>\n",
        "      <td> 692</td>\n",
        "      <td> [0.0, 0.0, 0.0, 0.0, 0.0, 0.0, 0.0, 0.0, 0.0, ...</td>\n",
        "      <td> [0.0, 0.0, 0.0, 0.0, 0.0, 0.0, 0.0, 0.0, 0.0, ...</td>\n",
        "      <td> 0</td>\n",
        "      <td> 0</td>\n",
        "      <td> ?</td>\n",
        "      <td> 0</td>\n",
        "      <td>...</td>\n",
        "    </tr>\n",
        "    <tr>\n",
        "      <th>38</th>\n",
        "      <td> achi120807.1175</td>\n",
        "      <td> ?</td>\n",
        "      <td> 26035.058594</td>\n",
        "      <td>-0.000079</td>\n",
        "      <td> 16147.948264</td>\n",
        "      <td> 51</td>\n",
        "      <td> 1.3</td>\n",
        "      <td> 16182</td>\n",
        "      <td> -6.700884</td>\n",
        "      <td> -3.611328</td>\n",
        "      <td> 2392.155762</td>\n",
        "      <td> 1.191118</td>\n",
        "      <td> 1.093508</td>\n",
        "      <td> 692</td>\n",
        "      <td> [0.0, 0.0, 0.0, 0.0, 0.0, 0.0, 0.0, 0.0, 0.0, ...</td>\n",
        "      <td> [0.0, 0.0, 0.0, 0.0, 0.0, 0.0, 0.0, 0.0, 0.0, ...</td>\n",
        "      <td> 0</td>\n",
        "      <td> 0</td>\n",
        "      <td> ?</td>\n",
        "      <td> 0</td>\n",
        "      <td>...</td>\n",
        "    </tr>\n",
        "    <tr>\n",
        "      <th>39</th>\n",
        "      <td> achi120818.1162</td>\n",
        "      <td> ?</td>\n",
        "      <td> 25788.400391</td>\n",
        "      <td>-0.000078</td>\n",
        "      <td> 16158.913715</td>\n",
        "      <td> 51</td>\n",
        "      <td> 1.3</td>\n",
        "      <td> 15060</td>\n",
        "      <td> -4.822377</td>\n",
        "      <td> -0.637695</td>\n",
        "      <td> 2392.155762</td>\n",
        "      <td> 1.312992</td>\n",
        "      <td> 1.131951</td>\n",
        "      <td> 692</td>\n",
        "      <td> [0.0, 0.0, 0.0, 0.0, 0.0, 0.0, 0.0, 0.0, 0.0, ...</td>\n",
        "      <td> [0.0, 0.0, 0.0, 0.0, 0.0, 0.0, 0.0, 0.0, 0.0, ...</td>\n",
        "      <td> 0</td>\n",
        "      <td> 0</td>\n",
        "      <td> ?</td>\n",
        "      <td> 0</td>\n",
        "      <td>...</td>\n",
        "    </tr>\n",
        "    <tr>\n",
        "      <th>40</th>\n",
        "      <td> achi120818.1163</td>\n",
        "      <td> ?</td>\n",
        "      <td> 25777.345703</td>\n",
        "      <td>-0.000078</td>\n",
        "      <td> 16158.918044</td>\n",
        "      <td> 51</td>\n",
        "      <td> 1.3</td>\n",
        "      <td> 15524</td>\n",
        "      <td> -3.222509</td>\n",
        "      <td> -0.756592</td>\n",
        "      <td> 2392.155762</td>\n",
        "      <td> 1.286940</td>\n",
        "      <td> 1.162779</td>\n",
        "      <td> 692</td>\n",
        "      <td> [0.0, 0.0, 0.0, 0.0, 0.0, 0.0, 0.0, 0.0, 0.0, ...</td>\n",
        "      <td> [0.0, 0.0, 0.0, 0.0, 0.0, 0.0, 0.0, 0.0, 0.0, ...</td>\n",
        "      <td> 0</td>\n",
        "      <td> 0</td>\n",
        "      <td> ?</td>\n",
        "      <td> 0</td>\n",
        "      <td>...</td>\n",
        "    </tr>\n",
        "    <tr>\n",
        "      <th>41</th>\n",
        "      <td> achi120820.1166</td>\n",
        "      <td> ?</td>\n",
        "      <td> 25547.392578</td>\n",
        "      <td>-0.000077</td>\n",
        "      <td> 16160.944132</td>\n",
        "      <td> 51</td>\n",
        "      <td> 1.3</td>\n",
        "      <td> 21327</td>\n",
        "      <td>-23.224962</td>\n",
        "      <td>-19.370361</td>\n",
        "      <td> 2392.155762</td>\n",
        "      <td> 1.163343</td>\n",
        "      <td> 1.129580</td>\n",
        "      <td> 692</td>\n",
        "      <td> [0.0, 0.0, 0.0, 0.0, 0.0, 0.0, 0.0, 0.0, 0.0, ...</td>\n",
        "      <td> [0.0, 0.0, 0.0, 0.0, 0.0, 0.0, 0.0, 0.0, 0.0, ...</td>\n",
        "      <td> 0</td>\n",
        "      <td> 0</td>\n",
        "      <td> ?</td>\n",
        "      <td> 0</td>\n",
        "      <td>...</td>\n",
        "    </tr>\n",
        "    <tr>\n",
        "      <th>42</th>\n",
        "      <td> achi120820.1167</td>\n",
        "      <td> ?</td>\n",
        "      <td> 25536.394531</td>\n",
        "      <td>-0.000077</td>\n",
        "      <td> 16160.948414</td>\n",
        "      <td> 51</td>\n",
        "      <td> 1.3</td>\n",
        "      <td> 20832</td>\n",
        "      <td>-20.114058</td>\n",
        "      <td>-18.276611</td>\n",
        "      <td> 2392.155762</td>\n",
        "      <td> 1.102719</td>\n",
        "      <td> 1.136844</td>\n",
        "      <td> 692</td>\n",
        "      <td> [0.0, 0.0, 0.0, 0.0, 0.0, 0.0, 0.0, 0.0, 0.0, ...</td>\n",
        "      <td> [0.0, 0.0, 0.0, 0.0, 0.0, 0.0, 0.0, 0.0, 0.0, ...</td>\n",
        "      <td> 0</td>\n",
        "      <td> 0</td>\n",
        "      <td> ?</td>\n",
        "      <td> 0</td>\n",
        "      <td>...</td>\n",
        "    </tr>\n",
        "    <tr>\n",
        "      <th>43</th>\n",
        "      <td> achi120824.1142</td>\n",
        "      <td> ?</td>\n",
        "      <td> 25210.003906</td>\n",
        "      <td>-0.000076</td>\n",
        "      <td> 16164.913426</td>\n",
        "      <td> 51</td>\n",
        "      <td> 1.3</td>\n",
        "      <td> 16474</td>\n",
        "      <td>  7.099593</td>\n",
        "      <td>  7.512451</td>\n",
        "      <td> 2392.155762</td>\n",
        "      <td> 1.129860</td>\n",
        "      <td> 1.125986</td>\n",
        "      <td> 691</td>\n",
        "      <td> [0.0, 0.0, 0.0, 0.0, 0.0, 0.0, 0.0, 0.0, 0.0, ...</td>\n",
        "      <td> [0.0, 0.0, 0.0, 0.0, 0.0, 0.0, 0.0, 0.0, 0.0, ...</td>\n",
        "      <td> 0</td>\n",
        "      <td> 0</td>\n",
        "      <td> ?</td>\n",
        "      <td> 0</td>\n",
        "      <td>...</td>\n",
        "    </tr>\n",
        "    <tr>\n",
        "      <th>44</th>\n",
        "      <td> achi120824.1143</td>\n",
        "      <td> ?</td>\n",
        "      <td> 25198.658203</td>\n",
        "      <td>-0.000076</td>\n",
        "      <td> 16164.917766</td>\n",
        "      <td> 51</td>\n",
        "      <td> 1.3</td>\n",
        "      <td> 19032</td>\n",
        "      <td>  4.538176</td>\n",
        "      <td>  3.399902</td>\n",
        "      <td> 2392.155762</td>\n",
        "      <td> 1.145180</td>\n",
        "      <td> 1.110958</td>\n",
        "      <td> 692</td>\n",
        "      <td> [0.0, 0.0, 0.0, 0.0, 0.0, 0.0, 0.0, 0.0, 0.0, ...</td>\n",
        "      <td> [0.0, 0.0, 0.0, 0.0, 0.0, 0.0, 0.0, 0.0, 0.0, ...</td>\n",
        "      <td> 0</td>\n",
        "      <td> 0</td>\n",
        "      <td> ?</td>\n",
        "      <td> 0</td>\n",
        "      <td>...</td>\n",
        "    </tr>\n",
        "    <tr>\n",
        "      <th>45</th>\n",
        "      <td> achi120825.1172</td>\n",
        "      <td> ?</td>\n",
        "      <td> 25027.181641</td>\n",
        "      <td>-0.000075</td>\n",
        "      <td> 16165.936620</td>\n",
        "      <td> 51</td>\n",
        "      <td> 1.3</td>\n",
        "      <td> 28922</td>\n",
        "      <td>  9.752257</td>\n",
        "      <td> 15.337402</td>\n",
        "      <td> 2392.155762</td>\n",
        "      <td> 0.983670</td>\n",
        "      <td> 1.120503</td>\n",
        "      <td> 692</td>\n",
        "      <td> [0.0, 0.0, 0.0, 0.0, 0.0, 0.0, 0.0, 0.0, 0.0, ...</td>\n",
        "      <td> [0.0, 0.0, 0.0, 0.0, 0.0, 0.0, 0.0, 0.0, 0.0, ...</td>\n",
        "      <td> 0</td>\n",
        "      <td> 0</td>\n",
        "      <td> ?</td>\n",
        "      <td> 0</td>\n",
        "      <td>...</td>\n",
        "    </tr>\n",
        "    <tr>\n",
        "      <th>46</th>\n",
        "      <td> achi120825.1173</td>\n",
        "      <td> ?</td>\n",
        "      <td> 25015.753906</td>\n",
        "      <td>-0.000075</td>\n",
        "      <td> 16165.941030</td>\n",
        "      <td> 51</td>\n",
        "      <td> 1.3</td>\n",
        "      <td> 29954</td>\n",
        "      <td>  9.337426</td>\n",
        "      <td> 11.005615</td>\n",
        "      <td> 2392.155762</td>\n",
        "      <td> 1.032673</td>\n",
        "      <td> 1.131004</td>\n",
        "      <td> 692</td>\n",
        "      <td> [0.0, 0.0, 0.0, 0.0, 0.0, 0.0, 0.0, 0.0, 0.0, ...</td>\n",
        "      <td> [0.0, 0.0, 0.0, 0.0, 0.0, 0.0, 0.0, 0.0, 0.0, ...</td>\n",
        "      <td> 0</td>\n",
        "      <td> 0</td>\n",
        "      <td> ?</td>\n",
        "      <td> 0</td>\n",
        "      <td>...</td>\n",
        "    </tr>\n",
        "    <tr>\n",
        "      <th>47</th>\n",
        "      <td> achi120826.1141</td>\n",
        "      <td> ?</td>\n",
        "      <td> 24960.398438</td>\n",
        "      <td>-0.000075</td>\n",
        "      <td> 16166.912789</td>\n",
        "      <td> 51</td>\n",
        "      <td> 1.3</td>\n",
        "      <td> 19888</td>\n",
        "      <td>  9.027230</td>\n",
        "      <td> 12.528564</td>\n",
        "      <td> 2392.155762</td>\n",
        "      <td> 1.119211</td>\n",
        "      <td> 1.127673</td>\n",
        "      <td> 692</td>\n",
        "      <td> [0.0, 0.0, 0.0, 0.0, 0.0, 0.0, 0.0, 0.0, 0.0, ...</td>\n",
        "      <td> [0.0, 0.0, 0.0, 0.0, 0.0, 0.0, 0.0, 0.0, 0.0, ...</td>\n",
        "      <td> 0</td>\n",
        "      <td> 0</td>\n",
        "      <td> ?</td>\n",
        "      <td> 0</td>\n",
        "      <td>...</td>\n",
        "    </tr>\n",
        "    <tr>\n",
        "      <th>48</th>\n",
        "      <td> achi120826.1142</td>\n",
        "      <td> ?</td>\n",
        "      <td> 24948.783203</td>\n",
        "      <td>-0.000075</td>\n",
        "      <td> 16166.917211</td>\n",
        "      <td> 51</td>\n",
        "      <td> 1.3</td>\n",
        "      <td> 19544</td>\n",
        "      <td> 13.483278</td>\n",
        "      <td> 15.736084</td>\n",
        "      <td> 2392.155762</td>\n",
        "      <td> 1.164432</td>\n",
        "      <td> 1.157007</td>\n",
        "      <td> 691</td>\n",
        "      <td> [0.0, 0.0, 0.0, 0.0, 0.0, 0.0, 0.0, 0.0, 0.0, ...</td>\n",
        "      <td> [0.0, 0.0, 0.0, 0.0, 0.0, 0.0, 0.0, 0.0, 0.0, ...</td>\n",
        "      <td> 0</td>\n",
        "      <td> 0</td>\n",
        "      <td> ?</td>\n",
        "      <td> 0</td>\n",
        "      <td>...</td>\n",
        "    </tr>\n",
        "    <tr>\n",
        "      <th>49</th>\n",
        "      <td> achi120827.1172</td>\n",
        "      <td> ?</td>\n",
        "      <td> 24799.697266</td>\n",
        "      <td>-0.000075</td>\n",
        "      <td> 16167.922257</td>\n",
        "      <td> 51</td>\n",
        "      <td> 1.3</td>\n",
        "      <td> 24511</td>\n",
        "      <td>  5.997856</td>\n",
        "      <td>  7.633301</td>\n",
        "      <td> 2392.155762</td>\n",
        "      <td> 1.004355</td>\n",
        "      <td> 1.127267</td>\n",
        "      <td> 692</td>\n",
        "      <td> [0.0, 0.0, 0.0, 0.0, 0.0, 0.0, 0.0, 0.0, 0.0, ...</td>\n",
        "      <td> [0.0, 0.0, 0.0, 0.0, 0.0, 0.0, 0.0, 0.0, 0.0, ...</td>\n",
        "      <td> 0</td>\n",
        "      <td> 0</td>\n",
        "      <td> ?</td>\n",
        "      <td> 0</td>\n",
        "      <td>...</td>\n",
        "    </tr>\n",
        "    <tr>\n",
        "      <th>50</th>\n",
        "      <td> achi120827.1173</td>\n",
        "      <td> ?</td>\n",
        "      <td> 24788.072266</td>\n",
        "      <td>-0.000075</td>\n",
        "      <td> 16167.926690</td>\n",
        "      <td> 51</td>\n",
        "      <td> 1.3</td>\n",
        "      <td> 25295</td>\n",
        "      <td>  7.998461</td>\n",
        "      <td> 11.074951</td>\n",
        "      <td> 2392.155762</td>\n",
        "      <td> 1.125565</td>\n",
        "      <td> 1.114504</td>\n",
        "      <td> 692</td>\n",
        "      <td> [0.0, 0.0, 0.0, 0.0, 0.0, 0.0, 0.0, 0.0, 0.0, ...</td>\n",
        "      <td> [0.0, 0.0, 0.0, 0.0, 0.0, 0.0, 0.0, 0.0, 0.0, ...</td>\n",
        "      <td> 0</td>\n",
        "      <td> 0</td>\n",
        "      <td> ?</td>\n",
        "      <td> 0</td>\n",
        "      <td>...</td>\n",
        "    </tr>\n",
        "    <tr>\n",
        "      <th>51</th>\n",
        "      <td> achi120828.1140</td>\n",
        "      <td> ?</td>\n",
        "      <td> 24686.912109</td>\n",
        "      <td>-0.000074</td>\n",
        "      <td> 16168.910995</td>\n",
        "      <td> 51</td>\n",
        "      <td> 1.3</td>\n",
        "      <td> 16773</td>\n",
        "      <td>  0.626025</td>\n",
        "      <td>  3.215820</td>\n",
        "      <td> 2392.155762</td>\n",
        "      <td> 1.163680</td>\n",
        "      <td> 1.107595</td>\n",
        "      <td> 692</td>\n",
        "      <td> [0.0, 0.0, 0.0, 0.0, 0.0, 0.0, 0.0, 0.0, 0.0, ...</td>\n",
        "      <td> [0.0, 0.0, 0.0, 0.0, 0.0, 0.0, 0.0, 0.0, 0.0, ...</td>\n",
        "      <td> 0</td>\n",
        "      <td> 0</td>\n",
        "      <td> ?</td>\n",
        "      <td> 0</td>\n",
        "      <td>...</td>\n",
        "    </tr>\n",
        "    <tr>\n",
        "      <th>52</th>\n",
        "      <td> achi120828.1141</td>\n",
        "      <td> ?</td>\n",
        "      <td> 24675.033203</td>\n",
        "      <td>-0.000074</td>\n",
        "      <td> 16168.915498</td>\n",
        "      <td> 51</td>\n",
        "      <td> 1.3</td>\n",
        "      <td> 19039</td>\n",
        "      <td>  0.562797</td>\n",
        "      <td>  4.562256</td>\n",
        "      <td> 2392.155762</td>\n",
        "      <td> 1.175665</td>\n",
        "      <td> 1.115444</td>\n",
        "      <td> 692</td>\n",
        "      <td> [0.0, 0.0, 0.0, 0.0, 0.0, 0.0, 0.0, 0.0, 0.0, ...</td>\n",
        "      <td> [0.0, 0.0, 0.0, 0.0, 0.0, 0.0, 0.0, 0.0, 0.0, ...</td>\n",
        "      <td> 0</td>\n",
        "      <td> 0</td>\n",
        "      <td> ?</td>\n",
        "      <td> 0</td>\n",
        "      <td>...</td>\n",
        "    </tr>\n",
        "    <tr>\n",
        "      <th>53</th>\n",
        "      <td> achi120831.1159</td>\n",
        "      <td> ?</td>\n",
        "      <td> 24376.589844</td>\n",
        "      <td>-0.000073</td>\n",
        "      <td> 16171.851609</td>\n",
        "      <td> 51</td>\n",
        "      <td> 1.3</td>\n",
        "      <td> 30920</td>\n",
        "      <td>-19.881504</td>\n",
        "      <td>-17.742920</td>\n",
        "      <td> 2392.155762</td>\n",
        "      <td> 1.035021</td>\n",
        "      <td> 1.143025</td>\n",
        "      <td> 692</td>\n",
        "      <td> [0.0, 0.0, 0.0, 0.0, 0.0, 0.0, 0.0, 0.0, 0.0, ...</td>\n",
        "      <td> [0.0, 0.0, 0.0, 0.0, 0.0, 0.0, 0.0, 0.0, 0.0, ...</td>\n",
        "      <td> 0</td>\n",
        "      <td> 0</td>\n",
        "      <td> ?</td>\n",
        "      <td> 0</td>\n",
        "      <td>...</td>\n",
        "    </tr>\n",
        "    <tr>\n",
        "      <th>54</th>\n",
        "      <td> achi120831.1160</td>\n",
        "      <td> ?</td>\n",
        "      <td> 24365.517578</td>\n",
        "      <td>-0.000073</td>\n",
        "      <td> 16171.855926</td>\n",
        "      <td> 51</td>\n",
        "      <td> 1.3</td>\n",
        "      <td> 28369</td>\n",
        "      <td>-17.192530</td>\n",
        "      <td>-14.517822</td>\n",
        "      <td> 2392.155762</td>\n",
        "      <td> 1.100916</td>\n",
        "      <td> 1.152639</td>\n",
        "      <td> 692</td>\n",
        "      <td> [0.0, 0.0, 0.0, 0.0, 0.0, 0.0, 0.0, 0.0, 0.0, ...</td>\n",
        "      <td> [0.0, 0.0, 0.0, 0.0, 0.0, 0.0, 0.0, 0.0, 0.0, ...</td>\n",
        "      <td> 0</td>\n",
        "      <td> 0</td>\n",
        "      <td> ?</td>\n",
        "      <td> 0</td>\n",
        "      <td>...</td>\n",
        "    </tr>\n",
        "    <tr>\n",
        "      <th>55</th>\n",
        "      <td> achi120901.1173</td>\n",
        "      <td> ?</td>\n",
        "      <td> 23993.015625</td>\n",
        "      <td>-0.000072</td>\n",
        "      <td> 16172.933229</td>\n",
        "      <td> 51</td>\n",
        "      <td> 1.3</td>\n",
        "      <td> 20699</td>\n",
        "      <td>-14.834744</td>\n",
        "      <td>-12.978271</td>\n",
        "      <td> 2392.155762</td>\n",
        "      <td> 1.103250</td>\n",
        "      <td> 1.124531</td>\n",
        "      <td> 691</td>\n",
        "      <td> [0.0, 0.0, 0.0, 0.0, 0.0, 0.0, 0.0, 0.0, 0.0, ...</td>\n",
        "      <td> [0.0, 0.0, 0.0, 0.0, 0.0, 0.0, 0.0, 0.0, 0.0, ...</td>\n",
        "      <td> 0</td>\n",
        "      <td> 0</td>\n",
        "      <td> ?</td>\n",
        "      <td> 0</td>\n",
        "      <td>...</td>\n",
        "    </tr>\n",
        "    <tr>\n",
        "      <th>56</th>\n",
        "      <td> achi120901.1174</td>\n",
        "      <td> ?</td>\n",
        "      <td> 23981.574219</td>\n",
        "      <td>-0.000072</td>\n",
        "      <td> 16172.937650</td>\n",
        "      <td> 51</td>\n",
        "      <td> 1.3</td>\n",
        "      <td> 23040</td>\n",
        "      <td>-14.658939</td>\n",
        "      <td>-13.230469</td>\n",
        "      <td> 2392.155762</td>\n",
        "      <td> 1.076126</td>\n",
        "      <td> 1.132450</td>\n",
        "      <td> 692</td>\n",
        "      <td> [0.0, 0.0, 0.0, 0.0, 0.0, 0.0, 0.0, 0.0, 0.0, ...</td>\n",
        "      <td> [0.0, 0.0, 0.0, 0.0, 0.0, 0.0, 0.0, 0.0, 0.0, ...</td>\n",
        "      <td> 0</td>\n",
        "      <td> 0</td>\n",
        "      <td> ?</td>\n",
        "      <td> 0</td>\n",
        "      <td>...</td>\n",
        "    </tr>\n",
        "    <tr>\n",
        "      <th>57</th>\n",
        "      <td> achi120903.1174</td>\n",
        "      <td> ?</td>\n",
        "      <td> 23670.982422</td>\n",
        "      <td>-0.000071</td>\n",
        "      <td> 16174.919641</td>\n",
        "      <td> 51</td>\n",
        "      <td> 1.3</td>\n",
        "      <td> 22621</td>\n",
        "      <td> -4.471570</td>\n",
        "      <td> -2.463379</td>\n",
        "      <td> 2392.155762</td>\n",
        "      <td> 1.055634</td>\n",
        "      <td> 1.131216</td>\n",
        "      <td> 692</td>\n",
        "      <td> [0.0, 0.0, 0.0, 0.0, 0.0, 0.0, 0.0, 0.0, 0.0, ...</td>\n",
        "      <td> [0.0, 0.0, 0.0, 0.0, 0.0, 0.0, 0.0, 0.0, 0.0, ...</td>\n",
        "      <td> 0</td>\n",
        "      <td> 0</td>\n",
        "      <td> ?</td>\n",
        "      <td> 0</td>\n",
        "      <td>...</td>\n",
        "    </tr>\n",
        "    <tr>\n",
        "      <th>58</th>\n",
        "      <td> achi120903.1175</td>\n",
        "      <td> ?</td>\n",
        "      <td> 23659.597656</td>\n",
        "      <td>-0.000071</td>\n",
        "      <td> 16174.923970</td>\n",
        "      <td> 51</td>\n",
        "      <td> 1.3</td>\n",
        "      <td> 21617</td>\n",
        "      <td> -5.953395</td>\n",
        "      <td> -2.858398</td>\n",
        "      <td> 2392.155762</td>\n",
        "      <td> 1.019773</td>\n",
        "      <td> 1.131799</td>\n",
        "      <td> 692</td>\n",
        "      <td> [0.0, 0.0, 0.0, 0.0, 0.0, 0.0, 0.0, 0.0, 0.0, ...</td>\n",
        "      <td> [0.0, 0.0, 0.0, 0.0, 0.0, 0.0, 0.0, 0.0, 0.0, ...</td>\n",
        "      <td> 0</td>\n",
        "      <td> 0</td>\n",
        "      <td> ?</td>\n",
        "      <td> 0</td>\n",
        "      <td>...</td>\n",
        "    </tr>\n",
        "    <tr>\n",
        "      <th>59</th>\n",
        "      <td> achi120904.1134</td>\n",
        "      <td> ?</td>\n",
        "      <td> 23576.330078</td>\n",
        "      <td>-0.000071</td>\n",
        "      <td> 16175.884340</td>\n",
        "      <td> 51</td>\n",
        "      <td> 1.3</td>\n",
        "      <td>  7820</td>\n",
        "      <td>  0.069767</td>\n",
        "      <td>  4.006348</td>\n",
        "      <td> 2392.155762</td>\n",
        "      <td> 1.546765</td>\n",
        "      <td> 1.132327</td>\n",
        "      <td> 692</td>\n",
        "      <td> [0.0, 0.0, 0.0, 0.0, 0.0, 0.0, 0.0, 0.0, 0.0, ...</td>\n",
        "      <td> [0.0, 0.0, 0.0, 0.0, 0.0, 0.0, 0.0, 0.0, 0.0, ...</td>\n",
        "      <td> 0</td>\n",
        "      <td> 0</td>\n",
        "      <td> ?</td>\n",
        "      <td> 0</td>\n",
        "      <td>...</td>\n",
        "    </tr>\n",
        "    <tr>\n",
        "      <th></th>\n",
        "      <td>...</td>\n",
        "      <td>...</td>\n",
        "      <td>...</td>\n",
        "      <td>...</td>\n",
        "      <td>...</td>\n",
        "      <td>...</td>\n",
        "      <td>...</td>\n",
        "      <td>...</td>\n",
        "      <td>...</td>\n",
        "      <td>...</td>\n",
        "      <td>...</td>\n",
        "      <td>...</td>\n",
        "      <td>...</td>\n",
        "      <td>...</td>\n",
        "      <td>...</td>\n",
        "      <td>...</td>\n",
        "      <td>...</td>\n",
        "      <td>...</td>\n",
        "      <td>...</td>\n",
        "      <td>...</td>\n",
        "    </tr>\n",
        "  </tbody>\n",
        "</table>\n",
        "<p>441 rows \u00d7 22 columns</p>\n",
        "</div>"
       ],
       "metadata": {},
       "output_type": "pyout",
       "prompt_number": 8,
       "text": [
        "               OBNM IODNM            BC         Z            JD  DEWAR  GAIN  \\\n",
        "0   achi120706.1147     ?  22134.119141 -0.000066  16115.918403     50   1.3   \n",
        "1   achi120706.1148     ?  22127.638672 -0.000066  16115.922813     50   1.3   \n",
        "2   achi120707.1178     ?  22383.410156 -0.000067  16116.904502     50   1.3   \n",
        "3   achi120707.1179     ?  22377.617188 -0.000067  16116.908819     50   1.3   \n",
        "4   achi120709.1188     ?  22826.468750 -0.000068  16118.904537     50   1.3   \n",
        "5   achi120709.1189     ?  22820.304688 -0.000068  16118.908877     50   1.3   \n",
        "6   achi120710.1158     ?  22943.203125 -0.000069  16119.959988     50   1.3   \n",
        "7   achi120710.1159     ?  22934.613281 -0.000069  16119.964294     50   1.3   \n",
        "8   achi120711.1164     ?  23240.009766 -0.000070  16120.907917     50   1.3   \n",
        "9   achi120711.1165     ?  23233.363281 -0.000070  16120.912245     50   1.3   \n",
        "10  achi120712.1166     ?  23424.615234 -0.000070  16121.917292     50   1.3   \n",
        "11  achi120714.1170     ?  23811.306641 -0.000071  16123.912604     50   1.3   \n",
        "12  achi120714.1171     ?  23803.929688 -0.000071  16123.916956     50   1.3   \n",
        "13  achi120714.1172     ?  23791.140625 -0.000071  16123.924248     50   1.3   \n",
        "14  achi120714.1173     ?  23783.154297 -0.000071  16123.928657     50   1.3   \n",
        "15  achi120716.1176     ?  24184.513672 -0.000073  16125.899803     50   1.3   \n",
        "16  achi120716.1177     ?  24177.246094 -0.000073  16125.904259     50   1.3   \n",
        "17  achi120716.1178     ?  24168.025391 -0.000073  16125.909734     50   1.3   \n",
        "18  achi120716.1179     ?  24160.515625 -0.000073  16125.914062     50   1.3   \n",
        "19  achi120717.1163     ?  24381.531250 -0.000073  16126.879329     50   1.3   \n",
        "20  achi120717.1164     ?  24375.195312 -0.000073  16126.883750     50   1.3   \n",
        "21  achi120717.1165     ?  24366.921875 -0.000073  16126.889294     50   1.3   \n",
        "22  achi120717.1166     ?  24360.083984 -0.000073  16126.893704     50   1.3   \n",
        "23  achi120720.1185     ?  24728.257812 -0.000075  16129.938785     51   1.3   \n",
        "24  achi120720.1186     ?  24719.798828 -0.000074  16129.942801     51   1.3   \n",
        "25  achi120722.1156     ?  25048.371094 -0.000076  16131.910440     51   1.3   \n",
        "26  achi120722.1157     ?  25039.351562 -0.000076  16131.915081     51   1.3   \n",
        "27  achi120723.1166     ?  25110.759766 -0.000076  16132.938611     51   1.3   \n",
        "28  achi120723.1167     ?  25101.339844 -0.000076  16132.942928     51   1.3   \n",
        "29  achi120725.1163     ?  25371.080078 -0.000077  16134.918553     51   1.3   \n",
        "30  achi120725.1164     ?  25361.832031 -0.000077  16134.922963     51   1.3   \n",
        "31  achi120726.1148     ?  25378.337891 -0.000077  16135.959178     51   1.3   \n",
        "32  achi120726.1149     ?  25368.035156 -0.000077  16135.963576     51   1.3   \n",
        "33  achi120805.1169     ?  26004.386719 -0.000079  16145.945787     51   1.3   \n",
        "34  achi120805.1170     ?  25993.332031 -0.000079  16145.950301     51   1.3   \n",
        "35  achi120806.1136     ?  26095.738281 -0.000079  16146.917049     51   1.3   \n",
        "36  achi120806.1137     ?  26084.853516 -0.000079  16146.921644     51   1.3   \n",
        "37  achi120807.1174     ?  26045.718750 -0.000079  16147.943947     51   1.3   \n",
        "38  achi120807.1175     ?  26035.058594 -0.000079  16147.948264     51   1.3   \n",
        "39  achi120818.1162     ?  25788.400391 -0.000078  16158.913715     51   1.3   \n",
        "40  achi120818.1163     ?  25777.345703 -0.000078  16158.918044     51   1.3   \n",
        "41  achi120820.1166     ?  25547.392578 -0.000077  16160.944132     51   1.3   \n",
        "42  achi120820.1167     ?  25536.394531 -0.000077  16160.948414     51   1.3   \n",
        "43  achi120824.1142     ?  25210.003906 -0.000076  16164.913426     51   1.3   \n",
        "44  achi120824.1143     ?  25198.658203 -0.000076  16164.917766     51   1.3   \n",
        "45  achi120825.1172     ?  25027.181641 -0.000075  16165.936620     51   1.3   \n",
        "46  achi120825.1173     ?  25015.753906 -0.000075  16165.941030     51   1.3   \n",
        "47  achi120826.1141     ?  24960.398438 -0.000075  16166.912789     51   1.3   \n",
        "48  achi120826.1142     ?  24948.783203 -0.000075  16166.917211     51   1.3   \n",
        "49  achi120827.1172     ?  24799.697266 -0.000075  16167.922257     51   1.3   \n",
        "50  achi120827.1173     ?  24788.072266 -0.000075  16167.926690     51   1.3   \n",
        "51  achi120828.1140     ?  24686.912109 -0.000074  16168.910995     51   1.3   \n",
        "52  achi120828.1141     ?  24675.033203 -0.000074  16168.915498     51   1.3   \n",
        "53  achi120831.1159     ?  24376.589844 -0.000073  16171.851609     51   1.3   \n",
        "54  achi120831.1160     ?  24365.517578 -0.000073  16171.855926     51   1.3   \n",
        "55  achi120901.1173     ?  23993.015625 -0.000072  16172.933229     51   1.3   \n",
        "56  achi120901.1174     ?  23981.574219 -0.000072  16172.937650     51   1.3   \n",
        "57  achi120903.1174     ?  23670.982422 -0.000071  16174.919641     51   1.3   \n",
        "58  achi120903.1175     ?  23659.597656 -0.000071  16174.923970     51   1.3   \n",
        "59  achi120904.1134     ?  23576.330078 -0.000071  16175.884340     51   1.3   \n",
        "                ...   ...           ...       ...           ...    ...   ...   \n",
        "\n",
        "      CTS      MNVEL      MDVEL      MED_ALL    ERRVEL     MDCHI  NCHUNK  \\\n",
        "0    9734 -25.180826 -23.375977  2392.155762  1.247489  1.112528     692   \n",
        "1   12196 -25.635408 -22.795654  2392.155762  1.202716  1.120136     692   \n",
        "2    9856 -29.379946 -27.379150  2392.155762  1.123506  1.137078     692   \n",
        "3   10361 -24.511168 -24.113281  2392.155762  1.196066  1.147485     692   \n",
        "4   14127  -6.685106  -4.916992  2392.155762  1.223933  1.156717     691   \n",
        "5   14513  -9.139155  -8.238037  2392.155762  1.094492  1.164041     692   \n",
        "6   15077  -6.589329  -6.014160  2392.155762  1.065146  1.148929     692   \n",
        "7   15066  -7.603880  -2.713867  2392.155762  1.039255  1.151758     692   \n",
        "8    7688  -2.126824  -2.455566  2392.155762  1.307299  1.128319     692   \n",
        "9    7664  -3.968897  -2.306152  2392.155762  1.365925  1.130087     692   \n",
        "10   4614   0.105727   3.107910  2392.155762  1.527340  1.140789     692   \n",
        "11   9740   6.122885   9.859375  2392.155762  1.218543  1.167439     692   \n",
        "12   9866   6.900227   9.776123  2392.155762  1.299514  1.184721     692   \n",
        "13   9327   9.618589  11.677734  2392.155762  1.403847  1.179808     692   \n",
        "14   9115   9.280445  11.621338  2392.155762  1.422366  1.187504     692   \n",
        "15  11400   0.844637   4.992676  2392.155762  1.141196  1.122010     692   \n",
        "16  10632  -3.429864  -3.294189  2392.155762  1.161733  1.118668     692   \n",
        "17  10495  -3.998774  -1.958984  2392.155762  1.189063  1.122320     692   \n",
        "18   8084  -0.169361   5.698486  2392.155762  1.421313  1.118150     692   \n",
        "19   8145 -12.922213  -9.334961  2392.155762  1.277353  1.117568     692   \n",
        "20   8279 -13.014706 -11.218994  2392.155762  1.277596  1.125127     692   \n",
        "21   8902  -9.951888  -6.429932  2392.155762  1.269262  1.115394     692   \n",
        "22   8502 -18.248947 -16.913574  2392.155762  1.337398  1.120282     692   \n",
        "23   6206 -11.427857  -7.646240  2392.155762  1.478972  1.125061     692   \n",
        "24   3589  -4.629717  -2.060059  2392.155762  2.031921  1.156895     692   \n",
        "25   6224  -5.148229  -5.031250  2392.155762  1.606675  1.139068     692   \n",
        "26   4897 -10.639183  -7.284424  2392.155762  1.785284  1.150144     692   \n",
        "27  32355  -8.624544  -5.245605  2392.155762  1.037236  1.156018     691   \n",
        "28  33061  -7.759070  -6.121338  2392.155762  1.007977  1.161600     692   \n",
        "29  23937   2.118446   4.489990  2392.155762  1.032867  1.119912     692   \n",
        "30  23766  -0.405797   2.272949  2392.155762  0.974889  1.125927     692   \n",
        "31  18245   1.489858   5.292236  2392.155762  1.139664  1.137949     692   \n",
        "32  18949  -0.261888   0.147217  2392.155762  1.130486  1.130840     692   \n",
        "33  16505  -5.500508   0.369141  2392.155762  1.090740  1.105421     692   \n",
        "34  17890  -5.791388  -1.589355  2392.155762  1.091062  1.112871     692   \n",
        "35  20483  -3.137521  -3.259521  2392.155762  1.018455  1.106944     692   \n",
        "36  20674  -2.488732  -3.438721  2392.155762  1.136419  1.113282     692   \n",
        "37  14702  -8.400331  -8.267090  2392.155762  1.207131  1.105795     692   \n",
        "38  16182  -6.700884  -3.611328  2392.155762  1.191118  1.093508     692   \n",
        "39  15060  -4.822377  -0.637695  2392.155762  1.312992  1.131951     692   \n",
        "40  15524  -3.222509  -0.756592  2392.155762  1.286940  1.162779     692   \n",
        "41  21327 -23.224962 -19.370361  2392.155762  1.163343  1.129580     692   \n",
        "42  20832 -20.114058 -18.276611  2392.155762  1.102719  1.136844     692   \n",
        "43  16474   7.099593   7.512451  2392.155762  1.129860  1.125986     691   \n",
        "44  19032   4.538176   3.399902  2392.155762  1.145180  1.110958     692   \n",
        "45  28922   9.752257  15.337402  2392.155762  0.983670  1.120503     692   \n",
        "46  29954   9.337426  11.005615  2392.155762  1.032673  1.131004     692   \n",
        "47  19888   9.027230  12.528564  2392.155762  1.119211  1.127673     692   \n",
        "48  19544  13.483278  15.736084  2392.155762  1.164432  1.157007     691   \n",
        "49  24511   5.997856   7.633301  2392.155762  1.004355  1.127267     692   \n",
        "50  25295   7.998461  11.074951  2392.155762  1.125565  1.114504     692   \n",
        "51  16773   0.626025   3.215820  2392.155762  1.163680  1.107595     692   \n",
        "52  19039   0.562797   4.562256  2392.155762  1.175665  1.115444     692   \n",
        "53  30920 -19.881504 -17.742920  2392.155762  1.035021  1.143025     692   \n",
        "54  28369 -17.192530 -14.517822  2392.155762  1.100916  1.152639     692   \n",
        "55  20699 -14.834744 -12.978271  2392.155762  1.103250  1.124531     691   \n",
        "56  23040 -14.658939 -13.230469  2392.155762  1.076126  1.132450     692   \n",
        "57  22621  -4.471570  -2.463379  2392.155762  1.055634  1.131216     692   \n",
        "58  21617  -5.953395  -2.858398  2392.155762  1.019773  1.131799     692   \n",
        "59   7820   0.069767   4.006348  2392.155762  1.546765  1.132327     692   \n",
        "      ...        ...        ...          ...       ...       ...     ...   \n",
        "\n",
        "                                                MDPAR  \\\n",
        "0   [0.0, 0.0, 0.0, 0.0, 0.0, 0.0, 0.0, 0.0, 0.0, ...   \n",
        "1   [0.0, 0.0, 0.0, 0.0, 0.0, 0.0, 0.0, 0.0, 0.0, ...   \n",
        "2   [0.0, 0.0, 0.0, 0.0, 0.0, 0.0, 0.0, 0.0, 0.0, ...   \n",
        "3   [0.0, 0.0, 0.0, 0.0, 0.0, 0.0, 0.0, 0.0, 0.0, ...   \n",
        "4   [0.0, 0.0, 0.0, 0.0, 0.0, 0.0, 0.0, 0.0, 0.0, ...   \n",
        "5   [0.0, 0.0, 0.0, 0.0, 0.0, 0.0, 0.0, 0.0, 0.0, ...   \n",
        "6   [0.0, 0.0, 0.0, 0.0, 0.0, 0.0, 0.0, 0.0, 0.0, ...   \n",
        "7   [0.0, 0.0, 0.0, 0.0, 0.0, 0.0, 0.0, 0.0, 0.0, ...   \n",
        "8   [0.0, 0.0, 0.0, 0.0, 0.0, 0.0, 0.0, 0.0, 0.0, ...   \n",
        "9   [0.0, 0.0, 0.0, 0.0, 0.0, 0.0, 0.0, 0.0, 0.0, ...   \n",
        "10  [0.0, 0.0, 0.0, 0.0, 0.0, 0.0, 0.0, 0.0, 0.0, ...   \n",
        "11  [0.0, 0.0, 0.0, 0.0, 0.0, 0.0, 0.0, 0.0, 0.0, ...   \n",
        "12  [0.0, 0.0, 0.0, 0.0, 0.0, 0.0, 0.0, 0.0, 0.0, ...   \n",
        "13  [0.0, 0.0, 0.0, 0.0, 0.0, 0.0, 0.0, 0.0, 0.0, ...   \n",
        "14  [0.0, 0.0, 0.0, 0.0, 0.0, 0.0, 0.0, 0.0, 0.0, ...   \n",
        "15  [0.0, 0.0, 0.0, 0.0, 0.0, 0.0, 0.0, 0.0, 0.0, ...   \n",
        "16  [0.0, 0.0, 0.0, 0.0, 0.0, 0.0, 0.0, 0.0, 0.0, ...   \n",
        "17  [0.0, 0.0, 0.0, 0.0, 0.0, 0.0, 0.0, 0.0, 0.0, ...   \n",
        "18  [0.0, 0.0, 0.0, 0.0, 0.0, 0.0, 0.0, 0.0, 0.0, ...   \n",
        "19  [0.0, 0.0, 0.0, 0.0, 0.0, 0.0, 0.0, 0.0, 0.0, ...   \n",
        "20  [0.0, 0.0, 0.0, 0.0, 0.0, 0.0, 0.0, 0.0, 0.0, ...   \n",
        "21  [0.0, 0.0, 0.0, 0.0, 0.0, 0.0, 0.0, 0.0, 0.0, ...   \n",
        "22  [0.0, 0.0, 0.0, 0.0, 0.0, 0.0, 0.0, 0.0, 0.0, ...   \n",
        "23  [0.0, 0.0, 0.0, 0.0, 0.0, 0.0, 0.0, 0.0, 0.0, ...   \n",
        "24  [0.0, 0.0, 0.0, 0.0, 0.0, 0.0, 0.0, 0.0, 0.0, ...   \n",
        "25  [0.0, 0.0, 0.0, 0.0, 0.0, 0.0, 0.0, 0.0, 0.0, ...   \n",
        "26  [0.0, 0.0, 0.0, 0.0, 0.0, 0.0, 0.0, 0.0, 0.0, ...   \n",
        "27  [0.0, 0.0, 0.0, 0.0, 0.0, 0.0, 0.0, 0.0, 0.0, ...   \n",
        "28  [0.0, 0.0, 0.0, 0.0, 0.0, 0.0, 0.0, 0.0, 0.0, ...   \n",
        "29  [0.0, 0.0, 0.0, 0.0, 0.0, 0.0, 0.0, 0.0, 0.0, ...   \n",
        "30  [0.0, 0.0, 0.0, 0.0, 0.0, 0.0, 0.0, 0.0, 0.0, ...   \n",
        "31  [0.0, 0.0, 0.0, 0.0, 0.0, 0.0, 0.0, 0.0, 0.0, ...   \n",
        "32  [0.0, 0.0, 0.0, 0.0, 0.0, 0.0, 0.0, 0.0, 0.0, ...   \n",
        "33  [0.0, 0.0, 0.0, 0.0, 0.0, 0.0, 0.0, 0.0, 0.0, ...   \n",
        "34  [0.0, 0.0, 0.0, 0.0, 0.0, 0.0, 0.0, 0.0, 0.0, ...   \n",
        "35  [0.0, 0.0, 0.0, 0.0, 0.0, 0.0, 0.0, 0.0, 0.0, ...   \n",
        "36  [0.0, 0.0, 0.0, 0.0, 0.0, 0.0, 0.0, 0.0, 0.0, ...   \n",
        "37  [0.0, 0.0, 0.0, 0.0, 0.0, 0.0, 0.0, 0.0, 0.0, ...   \n",
        "38  [0.0, 0.0, 0.0, 0.0, 0.0, 0.0, 0.0, 0.0, 0.0, ...   \n",
        "39  [0.0, 0.0, 0.0, 0.0, 0.0, 0.0, 0.0, 0.0, 0.0, ...   \n",
        "40  [0.0, 0.0, 0.0, 0.0, 0.0, 0.0, 0.0, 0.0, 0.0, ...   \n",
        "41  [0.0, 0.0, 0.0, 0.0, 0.0, 0.0, 0.0, 0.0, 0.0, ...   \n",
        "42  [0.0, 0.0, 0.0, 0.0, 0.0, 0.0, 0.0, 0.0, 0.0, ...   \n",
        "43  [0.0, 0.0, 0.0, 0.0, 0.0, 0.0, 0.0, 0.0, 0.0, ...   \n",
        "44  [0.0, 0.0, 0.0, 0.0, 0.0, 0.0, 0.0, 0.0, 0.0, ...   \n",
        "45  [0.0, 0.0, 0.0, 0.0, 0.0, 0.0, 0.0, 0.0, 0.0, ...   \n",
        "46  [0.0, 0.0, 0.0, 0.0, 0.0, 0.0, 0.0, 0.0, 0.0, ...   \n",
        "47  [0.0, 0.0, 0.0, 0.0, 0.0, 0.0, 0.0, 0.0, 0.0, ...   \n",
        "48  [0.0, 0.0, 0.0, 0.0, 0.0, 0.0, 0.0, 0.0, 0.0, ...   \n",
        "49  [0.0, 0.0, 0.0, 0.0, 0.0, 0.0, 0.0, 0.0, 0.0, ...   \n",
        "50  [0.0, 0.0, 0.0, 0.0, 0.0, 0.0, 0.0, 0.0, 0.0, ...   \n",
        "51  [0.0, 0.0, 0.0, 0.0, 0.0, 0.0, 0.0, 0.0, 0.0, ...   \n",
        "52  [0.0, 0.0, 0.0, 0.0, 0.0, 0.0, 0.0, 0.0, 0.0, ...   \n",
        "53  [0.0, 0.0, 0.0, 0.0, 0.0, 0.0, 0.0, 0.0, 0.0, ...   \n",
        "54  [0.0, 0.0, 0.0, 0.0, 0.0, 0.0, 0.0, 0.0, 0.0, ...   \n",
        "55  [0.0, 0.0, 0.0, 0.0, 0.0, 0.0, 0.0, 0.0, 0.0, ...   \n",
        "56  [0.0, 0.0, 0.0, 0.0, 0.0, 0.0, 0.0, 0.0, 0.0, ...   \n",
        "57  [0.0, 0.0, 0.0, 0.0, 0.0, 0.0, 0.0, 0.0, 0.0, ...   \n",
        "58  [0.0, 0.0, 0.0, 0.0, 0.0, 0.0, 0.0, 0.0, 0.0, ...   \n",
        "59  [0.0, 0.0, 0.0, 0.0, 0.0, 0.0, 0.0, 0.0, 0.0, ...   \n",
        "                                                  ...   \n",
        "\n",
        "                                                MNPAR  SP1  SP2 SPST  PHASE  \\\n",
        "0   [0.0, 0.0, 0.0, 0.0, 0.0, 0.0, 0.0, 0.0, 0.0, ...    0    0    ?      0   \n",
        "1   [0.0, 0.0, 0.0, 0.0, 0.0, 0.0, 0.0, 0.0, 0.0, ...    0    0    ?      0   \n",
        "2   [0.0, 0.0, 0.0, 0.0, 0.0, 0.0, 0.0, 0.0, 0.0, ...    0    0    ?      0   \n",
        "3   [0.0, 0.0, 0.0, 0.0, 0.0, 0.0, 0.0, 0.0, 0.0, ...    0    0    ?      0   \n",
        "4   [0.0, 0.0, 0.0, 0.0, 0.0, 0.0, 0.0, 0.0, 0.0, ...    0    0    ?      0   \n",
        "5   [0.0, 0.0, 0.0, 0.0, 0.0, 0.0, 0.0, 0.0, 0.0, ...    0    0    ?      0   \n",
        "6   [0.0, 0.0, 0.0, 0.0, 0.0, 0.0, 0.0, 0.0, 0.0, ...    0    0    ?      0   \n",
        "7   [0.0, 0.0, 0.0, 0.0, 0.0, 0.0, 0.0, 0.0, 0.0, ...    0    0    ?      0   \n",
        "8   [0.0, 0.0, 0.0, 0.0, 0.0, 0.0, 0.0, 0.0, 0.0, ...    0    0    ?      0   \n",
        "9   [0.0, 0.0, 0.0, 0.0, 0.0, 0.0, 0.0, 0.0, 0.0, ...    0    0    ?      0   \n",
        "10  [0.0, 0.0, 0.0, 0.0, 0.0, 0.0, 0.0, 0.0, 0.0, ...    0    0    ?      0   \n",
        "11  [0.0, 0.0, 0.0, 0.0, 0.0, 0.0, 0.0, 0.0, 0.0, ...    0    0    ?      0   \n",
        "12  [0.0, 0.0, 0.0, 0.0, 0.0, 0.0, 0.0, 0.0, 0.0, ...    0    0    ?      0   \n",
        "13  [0.0, 0.0, 0.0, 0.0, 0.0, 0.0, 0.0, 0.0, 0.0, ...    0    0    ?      0   \n",
        "14  [0.0, 0.0, 0.0, 0.0, 0.0, 0.0, 0.0, 0.0, 0.0, ...    0    0    ?      0   \n",
        "15  [0.0, 0.0, 0.0, 0.0, 0.0, 0.0, 0.0, 0.0, 0.0, ...    0    0    ?      0   \n",
        "16  [0.0, 0.0, 0.0, 0.0, 0.0, 0.0, 0.0, 0.0, 0.0, ...    0    0    ?      0   \n",
        "17  [0.0, 0.0, 0.0, 0.0, 0.0, 0.0, 0.0, 0.0, 0.0, ...    0    0    ?      0   \n",
        "18  [0.0, 0.0, 0.0, 0.0, 0.0, 0.0, 0.0, 0.0, 0.0, ...    0    0    ?      0   \n",
        "19  [0.0, 0.0, 0.0, 0.0, 0.0, 0.0, 0.0, 0.0, 0.0, ...    0    0    ?      0   \n",
        "20  [0.0, 0.0, 0.0, 0.0, 0.0, 0.0, 0.0, 0.0, 0.0, ...    0    0    ?      0   \n",
        "21  [0.0, 0.0, 0.0, 0.0, 0.0, 0.0, 0.0, 0.0, 0.0, ...    0    0    ?      0   \n",
        "22  [0.0, 0.0, 0.0, 0.0, 0.0, 0.0, 0.0, 0.0, 0.0, ...    0    0    ?      0   \n",
        "23  [0.0, 0.0, 0.0, 0.0, 0.0, 0.0, 0.0, 0.0, 0.0, ...    0    0    ?      0   \n",
        "24  [0.0, 0.0, 0.0, 0.0, 0.0, 0.0, 0.0, 0.0, 0.0, ...    0    0    ?      0   \n",
        "25  [0.0, 0.0, 0.0, 0.0, 0.0, 0.0, 0.0, 0.0, 0.0, ...    0    0    ?      0   \n",
        "26  [0.0, 0.0, 0.0, 0.0, 0.0, 0.0, 0.0, 0.0, 0.0, ...    0    0    ?      0   \n",
        "27  [0.0, 0.0, 0.0, 0.0, 0.0, 0.0, 0.0, 0.0, 0.0, ...    0    0    ?      0   \n",
        "28  [0.0, 0.0, 0.0, 0.0, 0.0, 0.0, 0.0, 0.0, 0.0, ...    0    0    ?      0   \n",
        "29  [0.0, 0.0, 0.0, 0.0, 0.0, 0.0, 0.0, 0.0, 0.0, ...    0    0    ?      0   \n",
        "30  [0.0, 0.0, 0.0, 0.0, 0.0, 0.0, 0.0, 0.0, 0.0, ...    0    0    ?      0   \n",
        "31  [0.0, 0.0, 0.0, 0.0, 0.0, 0.0, 0.0, 0.0, 0.0, ...    0    0    ?      0   \n",
        "32  [0.0, 0.0, 0.0, 0.0, 0.0, 0.0, 0.0, 0.0, 0.0, ...    0    0    ?      0   \n",
        "33  [0.0, 0.0, 0.0, 0.0, 0.0, 0.0, 0.0, 0.0, 0.0, ...    0    0    ?      0   \n",
        "34  [0.0, 0.0, 0.0, 0.0, 0.0, 0.0, 0.0, 0.0, 0.0, ...    0    0    ?      0   \n",
        "35  [0.0, 0.0, 0.0, 0.0, 0.0, 0.0, 0.0, 0.0, 0.0, ...    0    0    ?      0   \n",
        "36  [0.0, 0.0, 0.0, 0.0, 0.0, 0.0, 0.0, 0.0, 0.0, ...    0    0    ?      0   \n",
        "37  [0.0, 0.0, 0.0, 0.0, 0.0, 0.0, 0.0, 0.0, 0.0, ...    0    0    ?      0   \n",
        "38  [0.0, 0.0, 0.0, 0.0, 0.0, 0.0, 0.0, 0.0, 0.0, ...    0    0    ?      0   \n",
        "39  [0.0, 0.0, 0.0, 0.0, 0.0, 0.0, 0.0, 0.0, 0.0, ...    0    0    ?      0   \n",
        "40  [0.0, 0.0, 0.0, 0.0, 0.0, 0.0, 0.0, 0.0, 0.0, ...    0    0    ?      0   \n",
        "41  [0.0, 0.0, 0.0, 0.0, 0.0, 0.0, 0.0, 0.0, 0.0, ...    0    0    ?      0   \n",
        "42  [0.0, 0.0, 0.0, 0.0, 0.0, 0.0, 0.0, 0.0, 0.0, ...    0    0    ?      0   \n",
        "43  [0.0, 0.0, 0.0, 0.0, 0.0, 0.0, 0.0, 0.0, 0.0, ...    0    0    ?      0   \n",
        "44  [0.0, 0.0, 0.0, 0.0, 0.0, 0.0, 0.0, 0.0, 0.0, ...    0    0    ?      0   \n",
        "45  [0.0, 0.0, 0.0, 0.0, 0.0, 0.0, 0.0, 0.0, 0.0, ...    0    0    ?      0   \n",
        "46  [0.0, 0.0, 0.0, 0.0, 0.0, 0.0, 0.0, 0.0, 0.0, ...    0    0    ?      0   \n",
        "47  [0.0, 0.0, 0.0, 0.0, 0.0, 0.0, 0.0, 0.0, 0.0, ...    0    0    ?      0   \n",
        "48  [0.0, 0.0, 0.0, 0.0, 0.0, 0.0, 0.0, 0.0, 0.0, ...    0    0    ?      0   \n",
        "49  [0.0, 0.0, 0.0, 0.0, 0.0, 0.0, 0.0, 0.0, 0.0, ...    0    0    ?      0   \n",
        "50  [0.0, 0.0, 0.0, 0.0, 0.0, 0.0, 0.0, 0.0, 0.0, ...    0    0    ?      0   \n",
        "51  [0.0, 0.0, 0.0, 0.0, 0.0, 0.0, 0.0, 0.0, 0.0, ...    0    0    ?      0   \n",
        "52  [0.0, 0.0, 0.0, 0.0, 0.0, 0.0, 0.0, 0.0, 0.0, ...    0    0    ?      0   \n",
        "53  [0.0, 0.0, 0.0, 0.0, 0.0, 0.0, 0.0, 0.0, 0.0, ...    0    0    ?      0   \n",
        "54  [0.0, 0.0, 0.0, 0.0, 0.0, 0.0, 0.0, 0.0, 0.0, ...    0    0    ?      0   \n",
        "55  [0.0, 0.0, 0.0, 0.0, 0.0, 0.0, 0.0, 0.0, 0.0, ...    0    0    ?      0   \n",
        "56  [0.0, 0.0, 0.0, 0.0, 0.0, 0.0, 0.0, 0.0, 0.0, ...    0    0    ?      0   \n",
        "57  [0.0, 0.0, 0.0, 0.0, 0.0, 0.0, 0.0, 0.0, 0.0, ...    0    0    ?      0   \n",
        "58  [0.0, 0.0, 0.0, 0.0, 0.0, 0.0, 0.0, 0.0, 0.0, ...    0    0    ?      0   \n",
        "59  [0.0, 0.0, 0.0, 0.0, 0.0, 0.0, 0.0, 0.0, 0.0, ...    0    0    ?      0   \n",
        "                                                  ...  ...  ...  ...    ...   \n",
        "\n",
        "        \n",
        "0  ...  \n",
        "1  ...  \n",
        "2  ...  \n",
        "3  ...  \n",
        "4  ...  \n",
        "5  ...  \n",
        "6  ...  \n",
        "7  ...  \n",
        "8  ...  \n",
        "9  ...  \n",
        "10 ...  \n",
        "11 ...  \n",
        "12 ...  \n",
        "13 ...  \n",
        "14 ...  \n",
        "15 ...  \n",
        "16 ...  \n",
        "17 ...  \n",
        "18 ...  \n",
        "19 ...  \n",
        "20 ...  \n",
        "21 ...  \n",
        "22 ...  \n",
        "23 ...  \n",
        "24 ...  \n",
        "25 ...  \n",
        "26 ...  \n",
        "27 ...  \n",
        "28 ...  \n",
        "29 ...  \n",
        "30 ...  \n",
        "31 ...  \n",
        "32 ...  \n",
        "33 ...  \n",
        "34 ...  \n",
        "35 ...  \n",
        "36 ...  \n",
        "37 ...  \n",
        "38 ...  \n",
        "39 ...  \n",
        "40 ...  \n",
        "41 ...  \n",
        "42 ...  \n",
        "43 ...  \n",
        "44 ...  \n",
        "45 ...  \n",
        "46 ...  \n",
        "47 ...  \n",
        "48 ...  \n",
        "49 ...  \n",
        "50 ...  \n",
        "51 ...  \n",
        "52 ...  \n",
        "53 ...  \n",
        "54 ...  \n",
        "55 ...  \n",
        "56 ...  \n",
        "57 ...  \n",
        "58 ...  \n",
        "59 ...  \n",
        "\n",
        "[441 rows x 22 columns]"
       ]
      }
     ],
     "prompt_number": 8
    },
    {
     "cell_type": "code",
     "collapsed": false,
     "input": [
      "#The two SQL tables that the IDL velocity structure save files\n",
      "#are written to:\n",
      "vstTableNames = ['velocities', 'psfs']\n",
      "\n",
      "#The text files that store column names and variable\n",
      "#types in the SQL velocity and psf tables:\n",
      "vstTableFileNames = ['tables/VelocityTable.txt', 'tables/PsfTable.txt']\n",
      "\n",
      "#How tag names in the IDL save structure map\n",
      "#to column names in the SQL tables:\n",
      "mappingTableFileName = 'tables/table2db.txt'\n",
      "\n",
      "#restore map\n",
      "idlSqlMap = getIdlToSqlMapping(mappingTableFileName)\n",
      "\n",
      "#restore the SQL table information to fill before writing to the DB\n",
      "tableDict = getTables(vstTableNames, vstTableFileNames)\n",
      "\n",
      "#restore the IDL velocity structure save file\n",
      "#pdf = idlToPandas(path+fileName)\n",
      "\n",
      "#get the observation_id elements from the SQL DB:\n",
      "obsids = getObservationIds(tableDict, pdf)"
     ],
     "language": "python",
     "metadata": {},
     "outputs": [
      {
       "output_type": "stream",
       "stream": "stdout",
       "text": [
        "pdf length: 441\n",
        "obnm list length: 441\n",
        "obsIds length: 440"
       ]
      },
      {
       "output_type": "stream",
       "stream": "stdout",
       "text": [
        "\n"
       ]
      }
     ],
     "prompt_number": 9
    },
    {
     "cell_type": "code",
     "collapsed": false,
     "input": [
      "print len(idlSqlMap)"
     ],
     "language": "python",
     "metadata": {},
     "outputs": [
      {
       "output_type": "stream",
       "stream": "stdout",
       "text": [
        "229\n"
       ]
      }
     ],
     "prompt_number": 10
    },
    {
     "cell_type": "markdown",
     "metadata": {},
     "source": [
      "This section figures out how to check whether the tempobnms table exists or not."
     ]
    },
    {
     "cell_type": "code",
     "collapsed": false,
     "input": [
      "conn = connectChironDB()"
     ],
     "language": "python",
     "metadata": {},
     "outputs": [],
     "prompt_number": 11
    },
    {
     "cell_type": "code",
     "collapsed": false,
     "input": [
      "cur = conn.cursor()"
     ],
     "language": "python",
     "metadata": {},
     "outputs": [],
     "prompt_number": 12
    },
    {
     "cell_type": "code",
     "collapsed": false,
     "input": [
      "temptabxsts = cur.execute(\"SHOW TABLES LIKE 'tempobnms'\")"
     ],
     "language": "python",
     "metadata": {},
     "outputs": [],
     "prompt_number": 26
    },
    {
     "cell_type": "code",
     "collapsed": false,
     "input": [
      "res = cur.fetchall()"
     ],
     "language": "python",
     "metadata": {},
     "outputs": [],
     "prompt_number": 17
    },
    {
     "cell_type": "code",
     "collapsed": false,
     "input": [
      "print(res)"
     ],
     "language": "python",
     "metadata": {},
     "outputs": [
      {
       "output_type": "stream",
       "stream": "stdout",
       "text": [
        "(('weather',),)\n"
       ]
      }
     ],
     "prompt_number": 21
    },
    {
     "cell_type": "code",
     "collapsed": false,
     "input": [
      "if temptabxsts:\n",
      "    print(\"tempobnms already exists. Now dropping it before proceeding.\")\n",
      "else:\n",
      "    print(\"tempobnms does not exist. Now creating it.\")"
     ],
     "language": "python",
     "metadata": {},
     "outputs": [
      {
       "output_type": "stream",
       "stream": "stdout",
       "text": [
        "tempobnms does not exist. Now creating it.\n"
       ]
      }
     ],
     "prompt_number": 27
    },
    {
     "cell_type": "code",
     "collapsed": false,
     "input": [
      "cur.execute(\"CREATE TABLE tempobnms (obnm varchar(64))\")"
     ],
     "language": "python",
     "metadata": {},
     "outputs": [
      {
       "ename": "InternalError",
       "evalue": "(1813, u\"Tablespace for table '`chirondb`.`tempobnms`' exists. Please DISCARD the tablespace before IMPORT.\")",
       "output_type": "pyerr",
       "traceback": [
        "\u001b[0;31m---------------------------------------------------------------------------\u001b[0m\n\u001b[0;31mInternalError\u001b[0m                             Traceback (most recent call last)",
        "\u001b[0;32m<ipython-input-25-92c82eb8e3fa>\u001b[0m in \u001b[0;36m<module>\u001b[0;34m()\u001b[0m\n\u001b[0;32m----> 1\u001b[0;31m \u001b[0mcur\u001b[0m\u001b[0;34m.\u001b[0m\u001b[0mexecute\u001b[0m\u001b[0;34m(\u001b[0m\u001b[0;34m\"CREATE TABLE tempobnms (obnm varchar(64))\"\u001b[0m\u001b[0;34m)\u001b[0m\u001b[0;34m\u001b[0m\u001b[0m\n\u001b[0m",
        "\u001b[0;32m/Applications/anaconda/lib/python2.7/site-packages/pymysql/cursors.pyc\u001b[0m in \u001b[0;36mexecute\u001b[0;34m(self, query, args)\u001b[0m\n\u001b[1;32m    130\u001b[0m             \u001b[0mquery\u001b[0m \u001b[0;34m=\u001b[0m \u001b[0mquery\u001b[0m \u001b[0;34m%\u001b[0m \u001b[0mself\u001b[0m\u001b[0;34m.\u001b[0m\u001b[0m_escape_args\u001b[0m\u001b[0;34m(\u001b[0m\u001b[0margs\u001b[0m\u001b[0;34m,\u001b[0m \u001b[0mconn\u001b[0m\u001b[0;34m)\u001b[0m\u001b[0;34m\u001b[0m\u001b[0m\n\u001b[1;32m    131\u001b[0m \u001b[0;34m\u001b[0m\u001b[0m\n\u001b[0;32m--> 132\u001b[0;31m         \u001b[0mresult\u001b[0m \u001b[0;34m=\u001b[0m \u001b[0mself\u001b[0m\u001b[0;34m.\u001b[0m\u001b[0m_query\u001b[0m\u001b[0;34m(\u001b[0m\u001b[0mquery\u001b[0m\u001b[0;34m)\u001b[0m\u001b[0;34m\u001b[0m\u001b[0m\n\u001b[0m\u001b[1;32m    133\u001b[0m         \u001b[0mself\u001b[0m\u001b[0;34m.\u001b[0m\u001b[0m_executed\u001b[0m \u001b[0;34m=\u001b[0m \u001b[0mquery\u001b[0m\u001b[0;34m\u001b[0m\u001b[0m\n\u001b[1;32m    134\u001b[0m         \u001b[0;32mreturn\u001b[0m \u001b[0mresult\u001b[0m\u001b[0;34m\u001b[0m\u001b[0m\n",
        "\u001b[0;32m/Applications/anaconda/lib/python2.7/site-packages/pymysql/cursors.pyc\u001b[0m in \u001b[0;36m_query\u001b[0;34m(self, q)\u001b[0m\n\u001b[1;32m    269\u001b[0m         \u001b[0mconn\u001b[0m \u001b[0;34m=\u001b[0m \u001b[0mself\u001b[0m\u001b[0;34m.\u001b[0m\u001b[0m_get_db\u001b[0m\u001b[0;34m(\u001b[0m\u001b[0;34m)\u001b[0m\u001b[0;34m\u001b[0m\u001b[0m\n\u001b[1;32m    270\u001b[0m         \u001b[0mself\u001b[0m\u001b[0;34m.\u001b[0m\u001b[0m_last_executed\u001b[0m \u001b[0;34m=\u001b[0m \u001b[0mq\u001b[0m\u001b[0;34m\u001b[0m\u001b[0m\n\u001b[0;32m--> 271\u001b[0;31m         \u001b[0mconn\u001b[0m\u001b[0;34m.\u001b[0m\u001b[0mquery\u001b[0m\u001b[0;34m(\u001b[0m\u001b[0mq\u001b[0m\u001b[0;34m)\u001b[0m\u001b[0;34m\u001b[0m\u001b[0m\n\u001b[0m\u001b[1;32m    272\u001b[0m         \u001b[0mself\u001b[0m\u001b[0;34m.\u001b[0m\u001b[0m_do_get_result\u001b[0m\u001b[0;34m(\u001b[0m\u001b[0;34m)\u001b[0m\u001b[0;34m\u001b[0m\u001b[0m\n\u001b[1;32m    273\u001b[0m         \u001b[0;32mreturn\u001b[0m \u001b[0mself\u001b[0m\u001b[0;34m.\u001b[0m\u001b[0mrowcount\u001b[0m\u001b[0;34m\u001b[0m\u001b[0m\n",
        "\u001b[0;32m/Applications/anaconda/lib/python2.7/site-packages/pymysql/connections.pyc\u001b[0m in \u001b[0;36mquery\u001b[0;34m(self, sql, unbuffered)\u001b[0m\n\u001b[1;32m    724\u001b[0m             \u001b[0msql\u001b[0m \u001b[0;34m=\u001b[0m \u001b[0msql\u001b[0m\u001b[0;34m.\u001b[0m\u001b[0mencode\u001b[0m\u001b[0;34m(\u001b[0m\u001b[0mself\u001b[0m\u001b[0;34m.\u001b[0m\u001b[0mencoding\u001b[0m\u001b[0;34m)\u001b[0m\u001b[0;34m\u001b[0m\u001b[0m\n\u001b[1;32m    725\u001b[0m         \u001b[0mself\u001b[0m\u001b[0;34m.\u001b[0m\u001b[0m_execute_command\u001b[0m\u001b[0;34m(\u001b[0m\u001b[0mCOM_QUERY\u001b[0m\u001b[0;34m,\u001b[0m \u001b[0msql\u001b[0m\u001b[0;34m)\u001b[0m\u001b[0;34m\u001b[0m\u001b[0m\n\u001b[0;32m--> 726\u001b[0;31m         \u001b[0mself\u001b[0m\u001b[0;34m.\u001b[0m\u001b[0m_affected_rows\u001b[0m \u001b[0;34m=\u001b[0m \u001b[0mself\u001b[0m\u001b[0;34m.\u001b[0m\u001b[0m_read_query_result\u001b[0m\u001b[0;34m(\u001b[0m\u001b[0munbuffered\u001b[0m\u001b[0;34m=\u001b[0m\u001b[0munbuffered\u001b[0m\u001b[0;34m)\u001b[0m\u001b[0;34m\u001b[0m\u001b[0m\n\u001b[0m\u001b[1;32m    727\u001b[0m         \u001b[0;32mreturn\u001b[0m \u001b[0mself\u001b[0m\u001b[0;34m.\u001b[0m\u001b[0m_affected_rows\u001b[0m\u001b[0;34m\u001b[0m\u001b[0m\n\u001b[1;32m    728\u001b[0m \u001b[0;34m\u001b[0m\u001b[0m\n",
        "\u001b[0;32m/Applications/anaconda/lib/python2.7/site-packages/pymysql/connections.pyc\u001b[0m in \u001b[0;36m_read_query_result\u001b[0;34m(self, unbuffered)\u001b[0m\n\u001b[1;32m    859\u001b[0m         \u001b[0;32melse\u001b[0m\u001b[0;34m:\u001b[0m\u001b[0;34m\u001b[0m\u001b[0m\n\u001b[1;32m    860\u001b[0m             \u001b[0mresult\u001b[0m \u001b[0;34m=\u001b[0m \u001b[0mMySQLResult\u001b[0m\u001b[0;34m(\u001b[0m\u001b[0mself\u001b[0m\u001b[0;34m)\u001b[0m\u001b[0;34m\u001b[0m\u001b[0m\n\u001b[0;32m--> 861\u001b[0;31m             \u001b[0mresult\u001b[0m\u001b[0;34m.\u001b[0m\u001b[0mread\u001b[0m\u001b[0;34m(\u001b[0m\u001b[0;34m)\u001b[0m\u001b[0;34m\u001b[0m\u001b[0m\n\u001b[0m\u001b[1;32m    862\u001b[0m         \u001b[0mself\u001b[0m\u001b[0;34m.\u001b[0m\u001b[0m_result\u001b[0m \u001b[0;34m=\u001b[0m \u001b[0mresult\u001b[0m\u001b[0;34m\u001b[0m\u001b[0m\n\u001b[1;32m    863\u001b[0m         \u001b[0;32mif\u001b[0m \u001b[0mresult\u001b[0m\u001b[0;34m.\u001b[0m\u001b[0mserver_status\u001b[0m \u001b[0;32mis\u001b[0m \u001b[0;32mnot\u001b[0m \u001b[0mNone\u001b[0m\u001b[0;34m:\u001b[0m\u001b[0;34m\u001b[0m\u001b[0m\n",
        "\u001b[0;32m/Applications/anaconda/lib/python2.7/site-packages/pymysql/connections.pyc\u001b[0m in \u001b[0;36mread\u001b[0;34m(self)\u001b[0m\n\u001b[1;32m   1062\u001b[0m     \u001b[0;32mdef\u001b[0m \u001b[0mread\u001b[0m\u001b[0;34m(\u001b[0m\u001b[0mself\u001b[0m\u001b[0;34m)\u001b[0m\u001b[0;34m:\u001b[0m\u001b[0;34m\u001b[0m\u001b[0m\n\u001b[1;32m   1063\u001b[0m         \u001b[0;32mtry\u001b[0m\u001b[0;34m:\u001b[0m\u001b[0;34m\u001b[0m\u001b[0m\n\u001b[0;32m-> 1064\u001b[0;31m             \u001b[0mfirst_packet\u001b[0m \u001b[0;34m=\u001b[0m \u001b[0mself\u001b[0m\u001b[0;34m.\u001b[0m\u001b[0mconnection\u001b[0m\u001b[0;34m.\u001b[0m\u001b[0m_read_packet\u001b[0m\u001b[0;34m(\u001b[0m\u001b[0;34m)\u001b[0m\u001b[0;34m\u001b[0m\u001b[0m\n\u001b[0m\u001b[1;32m   1065\u001b[0m \u001b[0;34m\u001b[0m\u001b[0m\n\u001b[1;32m   1066\u001b[0m             \u001b[0;31m# TODO: use classes for different packet types?\u001b[0m\u001b[0;34m\u001b[0m\u001b[0;34m\u001b[0m\u001b[0m\n",
        "\u001b[0;32m/Applications/anaconda/lib/python2.7/site-packages/pymysql/connections.pyc\u001b[0m in \u001b[0;36m_read_packet\u001b[0;34m(self, packet_type)\u001b[0m\n\u001b[1;32m    824\u001b[0m         \"\"\"\n\u001b[1;32m    825\u001b[0m         \u001b[0mpacket\u001b[0m \u001b[0;34m=\u001b[0m \u001b[0mpacket_type\u001b[0m\u001b[0;34m(\u001b[0m\u001b[0mself\u001b[0m\u001b[0;34m)\u001b[0m\u001b[0;34m\u001b[0m\u001b[0m\n\u001b[0;32m--> 826\u001b[0;31m         \u001b[0mpacket\u001b[0m\u001b[0;34m.\u001b[0m\u001b[0mcheck_error\u001b[0m\u001b[0;34m(\u001b[0m\u001b[0;34m)\u001b[0m\u001b[0;34m\u001b[0m\u001b[0m\n\u001b[0m\u001b[1;32m    827\u001b[0m         \u001b[0;32mreturn\u001b[0m \u001b[0mpacket\u001b[0m\u001b[0;34m\u001b[0m\u001b[0m\n\u001b[1;32m    828\u001b[0m \u001b[0;34m\u001b[0m\u001b[0m\n",
        "\u001b[0;32m/Applications/anaconda/lib/python2.7/site-packages/pymysql/connections.pyc\u001b[0m in \u001b[0;36mcheck_error\u001b[0;34m(self)\u001b[0m\n\u001b[1;32m    368\u001b[0m             \u001b[0merrno\u001b[0m \u001b[0;34m=\u001b[0m \u001b[0munpack_uint16\u001b[0m\u001b[0;34m(\u001b[0m\u001b[0mself\u001b[0m\u001b[0;34m.\u001b[0m\u001b[0mread\u001b[0m\u001b[0;34m(\u001b[0m\u001b[0;36m2\u001b[0m\u001b[0;34m)\u001b[0m\u001b[0;34m)\u001b[0m\u001b[0;34m\u001b[0m\u001b[0m\n\u001b[1;32m    369\u001b[0m             \u001b[0;32mif\u001b[0m \u001b[0mDEBUG\u001b[0m\u001b[0;34m:\u001b[0m \u001b[0;32mprint\u001b[0m\u001b[0;34m(\u001b[0m\u001b[0;34m\"errno =\"\u001b[0m\u001b[0;34m,\u001b[0m \u001b[0merrno\u001b[0m\u001b[0;34m)\u001b[0m\u001b[0;34m\u001b[0m\u001b[0m\n\u001b[0;32m--> 370\u001b[0;31m             \u001b[0mraise_mysql_exception\u001b[0m\u001b[0;34m(\u001b[0m\u001b[0mself\u001b[0m\u001b[0;34m.\u001b[0m\u001b[0m_data\u001b[0m\u001b[0;34m)\u001b[0m\u001b[0;34m\u001b[0m\u001b[0m\n\u001b[0m\u001b[1;32m    371\u001b[0m \u001b[0;34m\u001b[0m\u001b[0m\n\u001b[1;32m    372\u001b[0m     \u001b[0;32mdef\u001b[0m \u001b[0mdump\u001b[0m\u001b[0;34m(\u001b[0m\u001b[0mself\u001b[0m\u001b[0;34m)\u001b[0m\u001b[0;34m:\u001b[0m\u001b[0;34m\u001b[0m\u001b[0m\n",
        "\u001b[0;32m/Applications/anaconda/lib/python2.7/site-packages/pymysql/err.pyc\u001b[0m in \u001b[0;36mraise_mysql_exception\u001b[0;34m(data)\u001b[0m\n\u001b[1;32m    114\u001b[0m \u001b[0;32mdef\u001b[0m \u001b[0mraise_mysql_exception\u001b[0m\u001b[0;34m(\u001b[0m\u001b[0mdata\u001b[0m\u001b[0;34m)\u001b[0m\u001b[0;34m:\u001b[0m\u001b[0;34m\u001b[0m\u001b[0m\n\u001b[1;32m    115\u001b[0m     \u001b[0merrinfo\u001b[0m \u001b[0;34m=\u001b[0m \u001b[0m_get_error_info\u001b[0m\u001b[0;34m(\u001b[0m\u001b[0mdata\u001b[0m\u001b[0;34m)\u001b[0m\u001b[0;34m\u001b[0m\u001b[0m\n\u001b[0;32m--> 116\u001b[0;31m     \u001b[0m_check_mysql_exception\u001b[0m\u001b[0;34m(\u001b[0m\u001b[0merrinfo\u001b[0m\u001b[0;34m)\u001b[0m\u001b[0;34m\u001b[0m\u001b[0m\n\u001b[0m",
        "\u001b[0;32m/Applications/anaconda/lib/python2.7/site-packages/pymysql/err.pyc\u001b[0m in \u001b[0;36m_check_mysql_exception\u001b[0;34m(errinfo)\u001b[0m\n\u001b[1;32m    110\u001b[0m \u001b[0;34m\u001b[0m\u001b[0m\n\u001b[1;32m    111\u001b[0m     \u001b[0;31m# couldn't find the right error number\u001b[0m\u001b[0;34m\u001b[0m\u001b[0;34m\u001b[0m\u001b[0m\n\u001b[0;32m--> 112\u001b[0;31m     \u001b[0;32mraise\u001b[0m \u001b[0mInternalError\u001b[0m\u001b[0;34m(\u001b[0m\u001b[0merrno\u001b[0m\u001b[0;34m,\u001b[0m \u001b[0merrorvalue\u001b[0m\u001b[0;34m)\u001b[0m\u001b[0;34m\u001b[0m\u001b[0m\n\u001b[0m\u001b[1;32m    113\u001b[0m \u001b[0;34m\u001b[0m\u001b[0m\n\u001b[1;32m    114\u001b[0m \u001b[0;32mdef\u001b[0m \u001b[0mraise_mysql_exception\u001b[0m\u001b[0;34m(\u001b[0m\u001b[0mdata\u001b[0m\u001b[0;34m)\u001b[0m\u001b[0;34m:\u001b[0m\u001b[0;34m\u001b[0m\u001b[0m\n",
        "\u001b[0;31mInternalError\u001b[0m: (1813, u\"Tablespace for table '`chirondb`.`tempobnms`' exists. Please DISCARD the tablespace before IMPORT.\")"
       ]
      }
     ],
     "prompt_number": 25
    },
    {
     "cell_type": "code",
     "collapsed": false,
     "input": [
      "pidx = 0\n",
      "for idx in range(len(idlSqlMap)):\n",
      "    if idlSqlMap.fitsSourceFile[idx] == 'vst':\n",
      "        #current SQL table name to write things to:\n",
      "        cTbNm = idlSqlMap.sqlDestTable[idx] \n",
      "\n",
      "        #determine the location in the table to write the value to. \n",
      "        tabloc = np.where(tableDict[cTbNm].fieldName == idlSqlMap.sqlColumnName[idx])[0][0]\n",
      "\n",
      "        #if the IDL structure contains an array, it will need to be broken up:\n",
      "        if idlSqlMap.arrIndex[idx] > -1:\n",
      "            arrIdx = int(idlSqlMap.arrIndex[idx])\n",
      "            fullArr = list(pdf[idlSqlMap.fitsKeyName[idx]][pidx])\n",
      "            newObsVal = fullArr[arrIdx]\n",
      "        else:\n",
      "            newObsVal = pdf[idlSqlMap.fitsKeyName[idx]][pidx]\n",
      "            \n",
      "        tableDict[cTbNm].loc[tabloc, 'obsValue'] = newObsVal"
     ],
     "language": "python",
     "metadata": {},
     "outputs": [
      {
       "output_type": "stream",
       "stream": "stdout",
       "text": [
        "('index: ', 141)\n",
        "OBNM velocities\n",
        "nan False\n",
        "velocities\n",
        "1\n",
        "('newObsVal: ', 'achi120612.1118')\n",
        "('index: ', 142)\n",
        "IODNM velocities\n",
        "nan False\n",
        "velocities\n",
        "2\n",
        "('newObsVal: ', '?')\n",
        "('index: ', 143)\n",
        "BC velocities\n",
        "nan False\n",
        "velocities\n",
        "3\n",
        "('newObsVal: ', 24283.422)\n",
        "('index: ', 144)\n",
        "Z velocities\n",
        "nan False\n",
        "velocities\n",
        "4\n",
        "('newObsVal: ', 8.505398e-06)\n",
        "('index: ', 145)\n",
        "JD velocities\n",
        "nan False\n",
        "velocities\n",
        "5\n",
        "('newObsVal: ', 16091.924664)\n",
        "('index: ', 146)\n",
        "DEWAR velocities\n",
        "nan False\n",
        "velocities\n",
        "6\n",
        "('newObsVal: ', 50)\n",
        "('index: ', 147)\n",
        "GAIN velocities\n",
        "nan False\n",
        "velocities\n",
        "7\n",
        "('newObsVal: ', 1.3)\n",
        "('index: ', 148)\n",
        "CTS velocities\n",
        "nan False\n",
        "velocities\n",
        "8\n",
        "('newObsVal: ', 13301)\n",
        "('index: ', 149)\n",
        "MNVEL velocities\n",
        "nan False\n",
        "velocities\n",
        "9\n",
        "('newObsVal: ', 1.9240546)\n",
        "('index: ', 150)\n",
        "MDVEL velocities\n",
        "nan False\n",
        "velocities\n",
        "10\n",
        "('newObsVal: ', -1.21875)\n",
        "('index: ', 151)\n",
        "MED_ALL velocities\n",
        "nan False\n",
        "velocities\n",
        "11\n",
        "('newObsVal: ', 26832.26)\n",
        "('index: ', 152)\n",
        "ERRVEL velocities\n",
        "nan False\n",
        "velocities\n",
        "12\n",
        "('newObsVal: ', 1.3917692)\n",
        "('index: ', 153)\n",
        "MDCHI velocities\n",
        "nan False\n",
        "velocities\n",
        "13\n",
        "('newObsVal: ', 1.0994366)\n",
        "('index: ', 154)\n",
        "NCHUNK velocities\n",
        "nan False\n",
        "velocities\n",
        "14\n",
        "('newObsVal: ', 691)\n",
        "('index: ', 155)\n",
        "MDPAR psfs\n",
        "0.0 True\n",
        "psfs\n",
        "1\n",
        "('arrIdx is: ', 0)\n",
        "('full array: ', [0.0, 0.0, 0.0, 0.0, 0.0, 0.0, 0.0, 0.0, 0.0, 0.0, 0.0, 0.0, 0.0, 0.0, 0.0, 0.0, 0.0, 0.0, 0.0, 0.0])\n",
        "('newObsVal from array: ', 0.0)\n",
        "('index: ', 156)\n",
        "MDPAR psfs\n",
        "1.0 True\n",
        "psfs\n",
        "2\n",
        "('arrIdx is: ', 1)\n",
        "('full array: ', [0.0, 0.0, 0.0, 0.0, 0.0, 0.0, 0.0, 0.0, 0.0, 0.0, 0.0, 0.0, 0.0, 0.0, 0.0, 0.0, 0.0, 0.0, 0.0, 0.0])\n",
        "('newObsVal from array: ', 0.0)\n",
        "('index: ', 157)\n",
        "MDPAR psfs\n",
        "2.0 True\n",
        "psfs\n",
        "3\n",
        "('arrIdx is: ', 2)\n",
        "('full array: ', [0.0, 0.0, 0.0, 0.0, 0.0, 0.0, 0.0, 0.0, 0.0, 0.0, 0.0, 0.0, 0.0, 0.0, 0.0, 0.0, 0.0, 0.0, 0.0, 0.0])\n",
        "('newObsVal from array: ', 0.0)\n",
        "('index: ', 158)\n",
        "MDPAR psfs\n",
        "3.0 True\n",
        "psfs\n",
        "4\n",
        "('arrIdx is: ', 3)\n",
        "('full array: ', [0.0, 0.0, 0.0, 0.0, 0.0, 0.0, 0.0, 0.0, 0.0, 0.0, 0.0, 0.0, 0.0, 0.0, 0.0, 0.0, 0.0, 0.0, 0.0, 0.0])\n",
        "('newObsVal from array: ', 0.0)\n",
        "('index: ', 159)\n",
        "MDPAR psfs\n",
        "4.0 True\n",
        "psfs\n",
        "5\n",
        "('arrIdx is: ', 4)\n",
        "('full array: ', [0.0, 0.0, 0.0, 0.0, 0.0, 0.0, 0.0, 0.0, 0.0, 0.0, 0.0, 0.0, 0.0, 0.0, 0.0, 0.0, 0.0, 0.0, 0.0, 0.0])\n",
        "('newObsVal from array: ', 0.0)\n",
        "('index: ', 160)\n",
        "MDPAR psfs\n",
        "5.0 True\n",
        "psfs\n",
        "6\n",
        "('arrIdx is: ', 5)\n",
        "('full array: ', [0.0, 0.0, 0.0, 0.0, 0.0, 0.0, 0.0, 0.0, 0.0, 0.0, 0.0, 0.0, 0.0, 0.0, 0.0, 0.0, 0.0, 0.0, 0.0, 0.0])\n",
        "('newObsVal from array: ', 0.0)\n",
        "('index: ', 161)\n",
        "MDPAR psfs\n",
        "6.0 True\n",
        "psfs\n",
        "7\n",
        "('arrIdx is: ', 6)\n",
        "('full array: ', [0.0, 0.0, 0.0, 0.0, 0.0, 0.0, 0.0, 0.0, 0.0, 0.0, 0.0, 0.0, 0.0, 0.0, 0.0, 0.0, 0.0, 0.0, 0.0, 0.0])\n",
        "('newObsVal from array: ', 0.0)\n",
        "('index: ', 162)\n",
        "MDPAR psfs\n",
        "7.0 True\n",
        "psfs\n",
        "8\n",
        "('arrIdx is: ', 7)\n",
        "('full array: ', [0.0, 0.0, 0.0, 0.0, 0.0, 0.0, 0.0, 0.0, 0.0, 0.0, 0.0, 0.0, 0.0, 0.0, 0.0, 0.0, 0.0, 0.0, 0.0, 0.0])\n",
        "('newObsVal from array: ', 0.0)\n",
        "('index: ', 163)\n",
        "MDPAR psfs\n",
        "8.0 True\n",
        "psfs\n",
        "9\n",
        "('arrIdx is: ', 8)\n",
        "('full array: ', [0.0, 0.0, 0.0, 0.0, 0.0, 0.0, 0.0, 0.0, 0.0, 0.0, 0.0, 0.0, 0.0, 0.0, 0.0, 0.0, 0.0, 0.0, 0.0, 0.0])\n",
        "('newObsVal from array: ', 0.0)\n",
        "('index: ', 164)\n",
        "MDPAR psfs\n",
        "9.0 True\n",
        "psfs\n",
        "10\n",
        "('arrIdx is: ', 9)\n",
        "('full array: ', [0.0, 0.0, 0.0, 0.0, 0.0, 0.0, 0.0, 0.0, 0.0, 0.0, 0.0, 0.0, 0.0, 0.0, 0.0, 0.0, 0.0, 0.0, 0.0, 0.0])\n",
        "('newObsVal from array: ', 0.0)\n",
        "('index: ', 165)\n",
        "MDPAR psfs\n",
        "10.0 True\n",
        "psfs\n",
        "11\n",
        "('arrIdx is: ', 10)\n",
        "('full array: ', [0.0, 0.0, 0.0, 0.0, 0.0, 0.0, 0.0, 0.0, 0.0, 0.0, 0.0, 0.0, 0.0, 0.0, 0.0, 0.0, 0.0, 0.0, 0.0, 0.0])\n",
        "('newObsVal from array: ', 0.0)\n",
        "('index: ', 166)\n",
        "MDPAR psfs\n",
        "11.0 True\n",
        "psfs\n",
        "12\n",
        "('arrIdx is: ', 11)\n",
        "('full array: ', [0.0, 0.0, 0.0, 0.0, 0.0, 0.0, 0.0, 0.0, 0.0, 0.0, 0.0, 0.0, 0.0, 0.0, 0.0, 0.0, 0.0, 0.0, 0.0, 0.0])\n",
        "('newObsVal from array: ', 0.0)\n",
        "('index: ', 167)\n",
        "MDPAR psfs\n",
        "12.0 True\n",
        "psfs\n",
        "13\n",
        "('arrIdx is: ', 12)\n",
        "('full array: ', [0.0, 0.0, 0.0, 0.0, 0.0, 0.0, 0.0, 0.0, 0.0, 0.0, 0.0, 0.0, 0.0, 0.0, 0.0, 0.0, 0.0, 0.0, 0.0, 0.0])\n",
        "('newObsVal from array: ', 0.0)\n",
        "('index: ', 168)\n",
        "MDPAR psfs\n",
        "13.0 True\n",
        "psfs\n",
        "14\n",
        "('arrIdx is: ', 13)\n",
        "('full array: ', [0.0, 0.0, 0.0, 0.0, 0.0, 0.0, 0.0, 0.0, 0.0, 0.0, 0.0, 0.0, 0.0, 0.0, 0.0, 0.0, 0.0, 0.0, 0.0, 0.0])\n",
        "('newObsVal from array: ', 0.0)\n",
        "('index: ', 169)\n",
        "MDPAR psfs\n",
        "14.0 True\n",
        "psfs\n",
        "15\n",
        "('arrIdx is: ', 14)\n",
        "('full array: ', [0.0, 0.0, 0.0, 0.0, 0.0, 0.0, 0.0, 0.0, 0.0, 0.0, 0.0, 0.0, 0.0, 0.0, 0.0, 0.0, 0.0, 0.0, 0.0, 0.0])\n",
        "('newObsVal from array: ', 0.0)\n",
        "('index: ', 170)\n",
        "MDPAR psfs\n",
        "15.0 True\n",
        "psfs\n",
        "16\n",
        "('arrIdx is: ', 15)\n",
        "('full array: ', [0.0, 0.0, 0.0, 0.0, 0.0, 0.0, 0.0, 0.0, 0.0, 0.0, 0.0, 0.0, 0.0, 0.0, 0.0, 0.0, 0.0, 0.0, 0.0, 0.0])\n",
        "('newObsVal from array: ', 0.0)\n",
        "('index: ', 171)\n",
        "MDPAR psfs\n",
        "16.0 True\n",
        "psfs\n",
        "17\n",
        "('arrIdx is: ', 16)\n",
        "('full array: ', [0.0, 0.0, 0.0, 0.0, 0.0, 0.0, 0.0, 0.0, 0.0, 0.0, 0.0, 0.0, 0.0, 0.0, 0.0, 0.0, 0.0, 0.0, 0.0, 0.0])\n",
        "('newObsVal from array: ', 0.0)\n",
        "('index: ', 172)\n",
        "MDPAR psfs\n",
        "17.0 True\n",
        "psfs\n",
        "18\n",
        "('arrIdx is: ', 17)\n",
        "('full array: ', [0.0, 0.0, 0.0, 0.0, 0.0, 0.0, 0.0, 0.0, 0.0, 0.0, 0.0, 0.0, 0.0, 0.0, 0.0, 0.0, 0.0, 0.0, 0.0, 0.0])\n",
        "('newObsVal from array: ', 0.0)\n",
        "('index: ', 173)\n",
        "MDPAR psfs\n",
        "18.0 True\n",
        "psfs\n",
        "19\n",
        "('arrIdx is: ', 18)\n",
        "('full array: ', [0.0, 0.0, 0.0, 0.0, 0.0, 0.0, 0.0, 0.0, 0.0, 0.0, 0.0, 0.0, 0.0, 0.0, 0.0, 0.0, 0.0, 0.0, 0.0, 0.0])\n",
        "('newObsVal from array: ', 0.0)\n",
        "('index: ', 174)\n",
        "MDPAR psfs\n",
        "19.0 True\n",
        "psfs\n",
        "20\n",
        "('arrIdx is: ', 19)\n",
        "('full array: ', [0.0, 0.0, 0.0, 0.0, 0.0, 0.0, 0.0, 0.0, 0.0, 0.0, 0.0, 0.0, 0.0, 0.0, 0.0, 0.0, 0.0, 0.0, 0.0, 0.0])\n",
        "('newObsVal from array: ', 0.0)\n",
        "('index: ', 175)\n",
        "MNPAR psfs\n",
        "0.0 True\n",
        "psfs\n",
        "21\n",
        "('arrIdx is: ', 0)\n",
        "('full array: ', [0.0, 0.0, 0.0, 0.0, 0.0, 0.0, 0.0, 0.0, 0.0, 0.0, 0.0, 0.0, 0.0, 0.0, 0.0, 0.0, 0.0, 0.0, 0.0, 0.0])\n",
        "('newObsVal from array: ', 0.0)\n",
        "('index: ', 176)\n",
        "MNPAR psfs\n",
        "1.0 True\n",
        "psfs\n",
        "22\n",
        "('arrIdx is: ', 1)\n",
        "('full array: ', [0.0, 0.0, 0.0, 0.0, 0.0, 0.0, 0.0, 0.0, 0.0, 0.0, 0.0, 0.0, 0.0, 0.0, 0.0, 0.0, 0.0, 0.0, 0.0, 0.0])\n",
        "('newObsVal from array: ', 0.0)\n",
        "('index: ', 177)\n",
        "MNPAR psfs\n",
        "2.0 True\n",
        "psfs\n",
        "23\n",
        "('arrIdx is: ', 2)\n",
        "('full array: ', [0.0, 0.0, 0.0, 0.0, 0.0, 0.0, 0.0, 0.0, 0.0, 0.0, 0.0, 0.0, 0.0, 0.0, 0.0, 0.0, 0.0, 0.0, 0.0, 0.0])\n",
        "('newObsVal from array: ', 0.0)\n",
        "('index: ', 178)\n",
        "MNPAR psfs\n",
        "3.0 True\n",
        "psfs\n",
        "24\n",
        "('arrIdx is: ', 3)\n",
        "('full array: ', [0.0, 0.0, 0.0, 0.0, 0.0, 0.0, 0.0, 0.0, 0.0, 0.0, 0.0, 0.0, 0.0, 0.0, 0.0, 0.0, 0.0, 0.0, 0.0, 0.0])\n",
        "('newObsVal from array: ', 0.0)\n",
        "('index: ', 179)\n",
        "MNPAR psfs\n",
        "4.0 True\n",
        "psfs\n",
        "25\n",
        "('arrIdx is: ', 4)\n",
        "('full array: ', [0.0, 0.0, 0.0, 0.0, 0.0, 0.0, 0.0, 0.0, 0.0, 0.0, 0.0, 0.0, 0.0, 0.0, 0.0, 0.0, 0.0, 0.0, 0.0, 0.0])\n",
        "('newObsVal from array: ', 0.0)\n",
        "('index: ', 180)\n",
        "MNPAR psfs\n",
        "5.0 True\n",
        "psfs\n",
        "26\n",
        "('arrIdx is: ', 5)\n",
        "('full array: ', [0.0, 0.0, 0.0, 0.0, 0.0, 0.0, 0.0, 0.0, 0.0, 0.0, 0.0, 0.0, 0.0, 0.0, 0.0, 0.0, 0.0, 0.0, 0.0, 0.0])\n",
        "('newObsVal from array: ', 0.0)\n",
        "('index: ', 181)\n",
        "MNPAR psfs\n",
        "6.0 True\n",
        "psfs\n",
        "27\n",
        "('arrIdx is: ', 6)\n",
        "('full array: ', [0.0, 0.0, 0.0, 0.0, 0.0, 0.0, 0.0, 0.0, 0.0, 0.0, 0.0, 0.0, 0.0, 0.0, 0.0, 0.0, 0.0, 0.0, 0.0, 0.0])\n",
        "('newObsVal from array: ', 0.0)\n",
        "('index: ', 182)\n",
        "MNPAR psfs\n",
        "7.0 True\n",
        "psfs\n",
        "28\n",
        "('arrIdx is: ', 7)\n",
        "('full array: ', [0.0, 0.0, 0.0, 0.0, 0.0, 0.0, 0.0, 0.0, 0.0, 0.0, 0.0, 0.0, 0.0, 0.0, 0.0, 0.0, 0.0, 0.0, 0.0, 0.0])\n",
        "('newObsVal from array: ', 0.0)\n",
        "('index: ', 183)\n",
        "MNPAR psfs\n",
        "8.0 True\n",
        "psfs\n",
        "29\n",
        "('arrIdx is: ', 8)\n",
        "('full array: ', [0.0, 0.0, 0.0, 0.0, 0.0, 0.0, 0.0, 0.0, 0.0, 0.0, 0.0, 0.0, 0.0, 0.0, 0.0, 0.0, 0.0, 0.0, 0.0, 0.0])\n",
        "('newObsVal from array: ', 0.0)\n",
        "('index: ', 184)\n",
        "MNPAR psfs\n",
        "9.0 True\n",
        "psfs\n",
        "30\n",
        "('arrIdx is: ', 9)\n",
        "('full array: ', [0.0, 0.0, 0.0, 0.0, 0.0, 0.0, 0.0, 0.0, 0.0, 0.0, 0.0, 0.0, 0.0, 0.0, 0.0, 0.0, 0.0, 0.0, 0.0, 0.0])\n",
        "('newObsVal from array: ', 0.0)\n",
        "('index: ', 185)\n",
        "MNPAR psfs\n",
        "10.0 True\n",
        "psfs\n",
        "31\n",
        "('arrIdx is: ', 10)\n",
        "('full array: ', [0.0, 0.0, 0.0, 0.0, 0.0, 0.0, 0.0, 0.0, 0.0, 0.0, 0.0, 0.0, 0.0, 0.0, 0.0, 0.0, 0.0, 0.0, 0.0, 0.0])\n",
        "('newObsVal from array: ', 0.0)\n",
        "('index: ', 186)\n",
        "MNPAR psfs\n",
        "11.0 True\n",
        "psfs\n",
        "32\n",
        "('arrIdx is: ', 11)\n",
        "('full array: ', [0.0, 0.0, 0.0, 0.0, 0.0, 0.0, 0.0, 0.0, 0.0, 0.0, 0.0, 0.0, 0.0, 0.0, 0.0, 0.0, 0.0, 0.0, 0.0, 0.0])\n",
        "('newObsVal from array: ', 0.0)\n",
        "('index: ', 187)\n",
        "MNPAR psfs\n",
        "12.0 True\n",
        "psfs\n",
        "33\n",
        "('arrIdx is: ', 12)\n",
        "('full array: ', [0.0, 0.0, 0.0, 0.0, 0.0, 0.0, 0.0, 0.0, 0.0, 0.0, 0.0, 0.0, 0.0, 0.0, 0.0, 0.0, 0.0, 0.0, 0.0, 0.0])\n",
        "('newObsVal from array: ', 0.0)\n",
        "('index: ', 188)\n",
        "MNPAR psfs\n",
        "13.0 "
       ]
      },
      {
       "output_type": "stream",
       "stream": "stdout",
       "text": [
        "True\n",
        "psfs\n",
        "34\n",
        "('arrIdx is: ', 13)\n",
        "('full array: ', [0.0, 0.0, 0.0, 0.0, 0.0, 0.0, 0.0, 0.0, 0.0, 0.0, 0.0, 0.0, 0.0, 0.0, 0.0, 0.0, 0.0, 0.0, 0.0, 0.0])\n",
        "('newObsVal from array: ', 0.0)\n",
        "('index: ', 189)\n",
        "MNPAR psfs\n",
        "14.0 True\n",
        "psfs\n",
        "35\n",
        "('arrIdx is: ', 14)\n",
        "('full array: ', [0.0, 0.0, 0.0, 0.0, 0.0, 0.0, 0.0, 0.0, 0.0, 0.0, 0.0, 0.0, 0.0, 0.0, 0.0, 0.0, 0.0, 0.0, 0.0, 0.0])\n",
        "('newObsVal from array: ', 0.0)\n",
        "('index: ', 190)\n",
        "MNPAR psfs\n",
        "15.0 True\n",
        "psfs\n",
        "36\n",
        "('arrIdx is: ', 15)\n",
        "('full array: ', [0.0, 0.0, 0.0, 0.0, 0.0, 0.0, 0.0, 0.0, 0.0, 0.0, 0.0, 0.0, 0.0, 0.0, 0.0, 0.0, 0.0, 0.0, 0.0, 0.0])\n",
        "('newObsVal from array: ', 0.0)\n",
        "('index: ', 191)\n",
        "MNPAR psfs\n",
        "16.0 True\n",
        "psfs\n",
        "37\n",
        "('arrIdx is: ', 16)\n",
        "('full array: ', [0.0, 0.0, 0.0, 0.0, 0.0, 0.0, 0.0, 0.0, 0.0, 0.0, 0.0, 0.0, 0.0, 0.0, 0.0, 0.0, 0.0, 0.0, 0.0, 0.0])\n",
        "('newObsVal from array: ', 0.0)\n",
        "('index: ', 192)\n",
        "MNPAR psfs\n",
        "17.0 True\n",
        "psfs\n",
        "38\n",
        "('arrIdx is: ', 17)\n",
        "('full array: ', [0.0, 0.0, 0.0, 0.0, 0.0, 0.0, 0.0, 0.0, 0.0, 0.0, 0.0, 0.0, 0.0, 0.0, 0.0, 0.0, 0.0, 0.0, 0.0, 0.0])\n",
        "('newObsVal from array: ', 0.0)\n",
        "('index: ', 193)\n",
        "MNPAR psfs\n",
        "18.0 True\n",
        "psfs\n",
        "39\n",
        "('arrIdx is: ', 18)\n",
        "('full array: ', [0.0, 0.0, 0.0, 0.0, 0.0, 0.0, 0.0, 0.0, 0.0, 0.0, 0.0, 0.0, 0.0, 0.0, 0.0, 0.0, 0.0, 0.0, 0.0, 0.0])\n",
        "('newObsVal from array: ', 0.0)\n",
        "('index: ', 194)\n",
        "MNPAR psfs\n",
        "19.0 True\n",
        "psfs\n",
        "40\n",
        "('arrIdx is: ', 19)\n",
        "('full array: ', [0.0, 0.0, 0.0, 0.0, 0.0, 0.0, 0.0, 0.0, 0.0, 0.0, 0.0, 0.0, 0.0, 0.0, 0.0, 0.0, 0.0, 0.0, 0.0, 0.0])\n",
        "('newObsVal from array: ', 0.0)\n",
        "('index: ', 195)\n",
        "SP1 psfs\n",
        "nan False\n",
        "psfs\n",
        "41\n",
        "('newObsVal: ', 0.0)\n",
        "('index: ', 196)\n",
        "SP2 psfs\n",
        "nan False\n",
        "psfs\n",
        "42\n",
        "('newObsVal: ', 0.0)\n",
        "('index: ', 197)\n",
        "SPST psfs\n",
        "nan False\n",
        "psfs\n",
        "43\n",
        "('newObsVal: ', '?')\n",
        "('index: ', 198)\n",
        "PHASE psfs\n",
        "nan False\n",
        "psfs\n",
        "44\n",
        "('newObsVal: ', 0.0)\n",
        "('index: ', 199)\n",
        "PSFPIX psfs\n",
        "0.0 True\n",
        "psfs\n",
        "45\n",
        "('arrIdx is: ', 0)\n",
        "('full array: ', [0.0, -4.5, -3.2, -2.5, -1.8, -1.2, -0.80000001, -0.40000001, 0.40000001, 0.80000001, 1.2, 1.8, 2.5, 3.2, 4.5])\n",
        "('newObsVal from array: ', 0.0)\n",
        "('index: ', 200)\n",
        "PSFPIX psfs\n",
        "1.0 True\n",
        "psfs\n",
        "46\n",
        "('arrIdx is: ', 1)\n",
        "('full array: ', [0.0, -4.5, -3.2, -2.5, -1.8, -1.2, -0.80000001, -0.40000001, 0.40000001, 0.80000001, 1.2, 1.8, 2.5, 3.2, 4.5])\n",
        "('newObsVal from array: ', -4.5)\n",
        "('index: ', 201)\n",
        "PSFPIX psfs\n",
        "2.0 True\n",
        "psfs\n",
        "47\n",
        "('arrIdx is: ', 2)\n",
        "('full array: ', [0.0, -4.5, -3.2, -2.5, -1.8, -1.2, -0.80000001, -0.40000001, 0.40000001, 0.80000001, 1.2, 1.8, 2.5, 3.2, 4.5])\n",
        "('newObsVal from array: ', -3.2)\n",
        "('index: ', 202)\n",
        "PSFPIX psfs\n",
        "3.0 True\n",
        "psfs\n",
        "48\n",
        "('arrIdx is: ', 3)\n",
        "('full array: ', [0.0, -4.5, -3.2, -2.5, -1.8, -1.2, -0.80000001, -0.40000001, 0.40000001, 0.80000001, 1.2, 1.8, 2.5, 3.2, 4.5])\n",
        "('newObsVal from array: ', -2.5)\n",
        "('index: ', 203)\n",
        "PSFPIX psfs\n",
        "4.0 True\n",
        "psfs\n",
        "49\n",
        "('arrIdx is: ', 4)\n",
        "('full array: ', [0.0, -4.5, -3.2, -2.5, -1.8, -1.2, -0.80000001, -0.40000001, 0.40000001, 0.80000001, 1.2, 1.8, 2.5, 3.2, 4.5])\n",
        "('newObsVal from array: ', -1.8)\n",
        "('index: ', 204)\n",
        "PSFPIX psfs\n",
        "5.0 True\n",
        "psfs\n",
        "50\n",
        "('arrIdx is: ', 5)\n",
        "('full array: ', [0.0, -4.5, -3.2, -2.5, -1.8, -1.2, -0.80000001, -0.40000001, 0.40000001, 0.80000001, 1.2, 1.8, 2.5, 3.2, 4.5])\n",
        "('newObsVal from array: ', -1.2)\n",
        "('index: ', 205)\n",
        "PSFPIX psfs\n",
        "6.0 True\n",
        "psfs\n",
        "51\n",
        "('arrIdx is: ', 6)\n",
        "('full array: ', [0.0, -4.5, -3.2, -2.5, -1.8, -1.2, -0.80000001, -0.40000001, 0.40000001, 0.80000001, 1.2, 1.8, 2.5, 3.2, 4.5])\n",
        "('newObsVal from array: ', -0.80000001)\n",
        "('index: ', 206)\n",
        "PSFPIX psfs\n",
        "7.0 True\n",
        "psfs\n",
        "52\n",
        "('arrIdx is: ', 7)\n",
        "('full array: ', [0.0, -4.5, -3.2, -2.5, -1.8, -1.2, -0.80000001, -0.40000001, 0.40000001, 0.80000001, 1.2, 1.8, 2.5, 3.2, 4.5])\n",
        "('newObsVal from array: ', -0.40000001)\n",
        "('index: ', 207)\n",
        "PSFPIX psfs\n",
        "8.0 True\n",
        "psfs\n",
        "53\n",
        "('arrIdx is: ', 8)\n",
        "('full array: ', [0.0, -4.5, -3.2, -2.5, -1.8, -1.2, -0.80000001, -0.40000001, 0.40000001, 0.80000001, 1.2, 1.8, 2.5, 3.2, 4.5])\n",
        "('newObsVal from array: ', 0.40000001)\n",
        "('index: ', 208)\n",
        "PSFPIX psfs\n",
        "9.0 True\n",
        "psfs\n",
        "54\n",
        "('arrIdx is: ', 9)\n",
        "('full array: ', [0.0, -4.5, -3.2, -2.5, -1.8, -1.2, -0.80000001, -0.40000001, 0.40000001, 0.80000001, 1.2, 1.8, 2.5, 3.2, 4.5])\n",
        "('newObsVal from array: ', 0.80000001)\n",
        "('index: ', 209)\n",
        "PSFPIX psfs\n",
        "10.0 True\n",
        "psfs\n",
        "55\n",
        "('arrIdx is: ', 10)\n",
        "('full array: ', [0.0, -4.5, -3.2, -2.5, -1.8, -1.2, -0.80000001, -0.40000001, 0.40000001, 0.80000001, 1.2, 1.8, 2.5, 3.2, 4.5])\n",
        "('newObsVal from array: ', 1.2)\n",
        "('index: ', 210)\n",
        "PSFPIX psfs\n",
        "11.0 True\n",
        "psfs\n",
        "56\n",
        "('arrIdx is: ', 11)\n",
        "('full array: ', [0.0, -4.5, -3.2, -2.5, -1.8, -1.2, -0.80000001, -0.40000001, 0.40000001, 0.80000001, 1.2, 1.8, 2.5, 3.2, 4.5])\n",
        "('newObsVal from array: ', 1.8)\n",
        "('index: ', 211)\n",
        "PSFPIX psfs\n",
        "12.0 True\n",
        "psfs\n",
        "57\n",
        "('arrIdx is: ', 12)\n",
        "('full array: ', [0.0, -4.5, -3.2, -2.5, -1.8, -1.2, -0.80000001, -0.40000001, 0.40000001, 0.80000001, 1.2, 1.8, 2.5, 3.2, 4.5])\n",
        "('newObsVal from array: ', 2.5)\n",
        "('index: ', 212)\n",
        "PSFPIX psfs\n",
        "13.0 True\n",
        "psfs\n",
        "58\n",
        "('arrIdx is: ', 13)\n",
        "('full array: ', [0.0, -4.5, -3.2, -2.5, -1.8, -1.2, -0.80000001, -0.40000001, 0.40000001, 0.80000001, 1.2, 1.8, 2.5, 3.2, 4.5])\n",
        "('newObsVal from array: ', 3.2)\n",
        "('index: ', 213)\n",
        "PSFPIX psfs\n",
        "14.0 True\n",
        "psfs\n",
        "59\n",
        "('arrIdx is: ', 14)\n",
        "('full array: ', [0.0, -4.5, -3.2, -2.5, -1.8, -1.2, -0.80000001, -0.40000001, 0.40000001, 0.80000001, 1.2, 1.8, 2.5, 3.2, 4.5])\n",
        "('newObsVal from array: ', 4.5)\n",
        "('index: ', 214)\n",
        "PSFSIG psfs\n",
        "0.0 True\n",
        "psfs\n",
        "60\n",
        "('arrIdx is: ', 0)\n",
        "('full array: ', [0.64999998, 1.4, 1.3, 1.1, 0.89999998, 0.80000001, 0.5, 0.40000001, 0.40000001, 0.5, 0.80000001, 0.89999998, 1.1, 1.3, 1.4])\n",
        "('newObsVal from array: ', 0.64999998)\n",
        "('index: ', 215)\n",
        "PSFSIG psfs\n",
        "1.0 True\n",
        "psfs\n",
        "61\n",
        "('arrIdx is: ', 1)\n",
        "('full array: ', [0.64999998, 1.4, 1.3, 1.1, 0.89999998, 0.80000001, 0.5, 0.40000001, 0.40000001, 0.5, 0.80000001, 0.89999998, 1.1, 1.3, 1.4])\n",
        "('newObsVal from array: ', 1.4)\n",
        "('index: ', 216)\n",
        "PSFSIG psfs\n",
        "2.0 True\n",
        "psfs\n",
        "62\n",
        "('arrIdx is: ', 2)\n",
        "('full array: ', [0.64999998, 1.4, 1.3, 1.1, 0.89999998, 0.80000001, 0.5, 0.40000001, 0.40000001, 0.5, 0.80000001, 0.89999998, 1.1, 1.3, 1.4])\n",
        "('newObsVal from array: ', 1.3)\n",
        "('index: ', 217)\n",
        "PSFSIG psfs\n",
        "3.0 True\n",
        "psfs\n",
        "63\n",
        "('arrIdx is: ', 3)\n",
        "('full array: ', [0.64999998, 1.4, 1.3, 1.1, 0.89999998, 0.80000001, 0.5, 0.40000001, 0.40000001, 0.5, 0.80000001, 0.89999998, 1.1, 1.3, 1.4])\n",
        "('newObsVal from array: ', 1.1)\n",
        "('index: ', 218)\n",
        "PSFSIG psfs\n",
        "4.0 True\n",
        "psfs\n",
        "64\n",
        "('arrIdx is: ', 4)\n",
        "('full array: ', [0.64999998, 1.4, 1.3, 1.1, 0.89999998, 0.80000001, 0.5, 0.40000001, 0.40000001, 0.5, 0.80000001, 0.89999998, 1.1, 1.3, 1.4])\n",
        "('newObsVal from array: ', 0.89999998)\n",
        "('index: ', 219)\n",
        "PSFSIG psfs\n",
        "5.0 True\n",
        "psfs\n",
        "65\n",
        "('arrIdx is: ', 5)\n",
        "('full array: ', [0.64999998, 1.4, 1.3, 1.1, 0.89999998, 0.80000001, 0.5, 0.40000001, 0.40000001, 0.5, 0.80000001, 0.89999998, 1.1, 1.3, 1.4])\n",
        "('newObsVal from array: ', 0.80000001)\n",
        "('index: ', 220)\n",
        "PSFSIG psfs\n",
        "6.0 True\n",
        "psfs\n",
        "66\n",
        "('arrIdx is: ', 6)\n",
        "('full array: ', [0.64999998, 1.4, 1.3, 1.1, 0.89999998, 0.80000001, 0.5, 0.40000001, 0.40000001, 0.5, 0.80000001, 0.89999998, 1.1, 1.3, 1.4])\n",
        "('newObsVal from array: ', 0.5)\n",
        "('index: ', 221)\n",
        "PSFSIG psfs\n",
        "7.0 True\n",
        "psfs\n",
        "67\n",
        "('arrIdx is: ', 7)\n",
        "('full array: ', [0.64999998, 1.4, 1.3, 1.1, 0.89999998, 0.80000001, 0.5, 0.40000001, 0.40000001, 0.5, 0.80000001, 0.89999998, 1.1, 1.3, 1.4])\n",
        "('newObsVal from array: ', 0.40000001)\n",
        "('index: ', 222)\n",
        "PSFSIG psfs\n",
        "8.0 True\n",
        "psfs\n",
        "68\n",
        "('arrIdx is: ', 8)\n",
        "('full array: ', [0.64999998, 1.4, 1.3, 1.1, 0.89999998, 0.80000001, 0.5, 0.40000001, 0.40000001, 0.5, 0.80000001, 0.89999998, 1.1, 1.3, 1.4])\n",
        "('newObsVal from array: ', 0.40000001)\n",
        "('index: ', 223)\n",
        "PSFSIG psfs\n",
        "9.0 True\n",
        "psfs\n",
        "69\n",
        "('arrIdx is: ', 9)\n",
        "('full array: ', [0.64999998, 1.4, 1.3, 1.1, 0.89999998, 0.80000001, 0.5, 0.40000001, 0.40000001, 0.5, 0.80000001, 0.89999998, 1.1, 1.3, 1.4])\n",
        "('newObsVal from array: ', 0.5)\n",
        "('index: ', 224)\n",
        "PSFSIG psfs\n",
        "10.0 True\n",
        "psfs\n",
        "70\n",
        "('arrIdx is: ', 10)\n",
        "('full array: ', [0.64999998, 1.4, 1.3, 1.1, 0.89999998, 0.80000001, 0.5, 0.40000001, 0.40000001, 0.5, 0.80000001, 0.89999998, 1.1, 1.3, 1.4])\n",
        "('newObsVal from array: ', 0.80000001)\n",
        "('index: ', 225)\n",
        "PSFSIG psfs\n",
        "11.0 True\n",
        "psfs\n",
        "71\n",
        "('arrIdx is: ', 11)\n",
        "('full array: ', [0.64999998, 1.4, 1.3, 1.1, 0.89999998, 0.80000001, 0.5, 0.40000001, 0.40000001, 0.5, 0.80000001, 0.89999998, 1.1, 1.3, 1.4])\n",
        "('newObsVal from array: ', 0.89999998)\n",
        "('index: ', 226)\n",
        "PSFSIG psfs\n",
        "12.0 True\n",
        "psfs\n",
        "72\n",
        "('arrIdx is: ', 12)\n",
        "('full array: ', [0.64999998, 1.4, 1.3, 1.1, 0.89999998, 0.80000001, 0.5, 0.40000001, 0.40000001, 0.5, 0.80000001, 0.89999998, 1.1, 1.3, 1.4])\n",
        "('newObsVal from array: ', 1.1)\n",
        "('index: ', 227)\n",
        "PSFSIG psfs\n",
        "13.0 True\n",
        "psfs\n",
        "73\n",
        "('arrIdx is: ', 13)\n",
        "('full array: ', [0.64999998, 1.4, 1.3, 1.1, 0.89999998, 0.80000001, 0.5, 0.40000001, 0.40000001, 0.5, 0.80000001, 0.89999998, 1.1, 1.3, 1.4])\n",
        "('newObsVal from array: ', 1.3)\n",
        "('index: ', 228)\n",
        "PSFSIG psfs\n",
        "14.0 True\n",
        "psfs\n",
        "74\n",
        "('arrIdx is: ', 14)\n",
        "('full array: ', [0.64999998, 1.4, 1.3, 1.1, 0.89999998, 0.80000001, 0.5, 0.40000001, 0.40000001, 0.5, 0.80000001, 0.89999998, 1.1, 1.3, 1.4])\n",
        "('newObsVal from array: ', 1.4)\n"
       ]
      }
     ],
     "prompt_number": 71
    },
    {
     "cell_type": "code",
     "collapsed": false,
     "input": [
      "###DEBUG dealing with Arrays###\n",
      "#the observation to work with:\n",
      "pidx = 0\n",
      "#the index in the map data frame:\n",
      "idx = 155\n",
      "arrIdx = int(idlSqlMap.arrIndex[idx])\n",
      "fullArr = pdf[idlSqlMap.fitsKeyName[idx]][pidx]\n",
      "print list(pdf.MDPAR[0])[0]\n"
     ],
     "language": "python",
     "metadata": {},
     "outputs": [
      {
       "output_type": "stream",
       "stream": "stdout",
       "text": [
        "0.0\n"
       ]
      }
     ],
     "prompt_number": 68
    },
    {
     "cell_type": "heading",
     "level": 3,
     "metadata": {},
     "source": [
      "The old and slow way of doing things"
     ]
    },
    {
     "cell_type": "code",
     "collapsed": false,
     "input": [
      "    for row in range(pdf.shape[0]):\n",
      "        rowobnm = pdf.OBNM[row]\n",
      "\n",
      "        #create the command that will retrieve the proper observation\n",
      "        #id for adding the observation to the velocity and psf tables\n",
      "        cmd = \"SELECT observation_id FROM observations WHERE obnm = '\" + str(rowobnm) + \"'\"\n",
      "        #print(cmd)\n"
     ],
     "language": "python",
     "metadata": {},
     "outputs": [],
     "prompt_number": 14
    },
    {
     "cell_type": "code",
     "collapsed": false,
     "input": [
      "#now connect to the chiron database\n",
      "conn = connectChironDB()\n",
      "cur = conn.cursor()\n"
     ],
     "language": "python",
     "metadata": {},
     "outputs": [],
     "prompt_number": 18
    },
    {
     "cell_type": "code",
     "collapsed": false,
     "input": [
      "import time"
     ],
     "language": "python",
     "metadata": {},
     "outputs": [],
     "prompt_number": 17
    },
    {
     "cell_type": "code",
     "collapsed": false,
     "input": [
      "startTime = time.time()\n",
      "print(\"start time: \"+str(startTime))\n",
      "for row in range(pdf.shape[0]):\n",
      "    rowobnm = pdf.OBNM[row]\n",
      "\n",
      "    #create the command that will retrieve the proper observation\n",
      "    #id for adding the observation to the velocity and psf tables\n",
      "    cmd = \"SELECT observation_id FROM observations WHERE obnm = '\" + str(rowobnm) + \"'\"\n",
      "\n",
      "    #get the observation id\n",
      "    cur.execute(cmd)\n",
      "    rowObsId = cur.fetchall()\n",
      "    print(rowObsId)\n",
      "endTime = time.time()\n",
      "print(\"end time: \"+str(endTime))\n",
      "print(\"Processing time took: \"+str(endTime-startTime)+\" sec.\")"
     ],
     "language": "python",
     "metadata": {},
     "outputs": [
      {
       "output_type": "stream",
       "stream": "stdout",
       "text": [
        "start time: 1402494290.91\n",
        "((32840,),)\n",
        "((32841,),)\n",
        "((27415,),)"
       ]
      },
      {
       "output_type": "stream",
       "stream": "stdout",
       "text": [
        "\n",
        "((27416,),)\n",
        "((27417,),)"
       ]
      },
      {
       "output_type": "stream",
       "stream": "stdout",
       "text": [
        "\n",
        "((27418,),)"
       ]
      },
      {
       "output_type": "stream",
       "stream": "stdout",
       "text": [
        "\n",
        "((28119,),)"
       ]
      },
      {
       "output_type": "stream",
       "stream": "stdout",
       "text": [
        "\n",
        "((32578,),)"
       ]
      },
      {
       "output_type": "stream",
       "stream": "stdout",
       "text": [
        "\n",
        "((32579,),)"
       ]
      },
      {
       "output_type": "stream",
       "stream": "stdout",
       "text": [
        "\n",
        "((32580,),)"
       ]
      },
      {
       "output_type": "stream",
       "stream": "stdout",
       "text": [
        "\n",
        "((32839,),)"
       ]
      },
      {
       "output_type": "stream",
       "stream": "stdout",
       "text": [
        "\n",
        "((32840,),)"
       ]
      },
      {
       "output_type": "stream",
       "stream": "stdout",
       "text": [
        "\n",
        "((32841,),)"
       ]
      },
      {
       "output_type": "stream",
       "stream": "stdout",
       "text": [
        "\n",
        "((32842,),)"
       ]
      },
      {
       "output_type": "stream",
       "stream": "stdout",
       "text": [
        "\n",
        "((32843,),)"
       ]
      },
      {
       "output_type": "stream",
       "stream": "stdout",
       "text": [
        "\n",
        "((32844,),)"
       ]
      },
      {
       "output_type": "stream",
       "stream": "stdout",
       "text": [
        "\n",
        "((33371,),)"
       ]
      },
      {
       "output_type": "stream",
       "stream": "stdout",
       "text": [
        "\n",
        "((33372,),)"
       ]
      },
      {
       "output_type": "stream",
       "stream": "stdout",
       "text": [
        "\n",
        "((33373,),)"
       ]
      },
      {
       "output_type": "stream",
       "stream": "stdout",
       "text": [
        "\n",
        "((33374,),)"
       ]
      },
      {
       "output_type": "stream",
       "stream": "stdout",
       "text": [
        "\n",
        "((33375,),)"
       ]
      },
      {
       "output_type": "stream",
       "stream": "stdout",
       "text": [
        "\n",
        "((33376,),)"
       ]
      },
      {
       "output_type": "stream",
       "stream": "stdout",
       "text": [
        "\n",
        "((33671,),)"
       ]
      },
      {
       "output_type": "stream",
       "stream": "stdout",
       "text": [
        "\n",
        "((33672,),)"
       ]
      },
      {
       "output_type": "stream",
       "stream": "stdout",
       "text": [
        "\n",
        "((33673,),)"
       ]
      },
      {
       "output_type": "stream",
       "stream": "stdout",
       "text": [
        "\n",
        "((33674,),)"
       ]
      },
      {
       "output_type": "stream",
       "stream": "stdout",
       "text": [
        "\n",
        "((33675,),)"
       ]
      },
      {
       "output_type": "stream",
       "stream": "stdout",
       "text": [
        "\n",
        "((33676,),)"
       ]
      },
      {
       "output_type": "stream",
       "stream": "stdout",
       "text": [
        "\n",
        "((33969,),)"
       ]
      },
      {
       "output_type": "stream",
       "stream": "stdout",
       "text": [
        "\n",
        "((33970,),)"
       ]
      },
      {
       "output_type": "stream",
       "stream": "stdout",
       "text": [
        "\n",
        "((33971,),)"
       ]
      },
      {
       "output_type": "stream",
       "stream": "stdout",
       "text": [
        "\n",
        "((33972,),)\n",
        "((33973,),)"
       ]
      },
      {
       "output_type": "stream",
       "stream": "stdout",
       "text": [
        "\n",
        "((33974,),)"
       ]
      },
      {
       "output_type": "stream",
       "stream": "stdout",
       "text": [
        "\n",
        "((34275,),)"
       ]
      },
      {
       "output_type": "stream",
       "stream": "stdout",
       "text": [
        "\n",
        "((34276,),)"
       ]
      },
      {
       "output_type": "stream",
       "stream": "stdout",
       "text": [
        "\n",
        "((34277,),)"
       ]
      },
      {
       "output_type": "stream",
       "stream": "stdout",
       "text": [
        "\n",
        "((34278,),)"
       ]
      },
      {
       "output_type": "stream",
       "stream": "stdout",
       "text": [
        "\n",
        "((34279,),)"
       ]
      },
      {
       "output_type": "stream",
       "stream": "stdout",
       "text": [
        "\n",
        "((34280,),)"
       ]
      },
      {
       "output_type": "stream",
       "stream": "stdout",
       "text": [
        "\n",
        "((34575,),)"
       ]
      },
      {
       "output_type": "stream",
       "stream": "stdout",
       "text": [
        "\n",
        "((34576,),)"
       ]
      },
      {
       "output_type": "stream",
       "stream": "stdout",
       "text": [
        "\n",
        "((34577,),)"
       ]
      },
      {
       "output_type": "stream",
       "stream": "stdout",
       "text": [
        "\n",
        "((34578,),)\n",
        "((34579,),)"
       ]
      },
      {
       "output_type": "stream",
       "stream": "stdout",
       "text": [
        "\n",
        "((34580,),)"
       ]
      },
      {
       "output_type": "stream",
       "stream": "stdout",
       "text": [
        "\n",
        "((34886,),)"
       ]
      },
      {
       "output_type": "stream",
       "stream": "stdout",
       "text": [
        "\n",
        "((34887,),)"
       ]
      },
      {
       "output_type": "stream",
       "stream": "stdout",
       "text": [
        "\n",
        "((34888,),)"
       ]
      },
      {
       "output_type": "stream",
       "stream": "stdout",
       "text": [
        "\n",
        "((34889,),)"
       ]
      },
      {
       "output_type": "stream",
       "stream": "stdout",
       "text": [
        "\n",
        "((34890,),)"
       ]
      },
      {
       "output_type": "stream",
       "stream": "stdout",
       "text": [
        "\n",
        "((34891,),)"
       ]
      },
      {
       "output_type": "stream",
       "stream": "stdout",
       "text": [
        "\n",
        "((35182,),)"
       ]
      },
      {
       "output_type": "stream",
       "stream": "stdout",
       "text": [
        "\n",
        "((35183,),)"
       ]
      },
      {
       "output_type": "stream",
       "stream": "stdout",
       "text": [
        "\n",
        "((35184,),)"
       ]
      },
      {
       "output_type": "stream",
       "stream": "stdout",
       "text": [
        "\n",
        "((35185,),)"
       ]
      },
      {
       "output_type": "stream",
       "stream": "stdout",
       "text": [
        "\n",
        "((35186,),)"
       ]
      },
      {
       "output_type": "stream",
       "stream": "stdout",
       "text": [
        "\n",
        "((35187,),)"
       ]
      },
      {
       "output_type": "stream",
       "stream": "stdout",
       "text": [
        "\n",
        "((35744,),)"
       ]
      },
      {
       "output_type": "stream",
       "stream": "stdout",
       "text": [
        "\n",
        "((35745,),)"
       ]
      },
      {
       "output_type": "stream",
       "stream": "stdout",
       "text": [
        "\n",
        "((35746,),)"
       ]
      },
      {
       "output_type": "stream",
       "stream": "stdout",
       "text": [
        "\n",
        "((35747,),)"
       ]
      },
      {
       "output_type": "stream",
       "stream": "stdout",
       "text": [
        "\n",
        "((35748,),)"
       ]
      },
      {
       "output_type": "stream",
       "stream": "stdout",
       "text": [
        "\n",
        "((35749,),)"
       ]
      },
      {
       "output_type": "stream",
       "stream": "stdout",
       "text": [
        "\n",
        "((36300,),)"
       ]
      },
      {
       "output_type": "stream",
       "stream": "stdout",
       "text": [
        "\n",
        "((36301,),)"
       ]
      },
      {
       "output_type": "stream",
       "stream": "stdout",
       "text": [
        "\n",
        "((36302,),)"
       ]
      },
      {
       "output_type": "stream",
       "stream": "stdout",
       "text": [
        "\n",
        "((36303,),)"
       ]
      },
      {
       "output_type": "stream",
       "stream": "stdout",
       "text": [
        "\n",
        "((36304,),)"
       ]
      },
      {
       "output_type": "stream",
       "stream": "stdout",
       "text": [
        "\n",
        "((36305,),)"
       ]
      },
      {
       "output_type": "stream",
       "stream": "stdout",
       "text": [
        "\n",
        "((36312,),)"
       ]
      },
      {
       "output_type": "stream",
       "stream": "stdout",
       "text": [
        "\n",
        "((36313,),)"
       ]
      },
      {
       "output_type": "stream",
       "stream": "stdout",
       "text": [
        "\n",
        "((36314,),)"
       ]
      },
      {
       "output_type": "stream",
       "stream": "stdout",
       "text": [
        "\n",
        "((36315,),)"
       ]
      },
      {
       "output_type": "stream",
       "stream": "stdout",
       "text": [
        "\n",
        "((36316,),)"
       ]
      },
      {
       "output_type": "stream",
       "stream": "stdout",
       "text": [
        "\n",
        "((36317,),)"
       ]
      },
      {
       "output_type": "stream",
       "stream": "stdout",
       "text": [
        "\n",
        "((36615,),)"
       ]
      },
      {
       "output_type": "stream",
       "stream": "stdout",
       "text": [
        "\n",
        "((36616,),)"
       ]
      },
      {
       "output_type": "stream",
       "stream": "stdout",
       "text": [
        "\n",
        "((36617,),)"
       ]
      },
      {
       "output_type": "stream",
       "stream": "stdout",
       "text": [
        "\n",
        "((36618,),)"
       ]
      },
      {
       "output_type": "stream",
       "stream": "stdout",
       "text": [
        "\n",
        "((36619,),)"
       ]
      },
      {
       "output_type": "stream",
       "stream": "stdout",
       "text": [
        "\n",
        "((36620,),)"
       ]
      },
      {
       "output_type": "stream",
       "stream": "stdout",
       "text": [
        "\n",
        "((36921,),)"
       ]
      },
      {
       "output_type": "stream",
       "stream": "stdout",
       "text": [
        "\n",
        "((36922,),)"
       ]
      },
      {
       "output_type": "stream",
       "stream": "stdout",
       "text": [
        "\n",
        "((36923,),)"
       ]
      },
      {
       "output_type": "stream",
       "stream": "stdout",
       "text": [
        "\n",
        "((37213,),)"
       ]
      },
      {
       "output_type": "stream",
       "stream": "stdout",
       "text": [
        "\n",
        "((37214,),)"
       ]
      },
      {
       "output_type": "stream",
       "stream": "stdout",
       "text": [
        "\n",
        "((37215,),)"
       ]
      },
      {
       "output_type": "stream",
       "stream": "stdout",
       "text": [
        "\n",
        "((37216,),)"
       ]
      },
      {
       "output_type": "stream",
       "stream": "stdout",
       "text": [
        "\n",
        "((37217,),)"
       ]
      },
      {
       "output_type": "stream",
       "stream": "stdout",
       "text": [
        "\n",
        "((37218,),)"
       ]
      },
      {
       "output_type": "stream",
       "stream": "stdout",
       "text": [
        "\n",
        "((37533,),)"
       ]
      },
      {
       "output_type": "stream",
       "stream": "stdout",
       "text": [
        "\n",
        "((37534,),)"
       ]
      },
      {
       "output_type": "stream",
       "stream": "stdout",
       "text": [
        "\n",
        "((37535,),)"
       ]
      },
      {
       "output_type": "stream",
       "stream": "stdout",
       "text": [
        "\n",
        "((37536,),)"
       ]
      },
      {
       "output_type": "stream",
       "stream": "stdout",
       "text": [
        "\n",
        "((37537,),)"
       ]
      },
      {
       "output_type": "stream",
       "stream": "stdout",
       "text": [
        "\n",
        "((37538,),)"
       ]
      },
      {
       "output_type": "stream",
       "stream": "stdout",
       "text": [
        "\n",
        "((38081,),)"
       ]
      },
      {
       "output_type": "stream",
       "stream": "stdout",
       "text": [
        "\n",
        "((38082,),)"
       ]
      },
      {
       "output_type": "stream",
       "stream": "stdout",
       "text": [
        "\n",
        "((38083,),)"
       ]
      },
      {
       "output_type": "stream",
       "stream": "stdout",
       "text": [
        "\n",
        "((38084,),)"
       ]
      },
      {
       "output_type": "stream",
       "stream": "stdout",
       "text": [
        "\n",
        "((38085,),)"
       ]
      },
      {
       "output_type": "stream",
       "stream": "stdout",
       "text": [
        "\n",
        "((38086,),)"
       ]
      },
      {
       "output_type": "stream",
       "stream": "stdout",
       "text": [
        "\n",
        "((38389,),)"
       ]
      },
      {
       "output_type": "stream",
       "stream": "stdout",
       "text": [
        "\n",
        "((38390,),)"
       ]
      },
      {
       "output_type": "stream",
       "stream": "stdout",
       "text": [
        "\n",
        "((38391,),)"
       ]
      },
      {
       "output_type": "stream",
       "stream": "stdout",
       "text": [
        "\n",
        "((38392,),)"
       ]
      },
      {
       "output_type": "stream",
       "stream": "stdout",
       "text": [
        "\n",
        "((38393,),)"
       ]
      },
      {
       "output_type": "stream",
       "stream": "stdout",
       "text": [
        "\n",
        "((38394,),)"
       ]
      },
      {
       "output_type": "stream",
       "stream": "stdout",
       "text": [
        "\n",
        "((38697,),)"
       ]
      },
      {
       "output_type": "stream",
       "stream": "stdout",
       "text": [
        "\n",
        "((38698,),)"
       ]
      },
      {
       "output_type": "stream",
       "stream": "stdout",
       "text": [
        "\n",
        "((38699,),)"
       ]
      },
      {
       "output_type": "stream",
       "stream": "stdout",
       "text": [
        "\n",
        "((38700,),)"
       ]
      },
      {
       "output_type": "stream",
       "stream": "stdout",
       "text": [
        "\n",
        "((39279,),)"
       ]
      },
      {
       "output_type": "stream",
       "stream": "stdout",
       "text": [
        "\n",
        "((39280,),)"
       ]
      },
      {
       "output_type": "stream",
       "stream": "stdout",
       "text": [
        "\n",
        "((39281,),)"
       ]
      },
      {
       "output_type": "stream",
       "stream": "stdout",
       "text": [
        "\n",
        "((39282,),)\n",
        "((39283,),)"
       ]
      },
      {
       "output_type": "stream",
       "stream": "stdout",
       "text": [
        "\n",
        "((39284,),)"
       ]
      },
      {
       "output_type": "stream",
       "stream": "stdout",
       "text": [
        "\n",
        "((42004,),)"
       ]
      },
      {
       "output_type": "stream",
       "stream": "stdout",
       "text": [
        "\n",
        "((42005,),)"
       ]
      },
      {
       "output_type": "stream",
       "stream": "stdout",
       "text": [
        "\n",
        "((42006,),)"
       ]
      },
      {
       "output_type": "stream",
       "stream": "stdout",
       "text": [
        "\n",
        "((42007,),)"
       ]
      },
      {
       "output_type": "stream",
       "stream": "stdout",
       "text": [
        "\n",
        "((42008,),)"
       ]
      },
      {
       "output_type": "stream",
       "stream": "stdout",
       "text": [
        "\n",
        "((42009,),)"
       ]
      },
      {
       "output_type": "stream",
       "stream": "stdout",
       "text": [
        "\n",
        "((42010,),)"
       ]
      },
      {
       "output_type": "stream",
       "stream": "stdout",
       "text": [
        "\n",
        "((42011,),)"
       ]
      },
      {
       "output_type": "stream",
       "stream": "stdout",
       "text": [
        "\n",
        "((42328,),)"
       ]
      },
      {
       "output_type": "stream",
       "stream": "stdout",
       "text": [
        "\n",
        "((42329,),)"
       ]
      },
      {
       "output_type": "stream",
       "stream": "stdout",
       "text": [
        "\n",
        "((42926,),)"
       ]
      },
      {
       "output_type": "stream",
       "stream": "stdout",
       "text": [
        "\n",
        "((42930,),)"
       ]
      },
      {
       "output_type": "stream",
       "stream": "stdout",
       "text": [
        "\n",
        "((42931,),)"
       ]
      },
      {
       "output_type": "stream",
       "stream": "stdout",
       "text": [
        "\n",
        "((43539,),)"
       ]
      },
      {
       "output_type": "stream",
       "stream": "stdout",
       "text": [
        "\n",
        "((43540,),)"
       ]
      },
      {
       "output_type": "stream",
       "stream": "stdout",
       "text": [
        "\n",
        "((43541,),)"
       ]
      },
      {
       "output_type": "stream",
       "stream": "stdout",
       "text": [
        "\n",
        "((43542,),)"
       ]
      },
      {
       "output_type": "stream",
       "stream": "stdout",
       "text": [
        "\n",
        "((43544,),)"
       ]
      },
      {
       "output_type": "stream",
       "stream": "stdout",
       "text": [
        "\n",
        "((43546,),)"
       ]
      },
      {
       "output_type": "stream",
       "stream": "stdout",
       "text": [
        "\n",
        "((43547,),)"
       ]
      },
      {
       "output_type": "stream",
       "stream": "stdout",
       "text": [
        "\n",
        "((43549,),)"
       ]
      },
      {
       "output_type": "stream",
       "stream": "stdout",
       "text": [
        "\n",
        "((45420,),)"
       ]
      },
      {
       "output_type": "stream",
       "stream": "stdout",
       "text": [
        "\n",
        "((45421,),)"
       ]
      },
      {
       "output_type": "stream",
       "stream": "stdout",
       "text": [
        "\n",
        "((45422,),)"
       ]
      },
      {
       "output_type": "stream",
       "stream": "stdout",
       "text": [
        "\n",
        "((45423,),)"
       ]
      },
      {
       "output_type": "stream",
       "stream": "stdout",
       "text": [
        "\n",
        "((45732,),)"
       ]
      },
      {
       "output_type": "stream",
       "stream": "stdout",
       "text": [
        "\n",
        "((45733,),)"
       ]
      },
      {
       "output_type": "stream",
       "stream": "stdout",
       "text": [
        "\n",
        "((45734,),)"
       ]
      },
      {
       "output_type": "stream",
       "stream": "stdout",
       "text": [
        "\n",
        "((45735,),)"
       ]
      },
      {
       "output_type": "stream",
       "stream": "stdout",
       "text": [
        "\n",
        "((45736,),)"
       ]
      },
      {
       "output_type": "stream",
       "stream": "stdout",
       "text": [
        "\n",
        "((45737,),)"
       ]
      },
      {
       "output_type": "stream",
       "stream": "stdout",
       "text": [
        "\n",
        "((45738,),)"
       ]
      },
      {
       "output_type": "stream",
       "stream": "stdout",
       "text": [
        "\n",
        "((45739,),)"
       ]
      },
      {
       "output_type": "stream",
       "stream": "stdout",
       "text": [
        "\n",
        "((45740,),)"
       ]
      },
      {
       "output_type": "stream",
       "stream": "stdout",
       "text": [
        "\n",
        "((46035,),)"
       ]
      },
      {
       "output_type": "stream",
       "stream": "stdout",
       "text": [
        "\n",
        "((46036,),)"
       ]
      },
      {
       "output_type": "stream",
       "stream": "stdout",
       "text": [
        "\n",
        "((46038,),)"
       ]
      },
      {
       "output_type": "stream",
       "stream": "stdout",
       "text": [
        "\n",
        "((46039,),)"
       ]
      },
      {
       "output_type": "stream",
       "stream": "stdout",
       "text": [
        "\n",
        "((46040,),)"
       ]
      },
      {
       "output_type": "stream",
       "stream": "stdout",
       "text": [
        "\n",
        "((46041,),)"
       ]
      },
      {
       "output_type": "stream",
       "stream": "stdout",
       "text": [
        "\n",
        "((46960,),)"
       ]
      },
      {
       "output_type": "stream",
       "stream": "stdout",
       "text": [
        "\n",
        "((46961,),)"
       ]
      },
      {
       "output_type": "stream",
       "stream": "stdout",
       "text": [
        "\n",
        "((46962,),)"
       ]
      },
      {
       "output_type": "stream",
       "stream": "stdout",
       "text": [
        "\n",
        "((46963,),)"
       ]
      },
      {
       "output_type": "stream",
       "stream": "stdout",
       "text": [
        "\n",
        "((46971,),)"
       ]
      },
      {
       "output_type": "stream",
       "stream": "stdout",
       "text": [
        "\n",
        "((46972,),)"
       ]
      },
      {
       "output_type": "stream",
       "stream": "stdout",
       "text": [
        "\n",
        "((46973,),)"
       ]
      },
      {
       "output_type": "stream",
       "stream": "stdout",
       "text": [
        "\n",
        "((47260,),)"
       ]
      },
      {
       "output_type": "stream",
       "stream": "stdout",
       "text": [
        "\n",
        "((47261,),)"
       ]
      },
      {
       "output_type": "stream",
       "stream": "stdout",
       "text": [
        "\n",
        "((47262,),)"
       ]
      },
      {
       "output_type": "stream",
       "stream": "stdout",
       "text": [
        "\n",
        "((47263,),)"
       ]
      },
      {
       "output_type": "stream",
       "stream": "stdout",
       "text": [
        "\n",
        "((47553,),)"
       ]
      },
      {
       "output_type": "stream",
       "stream": "stdout",
       "text": [
        "\n",
        "((47554,),)"
       ]
      },
      {
       "output_type": "stream",
       "stream": "stdout",
       "text": [
        "\n",
        "((47555,),)"
       ]
      },
      {
       "output_type": "stream",
       "stream": "stdout",
       "text": [
        "\n",
        "((47556,),)"
       ]
      },
      {
       "output_type": "stream",
       "stream": "stdout",
       "text": [
        "\n",
        "((47567,),)"
       ]
      },
      {
       "output_type": "stream",
       "stream": "stdout",
       "text": [
        "\n",
        "((47568,),)"
       ]
      },
      {
       "output_type": "stream",
       "stream": "stdout",
       "text": [
        "\n",
        "((47569,),)"
       ]
      },
      {
       "output_type": "stream",
       "stream": "stdout",
       "text": [
        "\n",
        "((47862,),)"
       ]
      },
      {
       "output_type": "stream",
       "stream": "stdout",
       "text": [
        "\n",
        "((47863,),)"
       ]
      },
      {
       "output_type": "stream",
       "stream": "stdout",
       "text": [
        "\n",
        "((47864,),)"
       ]
      },
      {
       "output_type": "stream",
       "stream": "stdout",
       "text": [
        "\n",
        "((47865,),)"
       ]
      },
      {
       "output_type": "stream",
       "stream": "stdout",
       "text": [
        "\n",
        "((48144,),)"
       ]
      },
      {
       "output_type": "stream",
       "stream": "stdout",
       "text": [
        "\n",
        "((48145,),)"
       ]
      },
      {
       "output_type": "stream",
       "stream": "stdout",
       "text": [
        "\n",
        "((48146,),)"
       ]
      },
      {
       "output_type": "stream",
       "stream": "stdout",
       "text": [
        "\n",
        "((48147,),)"
       ]
      },
      {
       "output_type": "stream",
       "stream": "stdout",
       "text": [
        "\n",
        "((48158,),)"
       ]
      },
      {
       "output_type": "stream",
       "stream": "stdout",
       "text": [
        "\n",
        "((48159,),)"
       ]
      },
      {
       "output_type": "stream",
       "stream": "stdout",
       "text": [
        "\n",
        "((48160,),)"
       ]
      },
      {
       "output_type": "stream",
       "stream": "stdout",
       "text": [
        "\n",
        "((48967,),)"
       ]
      },
      {
       "output_type": "stream",
       "stream": "stdout",
       "text": [
        "\n",
        "((48968,),)"
       ]
      },
      {
       "output_type": "stream",
       "stream": "stdout",
       "text": [
        "\n",
        "((48969,),)"
       ]
      },
      {
       "output_type": "stream",
       "stream": "stdout",
       "text": [
        "\n",
        "((48970,),)"
       ]
      },
      {
       "output_type": "stream",
       "stream": "stdout",
       "text": [
        "\n",
        "((49290,),)"
       ]
      },
      {
       "output_type": "stream",
       "stream": "stdout",
       "text": [
        "\n",
        "((49291,),)"
       ]
      },
      {
       "output_type": "stream",
       "stream": "stdout",
       "text": [
        "\n",
        "((49292,),)"
       ]
      },
      {
       "output_type": "stream",
       "stream": "stdout",
       "text": [
        "\n",
        "((49293,),)"
       ]
      },
      {
       "output_type": "stream",
       "stream": "stdout",
       "text": [
        "\n",
        "((49994,),)"
       ]
      },
      {
       "output_type": "stream",
       "stream": "stdout",
       "text": [
        "\n",
        "((49995,),)"
       ]
      },
      {
       "output_type": "stream",
       "stream": "stdout",
       "text": [
        "\n",
        "((49996,),)"
       ]
      },
      {
       "output_type": "stream",
       "stream": "stdout",
       "text": [
        "\n",
        "((49997,),)"
       ]
      },
      {
       "output_type": "stream",
       "stream": "stdout",
       "text": [
        "\n",
        "((50818,),)"
       ]
      },
      {
       "output_type": "stream",
       "stream": "stdout",
       "text": [
        "\n",
        "((50819,),)"
       ]
      },
      {
       "output_type": "stream",
       "stream": "stdout",
       "text": [
        "\n",
        "((50820,),)"
       ]
      },
      {
       "output_type": "stream",
       "stream": "stdout",
       "text": [
        "\n",
        "((50821,),)"
       ]
      },
      {
       "output_type": "stream",
       "stream": "stdout",
       "text": [
        "\n",
        "((51084,),)"
       ]
      },
      {
       "output_type": "stream",
       "stream": "stdout",
       "text": [
        "\n",
        "((51085,),)"
       ]
      },
      {
       "output_type": "stream",
       "stream": "stdout",
       "text": [
        "\n",
        "((51086,),)"
       ]
      },
      {
       "output_type": "stream",
       "stream": "stdout",
       "text": [
        "\n",
        "((51087,),)"
       ]
      },
      {
       "output_type": "stream",
       "stream": "stdout",
       "text": [
        "\n",
        "((51940,),)"
       ]
      },
      {
       "output_type": "stream",
       "stream": "stdout",
       "text": [
        "\n",
        "((51941,),)"
       ]
      },
      {
       "output_type": "stream",
       "stream": "stdout",
       "text": [
        "\n",
        "((51942,),)\n",
        "((51943,),)"
       ]
      },
      {
       "output_type": "stream",
       "stream": "stdout",
       "text": [
        "\n",
        "((52684,),)"
       ]
      },
      {
       "output_type": "stream",
       "stream": "stdout",
       "text": [
        "\n",
        "((52685,),)"
       ]
      },
      {
       "output_type": "stream",
       "stream": "stdout",
       "text": [
        "\n",
        "((52686,),)"
       ]
      },
      {
       "output_type": "stream",
       "stream": "stdout",
       "text": [
        "\n",
        "((52687,),)"
       ]
      },
      {
       "output_type": "stream",
       "stream": "stdout",
       "text": [
        "\n",
        "((53256,),)"
       ]
      },
      {
       "output_type": "stream",
       "stream": "stdout",
       "text": [
        "\n",
        "((53257,),)"
       ]
      },
      {
       "output_type": "stream",
       "stream": "stdout",
       "text": [
        "\n",
        "((53258,),)"
       ]
      },
      {
       "output_type": "stream",
       "stream": "stdout",
       "text": [
        "\n",
        "((53259,),)"
       ]
      },
      {
       "output_type": "stream",
       "stream": "stdout",
       "text": [
        "\n",
        "((53260,),)\n",
        "((53261,),)"
       ]
      },
      {
       "output_type": "stream",
       "stream": "stdout",
       "text": [
        "\n",
        "((53262,),)"
       ]
      },
      {
       "output_type": "stream",
       "stream": "stdout",
       "text": [
        "\n",
        "((53263,),)"
       ]
      },
      {
       "output_type": "stream",
       "stream": "stdout",
       "text": [
        "\n",
        "((53536,),)"
       ]
      },
      {
       "output_type": "stream",
       "stream": "stdout",
       "text": [
        "\n",
        "((53537,),)"
       ]
      },
      {
       "output_type": "stream",
       "stream": "stdout",
       "text": [
        "\n",
        "((53538,),)"
       ]
      },
      {
       "output_type": "stream",
       "stream": "stdout",
       "text": [
        "\n",
        "((53539,),)"
       ]
      },
      {
       "output_type": "stream",
       "stream": "stdout",
       "text": [
        "\n",
        "((54172,),)"
       ]
      },
      {
       "output_type": "stream",
       "stream": "stdout",
       "text": [
        "\n",
        "((54173,),)"
       ]
      },
      {
       "output_type": "stream",
       "stream": "stdout",
       "text": [
        "\n",
        "((54174,),)"
       ]
      },
      {
       "output_type": "stream",
       "stream": "stdout",
       "text": [
        "\n",
        "((54175,),)"
       ]
      },
      {
       "output_type": "stream",
       "stream": "stdout",
       "text": [
        "\n",
        "((54498,),)"
       ]
      },
      {
       "output_type": "stream",
       "stream": "stdout",
       "text": [
        "\n",
        "((54499,),)"
       ]
      },
      {
       "output_type": "stream",
       "stream": "stdout",
       "text": [
        "\n",
        "((54500,),)"
       ]
      },
      {
       "output_type": "stream",
       "stream": "stdout",
       "text": [
        "\n",
        "((54501,),)"
       ]
      },
      {
       "output_type": "stream",
       "stream": "stdout",
       "text": [
        "\n",
        "((55089,),)"
       ]
      },
      {
       "output_type": "stream",
       "stream": "stdout",
       "text": [
        "\n",
        "((55090,),)"
       ]
      },
      {
       "output_type": "stream",
       "stream": "stdout",
       "text": [
        "\n",
        "((55091,),)"
       ]
      },
      {
       "output_type": "stream",
       "stream": "stdout",
       "text": [
        "\n",
        "((55092,),)"
       ]
      },
      {
       "output_type": "stream",
       "stream": "stdout",
       "text": [
        "\n",
        "((55684,),)\n",
        "((55685,),)"
       ]
      },
      {
       "output_type": "stream",
       "stream": "stdout",
       "text": [
        "\n",
        "((55686,),)"
       ]
      },
      {
       "output_type": "stream",
       "stream": "stdout",
       "text": [
        "\n",
        "((55687,),)"
       ]
      },
      {
       "output_type": "stream",
       "stream": "stdout",
       "text": [
        "\n",
        "((56273,),)"
       ]
      },
      {
       "output_type": "stream",
       "stream": "stdout",
       "text": [
        "\n",
        "((56274,),)"
       ]
      },
      {
       "output_type": "stream",
       "stream": "stdout",
       "text": [
        "\n",
        "((56275,),)"
       ]
      },
      {
       "output_type": "stream",
       "stream": "stdout",
       "text": [
        "\n",
        "((56276,),)"
       ]
      },
      {
       "output_type": "stream",
       "stream": "stdout",
       "text": [
        "\n",
        "((56280,),)"
       ]
      },
      {
       "output_type": "stream",
       "stream": "stdout",
       "text": [
        "\n",
        "((56281,),)"
       ]
      },
      {
       "output_type": "stream",
       "stream": "stdout",
       "text": [
        "\n",
        "((56282,),)"
       ]
      },
      {
       "output_type": "stream",
       "stream": "stdout",
       "text": [
        "\n",
        "((56283,),)"
       ]
      },
      {
       "output_type": "stream",
       "stream": "stdout",
       "text": [
        "\n",
        "((56565,),)"
       ]
      },
      {
       "output_type": "stream",
       "stream": "stdout",
       "text": [
        "\n",
        "((56566,),)"
       ]
      },
      {
       "output_type": "stream",
       "stream": "stdout",
       "text": [
        "\n",
        "((56567,),)"
       ]
      },
      {
       "output_type": "stream",
       "stream": "stdout",
       "text": [
        "\n",
        "((56569,),)"
       ]
      },
      {
       "output_type": "stream",
       "stream": "stdout",
       "text": [
        "\n",
        "((56571,),)"
       ]
      },
      {
       "output_type": "stream",
       "stream": "stdout",
       "text": [
        "\n",
        "((56572,),)"
       ]
      },
      {
       "output_type": "stream",
       "stream": "stdout",
       "text": [
        "\n",
        "((56573,),)"
       ]
      },
      {
       "output_type": "stream",
       "stream": "stdout",
       "text": [
        "\n",
        "((56878,),)"
       ]
      },
      {
       "output_type": "stream",
       "stream": "stdout",
       "text": [
        "\n",
        "((56879,),)"
       ]
      },
      {
       "output_type": "stream",
       "stream": "stdout",
       "text": [
        "\n",
        "((56880,),)"
       ]
      },
      {
       "output_type": "stream",
       "stream": "stdout",
       "text": [
        "\n",
        "((56881,),)"
       ]
      },
      {
       "output_type": "stream",
       "stream": "stdout",
       "text": [
        "\n",
        "((57168,),)"
       ]
      },
      {
       "output_type": "stream",
       "stream": "stdout",
       "text": [
        "\n",
        "((57169,),)"
       ]
      },
      {
       "output_type": "stream",
       "stream": "stdout",
       "text": [
        "\n",
        "((57170,),)"
       ]
      },
      {
       "output_type": "stream",
       "stream": "stdout",
       "text": [
        "\n",
        "((57171,),)"
       ]
      },
      {
       "output_type": "stream",
       "stream": "stdout",
       "text": [
        "\n",
        "((57175,),)"
       ]
      },
      {
       "output_type": "stream",
       "stream": "stdout",
       "text": [
        "\n",
        "((57176,),)"
       ]
      },
      {
       "output_type": "stream",
       "stream": "stdout",
       "text": [
        "\n",
        "((57177,),)"
       ]
      },
      {
       "output_type": "stream",
       "stream": "stdout",
       "text": [
        "\n",
        "((57178,),)"
       ]
      },
      {
       "output_type": "stream",
       "stream": "stdout",
       "text": [
        "\n",
        "((57478,),)"
       ]
      },
      {
       "output_type": "stream",
       "stream": "stdout",
       "text": [
        "\n",
        "((57479,),)"
       ]
      },
      {
       "output_type": "stream",
       "stream": "stdout",
       "text": [
        "\n",
        "((57480,),)"
       ]
      },
      {
       "output_type": "stream",
       "stream": "stdout",
       "text": [
        "\n",
        "((57481,),)"
       ]
      },
      {
       "output_type": "stream",
       "stream": "stdout",
       "text": [
        "\n",
        "((57774,),)"
       ]
      },
      {
       "output_type": "stream",
       "stream": "stdout",
       "text": [
        "\n",
        "((57775,),)"
       ]
      },
      {
       "output_type": "stream",
       "stream": "stdout",
       "text": [
        "\n",
        "((57776,),)"
       ]
      },
      {
       "output_type": "stream",
       "stream": "stdout",
       "text": [
        "\n",
        "((57777,),)"
       ]
      },
      {
       "output_type": "stream",
       "stream": "stdout",
       "text": [
        "\n",
        "((57782,),)"
       ]
      },
      {
       "output_type": "stream",
       "stream": "stdout",
       "text": [
        "\n",
        "((57783,),)"
       ]
      },
      {
       "output_type": "stream",
       "stream": "stdout",
       "text": [
        "\n",
        "((57784,),)\n",
        "((57785,),)"
       ]
      },
      {
       "output_type": "stream",
       "stream": "stdout",
       "text": [
        "\n",
        "((58073,),)"
       ]
      },
      {
       "output_type": "stream",
       "stream": "stdout",
       "text": [
        "\n",
        "((58074,),)"
       ]
      },
      {
       "output_type": "stream",
       "stream": "stdout",
       "text": [
        "\n",
        "((58075,),)"
       ]
      },
      {
       "output_type": "stream",
       "stream": "stdout",
       "text": [
        "\n",
        "((58076,),)"
       ]
      },
      {
       "output_type": "stream",
       "stream": "stdout",
       "text": [
        "\n",
        "((58083,),)"
       ]
      },
      {
       "output_type": "stream",
       "stream": "stdout",
       "text": [
        "\n",
        "((58084,),)"
       ]
      },
      {
       "output_type": "stream",
       "stream": "stdout",
       "text": [
        "\n",
        "((58085,),)"
       ]
      },
      {
       "output_type": "stream",
       "stream": "stdout",
       "text": [
        "\n",
        "((58086,),)"
       ]
      },
      {
       "output_type": "stream",
       "stream": "stdout",
       "text": [
        "\n",
        "((58383,),)"
       ]
      },
      {
       "output_type": "stream",
       "stream": "stdout",
       "text": [
        "\n",
        "((58384,),)"
       ]
      },
      {
       "output_type": "stream",
       "stream": "stdout",
       "text": [
        "\n",
        "((58385,),)"
       ]
      },
      {
       "output_type": "stream",
       "stream": "stdout",
       "text": [
        "\n",
        "((58386,),)"
       ]
      },
      {
       "output_type": "stream",
       "stream": "stdout",
       "text": [
        "\n",
        "((58391,),)"
       ]
      },
      {
       "output_type": "stream",
       "stream": "stdout",
       "text": [
        "\n",
        "((58392,),)"
       ]
      },
      {
       "output_type": "stream",
       "stream": "stdout",
       "text": [
        "\n",
        "((58393,),)"
       ]
      },
      {
       "output_type": "stream",
       "stream": "stdout",
       "text": [
        "\n",
        "((58394,),)"
       ]
      },
      {
       "output_type": "stream",
       "stream": "stdout",
       "text": [
        "\n",
        "((58687,),)"
       ]
      },
      {
       "output_type": "stream",
       "stream": "stdout",
       "text": [
        "\n",
        "((58688,),)"
       ]
      },
      {
       "output_type": "stream",
       "stream": "stdout",
       "text": [
        "\n",
        "((58689,),)"
       ]
      },
      {
       "output_type": "stream",
       "stream": "stdout",
       "text": [
        "\n",
        "((58690,),)"
       ]
      },
      {
       "output_type": "stream",
       "stream": "stdout",
       "text": [
        "\n",
        "((58698,),)"
       ]
      },
      {
       "output_type": "stream",
       "stream": "stdout",
       "text": [
        "\n",
        "((58699,),)"
       ]
      },
      {
       "output_type": "stream",
       "stream": "stdout",
       "text": [
        "\n",
        "((58700,),)"
       ]
      },
      {
       "output_type": "stream",
       "stream": "stdout",
       "text": [
        "\n",
        "((58701,),)"
       ]
      },
      {
       "output_type": "stream",
       "stream": "stdout",
       "text": [
        "\n",
        "((58981,),)"
       ]
      },
      {
       "output_type": "stream",
       "stream": "stdout",
       "text": [
        "\n",
        "((58982,),)"
       ]
      },
      {
       "output_type": "stream",
       "stream": "stdout",
       "text": [
        "\n",
        "((60230,),)"
       ]
      },
      {
       "output_type": "stream",
       "stream": "stdout",
       "text": [
        "\n",
        "((60231,),)"
       ]
      },
      {
       "output_type": "stream",
       "stream": "stdout",
       "text": [
        "\n",
        "((60232,),)"
       ]
      },
      {
       "output_type": "stream",
       "stream": "stdout",
       "text": [
        "\n",
        "((60233,),)"
       ]
      },
      {
       "output_type": "stream",
       "stream": "stdout",
       "text": [
        "\n",
        "((60237,),)"
       ]
      },
      {
       "output_type": "stream",
       "stream": "stdout",
       "text": [
        "\n",
        "((60238,),)"
       ]
      },
      {
       "output_type": "stream",
       "stream": "stdout",
       "text": [
        "\n",
        "((60239,),)"
       ]
      },
      {
       "output_type": "stream",
       "stream": "stdout",
       "text": [
        "\n",
        "((60240,),)"
       ]
      },
      {
       "output_type": "stream",
       "stream": "stdout",
       "text": [
        "\n",
        "((60528,),)"
       ]
      },
      {
       "output_type": "stream",
       "stream": "stdout",
       "text": [
        "\n",
        "((60529,),)"
       ]
      },
      {
       "output_type": "stream",
       "stream": "stdout",
       "text": [
        "\n",
        "((60530,),)"
       ]
      },
      {
       "output_type": "stream",
       "stream": "stdout",
       "text": [
        "\n",
        "((60531,),)"
       ]
      },
      {
       "output_type": "stream",
       "stream": "stdout",
       "text": [
        "\n",
        "((60532,),)"
       ]
      },
      {
       "output_type": "stream",
       "stream": "stdout",
       "text": [
        "\n",
        "((60533,),)"
       ]
      },
      {
       "output_type": "stream",
       "stream": "stdout",
       "text": [
        "\n",
        "((60534,),)"
       ]
      },
      {
       "output_type": "stream",
       "stream": "stdout",
       "text": [
        "\n",
        "((60535,),)"
       ]
      },
      {
       "output_type": "stream",
       "stream": "stdout",
       "text": [
        "\n",
        "((60824,),)"
       ]
      },
      {
       "output_type": "stream",
       "stream": "stdout",
       "text": [
        "\n",
        "((60825,),)"
       ]
      },
      {
       "output_type": "stream",
       "stream": "stdout",
       "text": [
        "\n",
        "((60826,),)"
       ]
      },
      {
       "output_type": "stream",
       "stream": "stdout",
       "text": [
        "\n",
        "((60827,),)"
       ]
      },
      {
       "output_type": "stream",
       "stream": "stdout",
       "text": [
        "\n",
        "((60830,),)"
       ]
      },
      {
       "output_type": "stream",
       "stream": "stdout",
       "text": [
        "\n",
        "((60831,),)"
       ]
      },
      {
       "output_type": "stream",
       "stream": "stdout",
       "text": [
        "\n",
        "((60832,),)"
       ]
      },
      {
       "output_type": "stream",
       "stream": "stdout",
       "text": [
        "\n",
        "((60833,),)"
       ]
      },
      {
       "output_type": "stream",
       "stream": "stdout",
       "text": [
        "\n",
        "((61117,),)"
       ]
      },
      {
       "output_type": "stream",
       "stream": "stdout",
       "text": [
        "\n",
        "((61118,),)"
       ]
      },
      {
       "output_type": "stream",
       "stream": "stdout",
       "text": [
        "\n",
        "((61119,),)"
       ]
      },
      {
       "output_type": "stream",
       "stream": "stdout",
       "text": [
        "\n",
        "((61120,),)"
       ]
      },
      {
       "output_type": "stream",
       "stream": "stdout",
       "text": [
        "\n",
        "((61123,),)"
       ]
      },
      {
       "output_type": "stream",
       "stream": "stdout",
       "text": [
        "\n",
        "((61124,),)"
       ]
      },
      {
       "output_type": "stream",
       "stream": "stdout",
       "text": [
        "\n",
        "((61125,),)"
       ]
      },
      {
       "output_type": "stream",
       "stream": "stdout",
       "text": [
        "\n",
        "((61126,),)"
       ]
      },
      {
       "output_type": "stream",
       "stream": "stdout",
       "text": [
        "\n",
        "((61394,),)"
       ]
      },
      {
       "output_type": "stream",
       "stream": "stdout",
       "text": [
        "\n",
        "((61395,),)"
       ]
      },
      {
       "output_type": "stream",
       "stream": "stdout",
       "text": [
        "\n",
        "((61396,),)"
       ]
      },
      {
       "output_type": "stream",
       "stream": "stdout",
       "text": [
        "\n",
        "((61397,),)"
       ]
      },
      {
       "output_type": "stream",
       "stream": "stdout",
       "text": [
        "\n",
        "((61398,),)"
       ]
      },
      {
       "output_type": "stream",
       "stream": "stdout",
       "text": [
        "\n",
        "((61399,),)"
       ]
      },
      {
       "output_type": "stream",
       "stream": "stdout",
       "text": [
        "\n",
        "((61400,),)"
       ]
      },
      {
       "output_type": "stream",
       "stream": "stdout",
       "text": [
        "\n",
        "((61401,),)"
       ]
      },
      {
       "output_type": "stream",
       "stream": "stdout",
       "text": [
        "\n",
        "((61687,),)"
       ]
      },
      {
       "output_type": "stream",
       "stream": "stdout",
       "text": [
        "\n",
        "((61688,),)"
       ]
      },
      {
       "output_type": "stream",
       "stream": "stdout",
       "text": [
        "\n",
        "((61689,),)"
       ]
      },
      {
       "output_type": "stream",
       "stream": "stdout",
       "text": [
        "\n",
        "((61690,),)"
       ]
      },
      {
       "output_type": "stream",
       "stream": "stdout",
       "text": [
        "\n",
        "((61691,),)"
       ]
      },
      {
       "output_type": "stream",
       "stream": "stdout",
       "text": [
        "\n",
        "((61692,),)"
       ]
      },
      {
       "output_type": "stream",
       "stream": "stdout",
       "text": [
        "\n",
        "((61693,),)"
       ]
      },
      {
       "output_type": "stream",
       "stream": "stdout",
       "text": [
        "\n",
        "((61694,),)"
       ]
      },
      {
       "output_type": "stream",
       "stream": "stdout",
       "text": [
        "\n",
        "((61982,),)"
       ]
      },
      {
       "output_type": "stream",
       "stream": "stdout",
       "text": [
        "\n",
        "((61983,),)"
       ]
      },
      {
       "output_type": "stream",
       "stream": "stdout",
       "text": [
        "\n",
        "((61984,),)"
       ]
      },
      {
       "output_type": "stream",
       "stream": "stdout",
       "text": [
        "\n",
        "((61985,),)"
       ]
      },
      {
       "output_type": "stream",
       "stream": "stdout",
       "text": [
        "\n",
        "((62257,),)"
       ]
      },
      {
       "output_type": "stream",
       "stream": "stdout",
       "text": [
        "\n",
        "((62258,),)"
       ]
      },
      {
       "output_type": "stream",
       "stream": "stdout",
       "text": [
        "\n",
        "((62259,),)"
       ]
      },
      {
       "output_type": "stream",
       "stream": "stdout",
       "text": [
        "\n",
        "((62260,),)"
       ]
      },
      {
       "output_type": "stream",
       "stream": "stdout",
       "text": [
        "\n",
        "((62261,),)"
       ]
      },
      {
       "output_type": "stream",
       "stream": "stdout",
       "text": [
        "\n",
        "((62262,),)"
       ]
      },
      {
       "output_type": "stream",
       "stream": "stdout",
       "text": [
        "\n",
        "((62263,),)"
       ]
      },
      {
       "output_type": "stream",
       "stream": "stdout",
       "text": [
        "\n",
        "((62264,),)"
       ]
      },
      {
       "output_type": "stream",
       "stream": "stdout",
       "text": [
        "\n",
        "((62553,),)"
       ]
      },
      {
       "output_type": "stream",
       "stream": "stdout",
       "text": [
        "\n",
        "((62554,),)"
       ]
      },
      {
       "output_type": "stream",
       "stream": "stdout",
       "text": [
        "\n",
        "((62555,),)"
       ]
      },
      {
       "output_type": "stream",
       "stream": "stdout",
       "text": [
        "\n",
        "((62556,),)"
       ]
      },
      {
       "output_type": "stream",
       "stream": "stdout",
       "text": [
        "\n",
        "((62557,),)"
       ]
      },
      {
       "output_type": "stream",
       "stream": "stdout",
       "text": [
        "\n",
        "((62558,),)"
       ]
      },
      {
       "output_type": "stream",
       "stream": "stdout",
       "text": [
        "\n",
        "((62559,),)"
       ]
      },
      {
       "output_type": "stream",
       "stream": "stdout",
       "text": [
        "\n",
        "((62560,),)"
       ]
      },
      {
       "output_type": "stream",
       "stream": "stdout",
       "text": [
        "\n",
        "((62845,),)"
       ]
      },
      {
       "output_type": "stream",
       "stream": "stdout",
       "text": [
        "\n",
        "((62846,),)"
       ]
      },
      {
       "output_type": "stream",
       "stream": "stdout",
       "text": [
        "\n",
        "((62847,),)"
       ]
      },
      {
       "output_type": "stream",
       "stream": "stdout",
       "text": [
        "\n",
        "((62848,),)"
       ]
      },
      {
       "output_type": "stream",
       "stream": "stdout",
       "text": [
        "\n",
        "((62852,),)"
       ]
      },
      {
       "output_type": "stream",
       "stream": "stdout",
       "text": [
        "\n",
        "((62853,),)"
       ]
      },
      {
       "output_type": "stream",
       "stream": "stdout",
       "text": [
        "\n",
        "((62854,),)"
       ]
      },
      {
       "output_type": "stream",
       "stream": "stdout",
       "text": [
        "\n",
        "((63280,),)"
       ]
      },
      {
       "output_type": "stream",
       "stream": "stdout",
       "text": [
        "\n",
        "((63281,),)"
       ]
      },
      {
       "output_type": "stream",
       "stream": "stdout",
       "text": [
        "\n",
        "((63282,),)"
       ]
      },
      {
       "output_type": "stream",
       "stream": "stdout",
       "text": [
        "\n",
        "((63283,),)"
       ]
      },
      {
       "output_type": "stream",
       "stream": "stdout",
       "text": [
        "\n",
        "((63284,),)"
       ]
      },
      {
       "output_type": "stream",
       "stream": "stdout",
       "text": [
        "\n",
        "((63285,),)"
       ]
      },
      {
       "output_type": "stream",
       "stream": "stdout",
       "text": [
        "\n",
        "((63286,),)"
       ]
      },
      {
       "output_type": "stream",
       "stream": "stdout",
       "text": [
        "\n",
        "((63287,),)"
       ]
      },
      {
       "output_type": "stream",
       "stream": "stdout",
       "text": [
        "\n",
        "((63575,),)"
       ]
      },
      {
       "output_type": "stream",
       "stream": "stdout",
       "text": [
        "\n",
        "((63576,),)"
       ]
      },
      {
       "output_type": "stream",
       "stream": "stdout",
       "text": [
        "\n",
        "((63577,),)"
       ]
      },
      {
       "output_type": "stream",
       "stream": "stdout",
       "text": [
        "\n",
        "((63578,),)"
       ]
      },
      {
       "output_type": "stream",
       "stream": "stdout",
       "text": [
        "\n",
        "((64124,),)"
       ]
      },
      {
       "output_type": "stream",
       "stream": "stdout",
       "text": [
        "\n",
        "((64125,),)"
       ]
      },
      {
       "output_type": "stream",
       "stream": "stdout",
       "text": [
        "\n",
        "((64126,),)"
       ]
      },
      {
       "output_type": "stream",
       "stream": "stdout",
       "text": [
        "\n",
        "((64127,),)"
       ]
      },
      {
       "output_type": "stream",
       "stream": "stdout",
       "text": [
        "\n",
        "((64131,),)"
       ]
      },
      {
       "output_type": "stream",
       "stream": "stdout",
       "text": [
        "\n",
        "((64132,),)"
       ]
      },
      {
       "output_type": "stream",
       "stream": "stdout",
       "text": [
        "\n",
        "((64133,),)"
       ]
      },
      {
       "output_type": "stream",
       "stream": "stdout",
       "text": [
        "\n",
        "((64134,),)"
       ]
      },
      {
       "output_type": "stream",
       "stream": "stdout",
       "text": [
        "\n",
        "((64285,),)"
       ]
      },
      {
       "output_type": "stream",
       "stream": "stdout",
       "text": [
        "\n",
        "((64286,),)"
       ]
      },
      {
       "output_type": "stream",
       "stream": "stdout",
       "text": [
        "\n",
        "((64287,),)"
       ]
      },
      {
       "output_type": "stream",
       "stream": "stdout",
       "text": [
        "\n",
        "((64288,),)"
       ]
      },
      {
       "output_type": "stream",
       "stream": "stdout",
       "text": [
        "\n",
        "((64289,),)"
       ]
      },
      {
       "output_type": "stream",
       "stream": "stdout",
       "text": [
        "\n",
        "((64290,),)"
       ]
      },
      {
       "output_type": "stream",
       "stream": "stdout",
       "text": [
        "\n",
        "((64291,),)"
       ]
      },
      {
       "output_type": "stream",
       "stream": "stdout",
       "text": [
        "\n",
        "((64292,),)"
       ]
      },
      {
       "output_type": "stream",
       "stream": "stdout",
       "text": [
        "\n",
        "((64581,),)"
       ]
      },
      {
       "output_type": "stream",
       "stream": "stdout",
       "text": [
        "\n",
        "((64582,),)"
       ]
      },
      {
       "output_type": "stream",
       "stream": "stdout",
       "text": [
        "\n",
        "((64583,),)"
       ]
      },
      {
       "output_type": "stream",
       "stream": "stdout",
       "text": [
        "\n",
        "((64584,),)"
       ]
      },
      {
       "output_type": "stream",
       "stream": "stdout",
       "text": [
        "\n",
        "((64853,),)"
       ]
      },
      {
       "output_type": "stream",
       "stream": "stdout",
       "text": [
        "\n",
        "((64855,),)"
       ]
      },
      {
       "output_type": "stream",
       "stream": "stdout",
       "text": [
        "\n",
        "((64856,),)"
       ]
      },
      {
       "output_type": "stream",
       "stream": "stdout",
       "text": [
        "\n",
        "((64857,),)"
       ]
      },
      {
       "output_type": "stream",
       "stream": "stdout",
       "text": [
        "\n",
        "((64858,),)"
       ]
      },
      {
       "output_type": "stream",
       "stream": "stdout",
       "text": [
        "\n",
        "((64859,),)"
       ]
      },
      {
       "output_type": "stream",
       "stream": "stdout",
       "text": [
        "\n",
        "((64860,),)"
       ]
      },
      {
       "output_type": "stream",
       "stream": "stdout",
       "text": [
        "\n",
        "((65656,),)"
       ]
      },
      {
       "output_type": "stream",
       "stream": "stdout",
       "text": [
        "\n",
        "((65657,),)"
       ]
      },
      {
       "output_type": "stream",
       "stream": "stdout",
       "text": [
        "\n",
        "((65658,),)"
       ]
      },
      {
       "output_type": "stream",
       "stream": "stdout",
       "text": [
        "\n",
        "((65659,),)"
       ]
      },
      {
       "output_type": "stream",
       "stream": "stdout",
       "text": [
        "\n",
        "((65666,),)"
       ]
      },
      {
       "output_type": "stream",
       "stream": "stdout",
       "text": [
        "\n",
        "((65667,),)"
       ]
      },
      {
       "output_type": "stream",
       "stream": "stdout",
       "text": [
        "\n",
        "((65668,),)"
       ]
      },
      {
       "output_type": "stream",
       "stream": "stdout",
       "text": [
        "\n",
        "((65669,),)"
       ]
      },
      {
       "output_type": "stream",
       "stream": "stdout",
       "text": [
        "\n",
        "((65948,),)"
       ]
      },
      {
       "output_type": "stream",
       "stream": "stdout",
       "text": [
        "\n",
        "((65949,),)"
       ]
      },
      {
       "output_type": "stream",
       "stream": "stdout",
       "text": [
        "\n",
        "((65950,),)"
       ]
      },
      {
       "output_type": "stream",
       "stream": "stdout",
       "text": [
        "\n",
        "((65951,),)"
       ]
      },
      {
       "output_type": "stream",
       "stream": "stdout",
       "text": [
        "\n",
        "((65952,),)"
       ]
      },
      {
       "output_type": "stream",
       "stream": "stdout",
       "text": [
        "\n",
        "((65953,),)"
       ]
      },
      {
       "output_type": "stream",
       "stream": "stdout",
       "text": [
        "\n",
        "((65954,),)"
       ]
      },
      {
       "output_type": "stream",
       "stream": "stdout",
       "text": [
        "\n",
        "((65955,),)"
       ]
      },
      {
       "output_type": "stream",
       "stream": "stdout",
       "text": [
        "\n",
        "((66237,),)\n",
        "((66238,),)"
       ]
      },
      {
       "output_type": "stream",
       "stream": "stdout",
       "text": [
        "\n",
        "((66239,),)\n",
        "((66240,),)"
       ]
      },
      {
       "output_type": "stream",
       "stream": "stdout",
       "text": [
        "\n",
        "((66241,),)"
       ]
      },
      {
       "output_type": "stream",
       "stream": "stdout",
       "text": [
        "\n",
        "((66242,),)"
       ]
      },
      {
       "output_type": "stream",
       "stream": "stdout",
       "text": [
        "\n",
        "((66243,),)"
       ]
      },
      {
       "output_type": "stream",
       "stream": "stdout",
       "text": [
        "\n",
        "((66244,),)"
       ]
      },
      {
       "output_type": "stream",
       "stream": "stdout",
       "text": [
        "\n",
        "((66521,),)"
       ]
      },
      {
       "output_type": "stream",
       "stream": "stdout",
       "text": [
        "\n",
        "((66522,),)"
       ]
      },
      {
       "output_type": "stream",
       "stream": "stdout",
       "text": [
        "\n",
        "((66523,),)"
       ]
      },
      {
       "output_type": "stream",
       "stream": "stdout",
       "text": [
        "\n",
        "((66524,),)"
       ]
      },
      {
       "output_type": "stream",
       "stream": "stdout",
       "text": [
        "\n",
        "((66525,),)"
       ]
      },
      {
       "output_type": "stream",
       "stream": "stdout",
       "text": [
        "\n",
        "((66526,),)"
       ]
      },
      {
       "output_type": "stream",
       "stream": "stdout",
       "text": [
        "\n",
        "((66527,),)"
       ]
      },
      {
       "output_type": "stream",
       "stream": "stdout",
       "text": [
        "\n",
        "((66528,),)"
       ]
      },
      {
       "output_type": "stream",
       "stream": "stdout",
       "text": [
        "\n",
        "((66815,),)"
       ]
      },
      {
       "output_type": "stream",
       "stream": "stdout",
       "text": [
        "\n",
        "((66816,),)"
       ]
      },
      {
       "output_type": "stream",
       "stream": "stdout",
       "text": [
        "\n",
        "((66817,),)"
       ]
      },
      {
       "output_type": "stream",
       "stream": "stdout",
       "text": [
        "\n",
        "((66818,),)"
       ]
      },
      {
       "output_type": "stream",
       "stream": "stdout",
       "text": [
        "\n",
        "((66819,),)"
       ]
      },
      {
       "output_type": "stream",
       "stream": "stdout",
       "text": [
        "\n",
        "((66820,),)"
       ]
      },
      {
       "output_type": "stream",
       "stream": "stdout",
       "text": [
        "\n",
        "((66821,),)"
       ]
      },
      {
       "output_type": "stream",
       "stream": "stdout",
       "text": [
        "\n",
        "((66822,),)"
       ]
      },
      {
       "output_type": "stream",
       "stream": "stdout",
       "text": [
        "\n",
        "((67116,),)"
       ]
      },
      {
       "output_type": "stream",
       "stream": "stdout",
       "text": [
        "\n",
        "((67117,),)"
       ]
      },
      {
       "output_type": "stream",
       "stream": "stdout",
       "text": [
        "\n",
        "((67118,),)"
       ]
      },
      {
       "output_type": "stream",
       "stream": "stdout",
       "text": [
        "\n",
        "((67119,),)"
       ]
      },
      {
       "output_type": "stream",
       "stream": "stdout",
       "text": [
        "\n",
        "((67395,),)"
       ]
      },
      {
       "output_type": "stream",
       "stream": "stdout",
       "text": [
        "\n",
        "((67396,),)"
       ]
      },
      {
       "output_type": "stream",
       "stream": "stdout",
       "text": [
        "\n",
        "((67397,),)"
       ]
      },
      {
       "output_type": "stream",
       "stream": "stdout",
       "text": [
        "\n",
        "((67398,),)"
       ]
      },
      {
       "output_type": "stream",
       "stream": "stdout",
       "text": [
        "\n",
        "((67701,),)"
       ]
      },
      {
       "output_type": "stream",
       "stream": "stdout",
       "text": [
        "\n",
        "((67702,),)"
       ]
      },
      {
       "output_type": "stream",
       "stream": "stdout",
       "text": [
        "\n",
        "((67703,),)"
       ]
      },
      {
       "output_type": "stream",
       "stream": "stdout",
       "text": [
        "\n",
        "((67704,),)"
       ]
      },
      {
       "output_type": "stream",
       "stream": "stdout",
       "text": [
        "\n",
        "((68132,),)"
       ]
      },
      {
       "output_type": "stream",
       "stream": "stdout",
       "text": [
        "\n",
        "((68133,),)"
       ]
      },
      {
       "output_type": "stream",
       "stream": "stdout",
       "text": [
        "\n",
        "((68134,),)"
       ]
      },
      {
       "output_type": "stream",
       "stream": "stdout",
       "text": [
        "\n",
        "((68135,),)"
       ]
      },
      {
       "output_type": "stream",
       "stream": "stdout",
       "text": [
        "\n",
        "((68136,),)"
       ]
      },
      {
       "output_type": "stream",
       "stream": "stdout",
       "text": [
        "\n",
        "((68137,),)"
       ]
      },
      {
       "output_type": "stream",
       "stream": "stdout",
       "text": [
        "\n",
        "((68138,),)"
       ]
      },
      {
       "output_type": "stream",
       "stream": "stdout",
       "text": [
        "\n",
        "((68139,),)"
       ]
      },
      {
       "output_type": "stream",
       "stream": "stdout",
       "text": [
        "\n",
        "((68408,),)"
       ]
      },
      {
       "output_type": "stream",
       "stream": "stdout",
       "text": [
        "\n",
        "((68409,),)"
       ]
      },
      {
       "output_type": "stream",
       "stream": "stdout",
       "text": [
        "\n",
        "((68410,),)"
       ]
      },
      {
       "output_type": "stream",
       "stream": "stdout",
       "text": [
        "\n",
        "((68411,),)"
       ]
      },
      {
       "output_type": "stream",
       "stream": "stdout",
       "text": [
        "\n",
        "((68412,),)"
       ]
      },
      {
       "output_type": "stream",
       "stream": "stdout",
       "text": [
        "\n",
        "((68413,),)"
       ]
      },
      {
       "output_type": "stream",
       "stream": "stdout",
       "text": [
        "\n",
        "((68414,),)"
       ]
      },
      {
       "output_type": "stream",
       "stream": "stdout",
       "text": [
        "\n",
        "((68415,),)\n",
        "((68578,),)"
       ]
      },
      {
       "output_type": "stream",
       "stream": "stdout",
       "text": [
        "\n",
        "((68579,),)"
       ]
      },
      {
       "output_type": "stream",
       "stream": "stdout",
       "text": [
        "\n",
        "((68580,),)"
       ]
      },
      {
       "output_type": "stream",
       "stream": "stdout",
       "text": [
        "\n",
        "((68581,),)"
       ]
      },
      {
       "output_type": "stream",
       "stream": "stdout",
       "text": [
        "\n",
        "((69158,),)"
       ]
      },
      {
       "output_type": "stream",
       "stream": "stdout",
       "text": [
        "\n",
        "((69159,),)"
       ]
      },
      {
       "output_type": "stream",
       "stream": "stdout",
       "text": [
        "\n",
        "((69160,),)"
       ]
      },
      {
       "output_type": "stream",
       "stream": "stdout",
       "text": [
        "\n",
        "((69161,),)"
       ]
      },
      {
       "output_type": "stream",
       "stream": "stdout",
       "text": [
        "\n",
        "((69447,),)"
       ]
      },
      {
       "output_type": "stream",
       "stream": "stdout",
       "text": [
        "\n",
        "((69448,),)"
       ]
      },
      {
       "output_type": "stream",
       "stream": "stdout",
       "text": [
        "\n",
        "((69449,),)"
       ]
      },
      {
       "output_type": "stream",
       "stream": "stdout",
       "text": [
        "\n",
        "((69450,),)"
       ]
      },
      {
       "output_type": "stream",
       "stream": "stdout",
       "text": [
        "\n",
        "((69738,),)"
       ]
      },
      {
       "output_type": "stream",
       "stream": "stdout",
       "text": [
        "\n",
        "((69739,),)"
       ]
      },
      {
       "output_type": "stream",
       "stream": "stdout",
       "text": [
        "\n",
        "((69740,),)"
       ]
      },
      {
       "output_type": "stream",
       "stream": "stdout",
       "text": [
        "\n",
        "((69741,),)"
       ]
      },
      {
       "output_type": "stream",
       "stream": "stdout",
       "text": [
        "\n",
        "((70008,),)"
       ]
      },
      {
       "output_type": "stream",
       "stream": "stdout",
       "text": [
        "\n",
        "((70009,),)"
       ]
      },
      {
       "output_type": "stream",
       "stream": "stdout",
       "text": [
        "\n",
        "((70010,),)"
       ]
      },
      {
       "output_type": "stream",
       "stream": "stdout",
       "text": [
        "\n",
        "((70011,),)"
       ]
      },
      {
       "output_type": "stream",
       "stream": "stdout",
       "text": [
        "\n",
        "((70301,),)"
       ]
      },
      {
       "output_type": "stream",
       "stream": "stdout",
       "text": [
        "\n",
        "((70302,),)"
       ]
      },
      {
       "output_type": "stream",
       "stream": "stdout",
       "text": [
        "\n",
        "((70303,),)"
       ]
      },
      {
       "output_type": "stream",
       "stream": "stdout",
       "text": [
        "\n",
        "((70304,),)"
       ]
      },
      {
       "output_type": "stream",
       "stream": "stdout",
       "text": [
        "\n",
        "((71163,),)"
       ]
      },
      {
       "output_type": "stream",
       "stream": "stdout",
       "text": [
        "\n",
        "((71164,),)"
       ]
      },
      {
       "output_type": "stream",
       "stream": "stdout",
       "text": [
        "\n",
        "((71165,),)"
       ]
      },
      {
       "output_type": "stream",
       "stream": "stdout",
       "text": [
        "\n",
        "((71166,),)"
       ]
      },
      {
       "output_type": "stream",
       "stream": "stdout",
       "text": [
        "\n",
        "((71463,),)"
       ]
      },
      {
       "output_type": "stream",
       "stream": "stdout",
       "text": [
        "\n",
        "((71464,),)"
       ]
      },
      {
       "output_type": "stream",
       "stream": "stdout",
       "text": [
        "\n",
        "((71746,),)"
       ]
      },
      {
       "output_type": "stream",
       "stream": "stdout",
       "text": [
        "\n",
        "((71747,),)"
       ]
      },
      {
       "output_type": "stream",
       "stream": "stdout",
       "text": [
        "\n",
        "((71748,),)"
       ]
      },
      {
       "output_type": "stream",
       "stream": "stdout",
       "text": [
        "\n",
        "((71749,),)"
       ]
      },
      {
       "output_type": "stream",
       "stream": "stdout",
       "text": [
        "\n",
        "((72034,),)"
       ]
      },
      {
       "output_type": "stream",
       "stream": "stdout",
       "text": [
        "\n",
        "((72035,),)"
       ]
      },
      {
       "output_type": "stream",
       "stream": "stdout",
       "text": [
        "\n",
        "((72036,),)"
       ]
      },
      {
       "output_type": "stream",
       "stream": "stdout",
       "text": [
        "\n",
        "((72037,),)"
       ]
      },
      {
       "output_type": "stream",
       "stream": "stdout",
       "text": [
        "\n",
        "((72600,),)"
       ]
      },
      {
       "output_type": "stream",
       "stream": "stdout",
       "text": [
        "\n",
        "((72601,),)"
       ]
      },
      {
       "output_type": "stream",
       "stream": "stdout",
       "text": [
        "\n",
        "((72602,),)"
       ]
      },
      {
       "output_type": "stream",
       "stream": "stdout",
       "text": [
        "\n",
        "((72603,),)"
       ]
      },
      {
       "output_type": "stream",
       "stream": "stdout",
       "text": [
        "\n",
        "((72898,),)"
       ]
      },
      {
       "output_type": "stream",
       "stream": "stdout",
       "text": [
        "\n",
        "((72899,),)"
       ]
      },
      {
       "output_type": "stream",
       "stream": "stdout",
       "text": [
        "\n",
        "((72900,),)"
       ]
      },
      {
       "output_type": "stream",
       "stream": "stdout",
       "text": [
        "\n",
        "((72901,),)"
       ]
      },
      {
       "output_type": "stream",
       "stream": "stdout",
       "text": [
        "\n",
        "((73461,),)"
       ]
      },
      {
       "output_type": "stream",
       "stream": "stdout",
       "text": [
        "\n",
        "((73462,),)"
       ]
      },
      {
       "output_type": "stream",
       "stream": "stdout",
       "text": [
        "\n",
        "((73463,),)"
       ]
      },
      {
       "output_type": "stream",
       "stream": "stdout",
       "text": [
        "\n",
        "((73464,),)"
       ]
      },
      {
       "output_type": "stream",
       "stream": "stdout",
       "text": [
        "\n",
        "((73747,),)"
       ]
      },
      {
       "output_type": "stream",
       "stream": "stdout",
       "text": [
        "\n",
        "((73748,),)"
       ]
      },
      {
       "output_type": "stream",
       "stream": "stdout",
       "text": [
        "\n",
        "((73749,),)"
       ]
      },
      {
       "output_type": "stream",
       "stream": "stdout",
       "text": [
        "\n",
        "((73750,),)"
       ]
      },
      {
       "output_type": "stream",
       "stream": "stdout",
       "text": [
        "\n",
        "((74310,),)"
       ]
      },
      {
       "output_type": "stream",
       "stream": "stdout",
       "text": [
        "\n",
        "((74311,),)"
       ]
      },
      {
       "output_type": "stream",
       "stream": "stdout",
       "text": [
        "\n",
        "((74312,),)"
       ]
      },
      {
       "output_type": "stream",
       "stream": "stdout",
       "text": [
        "\n",
        "((74313,),)"
       ]
      },
      {
       "output_type": "stream",
       "stream": "stdout",
       "text": [
        "\n",
        "((75150,),)"
       ]
      },
      {
       "output_type": "stream",
       "stream": "stdout",
       "text": [
        "\n",
        "((75151,),)"
       ]
      },
      {
       "output_type": "stream",
       "stream": "stdout",
       "text": [
        "\n",
        "((75152,),)"
       ]
      },
      {
       "output_type": "stream",
       "stream": "stdout",
       "text": [
        "\n",
        "((75153,),)"
       ]
      },
      {
       "output_type": "stream",
       "stream": "stdout",
       "text": [
        "\n",
        "((75441,),)"
       ]
      },
      {
       "output_type": "stream",
       "stream": "stdout",
       "text": [
        "\n",
        "((75442,),)"
       ]
      },
      {
       "output_type": "stream",
       "stream": "stdout",
       "text": [
        "\n",
        "((75443,),)"
       ]
      },
      {
       "output_type": "stream",
       "stream": "stdout",
       "text": [
        "\n",
        "((75444,),)"
       ]
      },
      {
       "output_type": "stream",
       "stream": "stdout",
       "text": [
        "\n",
        "((75733,),)"
       ]
      },
      {
       "output_type": "stream",
       "stream": "stdout",
       "text": [
        "\n",
        "((75734,),)"
       ]
      },
      {
       "output_type": "stream",
       "stream": "stdout",
       "text": [
        "\n",
        "((75735,),)"
       ]
      },
      {
       "output_type": "stream",
       "stream": "stdout",
       "text": [
        "\n",
        "((75736,),)"
       ]
      },
      {
       "output_type": "stream",
       "stream": "stdout",
       "text": [
        "\n",
        "((76006,),)"
       ]
      },
      {
       "output_type": "stream",
       "stream": "stdout",
       "text": [
        "\n",
        "((76007,),)"
       ]
      },
      {
       "output_type": "stream",
       "stream": "stdout",
       "text": [
        "\n",
        "((76008,),)"
       ]
      },
      {
       "output_type": "stream",
       "stream": "stdout",
       "text": [
        "\n",
        "((76009,),)"
       ]
      },
      {
       "output_type": "stream",
       "stream": "stdout",
       "text": [
        "\n",
        "((76295,),)"
       ]
      },
      {
       "output_type": "stream",
       "stream": "stdout",
       "text": [
        "\n",
        "((76296,),)"
       ]
      },
      {
       "output_type": "stream",
       "stream": "stdout",
       "text": [
        "\n",
        "((76297,),)"
       ]
      },
      {
       "output_type": "stream",
       "stream": "stdout",
       "text": [
        "\n",
        "((76298,),)"
       ]
      },
      {
       "output_type": "stream",
       "stream": "stdout",
       "text": [
        "\n",
        "((76846,),)"
       ]
      },
      {
       "output_type": "stream",
       "stream": "stdout",
       "text": [
        "\n",
        "((76847,),)"
       ]
      },
      {
       "output_type": "stream",
       "stream": "stdout",
       "text": [
        "\n",
        "((76848,),)"
       ]
      },
      {
       "output_type": "stream",
       "stream": "stdout",
       "text": [
        "\n",
        "((76849,),)"
       ]
      },
      {
       "output_type": "stream",
       "stream": "stdout",
       "text": [
        "\n",
        "((77135,),)"
       ]
      },
      {
       "output_type": "stream",
       "stream": "stdout",
       "text": [
        "\n",
        "((77136,),)"
       ]
      },
      {
       "output_type": "stream",
       "stream": "stdout",
       "text": [
        "\n",
        "((77137,),)"
       ]
      },
      {
       "output_type": "stream",
       "stream": "stdout",
       "text": [
        "\n",
        "((77422,),)"
       ]
      },
      {
       "output_type": "stream",
       "stream": "stdout",
       "text": [
        "\n",
        "((77423,),)"
       ]
      },
      {
       "output_type": "stream",
       "stream": "stdout",
       "text": [
        "\n",
        "((77424,),)"
       ]
      },
      {
       "output_type": "stream",
       "stream": "stdout",
       "text": [
        "\n",
        "((77425,),)"
       ]
      },
      {
       "output_type": "stream",
       "stream": "stdout",
       "text": [
        "\n",
        "((77697,),)"
       ]
      },
      {
       "output_type": "stream",
       "stream": "stdout",
       "text": [
        "\n",
        "((77698,),)"
       ]
      },
      {
       "output_type": "stream",
       "stream": "stdout",
       "text": [
        "\n",
        "((77699,),)"
       ]
      },
      {
       "output_type": "stream",
       "stream": "stdout",
       "text": [
        "\n",
        "((77700,),)"
       ]
      },
      {
       "output_type": "stream",
       "stream": "stdout",
       "text": [
        "\n",
        "((78640,),)"
       ]
      },
      {
       "output_type": "stream",
       "stream": "stdout",
       "text": [
        "\n",
        "((78644,),)"
       ]
      },
      {
       "output_type": "stream",
       "stream": "stdout",
       "text": [
        "\n",
        "((78647,),)"
       ]
      },
      {
       "output_type": "stream",
       "stream": "stdout",
       "text": [
        "\n",
        "((78654,),)"
       ]
      },
      {
       "output_type": "stream",
       "stream": "stdout",
       "text": [
        "\n",
        "((78907,),)"
       ]
      },
      {
       "output_type": "stream",
       "stream": "stdout",
       "text": [
        "\n",
        "((78909,),)"
       ]
      },
      {
       "output_type": "stream",
       "stream": "stdout",
       "text": [
        "\n",
        "((78913,),)"
       ]
      },
      {
       "output_type": "stream",
       "stream": "stdout",
       "text": [
        "\n",
        "((78917,),)"
       ]
      },
      {
       "output_type": "stream",
       "stream": "stdout",
       "text": [
        "\n",
        "((79199,),)"
       ]
      },
      {
       "output_type": "stream",
       "stream": "stdout",
       "text": [
        "\n",
        "((79203,),)\n",
        "((79206,),)"
       ]
      },
      {
       "output_type": "stream",
       "stream": "stdout",
       "text": [
        "\n",
        "((79212,),)"
       ]
      },
      {
       "output_type": "stream",
       "stream": "stdout",
       "text": [
        "\n",
        "((79486,),)"
       ]
      },
      {
       "output_type": "stream",
       "stream": "stdout",
       "text": [
        "\n",
        "((79491,),)"
       ]
      },
      {
       "output_type": "stream",
       "stream": "stdout",
       "text": [
        "\n",
        "((79495,),)"
       ]
      },
      {
       "output_type": "stream",
       "stream": "stdout",
       "text": [
        "\n",
        "((79498,),)"
       ]
      },
      {
       "output_type": "stream",
       "stream": "stdout",
       "text": [
        "\n",
        "((79748,),)"
       ]
      },
      {
       "output_type": "stream",
       "stream": "stdout",
       "text": [
        "\n",
        "((79752,),)"
       ]
      },
      {
       "output_type": "stream",
       "stream": "stdout",
       "text": [
        "\n",
        "((80263,),)"
       ]
      },
      {
       "output_type": "stream",
       "stream": "stdout",
       "text": [
        "\n",
        "((80268,),)"
       ]
      },
      {
       "output_type": "stream",
       "stream": "stdout",
       "text": [
        "\n",
        "((80274,),)"
       ]
      },
      {
       "output_type": "stream",
       "stream": "stdout",
       "text": [
        "\n",
        "((80275,),)"
       ]
      },
      {
       "output_type": "stream",
       "stream": "stdout",
       "text": [
        "\n",
        "((80530,),)"
       ]
      },
      {
       "output_type": "stream",
       "stream": "stdout",
       "text": [
        "\n",
        "((80537,),)"
       ]
      },
      {
       "output_type": "stream",
       "stream": "stdout",
       "text": [
        "\n",
        "((80540,),)"
       ]
      },
      {
       "output_type": "stream",
       "stream": "stdout",
       "text": [
        "\n",
        "((80551,),)"
       ]
      },
      {
       "output_type": "stream",
       "stream": "stdout",
       "text": [
        "\n",
        "((80822,),)"
       ]
      },
      {
       "output_type": "stream",
       "stream": "stdout",
       "text": [
        "\n",
        "((80828,),)"
       ]
      },
      {
       "output_type": "stream",
       "stream": "stdout",
       "text": [
        "\n",
        "((80831,),)"
       ]
      },
      {
       "output_type": "stream",
       "stream": "stdout",
       "text": [
        "\n",
        "((80835,),)"
       ]
      },
      {
       "output_type": "stream",
       "stream": "stdout",
       "text": [
        "\n",
        "((81107,),)"
       ]
      },
      {
       "output_type": "stream",
       "stream": "stdout",
       "text": [
        "\n",
        "((81112,),)"
       ]
      },
      {
       "output_type": "stream",
       "stream": "stdout",
       "text": [
        "\n",
        "((81121,),)"
       ]
      },
      {
       "output_type": "stream",
       "stream": "stdout",
       "text": [
        "\n",
        "((81373,),)"
       ]
      },
      {
       "output_type": "stream",
       "stream": "stdout",
       "text": [
        "\n",
        "((81378,),)"
       ]
      },
      {
       "output_type": "stream",
       "stream": "stdout",
       "text": [
        "\n",
        "((81387,),)"
       ]
      },
      {
       "output_type": "stream",
       "stream": "stdout",
       "text": [
        "\n",
        "((81639,),)"
       ]
      },
      {
       "output_type": "stream",
       "stream": "stdout",
       "text": [
        "\n",
        "((81643,),)"
       ]
      },
      {
       "output_type": "stream",
       "stream": "stdout",
       "text": [
        "\n",
        "((81647,),)"
       ]
      },
      {
       "output_type": "stream",
       "stream": "stdout",
       "text": [
        "\n",
        "((81651,),)"
       ]
      },
      {
       "output_type": "stream",
       "stream": "stdout",
       "text": [
        "\n",
        "((81933,),)"
       ]
      },
      {
       "output_type": "stream",
       "stream": "stdout",
       "text": [
        "\n",
        "((81939,),)"
       ]
      },
      {
       "output_type": "stream",
       "stream": "stdout",
       "text": [
        "\n",
        "((81942,),)"
       ]
      },
      {
       "output_type": "stream",
       "stream": "stdout",
       "text": [
        "\n",
        "((81949,),)"
       ]
      },
      {
       "output_type": "stream",
       "stream": "stdout",
       "text": [
        "\n",
        "((82224,),)"
       ]
      },
      {
       "output_type": "stream",
       "stream": "stdout",
       "text": [
        "\n",
        "((82229,),)"
       ]
      },
      {
       "output_type": "stream",
       "stream": "stdout",
       "text": [
        "\n",
        "((82238,),)"
       ]
      },
      {
       "output_type": "stream",
       "stream": "stdout",
       "text": [
        "\n",
        "((82567,),)"
       ]
      },
      {
       "output_type": "stream",
       "stream": "stdout",
       "text": [
        "\n",
        "((82571,),)"
       ]
      },
      {
       "output_type": "stream",
       "stream": "stdout",
       "text": [
        "\n",
        "((82574,),)"
       ]
      },
      {
       "output_type": "stream",
       "stream": "stdout",
       "text": [
        "\n",
        "((82857,),)"
       ]
      },
      {
       "output_type": "stream",
       "stream": "stdout",
       "text": [
        "\n",
        "((82858,),)"
       ]
      },
      {
       "output_type": "stream",
       "stream": "stdout",
       "text": [
        "\n",
        "((82862,),)"
       ]
      },
      {
       "output_type": "stream",
       "stream": "stdout",
       "text": [
        "\n",
        "((82863,),)"
       ]
      },
      {
       "output_type": "stream",
       "stream": "stdout",
       "text": [
        "\n",
        "((83144,),)"
       ]
      },
      {
       "output_type": "stream",
       "stream": "stdout",
       "text": [
        "\n",
        "((83149,),)"
       ]
      },
      {
       "output_type": "stream",
       "stream": "stdout",
       "text": [
        "\n",
        "((83412,),)"
       ]
      },
      {
       "output_type": "stream",
       "stream": "stdout",
       "text": [
        "\n",
        "((83416,),)"
       ]
      },
      {
       "output_type": "stream",
       "stream": "stdout",
       "text": [
        "\n",
        "((83420,),)"
       ]
      },
      {
       "output_type": "stream",
       "stream": "stdout",
       "text": [
        "\n",
        "((83424,),)"
       ]
      },
      {
       "output_type": "stream",
       "stream": "stdout",
       "text": [
        "\n",
        "((83700,),)"
       ]
      },
      {
       "output_type": "stream",
       "stream": "stdout",
       "text": [
        "\n",
        "((83703,),)"
       ]
      },
      {
       "output_type": "stream",
       "stream": "stdout",
       "text": [
        "\n",
        "((83707,),)"
       ]
      },
      {
       "output_type": "stream",
       "stream": "stdout",
       "text": [
        "\n",
        "((83710,),)"
       ]
      },
      {
       "output_type": "stream",
       "stream": "stdout",
       "text": [
        "\n",
        "((84255,),)"
       ]
      },
      {
       "output_type": "stream",
       "stream": "stdout",
       "text": [
        "\n",
        "((84262,),)"
       ]
      },
      {
       "output_type": "stream",
       "stream": "stdout",
       "text": [
        "\n",
        "((84265,),)"
       ]
      },
      {
       "output_type": "stream",
       "stream": "stdout",
       "text": [
        "\n",
        "((84266,),)"
       ]
      },
      {
       "output_type": "stream",
       "stream": "stdout",
       "text": [
        "\n",
        "((84553,),)"
       ]
      },
      {
       "output_type": "stream",
       "stream": "stdout",
       "text": [
        "\n",
        "((84557,),)"
       ]
      },
      {
       "output_type": "stream",
       "stream": "stdout",
       "text": [
        "\n",
        "((84560,),)"
       ]
      },
      {
       "output_type": "stream",
       "stream": "stdout",
       "text": [
        "\n",
        "((85130,),)"
       ]
      },
      {
       "output_type": "stream",
       "stream": "stdout",
       "text": [
        "\n",
        "((85137,),)"
       ]
      },
      {
       "output_type": "stream",
       "stream": "stdout",
       "text": [
        "\n",
        "((85140,),)"
       ]
      },
      {
       "output_type": "stream",
       "stream": "stdout",
       "text": [
        "\n",
        "((85419,),)"
       ]
      },
      {
       "output_type": "stream",
       "stream": "stdout",
       "text": [
        "\n",
        "((85422,),)"
       ]
      },
      {
       "output_type": "stream",
       "stream": "stdout",
       "text": [
        "\n",
        "((85718,),)"
       ]
      },
      {
       "output_type": "stream",
       "stream": "stdout",
       "text": [
        "\n",
        "((85725,),)"
       ]
      },
      {
       "output_type": "stream",
       "stream": "stdout",
       "text": [
        "\n",
        "((85988,),)"
       ]
      },
      {
       "output_type": "stream",
       "stream": "stdout",
       "text": [
        "\n",
        "((85992,),)"
       ]
      },
      {
       "output_type": "stream",
       "stream": "stdout",
       "text": [
        "\n",
        "((86256,),)"
       ]
      },
      {
       "output_type": "stream",
       "stream": "stdout",
       "text": [
        "\n",
        "((86260,),)"
       ]
      },
      {
       "output_type": "stream",
       "stream": "stdout",
       "text": [
        "\n",
        "((86263,),)"
       ]
      },
      {
       "output_type": "stream",
       "stream": "stdout",
       "text": [
        "\n",
        "((86552,),)"
       ]
      },
      {
       "output_type": "stream",
       "stream": "stdout",
       "text": [
        "\n",
        "((86555,),)"
       ]
      },
      {
       "output_type": "stream",
       "stream": "stdout",
       "text": [
        "\n",
        "((87089,),)"
       ]
      },
      {
       "output_type": "stream",
       "stream": "stdout",
       "text": [
        "\n",
        "((87090,),)"
       ]
      },
      {
       "output_type": "stream",
       "stream": "stdout",
       "text": [
        "\n",
        "((87094,),)"
       ]
      },
      {
       "output_type": "stream",
       "stream": "stdout",
       "text": [
        "\n",
        "((87777,),)"
       ]
      },
      {
       "output_type": "stream",
       "stream": "stdout",
       "text": [
        "\n",
        "((87778,),)"
       ]
      },
      {
       "output_type": "stream",
       "stream": "stdout",
       "text": [
        "\n",
        "((87780,),)"
       ]
      },
      {
       "output_type": "stream",
       "stream": "stdout",
       "text": [
        "\n",
        "((87781,),)"
       ]
      },
      {
       "output_type": "stream",
       "stream": "stdout",
       "text": [
        "\n",
        "((88066,),)"
       ]
      },
      {
       "output_type": "stream",
       "stream": "stdout",
       "text": [
        "\n",
        "((88067,),)"
       ]
      },
      {
       "output_type": "stream",
       "stream": "stdout",
       "text": [
        "\n",
        "((88069,),)"
       ]
      },
      {
       "output_type": "stream",
       "stream": "stdout",
       "text": [
        "\n",
        "((88070,),)"
       ]
      },
      {
       "output_type": "stream",
       "stream": "stdout",
       "text": [
        "\n",
        "((88354,),)"
       ]
      },
      {
       "output_type": "stream",
       "stream": "stdout",
       "text": [
        "\n",
        "((88355,),)"
       ]
      },
      {
       "output_type": "stream",
       "stream": "stdout",
       "text": [
        "\n",
        "((88357,),)"
       ]
      },
      {
       "output_type": "stream",
       "stream": "stdout",
       "text": [
        "\n",
        "((88358,),)\n",
        "((88640,),)"
       ]
      },
      {
       "output_type": "stream",
       "stream": "stdout",
       "text": [
        "\n",
        "((88641,),)"
       ]
      },
      {
       "output_type": "stream",
       "stream": "stdout",
       "text": [
        "\n",
        "((88645,),)"
       ]
      },
      {
       "output_type": "stream",
       "stream": "stdout",
       "text": [
        "\n",
        "((88646,),)"
       ]
      },
      {
       "output_type": "stream",
       "stream": "stdout",
       "text": [
        "\n",
        "((89253,),)"
       ]
      },
      {
       "output_type": "stream",
       "stream": "stdout",
       "text": [
        "\n",
        "((89254,),)"
       ]
      },
      {
       "output_type": "stream",
       "stream": "stdout",
       "text": [
        "\n",
        "((89257,),)"
       ]
      },
      {
       "output_type": "stream",
       "stream": "stdout",
       "text": [
        "\n",
        "((89558,),)"
       ]
      },
      {
       "output_type": "stream",
       "stream": "stdout",
       "text": [
        "\n",
        "((89559,),)"
       ]
      },
      {
       "output_type": "stream",
       "stream": "stdout",
       "text": [
        "\n",
        "((89561,),)"
       ]
      },
      {
       "output_type": "stream",
       "stream": "stdout",
       "text": [
        "\n",
        "((89846,),)"
       ]
      },
      {
       "output_type": "stream",
       "stream": "stdout",
       "text": [
        "\n",
        "((89847,),)"
       ]
      },
      {
       "output_type": "stream",
       "stream": "stdout",
       "text": [
        "\n",
        "((89849,),)"
       ]
      },
      {
       "output_type": "stream",
       "stream": "stdout",
       "text": [
        "\n",
        "((91303,),)"
       ]
      },
      {
       "output_type": "stream",
       "stream": "stdout",
       "text": [
        "\n",
        "((91304,),)"
       ]
      },
      {
       "output_type": "stream",
       "stream": "stdout",
       "text": [
        "\n",
        "((91305,),)"
       ]
      },
      {
       "output_type": "stream",
       "stream": "stdout",
       "text": [
        "\n",
        "((91306,),)"
       ]
      },
      {
       "output_type": "stream",
       "stream": "stdout",
       "text": [
        "\n",
        "((91307,),)"
       ]
      },
      {
       "output_type": "stream",
       "stream": "stdout",
       "text": [
        "\n",
        "((91585,),)"
       ]
      },
      {
       "output_type": "stream",
       "stream": "stdout",
       "text": [
        "\n",
        "((91586,),)"
       ]
      },
      {
       "output_type": "stream",
       "stream": "stdout",
       "text": [
        "\n",
        "((91587,),)"
       ]
      },
      {
       "output_type": "stream",
       "stream": "stdout",
       "text": [
        "\n",
        "((91588,),)"
       ]
      },
      {
       "output_type": "stream",
       "stream": "stdout",
       "text": [
        "\n",
        "((91589,),)"
       ]
      },
      {
       "output_type": "stream",
       "stream": "stdout",
       "text": [
        "\n",
        "((91861,),)"
       ]
      },
      {
       "output_type": "stream",
       "stream": "stdout",
       "text": [
        "\n",
        "((91862,),)"
       ]
      },
      {
       "output_type": "stream",
       "stream": "stdout",
       "text": [
        "\n",
        "((91863,),)"
       ]
      },
      {
       "output_type": "stream",
       "stream": "stdout",
       "text": [
        "\n",
        "((91864,),)"
       ]
      },
      {
       "output_type": "stream",
       "stream": "stdout",
       "text": [
        "\n",
        "((92168,),)"
       ]
      },
      {
       "output_type": "stream",
       "stream": "stdout",
       "text": [
        "\n",
        "((92169,),)"
       ]
      },
      {
       "output_type": "stream",
       "stream": "stdout",
       "text": [
        "\n",
        "((92170,),)"
       ]
      },
      {
       "output_type": "stream",
       "stream": "stdout",
       "text": [
        "\n",
        "((92171,),)"
       ]
      },
      {
       "output_type": "stream",
       "stream": "stdout",
       "text": [
        "\n",
        "((92447,),)"
       ]
      },
      {
       "output_type": "stream",
       "stream": "stdout",
       "text": [
        "\n",
        "((92448,),)"
       ]
      },
      {
       "output_type": "stream",
       "stream": "stdout",
       "text": [
        "\n",
        "((92449,),)"
       ]
      },
      {
       "output_type": "stream",
       "stream": "stdout",
       "text": [
        "\n",
        "((92450,),)"
       ]
      },
      {
       "output_type": "stream",
       "stream": "stdout",
       "text": [
        "\n",
        "((92451,),)"
       ]
      },
      {
       "output_type": "stream",
       "stream": "stdout",
       "text": [
        "\n",
        "((93703,),)"
       ]
      },
      {
       "output_type": "stream",
       "stream": "stdout",
       "text": [
        "\n",
        "((93704,),)"
       ]
      },
      {
       "output_type": "stream",
       "stream": "stdout",
       "text": [
        "\n",
        "((93705,),)"
       ]
      },
      {
       "output_type": "stream",
       "stream": "stdout",
       "text": [
        "\n",
        "((93706,),)"
       ]
      },
      {
       "output_type": "stream",
       "stream": "stdout",
       "text": [
        "\n",
        "((127452,),)"
       ]
      },
      {
       "output_type": "stream",
       "stream": "stdout",
       "text": [
        "\n",
        "((127453,),)"
       ]
      },
      {
       "output_type": "stream",
       "stream": "stdout",
       "text": [
        "\n",
        "((128245,),)"
       ]
      },
      {
       "output_type": "stream",
       "stream": "stdout",
       "text": [
        "\n",
        "((128247,),)"
       ]
      },
      {
       "output_type": "stream",
       "stream": "stdout",
       "text": [
        "\n",
        "((129634,),)"
       ]
      },
      {
       "output_type": "stream",
       "stream": "stdout",
       "text": [
        "\n",
        "((129637,),)"
       ]
      },
      {
       "output_type": "stream",
       "stream": "stdout",
       "text": [
        "\n",
        "((129955,),)"
       ]
      },
      {
       "output_type": "stream",
       "stream": "stdout",
       "text": [
        "\n",
        "((129958,),)"
       ]
      },
      {
       "output_type": "stream",
       "stream": "stdout",
       "text": [
        "\n",
        "((130578,),)"
       ]
      },
      {
       "output_type": "stream",
       "stream": "stdout",
       "text": [
        "\n",
        "((131178,),)"
       ]
      },
      {
       "output_type": "stream",
       "stream": "stdout",
       "text": [
        "\n",
        "((133346,),)"
       ]
      },
      {
       "output_type": "stream",
       "stream": "stdout",
       "text": [
        "\n",
        "((133348,),)"
       ]
      },
      {
       "output_type": "stream",
       "stream": "stdout",
       "text": [
        "\n",
        "((133621,),)"
       ]
      },
      {
       "output_type": "stream",
       "stream": "stdout",
       "text": [
        "\n",
        "((133623,),)"
       ]
      },
      {
       "output_type": "stream",
       "stream": "stdout",
       "text": [
        "\n",
        "((134205,),)"
       ]
      },
      {
       "output_type": "stream",
       "stream": "stdout",
       "text": [
        "\n",
        "((134208,),)"
       ]
      },
      {
       "output_type": "stream",
       "stream": "stdout",
       "text": [
        "\n",
        "((134494,),)"
       ]
      },
      {
       "output_type": "stream",
       "stream": "stdout",
       "text": [
        "\n",
        "((134498,),)"
       ]
      },
      {
       "output_type": "stream",
       "stream": "stdout",
       "text": [
        "\n",
        "((134799,),)"
       ]
      },
      {
       "output_type": "stream",
       "stream": "stdout",
       "text": [
        "\n",
        "((134805,),)"
       ]
      },
      {
       "output_type": "stream",
       "stream": "stdout",
       "text": [
        "\n",
        "((135325,),)"
       ]
      },
      {
       "output_type": "stream",
       "stream": "stdout",
       "text": [
        "\n",
        "((135625,),)\n",
        "((135632,),)"
       ]
      },
      {
       "output_type": "stream",
       "stream": "stdout",
       "text": [
        "\n",
        "((135898,),)"
       ]
      },
      {
       "output_type": "stream",
       "stream": "stdout",
       "text": [
        "\n",
        "((135903,),)"
       ]
      },
      {
       "output_type": "stream",
       "stream": "stdout",
       "text": [
        "\n",
        "((136544,),)"
       ]
      },
      {
       "output_type": "stream",
       "stream": "stdout",
       "text": [
        "\n",
        "((136549,),)"
       ]
      },
      {
       "output_type": "stream",
       "stream": "stdout",
       "text": [
        "\n",
        "((136847,),)"
       ]
      },
      {
       "output_type": "stream",
       "stream": "stdout",
       "text": [
        "\n",
        "((136849,),)"
       ]
      },
      {
       "output_type": "stream",
       "stream": "stdout",
       "text": [
        "\n",
        "((136858,),)"
       ]
      },
      {
       "output_type": "stream",
       "stream": "stdout",
       "text": [
        "\n",
        "((136859,),)"
       ]
      },
      {
       "output_type": "stream",
       "stream": "stdout",
       "text": [
        "\n",
        "((137139,),)"
       ]
      },
      {
       "output_type": "stream",
       "stream": "stdout",
       "text": [
        "\n",
        "((137150,),)"
       ]
      },
      {
       "output_type": "stream",
       "stream": "stdout",
       "text": [
        "\n",
        "((137165,),)"
       ]
      },
      {
       "output_type": "stream",
       "stream": "stdout",
       "text": [
        "\n",
        "((137444,),)"
       ]
      },
      {
       "output_type": "stream",
       "stream": "stdout",
       "text": [
        "\n",
        "((137458,),)"
       ]
      },
      {
       "output_type": "stream",
       "stream": "stdout",
       "text": [
        "\n",
        "((137463,),)"
       ]
      },
      {
       "output_type": "stream",
       "stream": "stdout",
       "text": [
        "\n",
        "((138626,),)"
       ]
      },
      {
       "output_type": "stream",
       "stream": "stdout",
       "text": [
        "\n",
        "((138630,),)"
       ]
      },
      {
       "output_type": "stream",
       "stream": "stdout",
       "text": [
        "\n",
        "((139677,),)"
       ]
      },
      {
       "output_type": "stream",
       "stream": "stdout",
       "text": [
        "\n",
        "((139682,),)"
       ]
      },
      {
       "output_type": "stream",
       "stream": "stdout",
       "text": [
        "\n",
        "((139685,),)"
       ]
      },
      {
       "output_type": "stream",
       "stream": "stdout",
       "text": [
        "\n",
        "((139688,),)"
       ]
      },
      {
       "output_type": "stream",
       "stream": "stdout",
       "text": [
        "\n",
        "((139965,),)"
       ]
      },
      {
       "output_type": "stream",
       "stream": "stdout",
       "text": [
        "\n",
        "((139969,),)"
       ]
      },
      {
       "output_type": "stream",
       "stream": "stdout",
       "text": [
        "\n",
        "((140256,),)"
       ]
      },
      {
       "output_type": "stream",
       "stream": "stdout",
       "text": [
        "\n",
        "((140260,),)"
       ]
      },
      {
       "output_type": "stream",
       "stream": "stdout",
       "text": [
        "\n",
        "((140267,),)"
       ]
      },
      {
       "output_type": "stream",
       "stream": "stdout",
       "text": [
        "\n",
        "((140795,),)"
       ]
      },
      {
       "output_type": "stream",
       "stream": "stdout",
       "text": [
        "\n",
        "((140803,),)"
       ]
      },
      {
       "output_type": "stream",
       "stream": "stdout",
       "text": [
        "\n",
        "((140806,),)"
       ]
      },
      {
       "output_type": "stream",
       "stream": "stdout",
       "text": [
        "\n",
        "((141085,),)"
       ]
      },
      {
       "output_type": "stream",
       "stream": "stdout",
       "text": [
        "\n",
        "((141086,),)"
       ]
      },
      {
       "output_type": "stream",
       "stream": "stdout",
       "text": [
        "\n",
        "((141095,),)"
       ]
      },
      {
       "output_type": "stream",
       "stream": "stdout",
       "text": [
        "\n",
        "((141371,),)"
       ]
      },
      {
       "output_type": "stream",
       "stream": "stdout",
       "text": [
        "\n",
        "((141373,),)"
       ]
      },
      {
       "output_type": "stream",
       "stream": "stdout",
       "text": [
        "\n",
        "((141776,),)"
       ]
      },
      {
       "output_type": "stream",
       "stream": "stdout",
       "text": [
        "\n",
        "((141777,),)"
       ]
      },
      {
       "output_type": "stream",
       "stream": "stdout",
       "text": [
        "\n",
        "((141786,),)"
       ]
      },
      {
       "output_type": "stream",
       "stream": "stdout",
       "text": [
        "\n",
        "((142063,),)"
       ]
      },
      {
       "output_type": "stream",
       "stream": "stdout",
       "text": [
        "\n",
        "((142071,),)\n",
        "((142346,),)"
       ]
      },
      {
       "output_type": "stream",
       "stream": "stdout",
       "text": [
        "\n",
        "((142355,),)"
       ]
      },
      {
       "output_type": "stream",
       "stream": "stdout",
       "text": [
        "\n",
        "((142357,),)"
       ]
      },
      {
       "output_type": "stream",
       "stream": "stdout",
       "text": [
        "\n",
        "((142905,),)"
       ]
      },
      {
       "output_type": "stream",
       "stream": "stdout",
       "text": [
        "\n",
        "((142916,),)"
       ]
      },
      {
       "output_type": "stream",
       "stream": "stdout",
       "text": [
        "\n",
        "((143201,),)"
       ]
      },
      {
       "output_type": "stream",
       "stream": "stdout",
       "text": [
        "\n",
        "((143204,),)"
       ]
      },
      {
       "output_type": "stream",
       "stream": "stdout",
       "text": [
        "\n",
        "((143209,),)"
       ]
      },
      {
       "output_type": "stream",
       "stream": "stdout",
       "text": [
        "\n",
        "((143210,),)"
       ]
      },
      {
       "output_type": "stream",
       "stream": "stdout",
       "text": [
        "\n",
        "((143211,),)"
       ]
      },
      {
       "output_type": "stream",
       "stream": "stdout",
       "text": [
        "\n",
        "((143212,),)"
       ]
      },
      {
       "output_type": "stream",
       "stream": "stdout",
       "text": [
        "\n",
        "((143490,),)"
       ]
      },
      {
       "output_type": "stream",
       "stream": "stdout",
       "text": [
        "\n",
        "((143491,),)"
       ]
      },
      {
       "output_type": "stream",
       "stream": "stdout",
       "text": [
        "\n",
        "((143495,),)"
       ]
      },
      {
       "output_type": "stream",
       "stream": "stdout",
       "text": [
        "\n",
        "((143496,),)"
       ]
      },
      {
       "output_type": "stream",
       "stream": "stdout",
       "text": [
        "\n",
        "((143501,),)"
       ]
      },
      {
       "output_type": "stream",
       "stream": "stdout",
       "text": [
        "\n",
        "((143777,),)"
       ]
      },
      {
       "output_type": "stream",
       "stream": "stdout",
       "text": [
        "\n",
        "((143778,),)"
       ]
      },
      {
       "output_type": "stream",
       "stream": "stdout",
       "text": [
        "\n",
        "((144053,),)"
       ]
      },
      {
       "output_type": "stream",
       "stream": "stdout",
       "text": [
        "\n",
        "((144054,),)"
       ]
      },
      {
       "output_type": "stream",
       "stream": "stdout",
       "text": [
        "\n",
        "((144055,),)"
       ]
      },
      {
       "output_type": "stream",
       "stream": "stdout",
       "text": [
        "\n",
        "((144349,),)"
       ]
      },
      {
       "output_type": "stream",
       "stream": "stdout",
       "text": [
        "\n",
        "((144359,),)"
       ]
      },
      {
       "output_type": "stream",
       "stream": "stdout",
       "text": [
        "\n",
        "((144656,),)"
       ]
      },
      {
       "output_type": "stream",
       "stream": "stdout",
       "text": [
        "\n",
        "((144678,),)"
       ]
      },
      {
       "output_type": "stream",
       "stream": "stdout",
       "text": [
        "\n",
        "((144943,),)"
       ]
      },
      {
       "output_type": "stream",
       "stream": "stdout",
       "text": [
        "\n",
        "((144951,),)"
       ]
      },
      {
       "output_type": "stream",
       "stream": "stdout",
       "text": [
        "\n",
        "((145226,),)"
       ]
      },
      {
       "output_type": "stream",
       "stream": "stdout",
       "text": [
        "\n",
        "((145229,),)"
       ]
      },
      {
       "output_type": "stream",
       "stream": "stdout",
       "text": [
        "\n",
        "((145233,),)"
       ]
      },
      {
       "output_type": "stream",
       "stream": "stdout",
       "text": [
        "\n",
        "((145234,),)"
       ]
      },
      {
       "output_type": "stream",
       "stream": "stdout",
       "text": [
        "\n",
        "((145237,),)"
       ]
      },
      {
       "output_type": "stream",
       "stream": "stdout",
       "text": [
        "\n",
        "((145241,),)"
       ]
      },
      {
       "output_type": "stream",
       "stream": "stdout",
       "text": [
        "\n",
        "((145242,),)"
       ]
      },
      {
       "output_type": "stream",
       "stream": "stdout",
       "text": [
        "\n",
        "((145507,),)"
       ]
      },
      {
       "output_type": "stream",
       "stream": "stdout",
       "text": [
        "\n",
        "((145519,),)"
       ]
      },
      {
       "output_type": "stream",
       "stream": "stdout",
       "text": [
        "\n",
        "((145528,),)"
       ]
      },
      {
       "output_type": "stream",
       "stream": "stdout",
       "text": [
        "\n",
        "((145529,),)"
       ]
      },
      {
       "output_type": "stream",
       "stream": "stdout",
       "text": [
        "\n",
        "((145800,),)"
       ]
      },
      {
       "output_type": "stream",
       "stream": "stdout",
       "text": [
        "\n",
        "((145809,),)"
       ]
      },
      {
       "output_type": "stream",
       "stream": "stdout",
       "text": [
        "\n",
        "((145814,),)"
       ]
      },
      {
       "output_type": "stream",
       "stream": "stdout",
       "text": [
        "\n",
        "((145815,),)"
       ]
      },
      {
       "output_type": "stream",
       "stream": "stdout",
       "text": [
        "\n",
        "((145822,),)"
       ]
      },
      {
       "output_type": "stream",
       "stream": "stdout",
       "text": [
        "\n",
        "((145823,),)"
       ]
      },
      {
       "output_type": "stream",
       "stream": "stdout",
       "text": [
        "\n",
        "((145824,),)"
       ]
      },
      {
       "output_type": "stream",
       "stream": "stdout",
       "text": [
        "\n",
        "((146095,),)"
       ]
      },
      {
       "output_type": "stream",
       "stream": "stdout",
       "text": [
        "\n",
        "((146105,),)"
       ]
      },
      {
       "output_type": "stream",
       "stream": "stdout",
       "text": [
        "\n",
        "((146108,),)"
       ]
      },
      {
       "output_type": "stream",
       "stream": "stdout",
       "text": [
        "\n",
        "((146109,),)"
       ]
      },
      {
       "output_type": "stream",
       "stream": "stdout",
       "text": [
        "\n",
        "((146114,),)"
       ]
      },
      {
       "output_type": "stream",
       "stream": "stdout",
       "text": [
        "\n",
        "((146380,),)"
       ]
      },
      {
       "output_type": "stream",
       "stream": "stdout",
       "text": [
        "\n",
        "((146391,),)"
       ]
      },
      {
       "output_type": "stream",
       "stream": "stdout",
       "text": [
        "\n",
        "((146401,),)"
       ]
      },
      {
       "output_type": "stream",
       "stream": "stdout",
       "text": [
        "\n",
        "((146670,),)"
       ]
      },
      {
       "output_type": "stream",
       "stream": "stdout",
       "text": [
        "\n",
        "((146675,),)"
       ]
      },
      {
       "output_type": "stream",
       "stream": "stdout",
       "text": [
        "\n",
        "((146676,),)"
       ]
      },
      {
       "output_type": "stream",
       "stream": "stdout",
       "text": [
        "\n",
        "((146688,),)"
       ]
      },
      {
       "output_type": "stream",
       "stream": "stdout",
       "text": [
        "\n",
        "((146693,),)"
       ]
      },
      {
       "output_type": "stream",
       "stream": "stdout",
       "text": [
        "\n",
        "((146966,),)"
       ]
      },
      {
       "output_type": "stream",
       "stream": "stdout",
       "text": [
        "\n",
        "((146972,),)"
       ]
      },
      {
       "output_type": "stream",
       "stream": "stdout",
       "text": [
        "\n",
        "((146978,),)"
       ]
      },
      {
       "output_type": "stream",
       "stream": "stdout",
       "text": [
        "\n",
        "((146992,),)"
       ]
      },
      {
       "output_type": "stream",
       "stream": "stdout",
       "text": [
        "\n",
        "((147265,),)"
       ]
      },
      {
       "output_type": "stream",
       "stream": "stdout",
       "text": [
        "\n",
        "((147269,),)"
       ]
      },
      {
       "output_type": "stream",
       "stream": "stdout",
       "text": [
        "\n",
        "((147275,),)"
       ]
      },
      {
       "output_type": "stream",
       "stream": "stdout",
       "text": [
        "\n",
        "((147283,),)"
       ]
      },
      {
       "output_type": "stream",
       "stream": "stdout",
       "text": [
        "\n",
        "((147557,),)"
       ]
      },
      {
       "output_type": "stream",
       "stream": "stdout",
       "text": [
        "\n",
        "((147565,),)"
       ]
      },
      {
       "output_type": "stream",
       "stream": "stdout",
       "text": [
        "\n",
        "((147572,),)"
       ]
      },
      {
       "output_type": "stream",
       "stream": "stdout",
       "text": [
        "\n",
        "((147578,),)"
       ]
      },
      {
       "output_type": "stream",
       "stream": "stdout",
       "text": [
        "\n",
        "((147845,),)"
       ]
      },
      {
       "output_type": "stream",
       "stream": "stdout",
       "text": [
        "\n",
        "((147850,),)"
       ]
      },
      {
       "output_type": "stream",
       "stream": "stdout",
       "text": [
        "\n",
        "((147860,),)"
       ]
      },
      {
       "output_type": "stream",
       "stream": "stdout",
       "text": [
        "\n",
        "((147867,),)"
       ]
      },
      {
       "output_type": "stream",
       "stream": "stdout",
       "text": [
        "\n",
        "((148125,),)"
       ]
      },
      {
       "output_type": "stream",
       "stream": "stdout",
       "text": [
        "\n",
        "((148130,),)"
       ]
      },
      {
       "output_type": "stream",
       "stream": "stdout",
       "text": [
        "\n",
        "((148139,),)"
       ]
      },
      {
       "output_type": "stream",
       "stream": "stdout",
       "text": [
        "\n",
        "((148145,),)"
       ]
      },
      {
       "output_type": "stream",
       "stream": "stdout",
       "text": [
        "\n",
        "((148921,),)"
       ]
      },
      {
       "output_type": "stream",
       "stream": "stdout",
       "text": [
        "\n",
        "((148928,),)"
       ]
      },
      {
       "output_type": "stream",
       "stream": "stdout",
       "text": [
        "\n",
        "((148936,),)"
       ]
      },
      {
       "output_type": "stream",
       "stream": "stdout",
       "text": [
        "\n",
        "((148952,),)"
       ]
      },
      {
       "output_type": "stream",
       "stream": "stdout",
       "text": [
        "\n",
        "((149221,),)"
       ]
      },
      {
       "output_type": "stream",
       "stream": "stdout",
       "text": [
        "\n",
        "((149238,),)"
       ]
      },
      {
       "output_type": "stream",
       "stream": "stdout",
       "text": [
        "\n",
        "((149247,),)\n",
        "((149655,),)"
       ]
      },
      {
       "output_type": "stream",
       "stream": "stdout",
       "text": [
        "\n",
        "((149664,),)"
       ]
      },
      {
       "output_type": "stream",
       "stream": "stdout",
       "text": [
        "\n",
        "((149673,),)"
       ]
      },
      {
       "output_type": "stream",
       "stream": "stdout",
       "text": [
        "\n",
        "((149960,),)"
       ]
      },
      {
       "output_type": "stream",
       "stream": "stdout",
       "text": [
        "\n",
        "((149969,),)"
       ]
      },
      {
       "output_type": "stream",
       "stream": "stdout",
       "text": [
        "\n",
        "((149980,),)"
       ]
      },
      {
       "output_type": "stream",
       "stream": "stdout",
       "text": [
        "\n",
        "((150253,),)"
       ]
      },
      {
       "output_type": "stream",
       "stream": "stdout",
       "text": [
        "\n",
        "((150261,),)"
       ]
      },
      {
       "output_type": "stream",
       "stream": "stdout",
       "text": [
        "\n",
        "((150274,),)"
       ]
      },
      {
       "output_type": "stream",
       "stream": "stdout",
       "text": [
        "\n",
        "((151400,),)"
       ]
      },
      {
       "output_type": "stream",
       "stream": "stdout",
       "text": [
        "\n",
        "((151416,),)"
       ]
      },
      {
       "output_type": "stream",
       "stream": "stdout",
       "text": [
        "\n",
        "((151426,),)"
       ]
      },
      {
       "output_type": "stream",
       "stream": "stdout",
       "text": [
        "\n",
        "((151427,),)"
       ]
      },
      {
       "output_type": "stream",
       "stream": "stdout",
       "text": [
        "\n",
        "((151705,),)"
       ]
      },
      {
       "output_type": "stream",
       "stream": "stdout",
       "text": [
        "\n",
        "((151721,),)"
       ]
      },
      {
       "output_type": "stream",
       "stream": "stdout",
       "text": [
        "\n",
        "((151732,),)"
       ]
      },
      {
       "output_type": "stream",
       "stream": "stdout",
       "text": [
        "\n",
        "((151996,),)"
       ]
      },
      {
       "output_type": "stream",
       "stream": "stdout",
       "text": [
        "\n",
        "((152008,),)"
       ]
      },
      {
       "output_type": "stream",
       "stream": "stdout",
       "text": [
        "\n",
        "((152019,),)"
       ]
      },
      {
       "output_type": "stream",
       "stream": "stdout",
       "text": [
        "\n",
        "((152299,),)"
       ]
      },
      {
       "output_type": "stream",
       "stream": "stdout",
       "text": [
        "\n",
        "((152454,),)"
       ]
      },
      {
       "output_type": "stream",
       "stream": "stdout",
       "text": [
        "\n",
        "((153006,),)"
       ]
      },
      {
       "output_type": "stream",
       "stream": "stdout",
       "text": [
        "\n",
        "((153013,),)"
       ]
      },
      {
       "output_type": "stream",
       "stream": "stdout",
       "text": [
        "\n",
        "((153029,),)"
       ]
      },
      {
       "output_type": "stream",
       "stream": "stdout",
       "text": [
        "\n",
        "((153297,),)"
       ]
      },
      {
       "output_type": "stream",
       "stream": "stdout",
       "text": [
        "\n",
        "((153303,),)"
       ]
      },
      {
       "output_type": "stream",
       "stream": "stdout",
       "text": [
        "\n",
        "((153312,),)"
       ]
      },
      {
       "output_type": "stream",
       "stream": "stdout",
       "text": [
        "\n",
        "((153321,),)"
       ]
      },
      {
       "output_type": "stream",
       "stream": "stdout",
       "text": [
        "\n",
        "((153582,),)"
       ]
      },
      {
       "output_type": "stream",
       "stream": "stdout",
       "text": [
        "\n",
        "((153596,),)"
       ]
      },
      {
       "output_type": "stream",
       "stream": "stdout",
       "text": [
        "\n",
        "((153602,),)"
       ]
      },
      {
       "output_type": "stream",
       "stream": "stdout",
       "text": [
        "\n",
        "((153611,),)"
       ]
      },
      {
       "output_type": "stream",
       "stream": "stdout",
       "text": [
        "\n",
        "((153872,),)"
       ]
      },
      {
       "output_type": "stream",
       "stream": "stdout",
       "text": [
        "\n",
        "((153885,),)"
       ]
      },
      {
       "output_type": "stream",
       "stream": "stdout",
       "text": [
        "\n",
        "((153894,),)"
       ]
      },
      {
       "output_type": "stream",
       "stream": "stdout",
       "text": [
        "\n",
        "((153902,),)"
       ]
      },
      {
       "output_type": "stream",
       "stream": "stdout",
       "text": [
        "\n",
        "((154174,),)"
       ]
      },
      {
       "output_type": "stream",
       "stream": "stdout",
       "text": [
        "\n",
        "((154178,),)"
       ]
      },
      {
       "output_type": "stream",
       "stream": "stdout",
       "text": [
        "\n",
        "((154454,),)"
       ]
      },
      {
       "output_type": "stream",
       "stream": "stdout",
       "text": [
        "\n",
        "((154458,),)"
       ]
      },
      {
       "output_type": "stream",
       "stream": "stdout",
       "text": [
        "\n",
        "((155007,),)"
       ]
      },
      {
       "output_type": "stream",
       "stream": "stdout",
       "text": [
        "\n",
        "((155010,),)"
       ]
      },
      {
       "output_type": "stream",
       "stream": "stdout",
       "text": [
        "\n",
        "((155012,),)"
       ]
      },
      {
       "output_type": "stream",
       "stream": "stdout",
       "text": [
        "\n",
        "((155013,),)"
       ]
      },
      {
       "output_type": "stream",
       "stream": "stdout",
       "text": [
        "\n",
        "((155016,),)"
       ]
      },
      {
       "output_type": "stream",
       "stream": "stdout",
       "text": [
        "\n",
        "((155289,),)"
       ]
      },
      {
       "output_type": "stream",
       "stream": "stdout",
       "text": [
        "\n",
        "((155294,),)"
       ]
      },
      {
       "output_type": "stream",
       "stream": "stdout",
       "text": [
        "\n",
        "((155298,),)"
       ]
      },
      {
       "output_type": "stream",
       "stream": "stdout",
       "text": [
        "\n",
        "((155307,),)"
       ]
      },
      {
       "output_type": "stream",
       "stream": "stdout",
       "text": [
        "\n",
        "((155844,),)"
       ]
      },
      {
       "output_type": "stream",
       "stream": "stdout",
       "text": [
        "\n",
        "((156123,),)"
       ]
      },
      {
       "output_type": "stream",
       "stream": "stdout",
       "text": [
        "\n",
        "((156129,),)"
       ]
      },
      {
       "output_type": "stream",
       "stream": "stdout",
       "text": [
        "\n",
        "((156144,),)"
       ]
      },
      {
       "output_type": "stream",
       "stream": "stdout",
       "text": [
        "\n",
        "((156438,),)"
       ]
      },
      {
       "output_type": "stream",
       "stream": "stdout",
       "text": [
        "\n",
        "((156445,),)"
       ]
      },
      {
       "output_type": "stream",
       "stream": "stdout",
       "text": [
        "\n",
        "((156450,),)"
       ]
      },
      {
       "output_type": "stream",
       "stream": "stdout",
       "text": [
        "\n",
        "((156737,),)"
       ]
      },
      {
       "output_type": "stream",
       "stream": "stdout",
       "text": [
        "\n",
        "((156738,),)"
       ]
      },
      {
       "output_type": "stream",
       "stream": "stdout",
       "text": [
        "\n",
        "((156762,),)"
       ]
      },
      {
       "output_type": "stream",
       "stream": "stdout",
       "text": [
        "\n",
        "((156763,),)"
       ]
      },
      {
       "output_type": "stream",
       "stream": "stdout",
       "text": [
        "\n",
        "((157037,),)"
       ]
      },
      {
       "output_type": "stream",
       "stream": "stdout",
       "text": [
        "\n",
        "((157038,),)"
       ]
      },
      {
       "output_type": "stream",
       "stream": "stdout",
       "text": [
        "\n",
        "((157039,),)"
       ]
      },
      {
       "output_type": "stream",
       "stream": "stdout",
       "text": [
        "\n",
        "((157040,),)"
       ]
      },
      {
       "output_type": "stream",
       "stream": "stdout",
       "text": [
        "\n",
        "((157041,),)"
       ]
      },
      {
       "output_type": "stream",
       "stream": "stdout",
       "text": [
        "\n",
        "((157042,),)"
       ]
      },
      {
       "output_type": "stream",
       "stream": "stdout",
       "text": [
        "\n",
        "((157360,),)"
       ]
      },
      {
       "output_type": "stream",
       "stream": "stdout",
       "text": [
        "\n",
        "((157361,),)"
       ]
      },
      {
       "output_type": "stream",
       "stream": "stdout",
       "text": [
        "\n",
        "((157370,),)"
       ]
      },
      {
       "output_type": "stream",
       "stream": "stdout",
       "text": [
        "\n",
        "((157371,),)"
       ]
      },
      {
       "output_type": "stream",
       "stream": "stdout",
       "text": [
        "\n",
        "((157378,),)"
       ]
      },
      {
       "output_type": "stream",
       "stream": "stdout",
       "text": [
        "\n",
        "((157379,),)"
       ]
      },
      {
       "output_type": "stream",
       "stream": "stdout",
       "text": [
        "\n",
        "((157381,),)"
       ]
      },
      {
       "output_type": "stream",
       "stream": "stdout",
       "text": [
        "\n",
        "((157382,),)"
       ]
      },
      {
       "output_type": "stream",
       "stream": "stdout",
       "text": [
        "\n",
        "((157640,),)"
       ]
      },
      {
       "output_type": "stream",
       "stream": "stdout",
       "text": [
        "\n",
        "((157641,),)"
       ]
      },
      {
       "output_type": "stream",
       "stream": "stdout",
       "text": [
        "\n",
        "((157645,),)"
       ]
      },
      {
       "output_type": "stream",
       "stream": "stdout",
       "text": [
        "\n",
        "((157646,),)"
       ]
      },
      {
       "output_type": "stream",
       "stream": "stdout",
       "text": [
        "\n",
        "((157652,),)"
       ]
      },
      {
       "output_type": "stream",
       "stream": "stdout",
       "text": [
        "\n",
        "((157653,),)"
       ]
      },
      {
       "output_type": "stream",
       "stream": "stdout",
       "text": [
        "\n",
        "((157654,),)"
       ]
      },
      {
       "output_type": "stream",
       "stream": "stdout",
       "text": [
        "\n",
        "((157655,),)"
       ]
      },
      {
       "output_type": "stream",
       "stream": "stdout",
       "text": [
        "\n",
        "((157923,),)"
       ]
      },
      {
       "output_type": "stream",
       "stream": "stdout",
       "text": [
        "\n",
        "((157924,),)"
       ]
      },
      {
       "output_type": "stream",
       "stream": "stdout",
       "text": [
        "\n",
        "((157931,),)"
       ]
      },
      {
       "output_type": "stream",
       "stream": "stdout",
       "text": [
        "\n",
        "((157932,),)"
       ]
      },
      {
       "output_type": "stream",
       "stream": "stdout",
       "text": [
        "\n",
        "((157937,),)"
       ]
      },
      {
       "output_type": "stream",
       "stream": "stdout",
       "text": [
        "\n",
        "((157938,),)"
       ]
      },
      {
       "output_type": "stream",
       "stream": "stdout",
       "text": [
        "\n",
        "((157946,),)"
       ]
      },
      {
       "output_type": "stream",
       "stream": "stdout",
       "text": [
        "\n",
        "((157947,),)"
       ]
      },
      {
       "output_type": "stream",
       "stream": "stdout",
       "text": [
        "\n",
        "((158210,),)"
       ]
      },
      {
       "output_type": "stream",
       "stream": "stdout",
       "text": [
        "\n",
        "((158211,),)"
       ]
      },
      {
       "output_type": "stream",
       "stream": "stdout",
       "text": [
        "\n",
        "((158215,),)"
       ]
      },
      {
       "output_type": "stream",
       "stream": "stdout",
       "text": [
        "\n",
        "((158216,),)"
       ]
      },
      {
       "output_type": "stream",
       "stream": "stdout",
       "text": [
        "\n",
        "((158221,),)"
       ]
      },
      {
       "output_type": "stream",
       "stream": "stdout",
       "text": [
        "\n",
        "((158222,),)"
       ]
      },
      {
       "output_type": "stream",
       "stream": "stdout",
       "text": [
        "\n",
        "((158490,),)"
       ]
      },
      {
       "output_type": "stream",
       "stream": "stdout",
       "text": [
        "\n",
        "((158491,),)"
       ]
      },
      {
       "output_type": "stream",
       "stream": "stdout",
       "text": [
        "\n",
        "((158493,),)"
       ]
      },
      {
       "output_type": "stream",
       "stream": "stdout",
       "text": [
        "\n",
        "((158494,),)"
       ]
      },
      {
       "output_type": "stream",
       "stream": "stdout",
       "text": [
        "\n",
        "((158497,),)"
       ]
      },
      {
       "output_type": "stream",
       "stream": "stdout",
       "text": [
        "\n",
        "((158498,),)\n",
        "((158760,),)"
       ]
      },
      {
       "output_type": "stream",
       "stream": "stdout",
       "text": [
        "\n",
        "((158761,),)"
       ]
      },
      {
       "output_type": "stream",
       "stream": "stdout",
       "text": [
        "\n",
        "((158763,),)"
       ]
      },
      {
       "output_type": "stream",
       "stream": "stdout",
       "text": [
        "\n",
        "((158764,),)"
       ]
      },
      {
       "output_type": "stream",
       "stream": "stdout",
       "text": [
        "\n",
        "((158773,),)"
       ]
      },
      {
       "output_type": "stream",
       "stream": "stdout",
       "text": [
        "\n",
        "((158774,),)"
       ]
      },
      {
       "output_type": "stream",
       "stream": "stdout",
       "text": [
        "\n",
        "((158783,),)"
       ]
      },
      {
       "output_type": "stream",
       "stream": "stdout",
       "text": [
        "\n",
        "((158784,),)"
       ]
      },
      {
       "output_type": "stream",
       "stream": "stdout",
       "text": [
        "\n",
        "((159056,),)"
       ]
      },
      {
       "output_type": "stream",
       "stream": "stdout",
       "text": [
        "\n",
        "((159061,),)"
       ]
      },
      {
       "output_type": "stream",
       "stream": "stdout",
       "text": [
        "\n",
        "((159062,),)"
       ]
      },
      {
       "output_type": "stream",
       "stream": "stdout",
       "text": [
        "\n",
        "((159070,),)"
       ]
      },
      {
       "output_type": "stream",
       "stream": "stdout",
       "text": [
        "\n",
        "((159071,),)"
       ]
      },
      {
       "output_type": "stream",
       "stream": "stdout",
       "text": [
        "\n",
        "((159345,),)"
       ]
      },
      {
       "output_type": "stream",
       "stream": "stdout",
       "text": [
        "\n",
        "((159346,),)"
       ]
      },
      {
       "output_type": "stream",
       "stream": "stdout",
       "text": [
        "\n",
        "((159354,),)"
       ]
      },
      {
       "output_type": "stream",
       "stream": "stdout",
       "text": [
        "\n",
        "((159355,),)"
       ]
      },
      {
       "output_type": "stream",
       "stream": "stdout",
       "text": [
        "\n",
        "((159886,),)"
       ]
      },
      {
       "output_type": "stream",
       "stream": "stdout",
       "text": [
        "\n",
        "((159887,),)"
       ]
      },
      {
       "output_type": "stream",
       "stream": "stdout",
       "text": [
        "\n",
        "((159897,),)"
       ]
      },
      {
       "output_type": "stream",
       "stream": "stdout",
       "text": [
        "\n",
        "((159898,),)"
       ]
      },
      {
       "output_type": "stream",
       "stream": "stdout",
       "text": [
        "\n",
        "((160176,),)"
       ]
      },
      {
       "output_type": "stream",
       "stream": "stdout",
       "text": [
        "\n",
        "((160177,),)"
       ]
      },
      {
       "output_type": "stream",
       "stream": "stdout",
       "text": [
        "\n",
        "((160178,),)"
       ]
      },
      {
       "output_type": "stream",
       "stream": "stdout",
       "text": [
        "\n",
        "((160179,),)"
       ]
      },
      {
       "output_type": "stream",
       "stream": "stdout",
       "text": [
        "\n",
        "((160183,),)"
       ]
      },
      {
       "output_type": "stream",
       "stream": "stdout",
       "text": [
        "\n",
        "((160184,),)"
       ]
      },
      {
       "output_type": "stream",
       "stream": "stdout",
       "text": [
        "\n",
        "((160453,),)"
       ]
      },
      {
       "output_type": "stream",
       "stream": "stdout",
       "text": [
        "\n",
        "((160454,),)"
       ]
      },
      {
       "output_type": "stream",
       "stream": "stdout",
       "text": [
        "\n",
        "((160455,),)"
       ]
      },
      {
       "output_type": "stream",
       "stream": "stdout",
       "text": [
        "\n",
        "((160456,),)"
       ]
      },
      {
       "output_type": "stream",
       "stream": "stdout",
       "text": [
        "\n",
        "((160457,),)"
       ]
      },
      {
       "output_type": "stream",
       "stream": "stdout",
       "text": [
        "\n",
        "((160458,),)"
       ]
      },
      {
       "output_type": "stream",
       "stream": "stdout",
       "text": [
        "\n",
        "((160459,),)"
       ]
      },
      {
       "output_type": "stream",
       "stream": "stdout",
       "text": [
        "\n",
        "((160462,),)"
       ]
      },
      {
       "output_type": "stream",
       "stream": "stdout",
       "text": [
        "\n",
        "((160463,),)"
       ]
      },
      {
       "output_type": "stream",
       "stream": "stdout",
       "text": [
        "\n",
        "((160473,),)"
       ]
      },
      {
       "output_type": "stream",
       "stream": "stdout",
       "text": [
        "\n",
        "((160474,),)"
       ]
      },
      {
       "output_type": "stream",
       "stream": "stdout",
       "text": [
        "\n",
        "((160616,),)"
       ]
      },
      {
       "output_type": "stream",
       "stream": "stdout",
       "text": [
        "\n",
        "((160617,),)"
       ]
      },
      {
       "output_type": "stream",
       "stream": "stdout",
       "text": [
        "\n",
        "((160622,),)"
       ]
      },
      {
       "output_type": "stream",
       "stream": "stdout",
       "text": [
        "\n",
        "((160624,),)"
       ]
      },
      {
       "output_type": "stream",
       "stream": "stdout",
       "text": [
        "\n",
        "((161195,),)"
       ]
      },
      {
       "output_type": "stream",
       "stream": "stdout",
       "text": [
        "\n",
        "((161197,),)"
       ]
      },
      {
       "output_type": "stream",
       "stream": "stdout",
       "text": [
        "\n",
        "((161204,),)"
       ]
      },
      {
       "output_type": "stream",
       "stream": "stdout",
       "text": [
        "\n",
        "((161205,),)"
       ]
      },
      {
       "output_type": "stream",
       "stream": "stdout",
       "text": [
        "\n",
        "((161207,),)"
       ]
      },
      {
       "output_type": "stream",
       "stream": "stdout",
       "text": [
        "\n",
        "((161208,),)"
       ]
      },
      {
       "output_type": "stream",
       "stream": "stdout",
       "text": [
        "\n",
        "((161480,),)"
       ]
      },
      {
       "output_type": "stream",
       "stream": "stdout",
       "text": [
        "\n",
        "((161482,),)"
       ]
      },
      {
       "output_type": "stream",
       "stream": "stdout",
       "text": [
        "\n",
        "((162054,),)"
       ]
      },
      {
       "output_type": "stream",
       "stream": "stdout",
       "text": [
        "\n",
        "((162056,),)"
       ]
      },
      {
       "output_type": "stream",
       "stream": "stdout",
       "text": [
        "\n",
        "((162450,),)"
       ]
      },
      {
       "output_type": "stream",
       "stream": "stdout",
       "text": [
        "\n",
        "((162451,),)"
       ]
      },
      {
       "output_type": "stream",
       "stream": "stdout",
       "text": [
        "\n",
        "((162452,),)"
       ]
      },
      {
       "output_type": "stream",
       "stream": "stdout",
       "text": [
        "\n",
        "((162730,),)"
       ]
      },
      {
       "output_type": "stream",
       "stream": "stdout",
       "text": [
        "\n",
        "((162732,),)"
       ]
      },
      {
       "output_type": "stream",
       "stream": "stdout",
       "text": [
        "\n",
        "((163311,),)"
       ]
      },
      {
       "output_type": "stream",
       "stream": "stdout",
       "text": [
        "\n",
        "((163313,),)"
       ]
      },
      {
       "output_type": "stream",
       "stream": "stdout",
       "text": [
        "\n",
        "((163604,),)"
       ]
      },
      {
       "output_type": "stream",
       "stream": "stdout",
       "text": [
        "\n",
        "((163606,),)"
       ]
      },
      {
       "output_type": "stream",
       "stream": "stdout",
       "text": [
        "\n",
        "((163882,),)"
       ]
      },
      {
       "output_type": "stream",
       "stream": "stdout",
       "text": [
        "\n",
        "((163884,),)"
       ]
      },
      {
       "output_type": "stream",
       "stream": "stdout",
       "text": [
        "\n",
        "((164166,),)"
       ]
      },
      {
       "output_type": "stream",
       "stream": "stdout",
       "text": [
        "\n",
        "((164168,),)"
       ]
      },
      {
       "output_type": "stream",
       "stream": "stdout",
       "text": [
        "\n",
        "((164460,),)"
       ]
      },
      {
       "output_type": "stream",
       "stream": "stdout",
       "text": [
        "\n",
        "((164461,),)"
       ]
      },
      {
       "output_type": "stream",
       "stream": "stdout",
       "text": [
        "\n",
        "((164747,),)"
       ]
      },
      {
       "output_type": "stream",
       "stream": "stdout",
       "text": [
        "\n",
        "((164749,),)"
       ]
      },
      {
       "output_type": "stream",
       "stream": "stdout",
       "text": [
        "\n",
        "((166208,),)"
       ]
      },
      {
       "output_type": "stream",
       "stream": "stdout",
       "text": [
        "\n",
        "((166210,),)"
       ]
      },
      {
       "output_type": "stream",
       "stream": "stdout",
       "text": [
        "\n",
        "((166493,),)"
       ]
      },
      {
       "output_type": "stream",
       "stream": "stdout",
       "text": [
        "\n",
        "((166495,),)"
       ]
      },
      {
       "output_type": "stream",
       "stream": "stdout",
       "text": [
        "\n",
        "((167063,),)"
       ]
      },
      {
       "output_type": "stream",
       "stream": "stdout",
       "text": [
        "\n",
        "((167068,),)"
       ]
      },
      {
       "output_type": "stream",
       "stream": "stdout",
       "text": [
        "\n",
        "((167347,),)"
       ]
      },
      {
       "output_type": "stream",
       "stream": "stdout",
       "text": [
        "\n",
        "((167349,),)"
       ]
      },
      {
       "output_type": "stream",
       "stream": "stdout",
       "text": [
        "\n",
        "((168855,),)"
       ]
      },
      {
       "output_type": "stream",
       "stream": "stdout",
       "text": [
        "\n",
        "((168857,),)"
       ]
      },
      {
       "output_type": "stream",
       "stream": "stdout",
       "text": [
        "\n",
        "((169140,),)"
       ]
      },
      {
       "output_type": "stream",
       "stream": "stdout",
       "text": [
        "\n",
        "((169142,),)"
       ]
      },
      {
       "output_type": "stream",
       "stream": "stdout",
       "text": [
        "\n",
        "((169709,),)"
       ]
      },
      {
       "output_type": "stream",
       "stream": "stdout",
       "text": [
        "\n",
        "((169711,),)"
       ]
      },
      {
       "output_type": "stream",
       "stream": "stdout",
       "text": [
        "\n",
        "((169992,),)"
       ]
      },
      {
       "output_type": "stream",
       "stream": "stdout",
       "text": [
        "\n",
        "((169994,),)"
       ]
      },
      {
       "output_type": "stream",
       "stream": "stdout",
       "text": [
        "\n",
        "((170554,),)"
       ]
      },
      {
       "output_type": "stream",
       "stream": "stdout",
       "text": [
        "\n",
        "((170556,),)"
       ]
      },
      {
       "output_type": "stream",
       "stream": "stdout",
       "text": [
        "\n",
        "((170814,),)"
       ]
      },
      {
       "output_type": "stream",
       "stream": "stdout",
       "text": [
        "\n",
        "((170816,),)"
       ]
      },
      {
       "output_type": "stream",
       "stream": "stdout",
       "text": [
        "\n",
        "((171239,),)\n",
        "((171241,),)"
       ]
      },
      {
       "output_type": "stream",
       "stream": "stdout",
       "text": [
        "\n",
        "((171525,),)"
       ]
      },
      {
       "output_type": "stream",
       "stream": "stdout",
       "text": [
        "\n",
        "((171807,),)"
       ]
      },
      {
       "output_type": "stream",
       "stream": "stdout",
       "text": [
        "\n",
        "((171817,),)"
       ]
      },
      {
       "output_type": "stream",
       "stream": "stdout",
       "text": [
        "\n",
        "((172080,),)"
       ]
      },
      {
       "output_type": "stream",
       "stream": "stdout",
       "text": [
        "\n",
        "((172082,),)"
       ]
      },
      {
       "output_type": "stream",
       "stream": "stdout",
       "text": [
        "\n",
        "((172367,),)"
       ]
      },
      {
       "output_type": "stream",
       "stream": "stdout",
       "text": [
        "\n",
        "((172369,),)"
       ]
      },
      {
       "output_type": "stream",
       "stream": "stdout",
       "text": [
        "\n",
        "((172934,),)"
       ]
      },
      {
       "output_type": "stream",
       "stream": "stdout",
       "text": [
        "\n",
        "((173219,),)"
       ]
      },
      {
       "output_type": "stream",
       "stream": "stdout",
       "text": [
        "\n",
        "((173225,),)"
       ]
      },
      {
       "output_type": "stream",
       "stream": "stdout",
       "text": [
        "\n",
        "()"
       ]
      },
      {
       "output_type": "stream",
       "stream": "stdout",
       "text": [
        "\n",
        "((173930,),)"
       ]
      },
      {
       "output_type": "stream",
       "stream": "stdout",
       "text": [
        "\n",
        "((174213,),)"
       ]
      },
      {
       "output_type": "stream",
       "stream": "stdout",
       "text": [
        "\n",
        "((174215,),)"
       ]
      },
      {
       "output_type": "stream",
       "stream": "stdout",
       "text": [
        "\n",
        "((174500,),)"
       ]
      },
      {
       "output_type": "stream",
       "stream": "stdout",
       "text": [
        "\n",
        "((174505,),)"
       ]
      },
      {
       "output_type": "stream",
       "stream": "stdout",
       "text": [
        "\n",
        "((174779,),)"
       ]
      },
      {
       "output_type": "stream",
       "stream": "stdout",
       "text": [
        "\n",
        "((174781,),)"
       ]
      },
      {
       "output_type": "stream",
       "stream": "stdout",
       "text": [
        "\n",
        "((175798,),)"
       ]
      },
      {
       "output_type": "stream",
       "stream": "stdout",
       "text": [
        "\n",
        "((175800,),)"
       ]
      },
      {
       "output_type": "stream",
       "stream": "stdout",
       "text": [
        "\n",
        "((176084,),)"
       ]
      },
      {
       "output_type": "stream",
       "stream": "stdout",
       "text": [
        "\n",
        "((176086,),)"
       ]
      },
      {
       "output_type": "stream",
       "stream": "stdout",
       "text": [
        "\n",
        "((176386,),)"
       ]
      },
      {
       "output_type": "stream",
       "stream": "stdout",
       "text": [
        "\n",
        "((176935,),)"
       ]
      },
      {
       "output_type": "stream",
       "stream": "stdout",
       "text": [
        "\n",
        "((176937,),)"
       ]
      },
      {
       "output_type": "stream",
       "stream": "stdout",
       "text": [
        "\n",
        "((177228,),)"
       ]
      },
      {
       "output_type": "stream",
       "stream": "stdout",
       "text": [
        "\n",
        "((177775,),)"
       ]
      },
      {
       "output_type": "stream",
       "stream": "stdout",
       "text": [
        "\n",
        "((177777,),)"
       ]
      },
      {
       "output_type": "stream",
       "stream": "stdout",
       "text": [
        "\n",
        "((178606,),)"
       ]
      },
      {
       "output_type": "stream",
       "stream": "stdout",
       "text": [
        "\n",
        "((178608,),)"
       ]
      },
      {
       "output_type": "stream",
       "stream": "stdout",
       "text": [
        "\n",
        "((178891,),)"
       ]
      },
      {
       "output_type": "stream",
       "stream": "stdout",
       "text": [
        "\n",
        "((178893,),)"
       ]
      },
      {
       "output_type": "stream",
       "stream": "stdout",
       "text": [
        "\n",
        "((179455,),)"
       ]
      },
      {
       "output_type": "stream",
       "stream": "stdout",
       "text": [
        "\n",
        "((179457,),)"
       ]
      },
      {
       "output_type": "stream",
       "stream": "stdout",
       "text": [
        "\n",
        "((179730,),)"
       ]
      },
      {
       "output_type": "stream",
       "stream": "stdout",
       "text": [
        "\n",
        "((179732,),)"
       ]
      },
      {
       "output_type": "stream",
       "stream": "stdout",
       "text": [
        "\n",
        "((180005,),)"
       ]
      },
      {
       "output_type": "stream",
       "stream": "stdout",
       "text": [
        "\n",
        "((180007,),)"
       ]
      },
      {
       "output_type": "stream",
       "stream": "stdout",
       "text": [
        "\n",
        "((180294,),)"
       ]
      },
      {
       "output_type": "stream",
       "stream": "stdout",
       "text": [
        "\n",
        "((180580,),)"
       ]
      },
      {
       "output_type": "stream",
       "stream": "stdout",
       "text": [
        "\n",
        "((180582,),)"
       ]
      },
      {
       "output_type": "stream",
       "stream": "stdout",
       "text": [
        "\n",
        "((181128,),)"
       ]
      },
      {
       "output_type": "stream",
       "stream": "stdout",
       "text": [
        "\n",
        "end time: 1402494775.35\n",
        "Processing time took: 484.44195509 sec.\n"
       ]
      }
     ],
     "prompt_number": 16
    },
    {
     "cell_type": "markdown",
     "metadata": {},
     "source": [
      "You'll noticed that this takes an extremely long time to run (484 seconds). A faster way of doing this is to query for ALL OBNMs at the same time, which I'll do now."
     ]
    },
    {
     "cell_type": "code",
     "collapsed": false,
     "input": [
      "import time\n",
      "startTime = time.time()\n",
      "print(\"start time: \"+str(startTime))\n",
      "obnmlist = []\n",
      "for row in range(pdf.shape[0]):\n",
      "    rowobnm = pdf.OBNM[row]\n",
      "    obnmlist.append(rowobnm)\n",
      "\n",
      "#now join all the obnms together in one giant string for the WHERE query clause:\n",
      "obnmstring = \"' OR obnm = '\".join(obnmlist)\n",
      "\n",
      "#create the command that will retrieve the proper observation\n",
      "#id for adding the observation to the velocity and psf tables\n",
      "cmd = \"SELECT observation_id FROM observations WHERE obnm = '\" + str(obnmstring) + \"'\"\n",
      "\n",
      "print(cmd)\n",
      "#get the observation id\n",
      "cur.execute(cmd)\n",
      "endTime = time.time()\n",
      "print(\"end time: \"+str(endTime))\n",
      "print(\"Processing time took: \",str(endTime-startTime),\" sec.\")"
     ],
     "language": "python",
     "metadata": {},
     "outputs": [
      {
       "output_type": "stream",
       "stream": "stdout",
       "text": [
        "start time: 1402666816.21\n",
        "SELECT observation_id FROM observations WHERE obnm = 'achi120612.1118' OR obnm = 'achi120612.1119' OR obnm = 'achi120612.1120' OR obnm = 'achi120612.1121' OR obnm = 'achi120615.1164' OR obnm = 'achi120703.1113' OR obnm = 'achi120703.1114' OR obnm = 'achi120703.1115' OR obnm = 'achi120704.1144' OR obnm = 'achi120704.1145' OR obnm = 'achi120704.1146' OR obnm = 'achi120704.1147' OR obnm = 'achi120704.1148' OR obnm = 'achi120704.1149' OR obnm = 'achi120706.1139' OR obnm = 'achi120706.1140' OR obnm = 'achi120706.1141' OR obnm = 'achi120706.1142' OR obnm = 'achi120706.1143' OR obnm = 'achi120706.1144' OR obnm = 'achi120707.1170' OR obnm = 'achi120707.1171' OR obnm = 'achi120707.1172' OR obnm = 'achi120707.1173' OR obnm = 'achi120707.1174' OR obnm = 'achi120707.1175' OR obnm = 'achi120708.1165' OR obnm = 'achi120708.1166' OR obnm = 'achi120708.1167' OR obnm = 'achi120708.1168' OR obnm = 'achi120708.1169' OR obnm = 'achi120708.1170' OR obnm = 'achi120709.1180' OR obnm = 'achi120709.1181' OR obnm = 'achi120709.1182' OR obnm = 'achi120709.1183' OR obnm = 'achi120709.1184' OR obnm = 'achi120709.1185' OR obnm = 'achi120710.1148' OR obnm = 'achi120710.1149' OR obnm = 'achi120710.1150' OR obnm = 'achi120710.1151' OR obnm = 'achi120710.1152' OR obnm = 'achi120710.1153' OR obnm = 'achi120711.1156' OR obnm = 'achi120711.1157' OR obnm = 'achi120711.1158' OR obnm = 'achi120711.1159' OR obnm = 'achi120711.1160' OR obnm = 'achi120711.1161' OR obnm = 'achi120712.1148' OR obnm = 'achi120712.1149' OR obnm = 'achi120712.1150' OR obnm = 'achi120712.1151' OR obnm = 'achi120712.1152' OR obnm = 'achi120712.1153' OR obnm = 'achi120714.1155' OR obnm = 'achi120714.1156' OR obnm = 'achi120714.1157' OR obnm = 'achi120714.1158' OR obnm = 'achi120714.1159' OR obnm = 'achi120714.1160' OR obnm = 'achi120716.1158' OR obnm = 'achi120716.1159' OR obnm = 'achi120716.1160' OR obnm = 'achi120716.1161' OR obnm = 'achi120716.1162' OR obnm = 'achi120716.1163' OR obnm = 'achi120716.1170' OR obnm = 'achi120716.1171' OR obnm = 'achi120716.1172' OR obnm = 'achi120716.1173' OR obnm = 'achi120716.1174' OR obnm = 'achi120716.1175' OR obnm = 'achi120717.1155' OR obnm = 'achi120717.1156' OR obnm = 'achi120717.1157' OR obnm = 'achi120717.1158' OR obnm = 'achi120717.1159' OR obnm = 'achi120717.1160' OR obnm = 'achi120718.1156' OR obnm = 'achi120718.1157' OR obnm = 'achi120718.1158' OR obnm = 'achi120719.1155' OR obnm = 'achi120719.1156' OR obnm = 'achi120719.1157' OR obnm = 'achi120719.1158' OR obnm = 'achi120719.1159' OR obnm = 'achi120719.1160' OR obnm = 'achi120720.1174' OR obnm = 'achi120720.1175' OR obnm = 'achi120720.1176' OR obnm = 'achi120720.1177' OR obnm = 'achi120720.1178' OR obnm = 'achi120720.1179' OR obnm = 'achi120722.1147' OR obnm = 'achi120722.1148' OR obnm = 'achi120722.1149' OR obnm = 'achi120722.1150' OR obnm = 'achi120722.1151' OR obnm = 'achi120722.1152' OR obnm = 'achi120723.1157' OR obnm = 'achi120723.1158' OR obnm = 'achi120723.1159' OR obnm = 'achi120723.1160' OR obnm = 'achi120723.1161' OR obnm = 'achi120723.1162' OR obnm = 'achi120724.1159' OR obnm = 'achi120724.1160' OR obnm = 'achi120724.1161' OR obnm = 'achi120724.1162' OR obnm = 'achi120726.1137' OR obnm = 'achi120726.1138' OR obnm = 'achi120726.1139' OR obnm = 'achi120726.1140' OR obnm = 'achi120726.1141' OR obnm = 'achi120726.1142' OR obnm = 'achi120806.1123' OR obnm = 'achi120806.1124' OR obnm = 'achi120806.1125' OR obnm = 'achi120806.1126' OR obnm = 'achi120806.1127' OR obnm = 'achi120806.1128' OR obnm = 'achi120806.1129' OR obnm = 'achi120806.1130' OR obnm = 'achi120807.1169' OR obnm = 'achi120807.1170' OR obnm = 'achi120809.1171' OR obnm = 'achi120809.1175' OR obnm = 'achi120809.1176' OR obnm = 'achi120811.1164' OR obnm = 'achi120811.1165' OR obnm = 'achi120811.1166' OR obnm = 'achi120811.1167' OR obnm = 'achi120811.1169' OR obnm = 'achi120811.1171' OR obnm = 'achi120811.1172' OR obnm = 'achi120811.1174' OR obnm = 'achi120818.1153' OR obnm = 'achi120818.1154' OR obnm = 'achi120818.1155' OR obnm = 'achi120818.1156' OR obnm = 'achi120819.1160' OR obnm = 'achi120819.1161' OR obnm = 'achi120819.1162' OR obnm = 'achi120819.1163' OR obnm = 'achi120819.1164' OR obnm = 'achi120819.1165' OR obnm = 'achi120819.1166' OR obnm = 'achi120819.1167' OR obnm = 'achi120819.1168' OR obnm = 'achi120820.1156' OR obnm = 'achi120820.1157' OR obnm = 'achi120820.1159' OR obnm = 'achi120820.1160' OR obnm = 'achi120820.1161' OR obnm = 'achi120820.1162' OR obnm = 'achi120824.1133' OR obnm = 'achi120824.1134' OR obnm = 'achi120824.1135' OR obnm = 'achi120824.1136' OR obnm = 'achi120824.1144' OR obnm = 'achi120824.1145' OR obnm = 'achi120824.1146' OR obnm = 'achi120825.1148' OR obnm = 'achi120825.1149' OR obnm = 'achi120825.1150' OR obnm = 'achi120825.1151' OR obnm = 'achi120826.1129' OR obnm = 'achi120826.1130' OR obnm = 'achi120826.1131' OR obnm = 'achi120826.1132' OR obnm = 'achi120826.1143' OR obnm = 'achi120826.1144' OR obnm = 'achi120826.1145' OR obnm = 'achi120827.1154' OR obnm = 'achi120827.1155' OR obnm = 'achi120827.1156' OR obnm = 'achi120827.1157' OR obnm = 'achi120828.1128' OR obnm = 'achi120828.1129' OR obnm = 'achi120828.1130' OR obnm = 'achi120828.1131' OR obnm = 'achi120828.1142' OR obnm = 'achi120828.1143' OR obnm = 'achi120828.1144' OR obnm = 'achi120831.1145' OR obnm = 'achi120831.1146' OR obnm = 'achi120831.1147' OR obnm = 'achi120831.1148' OR obnm = 'achi120901.1162' OR obnm = 'achi120901.1163' OR obnm = 'achi120901.1164' OR obnm = 'achi120901.1165' OR obnm = 'achi120904.1125' OR obnm = 'achi120904.1126' OR obnm = 'achi120904.1127' OR obnm = 'achi120904.1128' OR obnm = 'achi120907.1129' OR obnm = 'achi120907.1130' OR obnm = 'achi120907.1131' OR obnm = 'achi120907.1132' OR obnm = 'achi120908.1122' OR obnm = 'achi120908.1123' OR obnm = 'achi120908.1124' OR obnm = 'achi120908.1125' OR obnm = 'achi120911.1161' OR obnm = 'achi120911.1162' OR obnm = 'achi120911.1163' OR obnm = 'achi120911.1164' OR obnm = 'achi120913.1167' OR obnm = 'achi120913.1168' OR obnm = 'achi120913.1169' OR obnm = 'achi120913.1170' OR obnm = 'achi120915.1417' OR obnm = 'achi120915.1418' OR obnm = 'achi120915.1419' OR obnm = 'achi120915.1420' OR obnm = 'achi120915.1421' OR obnm = 'achi120915.1422' OR obnm = 'achi120915.1423' OR obnm = 'achi120915.1424' OR obnm = 'achi120916.1118' OR obnm = 'achi120916.1119' OR obnm = 'achi120916.1120' OR obnm = 'achi120916.1121' OR obnm = 'achi120918.1118' OR obnm = 'achi120918.1119' OR obnm = 'achi120918.1120' OR obnm = 'achi120918.1121' OR obnm = 'achi120919.1166' OR obnm = 'achi120919.1167' OR obnm = 'achi120919.1168' OR obnm = 'achi120919.1169' OR obnm = 'achi120921.1164' OR obnm = 'achi120921.1165' OR obnm = 'achi120921.1166' OR obnm = 'achi120921.1167' OR obnm = 'achi120923.1153' OR obnm = 'achi120923.1154' OR obnm = 'achi120923.1155' OR obnm = 'achi120923.1156' OR obnm = 'achi120925.1155' OR obnm = 'achi120925.1156' OR obnm = 'achi120925.1157' OR obnm = 'achi120925.1158' OR obnm = 'achi120925.1162' OR obnm = 'achi120925.1163' OR obnm = 'achi120925.1164' OR obnm = 'achi120925.1165' OR obnm = 'achi120926.1140' OR obnm = 'achi120926.1141' OR obnm = 'achi120926.1142' OR obnm = 'achi120926.1144' OR obnm = 'achi120926.1146' OR obnm = 'achi120926.1147' OR obnm = 'achi120926.1148' OR obnm = 'achi120927.1157' OR obnm = 'achi120927.1158' OR obnm = 'achi120927.1159' OR obnm = 'achi120927.1160' OR obnm = 'achi120928.1141' OR obnm = 'achi120928.1142' OR obnm = 'achi120928.1143' OR obnm = 'achi120928.1144' OR obnm = 'achi120928.1148' OR obnm = 'achi120928.1149' OR obnm = 'achi120928.1150' OR obnm = 'achi120928.1151' OR obnm = 'achi120929.1148' OR obnm = 'achi120929.1149' OR obnm = 'achi120929.1150' OR obnm = 'achi120929.1151' OR obnm = 'achi120930.1134' OR obnm = 'achi120930.1135' OR obnm = 'achi120930.1136' OR obnm = 'achi120930.1137' OR obnm = 'achi120930.1142' OR obnm = 'achi120930.1143' OR obnm = 'achi120930.1144' OR obnm = 'achi120930.1145' OR obnm = 'achi121001.1134' OR obnm = 'achi121001.1135' OR obnm = 'achi121001.1136' OR obnm = 'achi121001.1137' OR obnm = 'achi121001.1144' OR obnm = 'achi121001.1145' OR obnm = 'achi121001.1146' OR obnm = 'achi121001.1147' OR obnm = 'achi121002.1137' OR obnm = 'achi121002.1138' OR obnm = 'achi121002.1139' OR obnm = 'achi121002.1140' OR obnm = 'achi121002.1145' OR obnm = 'achi121002.1146' OR obnm = 'achi121002.1147' OR obnm = 'achi121002.1148' OR obnm = 'achi121003.1137' OR obnm = 'achi121003.1138' OR obnm = 'achi121003.1139' OR obnm = 'achi121003.1140' OR obnm = 'achi121003.1148' OR obnm = 'achi121003.1149' OR obnm = 'achi121003.1150' OR obnm = 'achi121003.1151' OR obnm = 'achi121004.1128' OR obnm = 'achi121004.1129' OR obnm = 'achi121009.1129' OR obnm = 'achi121009.1130' OR obnm = 'achi121009.1131' OR obnm = 'achi121009.1132' OR obnm = 'achi121009.1136' OR obnm = 'achi121009.1137' OR obnm = 'achi121009.1138' OR obnm = 'achi121009.1139' OR obnm = 'achi121010.1129' OR obnm = 'achi121010.1130' OR obnm = 'achi121010.1131' OR obnm = 'achi121010.1132' OR obnm = 'achi121010.1133' OR obnm = 'achi121010.1134' OR obnm = 'achi121010.1135' OR obnm = 'achi121010.1136' OR obnm = 'achi121011.1131' OR obnm = 'achi121011.1132' OR obnm = 'achi121011.1133' OR obnm = 'achi121011.1134' OR obnm = 'achi121011.1137' OR obnm = 'achi121011.1138' OR obnm = 'achi121011.1139' OR obnm = 'achi121011.1140' OR obnm = 'achi121012.1127' OR obnm = 'achi121012.1128' OR obnm = 'achi121012.1129' OR obnm = 'achi121012.1130' OR obnm = 'achi121012.1133' OR obnm = 'achi121012.1134' OR obnm = 'achi121012.1135' OR obnm = 'achi121012.1136' OR obnm = 'achi121013.1129' OR obnm = 'achi121013.1130' OR obnm = 'achi121013.1131' OR obnm = 'achi121013.1132' OR obnm = 'achi121013.1133' OR obnm = 'achi121013.1134' OR obnm = 'achi121013.1135' OR obnm = 'achi121013.1136' OR obnm = 'achi121014.1127' OR obnm = 'achi121014.1128' OR obnm = 'achi121014.1129' OR obnm = 'achi121014.1130' OR obnm = 'achi121014.1131' OR obnm = 'achi121014.1132' OR obnm = 'achi121014.1133' OR obnm = 'achi121014.1134' OR obnm = 'achi121015.1129' OR obnm = 'achi121015.1130' OR obnm = 'achi121015.1131' OR obnm = 'achi121015.1132' OR obnm = 'achi121016.1131' OR obnm = 'achi121016.1132' OR obnm = 'achi121016.1133' OR obnm = 'achi121016.1134' OR obnm = 'achi121016.1135' OR obnm = 'achi121016.1136' OR obnm = 'achi121016.1137' OR obnm = 'achi121016.1138' OR obnm = 'achi121017.1132' OR obnm = 'achi121017.1133' OR obnm = 'achi121017.1134' OR obnm = 'achi121017.1135' OR obnm = 'achi121017.1136' OR obnm = 'achi121017.1137' OR obnm = 'achi121017.1138' OR obnm = 'achi121017.1139' OR obnm = 'achi121018.1125' OR obnm = 'achi121018.1126' OR obnm = 'achi121018.1127' OR obnm = 'achi121018.1128' OR obnm = 'achi121018.1132' OR obnm = 'achi121018.1133' OR obnm = 'achi121018.1134' OR obnm = 'achi121019.1135' OR obnm = 'achi121019.1136' OR obnm = 'achi121019.1137' OR obnm = 'achi121019.1138' OR obnm = 'achi121019.1139' OR obnm = 'achi121019.1140' OR obnm = 'achi121019.1141' OR obnm = 'achi121019.1142' OR obnm = 'achi121020.1130' OR obnm = 'achi121020.1131' OR obnm = 'achi121020.1132' OR obnm = 'achi121020.1133' OR obnm = 'achi121022.1137' OR obnm = 'achi121022.1138' OR obnm = 'achi121022.1139' OR obnm = 'achi121022.1140' OR obnm = 'achi121022.1144' OR obnm = 'achi121022.1145' OR obnm = 'achi121022.1146' OR obnm = 'achi121022.1147' OR obnm = 'achi121023.1129' OR obnm = 'achi121023.1130' OR obnm = 'achi121023.1131' OR obnm = 'achi121023.1132' OR obnm = 'achi121023.1133' OR obnm = 'achi121023.1134' OR obnm = 'achi121023.1135' OR obnm = 'achi121023.1136' OR obnm = 'achi121024.1129' OR obnm = 'achi121024.1130' OR obnm = 'achi121024.1131' OR obnm = 'achi121024.1132' OR obnm = 'achi121025.1128' OR obnm = 'achi121025.1130' OR obnm = 'achi121025.1131' OR obnm = 'achi121025.1132' OR obnm = 'achi121025.1133' OR obnm = 'achi121025.1134' OR obnm = 'achi121025.1135' OR obnm = 'achi121028.1130' OR obnm = 'achi121028.1131' OR obnm = 'achi121028.1132' OR obnm = 'achi121028.1133' OR obnm = 'achi121028.1140' OR obnm = 'achi121028.1141' OR obnm = 'achi121028.1142' OR obnm = 'achi121028.1143' OR obnm = 'achi121029.1129' OR obnm = 'achi121029.1130' OR obnm = 'achi121029.1131' OR obnm = 'achi121029.1132' OR obnm = 'achi121029.1133' OR obnm = 'achi121029.1134' OR obnm = 'achi121029.1135' OR obnm = 'achi121029.1136' OR obnm = 'achi121030.1120' OR obnm = 'achi121030.1121' OR obnm = 'achi121030.1122' OR obnm = 'achi121030.1123' OR obnm = 'achi121030.1124' OR obnm = 'achi121030.1125' OR obnm = 'achi121030.1126' OR obnm = 'achi121030.1127' OR obnm = 'achi121031.1129' OR obnm = 'achi121031.1130' OR obnm = 'achi121031.1131' OR obnm = 'achi121031.1132' OR obnm = 'achi121031.1133' OR obnm = 'achi121031.1134' OR obnm = 'achi121031.1135' OR obnm = 'achi121031.1136' OR obnm = 'achi121101.1129' OR obnm = 'achi121101.1130' OR obnm = 'achi121101.1131' OR obnm = 'achi121101.1132' OR obnm = 'achi121101.1133' OR obnm = 'achi121101.1134' OR obnm = 'achi121101.1135' OR obnm = 'achi121101.1136' OR obnm = 'achi121102.1130' OR obnm = 'achi121102.1131' OR obnm = 'achi121102.1132' OR obnm = 'achi121102.1133' OR obnm = 'achi121103.1134' OR obnm = 'achi121103.1135' OR obnm = 'achi121103.1136' OR obnm = 'achi121103.1137' OR obnm = 'achi121104.1135' OR obnm = 'achi121104.1136' OR obnm = 'achi121104.1137' OR obnm = 'achi121104.1138' OR obnm = 'achi121105.1130' OR obnm = 'achi121105.1131' OR obnm = 'achi121105.1132' OR obnm = 'achi121105.1133' OR obnm = 'achi121105.1134' OR obnm = 'achi121105.1135' OR obnm = 'achi121105.1136' OR obnm = 'achi121105.1137' OR obnm = 'achi121106.1127' OR obnm = 'achi121106.1128' OR obnm = 'achi121106.1129' OR obnm = 'achi121106.1130' OR obnm = 'achi121106.1131' OR obnm = 'achi121106.1132' OR obnm = 'achi121106.1133' OR obnm = 'achi121106.1134' OR obnm = 'achi121107.1132' OR obnm = 'achi121107.1133' OR obnm = 'achi121107.1134' OR obnm = 'achi121107.1135' OR obnm = 'achi121109.1134' OR obnm = 'achi121109.1135' OR obnm = 'achi121109.1136' OR obnm = 'achi121109.1137' OR obnm = 'achi121110.1134' OR obnm = 'achi121110.1135' OR obnm = 'achi121110.1136' OR obnm = 'achi121110.1137' OR obnm = 'achi121111.1130' OR obnm = 'achi121111.1131' OR obnm = 'achi121111.1132' OR obnm = 'achi121111.1133' OR obnm = 'achi121112.1128' OR obnm = 'achi121112.1129' OR obnm = 'achi121112.1130' OR obnm = 'achi121112.1131' OR obnm = 'achi121113.1129' OR obnm = 'achi121113.1130' OR obnm = 'achi121113.1131' OR obnm = 'achi121113.1132' OR obnm = 'achi121116.1130' OR obnm = 'achi121116.1131' OR obnm = 'achi121116.1132' OR obnm = 'achi121116.1133' OR obnm = 'achi121117.1130' OR obnm = 'achi121117.1131' OR obnm = 'achi121118.1134' OR obnm = 'achi121118.1135' OR obnm = 'achi121118.1136' OR obnm = 'achi121118.1137' OR obnm = 'achi121119.1128' OR obnm = 'achi121119.1129' OR obnm = 'achi121119.1130' OR obnm = 'achi121119.1131' OR obnm = 'achi121121.1130' OR obnm = 'achi121121.1131' OR obnm = 'achi121121.1132' OR obnm = 'achi121121.1133' OR obnm = 'achi121122.1129' OR obnm = 'achi121122.1130' OR obnm = 'achi121122.1131' OR obnm = 'achi121122.1132' OR obnm = 'achi121124.1133' OR obnm = 'achi121124.1134' OR obnm = 'achi121124.1135' OR obnm = 'achi121124.1136' OR obnm = 'achi121125.1130' OR obnm = 'achi121125.1131' OR obnm = 'achi121125.1132' OR obnm = 'achi121125.1133' OR obnm = 'achi121127.1126' OR obnm = 'achi121127.1127' OR obnm = 'achi121127.1128' OR obnm = 'achi121127.1129' OR obnm = 'achi121130.1125' OR obnm = 'achi121130.1126' OR obnm = 'achi121130.1127' OR obnm = 'achi121130.1128' OR obnm = 'achi121201.1120' OR obnm = 'achi121201.1121' OR obnm = 'achi121201.1122' OR obnm = 'achi121201.1123' OR obnm = 'achi121202.1118' OR obnm = 'achi121202.1119' OR obnm = 'achi121202.1120' OR obnm = 'achi121202.1121' OR obnm = 'achi121203.1121' OR obnm = 'achi121203.1122' OR obnm = 'achi121203.1123' OR obnm = 'achi121203.1124' OR obnm = 'achi121204.1118' OR obnm = 'achi121204.1119' OR obnm = 'achi121204.1120' OR obnm = 'achi121204.1121' OR obnm = 'achi121206.1117' OR obnm = 'achi121206.1118' OR obnm = 'achi121206.1119' OR obnm = 'achi121206.1120' OR obnm = 'achi121207.1119' OR obnm = 'achi121207.1120' OR obnm = 'achi121207.1121' OR obnm = 'achi121208.1115' OR obnm = 'achi121208.1116' OR obnm = 'achi121208.1117' OR obnm = 'achi121208.1118' OR obnm = 'achi121209.1120' OR obnm = 'achi121209.1121' OR obnm = 'achi121209.1122' OR obnm = 'achi121209.1123' OR obnm = 'achi121214.1115' OR obnm = 'achi121214.1119' OR obnm = 'achi121214.1122' OR obnm = 'achi121214.1129' OR obnm = 'achi121215.1114' OR obnm = 'achi121215.1116' OR obnm = 'achi121215.1120' OR obnm = 'achi121215.1124' OR obnm = 'achi121216.1114' OR obnm = 'achi121216.1118' OR obnm = 'achi121216.1121' OR obnm = 'achi121216.1127' OR obnm = 'achi121217.1114' OR obnm = 'achi121217.1119' OR obnm = 'achi121217.1123' OR obnm = 'achi121217.1126' OR obnm = 'achi121218.1114' OR obnm = 'achi121218.1118' OR obnm = 'achi121220.1114' OR obnm = 'achi121220.1119' OR obnm = 'achi121220.1125' OR obnm = 'achi121220.1126' OR obnm = 'achi121221.1116' OR obnm = 'achi121221.1123' OR obnm = 'achi121221.1126' OR obnm = 'achi121221.1137' OR obnm = 'achi121222.1114' OR obnm = 'achi121222.1120' OR obnm = 'achi121222.1123' OR obnm = 'achi121222.1127' OR obnm = 'achi121223.1114' OR obnm = 'achi121223.1119' OR obnm = 'achi121223.1128' OR obnm = 'achi121226.1114' OR obnm = 'achi121226.1119' OR obnm = 'achi121226.1128' OR obnm = 'achi121227.1114' OR obnm = 'achi121227.1118' OR obnm = 'achi121227.1122' OR obnm = 'achi121227.1126' OR obnm = 'achi121228.1114' OR obnm = 'achi121228.1120' OR obnm = 'achi121228.1123' OR obnm = 'achi121228.1130' OR obnm = 'achi121229.1114' OR obnm = 'achi121229.1119' OR obnm = 'achi121229.1128' OR obnm = 'achi130102.1117' OR obnm = 'achi130102.1121' OR obnm = 'achi130102.1124' OR obnm = 'achi130103.1119' OR obnm = 'achi130103.1120' OR obnm = 'achi130103.1124' OR obnm = 'achi130103.1125' OR obnm = 'achi130104.1114' OR obnm = 'achi130104.1119' OR obnm = 'achi130105.1114' OR obnm = 'achi130105.1118' OR obnm = 'achi130105.1122' OR obnm = 'achi130105.1126' OR obnm = 'achi130106.1114' OR obnm = 'achi130106.1117' OR obnm = 'achi130106.1121' OR obnm = 'achi130106.1124' OR obnm = 'achi130111.1114' OR obnm = 'achi130111.1121' OR obnm = 'achi130111.1124' OR obnm = 'achi130111.1125' OR obnm = 'achi130112.1114' OR obnm = 'achi130112.1118' OR obnm = 'achi130112.1121' OR obnm = 'achi130114.1114' OR obnm = 'achi130114.1121' OR obnm = 'achi130114.1124' OR obnm = 'achi130115.1114' OR obnm = 'achi130115.1117' OR obnm = 'achi130116.1114' OR obnm = 'achi130116.1121' OR obnm = 'achi130117.1114' OR obnm = 'achi130117.1118' OR obnm = 'achi130118.1114' OR obnm = 'achi130118.1118' OR obnm = 'achi130118.1121' OR obnm = 'achi130119.1114' OR obnm = 'achi130119.1117' OR obnm = 'achi130121.1114' OR obnm = 'achi130121.1115' OR obnm = 'achi130121.1119' OR obnm = 'achi130123.1115' OR obnm = 'achi130123.1116' OR obnm = 'achi130123.1118' OR obnm = 'achi130123.1119' OR obnm = 'achi130124.1114' OR obnm = 'achi130124.1115' OR obnm = 'achi130124.1117' OR obnm = 'achi130124.1118' OR obnm = 'achi130125.1114' OR obnm = 'achi130125.1115' OR obnm = 'achi130125.1117' OR obnm = 'achi130125.1118' OR obnm = 'achi130126.1114' OR obnm = 'achi130126.1115' OR obnm = 'achi130126.1119' OR obnm = 'achi130126.1120' OR obnm = 'achi130128.1116' OR obnm = 'achi130128.1117' OR obnm = 'achi130128.1120' OR obnm = 'achi130129.1114' OR obnm = 'achi130129.1115' OR obnm = 'achi130129.1117' OR obnm = 'achi130130.1114' OR obnm = 'achi130130.1115' OR obnm = 'achi130130.1117' OR obnm = 'achi130204.1114' OR obnm = 'achi130204.1115' OR obnm = 'achi130204.1116' OR obnm = 'achi130204.1117' OR obnm = 'achi130204.1118' OR obnm = 'achi130205.1114' OR obnm = 'achi130205.1115' OR obnm = 'achi130205.1116' OR obnm = 'achi130205.1117' OR obnm = 'achi130205.1118' OR obnm = 'achi130206.1119' OR obnm = 'achi130206.1120' OR obnm = 'achi130206.1121' OR obnm = 'achi130206.1122' OR obnm = 'achi130207.1119' OR obnm = 'achi130207.1120' OR obnm = 'achi130207.1121' OR obnm = 'achi130207.1122' OR obnm = 'achi130208.1119' OR obnm = 'achi130208.1120' OR obnm = 'achi130208.1121' OR obnm = 'achi130208.1122' OR obnm = 'achi130208.1123' OR obnm = 'achi130212.1119' OR obnm = 'achi130212.1120' OR obnm = 'achi130212.1121' OR obnm = 'achi130212.1122' OR obnm = 'achi130601.1296' OR obnm = 'achi130601.1297' OR obnm = 'achi130604.1156' OR obnm = 'achi130604.1158' OR obnm = 'achi130613.1129' OR obnm = 'achi130613.1132' OR obnm = 'achi130614.1180' OR obnm = 'achi130614.1183' OR obnm = 'achi130616.1202' OR obnm = 'achi130618.1135' OR obnm = 'achi130628.1162' OR obnm = 'achi130628.1164' OR obnm = 'achi130629.1135' OR obnm = 'achi130629.1137' OR obnm = 'achi130701.1164' OR obnm = 'achi130701.1167' OR obnm = 'achi130702.1147' OR obnm = 'achi130702.1151' OR obnm = 'achi130703.1162' OR obnm = 'achi130703.1168' OR obnm = 'achi130706.1150' OR obnm = 'achi130707.1152' OR obnm = 'achi130707.1159' OR obnm = 'achi130708.1128' OR obnm = 'achi130708.1133' OR obnm = 'achi130711.1133' OR obnm = 'achi130711.1138' OR obnm = 'achi130712.1144' OR obnm = 'achi130712.1146' OR obnm = 'achi130712.1155' OR obnm = 'achi130712.1156' OR obnm = 'achi130713.1142' OR obnm = 'achi130713.1153' OR obnm = 'achi130713.1168' OR obnm = 'achi130714.1140' OR obnm = 'achi130714.1154' OR obnm = 'achi130714.1159' OR obnm = 'achi130718.1146' OR obnm = 'achi130718.1150' OR obnm = 'achi130722.1140' OR obnm = 'achi130722.1145' OR obnm = 'achi130722.1148' OR obnm = 'achi130722.1151' OR obnm = 'achi130723.1139' OR obnm = 'achi130723.1143' OR obnm = 'achi130724.1141' OR obnm = 'achi130724.1145' OR obnm = 'achi130724.1152' OR obnm = 'achi130726.1129' OR obnm = 'achi130726.1137' OR obnm = 'achi130726.1140' OR obnm = 'achi130727.1135' OR obnm = 'achi130727.1136' OR obnm = 'achi130727.1145' OR obnm = 'achi130728.1134' OR obnm = 'achi130728.1136' OR obnm = 'achi130730.1129' OR obnm = 'achi130730.1130' OR obnm = 'achi130730.1139' OR obnm = 'achi130731.1134' OR obnm = 'achi130731.1142' OR obnm = 'achi130801.1137' OR obnm = 'achi130801.1146' OR obnm = 'achi130801.1148' OR obnm = 'achi130803.1129' OR obnm = 'achi130803.1140' OR obnm = 'achi130804.1133' OR obnm = 'achi130804.1136' OR obnm = 'achi130804.1142' OR obnm = 'achi130804.1143' OR obnm = 'achi130804.1144' OR obnm = 'achi130804.1145' OR obnm = 'achi130805.1138' OR obnm = 'achi130805.1139' OR obnm = 'achi130805.1143' OR obnm = 'achi130805.1144' OR obnm = 'achi130805.1149' OR obnm = 'achi130806.1138' OR obnm = 'achi130806.1139' OR obnm = 'achi130807.1128' OR obnm = 'achi130807.1129' OR obnm = 'achi130807.1130' OR obnm = 'achi130808.1155' OR obnm = 'achi130808.1165' OR obnm = 'achi130809.1158' OR obnm = 'achi130809.1180' OR obnm = 'achi130810.1127' OR obnm = 'achi130810.1135' OR obnm = 'achi130811.1129' OR obnm = 'achi130811.1132' OR obnm = 'achi130811.1136' OR obnm = 'achi130811.1137' OR obnm = 'achi130811.1140' OR obnm = 'achi130811.1144' OR obnm = 'achi130811.1145' OR obnm = 'achi130812.1126' OR obnm = 'achi130812.1138' OR obnm = 'achi130812.1147' OR obnm = 'achi130812.1148' OR obnm = 'achi130813.1132' OR obnm = 'achi130813.1141' OR obnm = 'achi130813.1146' OR obnm = 'achi130813.1147' OR obnm = 'achi130813.1154' OR obnm = 'achi130813.1155' OR obnm = 'achi130813.1156' OR obnm = 'achi130814.1133' OR obnm = 'achi130814.1143' OR obnm = 'achi130814.1146' OR obnm = 'achi130814.1147' OR obnm = 'achi130814.1152' OR obnm = 'achi130815.1128' OR obnm = 'achi130815.1139' OR obnm = 'achi130815.1149' OR obnm = 'achi130816.1131' OR obnm = 'achi130816.1136' OR obnm = 'achi130816.1137' OR obnm = 'achi130816.1149' OR obnm = 'achi130816.1154' OR obnm = 'achi130817.1135' OR obnm = 'achi130817.1141' OR obnm = 'achi130817.1147' OR obnm = 'achi130817.1161' OR obnm = 'achi130818.1134' OR obnm = 'achi130818.1138' OR obnm = 'achi130818.1144' OR obnm = 'achi130818.1152' OR obnm = 'achi130819.1135' OR obnm = 'achi130819.1143' OR obnm = 'achi130819.1150' OR obnm = 'achi130819.1156' OR obnm = 'achi130820.1129' OR obnm = 'achi130820.1134' OR obnm = 'achi130820.1144' OR obnm = 'achi130820.1151' OR obnm = 'achi130821.1120' OR obnm = 'achi130821.1125' OR obnm = 'achi130821.1134' OR obnm = 'achi130821.1140' OR obnm = 'achi130824.1133' OR obnm = 'achi130824.1140' OR obnm = 'achi130824.1148' OR obnm = 'achi130824.1164' OR obnm = 'achi130825.1130' OR obnm = 'achi130825.1147' OR obnm = 'achi130825.1156' OR obnm = 'achi130826.1129' OR obnm = 'achi130826.1138' OR obnm = 'achi130826.1147' OR obnm = 'achi130827.1149' OR obnm = 'achi130827.1158' OR obnm = 'achi130827.1169' OR obnm = 'achi130828.1134' OR obnm = 'achi130828.1142' OR obnm = 'achi130828.1155' OR obnm = 'achi130901.1133' OR obnm = 'achi130901.1149' OR obnm = 'achi130901.1159' OR obnm = 'achi130901.1160' OR obnm = 'achi130902.1140' OR obnm = 'achi130902.1156' OR obnm = 'achi130902.1167' OR obnm = 'achi130903.1126' OR obnm = 'achi130903.1138' OR obnm = 'achi130903.1149' OR obnm = 'achi130904.1144' OR obnm = 'achi130905.1299' OR obnm = 'achi130907.1016' OR obnm = 'achi130907.1023' OR obnm = 'achi130907.1039' OR obnm = 'achi130908.1130' OR obnm = 'achi130908.1136' OR obnm = 'achi130908.1145' OR obnm = 'achi130908.1154' OR obnm = 'achi130909.1124' OR obnm = 'achi130909.1138' OR obnm = 'achi130909.1145' OR obnm = 'achi130909.1154' OR obnm = 'achi130910.1124' OR obnm = 'achi130910.1137' OR obnm = 'achi130910.1146' OR obnm = 'achi130910.1154' OR obnm = 'achi130911.1135' OR obnm = 'achi130911.1139' OR obnm = 'achi130912.1135' OR obnm = 'achi130912.1139' OR obnm = 'achi130914.1138' OR obnm = 'achi130914.1141' OR obnm = 'achi130914.1143' OR obnm = 'achi130914.1144' OR obnm = 'achi130914.1147' OR obnm = 'achi130915.1126' OR obnm = 'achi130915.1131' OR obnm = 'achi130915.1135' OR obnm = 'achi130915.1144' OR obnm = 'achi130917.1121' OR obnm = 'achi130918.1137' OR obnm = 'achi130918.1143' OR obnm = 'achi130918.1158' OR obnm = 'achi130919.1143' OR obnm = 'achi130919.1150' OR obnm = 'achi130919.1155' OR obnm = 'achi130920.1141' OR obnm = 'achi130920.1142' OR obnm = 'achi130920.1166' OR obnm = 'achi130920.1167' OR obnm = 'achi130921.1132' OR obnm = 'achi130921.1133' OR obnm = 'achi130921.1134' OR obnm = 'achi130921.1135' OR obnm = 'achi130921.1136' OR obnm = 'achi130921.1137' OR obnm = 'achi130922.1119' OR obnm = 'achi130922.1120' OR obnm = 'achi130922.1129' OR obnm = 'achi130922.1130' OR obnm = 'achi130922.1137' OR obnm = 'achi130922.1138' OR obnm = 'achi130922.1140' OR obnm = 'achi130922.1141' OR obnm = 'achi130923.1120' OR obnm = 'achi130923.1121' OR obnm = 'achi130923.1125' OR obnm = 'achi130923.1126' OR obnm = 'achi130923.1132' OR obnm = 'achi130923.1133' OR obnm = 'achi130923.1134' OR obnm = 'achi130923.1135' OR obnm = 'achi130924.1122' OR obnm = 'achi130924.1123' OR obnm = 'achi130924.1130' OR obnm = 'achi130924.1131' OR obnm = 'achi130924.1136' OR obnm = 'achi130924.1137' OR obnm = 'achi130924.1145' OR obnm = 'achi130924.1146' OR obnm = 'achi130925.1125' OR obnm = 'achi130925.1126' OR obnm = 'achi130925.1130' OR obnm = 'achi130925.1131' OR obnm = 'achi130925.1136' OR obnm = 'achi130925.1137' OR obnm = 'achi130926.1132' OR obnm = 'achi130926.1133' OR obnm = 'achi130926.1135' OR obnm = 'achi130926.1136' OR obnm = 'achi130926.1139' OR obnm = 'achi130926.1140' OR obnm = 'achi130927.1124' OR obnm = 'achi130927.1125' OR obnm = 'achi130927.1127' OR obnm = 'achi130927.1128' OR obnm = 'achi130927.1137' OR obnm = 'achi130927.1138' OR obnm = 'achi130927.1147' OR obnm = 'achi130927.1148' OR obnm = 'achi130928.1135' OR obnm = 'achi130928.1140' OR obnm = 'achi130928.1141' OR obnm = 'achi130928.1149' OR obnm = 'achi130928.1150' OR obnm = 'achi130929.1121' OR obnm = 'achi130929.1122' OR obnm = 'achi130929.1130' OR obnm = 'achi130929.1131' OR obnm = 'achi131001.1133' OR obnm = 'achi131001.1134' OR obnm = 'achi131001.1144' OR obnm = 'achi131001.1145' OR obnm = 'achi131002.1131' OR obnm = 'achi131002.1132' OR obnm = 'achi131002.1133' OR obnm = 'achi131002.1134' OR obnm = 'achi131002.1138' OR obnm = 'achi131002.1139' OR obnm = 'achi131003.1127' OR obnm = 'achi131003.1128' OR obnm = 'achi131003.1129' OR obnm = 'achi131003.1130' OR obnm = 'achi131003.1131' OR obnm = 'achi131003.1132' OR obnm = 'achi131003.1133' OR obnm = 'achi131003.1136' OR obnm = 'achi131003.1137' OR obnm = 'achi131003.1147' OR obnm = 'achi131003.1148' OR obnm = 'achi131004.1297' OR obnm = 'achi131004.1298' OR obnm = 'achi131004.1303' OR obnm = 'achi131004.1305' OR obnm = 'achi131006.1124' OR obnm = 'achi131006.1126' OR obnm = 'achi131006.1133' OR obnm = 'achi131006.1134' OR obnm = 'achi131006.1136' OR obnm = 'achi131006.1137' OR obnm = 'achi131007.1121' OR obnm = 'achi131007.1123' OR obnm = 'achi131009.1126' OR obnm = 'achi131009.1128' OR obnm = 'achi131011.1125' OR obnm = 'achi131011.1127' OR obnm = 'achi131011.1128' OR obnm = 'achi131012.1124' OR obnm = 'achi131012.1126' OR obnm = 'achi131014.1126' OR obnm = 'achi131014.1128' OR obnm = 'achi131015.1128' OR obnm = 'achi131015.1130' OR obnm = 'achi131016.1124' OR obnm = 'achi131016.1126' OR obnm = 'achi131017.1123' OR obnm = 'achi131017.1125' OR obnm = 'achi131018.1131' OR obnm = 'achi131018.1132' OR obnm = 'achi131019.1123' OR obnm = 'achi131019.1125' OR obnm = 'achi131025.1126' OR obnm = 'achi131025.1128' OR obnm = 'achi131026.1121' OR obnm = 'achi131026.1123' OR obnm = 'achi131028.1120' OR obnm = 'achi131028.1125' OR obnm = 'achi131029.1120' OR obnm = 'achi131029.1122' OR obnm = 'achi131103.1120' OR obnm = 'achi131103.1122' OR obnm = 'achi131104.1120' OR obnm = 'achi131104.1122' OR obnm = 'achi131106.1120' OR obnm = 'achi131106.1122' OR obnm = 'achi131107.1120' OR obnm = 'achi131107.1122' OR obnm = 'achi131109.1123' OR obnm = 'achi131109.1125' OR obnm = 'achi131110.1120' OR obnm = 'achi131110.1122' OR obnm = 'achi131112.1120' OR obnm = 'achi131112.1122' OR obnm = 'achi131113.1121' OR obnm = 'achi131114.1125' OR obnm = 'achi131114.1135' OR obnm = 'achi131115.1119' OR obnm = 'achi131115.1121' OR obnm = 'achi131116.1121' OR obnm = 'achi131116.1123' OR obnm = 'achi131118.1123' OR obnm = 'achi131119.1121' OR obnm = 'achi131119.1127' OR obnm = 'achi131121.1273' OR obnm = 'achi131122.1119' OR obnm = 'achi131123.1119' OR obnm = 'achi131123.1121' OR obnm = 'achi131124.1119' OR obnm = 'achi131124.1124' OR obnm = 'achi131125.1119' OR obnm = 'achi131125.1121' OR obnm = 'achi131129.1124' OR obnm = 'achi131129.1126' OR obnm = 'achi131130.1119' OR obnm = 'achi131130.1121' OR obnm = 'achi131201.1127' OR obnm = 'achi131203.1119' OR obnm = 'achi131203.1121' OR obnm = 'achi131204.1119' OR obnm = 'achi131206.1119' OR obnm = 'achi131206.1121' OR obnm = 'achi131209.1119' OR obnm = 'achi131209.1121' OR obnm = 'achi131210.1119' OR obnm = 'achi131210.1121' OR obnm = 'achi131212.1122' OR obnm = 'achi131212.1124' OR obnm = 'achi131213.1119' OR obnm = 'achi131213.1121' OR obnm = 'achi131214.1119' OR obnm = 'achi131214.1121' OR obnm = 'achi131215.1119' OR obnm = 'achi131216.1120' OR obnm = 'achi131216.1122' OR obnm = 'achi131218.1119' OR obnm = 'achi131220.1119' OR obnm = 'achi131220.1121'\n",
        "end time: 1402666828.05"
       ]
      },
      {
       "output_type": "stream",
       "stream": "stdout",
       "text": [
        "\n",
        "('Processing time took: ', '11.8392879963', ' sec.')\n"
       ]
      }
     ],
     "prompt_number": 20
    },
    {
     "cell_type": "code",
     "collapsed": false,
     "input": [
      "rowObsId = cur.fetchall()\n",
      "print(rowObsId)\n"
     ],
     "language": "python",
     "metadata": {},
     "outputs": [
      {
       "output_type": "stream",
       "stream": "stdout",
       "text": [
        "((27415,), (27416,), (27417,), (27418,), (28119,), (32578,), (32579,), (32580,), (32839,), (32840,), (32841,), (32842,), (32843,), (32844,), (33371,), (33372,), (33373,), (33374,), (33375,), (33376,), (33671,), (33672,), (33673,), (33674,), (33675,), (33676,), (33969,), (33970,), (33971,), (33972,), (33973,), (33974,), (34275,), (34276,), (34277,), (34278,), (34279,), (34280,), (34575,), (34576,), (34577,), (34578,), (34579,), (34580,), (34886,), (34887,), (34888,), (34889,), (34890,), (34891,), (35182,), (35183,), (35184,), (35185,), (35186,), (35187,), (35744,), (35745,), (35746,), (35747,), (35748,), (35749,), (36300,), (36301,), (36302,), (36303,), (36304,), (36305,), (36312,), (36313,), (36314,), (36315,), (36316,), (36317,), (36615,), (36616,), (36617,), (36618,), (36619,), (36620,), (36921,), (36922,), (36923,), (37213,), (37214,), (37215,), (37216,), (37217,), (37218,), (37533,), (37534,), (37535,), (37536,), (37537,), (37538,), (38081,), (38082,), (38083,), (38084,), (38085,), (38086,), (38389,), (38390,), (38391,), (38392,), (38393,), (38394,), (38697,), (38698,), (38699,), (38700,), (39279,), (39280,), (39281,), (39282,), (39283,), (39284,), (42004,), (42005,), (42006,), (42007,), (42008,), (42009,), (42010,), (42011,), (42328,), (42329,), (42926,), (42930,), (42931,), (43539,), (43540,), (43541,), (43542,), (43544,), (43546,), (43547,), (43549,), (45420,), (45421,), (45422,), (45423,), (45732,), (45733,), (45734,), (45735,), (45736,), (45737,), (45738,), (45739,), (45740,), (46035,), (46036,), (46038,), (46039,), (46040,), (46041,), (46960,), (46961,), (46962,), (46963,), (46971,), (46972,), (46973,), (47260,), (47261,), (47262,), (47263,), (47553,), (47554,), (47555,), (47556,), (47567,), (47568,), (47569,), (47862,), (47863,), (47864,), (47865,), (48144,), (48145,), (48146,), (48147,), (48158,), (48159,), (48160,), (48967,), (48968,), (48969,), (48970,), (49290,), (49291,), (49292,), (49293,), (49994,), (49995,), (49996,), (49997,), (50818,), (50819,), (50820,), (50821,), (51084,), (51085,), (51086,), (51087,), (51940,), (51941,), (51942,), (51943,), (52684,), (52685,), (52686,), (52687,), (53256,), (53257,), (53258,), (53259,), (53260,), (53261,), (53262,), (53263,), (53536,), (53537,), (53538,), (53539,), (54172,), (54173,), (54174,), (54175,), (54498,), (54499,), (54500,), (54501,), (55089,), (55090,), (55091,), (55092,), (55684,), (55685,), (55686,), (55687,), (56273,), (56274,), (56275,), (56276,), (56280,), (56281,), (56282,), (56283,), (56565,), (56566,), (56567,), (56569,), (56571,), (56572,), (56573,), (56878,), (56879,), (56880,), (56881,), (57168,), (57169,), (57170,), (57171,), (57175,), (57176,), (57177,), (57178,), (57478,), (57479,), (57480,), (57481,), (57774,), (57775,), (57776,), (57777,), (57782,), (57783,), (57784,), (57785,), (58073,), (58074,), (58075,), (58076,), (58083,), (58084,), (58085,), (58086,), (58383,), (58384,), (58385,), (58386,), (58391,), (58392,), (58393,), (58394,), (58687,), (58688,), (58689,), (58690,), (58698,), (58699,), (58700,), (58701,), (58981,), (58982,), (60230,), (60231,), (60232,), (60233,), (60237,), (60238,), (60239,), (60240,), (60528,), (60529,), (60530,), (60531,), (60532,), (60533,), (60534,), (60535,), (60824,), (60825,), (60826,), (60827,), (60830,), (60831,), (60832,), (60833,), (61117,), (61118,), (61119,), (61120,), (61123,), (61124,), (61125,), (61126,), (61394,), (61395,), (61396,), (61397,), (61398,), (61399,), (61400,), (61401,), (61687,), (61688,), (61689,), (61690,), (61691,), (61692,), (61693,), (61694,), (61982,), (61983,), (61984,), (61985,), (62257,), (62258,), (62259,), (62260,), (62261,), (62262,), (62263,), (62264,), (62553,), (62554,), (62555,), (62556,), (62557,), (62558,), (62559,), (62560,), (62845,), (62846,), (62847,), (62848,), (62852,), (62853,), (62854,), (63280,), (63281,), (63282,), (63283,), (63284,), (63285,), (63286,), (63287,), (63575,), (63576,), (63577,), (63578,), (64124,), (64125,), (64126,), (64127,), (64131,), (64132,), (64133,), (64134,), (64285,), (64286,), (64287,), (64288,), (64289,), (64290,), (64291,), (64292,), (64581,), (64582,), (64583,), (64584,), (64853,), (64855,), (64856,), (64857,), (64858,), (64859,), (64860,), (65656,), (65657,), (65658,), (65659,), (65666,), (65667,), (65668,), (65669,), (65948,), (65949,), (65950,), (65951,), (65952,), (65953,), (65954,), (65955,), (66237,), (66238,), (66239,), (66240,), (66241,), (66242,), (66243,), (66244,), (66521,), (66522,), (66523,), (66524,), (66525,), (66526,), (66527,), (66528,), (66815,), (66816,), (66817,), (66818,), (66819,), (66820,), (66821,), (66822,), (67116,), (67117,), (67118,), (67119,), (67395,), (67396,), (67397,), (67398,), (67701,), (67702,), (67703,), (67704,), (68132,), (68133,), (68134,), (68135,), (68136,), (68137,), (68138,), (68139,), (68408,), (68409,), (68410,), (68411,), (68412,), (68413,), (68414,), (68415,), (68578,), (68579,), (68580,), (68581,), (69158,), (69159,), (69160,), (69161,), (69447,), (69448,), (69449,), (69450,), (69738,), (69739,), (69740,), (69741,), (70008,), (70009,), (70010,), (70011,), (70301,), (70302,), (70303,), (70304,), (71163,), (71164,), (71165,), (71166,), (71463,), (71464,), (71746,), (71747,), (71748,), (71749,), (72034,), (72035,), (72036,), (72037,), (72600,), (72601,), (72602,), (72603,), (72898,), (72899,), (72900,), (72901,), (73461,), (73462,), (73463,), (73464,), (73747,), (73748,), (73749,), (73750,), (74310,), (74311,), (74312,), (74313,), (75150,), (75151,), (75152,), (75153,), (75441,), (75442,), (75443,), (75444,), (75733,), (75734,), (75735,), (75736,), (76006,), (76007,), (76008,), (76009,), (76295,), (76296,), (76297,), (76298,), (76846,), (76847,), (76848,), (76849,), (77135,), (77136,), (77137,), (77422,), (77423,), (77424,), (77425,), (77697,), (77698,), (77699,), (77700,), (78640,), (78644,), (78647,), (78654,), (78907,), (78909,), (78913,), (78917,), (79199,), (79203,), (79206,), (79212,), (79486,), (79491,), (79495,), (79498,), (79748,), (79752,), (80263,), (80268,), (80274,), (80275,), (80530,), (80537,), (80540,), (80551,), (80822,), (80828,), (80831,), (80835,), (81107,), (81112,), (81121,), (81373,), (81378,), (81387,), (81639,), (81643,), (81647,), (81651,), (81933,), (81939,), (81942,), (81949,), (82224,), (82229,), (82238,), (82567,), (82571,), (82574,), (82857,), (82858,), (82862,), (82863,), (83144,), (83149,), (83412,), (83416,), (83420,), (83424,), (83700,), (83703,), (83707,), (83710,), (84255,), (84262,), (84265,), (84266,), (84553,), (84557,), (84560,), (85130,), (85137,), (85140,), (85419,), (85422,), (85718,), (85725,), (85988,), (85992,), (86256,), (86260,), (86263,), (86552,), (86555,), (87089,), (87090,), (87094,), (87777,), (87778,), (87780,), (87781,), (88066,), (88067,), (88069,), (88070,), (88354,), (88355,), (88357,), (88358,), (88640,), (88641,), (88645,), (88646,), (89253,), (89254,), (89257,), (89558,), (89559,), (89561,), (89846,), (89847,), (89849,), (91303,), (91304,), (91305,), (91306,), (91307,), (91585,), (91586,), (91587,), (91588,), (91589,), (91861,), (91862,), (91863,), (91864,), (92168,), (92169,), (92170,), (92171,), (92447,), (92448,), (92449,), (92450,), (92451,), (93703,), (93704,), (93705,), (93706,), (127452,), (127453,), (128245,), (128247,), (129634,), (129637,), (129955,), (129958,), (130578,), (131178,), (133346,), (133348,), (133621,), (133623,), (134205,), (134208,), (134494,), (134498,), (134799,), (134805,), (135325,), (135625,), (135632,), (135898,), (135903,), (136544,), (136549,), (136847,), (136849,), (136858,), (136859,), (137139,), (137150,), (137165,), (137444,), (137458,), (137463,), (138626,), (138630,), (139677,), (139682,), (139685,), (139688,), (139965,), (139969,), (140256,), (140260,), (140267,), (140795,), (140803,), (140806,), (141085,), (141086,), (141095,), (141371,), (141373,), (141776,), (141777,), (141786,), (142063,), (142071,), (142346,), (142355,), (142357,), (142905,), (142916,), (143201,), (143204,), (143209,), (143210,), (143211,), (143212,), (143490,), (143491,), (143495,), (143496,), (143501,), (143777,), (143778,), (144053,), (144054,), (144055,), (144349,), (144359,), (144656,), (144678,), (144943,), (144951,), (145226,), (145229,), (145233,), (145234,), (145237,), (145241,), (145242,), (145507,), (145519,), (145528,), (145529,), (145800,), (145809,), (145814,), (145815,), (145822,), (145823,), (145824,), (146095,), (146105,), (146108,), (146109,), (146114,), (146380,), (146391,), (146401,), (146670,), (146675,), (146676,), (146688,), (146693,), (146966,), (146972,), (146978,), (146992,), (147265,), (147269,), (147275,), (147283,), (147557,), (147565,), (147572,), (147578,), (147845,), (147850,), (147860,), (147867,), (148125,), (148130,), (148139,), (148145,), (148921,), (148928,), (148936,), (148952,), (149221,), (149238,), (149247,), (149655,), (149664,), (149673,), (149960,), (149969,), (149980,), (150253,), (150261,), (150274,), (151400,), (151416,), (151426,), (151427,), (151705,), (151721,), (151732,), (151996,), (152008,), (152019,), (152299,), (152454,), (153006,), (153013,), (153029,), (153297,), (153303,), (153312,), (153321,), (153582,), (153596,), (153602,), (153611,), (153872,), (153885,), (153894,), (153902,), (154174,), (154178,), (154454,), (154458,), (155007,), (155010,), (155012,), (155013,), (155016,), (155289,), (155294,), (155298,), (155307,), (155844,), (156123,), (156129,), (156144,), (156438,), (156445,), (156450,), (156737,), (156738,), (156762,), (156763,), (157037,), (157038,), (157039,), (157040,), (157041,), (157042,), (157360,), (157361,), (157370,), (157371,), (157378,), (157379,), (157381,), (157382,), (157640,), (157641,), (157645,), (157646,), (157652,), (157653,), (157654,), (157655,), (157923,), (157924,), (157931,), (157932,), (157937,), (157938,), (157946,), (157947,), (158210,), (158211,), (158215,), (158216,), (158221,), (158222,), (158490,), (158491,), (158493,), (158494,), (158497,), (158498,), (158760,), (158761,), (158763,), (158764,), (158773,), (158774,), (158783,), (158784,), (159056,), (159061,), (159062,), (159070,), (159071,), (159345,), (159346,), (159354,), (159355,), (159886,), (159887,), (159897,), (159898,), (160176,), (160177,), (160178,), (160179,), (160183,), (160184,), (160453,), (160454,), (160455,), (160456,), (160457,), (160458,), (160459,), (160462,), (160463,), (160473,), (160474,), (160616,), (160617,), (160622,), (160624,), (161195,), (161197,), (161204,), (161205,), (161207,), (161208,), (161480,), (161482,), (162054,), (162056,), (162450,), (162451,), (162452,), (162730,), (162732,), (163311,), (163313,), (163604,), (163606,), (163882,), (163884,), (164166,), (164168,), (164460,), (164461,), (164747,), (164749,), (166208,), (166210,), (166493,), (166495,), (167063,), (167068,), (167347,), (167349,), (168855,), (168857,), (169140,), (169142,), (169709,), (169711,), (169992,), (169994,), (170554,), (170556,), (170814,), (170816,), (171239,), (171241,), (171525,), (171807,), (171817,), (172080,), (172082,), (172367,), (172369,), (172934,), (173219,), (173225,), (173930,), (174213,), (174215,), (174500,), (174505,), (174779,), (174781,), (175798,), (175800,), (176084,), (176086,), (176386,), (176935,), (176937,), (177228,), (177775,), (177777,), (178606,), (178608,), (178891,), (178893,), (179455,), (179457,), (179730,), (179732,), (180005,), (180007,), (180294,), (180580,), (180582,), (181128,), (181675,), (181677,))\n"
       ]
      }
     ],
     "prompt_number": 21
    },
    {
     "cell_type": "markdown",
     "metadata": {},
     "source": [
      "Well this was a significant increase in performance! At least the first time I ran this, making separate queries for each observation_id took 484 seconds. Getting all of the observation_ids in one giant query took 0.04 seconds! Four orders of magnitude faster for the same problem is impressive! The only problem is cur.fetchall() didn't return the correct result the first time. I had to run this same snippet of code a few times before I got the correct results back. "
     ]
    },
    {
     "cell_type": "code",
     "collapsed": false,
     "input": [
      "cmdex = \"SELECT observation_id FROM observations WHERE obnm = 'achi120612.1118' OR obnm = 'achi120612.1119' OR obnm = 'achi120612.1120'\"\n",
      "cur.execute(cmdex)"
     ],
     "language": "python",
     "metadata": {},
     "outputs": [
      {
       "metadata": {},
       "output_type": "pyout",
       "prompt_number": 52,
       "text": [
        "3"
       ]
      }
     ],
     "prompt_number": 52
    },
    {
     "cell_type": "code",
     "collapsed": false,
     "input": [
      "rowObsId = cur.fetchall()\n",
      "print(rowObsId)"
     ],
     "language": "python",
     "metadata": {},
     "outputs": [
      {
       "output_type": "stream",
       "stream": "stdout",
       "text": [
        "((27415,), (27416,), (27417,))\n"
       ]
      }
     ],
     "prompt_number": 53
    },
    {
     "cell_type": "code",
     "collapsed": false,
     "input": [
      "def getIdlToSqlMapping():\n",
      "    \"\"\"This routine will retrieve the fields and \n",
      "    variable types of the table of interest.\"\"\"\n",
      "    mapping = pd.read_csv('tables/table2db.txt')\n",
      "    return mapping\n",
      "\n"
     ],
     "language": "python",
     "metadata": {},
     "outputs": [],
     "prompt_number": 32
    },
    {
     "cell_type": "code",
     "collapsed": false,
     "input": [
      "mapping = getIdlToSqlMapping()"
     ],
     "language": "python",
     "metadata": {},
     "outputs": [],
     "prompt_number": 33
    },
    {
     "cell_type": "code",
     "collapsed": false,
     "input": [
      "mapping.keys()"
     ],
     "language": "python",
     "metadata": {},
     "outputs": [
      {
       "metadata": {},
       "output_type": "pyout",
       "prompt_number": 24,
       "text": [
        "Index([u'fitsSourceFile', u'fitsKeyName', u'sqlDestTable', u'sqlColumnName'], dtype='object')"
       ]
      }
     ],
     "prompt_number": 24
    },
    {
     "cell_type": "code",
     "collapsed": false,
     "input": [
      "mapping[mapping.sqlDestTable == 'velocities']"
     ],
     "language": "python",
     "metadata": {},
     "outputs": [
      {
       "html": [
        "<div style=\"max-height:1000px;max-width:1500px;overflow:auto;\">\n",
        "<table border=\"1\" class=\"dataframe\">\n",
        "  <thead>\n",
        "    <tr style=\"text-align: right;\">\n",
        "      <th></th>\n",
        "      <th>fitsSourceFile</th>\n",
        "      <th>fitsKeyName</th>\n",
        "      <th>sqlDestTable</th>\n",
        "      <th>sqlColumnName</th>\n",
        "    </tr>\n",
        "  </thead>\n",
        "  <tbody>\n",
        "    <tr>\n",
        "      <th>141</th>\n",
        "      <td> vst</td>\n",
        "      <td>    OBNM</td>\n",
        "      <td> velocities</td>\n",
        "      <td>    obnm</td>\n",
        "    </tr>\n",
        "    <tr>\n",
        "      <th>142</th>\n",
        "      <td> vst</td>\n",
        "      <td>   IODNM</td>\n",
        "      <td> velocities</td>\n",
        "      <td>   iodnm</td>\n",
        "    </tr>\n",
        "    <tr>\n",
        "      <th>143</th>\n",
        "      <td> vst</td>\n",
        "      <td>      BC</td>\n",
        "      <td> velocities</td>\n",
        "      <td>      bc</td>\n",
        "    </tr>\n",
        "    <tr>\n",
        "      <th>144</th>\n",
        "      <td> vst</td>\n",
        "      <td>       Z</td>\n",
        "      <td> velocities</td>\n",
        "      <td>       z</td>\n",
        "    </tr>\n",
        "    <tr>\n",
        "      <th>145</th>\n",
        "      <td> vst</td>\n",
        "      <td>      JD</td>\n",
        "      <td> velocities</td>\n",
        "      <td>      jd</td>\n",
        "    </tr>\n",
        "    <tr>\n",
        "      <th>146</th>\n",
        "      <td> vst</td>\n",
        "      <td>   DEWAR</td>\n",
        "      <td> velocities</td>\n",
        "      <td>   dewar</td>\n",
        "    </tr>\n",
        "    <tr>\n",
        "      <th>147</th>\n",
        "      <td> vst</td>\n",
        "      <td>    GAIN</td>\n",
        "      <td> velocities</td>\n",
        "      <td>    gain</td>\n",
        "    </tr>\n",
        "    <tr>\n",
        "      <th>148</th>\n",
        "      <td> vst</td>\n",
        "      <td>     CTS</td>\n",
        "      <td> velocities</td>\n",
        "      <td>     cts</td>\n",
        "    </tr>\n",
        "    <tr>\n",
        "      <th>149</th>\n",
        "      <td> vst</td>\n",
        "      <td>   MNVEL</td>\n",
        "      <td> velocities</td>\n",
        "      <td>   mnvel</td>\n",
        "    </tr>\n",
        "    <tr>\n",
        "      <th>150</th>\n",
        "      <td> vst</td>\n",
        "      <td>   MDVEL</td>\n",
        "      <td> velocities</td>\n",
        "      <td>   mdvel</td>\n",
        "    </tr>\n",
        "    <tr>\n",
        "      <th>151</th>\n",
        "      <td> vst</td>\n",
        "      <td> MED_ALL</td>\n",
        "      <td> velocities</td>\n",
        "      <td> med_all</td>\n",
        "    </tr>\n",
        "    <tr>\n",
        "      <th>152</th>\n",
        "      <td> vst</td>\n",
        "      <td>  ERRVEL</td>\n",
        "      <td> velocities</td>\n",
        "      <td>  errvel</td>\n",
        "    </tr>\n",
        "    <tr>\n",
        "      <th>153</th>\n",
        "      <td> vst</td>\n",
        "      <td>   MDCHI</td>\n",
        "      <td> velocities</td>\n",
        "      <td>   mdchi</td>\n",
        "    </tr>\n",
        "    <tr>\n",
        "      <th>154</th>\n",
        "      <td> vst</td>\n",
        "      <td>  NCHUNK</td>\n",
        "      <td> velocities</td>\n",
        "      <td>  nchunk</td>\n",
        "    </tr>\n",
        "  </tbody>\n",
        "</table>\n",
        "<p>14 rows \u00d7 4 columns</p>\n",
        "</div>"
       ],
       "metadata": {},
       "output_type": "pyout",
       "prompt_number": 26,
       "text": [
        "    fitsSourceFile fitsKeyName sqlDestTable sqlColumnName\n",
        "141            vst        OBNM   velocities          obnm\n",
        "142            vst       IODNM   velocities         iodnm\n",
        "143            vst          BC   velocities            bc\n",
        "144            vst           Z   velocities             z\n",
        "145            vst          JD   velocities            jd\n",
        "146            vst       DEWAR   velocities         dewar\n",
        "147            vst        GAIN   velocities          gain\n",
        "148            vst         CTS   velocities           cts\n",
        "149            vst       MNVEL   velocities         mnvel\n",
        "150            vst       MDVEL   velocities         mdvel\n",
        "151            vst     MED_ALL   velocities       med_all\n",
        "152            vst      ERRVEL   velocities        errvel\n",
        "153            vst       MDCHI   velocities         mdchi\n",
        "154            vst      NCHUNK   velocities        nchunk\n",
        "\n",
        "[14 rows x 4 columns]"
       ]
      }
     ],
     "prompt_number": 26
    },
    {
     "cell_type": "code",
     "collapsed": false,
     "input": [
      "print(len(mapping[mapping.sqlDestTable == 'velocities']))"
     ],
     "language": "python",
     "metadata": {},
     "outputs": [
      {
       "output_type": "stream",
       "stream": "stdout",
       "text": [
        "14\n"
       ]
      }
     ],
     "prompt_number": 27
    },
    {
     "cell_type": "heading",
     "level": 3,
     "metadata": {},
     "source": [
      "Testing if an observation has already been added to a table"
     ]
    },
    {
     "cell_type": "markdown",
     "metadata": {},
     "source": [
      "Since SQL uses two different commands to INSERT or UPDATE a row in a table, I made a routine, `sqlObsExists`, that will check to see if a row with the given observation_id already exists in both the `velocities` and `psfs` tables. If the observation does indeed already exist, it will UPDATE it with the latest information. If the observation does not already exist, it will `INSERT` a new entry for that observation."
     ]
    },
    {
     "cell_type": "code",
     "collapsed": false,
     "input": [
      "#This normally goes through a loop, but we'll just test out the first observation:\n",
      "oidx = 0\n",
      "\n",
      "#first insert the correct observation_id for\n",
      "#the current observation in the loop:\n",
      "tableDict['velocities'].loc[tableDict['velocities']['fieldName'] == 'observation_id', 'obsValue'] = obsids[oidx][0]\n",
      "tableDict['psfs'].loc[tableDict['psfs']['fieldName'] == 'observation_id', 'obsValue'] = obsids[oidx][0]\n",
      "print(tableDict['velocities'].observation_id)"
     ],
     "language": "python",
     "metadata": {},
     "outputs": [
      {
       "output_type": "stream",
       "stream": "stdout",
       "text": [
        "27415\n"
       ]
      }
     ],
     "prompt_number": 173
    },
    {
     "cell_type": "code",
     "collapsed": false,
     "input": [
      "#now insert the rest of the values into tableDict\n",
      "for idx in range(len(idlSqlMap)):\n",
      "    if idlSqlMap.fitsSourceFile[idx] == 'vst':\n",
      "        #current SQL table name to write things to:\n",
      "        cTbNm = idlSqlMap.sqlDestTable[idx]\n",
      "\n",
      "        #location in the table to write the value to\n",
      "        colName = idlSqlMap.sqlColumnName[idx]\n",
      "        tabloc = np.where(tableDict[cTbNm].fieldName == colName)[0][0]\n",
      "\n",
      "        #if the IDL structure contains an array\n",
      "        #it will need to be broken up:\n",
      "        if idlSqlMap.arrIndex[idx] > -1:\n",
      "            arrIdx = int(idlSqlMap.arrIndex[idx])\n",
      "            fullArr = list(pdf[idlSqlMap.fitsKeyName[idx]][pidx])\n",
      "            newObsVal = fullArr[arrIdx]\n",
      "        else:\n",
      "            newObsVal = pdf[idlSqlMap.fitsKeyName[idx]][pidx]\n",
      "        tableDict[cTbNm].loc[tabloc, 'obsValue'] = newObsVal"
     ],
     "language": "python",
     "metadata": {},
     "outputs": [],
     "prompt_number": 174
    },
    {
     "cell_type": "code",
     "collapsed": false,
     "input": [
      "obsids[oidx][0]"
     ],
     "language": "python",
     "metadata": {},
     "outputs": [
      {
       "metadata": {},
       "output_type": "pyout",
       "prompt_number": 175,
       "text": [
        "27415"
       ]
      }
     ],
     "prompt_number": 175
    },
    {
     "cell_type": "code",
     "collapsed": false,
     "input": [
      "def sqlObsExists(obsid, tableName):\n",
      "    \"\"\"This routine will check to see if the observation already exists in\n",
      "    the SQL tables. This is necessary in order to determine if we should\n",
      "    UPDATE an existing line, or INSERT a new one.\"\"\"\n",
      "    cmd = \"SELECT * FROM \" + tableName\n",
      "    cmd += \" WHERE observation_id = \" + str(obsid)\n",
      "\n",
      "    #connect to the chiron database\n",
      "    conn = connectChironDB()\n",
      "    cur = conn.cursor()\n",
      "\n",
      "    cur.execute(cmd)\n",
      "    obnms = cur.fetchall()\n",
      "    return len(obnms) > 0\n"
     ],
     "language": "python",
     "metadata": {},
     "outputs": [],
     "prompt_number": 185
    },
    {
     "cell_type": "code",
     "collapsed": false,
     "input": [
      "#connect to the chiron database\n",
      "conn = connectChironDB()\n",
      "cur = conn.cursor()\n",
      "\n",
      "#check to see if the observation already exists in the velocities\n",
      "#and psfs tables. If so, we need to UPDATE the observation instead\n",
      "#of INSERTing a new one.\n",
      "obExists = sqlObsExists(obsids[oidx][0], 'velocities')\n",
      "print(obExists)\n",
      "print(obsids[oidx][0])"
     ],
     "language": "python",
     "metadata": {},
     "outputs": [
      {
       "output_type": "stream",
       "stream": "stdout",
       "text": [
        "True\n",
        "27415\n"
       ]
      }
     ],
     "prompt_number": 186
    },
    {
     "cell_type": "code",
     "collapsed": false,
     "input": [
      "def createInsertCmd(tableDict, tableName, update=False, obsid=-1):\n",
      "    \"\"\"This routine will create the command needed to INSERT or UPDATE\n",
      "    the velocities and psfs tables .\"\"\"\n",
      "    tblnm = tableName\n",
      "\n",
      "    if update is True:\n",
      "        if obsid < 0:\n",
      "            print(\"You need to enter the obsid.\")\n",
      "            return\n",
      "\n",
      "        cmd = \"UPDATE \" + tblnm + \" SET\"\n",
      "        for nidx in range(len(tableDict[tblnm]['obsValue'])):\n",
      "            colName = tableDict[tblnm].loc[nidx, 'fieldName']\n",
      "            newObsVal = str(tableDict[tblnm].loc[nidx, 'obsValue'])\n",
      "            #add quotes to strings, otherwise MySQL will reject it:\n",
      "            varType = tableDict[tblnm].loc[nidx, 'variableType'].strip()[0:3]\n",
      "            if (varType == 'var'):\n",
      "                newObsVal = \"'\"+newObsVal+\"'\"\n",
      "\n",
      "            cmd += \" \" + colName + \"=\" + newObsVal\n",
      "\n",
      "        cmd += \" WHERE observation_id=\"+obsid\n",
      "\n",
      "    else:\n",
      "        cmd = \"INSERT INTO \"+tblnm+\" (\"\n",
      "        colNames = []\n",
      "        obsVals = []\n",
      "        for nidx in range(len(tableDict[tblnm]['obsValue'])):\n",
      "            colNames.append(tableDict[tblnm].loc[nidx, 'fieldName'])\n",
      "            newObsVal = str(tableDict[tblnm].loc[nidx, 'obsValue'])\n",
      "            #add quotes to strings, otherwise MySQL will reject it:\n",
      "            varType = tableDict[tblnm].loc[nidx, 'variableType'].strip()[0:3]\n",
      "            if (varType == 'var'):\n",
      "                newObsVal = \"'\"+newObsVal+\"'\"\n",
      "            obsVals.append(newObsVal)\n",
      "\n",
      "        #now finish up the command to INSERT the observation:\n",
      "        cmd += \", \".join(colNames) + \") VALUES (\" + \", \".join(obsVals)+\")\"\n",
      "\n",
      "    print(cmd)\n",
      "    return cmd"
     ],
     "language": "python",
     "metadata": {},
     "outputs": [],
     "prompt_number": 187
    },
    {
     "cell_type": "code",
     "collapsed": false,
     "input": [
      "#print(obsids[oidx][0])\n",
      "#tableDict['velocities'].loc[tableDict['velocities']['fieldName'] == 'observation_id', 'obsValue'] = obsids[oidx][0]\n",
      "#tableDict['velocities'].__delitem__('observation_id')\n",
      "#tableDict['velocities']"
     ],
     "language": "python",
     "metadata": {},
     "outputs": [],
     "prompt_number": 179
    },
    {
     "cell_type": "code",
     "collapsed": false,
     "input": [
      "#now INSERT/UPDATE the line in the velocities table:\n",
      "cmd = createInsertCmd(tableDict, 'velocities', update=obExists,\n",
      "                      obsid=obsids[oidx])"
     ],
     "language": "python",
     "metadata": {},
     "outputs": [
      {
       "output_type": "stream",
       "stream": "stdout",
       "text": [
        "INSERT INTO velocities (velocity_id, observation_id, obnm, iodnm, bc, z, jd, dewar, gain, cts, mnvel, mdvel, med_all, errvel, mdchi, nchunk) VALUES (NULL, 27415, 'achi120612.1118', '?', 24283.4, 8.5054e-06, 16091.924664, 50, 1.3, 13301, 1.92405, -1.21875, 26832.3, 1.39177, 1.09944, 691)\n"
       ]
      }
     ],
     "prompt_number": 180
    },
    {
     "cell_type": "code",
     "collapsed": false,
     "input": [
      "cur.execute(cmd)\n",
      "conn.commit()"
     ],
     "language": "python",
     "metadata": {},
     "outputs": [],
     "prompt_number": 181
    },
    {
     "cell_type": "code",
     "collapsed": false,
     "input": [
      "#now repeat for the psfs table:\n",
      "obExists = sqlObsExists(obsids[oidx][0], 'psfs')"
     ],
     "language": "python",
     "metadata": {},
     "outputs": [],
     "prompt_number": 188
    },
    {
     "cell_type": "code",
     "collapsed": false,
     "input": [
      "cmd = createInsertCmd(tableDict, 'psfs', update=obExists,\n",
      "                      obsid=obsids[oidx])"
     ],
     "language": "python",
     "metadata": {},
     "outputs": [
      {
       "output_type": "stream",
       "stream": "stdout",
       "text": [
        "INSERT INTO psfs (psf_id, observation_id, mdpar1, mdpar2, mdpar3, mdpar4, mdpar5, mdpar6, mdpar7, mdpar8, mdpar9, mdpar10, mdpar11, mdpar12, mdpar13, mdpar14, mdpar15, mdpar16, mdpar17, mdpar18, mdpar19, mdpar20, mnpar1, mnpar2, mnpar3, mnpar4, mnpar5, mnpar6, mnpar7, mnpar8, mnpar9, mnpar10, mnpar11, mnpar12, mnpar13, mnpar14, mnpar15, mnpar16, mnpar17, mnpar18, mnpar19, mnpar20, sp1, sp2, spst, phase, psfpix1, psfpix2, psfpix3, psfpix4, psfpix5, psfpix6, psfpix7, psfpix8, psfpix9, psfpix10, psfpix11, psfpix12, psfpix13, psfpix14, psfpix15, psfsig1, psfsig2, psfsig3, psfsig4, psfsig5, psfsig6, psfsig7, psfsig8, psfsig9, psfsig10, psfsig11, psfsig12, psfsig13, psfsig14, psfsig15) VALUES (NULL, 27415, 0.0, 0.0, 0.0, 0.0, 0.0, 0.0, 0.0, 0.0, 0.0, 0.0, 0.0, 0.0, 0.0, 0.0, 0.0, 0.0, 0.0, 0.0, 0.0, 0.0, 0.0, 0.0, 0.0, 0.0, 0.0, 0.0, 0.0, 0.0, 0.0, 0.0, 0.0, 0.0, 0.0, 0.0, 0.0, 0.0, 0.0, 0.0, 0.0, 0.0, 0.0, 0.0, '?', 0.0, 0.0, -4.5, -3.2, -2.5, -1.8, -1.2, -0.8, -0.4, 0.4, 0.8, 1.2, 1.8, 2.5, 3.2, 4.5, 0.65, 1.4, 1.3, 1.1, 0.9, 0.8, 0.5, 0.4, 0.4, 0.5, 0.8, 0.9, 1.1, 1.3, 1.4)\n"
       ]
      }
     ],
     "prompt_number": 189
    },
    {
     "cell_type": "code",
     "collapsed": false,
     "input": [
      "cur.execute(cmd)\n",
      "conn.commit()"
     ],
     "language": "python",
     "metadata": {},
     "outputs": [],
     "prompt_number": 190
    },
    {
     "cell_type": "code",
     "collapsed": false,
     "input": [
      "pdf.IODNM"
     ],
     "language": "python",
     "metadata": {},
     "outputs": [
      {
       "metadata": {},
       "output_type": "pyout",
       "prompt_number": 117,
       "text": [
        "0     ?\n",
        "1     ?\n",
        "2     ?\n",
        "3     ?\n",
        "4     ?\n",
        "5     ?\n",
        "6     ?\n",
        "7     ?\n",
        "8     ?\n",
        "9     ?\n",
        "10    ?\n",
        "11    ?\n",
        "12    ?\n",
        "13    ?\n",
        "14    ?\n",
        "...\n",
        "1090    ?\n",
        "1091    ?\n",
        "1092    ?\n",
        "1093    ?\n",
        "1094    ?\n",
        "1095    ?\n",
        "1096    ?\n",
        "1097    ?\n",
        "1098    ?\n",
        "1099    ?\n",
        "1100    ?\n",
        "1101    ?\n",
        "1102    ?\n",
        "1103    ?\n",
        "1104    ?\n",
        "Name: IODNM, Length: 1105, dtype: object"
       ]
      }
     ],
     "prompt_number": 117
    },
    {
     "cell_type": "code",
     "collapsed": false,
     "input": [
      "cdir = 1\n",
      "starName = 10700\n",
      "#The two SQL tables that the IDL velocity structure save files\n",
      "#are written to:\n",
      "vstTableNames = ['velocities', 'psfs']\n",
      "\n",
      "#The text files that store column names and variable\n",
      "#types in the SQL velocity and psf tables:\n",
      "vstTableFileNames = ['tables/VelocityTable.txt', 'tables/PsfTable.txt']\n",
      "\n",
      "#How tag names in the IDL save structure map\n",
      "#to column names in the SQL tables:\n",
      "mappingTableFileName = 'tables/table2db.txt'\n",
      "\n",
      "#restore map\n",
      "idlSqlMap = getIdlToSqlMapping(mappingTableFileName)\n",
      "\n",
      "#restore the SQL table information to fill before writing to the DB\n",
      "tableDict = getTables(vstTableNames, vstTableFileNames)\n",
      "\n",
      "#restore the IDL velocity structure save file\n",
      "if cdir == 1:\n",
      "    adir = getAeroDir()\n",
      "    path = adir+'data/CHIRPS/rvs/'\n",
      "fullFileName = path+'vst'+str(starName)+'.dat'\n",
      "#pdf = idlToPandas(fullFileName)\n",
      "\n",
      "#get the observation_id elements from the SQL DB:\n",
      "obsids = getObservationIds(tableDict, pdf)"
     ],
     "language": "python",
     "metadata": {},
     "outputs": [
      {
       "output_type": "stream",
       "stream": "stdout",
       "text": [
        "pdf length: 1105\n",
        "obnm list length: 1105\n",
        "obsIds length: 1104"
       ]
      },
      {
       "output_type": "stream",
       "stream": "stdout",
       "text": [
        "\n"
       ]
      }
     ],
     "prompt_number": 22
    },
    {
     "cell_type": "code",
     "collapsed": false,
     "input": [
      "print(len(obsids))"
     ],
     "language": "python",
     "metadata": {},
     "outputs": [
      {
       "output_type": "stream",
       "stream": "stdout",
       "text": [
        "1104\n"
       ]
      }
     ],
     "prompt_number": 23
    },
    {
     "cell_type": "code",
     "collapsed": false,
     "input": [
      "print(len(pdf))\n",
      "print(pdf.shape[0])"
     ],
     "language": "python",
     "metadata": {},
     "outputs": [
      {
       "output_type": "stream",
       "stream": "stdout",
       "text": [
        "1105\n",
        "1105\n"
       ]
      }
     ],
     "prompt_number": 24
    },
    {
     "cell_type": "code",
     "collapsed": false,
     "input": [
      "print(pdf.OBNM[0])\n",
      "print(pdf.OBNM[1104])"
     ],
     "language": "python",
     "metadata": {},
     "outputs": [
      {
       "output_type": "stream",
       "stream": "stdout",
       "text": [
        "achi120612.1118\n",
        "achi131220.1121\n"
       ]
      }
     ],
     "prompt_number": 25
    },
    {
     "cell_type": "code",
     "collapsed": false,
     "input": [
      "print(obsids[0])\n",
      "print(obsids[1103])"
     ],
     "language": "python",
     "metadata": {},
     "outputs": [
      {
       "output_type": "stream",
       "stream": "stdout",
       "text": [
        "(27415,)\n",
        "(181677,)\n"
       ]
      }
     ],
     "prompt_number": 26
    },
    {
     "cell_type": "code",
     "collapsed": false,
     "input": [
      "#for i in range(len(pdf)):\n",
      "#    print pdf.OBNM[i], obsids[i]"
     ],
     "language": "python",
     "metadata": {},
     "outputs": [],
     "prompt_number": 27
    },
    {
     "cell_type": "code",
     "collapsed": false,
     "input": [
      "def getObservationIds(tableDict, pdf):\n",
      "    \"\"\"The purpose of this routine is to retrieve the observation_ids\n",
      "    from the database for all observations in the VST structures. It\n",
      "    will add the observation_ids as a new column in both the velocities\n",
      "    and psfs tables.\"\"\"\n",
      "\n",
      "    #connect to the chiron database\n",
      "    conn = connectChironDB()\n",
      "    cur = conn.cursor()\n",
      "\n",
      "    #now create a list of the OBNM names (e.g. 'achi140402.1234')\n",
      "    obnmlist = [rowobnm for rowobnm in pdf.OBNM]\n",
      "    #for row in range(pdf.shape[0]):\n",
      "    #    rowobnm = pdf.OBNM[row]\n",
      "    #    obnmlist.append(rowobnm)\n",
      "\n",
      "    #now join all the obnms together in one giant string\n",
      "    #for the WHERE query clause. Issuing one giant query\n",
      "    #instead of one for each observation reduces run time\n",
      "    #by as much as a factor of 10000:\n",
      "    obnmstring = \"' OR obnm = '\".join(obnmlist)\n",
      "\n",
      "    #create the command that will retrieve the proper observation\n",
      "    #ids for adding the observations to the velocity and psf tables\n",
      "    cmd = \"SELECT observation_id FROM observations WHERE obnm = '\"\n",
      "    cmd += str(obnmstring) + \"'\"\n",
      "\n",
      "    #execute the command and fetch the observation_ids:\n",
      "    cur.execute(cmd)\n",
      "    obsIds = cur.fetchall()\n",
      "    conn.close()\n",
      "    return obsIds, obnmlist"
     ],
     "language": "python",
     "metadata": {},
     "outputs": [],
     "prompt_number": 86
    },
    {
     "cell_type": "code",
     "collapsed": false,
     "input": [
      "#get the observation_id elements from the SQL DB:\n",
      "obsIds, obnmlist = getObservationIds(tableDict, pdf)"
     ],
     "language": "python",
     "metadata": {},
     "outputs": [],
     "prompt_number": 87
    },
    {
     "cell_type": "code",
     "collapsed": false,
     "input": [
      "print(len(obsIds))\n",
      "print(len(obnmlist))"
     ],
     "language": "python",
     "metadata": {},
     "outputs": [
      {
       "output_type": "stream",
       "stream": "stdout",
       "text": [
        "1105\n",
        "1105\n"
       ]
      }
     ],
     "prompt_number": 88
    },
    {
     "cell_type": "code",
     "collapsed": false,
     "input": [
      "for "
     ],
     "language": "python",
     "metadata": {},
     "outputs": []
    },
    {
     "cell_type": "code",
     "collapsed": false,
     "input": [
      "#connect to the chiron database\n",
      "conn = connectChironDB()\n",
      "cur = conn.cursor()"
     ],
     "language": "python",
     "metadata": {},
     "outputs": [],
     "prompt_number": 72
    },
    {
     "cell_type": "code",
     "collapsed": false,
     "input": [
      "print(\"The resulting obsIds did not have the same length\")\n",
      "print(\"As the input list of observations.\")\n",
      "print(\"pdf length: \"+str(len(pdf)))\n",
      "print(\"obnm list length: \"+str(len(obnmlist)))\n",
      "print(\"obsids length: \"+str(len(obsids)))\n",
      "print(\"Now creating a temporary table to \")\n",
      "cur.execute(\"CREATE TABLE tempObnms (obnm varchar(64))\")\n",
      "cur.execute(\"CREATE TABLE tempObsIds (observation_id INT)\")"
     ],
     "language": "python",
     "metadata": {},
     "outputs": [
      {
       "output_type": "stream",
       "stream": "stdout",
       "text": [
        "The resulting obsIds did not have the same length\n",
        "As the input list of observations.\n",
        "pdf length: 1105\n",
        "obnm list length: 1105\n",
        "obsids length: 1104\n",
        "Now creating a temporary table to \n"
       ]
      },
      {
       "metadata": {},
       "output_type": "pyout",
       "prompt_number": 62,
       "text": [
        "0"
       ]
      }
     ],
     "prompt_number": 62
    },
    {
     "cell_type": "code",
     "collapsed": false,
     "input": [
      "conn.close()"
     ],
     "language": "python",
     "metadata": {},
     "outputs": [],
     "prompt_number": 67
    },
    {
     "cell_type": "code",
     "collapsed": false,
     "input": [],
     "language": "python",
     "metadata": {},
     "outputs": [
      {
       "metadata": {},
       "output_type": "pyout",
       "prompt_number": 83,
       "text": [
        "(27415,)"
       ]
      }
     ],
     "prompt_number": 83
    },
    {
     "cell_type": "markdown",
     "metadata": {},
     "source": [
      "This snippet converts from a tuple of single tuples of ints to a list of strings"
     ]
    },
    {
     "cell_type": "code",
     "collapsed": false,
     "input": [
      "oilist = [str(i[0]) for i in obsIds]"
     ],
     "language": "python",
     "metadata": {},
     "outputs": [],
     "prompt_number": 58
    },
    {
     "cell_type": "code",
     "collapsed": false,
     "input": [
      "obList = \"'),('\".join(obnmlist)\n",
      "obList = \"('\" + obList + \"')\"\n",
      "obsidstring = \"),(\".join(oilist)\n",
      "obsIdList = \"(\" + obsidstring + \")\"\n",
      "\n",
      "print(len(obnmlist))\n",
      "print(len(obsIds))"
     ],
     "language": "python",
     "metadata": {},
     "outputs": [
      {
       "output_type": "stream",
       "stream": "stdout",
       "text": [
        "1105\n",
        "1104\n"
       ]
      }
     ],
     "prompt_number": 59
    },
    {
     "cell_type": "code",
     "collapsed": false,
     "input": [
      "cmd = \"INSERT INTO tempObnms (obnm) VALUES\" + obList\n",
      "cmd2 = \"INSERT INTO tempObsIds (observation_id) VALUES\" + obsIdList\n",
      "print(cmd2)"
     ],
     "language": "python",
     "metadata": {},
     "outputs": [
      {
       "output_type": "stream",
       "stream": "stdout",
       "text": [
        "INSERT INTO tempObsIds (observation_id) VALUES(27415),(27416),(27417),(27418),(28119),(32578),(32579),(32580),(32839),(32840),(32841),(32842),(32843),(32844),(33371),(33372),(33373),(33374),(33375),(33376),(33671),(33672),(33673),(33674),(33675),(33676),(33969),(33970),(33971),(33972),(33973),(33974),(34275),(34276),(34277),(34278),(34279),(34280),(34575),(34576),(34577),(34578),(34579),(34580),(34886),(34887),(34888),(34889),(34890),(34891),(35182),(35183),(35184),(35185),(35186),(35187),(35744),(35745),(35746),(35747),(35748),(35749),(36300),(36301),(36302),(36303),(36304),(36305),(36312),(36313),(36314),(36315),(36316),(36317),(36615),(36616),(36617),(36618),(36619),(36620),(36921),(36922),(36923),(37213),(37214),(37215),(37216),(37217),(37218),(37533),(37534),(37535),(37536),(37537),(37538),(38081),(38082),(38083),(38084),(38085),(38086),(38389),(38390),(38391),(38392),(38393),(38394),(38697),(38698),(38699),(38700),(39279),(39280),(39281),(39282),(39283),(39284),(42004),(42005),(42006),(42007),(42008),(42009),(42010),(42011),(42328),(42329),(42926),(42930),(42931),(43539),(43540),(43541),(43542),(43544),(43546),(43547),(43549),(45420),(45421),(45422),(45423),(45732),(45733),(45734),(45735),(45736),(45737),(45738),(45739),(45740),(46035),(46036),(46038),(46039),(46040),(46041),(46960),(46961),(46962),(46963),(46971),(46972),(46973),(47260),(47261),(47262),(47263),(47553),(47554),(47555),(47556),(47567),(47568),(47569),(47862),(47863),(47864),(47865),(48144),(48145),(48146),(48147),(48158),(48159),(48160),(48967),(48968),(48969),(48970),(49290),(49291),(49292),(49293),(49994),(49995),(49996),(49997),(50818),(50819),(50820),(50821),(51084),(51085),(51086),(51087),(51940),(51941),(51942),(51943),(52684),(52685),(52686),(52687),(53256),(53257),(53258),(53259),(53260),(53261),(53262),(53263),(53536),(53537),(53538),(53539),(54172),(54173),(54174),(54175),(54498),(54499),(54500),(54501),(55089),(55090),(55091),(55092),(55684),(55685),(55686),(55687),(56273),(56274),(56275),(56276),(56280),(56281),(56282),(56283),(56565),(56566),(56567),(56569),(56571),(56572),(56573),(56878),(56879),(56880),(56881),(57168),(57169),(57170),(57171),(57175),(57176),(57177),(57178),(57478),(57479),(57480),(57481),(57774),(57775),(57776),(57777),(57782),(57783),(57784),(57785),(58073),(58074),(58075),(58076),(58083),(58084),(58085),(58086),(58383),(58384),(58385),(58386),(58391),(58392),(58393),(58394),(58687),(58688),(58689),(58690),(58698),(58699),(58700),(58701),(58981),(58982),(60230),(60231),(60232),(60233),(60237),(60238),(60239),(60240),(60528),(60529),(60530),(60531),(60532),(60533),(60534),(60535),(60824),(60825),(60826),(60827),(60830),(60831),(60832),(60833),(61117),(61118),(61119),(61120),(61123),(61124),(61125),(61126),(61394),(61395),(61396),(61397),(61398),(61399),(61400),(61401),(61687),(61688),(61689),(61690),(61691),(61692),(61693),(61694),(61982),(61983),(61984),(61985),(62257),(62258),(62259),(62260),(62261),(62262),(62263),(62264),(62553),(62554),(62555),(62556),(62557),(62558),(62559),(62560),(62845),(62846),(62847),(62848),(62852),(62853),(62854),(63280),(63281),(63282),(63283),(63284),(63285),(63286),(63287),(63575),(63576),(63577),(63578),(64124),(64125),(64126),(64127),(64131),(64132),(64133),(64134),(64285),(64286),(64287),(64288),(64289),(64290),(64291),(64292),(64581),(64582),(64583),(64584),(64853),(64855),(64856),(64857),(64858),(64859),(64860),(65656),(65657),(65658),(65659),(65666),(65667),(65668),(65669),(65948),(65949),(65950),(65951),(65952),(65953),(65954),(65955),(66237),(66238),(66239),(66240),(66241),(66242),(66243),(66244),(66521),(66522),(66523),(66524),(66525),(66526),(66527),(66528),(66815),(66816),(66817),(66818),(66819),(66820),(66821),(66822),(67116),(67117),(67118),(67119),(67395),(67396),(67397),(67398),(67701),(67702),(67703),(67704),(68132),(68133),(68134),(68135),(68136),(68137),(68138),(68139),(68408),(68409),(68410),(68411),(68412),(68413),(68414),(68415),(68578),(68579),(68580),(68581),(69158),(69159),(69160),(69161),(69447),(69448),(69449),(69450),(69738),(69739),(69740),(69741),(70008),(70009),(70010),(70011),(70301),(70302),(70303),(70304),(71163),(71164),(71165),(71166),(71463),(71464),(71746),(71747),(71748),(71749),(72034),(72035),(72036),(72037),(72600),(72601),(72602),(72603),(72898),(72899),(72900),(72901),(73461),(73462),(73463),(73464),(73747),(73748),(73749),(73750),(74310),(74311),(74312),(74313),(75150),(75151),(75152),(75153),(75441),(75442),(75443),(75444),(75733),(75734),(75735),(75736),(76006),(76007),(76008),(76009),(76295),(76296),(76297),(76298),(76846),(76847),(76848),(76849),(77135),(77136),(77137),(77422),(77423),(77424),(77425),(77697),(77698),(77699),(77700),(78640),(78644),(78647),(78654),(78907),(78909),(78913),(78917),(79199),(79203),(79206),(79212),(79486),(79491),(79495),(79498),(79748),(79752),(80263),(80268),(80274),(80275),(80530),(80537),(80540),(80551),(80822),(80828),(80831),(80835),(81107),(81112),(81121),(81373),(81378),(81387),(81639),(81643),(81647),(81651),(81933),(81939),(81942),(81949),(82224),(82229),(82238),(82567),(82571),(82574),(82857),(82858),(82862),(82863),(83144),(83149),(83412),(83416),(83420),(83424),(83700),(83703),(83707),(83710),(84255),(84262),(84265),(84266),(84553),(84557),(84560),(85130),(85137),(85140),(85419),(85422),(85718),(85725),(85988),(85992),(86256),(86260),(86263),(86552),(86555),(87089),(87090),(87094),(87777),(87778),(87780),(87781),(88066),(88067),(88069),(88070),(88354),(88355),(88357),(88358),(88640),(88641),(88645),(88646),(89253),(89254),(89257),(89558),(89559),(89561),(89846),(89847),(89849),(91303),(91304),(91305),(91306),(91307),(91585),(91586),(91587),(91588),(91589),(91861),(91862),(91863),(91864),(92168),(92169),(92170),(92171),(92447),(92448),(92449),(92450),(92451),(93703),(93704),(93705),(93706),(127452),(127453),(128245),(128247),(129634),(129637),(129955),(129958),(130578),(131178),(133346),(133348),(133621),(133623),(134205),(134208),(134494),(134498),(134799),(134805),(135325),(135625),(135632),(135898),(135903),(136544),(136549),(136847),(136849),(136858),(136859),(137139),(137150),(137165),(137444),(137458),(137463),(138626),(138630),(139677),(139682),(139685),(139688),(139965),(139969),(140256),(140260),(140267),(140795),(140803),(140806),(141085),(141086),(141095),(141371),(141373),(141776),(141777),(141786),(142063),(142071),(142346),(142355),(142357),(142905),(142916),(143201),(143204),(143209),(143210),(143211),(143212),(143490),(143491),(143495),(143496),(143501),(143777),(143778),(144053),(144054),(144055),(144349),(144359),(144656),(144678),(144943),(144951),(145226),(145229),(145233),(145234),(145237),(145241),(145242),(145507),(145519),(145528),(145529),(145800),(145809),(145814),(145815),(145822),(145823),(145824),(146095),(146105),(146108),(146109),(146114),(146380),(146391),(146401),(146670),(146675),(146676),(146688),(146693),(146966),(146972),(146978),(146992),(147265),(147269),(147275),(147283),(147557),(147565),(147572),(147578),(147845),(147850),(147860),(147867),(148125),(148130),(148139),(148145),(148921),(148928),(148936),(148952),(149221),(149238),(149247),(149655),(149664),(149673),(149960),(149969),(149980),(150253),(150261),(150274),(151400),(151416),(151426),(151427),(151705),(151721),(151732),(151996),(152008),(152019),(152299),(152454),(153006),(153013),(153029),(153297),(153303),(153312),(153321),(153582),(153596),(153602),(153611),(153872),(153885),(153894),(153902),(154174),(154178),(154454),(154458),(155007),(155010),(155012),(155013),(155016),(155289),(155294),(155298),(155307),(155844),(156123),(156129),(156144),(156438),(156445),(156450),(156737),(156738),(156762),(156763),(157037),(157038),(157039),(157040),(157041),(157042),(157360),(157361),(157370),(157371),(157378),(157379),(157381),(157382),(157640),(157641),(157645),(157646),(157652),(157653),(157654),(157655),(157923),(157924),(157931),(157932),(157937),(157938),(157946),(157947),(158210),(158211),(158215),(158216),(158221),(158222),(158490),(158491),(158493),(158494),(158497),(158498),(158760),(158761),(158763),(158764),(158773),(158774),(158783),(158784),(159056),(159061),(159062),(159070),(159071),(159345),(159346),(159354),(159355),(159886),(159887),(159897),(159898),(160176),(160177),(160178),(160179),(160183),(160184),(160453),(160454),(160455),(160456),(160457),(160458),(160459),(160462),(160463),(160473),(160474),(160616),(160617),(160622),(160624),(161195),(161197),(161204),(161205),(161207),(161208),(161480),(161482),(162054),(162056),(162450),(162451),(162452),(162730),(162732),(163311),(163313),(163604),(163606),(163882),(163884),(164166),(164168),(164460),(164461),(164747),(164749),(166208),(166210),(166493),(166495),(167063),(167068),(167347),(167349),(168855),(168857),(169140),(169142),(169709),(169711),(169992),(169994),(170554),(170556),(170814),(170816),(171239),(171241),(171525),(171807),(171817),(172080),(172082),(172367),(172369),(172934),(173219),(173225),(173930),(174213),(174215),(174500),(174505),(174779),(174781),(175798),(175800),(176084),(176086),(176386),(176935),(176937),(177228),(177775),(177777),(178606),(178608),(178891),(178893),(179455),(179457),(179730),(179732),(180005),(180007),(180294),(180580),(180582),(181128),(181675),(181677)\n"
       ]
      }
     ],
     "prompt_number": 63
    },
    {
     "cell_type": "code",
     "collapsed": false,
     "input": [
      "cur.execute(cmd)"
     ],
     "language": "python",
     "metadata": {},
     "outputs": [
      {
       "metadata": {},
       "output_type": "pyout",
       "prompt_number": 64,
       "text": [
        "1105"
       ]
      }
     ],
     "prompt_number": 64
    },
    {
     "cell_type": "code",
     "collapsed": false,
     "input": [
      "cur.execute(cmd2)"
     ],
     "language": "python",
     "metadata": {},
     "outputs": [
      {
       "metadata": {},
       "output_type": "pyout",
       "prompt_number": 65,
       "text": [
        "1104"
       ]
      }
     ],
     "prompt_number": 65
    },
    {
     "cell_type": "code",
     "collapsed": false,
     "input": [
      "conn.commit()"
     ],
     "language": "python",
     "metadata": {},
     "outputs": [],
     "prompt_number": 73
    },
    {
     "cell_type": "code",
     "collapsed": false,
     "input": [
      "cur.execute(\"SELECT * FROM observations as o INNER JOIN tempobnms as t ON t.obnm=o.obnm\")"
     ],
     "language": "python",
     "metadata": {},
     "outputs": [
      {
       "metadata": {},
       "output_type": "pyout",
       "prompt_number": 79,
       "text": [
        "1104"
       ]
      }
     ],
     "prompt_number": 79
    },
    {
     "cell_type": "code",
     "collapsed": false,
     "input": [
      "cur.fetchall()"
     ],
     "language": "python",
     "metadata": {},
     "outputs": [
      {
       "metadata": {},
       "output_type": "pyout",
       "prompt_number": 78,
       "text": [
        "()"
       ]
      }
     ],
     "prompt_number": 78
    },
    {
     "cell_type": "code",
     "collapsed": false,
     "input": [
      "conn.close()"
     ],
     "language": "python",
     "metadata": {},
     "outputs": [],
     "prompt_number": 80
    },
    {
     "cell_type": "code",
     "collapsed": false,
     "input": [
      "cur.execute(\"SELECT obnm from tempObnms\")"
     ],
     "language": "python",
     "metadata": {},
     "outputs": [
      {
       "metadata": {},
       "output_type": "pyout",
       "prompt_number": 71,
       "text": [
        "1105"
       ]
      }
     ],
     "prompt_number": 71
    },
    {
     "cell_type": "code",
     "collapsed": false,
     "input": [
      "newobnmlist = cur.fetchall()"
     ],
     "language": "python",
     "metadata": {},
     "outputs": [],
     "prompt_number": 72
    },
    {
     "cell_type": "code",
     "collapsed": false,
     "input": [
      "len(newobnmlist)"
     ],
     "language": "python",
     "metadata": {},
     "outputs": [
      {
       "metadata": {},
       "output_type": "pyout",
       "prompt_number": 74,
       "text": [
        "1105"
       ]
      }
     ],
     "prompt_number": 74
    },
    {
     "cell_type": "code",
     "collapsed": false,
     "input": [
      "#for i in range(len(newobnmlist)):\n",
      "#    print(i, obnmlist[i], newobnmlist[i])"
     ],
     "language": "python",
     "metadata": {},
     "outputs": [],
     "prompt_number": 68
    },
    {
     "cell_type": "code",
     "collapsed": false,
     "input": [
      "for row in range(pdf.shape[0]):\n",
      "    print(pdf.OBNM[row])"
     ],
     "language": "python",
     "metadata": {},
     "outputs": [
      {
       "output_type": "stream",
       "stream": "stdout",
       "text": [
        "achi120612.1118\n",
        "achi120612.1119\n",
        "achi120612.1120\n",
        "achi120612.1121\n",
        "achi120615.1164\n",
        "achi120703.1113\n",
        "achi120703.1114\n",
        "achi120703.1115\n",
        "achi120704.1144\n",
        "achi120704.1145\n",
        "achi120704.1146\n",
        "achi120704.1147\n",
        "achi120704.1148\n",
        "achi120704.1149\n",
        "achi120706.1139\n",
        "achi120706.1140\n",
        "achi120706.1141\n",
        "achi120706.1142\n",
        "achi120706.1143\n",
        "achi120706.1144\n",
        "achi120707.1170\n",
        "achi120707.1171\n",
        "achi120707.1172\n",
        "achi120707.1173\n",
        "achi120707.1174\n",
        "achi120707.1175\n",
        "achi120708.1165\n",
        "achi120708.1166\n",
        "achi120708.1167\n",
        "achi120708.1168\n",
        "achi120708.1169\n",
        "achi120708.1170\n",
        "achi120709.1180\n",
        "achi120709.1181\n",
        "achi120709.1182\n",
        "achi120709.1183\n",
        "achi120709.1184\n",
        "achi120709.1185\n",
        "achi120710.1148\n",
        "achi120710.1149\n",
        "achi120710.1150\n",
        "achi120710.1151\n",
        "achi120710.1152\n",
        "achi120710.1153\n",
        "achi120711.1156\n",
        "achi120711.1157\n",
        "achi120711.1158\n",
        "achi120711.1159\n",
        "achi120711.1160\n",
        "achi120711.1161\n",
        "achi120712.1148\n",
        "achi120712.1149\n",
        "achi120712.1150\n",
        "achi120712.1151\n",
        "achi120712.1152\n",
        "achi120712.1153\n",
        "achi120714.1155\n",
        "achi120714.1156\n",
        "achi120714.1157\n",
        "achi120714.1158\n",
        "achi120714.1159\n",
        "achi120714.1160\n",
        "achi120716.1158\n",
        "achi120716.1159\n",
        "achi120716.1160\n",
        "achi120716.1161\n",
        "achi120716.1162\n",
        "achi120716.1163\n",
        "achi120716.1170\n",
        "achi120716.1171\n",
        "achi120716.1172\n",
        "achi120716.1173\n",
        "achi120716.1174\n",
        "achi120716.1175\n",
        "achi120717.1155\n",
        "achi120717.1156\n",
        "achi120717.1157\n",
        "achi120717.1158\n",
        "achi120717.1159\n",
        "achi120717.1160\n",
        "achi120718.1156\n",
        "achi120718.1157\n",
        "achi120718.1158\n",
        "achi120719.1155\n",
        "achi120719.1156\n",
        "achi120719.1157\n",
        "achi120719.1158\n",
        "achi120719.1159\n",
        "achi120719.1160\n",
        "achi120720.1174\n",
        "achi120720.1175\n",
        "achi120720.1176\n",
        "achi120720.1177\n",
        "achi120720.1178\n",
        "achi120720.1179\n",
        "achi120722.1147\n",
        "achi120722.1148\n",
        "achi120722.1149\n",
        "achi120722.1150\n",
        "achi120722.1151\n",
        "achi120722.1152\n",
        "achi120723.1157\n",
        "achi120723.1158\n",
        "achi120723.1159\n",
        "achi120723.1160\n",
        "achi120723.1161\n",
        "achi120723.1162\n",
        "achi120724.1159\n",
        "achi120724.1160\n",
        "achi120724.1161\n",
        "achi120724.1162\n",
        "achi120726.1137\n",
        "achi120726.1138\n",
        "achi120726.1139\n",
        "achi120726.1140\n",
        "achi120726.1141\n",
        "achi120726.1142\n",
        "achi120806.1123\n",
        "achi120806.1124\n",
        "achi120806.1125\n",
        "achi120806.1126\n",
        "achi120806.1127\n",
        "achi120806.1128\n",
        "achi120806.1129\n",
        "achi120806.1130\n",
        "achi120807.1169\n",
        "achi120807.1170\n",
        "achi120809.1171\n",
        "achi120809.1175\n",
        "achi120809.1176\n",
        "achi120811.1164\n",
        "achi120811.1165\n",
        "achi120811.1166\n",
        "achi120811.1167\n",
        "achi120811.1169\n",
        "achi120811.1171\n",
        "achi120811.1172\n",
        "achi120811.1174\n",
        "achi120818.1153\n",
        "achi120818.1154\n",
        "achi120818.1155\n",
        "achi120818.1156\n",
        "achi120819.1160\n",
        "achi120819.1161\n",
        "achi120819.1162\n",
        "achi120819.1163\n",
        "achi120819.1164\n",
        "achi120819.1165\n",
        "achi120819.1166\n",
        "achi120819.1167\n",
        "achi120819.1168\n",
        "achi120820.1156\n",
        "achi120820.1157\n",
        "achi120820.1159\n",
        "achi120820.1160\n",
        "achi120820.1161\n",
        "achi120820.1162\n",
        "achi120824.1133\n",
        "achi120824.1134\n",
        "achi120824.1135\n",
        "achi120824.1136\n",
        "achi120824.1144\n",
        "achi120824.1145\n",
        "achi120824.1146\n",
        "achi120825.1148\n",
        "achi120825.1149\n",
        "achi120825.1150\n",
        "achi120825.1151\n",
        "achi120826.1129\n",
        "achi120826.1130\n",
        "achi120826.1131\n",
        "achi120826.1132\n",
        "achi120826.1143\n",
        "achi120826.1144\n",
        "achi120826.1145\n",
        "achi120827.1154\n",
        "achi120827.1155\n",
        "achi120827.1156\n",
        "achi120827.1157\n",
        "achi120828.1128\n",
        "achi120828.1129\n",
        "achi120828.1130\n",
        "achi120828.1131\n",
        "achi120828.1142\n",
        "achi120828.1143\n",
        "achi120828.1144\n",
        "achi120831.1145\n",
        "achi120831.1146\n",
        "achi120831.1147\n",
        "achi120831.1148\n",
        "achi120901.1162\n",
        "achi120901.1163\n",
        "achi120901.1164\n",
        "achi120901.1165\n",
        "achi120904.1125\n",
        "achi120904.1126\n",
        "achi120904.1127\n",
        "achi120904.1128\n",
        "achi120907.1129\n",
        "achi120907.1130\n",
        "achi120907.1131\n",
        "achi120907.1132\n",
        "achi120908.1122\n",
        "achi120908.1123\n",
        "achi120908.1124\n",
        "achi120908.1125\n",
        "achi120911.1161\n",
        "achi120911.1162\n",
        "achi120911.1163\n",
        "achi120911.1164\n",
        "achi120913.1167\n",
        "achi120913.1168\n",
        "achi120913.1169\n",
        "achi120913.1170\n",
        "achi120915.1417\n",
        "achi120915.1418\n",
        "achi120915.1419\n",
        "achi120915.1420\n",
        "achi120915.1421\n",
        "achi120915.1422\n",
        "achi120915.1423\n",
        "achi120915.1424\n",
        "achi120916.1118\n",
        "achi120916.1119\n",
        "achi120916.1120\n",
        "achi120916.1121\n",
        "achi120918.1118\n",
        "achi120918.1119\n",
        "achi120918.1120\n",
        "achi120918.1121\n",
        "achi120919.1166\n",
        "achi120919.1167\n",
        "achi120919.1168\n",
        "achi120919.1169\n",
        "achi120921.1164\n",
        "achi120921.1165\n",
        "achi120921.1166\n",
        "achi120921.1167\n",
        "achi120923.1153\n",
        "achi120923.1154\n",
        "achi120923.1155\n",
        "achi120923.1156\n",
        "achi120925.1155\n",
        "achi120925.1156\n",
        "achi120925.1157\n",
        "achi120925.1158\n",
        "achi120925.1162\n",
        "achi120925.1163\n",
        "achi120925.1164\n",
        "achi120925.1165\n",
        "achi120926.1140\n",
        "achi120926.1141\n",
        "achi120926.1142\n",
        "achi120926.1144\n",
        "achi120926.1146\n",
        "achi120926.1147\n",
        "achi120926.1148\n",
        "achi120927.1157\n",
        "achi120927.1158\n",
        "achi120927.1159\n",
        "achi120927.1160\n",
        "achi120928.1141\n",
        "achi120928.1142\n",
        "achi120928.1143\n",
        "achi120928.1144\n",
        "achi120928.1148\n",
        "achi120928.1149\n",
        "achi120928.1150\n",
        "achi120928.1151\n",
        "achi120929.1148\n",
        "achi120929.1149\n",
        "achi120929.1150\n",
        "achi120929.1151\n",
        "achi120930.1134\n",
        "achi120930.1135\n",
        "achi120930.1136\n",
        "achi120930.1137\n",
        "achi120930.1142\n",
        "achi120930.1143\n",
        "achi120930.1144\n",
        "achi120930.1145\n",
        "achi121001.1134\n",
        "achi121001.1135\n",
        "achi121001.1136\n",
        "achi121001.1137\n",
        "achi121001.1144\n",
        "achi121001.1145\n",
        "achi121001.1146\n",
        "achi121001.1147\n",
        "achi121002.1137\n",
        "achi121002.1138\n",
        "achi121002.1139\n",
        "achi121002.1140\n",
        "achi121002.1145\n",
        "achi121002.1146\n",
        "achi121002.1147\n",
        "achi121002.1148\n",
        "achi121003.1137\n",
        "achi121003.1138\n",
        "achi121003.1139\n",
        "achi121003.1140\n",
        "achi121003.1148\n",
        "achi121003.1149\n",
        "achi121003.1150\n",
        "achi121003.1151\n",
        "achi121004.1128\n",
        "achi121004.1129\n",
        "achi121009.1129\n",
        "achi121009.1130\n",
        "achi121009.1131\n",
        "achi121009.1132\n",
        "achi121009.1136\n",
        "achi121009.1137\n",
        "achi121009.1138\n",
        "achi121009.1139\n",
        "achi121010.1129\n",
        "achi121010.1130\n",
        "achi121010.1131\n",
        "achi121010.1132\n",
        "achi121010.1133\n",
        "achi121010.1134\n",
        "achi121010.1135\n",
        "achi121010.1136\n",
        "achi121011.1131\n",
        "achi121011.1132\n",
        "achi121011.1133\n",
        "achi121011.1134\n",
        "achi121011.1137\n",
        "achi121011.1138\n",
        "achi121011.1139\n",
        "achi121011.1140\n",
        "achi121012.1127\n",
        "achi121012.1128\n",
        "achi121012.1129\n",
        "achi121012.1130\n",
        "achi121012.1133\n",
        "achi121012.1134\n",
        "achi121012.1135\n",
        "achi121012.1136\n",
        "achi121013.1129\n",
        "achi121013.1130\n",
        "achi121013.1131\n",
        "achi121013.1132\n",
        "achi121013.1133\n",
        "achi121013.1134\n",
        "achi121013.1135\n",
        "achi121013.1136\n",
        "achi121014.1127\n",
        "achi121014.1128\n",
        "achi121014.1129\n",
        "achi121014.1130\n",
        "achi121014.1131\n",
        "achi121014.1132\n",
        "achi121014.1133\n",
        "achi121014.1134\n",
        "achi121015.1129\n",
        "achi121015.1130\n",
        "achi121015.1131\n",
        "achi121015.1132\n",
        "achi121016.1131\n",
        "achi121016.1132\n",
        "achi121016.1133\n",
        "achi121016.1134\n",
        "achi121016.1135\n",
        "achi121016.1136\n",
        "achi121016.1137\n",
        "achi121016.1138\n",
        "achi121017.1132\n",
        "achi121017.1133\n",
        "achi121017.1134\n",
        "achi121017.1135\n",
        "achi121017.1136\n",
        "achi121017.1137\n",
        "achi121017.1138\n",
        "achi121017.1139\n",
        "achi121018.1125\n",
        "achi121018.1126\n",
        "achi121018.1127\n",
        "achi121018.1128\n",
        "achi121018.1132\n",
        "achi121018.1133\n",
        "achi121018.1134\n",
        "achi121019.1135\n",
        "achi121019.1136\n",
        "achi121019.1137\n",
        "achi121019.1138\n",
        "achi121019.1139\n",
        "achi121019.1140\n",
        "achi121019.1141\n",
        "achi121019.1142\n",
        "achi121020.1130\n",
        "achi121020.1131\n",
        "achi121020.1132\n",
        "achi121020.1133\n",
        "achi121022.1137\n",
        "achi121022.1138\n",
        "achi121022.1139\n",
        "achi121022.1140\n",
        "achi121022.1144\n",
        "achi121022.1145\n",
        "achi121022.1146\n",
        "achi121022.1147\n",
        "achi121023.1129\n",
        "achi121023.1130\n",
        "achi121023.1131\n",
        "achi121023.1132\n",
        "achi121023.1133\n",
        "achi121023.1134\n",
        "achi121023.1135\n",
        "achi121023.1136\n",
        "achi121024.1129\n",
        "achi121024.1130\n",
        "achi121024.1131\n",
        "achi121024.1132\n",
        "achi121025.1128\n",
        "achi121025.1130\n",
        "achi121025.1131\n",
        "achi121025.1132\n",
        "achi121025.1133\n",
        "achi121025.1134\n",
        "achi121025.1135\n",
        "achi121028.1130\n",
        "achi121028.1131\n",
        "achi121028.1132\n",
        "achi121028.1133\n",
        "achi121028.1140\n",
        "achi121028.1141\n",
        "achi121028.1142\n",
        "achi121028.1143\n",
        "achi121029.1129\n",
        "achi121029.1130\n",
        "achi121029.1131\n",
        "achi121029.1132\n",
        "achi121029.1133\n",
        "achi121029.1134\n",
        "achi121029.1135\n",
        "achi121029.1136\n",
        "achi121030.1120\n",
        "achi121030.1121\n",
        "achi121030.1122\n",
        "achi121030.1123\n",
        "achi121030.1124\n",
        "achi121030.1125\n",
        "achi121030.1126\n",
        "achi121030.1127\n",
        "achi121031.1129\n",
        "achi121031.1130\n",
        "achi121031.1131\n",
        "achi121031.1132\n",
        "achi121031.1133\n",
        "achi121031.1134\n",
        "achi121031.1135\n",
        "achi121031.1136\n",
        "achi121101.1129\n",
        "achi121101.1130\n",
        "achi121101.1131\n",
        "achi121101.1132\n",
        "achi121101.1133\n",
        "achi121101.1134\n",
        "achi121101.1135\n",
        "achi121101.1136\n",
        "achi121102.1130\n",
        "achi121102.1131\n",
        "achi121102.1132\n",
        "achi121102.1133\n",
        "achi121103.1134\n",
        "achi121103.1135\n",
        "achi121103.1136\n",
        "achi121103.1137\n",
        "achi121104.1135\n",
        "achi121104.1136\n",
        "achi121104.1137\n",
        "achi121104.1138\n",
        "achi121105.1130\n",
        "achi121105.1131\n",
        "achi121105.1132\n",
        "achi121105.1133\n",
        "achi121105.1134\n",
        "achi121105.1135\n",
        "achi121105.1136\n",
        "achi121105.1137\n",
        "achi121106.1127\n",
        "achi121106.1128\n",
        "achi121106.1129\n",
        "achi121106.1130\n",
        "achi121106.1131\n",
        "achi121106.1132\n",
        "achi121106.1133\n",
        "achi121106.1134\n",
        "achi121107.1132\n",
        "achi121107.1133\n",
        "achi121107.1134\n",
        "achi121107.1135\n",
        "achi121109.1134\n",
        "achi121109.1135\n",
        "achi121109.1136\n",
        "achi121109.1137\n",
        "achi121110.1134\n",
        "achi121110.1135\n",
        "achi121110.1136\n",
        "achi121110.1137\n",
        "achi121111.1130\n",
        "achi121111.1131\n",
        "achi121111.1132\n",
        "achi121111.1133\n",
        "achi121112.1128\n",
        "achi121112.1129\n",
        "achi121112.1130\n",
        "achi121112.1131\n",
        "achi121113.1129\n",
        "achi121113.1130\n",
        "achi121113.1131\n",
        "achi121113.1132\n",
        "achi121116.1130\n",
        "achi121116.1131\n",
        "achi121116.1132\n",
        "achi121116.1133\n",
        "achi121117.1130\n",
        "achi121117.1131\n",
        "achi121118.1134\n",
        "achi121118.1135\n",
        "achi121118.1136\n",
        "achi121118.1137\n",
        "achi121119.1128\n",
        "achi121119.1129\n",
        "achi121119.1130\n",
        "achi121119.1131\n",
        "achi121121.1130\n",
        "achi121121.1131\n",
        "achi121121.1132\n",
        "achi121121.1133\n",
        "achi121122.1129\n",
        "achi121122.1130\n",
        "achi121122.1131\n",
        "achi121122.1132\n",
        "achi121124.1133\n",
        "achi121124.1134\n",
        "achi121124.1135\n",
        "achi121124.1136\n",
        "achi121125.1130\n",
        "achi121125.1131\n",
        "achi121125.1132\n",
        "achi121125.1133\n",
        "achi121127.1126\n",
        "achi121127.1127\n",
        "achi121127.1128\n",
        "achi121127.1129\n",
        "achi121130.1125\n",
        "achi121130.1126\n",
        "achi121130.1127\n",
        "achi121130.1128\n",
        "achi121201.1120\n",
        "achi121201.1121\n",
        "achi121201.1122\n",
        "achi121201.1123\n",
        "achi121202.1118\n",
        "achi121202.1119\n",
        "achi121202.1120\n",
        "achi121202.1121\n",
        "achi121203.1121\n",
        "achi121203.1122\n",
        "achi121203.1123\n",
        "achi121203.1124\n",
        "achi121204.1118\n",
        "achi121204.1119\n",
        "achi121204.1120\n",
        "achi121204.1121\n",
        "achi121206.1117\n",
        "achi121206.1118\n",
        "achi121206.1119\n",
        "achi121206.1120\n",
        "achi121207.1119\n",
        "achi121207.1120\n",
        "achi121207.1121\n",
        "achi121208.1115\n",
        "achi121208.1116\n",
        "achi121208.1117\n",
        "achi121208.1118\n",
        "achi121209.1120\n",
        "achi121209.1121\n",
        "achi121209.1122\n",
        "achi121209.1123\n",
        "achi121214.1115\n",
        "achi121214.1119\n",
        "achi121214.1122\n",
        "achi121214.1129\n",
        "achi121215.1114\n",
        "achi121215.1116\n",
        "achi121215.1120\n",
        "achi121215.1124\n",
        "achi121216.1114\n",
        "achi121216.1118\n",
        "achi121216.1121\n",
        "achi121216.1127\n",
        "achi121217.1114\n",
        "achi121217.1119\n",
        "achi121217.1123\n",
        "achi121217.1126\n",
        "achi121218.1114\n",
        "achi121218.1118\n",
        "achi121220.1114\n",
        "achi121220.1119\n",
        "achi121220.1125\n",
        "achi121220.1126\n",
        "achi121221.1116\n",
        "achi121221.1123\n",
        "achi121221.1126\n",
        "achi121221.1137\n",
        "achi121222.1114\n",
        "achi121222.1120\n",
        "achi121222.1123\n",
        "achi121222.1127\n",
        "achi121223.1114\n",
        "achi121223.1119\n",
        "achi121223.1128\n",
        "achi121226.1114\n",
        "achi121226.1119\n",
        "achi121226.1128\n",
        "achi121227.1114\n",
        "achi121227.1118\n",
        "achi121227.1122\n",
        "achi121227.1126\n",
        "achi121228.1114\n",
        "achi121228.1120\n",
        "achi121228.1123\n",
        "achi121228.1130\n",
        "achi121229.1114\n",
        "achi121229.1119\n",
        "achi121229.1128\n",
        "achi130102.1117\n",
        "achi130102.1121\n",
        "achi130102.1124\n",
        "achi130103.1119\n",
        "achi130103.1120\n",
        "achi130103.1124\n",
        "achi130103.1125\n",
        "achi130104.1114\n",
        "achi130104.1119\n",
        "achi130105.1114\n",
        "achi130105.1118\n",
        "achi130105.1122\n",
        "achi130105.1126\n",
        "achi130106.1114\n",
        "achi130106.1117\n",
        "achi130106.1121\n",
        "achi130106.1124\n",
        "achi130111.1114\n",
        "achi130111.1121\n",
        "achi130111.1124\n",
        "achi130111.1125\n",
        "achi130112.1114\n",
        "achi130112.1118\n",
        "achi130112.1121\n",
        "achi130114.1114\n",
        "achi130114.1121\n",
        "achi130114.1124\n",
        "achi130115.1114\n",
        "achi130115.1117\n",
        "achi130116.1114\n",
        "achi130116.1121\n",
        "achi130117.1114\n",
        "achi130117.1118\n",
        "achi130118.1114\n",
        "achi130118.1118\n",
        "achi130118.1121\n",
        "achi130119.1114\n",
        "achi130119.1117\n",
        "achi130121.1114\n",
        "achi130121.1115\n",
        "achi130121.1119\n",
        "achi130123.1115\n",
        "achi130123.1116\n",
        "achi130123.1118\n",
        "achi130123.1119\n",
        "achi130124.1114\n",
        "achi130124.1115\n",
        "achi130124.1117\n",
        "achi130124.1118\n",
        "achi130125.1114\n",
        "achi130125.1115\n",
        "achi130125.1117\n",
        "achi130125.1118\n",
        "achi130126.1114\n",
        "achi130126.1115\n",
        "achi130126.1119\n",
        "achi130126.1120\n",
        "achi130128.1116\n",
        "achi130128.1117\n",
        "achi130128.1120\n",
        "achi130129.1114\n",
        "achi130129.1115\n",
        "achi130129.1117\n",
        "achi130130.1114\n",
        "achi130130.1115\n",
        "achi130130.1117\n",
        "achi130204.1114\n",
        "achi130204.1115\n",
        "achi130204.1116\n",
        "achi130204.1117\n",
        "achi130204.1118\n",
        "achi130205.1114\n",
        "achi130205.1115\n",
        "achi130205.1116\n",
        "achi130205.1117\n",
        "achi130205.1118\n",
        "achi130206.1119\n",
        "achi130206.1120\n",
        "achi130206.1121\n",
        "achi130206.1122\n",
        "achi130207.1119\n",
        "achi130207.1120\n",
        "achi130207.1121\n",
        "achi130207.1122\n",
        "achi130208.1119\n",
        "achi130208.1120\n",
        "achi130208.1121\n",
        "achi130208.1122\n",
        "achi130208.1123\n",
        "achi130212.1119\n",
        "achi130212.1120\n",
        "achi130212.1121\n",
        "achi130212.1122\n",
        "achi130601.1296\n",
        "achi130601.1297\n",
        "achi130604.1156\n",
        "achi130604.1158\n",
        "achi130613.1129\n",
        "achi130613.1132\n",
        "achi130614.1180\n",
        "achi130614.1183\n",
        "achi130616.1202\n",
        "achi130618.1135\n",
        "achi130628.1162\n",
        "achi130628.1164\n",
        "achi130629.1135\n",
        "achi130629.1137\n",
        "achi130701.1164\n",
        "achi130701.1167\n",
        "achi130702.1147\n",
        "achi130702.1151\n",
        "achi130703.1162\n",
        "achi130703.1168\n",
        "achi130706.1150\n",
        "achi130707.1152\n",
        "achi130707.1159\n",
        "achi130708.1128\n",
        "achi130708.1133\n",
        "achi130711.1133\n",
        "achi130711.1138\n",
        "achi130712.1144\n",
        "achi130712.1146\n",
        "achi130712.1155\n",
        "achi130712.1156\n",
        "achi130713.1142\n",
        "achi130713.1153\n",
        "achi130713.1168\n",
        "achi130714.1140\n",
        "achi130714.1154\n",
        "achi130714.1159\n",
        "achi130718.1146\n",
        "achi130718.1150\n",
        "achi130722.1140\n",
        "achi130722.1145\n",
        "achi130722.1148\n",
        "achi130722.1151\n",
        "achi130723.1139\n",
        "achi130723.1143\n",
        "achi130724.1141\n",
        "achi130724.1145\n",
        "achi130724.1152\n",
        "achi130726.1129\n",
        "achi130726.1137\n",
        "achi130726.1140\n",
        "achi130727.1135\n",
        "achi130727.1136\n",
        "achi130727.1145\n",
        "achi130728.1134\n",
        "achi130728.1136\n",
        "achi130730.1129\n",
        "achi130730.1130\n",
        "achi130730.1139\n",
        "achi130731.1134\n",
        "achi130731.1142\n",
        "achi130801.1137\n",
        "achi130801.1146\n",
        "achi130801.1148\n",
        "achi130803.1129\n",
        "achi130803.1140\n",
        "achi130804.1133\n",
        "achi130804.1136\n",
        "achi130804.1142\n",
        "achi130804.1143\n",
        "achi130804.1144\n",
        "achi130804.1145\n",
        "achi130805.1138\n",
        "achi130805.1139\n",
        "achi130805.1143\n",
        "achi130805.1144\n",
        "achi130805.1149\n",
        "achi130806.1138\n",
        "achi130806.1139\n",
        "achi130807.1128\n",
        "achi130807.1129\n",
        "achi130807.1130\n",
        "achi130808.1155\n",
        "achi130808.1165\n",
        "achi130809.1158\n",
        "achi130809.1180\n",
        "achi130810.1127\n",
        "achi130810.1135\n",
        "achi130811.1129\n",
        "achi130811.1132\n",
        "achi130811.1136\n",
        "achi130811.1137\n",
        "achi130811.1140\n",
        "achi130811.1144\n",
        "achi130811.1145\n",
        "achi130812.1126\n",
        "achi130812.1138\n",
        "achi130812.1147\n",
        "achi130812.1148\n",
        "achi130813.1132\n",
        "achi130813.1141\n",
        "achi130813.1146\n",
        "achi130813.1147\n",
        "achi130813.1154\n",
        "achi130813.1155\n",
        "achi130813.1156\n",
        "achi130814.1133\n",
        "achi130814.1143\n",
        "achi130814.1146\n",
        "achi130814.1147\n",
        "achi130814.1152\n",
        "achi130815.1128\n",
        "achi130815.1139\n",
        "achi130815.1149\n",
        "achi130816.1131\n",
        "achi130816.1136\n",
        "achi130816.1137\n",
        "achi130816.1149\n",
        "achi130816.1154\n",
        "achi130817.1135\n",
        "achi130817.1141\n",
        "achi130817.1147\n",
        "achi130817.1161\n",
        "achi130818.1134\n",
        "achi130818.1138\n",
        "achi130818.1144\n",
        "achi130818.1152\n",
        "achi130819.1135\n",
        "achi130819.1143\n",
        "achi130819.1150\n",
        "achi130819.1156\n",
        "achi130820.1129\n",
        "achi130820.1134\n",
        "achi130820.1144\n",
        "achi130820.1151\n",
        "achi130821.1120\n",
        "achi130821.1125\n",
        "achi130821.1134\n",
        "achi130821.1140\n",
        "achi130824.1133\n",
        "achi130824.1140\n",
        "achi130824.1148\n",
        "achi130824.1164\n",
        "achi130825.1130\n",
        "achi130825.1147\n",
        "achi130825.1156\n",
        "achi130826.1129\n",
        "achi130826.1138\n",
        "achi130826.1147\n",
        "achi130827.1149\n",
        "achi130827.1158\n",
        "achi130827.1169\n",
        "achi130828.1134\n",
        "achi130828.1142\n",
        "achi130828.1155\n",
        "achi130901.1133\n",
        "achi130901.1149\n",
        "achi130901.1159\n",
        "achi130901.1160\n",
        "achi130902.1140\n",
        "achi130902.1156\n",
        "achi130902.1167\n",
        "achi130903.1126\n",
        "achi130903.1138\n",
        "achi130903.1149\n",
        "achi130904.1144\n",
        "achi130905.1299\n",
        "achi130907.1016\n",
        "achi130907.1023\n",
        "achi130907.1039\n",
        "achi130908.1130\n",
        "achi130908.1136\n",
        "achi130908.1145\n",
        "achi130908.1154\n",
        "achi130909.1124\n",
        "achi130909.1138\n",
        "achi130909.1145\n",
        "achi130909.1154\n",
        "achi130910.1124\n",
        "achi130910.1137\n",
        "achi130910.1146\n",
        "achi130910.1154\n",
        "achi130911.1135\n",
        "achi130911.1139\n",
        "achi130912.1135\n",
        "achi130912.1139\n",
        "achi130914.1138\n",
        "achi130914.1141\n",
        "achi130914.1143\n",
        "achi130914.1144\n",
        "achi130914.1147\n",
        "achi130915.1126\n",
        "achi130915.1131\n",
        "achi130915.1135\n",
        "achi130915.1144\n",
        "achi130917.1121\n",
        "achi130918.1137\n",
        "achi130918.1143\n",
        "achi130918.1158\n",
        "achi130919.1143\n",
        "achi130919.1150\n",
        "achi130919.1155\n",
        "achi130920.1141\n",
        "achi130920.1142\n",
        "achi130920.1166\n",
        "achi130920.1167\n",
        "achi130921.1132\n",
        "achi130921.1133\n",
        "achi130921.1134\n",
        "achi130921.1135\n",
        "achi130921.1136\n",
        "achi130921.1137\n",
        "achi130922.1119\n",
        "achi130922.1120\n",
        "achi130922.1129\n",
        "achi130922.1130\n",
        "achi130922.1137\n",
        "achi130922.1138\n",
        "achi130922.1140\n",
        "achi130922.1141\n",
        "achi130923.1120\n",
        "achi130923.1121\n",
        "achi130923.1125\n",
        "achi130923.1126\n",
        "achi130923.1132\n",
        "achi130923.1133\n",
        "achi130923.1134\n",
        "achi130923.1135\n",
        "achi130924.1122\n",
        "achi130924.1123\n",
        "achi130924.1130\n",
        "achi130924.1131\n",
        "achi130924.1136\n",
        "achi130924.1137\n",
        "achi130924.1145\n",
        "achi130924.1146\n",
        "achi130925.1125\n",
        "achi130925.1126\n",
        "achi130925.1130\n",
        "achi130925.1131\n",
        "achi130925.1136\n",
        "achi130925.1137\n",
        "achi130926.1132\n",
        "achi130926.1133\n",
        "achi130926.1135\n",
        "achi130926.1136\n",
        "achi130926.1139\n",
        "achi130926.1140\n",
        "achi130927.1124\n",
        "achi130927.1125\n",
        "achi130927.1127\n",
        "achi130927.1128\n",
        "achi130927.1137\n",
        "achi130927.1138\n",
        "achi130927.1147\n",
        "achi130927.1148\n",
        "achi130928.1135\n",
        "achi130928.1140\n",
        "achi130928.1141\n",
        "achi130928.1149\n",
        "achi130928.1150\n",
        "achi130929.1121\n",
        "achi130929.1122\n",
        "achi130929.1130\n",
        "achi130929.1131\n",
        "achi131001.1133\n",
        "achi131001.1134\n",
        "achi131001.1144\n",
        "achi131001.1145\n",
        "achi131002.1131\n",
        "achi131002.1132\n",
        "achi131002.1133\n",
        "achi131002.1134\n",
        "achi131002.1138\n",
        "achi131002.1139\n",
        "achi131003.1127\n",
        "achi131003.1128\n",
        "achi131003.1129\n",
        "achi131003.1130\n",
        "achi131003.1131\n",
        "achi131003.1132\n",
        "achi131003.1133\n",
        "achi131003.1136\n",
        "achi131003.1137\n",
        "achi131003.1147\n",
        "achi131003.1148\n",
        "achi131004.1297\n",
        "achi131004.1298\n",
        "achi131004.1303\n",
        "achi131004.1305\n",
        "achi131006.1124\n",
        "achi131006.1126\n",
        "achi131006.1133\n",
        "achi131006.1134\n",
        "achi131006.1136\n",
        "achi131006.1137\n",
        "achi131007.1121\n",
        "achi131007.1123\n",
        "achi131009.1126\n",
        "achi131009.1128\n",
        "achi131011.1125\n",
        "achi131011.1127\n",
        "achi131011.1128\n",
        "achi131012.1124\n",
        "achi131012.1126\n",
        "achi131014.1126\n",
        "achi131014.1128\n",
        "achi131015.1128\n",
        "achi131015.1130\n",
        "achi131016.1124\n",
        "achi131016.1126\n",
        "achi131017.1123\n",
        "achi131017.1125\n",
        "achi131018.1131\n",
        "achi131018.1132\n",
        "achi131019.1123\n",
        "achi131019.1125\n",
        "achi131025.1126\n",
        "achi131025.1128\n",
        "achi131026.1121\n",
        "achi131026.1123\n",
        "achi131028.1120\n",
        "achi131028.1125\n",
        "achi131029.1120\n",
        "achi131029.1122\n",
        "achi131103.1120\n",
        "achi131103.1122\n",
        "achi131104.1120\n",
        "achi131104.1122\n",
        "achi131106.1120\n",
        "achi131106.1122\n",
        "achi131107.1120\n",
        "achi131107.1122\n",
        "achi131109.1123\n",
        "achi131109.1125\n",
        "achi131110.1120\n",
        "achi131110.1122\n",
        "achi131112.1120\n",
        "achi131112.1122\n",
        "achi131113.1121\n",
        "achi131114.1125\n",
        "achi131114.1135\n",
        "achi131115.1119\n",
        "achi131115.1121\n",
        "achi131116.1121\n",
        "achi131116.1123\n",
        "achi131118.1123\n",
        "achi131119.1121\n",
        "achi131119.1127\n",
        "achi131121.1273\n",
        "achi131122.1119\n",
        "achi131123.1119\n",
        "achi131123.1121\n",
        "achi131124.1119\n",
        "achi131124.1124\n",
        "achi131125.1119\n",
        "achi131125.1121\n",
        "achi131129.1124\n",
        "achi131129.1126\n",
        "achi131130.1119\n",
        "achi131130.1121\n",
        "achi131201.1127\n",
        "achi131203.1119\n",
        "achi131203.1121\n",
        "achi131204.1119\n",
        "achi131206.1119\n",
        "achi131206.1121\n",
        "achi131209.1119\n",
        "achi131209.1121\n",
        "achi131210.1119\n",
        "achi131210.1121\n",
        "achi131212.1122\n",
        "achi131212.1124\n",
        "achi131213.1119\n",
        "achi131213.1121\n",
        "achi131214.1119\n",
        "achi131214.1121\n",
        "achi131215.1119\n",
        "achi131216.1120\n",
        "achi131216.1122\n",
        "achi131218.1119\n",
        "achi131220.1119\n",
        "achi131220.1121\n"
       ]
      }
     ],
     "prompt_number": 85
    },
    {
     "cell_type": "code",
     "collapsed": false,
     "input": [
      "conn.close()"
     ],
     "language": "python",
     "metadata": {},
     "outputs": []
    },
    {
     "cell_type": "code",
     "collapsed": false,
     "input": [
      "cur.execute(\"SELECT o.obnm, t.obnm, o.object, o.iodcell FROM observations as o LEFT JOIN tempObnms as t ON t.obnm=o.obnm WHERE t.obnm IS NULL AND o.object='10700' AND o.iodcell='IN' AND EXTRACT(YEAR FROM o.date_obs) < 2014\")\n",
      "print(cur.fetchall())"
     ],
     "language": "python",
     "metadata": {},
     "outputs": [
      {
       "output_type": "stream",
       "stream": "stdout",
       "text": [
        "(('achi120606.1193', None, '10700', 'IN'), ('achi120606.1194', None, '10700', 'IN'), ('achi120612.1122', None, '10700', 'IN'), ('achi120615.1160', None, '10700', 'IN'), ('achi120619.0166', None, '10700', 'IN'), ('achi120619.0167', None, '10700', 'IN'), ('achi120619.0168', None, '10700', 'IN'), ('achi120619.0169', None, '10700', 'IN'), ('achi120621.1152', None, '10700', 'IN'), ('achi120621.1153', None, '10700', 'IN'), ('achi120621.1154', None, '10700', 'IN'), ('achi120621.1156', None, '10700', 'IN'), ('achi120621.1157', None, '10700', 'IN'), ('achi120621.1158', None, '10700', 'IN'), ('achi120622.1158', None, '10700', 'IN'), ('achi120622.1159', None, '10700', 'IN'), ('achi120622.1160', None, '10700', 'IN'), ('achi120622.1161', None, '10700', 'IN'), ('achi120622.1162', None, '10700', 'IN'), ('achi120622.1163', None, '10700', 'IN'), ('achi120623.1153', None, '10700', 'IN'), ('achi120623.1154', None, '10700', 'IN'), ('achi120623.1155', None, '10700', 'IN'), ('achi120623.1156', None, '10700', 'IN'), ('achi120623.1157', None, '10700', 'IN'), ('achi120624.1147', None, '10700', 'IN'), ('achi120624.1148', None, '10700', 'IN'), ('achi120624.1149', None, '10700', 'IN'), ('achi120624.1150', None, '10700', 'IN'), ('achi120624.1151', None, '10700', 'IN'), ('achi120624.1152', None, '10700', 'IN'), ('achi120625.1145', None, '10700', 'IN'), ('achi120625.1146', None, '10700', 'IN'), ('achi120625.1147', None, '10700', 'IN'), ('achi120625.1148', None, '10700', 'IN'), ('achi120625.1149', None, '10700', 'IN'), ('achi120625.1150', None, '10700', 'IN'), ('achi120626.1165', None, '10700', 'IN'), ('achi120626.1166', None, '10700', 'IN'), ('achi120626.1167', None, '10700', 'IN'), ('achi120626.1168', None, '10700', 'IN'), ('achi120626.1169', None, '10700', 'IN'), ('achi120626.1170', None, '10700', 'IN'), ('achi120630.1142', None, '10700', 'IN'), ('achi120630.1143', None, '10700', 'IN'), ('achi120630.1144', None, '10700', 'IN'), ('achi120630.1145', None, '10700', 'IN'), ('achi120630.1146', None, '10700', 'IN'), ('achi120630.1147', None, '10700', 'IN'), ('achi120715.1150', None, '10700', 'IN'), ('achi120715.1151', None, '10700', 'IN'), ('achi120715.1152', None, '10700', 'IN'), ('achi120715.1153', None, '10700', 'IN'), ('achi120715.1154', None, '10700', 'IN'), ('achi120715.1155', None, '10700', 'IN'), ('achi120807.1168', None, '10700', 'IN'), ('achi120810.1150', None, '10700', 'IN'), ('achi120810.1151', None, '10700', 'IN'), ('achi120810.1152', None, '10700', 'IN'), ('achi120810.1153', None, '10700', 'IN'), ('achi120810.1154', None, '10700', 'IN'), ('achi120810.1155', None, '10700', 'IN'), ('achi120810.1156', None, '10700', 'IN'), ('achi120810.1157', None, '10700', 'IN'), ('achi120810.1158', None, '10700', 'IN'), ('achi120810.1159', None, '10700', 'IN'), ('achi120810.1160', None, '10700', 'IN'), ('achi120810.1161', None, '10700', 'IN'), ('achi120810.1165', None, '10700', 'IN'), ('achi120810.1166', None, '10700', 'IN'), ('achi120810.1167', None, '10700', 'IN'), ('achi120810.1168', None, '10700', 'IN'), ('achi120811.1168', None, '10700', 'IN'), ('achi120811.1170', None, '10700', 'IN'), ('achi120811.1175', None, '10700', 'IN'), ('achi120820.1155', None, '10700', 'IN'), ('achi120820.1158', None, '10700', 'IN'), ('achi120926.1145', None, '10700', 'IN'), ('achi121025.1129', None, '10700', 'IN'), ('achi121115.1136', None, '10700', 'IN'), ('achi121115.1137', None, '10700', 'IN'), ('achi121115.1138', None, '10700', 'IN'), ('achi121115.1139', None, '10700', 'IN'), ('achi121207.1118', None, '10700', 'IN'), ('achi130207.1123', None, '10700', 'IN'), ('achi130208.1124', None, '10700', 'IN'), ('achi130214.1119', None, '10700', 'IN'), ('achi130715.1144', None, '10700', 'IN'), ('achi130715.1149', None, '10700', 'IN'), ('achi130731.1130', None, '10700', 'IN'), ('achi130802.1137', None, '10700', 'IN'), ('achi130806.1141', None, '10700', 'IN'), ('achi130806.1143', None, '10700', 'IN'), ('achi130810.1142', None, '10700', 'IN'), ('achi130810.1143', None, '10700', 'IN'), ('achi130815.1144', None, '10700', 'IN'), ('achi130815.1145', None, '10700', 'IN'), ('achi130816.1148', None, '10700', 'IN'), ('achi130829.1132', None, '10700', 'IN'), ('achi130829.1141', None, '10700', 'IN'), ('achi130829.1145', None, '10700', 'IN'), ('achi130830.1129', None, '10700', 'IN'), ('achi130830.1137', None, '10700', 'IN'), ('achi130830.1148', None, '10700', 'IN'), ('achi130831.1133', None, '10700', 'IN'), ('achi130904.1131', None, '10700', 'IN'), ('achi131024.1124', None, '10700', 'IN'), ('achi131113.1119', None, '10700', 'IN'), ('achi131118.1121', None, '10700', 'IN'), ('achi131120.1273', None, '10700', 'IN'), ('achi131201.1125', None, '10700', 'IN'), ('achi131201.1126', None, '10700', 'IN'), ('achi131204.1121', None, '10700', 'IN'), ('achi131215.1121', None, '10700', 'IN'), ('achi131221.1119', None, '10700', 'IN'), ('achi131221.1121', None, '10700', 'IN'), ('achi131222.1119', None, '10700', 'IN'), ('achi131222.1121', None, '10700', 'IN'), ('achi131228.1119', None, '10700', 'IN'), ('achi131228.1121', None, '10700', 'IN'))\n"
       ]
      }
     ],
     "prompt_number": 58
    }
   ],
   "metadata": {}
  }
 ]
}