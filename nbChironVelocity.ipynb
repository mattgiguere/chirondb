{
 "metadata": {
  "name": "",
  "signature": "sha256:62b73301e86d564d38895d554792a6162d44bc9ed5780d3d6d1d827baf709daa"
 },
 "nbformat": 3,
 "nbformat_minor": 0,
 "worksheets": [
  {
   "cells": [
    {
     "cell_type": "heading",
     "level": 3,
     "metadata": {},
     "source": [
      "CHIRON Velocity Notebook"
     ]
    },
    {
     "cell_type": "markdown",
     "metadata": {},
     "source": [
      "This notebook debugs the code necessary to run the chironVelocity.py routine. chironVelocity.py reads in a vst, stores it as a pandas DataFrame, and the writes it to the chiron MySQL database."
     ]
    },
    {
     "cell_type": "code",
     "collapsed": false,
     "input": [
      "import sys\n",
      "import argparse\n",
      "\n",
      "try:\n",
      "    from idlToPandas import *\n",
      "except:\n",
      "    print(\"You need to install idlToPandas\")\n",
      "    sys.exit(1)\n",
      "\n",
      "try:\n",
      "    import pymysql\n",
      "except:\n",
      "    print('You need pymysql installed')\n",
      "    sys.exit(1)\n"
     ],
     "language": "python",
     "metadata": {},
     "outputs": [],
     "prompt_number": 3
    },
    {
     "cell_type": "code",
     "collapsed": false,
     "input": [],
     "language": "python",
     "metadata": {},
     "outputs": [],
     "prompt_number": 5
    },
    {
     "cell_type": "code",
     "collapsed": false,
     "input": [],
     "language": "python",
     "metadata": {},
     "outputs": []
    }
   ],
   "metadata": {}
  }
 ]
}